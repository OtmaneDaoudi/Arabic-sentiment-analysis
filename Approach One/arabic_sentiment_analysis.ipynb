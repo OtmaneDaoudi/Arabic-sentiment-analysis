{
  "cells": [
    {
      "attachments": {},
      "cell_type": "markdown",
      "metadata": {
        "colab_type": "text",
        "id": "view-in-github"
      },
      "source": [
        "<a href=\"https://colab.research.google.com/github/OtmaneDaoudi/Arabic-sentiment-analysis/blob/main/arabic_sentiment_analysis.ipynb\" target=\"_parent\"><img src=\"https://colab.research.google.com/assets/colab-badge.svg\" alt=\"Open In Colab\"/></a>"
      ]
    },
    {
      "attachments": {},
      "cell_type": "markdown",
      "metadata": {
        "id": "YCMH2OjBGA8u"
      },
      "source": [
        "# Installing dependencies"
      ]
    },
    {
      "cell_type": "code",
      "execution_count": 2,
      "metadata": {
        "colab": {
          "base_uri": "https://localhost:8080/"
        },
        "id": "6BqPG4jsGF8m",
        "outputId": "71519abe-6ccb-4059-c163-edb45164bcbe"
      },
      "outputs": [
        {
          "name": "stdout",
          "output_type": "stream",
          "text": [
            "Requirement already satisfied: emoji in c:\\python311\\lib\\site-packages (2.10.1)\n"
          ]
        },
        {
          "name": "stderr",
          "output_type": "stream",
          "text": [
            "\n",
            "[notice] A new release of pip is available: 23.1.2 -> 24.0\n",
            "[notice] To update, run: python.exe -m pip install --upgrade pip\n"
          ]
        },
        {
          "name": "stdout",
          "output_type": "stream",
          "text": [
            "Requirement already satisfied: Arabic-Stopwords in c:\\python311\\lib\\site-packages (0.4.3)\n",
            "Requirement already satisfied: pyarabic>=0.6.2 in c:\\python311\\lib\\site-packages (from Arabic-Stopwords) (0.6.15)\n",
            "Requirement already satisfied: six>=1.14.0 in c:\\python311\\lib\\site-packages (from pyarabic>=0.6.2->Arabic-Stopwords) (1.16.0)\n"
          ]
        },
        {
          "name": "stderr",
          "output_type": "stream",
          "text": [
            "\n",
            "[notice] A new release of pip is available: 23.1.2 -> 24.0\n",
            "[notice] To update, run: python.exe -m pip install --upgrade pip\n"
          ]
        },
        {
          "name": "stdout",
          "output_type": "stream",
          "text": [
            "Requirement already satisfied: seaborn in c:\\python311\\lib\\site-packages (0.13.1)\n",
            "Requirement already satisfied: numpy!=1.24.0,>=1.20 in c:\\python311\\lib\\site-packages (from seaborn) (1.24.3)\n",
            "Requirement already satisfied: pandas>=1.2 in c:\\python311\\lib\\site-packages (from seaborn) (2.0.2)\n",
            "Requirement already satisfied: matplotlib!=3.6.1,>=3.4 in c:\\python311\\lib\\site-packages (from seaborn) (3.8.0)\n",
            "Requirement already satisfied: contourpy>=1.0.1 in c:\\python311\\lib\\site-packages (from matplotlib!=3.6.1,>=3.4->seaborn) (1.2.0)\n",
            "Requirement already satisfied: cycler>=0.10 in c:\\python311\\lib\\site-packages (from matplotlib!=3.6.1,>=3.4->seaborn) (0.12.1)\n",
            "Requirement already satisfied: fonttools>=4.22.0 in c:\\python311\\lib\\site-packages (from matplotlib!=3.6.1,>=3.4->seaborn) (4.43.1)\n",
            "Requirement already satisfied: kiwisolver>=1.0.1 in c:\\python311\\lib\\site-packages (from matplotlib!=3.6.1,>=3.4->seaborn) (1.4.5)\n",
            "Requirement already satisfied: packaging>=20.0 in c:\\python311\\lib\\site-packages (from matplotlib!=3.6.1,>=3.4->seaborn) (23.2)\n",
            "Requirement already satisfied: pillow>=6.2.0 in c:\\python311\\lib\\site-packages (from matplotlib!=3.6.1,>=3.4->seaborn) (9.5.0)\n",
            "Requirement already satisfied: pyparsing>=2.3.1 in c:\\python311\\lib\\site-packages (from matplotlib!=3.6.1,>=3.4->seaborn) (3.1.1)\n",
            "Requirement already satisfied: python-dateutil>=2.7 in c:\\python311\\lib\\site-packages (from matplotlib!=3.6.1,>=3.4->seaborn) (2.8.2)\n",
            "Requirement already satisfied: pytz>=2020.1 in c:\\python311\\lib\\site-packages (from pandas>=1.2->seaborn) (2023.3.post1)\n",
            "Requirement already satisfied: tzdata>=2022.1 in c:\\python311\\lib\\site-packages (from pandas>=1.2->seaborn) (2023.4)\n",
            "Requirement already satisfied: six>=1.5 in c:\\python311\\lib\\site-packages (from python-dateutil>=2.7->matplotlib!=3.6.1,>=3.4->seaborn) (1.16.0)\n"
          ]
        },
        {
          "name": "stderr",
          "output_type": "stream",
          "text": [
            "\n",
            "[notice] A new release of pip is available: 23.1.2 -> 24.0\n",
            "[notice] To update, run: python.exe -m pip install --upgrade pip\n"
          ]
        },
        {
          "name": "stdout",
          "output_type": "stream",
          "text": [
            "Requirement already satisfied: matplotlib in c:\\python311\\lib\\site-packages (3.8.0)\n",
            "Requirement already satisfied: contourpy>=1.0.1 in c:\\python311\\lib\\site-packages (from matplotlib) (1.2.0)\n",
            "Requirement already satisfied: cycler>=0.10 in c:\\python311\\lib\\site-packages (from matplotlib) (0.12.1)\n",
            "Requirement already satisfied: fonttools>=4.22.0 in c:\\python311\\lib\\site-packages (from matplotlib) (4.43.1)\n",
            "Requirement already satisfied: kiwisolver>=1.0.1 in c:\\python311\\lib\\site-packages (from matplotlib) (1.4.5)\n",
            "Requirement already satisfied: numpy<2,>=1.21 in c:\\python311\\lib\\site-packages (from matplotlib) (1.24.3)\n",
            "Requirement already satisfied: packaging>=20.0 in c:\\python311\\lib\\site-packages (from matplotlib) (23.2)\n",
            "Requirement already satisfied: pillow>=6.2.0 in c:\\python311\\lib\\site-packages (from matplotlib) (9.5.0)\n",
            "Requirement already satisfied: pyparsing>=2.3.1 in c:\\python311\\lib\\site-packages (from matplotlib) (3.1.1)\n",
            "Requirement already satisfied: python-dateutil>=2.7 in c:\\python311\\lib\\site-packages (from matplotlib) (2.8.2)\n",
            "Requirement already satisfied: six>=1.5 in c:\\python311\\lib\\site-packages (from python-dateutil>=2.7->matplotlib) (1.16.0)\n"
          ]
        },
        {
          "name": "stderr",
          "output_type": "stream",
          "text": [
            "\n",
            "[notice] A new release of pip is available: 23.1.2 -> 24.0\n",
            "[notice] To update, run: python.exe -m pip install --upgrade pip\n"
          ]
        }
      ],
      "source": [
        "!pip install emoji\n",
        "!pip install Arabic-Stopwords\n",
        "!pip install seaborn\n",
        "!pip install matplotlib\n",
        "!pip install soyclustering"
      ]
    },
    {
      "attachments": {},
      "cell_type": "markdown",
      "metadata": {
        "id": "KUh0GecqEErv"
      },
      "source": [
        "# Libs imports"
      ]
    },
    {
      "cell_type": "code",
      "execution_count": 58,
      "metadata": {
        "id": "sQdYY3KPEEsC"
      },
      "outputs": [
        {
          "name": "stderr",
          "output_type": "stream",
          "text": [
            "[nltk_data] Downloading package stopwords to\n",
            "[nltk_data]     C:\\Users\\asus\\AppData\\Roaming\\nltk_data...\n",
            "[nltk_data]   Package stopwords is already up-to-date!\n"
          ]
        }
      ],
      "source": [
        "import pandas as pd\n",
        "import re\n",
        "import nltk\n",
        "import matplotlib.pyplot as plt\n",
        "import gensim\n",
        "import emoji\n",
        "import arabicstopwords.arabicstopwords as stp\n",
        "from nltk.corpus import stopwords\n",
        "from nltk.stem.isri import ISRIStemmer\n",
        "from collections import defaultdict\n",
        "from math import log\n",
        "\n",
        "from sklearn.model_selection import train_test_split\n",
        "from sklearn.cluster import KMeans\n",
        "from sklearn.decomposition import TruncatedSVD\n",
        "from sklearn.decomposition import LatentDirichletAllocation\n",
        "from sklearn.linear_model import LogisticRegression\n",
        "from sklearn.feature_extraction.text import TfidfVectorizer\n",
        "from sklearn.ensemble import RandomForestClassifier\n",
        "from sklearn.svm import SVC\n",
        "from sklearn.decomposition import PCA\n",
        "from sklearn.preprocessing import StandardScaler\n",
        "from sklearn.linear_model import LogisticRegression\n",
        "from sklearn.metrics import accuracy_score\n",
        "from sklearn.naive_bayes import GaussianNB\n",
        "from sklearn.metrics import accuracy_score\n",
        "from sklearn.ensemble import RandomForestClassifier\n",
        "from sklearn.feature_extraction.text import CountVectorizer\n",
        "from nltk.tokenize import TweetTokenizer\n",
        "\n",
        "nltk.download('stopwords')\n",
        "\n",
        "SEED = 21"
      ]
    },
    {
      "attachments": {},
      "cell_type": "markdown",
      "metadata": {},
      "source": [
        "# Importing data"
      ]
    },
    {
      "cell_type": "code",
      "execution_count": 59,
      "metadata": {
        "colab": {
          "base_uri": "https://localhost:8080/",
          "height": 676
        },
        "id": "MvI6l3cnEEsH",
        "outputId": "840f53a3-1120-4709-a395-10f90977c0a9"
      },
      "outputs": [
        {
          "data": {
            "text/html": [
              "<div>\n",
              "<style scoped>\n",
              "    .dataframe tbody tr th:only-of-type {\n",
              "        vertical-align: middle;\n",
              "    }\n",
              "\n",
              "    .dataframe tbody tr th {\n",
              "        vertical-align: top;\n",
              "    }\n",
              "\n",
              "    .dataframe thead th {\n",
              "        text-align: right;\n",
              "    }\n",
              "</style>\n",
              "<table border=\"1\" class=\"dataframe\">\n",
              "  <thead>\n",
              "    <tr style=\"text-align: right;\">\n",
              "      <th></th>\n",
              "      <th>class</th>\n",
              "      <th>tweet</th>\n",
              "    </tr>\n",
              "  </thead>\n",
              "  <tbody>\n",
              "    <tr>\n",
              "      <th>25643</th>\n",
              "      <td>pos</td>\n",
              "      <td>سيارتي انظف من غرفة نومك صدقيني 😂</td>\n",
              "    </tr>\n",
              "    <tr>\n",
              "      <th>41387</th>\n",
              "      <td>pos</td>\n",
              "      <td>#النصر برجالو يحتزم💛💙 غزاني عليك الشوق والشوق ...</td>\n",
              "    </tr>\n",
              "    <tr>\n",
              "      <th>29251</th>\n",
              "      <td>pos</td>\n",
              "      <td>ويازينتس انتي بعد 😍</td>\n",
              "    </tr>\n",
              "    <tr>\n",
              "      <th>31138</th>\n",
              "      <td>pos</td>\n",
              "      <td>يارب الحدا الصح اللي اكمل معو حياتي هيك 🙏</td>\n",
              "    </tr>\n",
              "    <tr>\n",
              "      <th>31900</th>\n",
              "      <td>pos</td>\n",
              "      <td>قررت اتابع مسلسل هالحلو 😋</td>\n",
              "    </tr>\n",
              "    <tr>\n",
              "      <th>15976</th>\n",
              "      <td>neg</td>\n",
              "      <td>يقولوا 😏 الجميله الي تعرف تخبز خبز عماني ولا ا...</td>\n",
              "    </tr>\n",
              "    <tr>\n",
              "      <th>36687</th>\n",
              "      <td>pos</td>\n",
              "      <td>إذا سمعت أحد يقول : اللهم لا شماته ، تأكد انها...</td>\n",
              "    </tr>\n",
              "    <tr>\n",
              "      <th>33299</th>\n",
              "      <td>pos</td>\n",
              "      <td>يا هني السنين فيك يا ضياها 🎊</td>\n",
              "    </tr>\n",
              "    <tr>\n",
              "      <th>37287</th>\n",
              "      <td>pos</td>\n",
              "      <td>تواريخ الرحلات النسائية الى #النرويج مع مرشدة ...</td>\n",
              "    </tr>\n",
              "    <tr>\n",
              "      <th>15306</th>\n",
              "      <td>neg</td>\n",
              "      <td>الأب رجل مختلف في حياة كل فتاه ولو سألت كل فتا...</td>\n",
              "    </tr>\n",
              "    <tr>\n",
              "      <th>25560</th>\n",
              "      <td>pos</td>\n",
              "      <td>موفقين ان شاء الله</td>\n",
              "    </tr>\n",
              "    <tr>\n",
              "      <th>31720</th>\n",
              "      <td>pos</td>\n",
              "      <td>💓الطيبون* مثل بائع الورد 💓 حتى إذا لم تشتري من...</td>\n",
              "    </tr>\n",
              "    <tr>\n",
              "      <th>19454</th>\n",
              "      <td>neg</td>\n",
              "      <td>أحبك بكل ما أوتيت من مرض 💔 #صوت_الحق_للدعم #كر...</td>\n",
              "    </tr>\n",
              "    <tr>\n",
              "      <th>324</th>\n",
              "      <td>neg</td>\n",
              "      <td>من كان الهلال فارق ب٧نقاط وانا اشوف ملخصات بس ...</td>\n",
              "    </tr>\n",
              "    <tr>\n",
              "      <th>14069</th>\n",
              "      <td>neg</td>\n",
              "      <td>دايما ظلمني كدا 😔 😂</td>\n",
              "    </tr>\n",
              "    <tr>\n",
              "      <th>10220</th>\n",
              "      <td>neg</td>\n",
              "      <td>أمس أحاول تصنع الفرحة واسترجاع المشاعر التي كن...</td>\n",
              "    </tr>\n",
              "    <tr>\n",
              "      <th>19905</th>\n",
              "      <td>neg</td>\n",
              "      <td>📌 الكلام دا مهم جدا عشان تتضح الصورة</td>\n",
              "    </tr>\n",
              "    <tr>\n",
              "      <th>2829</th>\n",
              "      <td>neg</td>\n",
              "      <td>أنا مخنووق 😢 \"واصبر لحكم ربك فإنك بأعيننا\" إذا...</td>\n",
              "    </tr>\n",
              "    <tr>\n",
              "      <th>43715</th>\n",
              "      <td>pos</td>\n",
              "      <td>بمناسبة فوز #الهلال 💙💙 سحب على مبلغ مالي 💰 شرو...</td>\n",
              "    </tr>\n",
              "    <tr>\n",
              "      <th>39536</th>\n",
              "      <td>pos</td>\n",
              "      <td>لالا عااد ولدنا دكتور قد الدنياا ♥</td>\n",
              "    </tr>\n",
              "  </tbody>\n",
              "</table>\n",
              "</div>"
            ],
            "text/plain": [
              "      class                                              tweet\n",
              "25643   pos                  سيارتي انظف من غرفة نومك صدقيني 😂\n",
              "41387   pos  #النصر برجالو يحتزم💛💙 غزاني عليك الشوق والشوق ...\n",
              "29251   pos                                ويازينتس انتي بعد 😍\n",
              "31138   pos          يارب الحدا الصح اللي اكمل معو حياتي هيك 🙏\n",
              "31900   pos                          قررت اتابع مسلسل هالحلو 😋\n",
              "15976   neg  يقولوا 😏 الجميله الي تعرف تخبز خبز عماني ولا ا...\n",
              "36687   pos  إذا سمعت أحد يقول : اللهم لا شماته ، تأكد انها...\n",
              "33299   pos                       يا هني السنين فيك يا ضياها 🎊\n",
              "37287   pos  تواريخ الرحلات النسائية الى #النرويج مع مرشدة ...\n",
              "15306   neg  الأب رجل مختلف في حياة كل فتاه ولو سألت كل فتا...\n",
              "25560   pos                                 موفقين ان شاء الله\n",
              "31720   pos  💓الطيبون* مثل بائع الورد 💓 حتى إذا لم تشتري من...\n",
              "19454   neg  أحبك بكل ما أوتيت من مرض 💔 #صوت_الحق_للدعم #كر...\n",
              "324     neg  من كان الهلال فارق ب٧نقاط وانا اشوف ملخصات بس ...\n",
              "14069   neg                                دايما ظلمني كدا 😔 😂\n",
              "10220   neg  أمس أحاول تصنع الفرحة واسترجاع المشاعر التي كن...\n",
              "19905   neg               📌 الكلام دا مهم جدا عشان تتضح الصورة\n",
              "2829    neg  أنا مخنووق 😢 \"واصبر لحكم ربك فإنك بأعيننا\" إذا...\n",
              "43715   pos  بمناسبة فوز #الهلال 💙💙 سحب على مبلغ مالي 💰 شرو...\n",
              "39536   pos                 لالا عااد ولدنا دكتور قد الدنياا ♥"
            ]
          },
          "execution_count": 59,
          "metadata": {},
          "output_type": "execute_result"
        }
      ],
      "source": [
        "data = pd.read_csv(\"datasets/1/data.tsv\", sep = '\\t', header=None, names = [\"class\", \"tweet\"])\n",
        "data = data.sample(frac=1, random_state = SEED)\n",
        "data.head(20)"
      ]
    },
    {
      "cell_type": "code",
      "execution_count": 60,
      "metadata": {
        "id": "fqggWownEEsK",
        "outputId": "e8a398e4-bfd2-44cf-b85f-2ea0ab850aa8"
      },
      "outputs": [
        {
          "name": "stdout",
          "output_type": "stream",
          "text": [
            "<class 'pandas.core.frame.DataFrame'>\n",
            "Index: 45275 entries, 25643 to 15305\n",
            "Data columns (total 2 columns):\n",
            " #   Column  Non-Null Count  Dtype \n",
            "---  ------  --------------  ----- \n",
            " 0   class   45275 non-null  object\n",
            " 1   tweet   45275 non-null  object\n",
            "dtypes: object(2)\n",
            "memory usage: 1.0+ MB\n"
          ]
        }
      ],
      "source": [
        "data.info()"
      ]
    },
    {
      "attachments": {},
      "cell_type": "markdown",
      "metadata": {
        "id": "GIECLLDlEEsM"
      },
      "source": [
        "# Data preprocessing"
      ]
    },
    {
      "attachments": {},
      "cell_type": "markdown",
      "metadata": {
        "id": "NDtOpDzdEEsP"
      },
      "source": [
        "Our preprocessing pipeline contains the following steps:\n",
        "\n",
        "0.  Remove duplicat entries\n",
        "1.  Replacing emojies & emoticons\n",
        "2.  Remove mentions\n",
        "3.  Remove Links\n",
        "6.  Remove whitespaces\n",
        "7.  Remove 'Harakat'\n",
        "8.  Remove punctuations & Special chars\n",
        "9.  Remove Consecutive characters\n",
        "10.  Tokenization\n",
        "11. Remove foreign words\n",
        "12. Remove stop words\n",
        "13. Remove numbers\n",
        "14. Stemming\n",
        "\n",
        "Optional Steps (Might be added if proven to give better output):\n",
        "* Remove words with length less than THRESHOLD chars\n"
      ]
    },
    {
      "attachments": {},
      "cell_type": "markdown",
      "metadata": {
        "id": "zolKP03vEEsT"
      },
      "source": [
        "## Removing duplicates"
      ]
    },
    {
      "cell_type": "code",
      "execution_count": 61,
      "metadata": {
        "colab": {
          "base_uri": "https://localhost:8080/"
        },
        "id": "SeMI9vGpEEsW",
        "outputId": "e2fb0124-2a17-4db2-c06f-52d48a0b7000"
      },
      "outputs": [
        {
          "name": "stdout",
          "output_type": "stream",
          "text": [
            "34.7% of the data are duplicats\n"
          ]
        }
      ],
      "source": [
        "count = data.duplicated().sum()\n",
        "print(f\"{(count / data.shape[0]) * 100:.1f}% of the data are duplicats\")"
      ]
    },
    {
      "cell_type": "code",
      "execution_count": 62,
      "metadata": {
        "id": "Ahlc7NfGEEsY"
      },
      "outputs": [],
      "source": [
        "data.drop_duplicates(inplace = True)"
      ]
    },
    {
      "attachments": {},
      "cell_type": "markdown",
      "metadata": {
        "id": "Jv54Q2aKEEsZ"
      },
      "source": [
        "## Replacing emojies"
      ]
    },
    {
      "cell_type": "code",
      "execution_count": 63,
      "metadata": {
        "id": "75Dy9RLbEEsa"
      },
      "outputs": [],
      "source": [
        "emojis = {\n",
        "    \"🙂\":\"يبتسم\",\n",
        "    \"😂\":\"يضحك\",\n",
        "    \"🤣\" : \"يضحك\",\n",
        "    \"💔\":\"قلب حزين\",\n",
        "    \"🙂\":\"يبتسم\",\n",
        "    \"❤️\":\"حب\",\n",
        "    \"🥰\":\"حب\",\n",
        "    \"🤐\":\"سكوت\",\n",
        "    \"🧡\":\"حب\",\n",
        "    \"❤\":\"حب\",\n",
        "    \"😍\":\"حب\",\n",
        "    \"😭\":\"يبكي\",\n",
        "    \"🤭\":\"يبتسم\",\n",
        "    \"😢\":\"حزن\",\n",
        "    \"😔\":\"حزن\",\n",
        "    \"♥\":\"حب\",\n",
        "    \"💜\":\"حب\",\n",
        "    \"😅\":\"يضحك\",\n",
        "    \"🙁\":\"حزين\",\n",
        "    \"💕\":\"حب\",\n",
        "    \"💙\":\"حب\",\n",
        "    \"😞\":\"حزين\",\n",
        "    \"😊\":\"سعادة\",\n",
        "    \"👏\":\"يصفق\",\n",
        "    \"👌\":\"احسنت\",\n",
        "    \"😴\":\"ينام\",\n",
        "    \"😀\":\"يضحك\",\n",
        "    \"✅\":\"صحيح\",\n",
        "    \"🤪\":\"يضحك\",\n",
        "    \"🏡\" : \"بيت\",\n",
        "    \"🤲\" : \"دعاء\",\n",
        "    \"💰\" : \"مال\",\n",
        "    \"😌\":\"حزين\",\n",
        "    \"🎁\":\"هدية\",\n",
        "    \"🌹\":\"وردة\",\n",
        "    \"🥀\":\"وردة\",\n",
        "    \"📿\":\"وردة\",\n",
        "    \"✍\":\"كتابة\",\n",
        "    \"🙈\":\"حب\",\n",
        "    \"😄\":\"يضحك\",\n",
        "    \"😐\":\"محايد\",\n",
        "    \"✌\":\"منتصر\",\n",
        "    \"✨\":\"نجمه\",\n",
        "    \"🤔\":\"تفكير\",\n",
        "    \"😏\":\"يستهزء\",\n",
        "    \"😒\":\"يستهزء\",\n",
        "    \"🙄\":\"ملل\",\n",
        "    \"😕\":\"عصبية\",\n",
        "    \"😃\":\"يضحك\",\n",
        "    \"🌸\":\"وردة\",\n",
        "    \"😓\":\"حزن\",\n",
        "    \"💞\":\"حب\",\n",
        "    \"💗\":\"حب\",\n",
        "    \"😑\":\"منزعج\",\n",
        "    \"💭\":\"تفكير\",\n",
        "    \"😎\":\"ثقة\",\n",
        "    \"💛\":\"حب\",\n",
        "    \"😩\":\"حزين\",\n",
        "    \"🥺\":\"حزين\",\n",
        "    \"💪\":\"عضلات\",\n",
        "    \"👍\":\"موافق\",\n",
        "    \"🙏🏻\":\"رجاء طلب\",\n",
        "    \"😳\":\"مصدوم\",\n",
        "    \"👏🏼\":\"تصفيق\",\n",
        "    \"🎶\":\"موسيقي\",\n",
        "    \"🌚\":\"صمت\",\n",
        "    \"💚\":\"حب\",\n",
        "    \"🙏\":\"رجاء طلب\",\n",
        "    \"💘\":\"حب\",\n",
        "    \"🍃\":\"سلام\",\n",
        "    \"☺\":\"يضحك\",\n",
        "    \"🎊\":\"يهنئ\",\n",
        "    \"💥\":\"إنفجار\",\n",
        "    \"😝\":\"يسخر\",\n",
        "    \"💯\":\"تمام\",\n",
        "    \"🐸\":\"ضفدع\",\n",
        "    \"🤦‍♂️\":\"غبي\",\n",
        "    \"🤩\":\"معجب\",\n",
        "    \"🤤\":\"جائع\",\n",
        "    \"😶\":\"مصدوم\",\n",
        "    \"✌️\":\"مرح\",\n",
        "    \"✋🏻\":\"توقف\",\n",
        "    \"😉\":\"غمزة\",\n",
        "    \"🌷\":\"حب\",\n",
        "    \"🙃\":\"مبتسم\",\n",
        "    \"😫\":\"حزين\",\n",
        "    \"😨\":\"مصدوم\",\n",
        "    \"🎼 \":\"موسيقي\",\n",
        "    \"🍁\":\"مرح\",\n",
        "    \"🍂\":\"مرح\",\n",
        "    \"💟\":\"حب\",\n",
        "    \"😪\":\"حزن\",\n",
        "    \"😆\":\"يضحك\",\n",
        "    \"😣\":\"استياء\",\n",
        "    \"☺️\":\"حب\",\n",
        "    \"😱\":\"كارثة\",\n",
        "    \"😁\":\"يضحك\",\n",
        "    \"😖\":\"استياء\",\n",
        "    \"🏃🏼\":\"يجري\",\n",
        "    \"😡\":\"غضب\",\n",
        "    \"🚶\":\"يسير\",\n",
        "    \"🤕\":\"مرض\",\n",
        "    \"🤮\" : \"يتقيئ\",\n",
        "    \"⛔\": \"حذر\",\n",
        "    \"‼️\":\"تعجب\",\n",
        "    \"🕊\":\"طائر\",\n",
        "    \"👌🏻\":\"احسنت\",\n",
        "    \"❣\":\"حب\",\n",
        "    \"🙊\":\"مصدوم\",\n",
        "    \"💃\":\"سعادة مرح\",\n",
        "    \"💃🏼\":\"سعادة مرح\",\n",
        "    \"😜\":\"مرح\",\n",
        "    \"👊\":\"ضربة\",\n",
        "    \"😟\":\"استياء\",\n",
        "    \"💖\":\"حب\",\n",
        "    \"😥\":\"حزن\",\n",
        "    \"🎻\":\"موسيقي\",\n",
        "    \"✒\":\"يكتب\",\n",
        "    \"🚶🏻\":\"يسير\",\n",
        "    \"💎\":\"الماظ\",\n",
        "    \"😷\":\"وباء مرض\",\n",
        "    \"☝\":\"واحد\",\n",
        "    \"🚬\":\"تدخين\",\n",
        "    \"💐\" : \"ورد\",\n",
        "    \"🌻\" : \"ورد\",\n",
        "    \"🌞\" : \"شمس\",\n",
        "    \"👆\" : \"الاول\",\n",
        "    \"⚠️\" :\"تحذير\",\n",
        "    \"🤗\" : \"احتواء\",\n",
        "    \"✖️\": \"غلط\",\n",
        "    \"📍\"  : \"مكان\",\n",
        "    \"👸\" : \"ملكه\",\n",
        "    \"👑\" : \"تاج\",\n",
        "    \"✔️\" : \"صح\",\n",
        "    \"💌\": \"قلب\",\n",
        "    \"😲\" : \"مندهش\",\n",
        "    \"💦\": \"ماء\",\n",
        "    \"🚫\" : \"خطا\",\n",
        "    \"👏🏻\" : \"برافو\",\n",
        "    \"🏊\" :\"يسبح\",\n",
        "    \"👍🏻\": \"تمام\",\n",
        "    \"⭕️\" :\"دائره كبيره\",\n",
        "    \"🎷\" : \"ساكسفون\",\n",
        "    \"👋\": \"تلويح باليد\",\n",
        "    \"✌🏼\": \"علامه النصر\",\n",
        "    \"🌝\":\"مبتسم\",\n",
        "    \"➿\"  : \"عقده مزدوجه\",\n",
        "    \"💪🏼\" : \"قوي\",\n",
        "    \"📩\":  \"تواصل معي\",\n",
        "    \"☕️\": \"قهوه\",\n",
        "    \"😧\" : \"قلق و صدمة\",\n",
        "    \"🗨\": \"رسالة\",\n",
        "    \"❗️\" :\"تعجب\",\n",
        "    \"🙆🏻\": \"اشاره موافقه\",\n",
        "    \"👯\" :\"اخوات\",\n",
        "    \"©\" :  \"رمز\",\n",
        "    \"👵🏽\" :\"سيده عجوزه\",\n",
        "    \"🐣\": \"كتكوت\",\n",
        "    \"🙌\": \"تشجيع\",\n",
        "    \"🙇\": \"شخص ينحني\",\n",
        "    \"👐🏽\":\"ايدي مفتوحه\",\n",
        "    \"👌🏽\": \"بالظبط\",\n",
        "    \"⁉️\" : \"استنكار\",\n",
        "    \"⚽️\": \"كوره\",\n",
        "    \"🕶\" :\"حب\",\n",
        "    \"🎈\" :\"بالون\",\n",
        "    \"🎀\":    \"ورده\",\n",
        "    \"💵\":  \"فلوس\",\n",
        "    \"😋\":  \"جائع\",\n",
        "    \"😛\":  \"يغيظ\",\n",
        "    \"😠\":  \"غاضب\",\n",
        "    \"✍🏻\":  \"يكتب\",\n",
        "    \"🌾\":  \"ارز\",\n",
        "    \"👣\":  \"اثر قدمين\",\n",
        "    \"❌\":\"رفض\",\n",
        "    \"🍟\":\"طعام\",\n",
        "    \"👬\":\"صداقة\",\n",
        "    \"🐰\":\"ارنب\",\n",
        "    \"🦋\" : \"فراشة\",\n",
        "    \"☂\":\"مطر\",\n",
        "    \"⚜\":\"مملكة فرنسا\",\n",
        "    \"🐑\":\"خروف\",\n",
        "    \"🗣\":\"صوت مرتفع\",\n",
        "    \"👌🏼\":\"احسنت\",\n",
        "    \"☘\":\"مرح\",\n",
        "    \"😮\":\"صدمة\",\n",
        "    \"😦\":\"قلق\",\n",
        "    \"⭕\":\"الحق\",\n",
        "    \"✏️\":\"قلم\",\n",
        "    \"ℹ\":\"معلومات\",\n",
        "    \"🙍🏻\":\"رفض\",\n",
        "    \"⚪️\":\"نضارة نقاء\",\n",
        "    \"🐤\":\"حزن\",\n",
        "    \"💫\":\"مرح\",\n",
        "    \"💝\":\"حب\",\n",
        "    \"🍔\":\"طعام\",\n",
        "    \"❤︎\":\"حب\",\n",
        "    \"✈️\":\"سفر\",\n",
        "    \"🏃🏻‍♀️\":\"يسير\",\n",
        "    \"🍳\":\"ذكر\",\n",
        "    \"🎤\":\"مايك غناء\",\n",
        "    \"🎾\":\"كره\",\n",
        "    \"🐔\":\"دجاجة\",\n",
        "    \"🙋\":\"سؤال\",\n",
        "    \"📮\":\"بحر\",\n",
        "    \"💉\":\"دواء\",\n",
        "    \"🙏🏼\":\"رجاء طلب\",\n",
        "    \"💂🏿 \":\"حارس\",\n",
        "    \"🎬\":\"سينما\",\n",
        "    \"♦️\":\"مرح\",\n",
        "    \"💡\":\"قكرة\",\n",
        "    \"‼\":\"تعجب\",\n",
        "    \"👼\":\"طفل\",\n",
        "    \"🔑\":\"مفتاح\",\n",
        "    \"♥️\":\"حب\",\n",
        "    \"🌲\" : \"شجرة\",\n",
        "    \"🌳\" : \"شجرة\",\n",
        "    \"🚩\" : \"حذر\",\n",
        "    \"🚨\" : \"حذر\",\n",
        "    \"🛑\" : \"حذر\",\n",
        "    \"🕋\":\"كعبة\",\n",
        "    \"🐓\":\"دجاجة\",\n",
        "    \"💩\":\"معترض\",\n",
        "    \"👽\":\"فضائي\",\n",
        "    \"☔️\":\"مطر\",\n",
        "    \"🍷\":\"عصير\",\n",
        "    \"🌟\":\"نجمة\",\n",
        "    \"☁️\":\"سحب\",\n",
        "    \"👃\":\"معترض\",\n",
        "    \"🌺\":\"مرح\",\n",
        "    \"🔪\":\"سكينة\",\n",
        "    \"♨\":\"سخونية\",\n",
        "    \"👊🏼\":\"ضرب\",\n",
        "    \"✏\":\"قلم\",\n",
        "    \"🚶🏾‍♀️\":\"يسير\",\n",
        "    \"👊\":\"ضربة\",\n",
        "    \"◾️\":\"وقف\",\n",
        "    \"😚\":\"حب\",\n",
        "    \"🔸\":\"مرح\",\n",
        "    \"👎🏻\":\"لا يعجبني\",\n",
        "    \"👊🏽\":\"ضربة\",\n",
        "    \"😙\":\"حب\",\n",
        "    \"🎥\":\"تصوير\",\n",
        "    \"👉\":\"جذب انتباه\",\n",
        "    \"👏🏽\":\"يصفق\",\n",
        "    \"💪🏻\":\"عضلات\",\n",
        "    \"🏴\":\"اسود\",\n",
        "    \"🔥\":\"حريق\",\n",
        "    \"😬\":\"عدم الراحة\",\n",
        "    \"👊🏿\":\"يضرب\",\n",
        "    \"📚\" : \"كتب\",\n",
        "    \"📌\" : \"علق\",\n",
        "    \"🌿\":\"ورقه شجره\",\n",
        "    \"✋🏼\":\"كف ايد\",\n",
        "    \"👐\":\"ايدي مفتوحه\",\n",
        "    \"☠️\":\"وجه مرعب\",\n",
        "    \"🎉\":\"يهنئ\",\n",
        "    \"🔕\" :\"صامت\",\n",
        "    \"😿\":\"وجه حزين\",\n",
        "    \"☹️\":\"وجه يائس\",\n",
        "    \"😘\" :\"حب\",\n",
        "    \"😰\" :\"خوف و حزن\",\n",
        "    \"🌼\":\"ورده\",\n",
        "    \"💋\": \"بوسه\",\n",
        "    \"👇\":\"لاسفل\",\n",
        "    \"❣️\":\"حب\",\n",
        "    \"🎧\":\"سماعات\",\n",
        "    \"📝\":\"يكتب\",\n",
        "    \"😇\":\"دايخ\",\n",
        "    \"😈\":\"رعب\",\n",
        "    \"🏃\":\"يجري\",\n",
        "    \"✌🏻\":\"علامه النصر\",\n",
        "    \"🔫\":\"يضرب\",\n",
        "    \"❗️\":\"تعجب\",\n",
        "    \"👎\":\"غير موافق\",\n",
        "    \"🔐\":\"قفل\",\n",
        "    \"👈\":\"لليمين\",\n",
        "    \"™\":\"رمز\",\n",
        "    \"🚶🏽\":\"يتمشي\",\n",
        "    \"😯\":\"متفاجأ\",\n",
        "    \"✊\":\"يد مغلقه\",\n",
        "    \"😻\":\"اعجاب\",\n",
        "    \"🙉\" :\"قرد\",\n",
        "    \"👧\":\"طفله صغيره\",\n",
        "    \"🔴\":\"دائره حمراء\",\n",
        "    \"💪🏽\":\"قوه\",\n",
        "    \"💤\":\"ينام\",\n",
        "    \"👀\":\"ينظر\",\n",
        "    \"✍🏻\":\"يكتب\",\n",
        "    \"❄️\":\"تلج\",\n",
        "    \"💀\":\"رعب\",\n",
        "    \"😤\":\"وجه عابس\",\n",
        "    \"🖋\":\"قلم\",\n",
        "    \"🎩\":\"كاب\",\n",
        "    \"☕️\":\"قهوه\",\n",
        "    \"😹\":\"ضحك\",\n",
        "    \"💓\":\"حب\",\n",
        "    \"☄️\":\"نار\",\n",
        "    \"👻\":\"رعب\",\n",
        "    \"✋\": \"يد\",\n",
        "    \"🌱\": \"نبتة\",\n",
        "\n",
        "    # Emoticons\n",
        "    \":)\" : \"يبتسم\",\n",
        "    \"(:\" : \"يبتسم\",\n",
        "    \":(\" : \"حزين\",\n",
        "    \"xD\" : \"يضحك\",\n",
        "    \":=(\": \"يبكي\",\n",
        "    \":'(\": \"حزن\",\n",
        "    \":'‑(\": \"حزن\",\n",
        "    \"XD\" : \"يضحك\",\n",
        "    \":D\" : \"يبتسم\",\n",
        "    \"♬\" : \"موسيقي\",\n",
        "    \"♡\" : \"حب\",\n",
        "    \"☻\"  : \"يبتسم\",\n",
        "}\n",
        "\n",
        "def replace_emojis(text):\n",
        "    pattern = re.compile('|'.join(re.escape(key) for key in emojis.keys()))\n",
        "    replaced_text = pattern.sub(lambda match: emojis[match.group(0)] + ' ', text)\n",
        "    return emoji.replace_emoji(replaced_text, '')\n",
        "\n",
        "data[\"tweet\"] = data[\"tweet\"].apply(lambda document: replace_emojis(document))"
      ]
    },
    {
      "attachments": {},
      "cell_type": "markdown",
      "metadata": {
        "id": "2Ir8Glj9EEsf"
      },
      "source": [
        "## Removing mentions"
      ]
    },
    {
      "cell_type": "code",
      "execution_count": 64,
      "metadata": {
        "id": "UXgrvqiKEEsg"
      },
      "outputs": [],
      "source": [
        "pattern = r'@[\\w]+'\n",
        "data[\"tweet\"] = data[\"tweet\"].apply(lambda document: re.sub(pattern, '', document))"
      ]
    },
    {
      "attachments": {},
      "cell_type": "markdown",
      "metadata": {
        "id": "AA7faVLeEEsh"
      },
      "source": [
        "## Removing links"
      ]
    },
    {
      "cell_type": "code",
      "execution_count": 65,
      "metadata": {
        "id": "hm75bZvGEEsh"
      },
      "outputs": [],
      "source": [
        "pattern = r'https?://\\S+'\n",
        "data[\"tweet\"] = data[\"tweet\"].apply(lambda document: re.sub(pattern, '', document))"
      ]
    },
    {
      "attachments": {},
      "cell_type": "markdown",
      "metadata": {
        "id": "_syQLJgwEEsi"
      },
      "source": [
        "## Removing hashtags"
      ]
    },
    {
      "cell_type": "code",
      "execution_count": 66,
      "metadata": {
        "id": "tjTqvlypEEsk"
      },
      "outputs": [],
      "source": [
        "pattern = r'#([\\w\\u0600-\\u06FF]+)'\n",
        "data[\"tweet\"] = data[\"tweet\"].apply(lambda document: re.sub(pattern, '', document))"
      ]
    },
    {
      "attachments": {},
      "cell_type": "markdown",
      "metadata": {
        "id": "uNb_LQfGEEsl"
      },
      "source": [
        "## Removing whitespaces\n",
        "In this step we get rid of extra whitespaces as well as new lines"
      ]
    },
    {
      "cell_type": "code",
      "execution_count": 67,
      "metadata": {
        "id": "PZ-mpCmREEsm"
      },
      "outputs": [],
      "source": [
        "pattern = r'\\s+|\\n+'\n",
        "data[\"tweet\"] = data[\"tweet\"].apply(lambda document: re.sub(pattern, ' ', document))"
      ]
    },
    {
      "attachments": {},
      "cell_type": "markdown",
      "metadata": {
        "id": "_TMg71jAEEsn"
      },
      "source": [
        "## Remove foriegn words"
      ]
    },
    {
      "attachments": {},
      "cell_type": "markdown",
      "metadata": {
        "id": "hD1EjRxMEEsn"
      },
      "source": [
        "The text includes english, japanese and words for other languages"
      ]
    },
    {
      "cell_type": "code",
      "execution_count": 68,
      "metadata": {
        "id": "HraPS5_SEEso"
      },
      "outputs": [],
      "source": [
        "pattern = r'[a-zA-Z]+'\n",
        "data[\"tweet\"] = data[\"tweet\"].apply(lambda document: re.sub(pattern, '', document))"
      ]
    },
    {
      "attachments": {},
      "cell_type": "markdown",
      "metadata": {
        "id": "_r3f6p9DEEsp"
      },
      "source": [
        "## Remove punctuations & special chars"
      ]
    },
    {
      "cell_type": "code",
      "execution_count": 69,
      "metadata": {
        "id": "g2gtB69BEEsp"
      },
      "outputs": [],
      "source": [
        "pattern = r'[^\\w\\s\\u0600-\\u06FF]+|ﷺ|۩|⓵|؟|۞|ﷻ'\n",
        "data[\"tweet\"] = data[\"tweet\"].apply(lambda document: re.sub(pattern, '', document))"
      ]
    },
    {
      "attachments": {},
      "cell_type": "markdown",
      "metadata": {
        "id": "-BEPhEhYEEsq"
      },
      "source": [
        "## Remove consecutive characters"
      ]
    },
    {
      "cell_type": "code",
      "execution_count": 70,
      "metadata": {
        "id": "pjEAl55ZEEsr"
      },
      "outputs": [],
      "source": [
        "pattern = r'(.)\\1+'\n",
        "data[\"tweet\"] = data[\"tweet\"].apply(lambda document: re.sub(pattern, r'\\1', document))"
      ]
    },
    {
      "attachments": {},
      "cell_type": "markdown",
      "metadata": {
        "id": "MZctqr8qEEsr"
      },
      "source": [
        "## Removing numbers"
      ]
    },
    {
      "cell_type": "code",
      "execution_count": 71,
      "metadata": {
        "id": "xUfiKGlxEEst"
      },
      "outputs": [],
      "source": [
        "pattern = r'\\d+'\n",
        "data[\"tweet\"] = data[\"tweet\"].apply(lambda document: re.sub(pattern, '', document))"
      ]
    },
    {
      "attachments": {},
      "cell_type": "markdown",
      "metadata": {
        "id": "8Sy4GggUEEsw"
      },
      "source": [
        "# Tokenization"
      ]
    },
    {
      "cell_type": "code",
      "execution_count": 72,
      "metadata": {
        "id": "_Nf_D_MeEEsx"
      },
      "outputs": [],
      "source": [
        "tokenizer = TweetTokenizer()\n",
        "data[\"tweet\"] = data[\"tweet\"].apply(lambda document: tokenizer.tokenize(document))\n",
        "data[\"tweet\"] = data[\"tweet\"].apply(lambda document: \" \".join(document).strip())"
      ]
    },
    {
      "cell_type": "code",
      "execution_count": 73,
      "metadata": {
        "colab": {
          "base_uri": "https://localhost:8080/",
          "height": 143
        },
        "id": "OK4X1pWUEEsx",
        "outputId": "dcd9960c-15d8-4ec5-e197-94b11c2cb673"
      },
      "outputs": [
        {
          "data": {
            "text/html": [
              "<div>\n",
              "<style scoped>\n",
              "    .dataframe tbody tr th:only-of-type {\n",
              "        vertical-align: middle;\n",
              "    }\n",
              "\n",
              "    .dataframe tbody tr th {\n",
              "        vertical-align: top;\n",
              "    }\n",
              "\n",
              "    .dataframe thead th {\n",
              "        text-align: right;\n",
              "    }\n",
              "</style>\n",
              "<table border=\"1\" class=\"dataframe\">\n",
              "  <thead>\n",
              "    <tr style=\"text-align: right;\">\n",
              "      <th></th>\n",
              "      <th>class</th>\n",
              "      <th>tweet</th>\n",
              "    </tr>\n",
              "  </thead>\n",
              "  <tbody>\n",
              "    <tr>\n",
              "      <th>23228</th>\n",
              "      <td>pos</td>\n",
              "      <td>و كل م يأتي من الہ جميل ف الحمدلهہ دائما مسآء ...</td>\n",
              "    </tr>\n",
              "    <tr>\n",
              "      <th>16432</th>\n",
              "      <td>neg</td>\n",
              "      <td>حين تعتاد على محادثة شخص تحبه دوما كل يوم فإن ...</td>\n",
              "    </tr>\n",
              "    <tr>\n",
              "      <th>8964</th>\n",
              "      <td>neg</td>\n",
              "      <td>تعبت ولا نبي نتعلم ولانتخرج اكتفيت يد</td>\n",
              "    </tr>\n",
              "  </tbody>\n",
              "</table>\n",
              "</div>"
            ],
            "text/plain": [
              "      class                                              tweet\n",
              "23228   pos  و كل م يأتي من الہ جميل ف الحمدلهہ دائما مسآء ...\n",
              "16432   neg  حين تعتاد على محادثة شخص تحبه دوما كل يوم فإن ...\n",
              "8964    neg              تعبت ولا نبي نتعلم ولانتخرج اكتفيت يد"
            ]
          },
          "execution_count": 73,
          "metadata": {},
          "output_type": "execute_result"
        }
      ],
      "source": [
        "data.tail(3)"
      ]
    },
    {
      "attachments": {},
      "cell_type": "markdown",
      "metadata": {
        "id": "pQOiy36-EEsy"
      },
      "source": [
        "## Stemming\n"
      ]
    },
    {
      "cell_type": "code",
      "execution_count": 74,
      "metadata": {
        "id": "hFgkKc6GEEsy"
      },
      "outputs": [],
      "source": [
        "stemmer = ISRIStemmer()\n",
        "\n",
        "def stem_document(document):\n",
        "    words = document.split(sep = ' ')\n",
        "    return \" \".join([stemmer.stem(word) for word in words])\n",
        "\n",
        "data['tweet'] = data[\"tweet\"].apply(lambda document: stem_document(document))"
      ]
    },
    {
      "attachments": {},
      "cell_type": "markdown",
      "metadata": {},
      "source": [
        "## Removing stop words"
      ]
    },
    {
      "cell_type": "code",
      "execution_count": 75,
      "metadata": {},
      "outputs": [
        {
          "data": {
            "text/plain": [
              "{'ووراءنا',\n",
              " 'وأقلكن',\n",
              " 'فكمثلهما',\n",
              " 'أفذي',\n",
              " 'ولتلقاءهن',\n",
              " 'فأخيكم',\n",
              " 'أفلنفس',\n",
              " 'وبأكثركم',\n",
              " 'وجنوبه',\n",
              " 'أفليميني',\n",
              " 'يورو',\n",
              " 'لكنك',\n",
              " 'وراءك',\n",
              " 'فبأخيهن',\n",
              " 'التي',\n",
              " 'كنحوها',\n",
              " 'فلعينهما',\n",
              " 'أفعليه',\n",
              " 'ألأمامهن',\n",
              " 'فكشرقنا',\n",
              " 'ولمعكن',\n",
              " 'لرجع',\n",
              " 'بجميعكما',\n",
              " 'وبشرقكن',\n",
              " 'أولديها',\n",
              " 'أولكل',\n",
              " 'وبحسبه',\n",
              " 'أبأولاء',\n",
              " 'كأخيهما',\n",
              " 'ومثلكم',\n",
              " 'هذا',\n",
              " 'وحولهم',\n",
              " 'أولأناي',\n",
              " 'الألاء',\n",
              " 'زماننا',\n",
              " 'فلخلفنا',\n",
              " 'أولسواهما',\n",
              " 'فكحميكن',\n",
              " 'أوأجمعنا',\n",
              " 'فكزمانه',\n",
              " 'لئن',\n",
              " 'فابنكما',\n",
              " 'فلكأنه',\n",
              " 'كوقتكن',\n",
              " 'وبينما',\n",
              " 'أفلعينهما',\n",
              " 'فكتلقائهن',\n",
              " 'فكإن',\n",
              " 'أأجمعها',\n",
              " 'أبنحوكم',\n",
              " 'أوبنحو',\n",
              " 'شمالها',\n",
              " 'فمعاذ',\n",
              " 'مازلن',\n",
              " 'بتلقائه',\n",
              " 'أفكمثلهم',\n",
              " 'فبشهري',\n",
              " 'فلغيرهم',\n",
              " 'فللحظتها',\n",
              " 'أفأناكما',\n",
              " 'ككليهما',\n",
              " 'لحميهن',\n",
              " 'فعن',\n",
              " 'وأثناءهما',\n",
              " 'فعامته',\n",
              " 'فكجنوبها',\n",
              " 'أفلنحوكن',\n",
              " 'لأخيهما',\n",
              " 'أولجميعكم',\n",
              " 'نيسان',\n",
              " 'نحوها',\n",
              " 'أوبسواكما',\n",
              " 'بأقلنا',\n",
              " 'فبذاتي',\n",
              " 'ويكأنك',\n",
              " 'فبشبهها',\n",
              " 'إنما',\n",
              " 'فلان',\n",
              " 'فلأمسى',\n",
              " 'أوبعامة',\n",
              " 'وأصلا',\n",
              " 'صرح',\n",
              " 'ولكأنها',\n",
              " 'فأخيه',\n",
              " 'لفوقنا',\n",
              " 'وبنحوكن',\n",
              " 'ويكأنهم',\n",
              " 'أسواهم',\n",
              " 'كعامتهما',\n",
              " 'فغربهما',\n",
              " 'مادمتن',\n",
              " 'اضحى',\n",
              " 'وبذي',\n",
              " 'أوكهم',\n",
              " 'وبغروبهن',\n",
              " 'وغربكما',\n",
              " 'ولأخيهما',\n",
              " 'فمازلت',\n",
              " 'وأيتك',\n",
              " 'معاذكن',\n",
              " 'أفبغيركم',\n",
              " 'فلجميعكما',\n",
              " 'وكغروبهم',\n",
              " 'فلعامتكن',\n",
              " 'وكلها',\n",
              " 'وسوى',\n",
              " 'فلساعة',\n",
              " 'وشرقهما',\n",
              " 'فمعه',\n",
              " 'وغيرهم',\n",
              " 'أأمامها',\n",
              " 'لأسفلي',\n",
              " 'أمثلهما',\n",
              " 'فعامتكن',\n",
              " 'فكأيتكم',\n",
              " 'فبجميعك',\n",
              " 'بغربهما',\n",
              " 'أولإنه',\n",
              " 'فبأولئك',\n",
              " 'وبأسفلها',\n",
              " 'أفمثلنا',\n",
              " 'ألذانك',\n",
              " 'أفلإليه',\n",
              " 'وبخلف',\n",
              " 'لعلهما',\n",
              " 'فتجاهكما',\n",
              " 'أوبنفسه',\n",
              " 'ذويكن',\n",
              " 'وحماه',\n",
              " 'أولأمامهما',\n",
              " 'لنحوهما',\n",
              " 'وبأقلك',\n",
              " 'فكعامتنا',\n",
              " 'وتلقاءها',\n",
              " 'ألأناكم',\n",
              " 'أوبغيرهما',\n",
              " 'فكمثلهن',\n",
              " 'ومافتئتما',\n",
              " 'أفوراءهما',\n",
              " 'وبساعتك',\n",
              " 'فلأبيكما',\n",
              " 'عاذ',\n",
              " 'أفكشبهك',\n",
              " 'ايم',\n",
              " 'أوليمينه',\n",
              " 'فابنه',\n",
              " 'فلشهري',\n",
              " 'ولشبهكن',\n",
              " 'شهري',\n",
              " 'ولعليكم',\n",
              " 'أولديكن',\n",
              " 'زاي',\n",
              " 'بعضي',\n",
              " 'وبحسبكما',\n",
              " 'لتانك',\n",
              " 'ومعاذنا',\n",
              " 'وأسفلي',\n",
              " 'فإنما',\n",
              " 'أفجميع',\n",
              " 'كنحونا',\n",
              " 'وكاللذين',\n",
              " 'وكغيرك',\n",
              " 'وليميني',\n",
              " 'بعامتي',\n",
              " 'جمعة',\n",
              " 'كفينا',\n",
              " 'فلعلى',\n",
              " 'حين',\n",
              " 'عنكن',\n",
              " 'أولأمام',\n",
              " 'أكلنا',\n",
              " 'وذويهم',\n",
              " 'فكأولالك',\n",
              " 'لأنهن',\n",
              " 'لجنوبهما',\n",
              " 'أفلشمال',\n",
              " 'أفكذلكما',\n",
              " 'لعامة',\n",
              " 'مثله',\n",
              " 'فساعتكم',\n",
              " 'أمعهما',\n",
              " 'لشطره',\n",
              " 'وغروبكم',\n",
              " 'ثني',\n",
              " 'أفلهناك',\n",
              " 'فخلالي',\n",
              " 'لابنهما',\n",
              " 'لأكثري',\n",
              " 'فبغيرها',\n",
              " 'وبغروبكن',\n",
              " 'بنفسهم',\n",
              " 'أفنحن',\n",
              " 'وبعضها',\n",
              " 'وبمثلي',\n",
              " 'خلق',\n",
              " 'وآمين',\n",
              " 'أوإن',\n",
              " 'ليمينهما',\n",
              " 'أفلمنه',\n",
              " 'فماانفكت',\n",
              " 'كاف',\n",
              " 'وكانت',\n",
              " 'فكجنوبك',\n",
              " 'ألكلكما',\n",
              " 'وكأنهن',\n",
              " 'أإن',\n",
              " 'فكعامتهم',\n",
              " 'كمثلها',\n",
              " 'فلديهما',\n",
              " 'لفى',\n",
              " 'وبأخينا',\n",
              " 'وككلكما',\n",
              " 'ففاهما',\n",
              " 'فلكنكم',\n",
              " 'ولذويكما',\n",
              " 'ولنحوك',\n",
              " 'خلفكما',\n",
              " 'بحسبكما',\n",
              " 'فبنفسهم',\n",
              " 'مازلنا',\n",
              " 'ضمنها',\n",
              " 'أكأولئك',\n",
              " 'وبجميعهما',\n",
              " 'أفلكلي',\n",
              " 'وبحميهم',\n",
              " 'لغربك',\n",
              " 'لتلكما',\n",
              " 'فلأيتكن',\n",
              " 'فبسواهم',\n",
              " 'فبحميها',\n",
              " 'فبحسبنا',\n",
              " 'أفوراءه',\n",
              " 'أولكلنا',\n",
              " 'ولكأنهما',\n",
              " 'لأسفلنا',\n",
              " 'أوإليك',\n",
              " 'فكذويها',\n",
              " 'لحسبهن',\n",
              " 'فحواليكم',\n",
              " 'وشمالهم',\n",
              " 'أأمامك',\n",
              " 'فغربكم',\n",
              " 'ولعاد',\n",
              " 'فلهذه',\n",
              " 'فبليله',\n",
              " 'ضد',\n",
              " 'فلحظتنا',\n",
              " 'أفلفوقهم',\n",
              " 'أوكأنكن',\n",
              " 'أفبكلكن',\n",
              " 'وكفيه',\n",
              " 'وليمينه',\n",
              " 'بغربهم',\n",
              " 'فلكأنهم',\n",
              " 'وكذويهم',\n",
              " 'وفاك',\n",
              " 'عن',\n",
              " 'أولإنا',\n",
              " 'يجر',\n",
              " 'ت',\n",
              " 'فكسواكن',\n",
              " 'هن',\n",
              " 'أربعة',\n",
              " 'ولساعتك',\n",
              " 'أكسواهما',\n",
              " 'أبعضكم',\n",
              " 'كلحظتكما',\n",
              " 'وتجاهنا',\n",
              " 'كليل',\n",
              " 'ومازلنا',\n",
              " 'وحسبهما',\n",
              " 'ولغروبهم',\n",
              " 'أفوقه',\n",
              " 'أفبعضهن',\n",
              " 'أبجميعنا',\n",
              " 'وغربنا',\n",
              " 'وحينهما',\n",
              " 'أوبجميعنا',\n",
              " 'أفلمثلي',\n",
              " 'أعلي',\n",
              " 'أوفلان',\n",
              " 'حولنا',\n",
              " 'فلديه',\n",
              " 'وعندهن',\n",
              " 'وكتلقائنا',\n",
              " 'أفلأنت',\n",
              " 'كأقلكم',\n",
              " 'قال',\n",
              " 'ولهذين',\n",
              " 'فلأنك',\n",
              " 'فلعنكما',\n",
              " 'ألعنهن',\n",
              " 'شمالكم',\n",
              " 'لأناي',\n",
              " 'لمعها',\n",
              " 'أونفسكما',\n",
              " 'فببعضك',\n",
              " 'وفوقهما',\n",
              " 'وكغيرهم',\n",
              " 'للألاء',\n",
              " 'وعداها',\n",
              " 'ذواتا',\n",
              " 'عليكما',\n",
              " 'ولليلكما',\n",
              " 'أففوقهم',\n",
              " 'فغيرهما',\n",
              " 'أمنها',\n",
              " 'ألفوقها',\n",
              " 'أليمينك',\n",
              " 'فلحظته',\n",
              " 'ألهذا',\n",
              " 'لمثلي',\n",
              " 'فبلحظتهما',\n",
              " 'ألكن',\n",
              " 'وبزمان',\n",
              " 'جعل',\n",
              " 'أمام',\n",
              " 'لزمانهن',\n",
              " 'قاف',\n",
              " 'فلشهرهما',\n",
              " 'أفلعامتك',\n",
              " 'وبخلفنا',\n",
              " 'أوأجمعكن',\n",
              " 'أفبغيرنا',\n",
              " 'أوشمالنا',\n",
              " 'وبهن',\n",
              " 'شرقي',\n",
              " 'لده',\n",
              " 'اللاتي',\n",
              " 'كأجمعكن',\n",
              " 'فهذه',\n",
              " 'أفلعلينا',\n",
              " 'للحظتهم',\n",
              " 'أفلفي',\n",
              " 'فإنكما',\n",
              " 'غربهما',\n",
              " 'وأخيكما',\n",
              " 'رُبَّ',\n",
              " 'ولإنكن',\n",
              " 'فكلحظتهن',\n",
              " 'اليوم',\n",
              " 'كأخي',\n",
              " 'أوبهن',\n",
              " 'رويدك',\n",
              " 'وبذاتك',\n",
              " 'أولعينها',\n",
              " 'لإنكما',\n",
              " 'أما',\n",
              " 'فأننا',\n",
              " 'وأنه',\n",
              " 'فكذويكن',\n",
              " 'كعينكن',\n",
              " 'أفنفسه',\n",
              " 'أفشبههم',\n",
              " 'فجميعها',\n",
              " 'فمعاذهن',\n",
              " 'أفلكلكن',\n",
              " 'أفلنحوها',\n",
              " 'وبغربه',\n",
              " 'أفلغيرهما',\n",
              " 'أإليهن',\n",
              " 'ألذين',\n",
              " 'وإليكما',\n",
              " 'فذووكما',\n",
              " 'لأيتهم',\n",
              " 'أولفوق',\n",
              " 'ي',\n",
              " 'لعين',\n",
              " 'فكعينهن',\n",
              " 'أفمنكم',\n",
              " 'لوراءه',\n",
              " 'فلستم',\n",
              " 'ولازلتم',\n",
              " 'أولغير',\n",
              " 'فلمثله',\n",
              " 'وكسواهم',\n",
              " 'ولنفسهما',\n",
              " 'بأجمعكما',\n",
              " 'أفلمعك',\n",
              " 'أوبغيركما',\n",
              " 'أفشبهك',\n",
              " 'فبعامتها',\n",
              " 'لعنكما',\n",
              " 'كجميعك',\n",
              " 'ولذلك',\n",
              " 'أفخلفكم',\n",
              " 'فشمالهما',\n",
              " 'كوقتي',\n",
              " 'ومعاذهن',\n",
              " 'أبسواهما',\n",
              " 'أفغيرك',\n",
              " 'أفأناها',\n",
              " 'أفلديه',\n",
              " 'وزمانكن',\n",
              " 'أوثمة',\n",
              " 'كي',\n",
              " 'فعينهما',\n",
              " 'وحسبنا',\n",
              " 'ولحظتكما',\n",
              " 'منه',\n",
              " 'ذهب',\n",
              " 'فغروبهما',\n",
              " 'غيرهم',\n",
              " 'ألبعضه',\n",
              " 'وعامتهم',\n",
              " 'فزمانكم',\n",
              " 'وأقلها',\n",
              " 'لعامتهن',\n",
              " 'فبعد',\n",
              " 'لغروبهن',\n",
              " 'كوقتكما',\n",
              " 'فبأنها',\n",
              " 'كحسبكما',\n",
              " 'فأبدا',\n",
              " 'بجنوب',\n",
              " 'لشمالي',\n",
              " 'فبجنبهم',\n",
              " 'فماانفكتا',\n",
              " 'أوبحسبكن',\n",
              " 'وتين',\n",
              " 'أفتحتي',\n",
              " 'أفغيرها',\n",
              " 'وبزمانكم',\n",
              " 'فببعضي',\n",
              " 'أكهذه',\n",
              " 'بسوى',\n",
              " 'أبعينك',\n",
              " 'وكأكثري',\n",
              " 'قلم',\n",
              " 'ولكأنهم',\n",
              " 'فبوقتها',\n",
              " 'أذي',\n",
              " 'بابنهم',\n",
              " 'لذواتي',\n",
              " 'أووراءنا',\n",
              " 'فلغيركن',\n",
              " 'خاء',\n",
              " 'فأقلهن',\n",
              " 'ولابنكما',\n",
              " 'فمازالوا',\n",
              " 'وبلحظتي',\n",
              " 'وللائي',\n",
              " 'أبهو',\n",
              " 'وأيكم',\n",
              " 'أوبأجمعي',\n",
              " 'لمنكن',\n",
              " 'أولإنهن',\n",
              " 'أبوها',\n",
              " 'أبأجمعهم',\n",
              " 'فلشمالكن',\n",
              " 'ففوقي',\n",
              " 'أوشبهكما',\n",
              " 'لا سيما',\n",
              " 'وببعضكن',\n",
              " 'لساعتنا',\n",
              " 'ولأسفلكم',\n",
              " 'وكشرقه',\n",
              " 'أفعن',\n",
              " 'أبحسبكن',\n",
              " 'فلإلي',\n",
              " 'أبنفسهن',\n",
              " 'ولأناها',\n",
              " 'فتحت',\n",
              " 'ليتكن',\n",
              " 'أفبنحو',\n",
              " 'وبأبيهما',\n",
              " 'أفلفيهما',\n",
              " 'أعينهن',\n",
              " 'ولحسبهم',\n",
              " 'أفلجميعها',\n",
              " 'لحميكن',\n",
              " 'وبعامتكن',\n",
              " 'أيار',\n",
              " 'لخلفها',\n",
              " 'أفسواهن',\n",
              " 'بعامته',\n",
              " 'ولأقل',\n",
              " 'فلليلهما',\n",
              " 'عداه',\n",
              " 'إلينا',\n",
              " 'فلديكن',\n",
              " 'فبأعلي',\n",
              " 'فبينهما',\n",
              " 'فآه',\n",
              " 'بضعكن',\n",
              " 'وساء',\n",
              " 'أفلنفسهم',\n",
              " 'ألعلي',\n",
              " 'كأخيه',\n",
              " 'وبشرقك',\n",
              " 'وكأيها',\n",
              " 'أنحوهما',\n",
              " 'فبغيرهما',\n",
              " 'فلسواكما',\n",
              " 'وكنفسنا',\n",
              " 'خلالكم',\n",
              " 'فلساعته',\n",
              " 'فهناك',\n",
              " 'ستن',\n",
              " 'ففيكم',\n",
              " 'فلغيركما',\n",
              " 'فأباهم',\n",
              " 'فجنبنا',\n",
              " 'أولخلفه',\n",
              " 'أفبضعها',\n",
              " 'لشرع',\n",
              " 'فبس',\n",
              " 'ولساعتكما',\n",
              " 'ولجنوبهن',\n",
              " 'تلكما',\n",
              " 'ولجميعكما',\n",
              " 'وبشرقنا',\n",
              " 'وببعض',\n",
              " 'فليسا',\n",
              " 'فباللائي',\n",
              " 'فكعامتهن',\n",
              " 'لسواهما',\n",
              " 'فابنها',\n",
              " 'لعامتكما',\n",
              " 'فبحسبهما',\n",
              " 'أفلكأنما',\n",
              " 'فلشمالها',\n",
              " 'أباكن',\n",
              " 'ألازلن',\n",
              " 'معنا',\n",
              " 'فلفوقهما',\n",
              " 'فعندما',\n",
              " 'وبحسب',\n",
              " 'بعدئذ',\n",
              " 'فسوانا',\n",
              " 'فللواتي',\n",
              " 'وبضعهما',\n",
              " 'ألازالا',\n",
              " 'لكأني',\n",
              " 'فبغيرنا',\n",
              " 'وذاتنا',\n",
              " 'فلمثلك',\n",
              " 'أفلفيكم',\n",
              " 'فكجميعك',\n",
              " 'ألعليهما',\n",
              " 'وبغروبها',\n",
              " 'أإليكن',\n",
              " 'وبتلقائها',\n",
              " 'فليمينهما',\n",
              " 'بجنبكن',\n",
              " 'بتلقائكن',\n",
              " 'ودون',\n",
              " 'بَلْهَ',\n",
              " 'بهم',\n",
              " 'فبوقتكن',\n",
              " 'كجنب',\n",
              " 'أوعننا',\n",
              " 'أومثلها',\n",
              " 'وكجنوبهم',\n",
              " 'جميعهما',\n",
              " 'أيهم',\n",
              " 'وسبحانكما',\n",
              " 'و6',\n",
              " 'فلدنهن',\n",
              " 'فكساعتكن',\n",
              " 'ألمثلكم',\n",
              " 'بليلها',\n",
              " 'أوليمينكن',\n",
              " 'كجنوبهم',\n",
              " 'فكفيهما',\n",
              " 'فأن',\n",
              " 'أفكأولاء',\n",
              " 'وكأولئك',\n",
              " 'فابنكم',\n",
              " 'أولنحن',\n",
              " 'كجنوبنا',\n",
              " 'أكغيركن',\n",
              " 'وجنبهم',\n",
              " 'فكحميها',\n",
              " 'فلشهر',\n",
              " 'أفكذلكم',\n",
              " 'أكعينكن',\n",
              " 'وجنبك',\n",
              " 'فكم',\n",
              " 'أوعينكم',\n",
              " 'بخلفه',\n",
              " 'كلي',\n",
              " 'ليلنا',\n",
              " 'وأمامكم',\n",
              " 'بذي',\n",
              " 'وكشبههما',\n",
              " 'فبجنبهن',\n",
              " 'ألعنها',\n",
              " 'شتان',\n",
              " 'شَتَّانَ',\n",
              " 'ذانك',\n",
              " 'ولحسبكما',\n",
              " 'ومتى',\n",
              " 'ألنفسها',\n",
              " 'ألك',\n",
              " 'لليلهم',\n",
              " 'فوراءكم',\n",
              " 'ولزمانها',\n",
              " 'ونفسي',\n",
              " 'صبح',\n",
              " 'أفبجميعكم',\n",
              " 'أككلهم',\n",
              " 'وكتلكما',\n",
              " 'أيكم',\n",
              " 'كنفسهن',\n",
              " 'أوبجميعي',\n",
              " 'أفلمني',\n",
              " 'ألإنها',\n",
              " 'أأمامنا',\n",
              " 'وليتهن',\n",
              " 'وبجميعك',\n",
              " 'لعمرنا',\n",
              " 'فلمثلكن',\n",
              " 'أجمعك',\n",
              " 'فهل',\n",
              " 'أفكأجمع',\n",
              " 'عينهن',\n",
              " 'ليل',\n",
              " 'أولعلينا',\n",
              " 'حواليهما',\n",
              " 'وكنفسي',\n",
              " 'فأيضا',\n",
              " 'كغربهن',\n",
              " 'فكشرق',\n",
              " 'ولغربنا',\n",
              " 'فكعامته',\n",
              " 'أأنتن',\n",
              " 'فبفينا',\n",
              " 'وأخيكم',\n",
              " 'لغربكم',\n",
              " 'لساعتكم',\n",
              " 'حدي',\n",
              " 'وحموهن',\n",
              " 'كأجمعهن',\n",
              " 'جنوبها',\n",
              " 'أبشبهنا',\n",
              " 'لأكثرك',\n",
              " 'وفوقكم',\n",
              " 'بأسفله',\n",
              " 'أفكنحوكم',\n",
              " 'أوكبعضكما',\n",
              " 'فكنحوك',\n",
              " 'لكأننا',\n",
              " 'فكأبيكم',\n",
              " 'وبعضي',\n",
              " 'أأمامهما',\n",
              " 'أوجميعهم',\n",
              " 'له',\n",
              " 'ألأجمعك',\n",
              " 'أفلديهم',\n",
              " 'أكذواتي',\n",
              " 'أفلنفسكم',\n",
              " 'أفلهاتين',\n",
              " 'وكتينك',\n",
              " 'فبضعكما',\n",
              " 'تارة',\n",
              " 'فلعليكن',\n",
              " 'كأبيه',\n",
              " 'أوبجميع',\n",
              " 'أولإنهم',\n",
              " 'بجميعنا',\n",
              " 'فأعليهما',\n",
              " 'أوحسبهم',\n",
              " 'وبماذا',\n",
              " 'فكمثل',\n",
              " 'بشطره',\n",
              " 'أفلمثلهن',\n",
              " 'وحولك',\n",
              " 'ولأيك',\n",
              " 'فمتى',\n",
              " 'شطرنا',\n",
              " 'تي',\n",
              " 'ألديه',\n",
              " 'فحولنا',\n",
              " 'ففوقهم',\n",
              " 'أفنفسهن',\n",
              " 'لشبهكن',\n",
              " 'فلعليهم',\n",
              " 'أوتحتهما',\n",
              " 'وشبهنا',\n",
              " 'فكأية',\n",
              " 'أفحسبما',\n",
              " 'فككلهن',\n",
              " 'وأبوكم',\n",
              " 'فلجنبكم',\n",
              " 'حدى',\n",
              " 'أبعضهن',\n",
              " 'فكشرقهم',\n",
              " 'وكغربكن',\n",
              " 'أفكبعضه',\n",
              " 'أوبذلكم',\n",
              " 'وبخلفها',\n",
              " 'فبذويهما',\n",
              " 'وبأيكن',\n",
              " 'وثم',\n",
              " 'معاذه',\n",
              " 'أفليمينهما',\n",
              " 'وكأجمع',\n",
              " 'أفكنفسهن',\n",
              " 'أخبر',\n",
              " 'فجنبهن',\n",
              " 'فبعضهن',\n",
              " 'وبجنوبكن',\n",
              " 'أنًّ',\n",
              " 'فكحسبكن',\n",
              " 'ولدنهما',\n",
              " 'كذاتك',\n",
              " 'فلوقتكم',\n",
              " 'أفحسب',\n",
              " 'أفعينهن',\n",
              " 'فغيركما',\n",
              " 'وعلى',\n",
              " 'فمنك',\n",
              " 'فلحسبكن',\n",
              " 'أحسبما',\n",
              " 'ولديكما',\n",
              " 'قبل',\n",
              " 'وجنوبكم',\n",
              " 'فلسواي',\n",
              " 'فإنه',\n",
              " 'أوبشبهكن',\n",
              " 'فبأكثرك',\n",
              " 'وأثناءكن',\n",
              " 'نفس',\n",
              " 'أكثر',\n",
              " 'وآنذاك',\n",
              " 'وآض',\n",
              " 'هاؤم',\n",
              " 'أوبهاته',\n",
              " 'ألأناهما',\n",
              " 'غروبه',\n",
              " 'أوليمينهن',\n",
              " 'ولإلينا',\n",
              " 'بغيركن',\n",
              " 'وعداكن',\n",
              " 'فليمينكن',\n",
              " 'وبوقت',\n",
              " 'وبذين',\n",
              " 'أولكأنهن',\n",
              " 'ولأمامكما',\n",
              " 'بذه',\n",
              " 'فأعليهن',\n",
              " 'ألغيري',\n",
              " 'أوعنكن',\n",
              " 'نحوهما',\n",
              " 'أشبهها',\n",
              " 'فلبعضه',\n",
              " 'عامتك',\n",
              " 'كلكن',\n",
              " 'أكسواي',\n",
              " 'فلأخيهم',\n",
              " 'لأنتما',\n",
              " 'وكأعليك',\n",
              " 'أكهما',\n",
              " 'بليلي',\n",
              " 'وأقلي',\n",
              " 'فأكثري',\n",
              " 'لأقلكما',\n",
              " 'أفعينه',\n",
              " 'بأخيها',\n",
              " 'فبشبهنا',\n",
              " 'فبجميعكما',\n",
              " 'وكعينكن',\n",
              " 'تجاهك',\n",
              " 'بأكثركن',\n",
              " 'أفعنهما',\n",
              " 'أوكذي',\n",
              " 'فبعدكم',\n",
              " 'ولساعتهن',\n",
              " 'أفنحوكم',\n",
              " 'فتي',\n",
              " 'بشبهي',\n",
              " 'أنفسهم',\n",
              " 'أأناهن',\n",
              " 'وكأنما',\n",
              " 'تعسا',\n",
              " 'ألفوق',\n",
              " 'أفنحوهما',\n",
              " 'وكساعتنا',\n",
              " 'أفأولالك',\n",
              " 'بغربه',\n",
              " 'وذاتهم',\n",
              " 'وإياهم',\n",
              " 'أوأولئك',\n",
              " 'سواهما',\n",
              " 'ألفيكما',\n",
              " 'وأبوهم',\n",
              " 'وكشطركم',\n",
              " 'ألفوقنا',\n",
              " 'أكأنهما',\n",
              " 'فشبههما',\n",
              " 'وكساعتها',\n",
              " 'أفلشمالكم',\n",
              " 'وكغربكم',\n",
              " 'أككليكما',\n",
              " 'أفكجميعها',\n",
              " 'وبأجمعها',\n",
              " 'فخلاهن',\n",
              " 'ظلّ',\n",
              " 'شمالكن',\n",
              " 'فبسوى',\n",
              " 'فكذلكم',\n",
              " 'أولوراءنا',\n",
              " 'وكأسفلي',\n",
              " 'فبغيرك',\n",
              " 'ذووها',\n",
              " 'بأسفلها',\n",
              " 'أوأمامنا',\n",
              " 'ألنفسهما',\n",
              " 'أوسوى',\n",
              " 'ولصار',\n",
              " 'ولسوى',\n",
              " 'فلليلكن',\n",
              " 'أوكأولئك',\n",
              " 'وبسواهم',\n",
              " 'فتحتها',\n",
              " 'قد',\n",
              " 'أليمينكن',\n",
              " 'حولهما',\n",
              " 'فلشرقهن',\n",
              " 'فلوراءه',\n",
              " 'أوحسبنا',\n",
              " 'فلزمانكن',\n",
              " 'أوبضع',\n",
              " 'فلنفسك',\n",
              " 'وبساعتي',\n",
              " 'وبكلكن',\n",
              " 'كأسفل',\n",
              " 'ساعتكم',\n",
              " 'لذه',\n",
              " 'أفلأمامكما',\n",
              " 'لفيه',\n",
              " 'ألازلتما',\n",
              " 'فكوقتهن',\n",
              " 'ولآض',\n",
              " 'فبأجمعهن',\n",
              " 'وكأعليهم',\n",
              " 'أوكأنهما',\n",
              " 'بكلهم',\n",
              " 'أفخلفك',\n",
              " 'وكابنه',\n",
              " 'فكأسفلها',\n",
              " 'كجميعكم',\n",
              " 'بأولئك',\n",
              " 'أخانا',\n",
              " 'أولأجمعنا',\n",
              " 'أوهاته',\n",
              " 'حواليكن',\n",
              " 'أولخلفهما',\n",
              " 'أحسبه',\n",
              " 'أفكأنما',\n",
              " 'وأسفله',\n",
              " 'بسواكن',\n",
              " 'فلجميعهن',\n",
              " 'ألسنا',\n",
              " 'أفأمامك',\n",
              " 'فأولئك',\n",
              " 'حموها',\n",
              " 'فلازال',\n",
              " 'ربعمئ',\n",
              " 'أعامة',\n",
              " 'أوعني',\n",
              " 'وعلي',\n",
              " 'أفلكلتا',\n",
              " 'بتلكم',\n",
              " 'أولأجمعكما',\n",
              " 'فلذاتهما',\n",
              " 'وبأيتكم',\n",
              " 'فمرة',\n",
              " 'فحوله',\n",
              " 'أفكنحو',\n",
              " 'أويمينكما',\n",
              " 'اخو',\n",
              " 'لأسفلهم',\n",
              " 'أفلشبهكن',\n",
              " 'وحوالينا',\n",
              " 'أوكهن',\n",
              " 'فلخلفهما',\n",
              " 'كوقتكم',\n",
              " 'خلالهما',\n",
              " 'حولها',\n",
              " 'أفلسواها',\n",
              " 'كجنبهم',\n",
              " 'فكتلقائكم',\n",
              " 'ألحسبهن',\n",
              " 'ولابننا',\n",
              " 'أفكحسبي',\n",
              " 'فبعضك',\n",
              " 'ليستا',\n",
              " 'أفلنفسهما',\n",
              " 'ألازلتن',\n",
              " 'أوأناك',\n",
              " 'فبعامته',\n",
              " 'وبجنوبهما',\n",
              " 'فلمع',\n",
              " 'فبأكثرهم',\n",
              " 'أوبشبههما',\n",
              " 'وكغيركما',\n",
              " 'وابنه',\n",
              " 'أفيمينهم',\n",
              " 'أوإنكما',\n",
              " 'أولبعضها',\n",
              " 'أمثلكم',\n",
              " 'وبذويهم',\n",
              " 'فأينا',\n",
              " 'فلأجمعنا',\n",
              " 'وفاهن',\n",
              " 'أولكليهما',\n",
              " 'قطب',\n",
              " 'أنتن',\n",
              " 'بغيركم',\n",
              " 'وكي',\n",
              " 'ولذويه',\n",
              " 'لوم',\n",
              " 'كابنها',\n",
              " 'وكحميك',\n",
              " 'أفلمنكم',\n",
              " 'ولم',\n",
              " 'أكنحوك',\n",
              " 'فلأسفل',\n",
              " 'ءَ',\n",
              " 'فكساعتي',\n",
              " 'فتلقاءك',\n",
              " 'وبذانك',\n",
              " 'أولذاك',\n",
              " 'أفبحسبهم',\n",
              " 'وليمينك',\n",
              " 'صدقا',\n",
              " 'وبأخيهم',\n",
              " 'بفيهن',\n",
              " 'وذيت',\n",
              " 'ولشرقهم',\n",
              " 'كشرقه',\n",
              " 'فبينها',\n",
              " 'لنحوهن',\n",
              " 'وتجاههن',\n",
              " 'ولجنبكم',\n",
              " 'أيان',\n",
              " 'وبأيتكما',\n",
              " 'أكمثلي',\n",
              " 'فنحوكم',\n",
              " 'فكبعضكن',\n",
              " 'أسواكن',\n",
              " 'مثلنا',\n",
              " 'أجمعي',\n",
              " 'وراءَك',\n",
              " 'ث',\n",
              " 'فكشرقه',\n",
              " 'لأكثرنا',\n",
              " 'كغيركم',\n",
              " 'لليلكما',\n",
              " 'وكنحوكما',\n",
              " 'فلوقتهن',\n",
              " 'مادامتا',\n",
              " 'فبشبهي',\n",
              " 'أوكعامتكن',\n",
              " 'ألسواهم',\n",
              " 'لمثلك',\n",
              " 'أولتحته',\n",
              " 'وللحظتهم',\n",
              " 'ولشمالهن',\n",
              " 'ولغيره',\n",
              " 'فذوا',\n",
              " 'ولهي',\n",
              " 'ب',\n",
              " 'وكحميهما',\n",
              " 'لعامتكن',\n",
              " 'مابرحتما',\n",
              " 'أوعلي',\n",
              " 'بأننا',\n",
              " 'أوسواكم',\n",
              " 'أبيهم',\n",
              " 'فشهرهما',\n",
              " 'راح',\n",
              " 'فلإليه',\n",
              " 'عطى',\n",
              " 'أوشبههما',\n",
              " 'كأيكن',\n",
              " 'أيضا',\n",
              " 'وخلفكم',\n",
              " 'للألى',\n",
              " 'فكذويهم',\n",
              " 'وكساعتك',\n",
              " 'أفكمثلها',\n",
              " 'وإنهن',\n",
              " 'فلسوى',\n",
              " 'أوبعينهما',\n",
              " 'فلعينها',\n",
              " 'فبأقله',\n",
              " 'فللحظته',\n",
              " 'أفكلها',\n",
              " 'أوبنا',\n",
              " 'بهاتي',\n",
              " 'كجنبنا',\n",
              " 'وعنهن',\n",
              " 'بعدكن',\n",
              " 'لأية',\n",
              " 'لأكثركما',\n",
              " 'فبأقلهما',\n",
              " 'وتجاههما',\n",
              " ...}"
            ]
          },
          "execution_count": 75,
          "metadata": {},
          "output_type": "execute_result"
        }
      ],
      "source": [
        "arabic_stopwords = stopwords.words('arabic')\n",
        "arabic_stopwords.extend(stp.stopwords_list())\n",
        "stop_words = {entry for entry in arabic_stopwords}\n",
        "\n",
        "with open(\"arabic_stopwords.txt\", \"r\", encoding=\"UTF-8\") as file:\n",
        "    for word in file:\n",
        "        stop_words.add(stemmer.stem(word.strip()))\n",
        "stop_words"
      ]
    },
    {
      "cell_type": "code",
      "execution_count": 76,
      "metadata": {},
      "outputs": [],
      "source": [
        "def remove_stop_words(tweet: str) -> str:\n",
        "    words = set(tweet.split(sep = ' '))\n",
        "    return \" \".join(list((words - stop_words)))\n",
        "\n",
        "data[\"tweet\"] = data[\"tweet\"].apply(lambda document: remove_stop_words(document))"
      ]
    },
    {
      "cell_type": "code",
      "execution_count": 23,
      "metadata": {
        "id": "lw0Z0MsXEEsz"
      },
      "outputs": [],
      "source": [
        "data.to_csv(\"res.csv\") # inspect the resulting file to validate the preprocessing"
      ]
    },
    {
      "attachments": {},
      "cell_type": "markdown",
      "metadata": {
        "id": "l4AEbbxhEEsz"
      },
      "source": [
        "# Text representation"
      ]
    },
    {
      "attachments": {},
      "cell_type": "markdown",
      "metadata": {},
      "source": [
        "## BoW (Bag-of-Words)"
      ]
    },
    {
      "cell_type": "code",
      "execution_count": 77,
      "metadata": {
        "id": "KnE8RuVGEEtI"
      },
      "outputs": [
        {
          "data": {
            "text/plain": [
              "(15514,)"
            ]
          },
          "execution_count": 77,
          "metadata": {},
          "output_type": "execute_result"
        }
      ],
      "source": [
        "X_train, X_test, y_train, y_test = train_test_split(data[\"tweet\"], data[\"class\"], test_size = 0.2, random_state = SEED, stratify= data[\"class\"])\n",
        "\n",
        "vectorizer = CountVectorizer()\n",
        "\n",
        "X_train = vectorizer.fit_transform(X_train).toarray()\n",
        "X_test = vectorizer.transform(X_test).toarray()\n",
        "\n",
        "X_train[0].shape"
      ]
    },
    {
      "attachments": {},
      "cell_type": "markdown",
      "metadata": {},
      "source": [
        "### Performance evaluation\n",
        "#### Naive bayes"
      ]
    },
    {
      "cell_type": "code",
      "execution_count": 78,
      "metadata": {},
      "outputs": [
        {
          "name": "stdout",
          "output_type": "stream",
          "text": [
            "Accuracy: 56.45%\n"
          ]
        }
      ],
      "source": [
        "gnb = GaussianNB()\n",
        "\n",
        "gnb.fit(X_train, y_train)\n",
        "y_pred = gnb.predict(X_test)\n",
        "accuracy = accuracy_score(y_test, y_pred)\n",
        "print(f\"Accuracy: {accuracy * 100:.2f}%\")"
      ]
    },
    {
      "attachments": {},
      "cell_type": "markdown",
      "metadata": {},
      "source": [
        "#### Logistic regression"
      ]
    },
    {
      "cell_type": "code",
      "execution_count": 81,
      "metadata": {
        "colab": {
          "base_uri": "https://localhost:8080/"
        },
        "id": "r_N8hCmIEEtK",
        "outputId": "7fd72e2e-c809-445a-851d-035c5e8381eb"
      },
      "outputs": [
        {
          "name": "stdout",
          "output_type": "stream",
          "text": [
            "Accuracy: 86.77%\n"
          ]
        }
      ],
      "source": [
        "model = LogisticRegression(max_iter = 2000)\n",
        "model.fit(X_train, y_train)\n",
        "y_pred = model.predict(X_test)\n",
        "accuracy = accuracy_score(y_test, y_pred)\n",
        "print(f\"Accuracy: {accuracy * 100:.2f}%\")\n"
      ]
    },
    {
      "attachments": {},
      "cell_type": "markdown",
      "metadata": {},
      "source": [
        "#### SVM\n",
        "\n",
        "We were unable to train this model on our machines using the initial dataset, due to the **curse of dimensionality**, so we added dimensioanlity reduction"
      ]
    },
    {
      "cell_type": "code",
      "execution_count": null,
      "metadata": {},
      "outputs": [],
      "source": [
        "scaler = StandardScaler()\n",
        "svm = SVC()\n",
        "\n",
        "scaled_X_train = scaler.fit_transform(X_train)\n",
        "scaled_X_test = scaler.transform(X_test)\n",
        "\n",
        "componenets = [100, 200, 500]\n",
        "scores = []\n",
        "for n_components in componenets:\n",
        "    pca = PCA(n_components = n_components)\n",
        "    X_train_SVM = pca.fit_transform(scaled_X_train)\n",
        "    X_test_SVM  = pca.transform(scaled_X_test)\n",
        "\n",
        "    svm.fit(X_train_SVM, y_train)\n",
        "    y_pred = svm.predict(X_test_SVM)\n",
        "    accuracy = accuracy_score(y_test, y_pred)\n",
        "    scores.append(accuracy)\n",
        "\n",
        "plt.plot(componenets, scores)\n",
        "plt.xlabel('# of componenets')\n",
        "plt.ylabel('Accuracy')\n",
        "plt.show()"
      ]
    },
    {
      "attachments": {},
      "cell_type": "markdown",
      "metadata": {},
      "source": [
        "#### Random forest"
      ]
    },
    {
      "cell_type": "code",
      "execution_count": 85,
      "metadata": {},
      "outputs": [
        {
          "name": "stdout",
          "output_type": "stream",
          "text": [
            "Random Forest accuracy: 86.28%\n"
          ]
        }
      ],
      "source": [
        "rf = RandomForestClassifier()\n",
        "\n",
        "rf.fit(X_train, y_train)\n",
        "y_pred = rf.predict(X_test)\n",
        "accuracy = accuracy_score(y_test, y_pred)\n",
        "print(f\"Random Forest accuracy: {accuracy * 100:.2f}%\")"
      ]
    },
    {
      "attachments": {},
      "cell_type": "markdown",
      "metadata": {},
      "source": [
        "## TF-IDF"
      ]
    },
    {
      "cell_type": "code",
      "execution_count": 86,
      "metadata": {},
      "outputs": [
        {
          "data": {
            "text/plain": [
              "(15514,)"
            ]
          },
          "execution_count": 86,
          "metadata": {},
          "output_type": "execute_result"
        }
      ],
      "source": [
        "X_train, X_test, y_train, y_test = train_test_split(data[\"tweet\"], data[\"class\"], test_size = 0.2, random_state = SEED, stratify= data[\"class\"])\n",
        "\n",
        "vectorizer = TfidfVectorizer()\n",
        "\n",
        "X_train = vectorizer.fit_transform(X_train).toarray()\n",
        "X_test = vectorizer.transform(X_test).toarray()\n",
        "\n",
        "X_train[0].shape"
      ]
    },
    {
      "attachments": {},
      "cell_type": "markdown",
      "metadata": {},
      "source": [
        "### Performance evaluation\n",
        "#### Naive bayes"
      ]
    },
    {
      "cell_type": "code",
      "execution_count": 89,
      "metadata": {},
      "outputs": [
        {
          "name": "stdout",
          "output_type": "stream",
          "text": [
            "Accuracy: 58.32%\n"
          ]
        }
      ],
      "source": [
        "gnb = GaussianNB()\n",
        "\n",
        "gnb.fit(X_train, y_train)\n",
        "y_pred = gnb.predict(X_test)\n",
        "accuracy = accuracy_score(y_test, y_pred)\n",
        "print(f\"Accuracy: {accuracy * 100:.2f}%\")"
      ]
    },
    {
      "attachments": {},
      "cell_type": "markdown",
      "metadata": {},
      "source": [
        "#### Logistic regression"
      ]
    },
    {
      "cell_type": "code",
      "execution_count": 90,
      "metadata": {},
      "outputs": [
        {
          "name": "stdout",
          "output_type": "stream",
          "text": [
            "Accuracy: 87.01%\n"
          ]
        }
      ],
      "source": [
        "model = LogisticRegression(max_iter = 1000)\n",
        "model.fit(X_train, y_train)\n",
        "y_pred = model.predict(X_test)\n",
        "accuracy = accuracy_score(y_test, y_pred)\n",
        "print(f\"Accuracy: {accuracy * 100:.2f}%\")"
      ]
    },
    {
      "attachments": {},
      "cell_type": "markdown",
      "metadata": {},
      "source": [
        "#### SVM"
      ]
    },
    {
      "cell_type": "code",
      "execution_count": 96,
      "metadata": {},
      "outputs": [
        {
          "name": "stdout",
          "output_type": "stream",
          "text": [
            "Accuracy: 58.77%\n"
          ]
        }
      ],
      "source": [
        "scaler = StandardScaler()\n",
        "pca = PCA(n_components = 200)\n",
        "svm = SVC()\n",
        "\n",
        "X_train_SVM = pca.fit_transform(scaler.fit_transform(X_train.copy()))\n",
        "X_test_SVM = pca.transform(scaler.transform(X_test.copy()))\n",
        "\n",
        "y_train_SVM = y_train\n",
        "y_test_SVM = y_test\n",
        "\n",
        "svm.fit(X_train_SVM, y_train_SVM)\n",
        "y_pred = svm.predict(X_test_SVM)\n",
        "accuracy = accuracy_score(y_test_SVM, y_pred)\n",
        "print(f\"Accuracy: {accuracy * 100:.2f}%\")"
      ]
    },
    {
      "attachments": {},
      "cell_type": "markdown",
      "metadata": {},
      "source": [
        "#### Random Forest"
      ]
    },
    {
      "cell_type": "code",
      "execution_count": 91,
      "metadata": {},
      "outputs": [
        {
          "name": "stdout",
          "output_type": "stream",
          "text": [
            "Random Forest accuracy: 86.80%\n"
          ]
        }
      ],
      "source": [
        "rf = RandomForestClassifier()\n",
        "\n",
        "rf.fit(X_train, y_train)\n",
        "y_pred = rf.predict(X_test)\n",
        "accuracy = accuracy_score(y_test, y_pred)\n",
        "print(f\"Random Forest accuracy: {accuracy * 100:.2f}%\")"
      ]
    },
    {
      "attachments": {},
      "cell_type": "markdown",
      "metadata": {},
      "source": [
        "## LDA"
      ]
    },
    {
      "cell_type": "code",
      "execution_count": 92,
      "metadata": {},
      "outputs": [
        {
          "name": "stdout",
          "output_type": "stream",
          "text": [
            "Accuracy: 63.22%\n"
          ]
        }
      ],
      "source": [
        "lda = LatentDirichletAllocation(n_components = 100, random_state = SEED)\n",
        "X_train_lda = lda.fit_transform(X_train)\n",
        "X_test_lda = lda.transform(X_test)\n",
        "\n",
        "model = LogisticRegression(max_iter = 1000)\n",
        "model.fit(X_train_lda, y_train)\n",
        "y_pred = model.predict(X_test_lda)\n",
        "accuracy = accuracy_score(y_test, y_pred)\n",
        "print(f\"Accuracy: {accuracy * 100:.2f}%\")"
      ]
    },
    {
      "attachments": {},
      "cell_type": "markdown",
      "metadata": {},
      "source": [
        "## LSA"
      ]
    },
    {
      "cell_type": "code",
      "execution_count": 94,
      "metadata": {},
      "outputs": [
        {
          "name": "stdout",
          "output_type": "stream",
          "text": [
            "Accuracy: 80.00%\n"
          ]
        }
      ],
      "source": [
        "lsa = TruncatedSVD(n_components = 10, random_state = SEED)\n",
        "X_train_lsa = lsa.fit_transform(X_train)\n",
        "X_test_lsa = lsa.transform(X_test)\n",
        "model = LogisticRegression(max_iter = 1000)\n",
        "model.fit(X_train_lsa, y_train)\n",
        "y_pred = model.predict(X_test_lsa)\n",
        "accuracy = accuracy_score(y_test, y_pred)\n",
        "print(f\"Accuracy: {accuracy * 100:.2f}%\")"
      ]
    },
    {
      "attachments": {},
      "cell_type": "markdown",
      "metadata": {},
      "source": [
        "## BoC (Bag-of-concepts)\n",
        "\n",
        "The BOC (Bag-of-Concepts) method has been proposed as a solution to the problem of large dimensions and sparsity that traditional methods such as TF-IDF and Bag of words suffer from."
      ]
    },
    {
      "attachments": {},
      "cell_type": "markdown",
      "metadata": {},
      "source": [
        "## Word embeddings\n",
        "This is done using the AraVec model which is trained on arabic tweets"
      ]
    },
    {
      "cell_type": "code",
      "execution_count": 95,
      "metadata": {},
      "outputs": [],
      "source": [
        "model = gensim.models.Word2Vec.load(\"./aravec/tweets_cbow_300\")\n",
        "word_vecs = {}\n",
        "for tweet in data[\"tweet\"]:\n",
        "    for word in tweet.split(\" \"):\n",
        "        try:\n",
        "            word_vecs[word] = model.wv[word]\n",
        "        except Exception:\n",
        "            pass"
      ]
    },
    {
      "attachments": {},
      "cell_type": "markdown",
      "metadata": {},
      "source": [
        "## Clustering the words embeddings\n",
        "This is done in order to extract concepts, using a variant of KMeans called spherical KMeans which uses cosine similarity, making it well suited for this task"
      ]
    },
    {
      "cell_type": "code",
      "execution_count": 50,
      "metadata": {},
      "outputs": [
        {
          "name": "stderr",
          "output_type": "stream",
          "text": [
            "c:\\Python311\\Lib\\site-packages\\sklearn\\cluster\\_kmeans.py:1416: FutureWarning: The default value of `n_init` will change from 10 to 'auto' in 1.4. Set the value of `n_init` explicitly to suppress the warning\n",
            "  super()._check_params_vs_input(X, default_n_init=10)\n"
          ]
        }
      ],
      "source": [
        "NUM_CONCEPTS = 80\n",
        "\n",
        "model = KMeans(n_clusters = NUM_CONCEPTS)\n",
        "X = list(word_vecs.values())\n",
        "model.fit(X)\n",
        "concepts = model.predict(X)\n"
      ]
    },
    {
      "attachments": {
        "image.png": {
          "image/png": "[encoded data removed]"
        }
      },
      "cell_type": "markdown",
      "metadata": {},
      "source": [
        "## Concept extraction\n",
        "Now that we related words to concepts, we can create a document representataion, in which we express the degree of which a document contains a certain concept, and instead of taking only the freuqncies, we consider an approach similar to TF-IDF called, CF-IDF.\n",
        "\n",
        "CF-IDF is defined using the following formula : \n",
        "\n",
        "![image.png](attachment:image.png)\n",
        "\n",
        "\n",
        "such that : \n",
        "\n",
        "    * |D| is the number of documents in the corpus\n",
        "    * n_c is the number of occurences of concept c in document d\n",
        "    * n_k is the total number of concepts in this document "
      ]
    },
    {
      "cell_type": "code",
      "execution_count": 51,
      "metadata": {},
      "outputs": [
        {
          "name": "stdout",
          "output_type": "stream",
          "text": [
            "{'غرف': 4, 'نظف': 74, 'يضح': 68, 'صدق': 27, 'نوم': 48, 'سير': 4, 'شوق': 48, 'وجد': 33, 'وتم': 17, 'غزا': 43, 'حب': 48, 'احب': 13, 'وله': 7, 'مسه': 33, 'نرح': 79, 'رجلو': 67, 'جيت': 21, 'انت': 48, 'هيك': 38, 'كمل': 5, 'طلب': 17, 'حدا': 38, 'يرب': 68, 'معو': 38, 'حيت': 7, 'سلسل': 79, 'قرت': 20, 'هالحلو': 79, 'تبع': 67, 'بقي': 14, 'صمت': 18, 'خبز': 23, 'غمز': 5, 'عرف': 33, 'يقل': 40, 'عما': 31, 'شرش': 79, 'جمل': 74, 'هزء': 79, 'شمت': 7, 'بسم': 74, 'لهم': 77, 'سمع': 33, 'ايد': 9, 'لحم': 23, 'كف': 48, 'شحم': 62, 'سنن': 47, 'هني': 27, 'ضيا': 18, 'هنئ': 79, 'ادر': 11, 'خلج': 58, 'رحل': 33, 'طار': 21, 'رشد': 6, 'نسي': 33, 'فته': 23, 'رجل': 62, 'حزن': 48, 'خلف': 4, 'لقل': 68, 'قلب': 48, 'اله': 52, 'وفق': 8, 'شاء': 29, 'طيب': 27, 'شري': 7, 'ورد': 18, 'فرح': 18, 'نفس': 72, 'دائ': 1, 'مرض': 64, 'ويت': 1, 'فرق': 64, 'الن': 1, 'ونا': 27, 'هلل': 79, 'اهل': 57, 'اشف': 8, 'برا': 27, 'طبع': 48, 'لخص': 67, 'نقط': 67, 'داي': 1, 'كدا': 14, 'ظلم': 47, 'كنت': 13, 'شعر': 48, 'مطر': 18, 'واسترجاع': 79, 'صنع': 43, 'ركض': 5, 'لعب': 24, 'اسي': 1, 'زي': 72, 'حول': 17, 'تضح': 68, 'عشن': 67, 'دا': 14, 'مهم': 64, 'كلم': 5, 'صور': 56, 'حكم': 43, 'خنق': 43, 'تدر': 40, 'اذي': 47, 'صبر': 48, 'يحد': 40, 'عصب': 5, 'ربك': 49, 'غرد': 22, 'الي': 54, 'سحب': 17, 'سبق': 17, 'رتي': 3, 'فوز': 24, 'مال': 7, 'شرط': 64, 'بلغ': 33, 'نسب': 64, 'للا': 9, 'ولد': 62, 'دنا': 7, 'دكتور': 62, 'تحد': 64, 'عشق': 18, 'بلد': 62, 'هاشتاق': 56, 'ملء': 18, 'صحب': 47, 'دعمو': 79, 'نزل': 33, 'حد': 14, 'كوب': 23, 'وقل': 51, 'فعل': 43, 'خدا': 32, 'دي': 14, 'زلو': 79, 'توت': 23, 'سفل': 79, 'تشش': 32, 'امج': 58, 'بلا': 54, 'رحم': 47, 'حل': 64, 'وقع': 43, 'صفر': 64, 'وسد': 74, 'ذمه': 47, 'محد': 72, 'طين': 9, 'فور': 45, 'خرج': 33, 'دلم': 32, 'علق': 74, 'طلق': 7, 'وحل': 64, 'الس': 1, 'قدر': 49, 'خلق': 47, 'احس': 13, 'يقن': 79, 'شيء': 50, 'خاف': 33, 'تطل': 20, 'مط': 1, 'تعب': 48, 'همم': 32, 'سعد': 6, 'طلتج': 79, 'رجع': 33, 'تسي': 68, 'جمع': 43, 'تدم': 40, 'اغا': 9, 'عين': 48, 'ينم': 40, 'دمن': 68, 'ناس': 50, 'حاد': 64, 'ركع': 33, 'ضحك': 5, 'مش': 14, 'فيف': 32, 'فرض': 43, 'صرف': 39, 'تخذ': 79, 'غلط': 72, 'هاي': 38, 'عشب': 4, 'ونب': 68, 'يضع': 43, 'طفل': 4, 'ثوب': 18, 'يخف': 40, 'ظهر': 43, 'قضب': 79, 'نجم': 6, 'برق': 7, 'تجب': 40, 'غيب': 48, 'ويا': 7, 'شقي': 48, 'تكف': 40, 'ثيب': 79, 'ربع': 23, 'صبب': 32, 'بصر': 7, 'وقف': 43, 'روح': 48, 'وحش': 14, 'دوافير': 57, 'شرك': 47, 'صمم': 43, 'جلد': 23, 'وحد': 67, 'خون': 7, 'ستب': 79, 'قطع': 43, 'راهيم': 79, 'نظر': 64, 'بلح': 23, 'يثب': 79, 'وذا': 27, 'جين': 9, 'شي': 50, 'خذ': 74, 'دار': 4, 'افك': 13, 'تحب': 20, 'يعط': 40, 'تكر': 79, 'حيل': 48, 'ال': 3, 'حصل': 43, 'عمر': 6, 'مثل': 72, 'صحح': 5, 'نفل': 79, 'رفض': 17, 'ماتمزح': 79, 'ايش': 0, 'بشر': 12, 'رف': 3, 'علم': 47, 'دع': 68, 'سلط': 74, 'كلب': 62, 'ده': 14, 'افي': 68, 'اطل': 8, 'ذكر': 47, 'ولي': 7, 'بسب': 64, 'كون': 68, 'قل': 51, 'هده': 79, 'يكف': 40, 'نور': 18, 'ورق': 23, 'حدق': 79, 'جعل': 74, 'ريه': 11, 'شجر': 4, 'بهج': 79, 'طقت': 5, 'سعه': 18, 'حلل': 74, 'خرط': 5, 'يخذ': 79, 'خطا': 64, 'ارخ': 68, 'مات': 33, 'معا': 49, 'مكن': 74, 'نص': 72, 'صبح': 48, 'ماتشوف': 5, 'شر': 47, 'قعد': 72, 'فكر': 64, 'تلف': 5, 'امر': 47, 'سرل': 79, 'جدل': 17, 'شمل': 74, 'زلي': 79, 'سطح': 4, 'خرس': 18, 'شهد': 6, 'سقف': 4, 'دور': 64, 'عزل': 17, 'قار': 17, 'بمد': 74, 'عرص': 14, 'كتب': 43, 'تحك': 20, 'تعش': 40, 'امي': 58, 'الج': 1, 'دخل': 5, 'سبع': 4, 'طيف': 48, 'نعش': 4, 'ذمت': 7, 'طول': 72, 'اوحش': 14, 'غصب': 72, 'وعي': 64, 'زعج': 79, 'جبر': 6, 'غفي': 21, 'قلد': 5, 'يفل': 5, 'خلي': 72, 'يجب': 16, 'ندر': 11, 'رقص': 23, 'حمس': 7, 'جنه': 18, 'ايك': 5, 'تؤذ': 40, 'تكن': 40, 'عفي': 47, 'زيكو': 67, 'خير': 47, 'تهد': 20, 'اهد': 74, 'سهم': 4, 'جرب': 72, 'ٱن': 12, 'صعب': 72, 'ظرف': 64, 'ٱكثر': 12, 'دلل': 68, 'ورا': 72, 'سود': 48, 'تني': 68, 'شعب': 62, 'سكت': 33, 'سقط': 43, 'وشو': 0, 'قولو': 57, 'مرت': 21, 'وبر': 68, 'سلم': 74, 'بتع': 9, 'فيس': 56, 'يتر': 79, 'بضن': 79, 'سيب': 14, 'الد': 68, 'كمن': 49, 'كوس': 9, 'عيل': 27, 'دفع': 43, 'نيج': 35, 'وسم': 7, 'هيد': 9, 'عبر': 17, 'حضر': 33, 'صدر': 48, 'فضل': 47, 'شرف': 6, 'نبر': 79, 'لوح': 9, 'قذف': 43, 'تمم': 8, 'نشط': 56, 'يحس': 5, 'يجر': 40, 'بدل': 72, 'سرع': 7, 'علج': 23, 'نبه': 79, 'الت': 3, 'كره': 24, 'حفظ': 47, 'ترد': 20, 'لرد': 17, 'يور': 45, 'يد': 3, 'بتق': 9, 'ابق': 40, 'تقل': 40, 'بحب': 2, 'انا': 13, 'حلت': 20, 'ترج': 68, 'غضب': 47, 'كيس': 23, 'وش': 0, 'هتم': 68, 'شخص': 50, 'اكر': 68, 'اني': 13, 'اعند': 79, 'كوم': 45, 'جبريل': 6, 'عبد': 6, 'فرج': 8, 'خيف': 79, 'تنس': 42, 'روز': 32, 'خطب': 43, 'زوج': 62, 'حبب': 74, 'قفل': 5, 'هتنتحر': 79, 'يوم': 50, 'اقك': 79, 'لنس': 32, 'ونس': 68, 'وثق': 47, 'كبر': 21, 'ثق': 49, 'خزن': 79, 'تره': 27, 'واز': 45, 'حلم': 48, 'قرب': 74, 'تزج': 79, 'خلص': 38, 'اتش': 45, 'انم': 8, 'جدع': 14, 'اقل': 64, 'ارو': 68, 'كفي': 18, 'ايه': 14, 'فتح': 17, 'زاج': 68, 'عكر': 7, 'سخر': 8, 'بحا': 53, 'نسك': 79, 'تشت': 68, 'يبك': 68, 'تبن': 27, 'دعو': 9, 'الص': 1, 'دين': 47, 'حمد': 6, 'فصل': 64, 'نعم': 64, 'جوز': 23, 'دعم': 17, 'بدع': 7, 'مرح': 32, 'بيت': 4, 'هالمواقف': 50, 'لسئ': 79, 'خدم': 43, 'حشر': 5, 'بين': 20, 'تصر': 20, 'جات': 21, 'نشف': 21, 'عمل': 64, 'عدم': 64, 'حرم': 47, 'حسن': 6, 'بعن': 68, 'بره': 14, 'حدث': 43, 'حسب': 64, 'عضو': 6, 'قيد': 64, 'دول': 14, 'نهي': 6, 'جزم': 67, 'وجه': 7, 'يتم': 17, 'عقب': 72, 'لان': 54, 'وشد': 74, 'هدف': 24, 'يزد': 40, 'دبر': 59, 'عطل': 64, 'مايحصل': 64, 'يقم': 40, 'هرب': 33, 'طعن': 43, 'مست': 9, 'هطل': 18, 'ياب': 68, 'رضو': 79, 'برز': 43, 'الث': 1, 'احد': 50, 'صح': 27, 'ولو': 75, 'اسم': 56, 'غرب': 4, 'عمي': 62, 'شبح': 4, 'صغر': 47, 'تشب': 7, 'يق': 1, 'شاف': 33, 'بدي': 38, 'شكلو': 38, 'ارح': 8, 'درس': 64, 'فش': 38, 'امل': 18, 'عقلاء': 57, 'لحق': 43, 'لوم': 48, 'دستور': 64, 'اهي': 58, 'قال': 33, 'نبي': 57, 'عيش': 23, 'منت': 48, 'بسط': 74, 'جبن': 23, 'اكن': 13, 'برك': 68, 'حرب': 17, 'حله': 4, 'جذب': 64, 'عيو': 53, 'يخي': 27, 'حبك': 48, 'لحج': 17, 'وسط': 4, 'وصل': 33, 'ابي': 13, 'ريد': 45, 'فده': 67, 'فسر': 74, 'كنه': 7, 'غلا': 48, 'ابك': 68, 'فقد': 49, 'رمض': 1, 'نحب': 40, 'زين': 27, 'زهراء': 6, 'عطر': 18, 'كعب': 23, 'بوب': 45, 'لوع': 7, 'تعمد': 64, 'صمه': 79, 'دهر': 48, 'يجز': 79, 'رخص': 64, 'فطر': 47, 'حزم': 17, 'سهل': 8, 'فمك': 50, 'يدك': 12, 'تضع': 20, 'كشف': 17, 'تسب': 5, 'تدخ': 68, 'فخر': 6, 'شهي': 18, 'طهر': 18, 'وسع': 74, 'انو': 38, 'عضل': 32, 'بضل': 38, 'عظم': 47, 'شكر': 47, 'درد': 32, 'شجع': 5, 'كان': 33, 'نصر': 6, 'عاك': 68, 'ربن': 68, 'قري': 4, 'بطل': 62, 'نظم': 17, 'وتر': 18, 'شكل': 23, 'ترك': 43, 'قضا': 7, 'غرم': 6, 'فنت': 79, 'حسس': 79, 'ايب': 11, 'رجو': 79, 'قسم': 27, 'سخت': 32, 'تسع': 20, 'اخذ': 13, 'بجد': 14, 'يصح': 40, 'رفع': 43, 'وصف': 43, 'هالسيناريو': 79, 'تخل': 40, 'قدم': 43, 'زعماء': 17, 'جرح': 48, 'نقص': 64, 'وجع': 48, 'وضح': 64, 'بخر': 79, 'انل': 79, 'ضيء': 18, 'اعط': 8, 'محب': 68, 'رزق': 47, 'كثر': 70, 'صفح': 68, 'طوي': 7, 'عمن': 31, 'ورث': 7, 'درك': 68, 'قيم': 64, 'جده': 17, 'حر': 62, 'اتن': 68, 'صحي': 23, 'نمت': 21, 'مرا': 27, 'هلب': 32, 'ترم': 50, 'مب': 27, 'توفر': 17, 'جيد': 64, 'طعم': 18, 'اجع': 8, 'عقد': 17, 'عد': 3, 'افت': 68, 'راك': 68, 'تلي': 68, 'عدد': 17, 'نجر': 6, 'دقق': 79, 'فهم': 64, 'ينه': 68, 'ربي': 19, 'وتب': 9, 'توب': 45, 'غفر': 47, 'شنو': 0, 'عدش': 79, 'كله': 72, 'ولش': 79, 'اغث': 74, 'صلو': 57, 'لسب': 79, 'ماتكلم': 5, 'واح': 1, 'جرم': 29, 'ولا': 75, 'حوث': 79, 'شمس': 18, 'وصم': 79, 'رغم': 54, 'اصو': 9, 'نصف': 64, 'اعن': 8, 'كذب': 43, 'ميت': 48, 'خذل': 33, 'اعذ': 79, 'بوق': 62, 'قلتل': 79, 'زمن': 64, 'شفت': 21, 'اسف': 13, 'صدف': 68, 'وشي': 67, 'لمح': 7, 'متل': 38, 'عنا': 31, 'ويل': 7, 'بخد': 79, 'منا': 63, 'صدم': 43, 'قبل': 72, 'مايعرف': 72, 'طلع': 5, 'قصب': 23, 'عقل': 62, 'شاق': 49, 'حاج': 6, 'شيئ': 50, 'حق': 27, 'هوش': 32, 'بنت': 62, 'هيط': 79, 'نقل': 17, 'حين': 16, 'ايهم': 79, 'نشد': 7, 'اخر': 72, 'افا': 27, 'نرد': 57, 'فزع': 47, 'نحن': 49, 'يمس': 40, 'سل': 68, 'شفع': 74, 'صل': 66, 'عشر': 4, 'ابا': 6, 'سيد': 6, 'الم': 3, 'جعفر': 6, 'جمب': 14, 'مل': 3, 'لمت': 68, 'كتر': 14, 'حبت': 21, 'ندل': 67, 'جهز': 74, 'يرز': 79, 'عزف': 18, 'سحق': 43, 'جماهير': 24, 'جوهر': 6, 'خبر': 56, 'ترا': 27, 'يجد': 40, 'ميز': 32, 'هيئ': 74, 'بور': 32, 'رسل': 79, 'وطن': 18, 'ارد': 13, 'قول': 47, 'لحب': 49, 'كار': 45, 'بلي': 7, 'اطع': 9, 'عيد': 6, 'مر': 21, 'ايم': 45, 'دم': 1, 'هدر': 64, 'ياء': 1, 'يرح': 40, 'يالطواقي': 79, 'حسبو': 79, 'لنب': 79, 'ماح': 68, 'كور': 45, 'بحج': 79, 'خرف': 5, 'شوف': 72, 'روت': 9, 'صرح': 43, 'ردي': 48, 'حرف': 50, 'ينو': 79, 'لج': 77, 'بيب': 24, 'ويب': 56, 'اظن': 13, 'طبق': 23, 'ايف': 3, 'رفق': 47, 'وبو': 6, 'ثبت': 39, 'بكر': 6, 'امم': 27, 'طمع': 47, 'نيب': 7, 'لني': 13, 'حكي': 48, 'لحظ': 68, 'عم': 38, 'ساه': 68, 'غفل': 33, 'طرد': 43, 'هدا': 38, 'حير': 43, 'بلك': 7, 'نصح': 47, 'جهل': 47, 'اخت': 58, 'اخد': 2, 'تهم': 64, 'لكو': 9, 'نعد': 40, 'اسمع': 13, 'حرق': 43, 'عدل': 27, 'فدو': 79, 'ملك': 6, 'يعد': 40, 'عتب': 48, 'سيك': 32, 'اسرائيلي': 17, 'سجن': 4, 'سعي': 47, 'يخض': 79, 'خطر': 64, 'ايدر': 9, 'لام': 1, 'عهد': 6, 'فار': 62, 'دهش': 79, 'جلل': 49, 'خلل': 64, 'نشر': 17, 'ليف': 45, 'شتم': 43, 'تو': 45, 'بادل': 79, 'وخا': 9, 'خوت': 7, 'لقم': 79, 'غلي': 67, 'ذهب': 33, 'مايوصل': 5, 'علي': 30, 'لسن': 64, 'ثني': 7, 'تبق': 40, 'دقيق': 64, 'لقي': 48, 'طرق': 64, 'وشك': 14, 'رها': 3, 'لشب': 79, 'شاركو': 57, 'قبر': 4, 'ريتو': 67, 'خزق': 79, 'ندس': 79, 'سان': 24, 'جيب': 23, 'لحل': 17, 'وحط': 26, 'رسه': 79, 'صرصور': 62, 'احم': 58, 'وصت': 79, 'علك': 23, 'صحت': 21, 'عزز': 74, 'لفر': 79, 'طاح': 21, 'سوي': 54, 'خشب': 23, 'فول': 23, 'خط': 4, 'واه': 7, 'فرص': 64, 'يعا': 53, 'امك': 62, 'بعد': 72, 'كنو': 24, 'عجب': 47, 'اهب': 5, 'نهم': 4, 'يرد': 40, 'عذر': 48, 'شردو': 79, 'رسم': 43, 'ثمر': 18, 'نفر': 62, 'تجر': 20, 'رقد': 7, 'ومض': 18, 'هنفضل': 14, 'حمراء': 4, 'دمع': 48, 'ورك': 45, 'حيا': 47, 'يحب': 40, 'يحط': 26, 'وهب': 8, 'حنن': 74, 'نسو': 57, 'ونم': 49, 'ذخر': 47, 'منع': 17, 'تعه': 79, 'دعس': 43, 'كبرياء': 49, 'قدت': 20, 'خشم': 62, 'تاج': 6, 'زعل': 48, 'لنه': 27, 'عفن': 62, 'اقي': 1, 'عوز': 67, 'نتو': 79, 'حقق': 8, 'موس': 23, 'قطر': 17, 'هتل': 32, 'سوه': 57, 'ثقل': 48, 'حظظ': 79, 'لزم': 47, 'ساء': 33, 'كرب': 47, 'ضقت': 21, 'تجد': 40, 'قلق': 64, 'وضع': 43, 'امن': 43, 'وملائكته': 47, 'تسل': 40, 'صلا': 79, 'يصل': 34, 'فرط': 18, 'ثقت': 68, 'عدي': 67, 'تفت': 68, 'ولع': 7, 'كرم': 6, 'بدر': 6, 'عذب': 18, 'بلت': 7, 'نهض': 43, 'رضا': 47, 'تهل': 7, 'رمو': 79, 'لغد': 29, 'حذر': 17, 'وتا': 9, 'سبح': 47, 'قلت': 21, 'يمه': 58, 'عود': 7, 'احن': 13, 'ندم': 48, 'الش': 1, 'نزع': 43, 'لاع': 68, 'اعب': 11, 'هزم': 43, 'ضغط': 64, 'قنع': 47, 'نقش': 4, 'رار': 1, 'ملف': 17, 'فوس': 68, 'بار': 32, 'ملو': 57, 'وعب': 68, 'حشد': 17, 'حفز': 79, 'نطر': 7, 'برح': 68, 'تغن': 40, 'حلي': 23, 'بله': 7, 'جبل': 4, 'سدر': 4, 'سخن': 23, 'عسل': 23, 'خلع': 43, 'سده': 7, 'نيم': 45, 'رئس': 79, 'غلق': 17, 'جمهور': 24, 'تفد': 79, 'علش': 68, 'غيت': 32, 'قدو': 32, 'عزت': 6, 'تظن': 40, 'سمر': 6, 'هيمو': 32, 'بحض': 61, 'حضن': 48, 'موت': 48, 'حبق': 23, 'قهر': 48, 'تمس': 20, 'مد': 74, 'حرك': 7, 'لحن': 18, 'بوز': 23, 'جيل': 24, 'تحس': 72, 'عون': 47, 'وضم': 74, 'بذن': 79, 'مهن': 79, 'اسد': 62, 'نبئ': 79, 'هجم': 43, 'شده': 18, 'عسكر': 6, 'فات': 21, 'جوء': 79, 'عبدال': 6, 'فاز': 33, 'شوي': 27, 'خوف': 47, 'ذكرهہ': 12, 'يخب': 40, 'ابد': 27, 'وتت': 9, 'جزر': 4, 'وز': 3, 'جرجير': 23, 'خس': 1, 'منق': 68, 'اكل': 23, 'ذهل': 79, 'ثمل': 18, 'درج': 4, 'خلد': 79, 'قصم': 79, 'شك': 40, 'طير': 48, 'عبدالمحسن': 6, 'رضه': 79, 'تلو': 49, 'ديه': 14, 'حمم': 4, 'ذنب': 47, 'مره': 50, 'ضرب': 43, 'عمو': 6, 'ودي': 72, 'يدو': 67, 'عرس': 23, 'تفه': 68, 'ركب': 5, 'عشي': 23, 'شو': 0, 'نشب': 5, 'درا': 9, 'يعن': 68, 'لزق': 67, 'اتف': 68, 'ثلث': 79, 'فرز': 17, 'مرء': 79, 'فيء': 12, 'كتكو': 79, 'لعي': 9, 'بحر': 18, 'رجعو': 57, 'ليه': 0, 'اوي': 14, 'ضحو': 57, 'هحب': 2, 'تخز': 5, 'محن': 67, 'زنق': 67, 'تكل': 40, 'ارج': 1, 'ماع': 1, 'اه': 1, 'جمس': 23, 'حاب': 72, 'لبن': 23, 'امو': 38, 'احز': 53, 'بكت': 21, 'عرض': 17, 'شقت': 7, 'لكن': 54, 'سمح': 47, 'نيل': 32, 'فتر': 79, 'بقل': 68, 'بخت': 48, 'ضفدع': 62, 'حبه': 48, 'ونت': 27, 'هلو': 58, 'غرق': 43, 'لسف': 79, 'هاشتاج': 56, 'رد': 5, 'دهن': 23, 'جد': 27, 'بجب': 79, 'زور': 43, 'بمي': 79, 'سكن': 18, 'رحب': 7, 'لفت': 5, 'عصم': 47, 'توقع': 17, 'كنتش': 2, 'حجه': 64, 'هقدر': 2, 'شفن': 68, 'ابغ': 68, 'عاص': 79, 'هدي': 6, 'ستغ': 79, 'لطف': 47, 'خفي': 7, 'بحل': 17, 'وعد': 47, 'تعل': 1, 'وقت': 64, 'عرق': 23, 'جهد': 64, 'وتق': 1, 'حبي': 48, 'عند': 74, 'وكر': 4, 'فن': 64, 'اجف': 79, 'هتحصل': 2, 'دمه': 62, 'تغر': 53, 'وبق': 68, 'ودق': 5, 'يلا': 27, 'مبا': 32, 'فخم': 27, 'قوت': 7, 'عرب': 57, 'قرش': 23, 'خمي': 79, 'مهت': 79, 'وزع': 74, 'سفر': 32, 'ذكرو': 79, 'يحم': 68, 'فلم': 50, 'يله': 27, 'وشل': 68, 'حيك': 53, 'وفز': 7, 'يرث': 40, 'ذبح': 43, 'وثر': 79, 'گل': 73, 'ليش': 0, 'شتت': 74, 'ملم': 64, 'عبدالعزيز': 6, 'فضي': 7, 'ارض': 4, 'جوف': 18, 'كوكب': 4, 'قرر': 17, 'وزن': 64, 'خفض': 17, 'سمن': 23, 'صبه': 7, 'صرت': 21, 'تلت': 14, 'دير': 32, 'طلي': 7, 'لف': 3, 'سند': 6, 'كنتم': 76, '٪': 64, 'بدك': 38, 'مين': 0, 'رتق': 79, 'تط': 1, 'تسك': 9, 'ينس': 40, 'اوك': 27, 'هدم': 43, 'خصم': 56, 'بقتش': 67, 'بجر': 79, 'شغل': 27, 'رقم': 56, 'حظ': 48, 'فلس': 23, 'غبر': 7, 'ادي': 3, 'بحت': 64, 'ذي': 27, 'عنصر': 64, 'عيب': 62, 'وقح': 62, 'ابو': 6, 'حرر': 74, 'وجم': 68, 'عيز': 67, 'يهو': 32, 'هدء': 79, 'محط': 64, 'هفضل': 2, 'اسك': 45, 'ومه': 68, 'تعم': 20, 'خان': 33, 'هتبق': 79, 'جزه': 79, 'اسا': 32, 'فقر': 64, 'شرو': 79, 'لاء': 67, 'غطي': 7, 'حلف': 33, 'سوء': 47, 'شار': 32, 'بلش': 38, 'لڪل': 79, 'حال': 64, 'نشن': 79, 'جوب': 32, 'ومن': 54, 'ابن': 6, 'يكن': 40, 'اسس': 64, 'شتغل': 79, 'تعد': 20, 'صوت': 4, 'حري': 68, 'اما': 54, 'جا': 21, 'عرفش': 67, 'جلس': 33, 'فوض': 47, 'وتن': 68, 'لفظ': 64, 'غوميز': 24, 'عبدالباسط': 6, 'هند': 6, 'شاب': 4, 'لزر': 79, 'شرع': 47, 'طرب': 7, 'ملع': 68, 'سهر': 48, 'گ': 1, 'ودع': 49, 'فدع': 49, 'ماظ': 79, 'لين': 72, 'لست': 16, 'ديل': 45, 'حاسبو': 79, 'ضيفو': 32, 'هتفو': 79, 'بشه': 32, 'كهرب': 23, 'يعش': 40, 'متع': 74, 'شيخ': 62, 'نجي': 57, 'صلح': 33, 'صبع': 58, 'صحك': 79, 'وحب': 74, 'حمن': 79, 'ملا': 18, 'يحل': 40, 'ليا': 48, 'غلك': 67, 'صاف': 7, 'لكل': 73, 'تحق': 68, 'يحق': 40, 'تيب': 27, 'وسق': 74, 'قنص': 43, 'تخف': 40, 'شيلو': 57, 'هوا': 67, 'اريس': 32, 'بلب': 79, 'سور': 4, 'متم': 47, 'خلط': 64, 'لمش': 79, 'فكه': 5, 'ليت': 48, 'حبط': 79, 'كمت': 79, 'سبل': 74, 'دلن': 79, 'كشعار': 79, 'سب': 47, 'عني': 31, 'جنز': 23, 'دوء': 1, 'فشل': 64, 'حاس': 5, 'بيك': 36, 'حدش': 14, 'صلي': 66, 'سلف': 57, 'وخل': 72, 'زيد': 6, 'بهر': 79, 'سكر': 23, 'منو': 0, 'ريش': 23, 'اتر': 68, 'لعن': 47, 'هجر': 33, 'رصد': 17, 'جدد': 57, 'اقدر': 13, 'حلو': 72, 'ترق': 68, 'عدت': 21, 'افش': 68, 'لجو': 32, 'تعر': 79, 'كده': 14, 'نحس': 57, 'ردا': 17, 'سمي': 33, 'يبه': 11, 'سيح': 79, 'صبا': 18, 'فيك': 36, 'ثم': 49, 'يرك': 53, 'يسق': 68, 'يصب': 40, 'بكف': 7, 'منش': 9, 'ضفه': 4, 'تاق': 56, 'انق': 68, 'سؤل': 79, 'قاس': 49, 'قيس': 6, 'تقس': 68, 'شدت': 7, 'لفل': 32, 'سرح': 7, 'نتم': 79, 'لمض': 67, 'انس': 1, 'دمر': 43, 'ريح': 7, 'اطب': 13, 'اهو': 14, 'يثق': 40, 'كفو': 62, 'نهب': 43, 'خفق': 7, 'تلم': 20, 'حوا': 9, 'اشطب': 79, 'اسل': 68, 'درب': 48, 'وجل': 49, 'جند': 47, 'بسل': 79, 'عز': 47, 'غزل': 48, 'ديرب': 79, 'وين': 0, 'امه': 62, 'قرد': 62, 'حبج': 58, 'لبر': 79, 'هالجو': 50, 'بقا': 14, 'خار': 79, 'هرد': 2, 'ندي': 6, 'نهو': 68, 'تلق': 40, 'جسد': 4, 'برد': 48, 'ترض': 40, 'غيم': 48, 'ما': 75, 'يعف': 47, 'اضن': 79, 'حلب': 17, 'خيم': 18, 'اكد': 17, 'ابل': 56, 'نقه': 74, 'اعز': 74, 'شرب': 33, 'نوع': 64, 'صرخ': 33, 'ليق': 32, 'عمق': 18, 'سوت': 5, 'بري': 7, 'خله': 48, 'لح': 3, 'سنه': 23, 'رخل': 79, 'شهو': 79, 'اعل': 68, 'ماسولف': 79, 'فين': 14, 'عده': 17, 'اود': 49, 'وصح': 7, 'بمت': 79, 'اذه': 68, 'غمد': 79, 'زو': 32, 'لسر': 79, 'لزج': 67, 'رون': 3, 'بست': 9, 'وخر': 5, 'حطا': 79, 'اوط': 68, 'عنو': 38, 'جب': 9, 'لصد': 17, 'رهب': 79, 'تطع': 47, 'بوج': 68, 'ام': 1, 'نتف': 5, 'وهه': 58, 'حلق': 4, 'ۦ': 79, 'كونو': 57, 'واع': 1, 'لمس': 7, 'خشن': 23, 'اعد': 13, 'قصه': 6, 'عطي': 21, 'حكو': 21, 'غم': 68, 'فرس': 62, 'رمح': 7, 'لتف': 79, 'شوش': 58, 'اوه': 27, 'عثر': 43, 'كام': 14, 'لسه': 14, 'سدس': 79, 'فيش': 67, 'قيل': 33, 'جري': 33, 'منج': 58, 'ضر': 47, 'دوش': 32, 'قبض': 43, 'عاه': 68, 'اصل': 2, 'شيت': 45, 'سكل': 32, 'اتح': 68, 'قصد': 47, 'تكد': 79, 'رمس': 79, 'شبو': 32, 'نلق': 68, 'الف': 32, 'اعج': 68, 'شهر': 56, 'زرقاء': 4, 'جود': 45, 'خذي': 5, 'بضع': 49, 'قرن': 4, 'نهت': 79, 'ثور': 62, 'فهد': 6, 'حيط': 4, 'ريض': 68, 'هالايام': 27, 'جاب': 5, 'حلك': 79, 'شور': 45, 'وفا': 48, 'سطر': 50, 'يبن': 7, 'سنا': 9, 'ربو': 57, 'يئس': 33, 'تجي': 72, 'فجر': 6, 'دوم': 48, 'قدح': 7, 'دكم': 68, 'سبت': 67, 'وعط': 68, 'مول': 45, 'عبث': 64, 'قيء': 79, 'دعي': 33, 'فضت': 79, 'طقس': 17, 'شبك': 23, 'ورح': 38, 'خطف': 43, 'فطم': 79, 'اوص': 68, 'كنش': 67, 'قريب': 79, 'عشم': 67, 'حبيب': 48, 'اختيارات': 64, 'حمل': 43, 'اهن': 68, 'دبل': 45, 'كخه': 67, 'نمي': 32, 'دمي': 18, 'لحد': 72, 'توف': 68, 'سلو': 32, 'سيس': 67, 'متو': 9, 'هلي': 7, 'خدو': 67, 'ذات': 49, 'مبيعرفوش': 67, 'توسط': 32, 'جندب': 79, 'وم': 3, 'رضي': 47, 'رج': 1, 'اتم': 9, 'عثم': 79, 'تشف': 3, 'لما': 75, 'تون': 45, 'يفك': 74, 'ظبط': 67, 'باب': 4, 'اتا': 32, 'تحدث': 20, 'بطء': 64, 'رجم': 7, 'دري': 1, 'نرج': 68, 'شبعتو': 79, 'هوس': 64, 'ديبو': 79, 'فيز': 32, 'كما': 54, 'جاد': 62, 'خرب': 5, 'خطء': 79, 'غنم': 23, 'ينا': 1, 'ردهم': 57, 'ويد': 4, 'حقب': 79, 'كوت': 45, 'خي': 1, 'وگف': 79, 'شرق': 4, 'جوع': 18, 'عمد': 64, 'وتس': 56, 'سوم': 32, 'بث': 17, 'حسك': 48, 'لرب': 49, 'وبح': 68, 'لق': 1, 'بعثر': 18, 'عطا': 6, 'يما': 58, 'قصر': 4, 'يجي': 72, 'حيه': 7, 'تغب': 40, 'تنر': 79, 'سرج': 7, 'اوم': 27, 'خصه': 79, 'خسر': 33, 'كلن': 48, 'الك': 1, 'موبايل': 56, 'هد': 7, 'غذي': 79, 'نحف': 79, 'كورس': 56, 'خبراء': 17, 'رش': 68, 'يلي': 38, 'همل': 7, 'شف': 3, 'يدي': 18, 'ترث': 40, 'ثقه': 64, 'يفز': 21, 'تصدر': 17, 'وسل': 68, 'يبي': 72, 'برل': 79, 'اول': 72, 'نجح': 43, 'قمن': 79, 'ادئ': 68, 'عنف': 64, 'يول': 24, 'تنب': 68, 'سين': 45, 'يبو': 27, 'فجع': 47, 'سئم': 49, 'واو': 27, 'صعد': 33, 'يعب': 40, 'عجز': 64, 'يسب': 62, 'خلك': 48, 'ايا': 49, 'يهد': 74, 'دل': 1, 'ضهر': 14, 'جان': 27, 'الكترونيه': 17, 'هال': 45, 'رعب': 27, 'اهم': 72, 'وفر': 74, 'سمو': 6, 'وحظ': 7, 'حفل': 17, 'اتق': 47, 'هبطل': 2, 'جير': 45, 'سدح': 79, 'بدئ': 79, 'غسل': 43, 'وغن': 7, 'خرق': 17, 'عاد': 27, 'خصر': 4, 'زاي': 68, 'نرم': 32, 'بؤس': 18, 'علب': 23, 'عرا': 79, 'كنا': 57, 'جاء': 33, 'رفد': 79, 'صيح': 7, 'مير': 48, 'وثن': 79, 'عذروب': 7, 'كوش': 32, 'ملک': 79, 'ركزو': 57, 'تف': 1, 'الع': 3, 'ذول': 57, 'سم': 7, 'دلع': 23, 'يطق': 5, 'عطن': 7, 'انز': 79, 'كشخ': 79, 'ولڪ': 79, 'قست': 20, 'شهم': 62, 'قاء': 68, 'بخل': 47, 'ويك': 45, 'ضعف': 64, 'بحق': 43, 'دعت': 20, 'ادم': 47, 'طعت': 7, 'بج': 1, 'وحس': 9, 'لفض': 17, 'نبض': 18, 'حاض': 68, 'سفه': 47, 'ليل': 48, 'مايصير': 27, 'لوط': 9, 'عبء': 64, 'اخ': 1, 'ثلا': 79, 'عتم': 18, 'يبث': 43, 'لون': 23, 'نفث': 18, 'نسم': 48, 'فاس': 4, 'الل': 1, 'حقي': 13, 'شوفو': 57, 'ياخ': 38, 'ويم': 9, 'قمه': 64, 'مؤس': 79, 'يسر': 8, 'وطب': 7, 'مايحتاج': 27, 'حجج': 64, 'كري': 68, 'وكل': 73, 'صلب': 4, 'وجك': 38, 'وحك': 68, 'حبو': 57, 'كلش': 27, 'خاه': 79, 'هها': 58, 'قوم': 47, 'تنم': 40, 'قلو': 38, 'يقف': 40, 'يدر': 40, 'مفاتيح': 49, 'لمر': 79, 'اثب': 79, 'نفع': 47, 'ضيق': 18, 'يحر': 5, 'شيب': 7, 'شكن': 32, 'حمض': 23, 'نتي': 38, 'صاح': 7, 'نبك': 68, 'ربم': 68, 'قلل': 74, 'شحي': 79, 'قذر': 62, 'حرش': 5, 'وزج': 79, 'شعل': 7, 'ذيع': 79, 'يسن': 79, 'معل': 68, 'صج': 27, 'تما': 32, 'حرس': 17, 'ستي': 67, 'عيف': 79, 'مايقدم': 79, 'صاعد': 32, 'يرض': 40, 'ركز': 5, 'كبه': 23, 'كول': 45, 'ايل': 3, 'وست': 32, 'ريمونتادا': 79, 'كلف': 43, 'حيو': 6, 'غال': 24, 'خيس': 79, 'جزء': 64, 'رينبو': 32, 'اجي': 13, 'العب': 13, 'ريب': 40, 'ريفربليت': 79, 'جول': 24, 'ميد': 45, 'عجل': 74, 'سوا': 72, 'لوف': 45, 'يقظ': 79, 'ماك': 45, 'حقت': 27, 'شبع': 33, 'بطن': 4, 'جبت': 21, 'كيك': 23, 'هوب': 7, 'عقلو': 67, 'زفت': 67, 'غلب': 33, 'هندس': 79, 'حجت': 57, 'تست': 9, 'عبك': 9, 'لبو': 6, 'جبك': 79, 'كفل': 43, 'ورن': 9, 'ردل': 79, 'لذل': 79, 'نبت': 18, 'كجمال': 18, 'كلس': 79, 'كلاسيكو': 24, 'نرا': 40, 'وعش': 49, 'حقه': 62, 'بجن': 68, 'وسك': 68, 'خف': 5, 'ود': 1, 'تنن': 79, 'رعد': 6, 'هنيال': 79, 'لتح': 79, 'يتج': 68, 'بلز': 32, 'بوس': 23, 'انحب': 58, 'يمن': 74, 'ليب': 68, 'يخل': 40, 'يود': 40, 'لشر': 40, 'وفي': 54, 'غمض': 48, 'نار': 4, 'شوه': 43, 'احا': 14, 'غار': 33, 'اظل': 13, 'تود': 20, 'عصا': 4, 'فض': 68, 'عطك': 79, 'لبد': 79, 'مرف': 68, 'ۛ': 79, 'مزا': 79, 'حطم': 43, 'ㅤ': 48, 'يفا': 79, 'نزف': 18, 'يمح': 68, 'ضو': 7, 'شمع': 18, 'گذب': 12, 'ستر': 47, 'اخل': 68, 'يكر': 79, 'تسق': 68, 'لسا': 53, 'قلي': 48, 'فيد': 32, 'عضت': 7, 'عرش': 4, 'سرق': 33, 'جسم': 4, 'جحر': 4, 'نمش': 68, 'خشي': 67, 'وفت': 7, 'اخي': 6, 'رو': 3, 'حسا': 79, 'نيف': 79, 'لبئ': 58, 'شفل': 79, 'ماتخاف': 5, 'ديم': 7, 'بزع': 79, 'سجد': 33, 'تبك': 40, 'حمر': 23, 'يعت': 68, 'سلي': 7, 'طقك': 5, 'لاو': 32, 'عتل': 79, 'قمر': 23, 'تغريداتك': 50, 'لمل': 67, 'وزد': 74, 'نجد': 40, 'امثل': 13, 'جنت': 58, 'احك': 13, 'اقص': 13, 'نفض': 5, 'قبع': 79, 'تحط': 26, 'دود': 1, 'صفراء': 4, 'هذل': 79, 'بصت': 67, 'ﻤن': 12, 'عوض': 6, 'يدب': 18, 'نجب': 79, 'قرع': 4, 'رخي': 68, 'عاز': 79, 'اجمل': 18, 'وهذ': 79, 'زهر': 18, 'قلم': 23, 'نثر': 18, 'كيت': 45, 'اعض': 13, 'وجب': 64, 'ღ': 68, 'ثقف': 79, 'ندا': 6, 'روج': 23, 'سلك': 23, 'ضيع': 33, 'وحز': 53, 'افه': 68, 'غدر': 48, 'علو': 4, 'اتي': 33, 'هبط': 33, 'انب': 68, 'ازي': 68, 'مبحبهمش': 79, 'هكرز': 79, 'وفض': 79, 'يشع': 18, 'ماس': 32, 'ورھ': 79, 'قوه': 47, 'ويج': 68, 'محل': 23, 'طقي': 5, 'لاي': 54, 'ربل': 32, 'ورب': 68, 'رات': 3, 'ليغ': 24, 'ثمن': 64, 'شام': 6, 'فتل': 79, 'قائ': 68, 'عير': 35, 'يبق': 40, 'عصف': 18, 'رمل': 4, 'حسينو': 79, 'وشف': 72, 'ملي': 7, 'بلن': 79, 'ومس': 68, 'رصف': 79, 'تبا': 57, 'لقط': 5, 'ֆ': 12, 'مخ': 62, 'لمخ': 79, 'جنب': 5, 'اجل': 64, 'عوب': 79, 'لضر': 32, 'ضمه': 48, 'طمح': 79, 'نمض': 79, 'رنس': 79, 'ياو': 58, 'اعا': 53, 'واج': 1, 'نزد': 4, 'نعض': 79, 'لقر': 79, 'تخص': 20, 'لكم': 77, 'بعض': 64, 'عبس': 6, 'اثن': 9, 'يعم': 67, 'كلمو': 67, 'طوق': 18, 'فسد': 47, 'راس': 4, 'لكي': 16, 'توتر': 56, 'اخه': 9, 'ٓ': 68, 'زهب': 5, 'نوش': 32, 'جون': 45, 'بجي': 27, 'مزح': 27, 'هام': 17, 'شوط': 24, 'اجد': 40, 'بدت': 20, 'يلد': 62, 'قات': 23, 'اها': 27, 'وحق': 74, 'بهي': 79, 'حشم': 7, 'هذب': 79, 'يغر': 53, 'ادخ': 68, 'نام': 33, 'دق': 3, 'بقر': 62, 'تشك': 20, 'شره': 47, 'رفش': 79, 'خلو': 57, 'رشح': 43, 'تدق': 5, 'عسر': 47, 'لائ': 68, 'تلع': 9, 'عمت': 20, 'ورت': 68, 'عاض': 5, 'شيط': 79, 'صومال': 79, 'شخبار': 5, 'مخك': 62, 'اب': 3, 'ميك': 23, 'جت': 21, 'مرس': 68, 'سما': 48, 'تيم': 45, 'لاك': 1, 'خضع': 43, 'اؤم': 68, 'يمي': 58, 'تهب': 20, 'ابتسامتي': 12, 'بطق': 5, 'جلط': 79, 'تمر': 20, 'تسر': 20, 'لھم': 77, 'معک': 12, 'سلا': 7, 'حبھم': 79, 'حفر': 4, 'بير': 41, 'لعم': 6, 'بئر': 4, 'بدء': 17, 'هالسوالف': 27, 'لفي': 7, 'علمو': 57, 'اخا': 49, 'حجا': 79, 'وعو': 9, 'ثال': 68, 'وكن': 49, 'جدت': 79, 'فسح': 79, 'حتئ': 79, 'ينب': 68, 'نغل': 62, 'ماتسمع': 5, 'نعك': 79, 'ترح': 68, 'صار': 72, 'نفق': 4, 'شرح': 56, 'ثلي': 68, 'ﮔنت': 79, 'طيع': 68, 'شلن': 67, 'جذي': 27, 'محس': 68, 'شيف': 23, 'هالقرار': 50, 'ظن': 47, 'لتغريداتك': 79, 'كيف': 0, 'فرع': 17, 'ﻻ': 12, 'شڪل': 79, 'سري': 7, 'شئت': 8, 'امس': 27, 'مرر': 5, 'اوف': 45, 'ريتد': 79, 'ثرونز': 45, 'هيه': 58, 'بني': 62, 'دو': 53, 'رھہ': 79, 'ملح': 23, 'انن': 68, 'فمن': 49, 'جو': 27, 'تمش': 7, 'يوه': 27, 'اصح': 68, 'شئ': 50, 'رتو': 9, 'ساك': 68, 'كفر': 47, 'جحد': 33, 'اضي': 1, 'سيء': 64, 'ادع': 8, 'سيئ': 64, 'استودعتك': 8, 'جيش': 17, 'وزر': 47, 'لند': 9, 'وصا': 9, 'سته': 4, 'تعا': 9, 'زرع': 43, 'مهماكانت': 79, 'هتف': 43, 'زاد': 21, 'شرر': 58, 'يحج': 40, 'الح': 3, 'وعم': 38, 'هرر': 79, 'نحا': 79, 'قتل': 43, 'لشئ': 49, 'حصر': 17, 'عتو': 79, 'جوس': 32, 'قو': 7, 'اير': 45, 'عودو': 79, 'اند': 45, 'ادق': 13, 'يقه': 1, 'مجر': 79, 'بيم': 53, 'نيا': 32, 'ينط': 5, 'بتر': 43, 'حدد': 5, 'وال': 3, 'عاب': 47, 'مدن': 4, 'رحت': 21, 'اجك': 68, 'كذبو': 57, 'وار': 1, 'نست': 20, 'ا': 53, 'هتشوف': 14, 'جرد': 74, 'ؤلم': 49, 'مفهمتش': 2, 'بيع': 17, 'رتب': 74, 'تقم': 40, 'شقق': 4, 'كبي': 1, 'طبخ': 23, 'حقد': 47, 'ملؤ': 79, 'تمت': 20, 'مجد': 6, 'صدع': 5, 'كيمياء': 32, 'شفي': 7, 'مانريد': 49, 'اعظم': 47, 'اغن': 68, 'دال': 68, 'نهل': 79, 'نمو': 64, 'نذل': 62, 'حتشوف': 67, 'لاستقبال': 17, 'رخم': 14, 'فاعل': 79, 'كترو': 67, 'رمز': 64, 'ﺭﺯﻕ': 22, 'ﻓﻲ': 22, 'ﺗﻨﺸﺮﻩ': 79, 'ﺗﻘﺴﻤﻪ': 79, 'ﻛﻞ': 22, 'ﻧﻮﺭ': 22, 'ﺗﺒﺴﻄﻪ': 79, 'ﺍﻟﻠﻬﻢ': 22, 'ﻭﻓﻲ': 22, 'ﺿﺮ': 79, 'ﺧﻴﺮ': 22, 'ﺗﻜﺸﻔﻪ': 79, 'ﻧﺼﻴﺒﺎ': 79, 'ﺍجعل': 79, 'للد': 9, 'ويز': 32, 'ريفر': 24, 'اكا': 32, 'غير': 72, 'اشخ': 68, 'سائ': 68, 'بكي': 33, 'ثنو': 79, 'نفذ': 33, 'ادب': 62, 'بكگ': 79, 'كشه': 58, 'ليك': 14, 'رين': 11, 'تخد': 79, 'هيل': 45, 'سار': 33, 'تجه': 79, 'ماف': 68, 'خدي': 7, 'زول': 38, 'دوه': 68, 'غاب': 21, 'لتك': 68, 'بوه': 27, 'ديث': 45, 'غلف': 74, 'لعد': 58, 'حذف': 43, 'طمن': 74, 'اذكر': 13, 'اغفل': 40, 'ﻧحب': 79, 'يجن': 18, 'ادو': 9, 'تذكر': 20, 'تضل': 20, 'ماتعرف': 27, 'مزامير': 6, 'تبط': 5, 'حطو': 26, 'هالشهر': 50, 'ماينفع': 27, 'يلف': 5, 'لجن': 79, 'هذلول': 79, 'اخو': 62, 'مشاوير': 23, 'بطه': 62, 'بيض': 23, 'حطت': 26, 'افض': 68, 'محم': 6, 'يلق': 40, 'اوب': 27, 'شمخ': 79, 'اجر': 47, 'ايج': 45, 'صخر': 4, 'لقئ': 79, 'تؤم': 79, 'ؤدب': 79, 'ساح': 7, 'كثفو': 79, 'عزم': 33, 'اسقط': 43, 'ومش': 14, 'وسي': 68, 'بدا': 33, 'وهل': 54, 'لبق': 64, 'نصب': 43, 'وفك': 74, 'زله': 48, 'اح': 1, 'نسق': 79, 'فوك': 68, 'عبل': 79, 'حجب': 17, 'وكف': 74, 'بنه': 9, 'يع': 53, 'يسد': 69, 'خص': 68, 'دكتر': 32, 'ﺑﻼﺀ': 79, 'تلا': 79, 'شدد': 17, 'باخ': 68, 'ريت': 14, 'تصل': 34, 'داد': 1, 'ورض': 68, 'سن': 4, 'بقض': 79, 'خشت': 5, 'احط': 26, 'ضعت': 21, 'ٰ': 12, 'وخط': 4, 'سر': 18, 'هشم': 79, 'جهنم': 47, 'علا': 30, 'سرم': 32, 'زلت': 13, 'روض': 18, 'سيو': 45, 'بت': 3, 'وعن': 74, 'ظره': 68, 'بنم': 79, 'بح': 3, 'بكد': 79, 'وهم': 57, 'اشط': 79, 'اشي': 38, 'سدد': 74, 'صد': 48, 'عطت': 21, 'يصم': 40, 'يعض': 5, 'حجي': 27, 'رغد': 58, 'هلم': 67, 'توم': 45, 'كرو': 9, 'الر': 32, 'خيل': 7, 'يسئ': 47, 'يش': 1, 'قام': 33, 'كونغ': 45, 'عدن': 17, 'قعه': 9, 'بخف': 79, 'بيه': 36, 'يخط': 40, 'حجر': 4, 'هار': 32, 'شبب': 79, 'خنت': 21, 'قوميز': 24, 'يسي': 68, 'وكم': 54, 'وسن': 9, 'يصحش': 67, 'ويع': 58, 'تبرع': 43, 'كلي': 48, 'وبت': 9, 'تصح': 40, 'يشف': 40, 'الئ': 79, 'كونغرس': 79, 'شكي': 33, 'هول': 18, 'ليم': 68, 'سحل': 43, 'اطر': 68, 'طرا': 21, 'صوب': 7, 'دلي': 68, 'تبو': 57, 'بشش': 79, 'جيه': 7, 'مكا': 53, 'يرس': 68, 'هرك': 79, 'اخف': 79, 'تفق': 68, 'سيط': 79, 'هلبس': 2, 'تجز': 79, 'زوء': 67, 'تمو': 79, 'ٱشد': 79, 'مؤل': 68, 'تمض': 9, 'بكم': 28, 'محو': 17, 'ورع': 62, 'غبي': 62, 'وفن': 64, 'فبت': 79, 'تزد': 55, 'نقب': 79, 'هالكلام': 50, 'ابز': 79, 'هيونغ': 45, 'هيرو': 45, 'اطق': 13, 'ذال': 68, 'نزه': 74, 'تبي': 72, 'ؤمن': 68, 'يعر': 79, 'فضح': 43, 'فاد': 21, 'فال': 68, 'يقع': 40, 'يطر': 79, 'ؤذن': 79, 'وام': 68, 'واستقرار': 64, 'طرف': 64, 'جفو': 53, 'ولح': 68, 'تزل': 20, 'يمت': 40, 'اذن': 49, 'ماتقصر': 58, 'رغب': 47, 'مبل': 68, 'جعلو': 79, 'يقر': 17, 'حجز': 17, 'تحض': 9, 'دره': 3, 'ودك': 72, 'نتج': 43, 'بتستاهلي': 79, 'هات': 7, 'سحت': 58, 'ضمر': 79, 'بشق': 79, 'فل': 9, 'حترم': 79, 'جاز': 21, 'رهف': 58, 'اعو': 79, 'مهد': 4, 'يدل': 64, 'مدر': 32, 'كيد': 47, 'زد': 74, 'بتك': 3, 'ضوء': 18, 'زوا': 68, 'تغط': 79, 'اثر': 64, 'ازد': 79, 'لبس': 23, 'غاث': 79, 'فكف': 49, 'سكي': 32, 'ضبط': 17, 'بكن': 79, 'تزم': 79, 'نيت': 68, 'فحه': 11, 'فقل': 51, 'هسه': 38, 'اسن': 68, 'نعس': 7, 'تبد': 40, 'تخ': 1, 'يفد': 79, 'وجس': 79, 'فنس': 79, 'نسا': 67, 'خبرو': 79, 'قزم': 62, 'حور': 7, 'ولن': 16, 'ستع': 79, 'ٺؤجل': 79, 'روس': 7, 'صفي': 7, 'نغم': 18, 'دان': 68, 'تحه': 79, 'خلا': 21, 'مخي': 50, 'وطف': 79, 'مضم': 79, 'تحت': 4, 'طبب': 79, 'حبا': 49, 'يسك': 53, 'حار': 23, 'بجف': 79, 'ڪل': 73, 'ذوق': 48, 'طاش': 57, 'نطق': 33, 'فرد': 64, 'رفس': 79, 'بحث': 17, 'مخط': 68, 'طلعو': 57, 'جاي': 72, 'نمل': 23, 'اين': 49, 'يمل': 40, 'فرغ': 33, 'خيب': 47, 'لهل': 79, 'مايطلع': 5, 'رسخ': 79, 'بمخ': 79, 'بصح': 38, 'صير': 7, 'يكل': 40, 'هالحر': 79, 'هالوقاحه': 79, 'هزر': 67, 'ضايق': 48, 'هترد': 67, 'تكم': 68, 'باس': 40, 'سقم': 18, 'عوف': 6, 'قوش': 79, 'ادا': 38, 'تكك': 79, 'مظا': 79, 'دفش': 79, 'بنس': 68, 'صده': 48, 'بحظ': 79, 'حظه': 48, 'تشل': 20, 'همه': 47, 'مرم': 68, 'حبس': 43, 'سجل': 56, 'يبس': 21, 'طالبو': 57, 'ومر': 7, 'خوازيق': 67, 'لگ': 77, 'در': 11, 'يسا': 79, 'يزف': 74, 'ثون': 9, 'قرض': 56, 'خبث': 47, 'تفط': 79, 'لبا': 7, 'اشد': 47, 'بغي': 21, 'ونص': 27, 'ضفي': 79, 'كنسل': 27, 'فرم': 32, 'قنط': 47, 'غيث': 18, 'رور': 1, 'جعد': 79, 'ديك': 67, 'غزو': 43, 'وعل': 68, 'بيد': 74, 'طهي': 79, 'بشد': 5, 'طيح': 5, 'ضلع': 48, 'خين': 79, 'ريق': 1, 'مونتاج': 6, 'هلق': 38, 'رحمہ': 12, 'تقر': 47, 'مقر': 17, 'متح': 68, 'ترب': 68, 'دعئ': 79, 'طقه': 5, 'افهم': 13, 'تفز': 20, 'يار': 32, 'نحل': 7, 'احل': 13, 'رح': 72, 'لنو': 79, 'ثمي': 79, 'نش': 1, 'بظل': 79, 'ٲكبر': 79, 'حاط': 26, 'غني': 48, 'خدع': 43, 'صرب': 79, 'يزن': 6, 'رسي': 7, 'ماء': 18, 'صفق': 33, 'عطش': 18, 'متن': 4, 'ظما': 18, 'بعث': 43, 'باش': 38, 'شات': 56, 'وكو': 9, 'لدم': 79, 'كلو': 38, 'نحص': 79, 'بعص': 79, 'يغث': 5, 'بان': 54, 'قمت': 21, 'افق': 18, 'وجا': 5, 'غيرو': 57, 'قشعر': 79, 'نلد': 79, 'تهز': 20, 'تقف': 20, 'تخر': 79, 'يمر': 21, 'حبل': 7, 'مطاليب': 7, 'تمد': 20, 'مواجيب': 48, 'اغت': 79, 'قبس': 79, 'جيم': 45, 'شهق': 7, 'يج': 1, 'صرع': 79, 'ابه': 3, 'ماب': 68, 'قوي': 64, 'وقر': 74, 'كهف': 4, 'انر': 8, 'يصف': 43, 'اخض': 68, 'فكل': 73, 'يظن': 40, 'حظت': 79, 'خفف': 8, 'اتت': 20, 'نجا': 33, 'ببه': 79, 'لول': 27, 'ذرع': 79, 'نحق': 79, 'يؤد': 79, 'كاب': 45, 'زمل': 79, 'برء': 79, 'يؤذ': 79, 'گثر': 70, 'مزق': 74, 'ربط': 17, 'لموبايلك': 79, 'بشي': 50, 'حكا': 7, 'ثره': 68, 'تس': 1, 'شمه': 6, 'ساع': 68, 'وبخ': 79, 'ماتغير': 5, 'كيم': 45, 'لكه': 68, 'ودم': 7, 'دنه': 79, 'ويه': 58, 'عشك': 79, 'شبه': 67, 'صدك': 48, 'مسح': 43, 'قي': 1, 'فك': 74, 'اكف': 40, 'وغي': 68, 'ﺗ': 68, 'ﺳﻌﺂﺩﺓ': 79, 'ﻣﻤﻴﺰ': 79, 'ﺑﺄﻥ': 22, 'ﺑﺸﻲﺀ': 22, 'ﻵ': 12, 'ﺁﻥ': 22, 'ﻣﺎ': 22, 'ﺩﺍﻣﺖ': 79, 'ﻑ': 22, 'ﺗﺨﺒﺮ': 79, 'ﺃﻧﻪ': 22, 'ﺷﺨﺺ': 22, 'ﺃﻭ': 22, 'ﻗﻠﻮﺑﻜﻢ': 79, 'ﺱ': 22, 'مضي': 21, 'ودت': 68, 'عجن': 79, 'نضل': 57, 'غي': 1, 'لغي': 68, 'حطط': 79, 'خطئ': 79, 'سامح': 74, 'تثق': 40, 'عمياء': 49, 'فنج': 68, 'سد': 4, 'طرح': 17, 'خليتو': 57, 'دبك': 79, 'عنن': 79, 'تيل': 45, 'شفك': 79, 'طحن': 67, 'جنا': 9, 'حسد': 47, 'حتفظ': 79, 'موف': 45, 'ير': 11, 'بدن': 57, 'وعف': 68, 'نسخ': 56, 'شرد': 5, 'ذهن': 64, 'كثف': 79, 'طال': 21, 'بوت': 9, 'لقد': 49, 'ان': 54, 'وظف': 79, 'طفش': 27, 'ريك': 68, 'تطم': 68, 'له': 77, 'ريل': 45, 'لهب': 4, 'زحم': 68, 'هاليل': 79, 'يون': 68, 'سوس': 32, 'هتلعب': 67, 'ميل': 45, 'رقي': 18, 'رقع': 9, 'فتن': 47, 'قنه': 79, 'وعر': 79, 'قضي': 33, 'عاي': 68, 'جوهم': 57, 'شكو': 27, 'ورس': 68, 'بنز': 32, 'تحي': 20, 'طب': 14, 'هاؤلاء': 79, 'بقم': 79, 'غنت': 21, 'اغر': 79, 'برش': 32, 'احي': 1, 'بلايستيشن': 56, 'عشء': 79, 'بغا': 72, 'حذي': 79, 'مسا': 7, 'روا': 3, 'حسر': 79, 'يطع': 53, 'صبحج': 79, 'الب': 3, 'معنديش': 2, 'فيا': 36, 'دلق': 79, 'خوا': 9, 'وقظ': 79, 'سحر': 18, 'وكا': 53, 'يجل': 79, 'ينج': 9, 'هيج': 58, 'كراميل': 23, 'كرس': 79, 'كوف': 79, 'يقو': 79, 'ماتعبر': 79, 'حره': 67, 'يؤم': 9, 'ارز': 23, 'كرف': 27, 'تقطع': 20, 'عسه': 79, 'اد': 1, 'يدم': 40, 'بيس': 45, 'حود': 79, 'رشم': 79, 'ו': 79, 'نبح': 7, 'نخف': 79, 'يهل': 7, 'يهم': 40, 'بوع': 68, 'توجع': 20, 'باك': 45, 'مهج': 68, 'هيم': 68, 'ربا': 49, 'ماعندوش': 67, 'طاه': 67, 'ماعداش': 79, 'اختباراتي': 50, 'كغم': 79, 'رحه': 68, 'سقا': 7, 'فيڪ': 12, 'عفت': 21, 'حاسيس': 67, 'عمك': 62, 'سا': 9, 'لجد': 79, 'ناو': 45, 'توق': 7, 'فاق': 18, 'عتد': 79, 'يكم': 68, 'يمك': 53, 'ناج': 68, 'قصيد': 48, 'هرج': 48, 'هتفضل': 14, 'رقب': 79, 'يطب': 5, 'بلق': 68, 'باي': 54, 'يسل': 7, 'خيرو': 79, 'برس': 17, 'ركن': 4, 'ارك': 1, 'صن': 74, 'سيم': 45, 'مسك': 5, 'هرم': 4, 'جم': 27, 'يكد': 79, 'لفم': 79, 'خلن': 48, 'بيل': 24, 'جدر': 23, 'انه': 54, 'ابص': 2, 'اعرف': 13, 'بثم': 79, 'اجب': 8, 'بعط': 68, 'حقر': 47, 'هالايموجي': 79, 'تطي': 68, 'حوت': 4, 'نهر': 4, 'سي': 45, 'اتل': 68, 'حس': 48, 'تزن': 20, 'يزه': 68, 'حظي': 48, 'يحز': 53, 'وجي': 27, 'نفي': 17, 'طبل': 62, 'لاذ': 47, 'رقه': 18, 'خربط': 79, 'استثنائيه': 17, 'خول': 14, 'لٱ': 12, 'ختم': 43, 'ماتاكل': 5, 'شاخ': 33, 'صين': 79, 'لحا': 79, 'كين': 45, 'برب': 27, 'ينل': 40, 'يتش': 79, 'سمه': 64, 'ديتو': 32, 'زات': 68, 'يغب': 40, 'زيدو': 57, 'رعي': 74, 'وفد': 17, 'لكر': 79, 'نخب': 4, 'جلي': 79, 'ولك': 9, 'نصو': 79, 'ند': 68, 'يحي': 6, 'مرئ': 79, 'يسم': 68, 'حيء': 12, 'تثر': 7, 'حصد': 43, 'يتب': 40, 'تاب': 33, 'وبج': 79, 'تعلم': 40, 'قرح': 79, 'سنو': 45, 'نحط': 26, 'هلس': 67, 'ضع': 74, 'اغب': 68, 'لبث': 17, 'ستل': 32, 'اصب': 13, 'رني': 3, 'ناي': 18, 'صبت': 7, 'خمس': 23, 'ابعد': 8, 'زهد': 47, 'نوا': 7, 'اشك': 13, 'بصل': 23, 'ببا': 9, 'لها': 77, 'وغص': 18, 'زيا': 32, 'ملت': 21, 'ضرف': 79, 'ڪ': 1, 'ماتفرق': 27, 'وفو': 79, 'خلت': 20, 'يكو': 9, 'حرض': 43, 'طرطر': 79, 'عبط': 67, 'ديب': 45, 'لهج': 79, 'شمر': 7, 'ناش': 7, 'سرب': 4, 'فمه': 62, 'يحف': 68, 'نشو': 32, 'تفر': 20, 'تحمس': 5, 'حلا': 23, 'هالويكند': 79, 'بيء': 79, 'رهق': 79, 'تحف': 79, 'نتب': 79, 'شت': 45, 'بتس': 58, 'شير': 56, 'فنن': 79, 'دخن': 5, 'ماسبيرو': 14, 'لقت': 5, 'يزر': 40, 'خضر': 6, 'يبل': 7, 'نوت': 45, 'متش': 45, 'سو': 45, 'افو': 79, 'سخف': 18, 'تطر': 79, 'نحش': 57, 'ودر': 79, 'فرش': 23, 'كنتور': 32, 'جهت': 32, 'طقم': 23, 'سابق': 17, 'وقي': 1, 'تدل': 20, 'بال': 3, 'هاد': 38, 'شبر': 4, 'وحي': 18, 'بلس': 56, 'الز': 9, 'جنن': 5, 'ردو': 57, 'عبدالرزاق': 6, 'اثق': 13, 'بون': 3, 'اسق': 8, 'سمت': 20, 'خصص': 74, 'بيا': 36, 'هبل': 67, 'جميل': 49, 'كاتبهولك': 79, 'مخد': 79, 'ياه': 67, 'ولذ': 79, 'زيه': 62, 'نقي': 18, 'بتم': 9, 'عور': 5, 'بند': 64, 'ذوب': 7, 'لطل': 79, 'وظن': 49, 'هز': 43, 'لهہ': 77, 'تلد': 20, 'وفل': 32, 'بهت': 7, 'زهو': 79, 'ازه': 68, 'دعن': 79, 'كبت': 23, 'طري': 21, 'حدو': 67, 'ضمي': 48, 'عس': 1, 'ينف': 1, 'كدش': 23, 'سبك': 62, 'اجز': 74, 'تحل': 20, 'تهن': 68, 'وفم': 79, 'لسم': 79, 'تئب': 9, 'سئل': 33, 'قلا': 79, 'ندك': 68, 'الو': 38, 'عنق': 4, 'عطف': 47, 'قسي': 21, 'كال': 68, 'يم': 3, 'كتل': 4, 'تخلف': 64, 'يحظ': 79, 'خذه': 74, 'هتعجب': 67, 'طاع': 47, 'مانتكلم': 57, 'ذس': 45, 'كيل': 45, 'ستم': 79, 'اتب': 68, 'طفر': 79, 'ﻣﺜﻞ': 22, 'ﻗﺴﻤﺔ': 22, 'ﻏﻨﻲ': 22, 'بمل': 67, 'ﻓﻘﻴﺮ': 22, 'ﻣﻦ': 22, 'مدح': 47, 'ركم': 9, 'ليح': 79, 'عمه': 62, 'فدت': 79, 'ﻟ': 12, 'ۉ': 12, 'نصم': 79, 'شاي': 23, 'بلو': 45, 'عبو': 79, 'يمد': 74, 'حسو': 57, 'كربلاء': 4, 'سمك': 23, 'صلت': 20, 'وير': 45, 'حتو': 79, 'وح': 3, 'يفط': 67, 'قدس': 6, 'اوق': 68, 'حطه': 26, 'مني': 63, 'مك': 3, 'بضح': 79, 'غصه': 18, 'كرر': 79, 'دثر': 74, 'ررا': 79, 'ضار': 64, 'ديت': 68, 'ومل': 7, 'جرو': 32, 'عليه': 30, 'يرج': 68, 'هكر': 56, 'شيل': 26, 'فگر': 12, 'مالقيتش': 67, 'دمو': 38, 'شفتو': 57, 'وعس': 68, 'جبا': 79, 'خد': 14, 'منح': 17, 'اقصر': 13, 'جن': 1, 'يشت': 68, 'شتر': 79, 'قمط': 5, 'خرع': 79, 'اسر': 43, 'عقبال': 67, 'همج': 57, 'با': 53, 'لغز': 4, 'توي': 27, 'بسع': 79, 'شهداء': 6, 'صيف': 4, 'زهق': 67, 'فلت': 5, 'بلل': 18, 'لتق': 79, 'رحو': 9, 'شين': 48, 'وشن': 32, 'يطل': 18, 'كتم': 47, 'افن': 79, 'كومنتس': 79, 'تسن': 79, 'اصر': 33, 'فنش': 79, 'ثنت': 79, 'اقض': 8, 'يشر': 40, 'نفز': 79, 'يغن': 40, 'بلف': 67, 'حتر': 79, 'بتل': 32, 'رضع': 43, 'اجت': 38, 'سنت': 32, 'ضمن': 17, 'بطا': 7, 'بزد': 79, 'تمي': 68, 'تنح': 67, 'خجل': 18, 'يسه': 68, 'خدج': 79, 'جوك': 50, 'كند': 32, 'هالوضع': 50, 'صفا': 7, 'ور': 3, 'اعم': 68, 'عصر': 4, 'زيك': 14, 'تام': 64, 'بمع': 79, 'كبد': 4, 'اشل': 79, 'مزعلتش': 67, 'لحف': 79, 'یوم': 79, 'بنن': 79, 'علی': 30, 'يطن': 79, 'بشف': 79, 'ڪن': 68, 'مڼ': 12, 'سسي': 79, 'طابق': 4, 'ايت': 45, 'بثه': 43, 'افكر': 13, 'وتو': 27, 'زدت': 21, 'سبا': 6, 'ابتسامتك': 50, 'امب': 68, 'تيج': 32, 'تصع': 79, 'اصع': 68, 'فزت': 21, 'فلا': 16, 'بغت': 21, 'بسر': 79, 'قفط': 79, 'سلب': 43, 'موب': 27, 'عنت': 68, 'بلع': 9, 'وغث': 79, 'صفت': 21, 'زيهم': 67, 'حاء': 79, 'طرابلس': 17, 'هيش': 79, 'درن': 5, 'جتن': 79, 'لال': 68, 'نت': 45, 'دعا': 33, 'عندو': 38, 'كحل': 23, 'مزه': 23, 'رزل': 67, 'وقم': 49, 'لقن': 74, 'ايبو': 79, 'يصن': 79, 'روق': 1, 'تير': 32, 'لهالمرحله': 79, 'لوش': 67, 'راوند': 67, 'سوق': 4, 'يدس': 43, 'قفي': 48, 'اور': 45, 'روي': 33, 'تخش': 20, 'تمن': 67, 'ياس': 47, 'وخب': 79, 'عشت': 21, 'ماسنجر': 56, 'سوط': 74, 'يري': 40, 'تبغ': 68, 'شجعو': 57, 'نيو': 45, 'فاح': 18, 'خوخ': 23, 'ياجماهير': 57, 'همت': 9, 'عيا': 48, 'ارحب': 7, 'هالزم': 68, 'هالشخص': 50, 'برو': 9, 'غنا': 48, 'ولف': 7, 'رتم': 64, 'ثلج': 23, 'ومد': 74, 'واستودعه': 79, 'هون': 38, 'ماش': 27, 'ضيف': 6, 'ينح': 68, 'شفه': 7, 'مينفعش': 14, 'يبد': 79, 'عمہ': 79, 'مايخيب': 5, 'شفو': 57, 'رجف': 7, 'تري': 48, 'شقا': 48, 'ائد': 68, 'مخل': 68, 'لمز': 79, 'الٰ': 79, 'صحه': 64, 'علل': 79, 'كفت': 7, 'نضح': 79, 'تسم': 1, 'اضح': 68, 'تعط': 40, 'دعك': 49, 'ريء': 68, 'رند': 79, 'كذا': 27, 'بدو': 53, 'سعف': 4, 'طفي': 11, 'وكب': 68, 'لمك': 9, 'گم': 12, 'ﺣﺘﻰ': 22, 'خوش': 27, 'مايكرو': 32, 'هوم': 45, 'نقد': 64, 'عتبر': 79, 'ويش': 0, 'عا': 9, 'وبد': 9, 'مقافيل': 79, 'عوج': 7, 'يهن': 47, 'خل': 72, 'واد': 62, 'هضم': 64, 'كبس': 5, 'مبتديش': 79, 'يخد': 79, 'هاه': 27, 'حتي': 54, 'طفئ': 79, 'خذن': 7, 'وخي': 68, 'سخط': 47, 'ودن': 68, 'نجف': 32, 'بصم': 68, 'واخ': 1, 'زوبع': 6, 'جوا': 14, 'ابض': 79, 'ببي': 56, 'اتك': 1, 'حرص': 64, 'فكو': 57, 'مورينيو': 24, 'ضدهم': 64, 'ترس': 7, 'زوز': 58, 'حرج': 64, 'حطب': 7, 'اخوانجيه': 67, 'كاس': 24, 'عنء': 79, 'طلسم': 32, 'يزج': 79, 'قصف': 43, 'طبي': 17, 'شال': 21, 'روحو': 57, 'حرز': 79, 'خذو': 57, 'مانسمع': 57, 'حنا': 57, 'يده': 4, 'جلب': 17, 'حتك': 79, 'مواعيد': 64, 'جبه': 4, 'ايح': 68, 'فتي': 62, 'وكت': 58, 'تخن': 40, 'شفف': 79, 'صدگ': 12, 'ثوا': 79, 'حظا': 49, 'فلن': 16, 'رسيل': 79, 'مذر': 32, 'كقلب': 49, 'تشم': 20, 'ثلاثاء': 6, 'يوف': 68, 'هلك': 33, 'قيصر': 6, 'عريس': 23, 'امت': 68, 'جوه': 14, 'درت': 21, 'شنت': 20, 'هنت': 21, 'ويض': 68, 'تشد': 20, 'دفئ': 18, 'وتح': 68, 'راد': 5, 'قهه': 79, 'قطف': 18, 'لفن': 79, 'هدد': 43, 'سرر': 4, 'ظلل': 74, 'تفل': 5, 'شاك': 5, 'تقي': 47, 'عفو': 8, 'وكد': 79, 'تضق': 79, 'يهي': 68, 'عفا': 47, 'لگن': 12, 'محه': 79, 'حقن': 64, 'يرو': 9, 'احسب': 13, 'ابع': 1, 'لوك': 45, 'هيب': 7, 'الا': 46, 'زما': 53, 'زعم': 43, 'روع': 68, 'موناليزا': 79, 'فقت': 7, 'مري': 1, 'واحتمالي': 79, 'ديموقراطي': 64, 'ذيك': 27, 'لحر': 79, 'نعف': 79, 'دوخ': 79, 'معد': 27, 'الہ': 52, 'تحز': 9, 'يها': 1, 'اخسر': 13, 'םבםב': 79, 'تله': 4, 'بف': 9, 'سلت': 79, 'تكت': 68, 'بطر': 79, 'لمب': 79, 'رضت': 21, 'فجه': 79, 'ايق': 1, 'وخف': 7, 'جار': 47, 'كامير': 79, 'يلع': 53, 'جي': 45, 'لطم': 43, 'کل': 73, 'ﺂني': 12, 'ﺂعلم': 12, 'غيرک': 12, 'تعن': 68, 'ڤيديو': 32, 'ﺂحب': 12, 'وتك': 1, 'ﻣره': 12, 'صحف': 17, 'مشي': 33, 'وانتظارك': 79, 'يتق': 47, 'ؤكد': 79, 'ختلف': 79, '٭': 12, 'يشل': 74, 'ديا': 67, 'يخن': 79, 'مايضيع': 5, 'يته': 3, 'يبر': 40, 'يرن': 5, 'بغظ': 79, 'مايقول': 5, 'ساد': 18, 'تضف': 79, 'برج': 4, 'داونز': 32, 'هالسماجه': 79, 'ﭑني': 12, 'قضت': 20, 'انف': 4, 'جمد': 74, 'خات': 79, 'ومز': 79, 'استغفروه': 22, 'شكرو': 79, 'معازيم': 79, 'حسه': 48, 'تطب': 20, 'وجز': 79, 'يثر': 7, 'وثم': 79, 'كوك': 45, 'دولار': 17, 'استفزازك': 79, 'عيط': 67, 'خبط': 67, 'يصر': 43, 'ماحافظ': 79, 'اتع': 68, 'ازم': 68, 'كملو': 57, 'ونگ': 68, 'فاه': 11, 'ودو': 9, 'رقت': 21, 'خسئ': 79, 'جرذ': 62, 'يگن': 40, 'جمي': 1, 'گن': 12, 'ۊ': 12, 'يقي': 68, 'نقا': 7, 'ﺍﻟﺮﻭﺡ': 22, 'يرع': 68, 'هدئ': 79, 'ﻭﻣﻦ': 22, 'ﻳﺴﺘﺤﻖ': 22, 'ﻟﻴﺲ': 22, 'ﺑﻚ': 22, 'ﻋﻨﺪﻩ': 22, 'ﻓ': 12, 'ﺍﻣﻞ': 22, 'ﻳﺸﻌﺮ': 22, 'ﻳﺤﺒﻚ': 22, 'ﻓﻴﻚ': 22, 'قرو': 9, 'حسابتس': 79, 'تشن': 17, 'بنق': 56, 'بطح': 79, 'همس': 18, 'شيق': 64, 'بعو': 53, 'وخم': 79, 'خربتو': 57, 'ماتقدر': 72, 'سول': 45, 'خفت': 21, 'قطن': 23, 'تعسر': 8, 'بطئ': 64, 'غبش': 79, 'تضر': 20, 'بتغ': 79, 'يقض': 40, 'لله': 68, 'ابئ': 79, 'ياد': 67, 'يبع': 40, 'رجز': 47, 'شفق': 7, 'ارم': 68, 'نقم': 40, 'تمرد': 17, 'فير': 45, 'حته': 14, 'قرط': 79, 'غوغاء': 79, 'هالصور': 50, 'سئ': 64, 'عنز': 62, 'فيض': 18, 'اري': 40, 'نرت': 79, 'عزكم': 62, 'چلب': 62, 'اذ': 9, 'تور': 45, 'حده': 5, 'كقدر': 79, 'صحن': 23, 'رعم': 79, 'ياك': 38, 'كرن': 79, 'كاتشب': 23, 'بشع': 64, 'طمطم': 67, 'هتدخل': 14, 'بكل': 73, 'مس': 1, 'ٱصبح': 79, 'فنا': 79, 'از': 45, 'مليونير': 62, 'وبك': 68, 'جرع': 79, 'اش': 0, 'نوك': 32, 'هتك': 43, 'تاع': 38, 'صف': 4, 'ذئب': 62, 'اقم': 74, 'قحط': 79, 'رض': 1, 'هالحظ': 79, 'مكو': 9, 'خال': 62, 'مناخير': 67, 'ردكم': 79, 'عالصبح': 67, 'اسو': 32, 'مشاعرگ': 12, 'عنگ': 31, 'گلف': 79, 'اخش': 13, 'عدو': 47, 'عش': 1, 'ظنن': 79, 'ودف': 79, 'جفا': 48, 'مار': 9, 'رده': 50, 'بوح': 48, 'جعت': 21, 'عله': 48, 'واك': 1, 'وصن': 79, 'ظلت': 20, 'زيل': 68, 'كدر': 18, 'قلك': 38, 'اوع': 68, 'همو': 67, 'طور': 64, 'رهي': 68, 'قلتو': 57, 'واش': 0, 'اسب': 13, 'دعه': 9, 'عاش': 33, 'صمد': 40, 'بع': 3, 'هازارد': 24, 'ردد': 51, 'غيرگ': 12, 'قلع': 67, 'هاو': 45, 'قرئ': 79, 'حصن': 74, 'يتو': 79, 'ولس': 68, 'حظر': 17, 'خنزير': 62, 'تحر': 79, 'عترف': 79, 'مشاريع': 17, 'قرف': 67, 'تكو': 9, 'بغل': 62, 'ارع': 11, 'اضف': 74, 'ربت': 68, 'ماي': 45, 'فطن': 7, 'عذل': 7, 'شد': 74, 'لك': 77, 'سيل': 7, 'بنا': 28, 'ضاق': 21, 'مطب': 23, 'ساف': 68, 'غمر': 18, 'لخد': 79, 'نل': 68, 'رجح': 79, 'وسف': 68, 'زود': 48, 'وسخ': 62, 'طقطق': 5, 'حرت': 7, 'طحلب': 62, 'حط': 26, 'رول': 9, 'عنه': 31, 'بنر': 56, 'هالمطر': 79, 'يضل': 40, 'يشب': 7, 'يغط': 79, 'رمش': 48, 'لعق': 79, 'زيت': 23, 'باء': 47, 'يزي': 68, 'انتخ': 79, 'بوث': 35, 'قحب': 9, 'ورز': 23, 'لتي': 68, 'هفف': 27, 'بشت': 62, 'جذر': 79, 'عطو': 57, 'كرت': 56, 'فرر': 79, 'عنجد': 38, 'لنا': 77, 'مشاهير': 56, 'ونع': 68, 'خبي': 74, 'نحت': 7, 'لير': 32, 'نفط': 17, 'ات': 1, 'الظ': 1, 'سحي': 79, 'فلو': 56, 'ادن': 68, 'حست': 21, 'صحو': 18, 'كلت': 21, 'حشو': 64, 'نال': 33, 'توش': 32, 'لخر': 79, 'لکم': 79, 'ذيب': 62, 'جزل': 7, 'هين': 5, 'ذلل': 79, 'رجي': 7, 'غثه': 79, 'كوز': 67, 'قان': 68, 'كمفاتيح': 79, 'بحس': 2, 'وسو': 5, 'طوع': 7, 'بوي': 45, 'ثقب': 4, 'منه': 63, 'كنس': 79, 'تخب': 68, 'تذمر': 64, 'شيك': 56, 'خرش': 5, 'عالنظر': 79, 'تسو': 57, 'برع': 27, 'ريز': 32, 'هذي': 27, 'سفن': 23, 'قولول': 79, 'تعض': 20, 'هجد': 79, 'نشت': 68, 'رقو': 79, 'عنبر': 6, 'يفت': 40, 'كا': 53, 'بڪ': 12, 'عناقيد': 18, 'تؤ': 67, 'اس': 1, 'مزن': 18, 'صمل': 79, 'جور': 48, 'قدي': 58, 'لطب': 17, 'نگر': 79, 'ذگر': 12, 'شگر': 79, 'حمق': 79, 'يست': 40, 'باز': 32, 'ئات': 79, 'بكه': 68, 'ديو': 45, 'ازز': 79, 'صرا': 79, 'هطف': 79, 'تمه': 9, 'وها': 9, 'زرف': 5, 'يفر': 33, 'باح': 11, 'بمك': 79, 'سيطر': 43, 'عندليب': 6, 'اجعل': 8, 'درش': 67, 'غيظ': 74, 'مابتعرف': 79, 'وتي': 68, 'تعي': 20, 'قالتلو': 38, 'كيج': 32, 'ماتقوم': 5, 'اكث': 1, 'مابداخلك': 49, 'ولج': 58, 'طبر': 79, 'دكتاتور': 62, 'نضر': 79, 'ضرو': 79, 'ستن': 79, 'غادرو': 79, 'هذ': 64, 'نده': 7, 'يصو': 53, 'يصغ': 79, 'تصغ': 40, 'لصق': 5, 'مسم': 68, 'الط': 1, 'طرئ': 79, 'ياش': 9, 'نحر': 43, 'خرا': 62, 'ولوالداي': 79, 'تمل': 20, 'ماينطاق': 79, 'وني': 1, 'الگ': 1, 'الخ': 1, 'دني': 1, 'بول': 45, 'عوم': 67, 'دفن': 43, 'به': 28, 'تحص': 9, 'رقصو': 79, 'سلق': 23, 'غنو': 57, 'بحط': 26, 'اعت': 1, 'اطلع': 13, 'حسي': 48, 'ازعل': 13, 'طولو': 57, 'ورم': 4, 'بكو': 9, 'بغو': 57, 'شان': 48, 'انستجرام': 56, 'جاك': 21, 'مانشستراوي': 24, 'شربتو': 79, 'دعوتگ': 79, 'گما': 12, 'تظل': 20, 'زان': 21, 'قتلو': 43, 'عالشغل': 79, 'هتلر': 62, 'يمو': 79, 'ظني': 48, 'وبب': 79, 'خاب': 33, 'كشعور': 79, 'هلء': 79, 'لجر': 79, 'كنب': 23, 'قطعو': 57, 'دردش': 32, 'ونه': 3, 'كت': 45, 'نتح': 79, 'طيل': 79, 'ميدترم': 67, 'نير': 32, 'واث': 1, 'خبص': 5, 'بتص': 79, 'بتش': 32, 'وجت': 5, 'وذم': 79, 'تخض': 79, 'ميريام': 32, 'بعك': 79, 'وادواردو': 79, 'وند': 79, 'لتل': 32, 'زينب': 6, 'كبش': 62, 'صفع': 43, 'صلع': 79, 'حوض': 4, 'شفتم': 57, 'مكر': 47, 'مبس': 68, 'غدو': 58, 'قسو': 79, 'حدھ': 12, 'خاق': 5, 'شكلھ': 79, 'تمع': 68, 'لمع': 7, 'ﺎ': 9, 'قيز': 79, 'عاليوتيوب': 56, 'تصم': 40, 'زلن': 79, 'تحا': 79, 'شلع': 7, 'عبدالكريم': 6, 'كشر': 7, 'عفر': 79, 'خشع': 79, 'لصت': 79, 'دوح': 79, 'عبي': 32, 'حبن': 48, 'تذب': 5, 'لدن': 79, 'ٱنت': 12, 'ٱحد': 12, 'وتش': 68, 'طاب': 21, 'وزك': 68, 'احر': 7, 'جمر': 48, 'ودا': 14, 'نتن': 62, 'ﻟﺬﺍ': 79, 'زير': 32, 'ﺃﻥ': 22, 'نخل': 4, 'اره': 3, 'رائيل': 79, 'نجل': 6, 'نبل': 64, 'لمد': 17, 'وقن': 68, 'خضراء': 4, 'نشق': 79, 'راج': 1, 'بغه': 9, 'ماتخرب': 5, 'بفم': 79, 'اوقف': 13, 'ونث': 79, 'ركي': 68, 'مهب': 27, 'حدن': 7, 'سلح': 79, 'كومبارس': 62, 'وغب': 79, 'طلت': 21, 'لعو': 9, 'يعي': 40, 'خذت': 21, 'فقم': 49, 'فتك': 68, 'قلن': 79, 'جني': 62, 'ارب': 1, 'شكه': 7, 'دليل': 64, 'ريم': 6, 'جحلط': 57, 'جيز': 32, 'فكن': 49, 'حترام': 79, 'حجم': 64, 'طبطب': 5, 'رتل': 4, 'ياض': 14, 'ومف': 79, 'ضاع': 21, 'قره': 18, 'راء': 3, 'جزت': 7, 'جربو': 57, 'فان': 49, 'فحق': 79, 'اختياراتي': 50, 'اشئ': 79, 'شاد': 5, 'بعز': 7, 'افز': 13, 'زلا': 79, 'فرخ': 62, 'فني': 64, 'ازا': 38, 'وذ': 44, 'تشي': 32, 'ذگرگ': 12, 'لڪ': 12, 'سهت': 79, 'ذگرتگ': 79, 'فائل': 79, 'زوم': 45, 'هبو': 57, 'بم': 68, 'مي': 45, 'كفك': 48, 'سقر': 79, 'دام': 48, 'يضر': 15, 'حيٓ': 79, 'صعق': 79, 'تغل': 68, 'اغلط': 13, 'تيس': 62, 'ضرر': 64, 'شخر': 79, 'ماتنام': 5, 'é': 32, 'تغث': 5, 'ذيل': 62, 'گمل': 79, 'ومو': 27, 'بحن': 2, 'فتب': 79, 'واي': 45, 'بغض': 64, 'زلف': 79, 'سفح': 4, 'مرخ': 79, 'نزي': 79, 'دبش': 67, 'نهد': 79, 'گلم': 12, 'تبل': 7, 'زخه': 79, 'مغب': 79, 'عول': 79, 'فقه': 64, 'لبك': 68, 'جدكم': 57, 'زتي': 68, 'عسك': 79, 'شلو': 53, 'عيونگ': 12, 'ضحكتگ': 79, 'لي': 77, 'مهابيل': 57, 'اكتب': 13, 'لذم': 79, 'بده': 38, 'بعي': 68, 'شراميط': 35, 'كبلز': 35, 'يدع': 40, 'بزز': 79, 'كلتم': 79, 'فخذ': 74, 'درع': 6, 'تها': 3, 'لشخ': 68, 'يتل': 7, 'هدت': 21, 'بمب': 32, 'خرم': 14, 'عالسرير': 67, 'رجس': 47, 'فدا': 7, 'كنز': 22, 'تقد': 79, 'يمش': 7, 'صوص': 23, 'بذل': 43, 'خوذ': 79, 'لبه': 68, 'لہم': 77, 'گتب': 12, 'زر': 56, 'اشبع': 13, 'دبح': 67, 'جبتو': 57, 'شلتو': 79, 'نضج': 64, 'انج': 58, 'اوش': 58, 'ومت': 68, 'خيط': 4, 'حبہ': 12, 'ليس': 16, 'كلہ': 12, 'ومب': 27, 'هالفخامه': 79, 'مت': 68, 'تصب': 20, 'حتم': 79, 'واذ': 49, 'يتا': 9, 'شله': 57, 'رما': 68, 'مايجمل': 79, 'شاص': 23, 'لحو': 9, 'يجو': 57, 'عبدالملك': 6, 'وسا': 79, 'راح': 72, 'هالام': 79, 'ياعزيزتي': 79, 'وان': 75, 'كلثوم': 6, 'عالمسرح': 79, 'فست': 32, 'حبش': 7, 'اقر': 74, 'يتي': 9, 'يزل': 40, 'اقترفناه': 79, 'يفق': 68, 'منن': 12, 'وف': 1, 'ماتختار': 79, 'قرص': 23, 'موق': 68, 'لكف': 79, 'وقه': 68, 'يفض': 40, 'غيرتو': 79, 'طون': 68, 'اذا': 75, 'لمي': 58, 'تنقل': 20, 'شحن': 56, 'قبح': 47, 'اهش': 79, 'مشط': 23, 'مفك': 23, 'جريد': 79, 'ذلڪ': 79, 'قد': 54, 'ودئ': 79, 'تثب': 79, 'جدهم': 57, 'لايتناسب': 79, 'بقع': 4, 'خذلو': 79, 'تغض': 20, 'بصف': 5, 'هف': 58, 'ٱلبعد': 12, 'مٱ': 12, 'نصه': 23, 'هان': 7, 'هالحلم': 79, 'عار': 64, 'طاف': 27, 'جل': 49, 'عصفور': 4, 'روء': 79, 'شطر': 48, 'ستح': 68, 'لمو': 58, 'يالاميره': 58, 'سني': 62, 'هجت': 5, 'رفر': 79, 'خطط': 64, 'منم': 32, 'ولت': 20, 'غبت': 21, 'دمم': 79, 'رت': 3, 'ضيج': 58, 'كبل': 32, 'لگي': 12, 'مرو': 57, 'ذن': 1, 'كنف': 18, 'يدن': 79, 'رشا': 6, 'كمب': 79, 'اغل': 68, 'طع': 3, 'وزل': 79, 'شرهہ': 12, 'عظماء': 57, 'هولاء': 57, 'عربو': 79, 'غاز': 23, 'قون': 68, 'صام': 33, 'صرن': 79, 'فحل': 35, 'سله': 4, 'صحراء': 4, 'لقب': 24, 'جهر': 47, 'ربح': 64, 'حزر': 79, 'ديزاينر': 79, 'هير': 45, 'هزز': 79, 'ارزق': 8, 'ماتقدم': 47, 'لبي': 7, 'قصت': 5, 'سكب': 18, 'زده': 32, 'اته': 1, 'مايقال': 50, 'ماتدخل': 5, 'تاي': 45, 'سبو': 57, 'سنجر': 32, 'كارلو': 24, 'قفز': 43, 'دبه': 23, 'راه': 68, 'كالتشيو': 32, 'حسم': 17, 'كمحب': 79, 'لصف': 79, 'هالكلب': 79, 'سرس': 79, 'تضي': 68, 'جنہ': 12, 'روضہ': 79, 'وسه': 68, 'قلبوس': 79, 'زيع': 79, 'يدش': 26, 'ويق': 68, 'انجازاتك': 50, 'هتزهق': 67, 'ملقتهاش': 67, 'زهايمر': 62, 'هنسمع': 67, 'شرخ': 64, 'فلح': 79, 'حنه': 23, 'شلت': 21, 'خمط': 79, 'شيع': 79, 'عبدو': 6, 'قلتلو': 38, 'نمس': 79, 'مهو': 67, 'طبتم': 18, 'نع': 11, 'فشت': 79, 'تظر': 68, 'مته': 9, 'طرت': 21, 'اخب': 1, 'توج': 58, 'جوكو': 79, 'جدا': 64, 'لغت': 79, 'عطه': 5, 'نم': 68, 'ورو': 9, 'لحز': 53, 'خفه': 67, 'نبد': 79, 'خمر': 23, 'عرك': 79, 'ريهام': 14, 'جرك': 79, 'لصو': 79, 'صفصف': 79, 'ذنو': 79, 'بقو': 57, 'حوي': 18, 'نره': 32, 'نطف': 79, 'شاه': 6, 'نسه': 79, 'فت': 1, 'حصه': 6, 'ادخل': 26, 'عزه': 47, 'قدش': 79, 'تقا': 79, 'رجب': 6, 'سيه': 68, 'كؤس': 79, 'ربه': 33, 'بزر': 62, 'ولؤ': 79, 'شنهو': 0, 'قنا': 17, 'نوب': 7, 'اكو': 27, 'صيب': 68, 'حوك': 79, 'مور': 45, 'ومستحيله': 79, 'تعشم': 79, 'رسك': 79, 'تنش': 68, 'تبر': 68, 'ديس': 32, 'يلت': 68, 'نهج': 64, 'كفء': 79, 'جيفار': 79, 'شغف': 18, 'بوكاجونيورز': 79, 'وشم': 4, 'احش': 13, 'لرج': 79, 'تنه': 68, 'وندم': 79, 'نمر': 4, 'هيرجع': 14, 'نبذ': 17, 'وبث': 74, 'غتر': 79, 'هكي': 38, 'وﻵ': 12, 'هدك': 79, 'ساق': 7, 'بحد': 67, 'ماتابعتك': 79, 'رمت': 20, 'وخذ': 74, 'ازع': 68, 'حترجع': 67, 'ماعارف': 67, 'ضاد': 79, 'نسل': 7, 'امع': 68, 'بتف': 67, 'اوجد': 74, 'هنذاكر': 67, 'لدب': 79, 'ڪله': 79, 'ﺎله': 79, 'عندڪ': 79, 'نبع': 18, 'روبيرتو': 24, 'راكيتيش': 79, 'جيكر': 62, 'وما': 75, 'قدك': 62, 'صورو': 57, 'شفط': 23, 'صبحگ': 79, 'دوكتور': 79, 'هالموسم': 24, 'تلش': 79, 'اعش': 68, 'وذل': 47, 'غام': 79, 'فئه': 64, 'قبط': 79, 'بهن': 79, 'دينهو': 79, 'عيدج': 58, 'لتر': 23, 'كلا': 49, 'ازل': 8, 'تسلق': 4, 'احو': 79, 'خشش': 79, 'صدد': 17, 'عمرج': 58, 'ماعرفج': 58, 'كواليس': 17, 'تايهيونق': 79, 'ارس': 1, 'امش': 5, 'لسو': 79, 'لئه': 79, 'عفه': 79, 'هتعيش': 14, 'تجل': 68, 'دنس': 47, 'وحج': 79, 'مٓ': 12, 'ظله': 47, 'شق': 7, 'اشق': 47, 'قته': 79, 'بعت': 21, 'يغل': 68, 'متر': 4, 'صبي': 62, 'لكلاسيكو': 79, 'نز': 68, 'نصل': 34, 'بيج': 45, 'ﷲ': 49, 'ليو': 24, 'ذبن': 68, 'مايقصر': 5, 'مبيمشيش': 79, 'ختف': 79, 'عسا': 7, 'جلت': 47, 'علقو': 57, 'جبس': 23, 'ترگ': 12, 'همومگ': 12, 'وگل': 73, 'ربگ': 12, 'اقد': 68, 'نين': 68, 'انش': 58, 'دمت': 49, 'كشخص': 64, 'يعل': 7, 'ليضح': 79, 'وخد': 14, 'جوت': 45, 'هشتاق': 56, 'بيق': 45, 'رام': 1, 'غبن': 48, 'لاه': 1, 'اجس': 68, 'ونو': 9, 'غيرج': 58, 'فلك': 9, 'شلخ': 79, 'يرا': 3, 'عليگم': 12, 'گرم': 79, 'كشي': 32, 'فقو': 79, 'فمد': 79, 'لجل': 48, 'وحن': 7, '٫': 79, 'جفن': 48, 'عزا': 47, 'همز': 79, 'ديزل': 23, 'متعرفيش': 2, 'يكب': 5, 'راي': 64, 'هذا': 64, 'جال': 3, 'تخس': 68, 'لسل': 79, 'سعر': 56, 'كلزق': 27, 'تبث': 20, 'دولہ': 79, 'عيونھ': 12, 'حدك': 5, 'همكم': 57, 'معش': 38, 'عام': 17, 'بحبش': 2, 'كدب': 14, 'جخ': 79, 'لعش': 68, 'طلبتج': 79, 'طيرو': 79, 'تزر': 40, 'ايرد': 79, 'ذكراگ': 79, 'وري': 72, 'هواجيس': 48, 'هيق': 79, 'لكت': 79, 'وبي': 68, 'دهم': 68, 'غرر': 43, 'سوك': 45, 'بك': 28, 'صله': 64, 'ار': 3, 'وصخ': 27, 'لات': 1, 'جمم': 79, 'دمث': 79, 'نني': 68, 'ودل': 79, 'هري': 14, 'برر': 79, 'نصي': 68, 'قف': 49, 'تعف': 40, '': 32, 'بهم': 28, 'همي': 48, 'جيبو': 57, 'بسي': 68, 'هله': 7, 'حيد': 7, 'جس': 68, 'جئت': 49, 'ختصار': 79, 'لاتخلونه': 79, 'جيف': 32, 'حتف': 79, 'مافهمتو': 79, 'حشئ': 79, 'قله': 64, 'مشت': 21, 'كرش': 23, 'ڪان': 12, 'بوم': 45, 'مانستاهل': 79, 'يان': 68, 'تعت': 68, 'مده': 64, 'اهذر': 79, 'يوج': 68, 'حقك': 50, 'كحب': 79, 'تقع': 20, 'اقع': 13, 'تمك': 9, 'طيق': 79, 'ماكملتش': 79, 'هكتئب': 79, 'دمك': 62, 'عينھہ': 79, 'غيرڪ': 12, 'شالفرق': 79, 'ماتوقع': 27, 'وشق': 74, 'رينز': 32, 'شنقول': 57, 'فزن': 79, 'محاولاتي': 50, 'ريف': 4, 'وص': 1, 'شمغ': 79, 'غند': 79, 'عسي': 48, 'تهت': 21, 'خطي': 4, 'مود': 45, 'حدثو': 79, 'بلج': 79, 'كوا': 9, 'حشي': 7, 'عظي': 68, 'قنن': 79, 'كاش': 56, 'بنف': 68, 'مسج': 56, 'ذاب': 48, 'ركد': 7, 'مايعور': 5, 'تعس': 79, 'ذلك': 49, 'ببك': 79, 'ذبل': 21, 'مسر': 67, 'تشو': 32, 'يذق': 40, 'يوك': 32, 'لجب': 79, 'تضم': 20, 'مرق': 23, 'هبعد': 2, 'معرفتش': 2, 'همهم': 57, 'خزي': 47, 'مشيش': 79, 'مافازو': 79, 'رايكو': 67, 'هالخبر': 50, 'زلهہ': 79, 'صفرو': 79, 'فرقع': 67, 'داه': 68, 'بؤر': 79, 'فلق': 18, 'صبغ': 23, 'يمط': 79, 'ونط': 79, 'يك': 3, '\\u06dd': 47, 'بكك': 28, 'فيم': 68, 'گلب': 79, 'مايبطل': 79, 'سال': 33, 'عان': 68, 'فام': 32, 'غطت': 20, 'دانيل': 24, 'عدا': 20, 'كني': 48, 'شذا': 58, 'حمي': 43, 'دونغ': 45, 'كفه': 18, 'شرت': 5, 'اخبر': 40, 'يفه': 3, 'متفكرنيش': 67, 'ﺗﺪﺭﻱ': 22, 'ﻓﺈﻥ': 22, 'ﺍﻟﻔﺮﺝ': 79, 'ﻛﻴﻔﻴﺔ': 79, 'ﻟﻠﻪ': 22, 'ﻋﻠﻰ': 22, 'ﺑﺸﻜﻞ': 22, 'ﺃﺭﺍﺩ': 79, 'ﺃﺳﺒﺎﺑﻪ': 79, 'ﺷﻴﺌﺎ': 22, 'ﺇﺫﺍ': 22, 'گي': 12, 'وگن': 79, 'اكمل': 13, 'يلب': 68, 'تحن': 20, 'بمن': 49, 'عاملو': 67, 'خرد': 79, 'ولل': 68, 'اقه': 1, 'تحبش': 79, 'بقت': 14, 'توه': 27, 'بعش': 68, 'شيش': 23, 'زحف': 4, 'فر': 47, 'دعش': 79, 'دون': 54, 'شوت': 56, 'قاه': 68, 'واف': 1, 'حف': 11, 'عتق': 74, 'بزن': 32, 'غر': 9, 'نزن': 79, 'نسج': 18, 'مايكتب': 50, 'طلل': 79, 'طقق': 79, 'شيبس': 23, 'نطح': 79, 'حاق': 79, 'وتع': 3, 'علہ': 79, 'فوا': 68, 'جوي': 50, 'رن': 1, 'عنب': 23, 'شوك': 7, 'حدت': 7, 'قاع': 4, 'نري': 40, 'تاز': 79, 'وتج': 68, 'صباحكو': 79, 'ران': 3, 'صدت': 21, 'بثت': 20, 'هما': 14, 'ماتفارق': 74, 'وبغ': 79, 'جدي': 6, 'شقط': 67, 'ارق': 1, 'غدق': 79, 'درر': 79, 'جلا': 9, 'ريئ': 79, 'ردت': 58, 'خاك': 32, 'برم': 32, 'نته': 79, 'محا': 67, 'وده': 72, 'رشق': 43, 'ورجالاته': 79, 'تخط': 20, 'كلل': 79, 'هاليوم': 50, 'ويح': 68, 'يحه': 68, 'جرس': 4, 'مايجلب': 79, 'لنص': 67, 'قوس': 4, 'مواليد': 6, 'عقرب': 4, 'يهب': 18, 'فظن': 40, 'مايغسل': 79, 'شا': 53, 'لاڤ': 32, 'يو': 45, 'تسج': 7, 'بسن': 79, 'لهن': 77, 'مايحدث': 64, 'عبدالفتاح': 6, 'شنب': 62, 'وقراراته': 79, 'جها': 79, 'كيز': 32, 'رفضو': 57, 'معندناش': 14, 'تنل': 40, 'سمج': 23, 'ماتضايقت': 79, 'معب': 68, 'ليھ': 12, 'حبھ': 12, 'ثرك': 79, 'ترغ': 79, 'بما': 49, 'خبا': 79, 'حكك': 79, 'يوز': 32, 'كفرق': 79, 'غزر': 79, 'زعق': 67, 'ونف': 68, 'هنزل': 2, 'لقو': 57, 'مخاليق': 68, 'اعي': 13, 'زمر': 67, 'وب': 3, 'هيلق': 57, 'لسع': 67, 'يشد': 5, 'ليد': 79, 'علن': 79, 'تشه': 68, 'وبگ': 12, 'نذر': 47, 'ذرف': 7, 'احج': 13, 'صندوق': 4, '؏': 68, 'ؤقت': 79, 'مبارياتك': 79, 'زال': 40, 'طوف': 5, 'وقد': 54, 'عيت': 48, 'ابوالفرقا': 79, 'وطر': 79, 'ضحت': 20, 'حرقو': 57, 'بصي': 14, 'حوش': 4, 'معر': 79, 'مانشستر': 24, 'بريميرليغ': 79, 'ترف': 7, 'يمع': 79, 'طحت': 21, 'مايدخل': 5, 'افل': 68, 'عنقود': 23, 'غدد': 79, 'نبا': 6, 'موش': 14, 'وحا': 79, 'بق': 1, 'عجه': 7, 'فاض': 18, 'واستودعك': 74, 'سره': 47, 'ندع': 40, 'هوي': 48, 'هيقلب': 67, 'حگم': 12, 'رتت': 79, 'قم': 49, 'جاه': 33, 'ائه': 68, 'تند': 79, 'علھ': 79, 'قهو': 79, 'هيچ': 58, 'ظنا': 49, 'نحي': 79, 'بسو': 9, 'قير': 23, 'گله': 12, 'گتر': 79, 'گفي': 12, 'اخرب': 13, 'لقص': 79, 'ثبتو': 79, 'يفو': 79, 'غيه': 79, 'يشق': 5, 'الذ': 18, 'ائم': 68, 'نمه': 79, 'نطو': 79, 'ابر': 3, 'وبل': 7, 'باستثناء': 64, 'يتس': 68, 'باع': 33, 'انگ': 12, 'فے': 12, 'تذق': 8, 'يے': 12, 'يعز': 47, 'قلؤب': 79, 'فيت': 32, 'ول': 1, 'قر': 74, 'الغ': 1, 'حقل': 4, 'كهرباء': 4, 'لعه': 9, 'يبخ': 79, 'ريع': 68, 'هالهدف': 79, 'عالاقل': 27, 'اكب': 1, 'نبق': 79, 'هوت': 45, 'رنج': 23, 'ترجم': 5, 'خنشوف': 27, 'شكثر': 0, 'هالجيل': 57, 'حگي': 12, 'مافيهوش': 67, 'ولب': 68, 'برئ': 62, 'ﻓﻴﻨﺎ': 22, 'ﻫﺬﺍ': 22, 'ﺇﻟﻴﻨﺎ': 79, 'ﺁﻣﻴﻦ': 79, 'ﻣﻨﺎ': 22, 'ﺍﻟﻴﻮﻡ': 22, 'ﺗﺠﻌﻞ': 22, 'ﻣﻊ': 22, 'ﻭﻻ': 22, 'ﺑﻬﺎ': 22, 'ﻳﺎ': 22, 'ﻧﻈﺮﺓ': 22, 'ﺭﺿﺎ': 79, 'ﺭﺏ': 22, 'ضحي': 33, 'ولكن': 54, 'جزي': 47, 'غلو': 64, 'بحي': 4, 'قدن': 67, 'مكملناش': 67, 'ومك': 68, 'وس': 1, 'هكه': 79, 'ثقلہ': 79, 'ضمہ': 12, 'جذه': 79, 'انستغرام': 56, 'مز': 62, 'مبياكلش': 67, 'مالقوش': 79, 'زنن': 79, 'ٰت': 79, 'شقه': 4, 'اشج': 79, 'شكلج': 58, 'رفعو': 57, 'وبمساعده': 79, 'كشفو': 79, 'وﻻ': 54, 'واحاسيسي': 79, 'را': 3, 'فعد': 79, 'حضرم': 79, 'ليء': 12, 'تؤت': 79, 'خطه': 17, 'مستحقاته': 24, 'يغ': 53, 'ديج': 23, 'هوه': 67, 'وحت': 68, 'ابب': 79, 'جيسو': 79, 'يحض': 9, 'خصب': 79, 'يح': 1, 'اخط': 68, 'ورط': 43, 'سبب': 64, 'كهل': 4, 'كرز': 23, 'بها': 28, 'معتقداته': 79, 'شيماء': 6, 'حسهم': 79, 'جه': 14, 'يبض': 79, 'روه': 68, 'خوه': 48, 'لبط': 79, 'ويس': 1, 'اون': 45, 'طشت': 23, 'طنش': 67, 'فتش': 74, 'دنت': 7, 'الق': 1, 'مخه': 62, 'لقه': 68, 'كتف': 4, 'همش': 79, 'سرك': 50, 'ֆء': 79, 'همك': 48, 'حتفتح': 79, 'ريج': 68, 'نط': 5, 'صلئ': 79, 'حيز': 64, 'سرد': 64, 'بذم': 79, 'تجن': 20, 'ركبو': 57, 'نظل': 57, 'وطي': 7, 'عيدميلادي': 58, 'يلو': 68, 'مون': 3, 'لوز': 23, 'نشا': 43, 'ماروحش': 79, 'عجم': 32, 'باد': 45, 'سجو': 9, 'وات': 1, 'خنجر': 4, 'سمم': 79, 'سؤ': 64, 'نجت': 4, 'بمج': 79, 'نبغ': 79, 'يخت': 4, 'اخس': 27, 'غشش': 79, 'سفط': 79, 'كب': 1, 'ضلو': 79, 'غرن': 79, 'هابعد': 79, 'شول': 79, 'مضحكتش': 67, 'خبل': 62, 'لش': 77, 'لجه': 18, 'ٱخر': 12, 'دبي': 17, 'بو': 27, 'علﮯ': 12, 'ஜ': 79, 'شخصيتگ': 79, 'ﻟمرﺣﻟۃ': 79, 'اوز': 68, 'ﺎجعل': 12, 'رعا': 79, 'فقع': 5, 'شمم': 79, 'وشت': 79, 'حج': 32, 'وهد': 74, 'تعج': 20, 'لقا': 48, 'فب': 68, 'ذم': 47, 'مغاريم': 79, 'لهو': 47, 'ظيف': 79, 'تقت': 68, 'يكي': 9, 'زفر': 62, 'هالحلق': 79, 'تشر': 79, 'يلح': 40, 'فيج': 36, 'زق': 27, 'تفض': 68, 'ذار': 68, 'اكذب': 13, 'مسو': 79, 'كذ': 79, 'فسخ': 24, 'وتل': 7, 'ردك': 50, 'لفو': 57, 'جره': 7, 'يشو': 79, 'بنو': 57, 'دكو': 79, 'قوبل': 79, 'شركاء': 17, 'واجد': 27, 'كمم': 79, 'علطول': 67, 'خده': 7, 'ميلعبش': 67, 'اهر': 68, 'لاج': 1, 'بطب': 79, 'صدي': 18, 'جنح': 18, 'تبتل': 79, 'فذه': 64, 'رمي': 43, 'تفك': 20, 'ذاگ': 12, 'متكلموش': 67, 'لكش': 79, 'اصم': 49, 'عنبو': 79, 'بكا': 48, 'ثرت': 68, 'تحزم': 79, 'بنص': 72, 'غلت': 79, 'دتي': 68, 'سع': 1, 'اسع': 68, 'دش': 26, 'لجي': 7, 'خرجو': 57, 'حيث': 49, 'طعه': 79, 'غطا': 23, 'وطل': 79, 'لهف': 68, 'وظ': 68, 'ون': 3, 'لغو': 32, 'لاستمرار': 17, 'يام': 7, 'بگل': 73, 'تجس': 79, 'وجو': 57, 'اتو': 9, 'وافق': 33, 'ظبي': 17, 'رز': 23, 'دوب': 67, 'فشك': 79, 'قومو': 57, 'اصك': 13, 'هبه': 6, 'رتش': 79, 'يب': 3, 'ماشفتش': 2, 'ﺍﻟﻨﺴﺎﺀ': 22, 'ندش': 57, 'صدقو': 57, 'بزم': 79, 'شقر': 7, 'ﺷﻠﻞ': 79, 'ﺳﻨﻪ': 22, 'دفتر': 56, 'ﻭﺑﻌﺪﻳﻦ': 22, 'ﺍﻻﻃﻔﺎﻝ': 79, 'عوق': 48, 'جبو': 79, 'هقلب': 67, 'تشق': 20, 'صواريخ': 4, 'نجو': 79, 'رقدو': 57, 'ﻋﻤﺮﻫﺎ': 79, 'ﺍﻧﺘﻲ': 22, 'لاتستطيع': 49, 'بعل': 68, 'قلبيء': 12, 'خبت': 7, 'رقبتو': 79, 'نطل': 79, 'هنا': 56, 'انڪ': 12, 'غرس': 43, 'هيفضل': 14, 'نفخ': 43, 'سرت': 4, 'شن': 0, 'قنب': 79, 'باظ': 2, 'اشب': 7, 'حدف': 67, 'حما': 79, 'بطط': 79, 'نعز': 7, 'شحت': 21, 'يٓ': 12, 'لذ': 7, 'امد': 74, 'لمن': 54, 'نوي': 33, 'فہ': 9, 'سہ': 79, 'غده': 79, 'شايفتج': 79, 'غري': 68, 'اذم': 79, 'رست': 4, 'ﺇﻟﻰ': 22, 'ﺑﺄن': 79, 'ﻟﻦ': 22, 'ﺍﻟﻠﻪ': 22, 'ﺃﺑﺪﺍ': 22, 'ﻗﻞ': 22, 'ﻭ': 22, 'هسي': 38, 'ستت': 79, 'حيج': 79, 'يسو': 57, 'احتياجات': 64, 'عشا': 53, 'هبعتهالك': 79, 'هفه': 79, 'ماتنصدم': 79, 'هيحصل': 14, 'اوض': 68, 'واسترخاء': 79, 'حسدو': 79, 'اصن': 32, 'ننس': 68, 'حشا': 7, 'ظنونگ': 79, 'يمگ': 12, 'ربهم': 37, 'سج': 68, 'تبسم': 21, 'شصير': 79, 'مايصور': 79, 'مبارياته': 24, 'اوصل': 13, 'تقدم': 17, 'صقر': 6, 'مايرخص': 79, 'دقه': 53, 'وسر': 18, 'حوراء': 58, 'تنع': 9, 'زهي': 7, 'هترجع': 14, 'سقي': 74, 'ائل': 68, 'نقض': 43, 'مايشوف': 5, 'عقر': 4, 'وصد': 7, 'احض': 61, 'مقد': 79, 'ازك': 32, 'ماد': 5, 'طبك': 48, 'ثري': 45, 'جرحو': 79, 'معك': 48, 'اصف': 13, 'ندو': 58, 'غزت': 20, 'وه': 3, 'حنو': 58, 'نغش': 67, 'جحفل': 79, 'هالقلب': 48, 'وبن': 6, 'ضل': 60, 'خوي': 48, 'بمستقبلي': 79, 'ارن': 68, 'ريس': 14, 'يقس': 79, 'دبس': 23, 'هائ': 79, 'غش': 27, 'تك': 1, 'ٱ': 12, 'مسل': 68, 'ولايزال': 79, 'جنو': 53, 'وحر': 7, 'اشع': 1, 'صنعاء': 17, 'رير': 68, 'جيك': 32, 'قدرو': 57, 'اقدم': 13, 'خوك': 62, 'محق': 79, 'هزل': 79, 'حبر': 18, 'لهي': 7, 'نصت': 79, 'اشر': 7, 'همر': 32, 'كهربائيه': 4, 'رعش': 7, 'علگ': 79, 'زعلش': 79, 'گان': 12, 'حصلش': 67, 'هزعل': 2, 'نها': 68, 'رونو': 79, 'تفو': 62, 'يتح': 68, 'اماراتيه': 17, 'معنوياتي': 58, 'جيا': 32, 'نضع': 40, 'قاي': 45, 'يثم': 9, 'طحتو': 79, 'داخل': 4, 'حچي': 58, 'ذبيح': 79, 'خرطوم': 23, 'فسيولوجي': 67, 'يطم': 53, 'تذ': 79, 'يخص': 64, 'قب': 1, 'خيرهہ': 12, 'بطي': 7, 'شربو': 57, 'باق': 40, 'حنس': 79, 'دفي': 48, 'ﻗﺼﻴﺮ': 22, 'ﺍﻟﺤﺪﻳﺚ': 22, 'ﺃﺭﻭﻉ': 79, 'ﺇﻧﺴﺎﻥ': 22, 'يف': 3, 'ثير': 68, 'خراطيم': 79, 'يات': 3, 'قضيتو': 79, 'قنبل': 79, 'مافزتو': 79, 'فري': 45, 'مجن': 68, 'نوح': 78, 'دنياء': 79, 'وره': 3, 'رقق': 74, 'جزع': 7, 'عرفو': 57, 'هست': 9, 'مواضيع': 56, 'طرطور': 62, 'عض': 68, 'مها': 6, 'تكه': 23, 'هم': 57, 'نزر': 79, 'كلر': 32, 'ﺃﻣﺮ': 22, 'ﺃﻧﺎ': 22, 'ﺇﻻ': 22, 'ﻟﻤﻦ': 22, 'فلي': 9, 'غضي': 48, 'تسا': 79, 'ديز': 32, 'جيرتس': 24, 'يخس': 5, 'ميو': 32, 'ينق': 68, 'لسد': 64, 'ظنت': 20, 'كغ': 23, 'فحط': 5, 'تذم': 79, 'طيش': 48, 'مدل': 32, 'منس': 58, 'لعط': 79, 'تفع': 68, 'بكلش': 79, 'بهه': 28, 'سرڪ': 79, 'رود': 45, 'تزف': 20, 'تجسد': 20, 'جله': 79, 'هتشيل': 67, 'ارل': 79, 'است': 9, 'يحك': 5, 'هيبقو': 67, 'ستف': 79, 'شرشح': 79, 'يسف': 67, 'فحم': 23, 'نشك': 40, 'بحك': 79, 'حكت': 21, 'قصرتو': 57, 'ماتوقعته': 50, 'هماليل': 7, 'قشر': 23, 'ماقبلناه': 79, 'حفيظ': 6, 'خلهم': 57, 'هيو': 45, 'حام': 7, 'نخش': 67, 'بهدل': 67, 'بتج': 79, 'ضجر': 18, 'هور': 68, 'عصه': 79, 'تيق': 79, 'ترت': 68, 'ديكتاتور': 62, 'يز': 3, 'تبرج': 64, 'عالفطور': 79, 'رطب': 9, 'شبي': 7, 'يلہ': 79, 'ڪما': 79, 'قنت': 79, 'ضعو': 79, 'تبس': 68, 'رقل': 79, 'مدك': 79, 'فرك': 79, 'هالجمهور': 79, 'اضم': 13, 'انتب': 68, 'وت': 1, 'فصخ': 5, 'جرت': 20, 'وهو': 62, 'اخق': 13, 'داق': 5, 'حنت': 21, 'سحا': 79, 'ابح': 68, 'هالاجواء': 50, 'هتوصل': 2, 'غصن': 48, 'يورد': 7, 'ونج': 68, 'ششت': 79, 'رجت': 68, 'تان': 9, 'تعز': 17, 'حمو': 67, 'طرو': 7, 'بخط': 4, 'يظل': 40, 'رئي': 79, 'متي': 0, 'هالطبع': 79, 'هالاجازه': 50, 'ودگ': 12, 'كلھ': 12, 'كعد': 79, 'ارف': 3, 'دما': 49, 'حقكم': 57, 'فيب': 79, 'ماينفعش': 14, 'ونق': 74, 'دجل': 79, 'قاريء': 56, 'رياجيل': 57, 'مشوفتش': 2, 'معرفكيش': 67, 'مكه': 4, 'فحص': 17, 'فلب': 79, 'غرز': 4, 'دلت': 20, 'نيه': 64, 'سنع': 27, 'شيبر': 45, 'حوم': 7, 'اعجب': 40, 'وبالتوفيق': 79, 'ۚ': 37, 'ۗ': 71, 'اسبق': 74, 'هالاغنيه': 50, 'كوابيس': 79, 'هلا': 58, 'ماتبعد': 79, 'وغط': 79, 'ذله': 47, 'لعز': 79, 'خر': 3, 'مايعوض': 79, 'نثق': 40, 'برض': 68, 'وطق': 5, 'چني': 58, 'صناديق': 4, 'زوي': 68, 'تعلق': 20, 'ماتصرح': 79, 'سبه': 48, 'صص': 68, 'خطك': 50, 'شطح': 5, 'ظاهر': 64, 'فوه': 79, 'يشم': 5, 'قسا': 21, 'دبغ': 79, 'لہه': 79, 'ﺂلي': 12, 'خلہ': 12, 'ﺂلہ': 79, 'ﺂلع': 79, 'شكواگ': 79, 'افقد': 13, 'چذي': 27, 'چان': 27, 'غبه': 4, 'حني': 7, 'واستبدال': 79, 'اخلص': 13, 'هته': 9, 'بكب': 68, 'شلش': 32, 'صحصح': 5, 'تدش': 26, 'شخط': 79, 'مزي': 68, 'نيز': 32, 'ساي': 45, 'قارنو': 79, 'حض': 61, 'دها': 3, 'وفش': 79, 'دمهم': 57, 'خدر': 7, 'خبئ': 49, 'رفرف': 7, 'راحهہ': 12, 'يهہ': 79, 'وشر': 47, 'خفيف': 23, 'رؤف': 79, 'حفرالباطن': 17, 'كيش': 32, 'مفاهيم': 64, 'ياز': 53, 'زغب': 35, 'فسق': 79, 'مؤم': 68, 'ماروكو': 58, 'اصد': 48, 'ساج': 68, 'مبيحبش': 67, 'خربو': 57, 'جثم': 79, 'بوعريريج': 79, 'ضفت': 5, 'ثاب': 68, 'دوج': 32, 'قرمط': 67, 'هوك': 32, 'عدس': 23, 'عيس': 79, 'موط': 53, 'كفف': 58, 'شايفو': 67, 'قرنبيط': 79, 'تر': 68, 'ضرماء': 79, 'عبفتاح': 67, 'مجي': 68, 'روم': 45, 'تسد': 69, 'يلج': 18, 'جفف': 79, 'ﺍﻟﺮﺟﻞ': 22, 'ﻓﻘﺪ': 22, 'ﻳﺘﺄﻟﻢ': 22, 'ﺗﺼﺪﻗﻲ': 79, 'ﺍﺷﻴﺎﺀ': 22, 'ﺛﻼﺛﺔ': 22, 'يمم': 7, 'وع': 3, 'فسو': 79, 'فكان': 49, 'قرقع': 79, 'رمد': 7, 'اخن': 79, 'غن': 48, 'بجت': 58, 'ابط': 68, 'كر': 3, 'غرض': 64, 'قدع': 67, 'يمض': 40, 'عليكم': 30, 'داء': 47, 'وغم': 47, 'ديكور': 23, 'لدو': 79, 'مدت': 21, 'يغت': 79, 'مقاديم': 79, 'زون': 45, 'يرخ': 79, 'ركل': 79, 'ديق': 68, 'باه': 14, 'عال': 68, 'لوا': 9, 'كيلو': 23, 'سها': 79, 'بعف': 68, 'ازر': 79, 'شجن': 18, 'صحا': 7, 'شبت': 7, 'طبت': 21, 'اضا': 79, 'صب': 1, 'سعت': 74, 'تفا': 79, 'ﻟﻲ': 22, 'ﺗﺮﺩ': 79, 'ﺃﻣﺮﻱ': 79, 'ﻭﻳﺴﺮ': 79, 'ﺻﺪﺭﻱ': 22, 'ﻋﻨﺪﻣﺎ': 22, 'ﺭﺑﻲ': 22, 'ﻭﺃﻧﺖ': 22, 'ﺍﻟﻀﻴﻖ': 79, 'ﻣﺎﺀ': 22, 'متاسفانه': 32, 'رهن': 74, 'ذكرياتگ': 79, 'حولاء': 79, 'لئ': 68, 'زنخ': 67, 'بوص': 68, 'دوسو': 79, 'دوس': 67, 'خنسولف': 79, 'عنس': 79, 'رونالدو': 24, 'واستغلال': 64, 'رق': 1, 'فخ': 4, 'يدا': 49, 'جبي': 68, 'راق': 1, 'گنگ': 12, 'تكي': 32, 'فيگ': 36, 'فالمراجل': 79, 'قده': 62, 'شؤم': 79, 'رفو': 79, 'طاط': 32, 'خمد': 79, 'عطب': 79, 'لغه': 64, 'منص': 68, 'لدي': 64, 'لشي': 50, 'قطو': 62, 'لذو': 47, 'هالامور': 50, 'ايحب': 79, 'هالصباح': 50, 'وضل': 7, 'ممي': 9, 'رنا': 3, 'حفتر': 17, 'لکن': 12, 'محتاجينه': 67, 'عبدالوهاب': 6, 'عزرائيل': 62, 'زخرف': 47, 'طنب': 79, 'وٰ': 12, 'نسد': 79, 'ماتركو': 79, 'استغفارا': 49, 'عليهو': 67, 'صنف': 64, 'هرت': 79, 'مايمثل': 5, 'نخر': 79, 'هقل': 79, 'عبدالرحمن': 6, 'مسالخير': 79, 'خمم': 79, 'اهز': 13, 'هيكمل': 2, 'ومع': 54, 'ماتروح': 5, 'نعط': 79, 'بقه': 14, 'فدك': 79, 'ابتسامات': 18, 'متا': 27, 'فتق': 7, 'هيصعد': 79, 'وخص': 79, 'ملط': 14, 'جميلہ': 12, 'ٺعلق': 79, 'وثب': 68, 'هزت': 20, 'يرف': 7, 'موج': 18, 'خرت': 9, 'عليها': 30, 'بذر': 23, 'تزع': 21, 'شتب': 79, 'اجه': 1, 'اهتماماته': 64, 'ازح': 8, 'ايمر': 79, 'طح': 7, 'بمش': 68, 'مانقول': 57, 'يصد': 33, 'شيم': 47, 'خدش': 64, 'جزا': 47, 'عصي': 47, 'وهق': 79, 'فيل': 45, 'يقولهالك': 79, 'اكش': 79, 'عفس': 5, 'ملگ': 12, 'راض': 8, 'ﻧﻜﻮﻥ': 22, 'حشش': 79, 'رهہ': 3, 'ﻛ': 22, 'ﺍﻟﺤﻴﺂﺓ': 22, 'ذيذ': 79, 'بثا': 79, 'اهه': 67, 'اجن': 13, 'اثم': 47, 'عزيزٱ': 79, 'مخانيث': 57, 'ﺃﻛﺒﺮ': 22, 'ضلا': 79, 'ندف': 79, 'ﺧﻄﺄ': 22, 'ﻣﻨﺂ': 79, 'حقو': 38, 'هنصعد': 79, 'دخلو': 57, 'اعف': 8, 'جوكم': 57, 'هيت': 45, 'ﺎلحگم': 79, 'رمم': 67, 'بدم': 43, 'خو': 58, 'يضم': 43, 'لجا': 33, 'ذكي': 62, 'خدتش': 79, 'عبقر': 79, 'اج': 1, 'جذع': 4, 'اعمر': 79, 'حسهہ': 79, 'رته': 3, 'صره': 4, 'هنتخانق': 67, 'وسح': 79, 'زيف': 18, 'بعا': 9, 'طوا': 9, 'كمي': 7, 'فج': 68, 'شقشق': 79, 'يذب': 5, 'مسد': 79, 'شكت': 21, 'برگ': 79, 'دفق': 79, 'تردش': 79, 'نوس': 79, 'وصه': 9, 'اغف': 8, 'قطه': 23, 'فود': 23, 'تع': 3, 'وضو': 79, 'مانخلص': 57, 'داريم': 32, 'زيح': 79, 'توا': 38, 'واستمتعت': 79, 'ﻷن': 79, 'لشط': 79, 'شرس': 62, 'نحو': 17, 'شب': 7, 'نمن': 79, 'دقيقہ': 12, 'بيف': 32, 'صفه': 64, 'دهس': 43, 'يوش': 79, 'مانختلف': 79, 'اسط': 68, 'ديد': 45, 'كوكيز': 23, 'تقلب': 20, 'ﺍﻟﻘﻠﺐ': 22, 'ﺃﻛﺜﺮ': 22, 'ﺳﻤﺎﻉ': 79, 'ﺷﻲﺀ': 22, 'ﺗﻌﺎﻟﻰ': 22, 'ﺍﻟﻤﺘﻌﺐ': 79, 'ﻗﻮﻟﻪ': 22, 'ﻳﺮﻳﺢ': 79, 'زدن': 32, 'خاص': 56, 'رمك': 9, 'يحن': 21, 'كطفل': 49, 'اغص': 18, 'جوزاء': 67, 'نصك': 67, 'جربوع': 62, 'ظلو': 79, 'حدي': 58, 'ارت': 1, 'صويحب': 79, 'لمج': 79, 'تب': 3, 'اولد': 32, 'وتد': 4, 'ﺗﺴﻠﻴﻤﺎ': 79, 'ﺻﻠﻮﺍ': 79, 'ﻭﺳﻠﻤﻮﺍ': 79, 'ﻟﻪ': 22, 'ﺍﻟﻨﺒﻲ': 22, 'ﻗﺎﻣﺖ': 79, 'ﻋﻠﻴﻪ': 22, 'ﺍﻟﺤﺮﻭﻑ': 79, 'ماتوصل': 5, 'قاب': 68, 'تنص': 40, 'ندب': 79, 'كيا': 9, 'غدت': 21, 'دب': 62, 'واء': 68, 'يخ': 1, 'حندم': 79, 'جدك': 62, 'ربطو': 79, 'المع': 3, 'سوارفسكي': 79, 'توع': 79, 'كيلومتر': 4, 'رجوعگ': 79, 'دكك': 79, 'فقط': 54, 'دنب': 79, 'عي': 3, 'نول': 79, 'مامرتاح': 79, 'واضع': 74, 'هتغير': 2, 'ذيا': 79, 'كوي': 7, 'عيونو': 38, 'هالعالم': 50, 'نسن': 68, 'نزح': 79, 'منب': 27, 'نعل': 62, 'وزو': 17, 'سطل': 23, 'بزل': 79, 'عبه': 68, 'عرم': 67, 'حوس': 67, 'شل': 74, 'فصم': 79, 'ضبع': 79, 'لشد': 79, 'مايشيل': 5, 'شدو': 57, 'ولم': 16, 'فشر': 67, 'قهم': 79, 'حظهم': 57, 'انتش': 79, 'هجه': 79, 'مغص': 5, 'احتفاليه': 17, 'نشه': 32, 'ياحبيبتي': 58, 'جيسوس': 79, 'عالتوالي': 79, 'ظفر': 47, 'توكل': 47, 'استر': 74, 'يدق': 5, 'جفت': 21, 'يثن': 79, 'يره': 3, 'رؤس': 4, 'تكبر': 20, 'لنش': 79, 'حت': 1, 'نرن': 79, 'ولق': 68, 'بوط': 9, 'هالجمال': 50, 'هاض': 38, 'زعتر': 23, 'عينج': 58, 'تدع': 8, 'اشه': 1, 'وخ': 1, 'نوف': 58, 'عضي': 79, 'هالولد': 27, 'حبكم': 57, 'شقلب': 79, 'بهد': 79, 'هالمقطع': 50, 'شكم': 79, 'وگم': 12, 'ضم': 74, 'رخو': 79, 'هتكمل': 2, 'عته': 67, 'هذو': 79, 'غطو': 57, 'دفنو': 79, 'يني': 1, 'رتج': 79, 'مشتاقتلج': 58, 'شخبارج': 58, 'مبكرهش': 2, 'كنگ': 79, 'تعق': 79, 'اع': 1, 'يكون': 40, 'قدرش': 79, 'اضر': 47, 'دومو': 79, 'وغا': 79, 'يرم': 79, 'مايروح': 5, 'ترن': 5, 'تزه': 79, 'ضخم': 4, 'قوك': 79, 'جدو': 24, 'هيونج': 79, 'عصافير': 18, 'بشك': 67, 'وهك': 79, 'ليج': 24, 'عيناهہ': 79, 'دوي': 7, 'شرفاء': 57, 'طغي': 18, 'خذا': 21, 'غيط': 79, 'متص': 79, 'غور': 67, 'تجف': 20, 'قحص': 79, 'صائ': 79, 'بر': 3, 'تبه': 9, 'ودب': 62, 'ربكم': 47, 'ختو': 79, 'سهو': 79, 'خنا': 79, 'موعارف': 79, 'كاف': 49, 'عتذر': 79, 'وطع': 79, 'لشو': 38, 'شنا': 79, 'بهالمقطع': 79, 'سوف': 16, 'رومنس': 79, 'تج': 1, 'غصت': 18, 'اوت': 45, 'اشن': 79, 'درو': 57, 'يهه': 79, 'عهر': 64, 'كدي': 67, 'حان': 74, 'يمک': 79, 'لدع': 79, 'ارش': 13, 'حدهم': 57, 'بسه': 23, 'فله': 27, 'دنو': 79, 'سرن': 79, 'بطع': 9, 'وجن': 68, 'خصو': 79, 'مبضحكش': 79, 'بئس': 47, 'يوت': 79, 'ابخ': 68, 'وك': 1, 'اطش': 79, 'اهخ': 58, 'اق': 1, 'تين': 45, 'عثل': 67, 'لوق': 68, 'صان': 7, 'حا': 9, 'مايتمناه': 79, 'قبيل': 17, 'احذ': 79, 'انجازاته': 24, 'ثرا': 7, 'حيب': 79, 'ماتطلع': 5, 'اشتقنالك': 58, 'شقصد': 79, 'ثام': 79, 'يلن': 79, 'ملئ': 18, 'تضج': 18, 'اضع': 13, 'موه': 9, 'عمرو': 6, 'گنت': 12, 'هشتاج': 67, 'يفع': 68, 'لنج': 32, 'ضيم': 48, 'حركو': 79, 'ويو': 32, 'زغلول': 6, 'دسم': 23, 'بقف': 2, 'قلبو': 58, 'امض': 49, 'شوكولاته': 23, 'همن': 27, 'ادف': 9, 'وضج': 79, 'وذق': 79, 'يتص': 79, 'تهي': 68, 'اطا': 79, 'بيغ': 45, 'ترع': 68, 'يسگ': 79, 'ثعب': 79, 'عجرم': 32, 'شها': 68, 'ميس': 45, 'ويذ': 45, 'نقع': 40, 'راع': 7, 'زلم': 62, 'يذم': 47, 'ﺗﻘ': 79, 'اخلق': 13, 'بخص': 79, 'باص': 4, 'زرق': 23, 'صنت': 74, 'حنبل': 49, 'صنه': 79, 'ڪون': 79, 'واغ': 68, 'نقئ': 79, 'كبياض': 79, 'ضلل': 79, 'دخ': 1, 'عارف': 2, 'ضدا': 79, 'ﻣ': 68, 'ميكروب': 79, 'يوع': 58, 'جزئ': 79, 'هيتم': 67, 'ابس': 68, 'ثوي': 79, 'معط': 9, 'ثان': 9, 'عب': 3, 'اسئ': 79, 'ماتعود': 5, 'فز': 21, 'اضل': 60, 'دلو': 7, 'بشا': 9, 'هوليود': 32, 'رشت': 7, 'لظل': 79, 'يؤ': 58, 'خلگ': 12, 'هنم': 79, 'تلغ': 79, 'بجم': 27, 'معم': 79, 'ختي': 58, 'واستخفافا': 79, 'ايز': 45, 'هيكلم': 67, 'بحہ': 12, 'دقت': 21, 'عجزو': 79, 'حقهم': 57, 'بصص': 79, 'كتمل': 79, 'كرك': 23, 'دغر': 6, 'هشه': 20, 'كظم': 79, 'تخت': 68, 'بود': 32, 'کثر': 12, 'نعي': 40, 'طلفاح': 79, 'قفر': 7, 'فسك': 68, 'انجليزيه': 56, 'خه': 68, 'يكش': 67, 'خطو': 7, 'يسع': 40, 'چذب': 58, 'شيدو': 79, 'لفخ': 79, 'علئ': 30, 'اھم': 79, 'طحلوب': 79, 'حطن': 79, 'بعر': 79, 'يبت': 5, 'قلقاس': 67, 'اسمح': 13, 'ونح': 68, 'كورنيش': 4, 'جته': 5, 'عري': 79, 'يخليهملك': 79, 'اعشق': 13, 'تح': 1, 'عبدالمجيد': 6, 'روث': 32, 'شبہ': 12, 'عمم': 79, 'جوميز': 24, 'ارجع': 13, 'رغيف': 23, 'حضك': 79, 'خواتيم': 79, 'بزف': 79, 'ميه': 23, 'نون': 68, 'خمن': 79, 'جلسو': 57, 'رومانسيه': 58, 'جتك': 21, 'هزك': 21, 'برزنتيشن': 56, 'ولابتوبي': 79, 'ابت': 68, 'شركم': 57, 'مدع': 79, 'جلو': 32, 'شكك': 47, 'متب': 79, 'جست': 45, 'يل': 1, 'يطف': 79, 'خيرج': 58, 'انتقاليه': 17, 'نقز': 5, 'حون': 68, 'حظك': 48, 'هدو': 57, 'هتشل': 2, 'لازم': 72, 'سام': 32, 'جاج': 32, 'لجج': 79, 'ها': 3, 'راز': 5, 'ظنگم': 79, 'سنس': 32, 'سيت': 45, 'اقولهالك': 2, 'كنتس': 79, 'رفه': 68, 'باو': 32, 'نه': 1, 'يرت': 68, 'هارفارد': 32, 'بلم': 67, 'مايخوف': 27, 'بلط': 79, 'خليكو': 67, 'عزگ': 79, 'خيرگ': 79, 'رويال': 45, 'مج': 1, 'قصص': 79, 'قطت': 5, 'انجازاتي': 50, 'غدا': 17, 'ديرو': 57, 'لنق': 79, 'مطانيخ': 57, 'انسو': 57, 'ككي': 79, 'قني': 74, 'نب': 1, 'صبرو': 79, 'تغد': 79, 'كرا': 68, 'ربش': 79, 'شرموط': 67, 'هذك': 79, 'كشعب': 64, 'قا': 1, 'خرك': 9, 'زودو': 79, 'تنخ': 79, 'لعبدالرحمن': 6, 'توحش': 9, 'عبت': 79, 'خلصتو': 57, 'كومب': 79, 'كامل': 64, 'ايضر': 9, 'رهش': 79, 'ﺍﻻ': 22, 'ﺍﻟﻠﻲ': 22, 'ﺗﺘﺮﻙ': 79, 'اذب': 68, 'مفي': 67, 'ديفيد': 24, 'كريستيانو': 24, 'متق': 9, 'طنط': 14, 'يوح': 79, 'بتح': 68, 'فرت': 7, 'غرباء': 49, 'المح': 13, 'حطك': 5, 'افتح': 13, 'بحز': 53, 'ولاتحتاج': 79, 'لخي': 68, 'حن': 48, 'جرئ': 67, 'شيكابالا': 24, 'ميعرفوش': 14, 'حظج': 58, 'لوج': 68, 'حدج': 58, 'كش': 5, 'ملغ': 79, 'ماتعلق': 79, 'ركو': 79, 'هالهرج': 79, 'غرو': 7, 'شعراء': 6, 'تشخ': 79, 'مدا': 7, 'هنقابل': 67, 'لغم': 4, 'رونق': 18, 'تا': 9, 'ضرع': 79, 'اضرب': 67, 'قذي': 79, 'مايفعل': 79, 'خفا': 48, 'بتغريداتك': 79, 'اقصد': 27, 'تفتح': 69, 'غد': 49, 'دقن': 62, 'ماتاخذ': 5, 'يال': 68, 'بيح': 7, 'ױ': 12, 'ماتغيب': 48, 'ﺗﺮﻓﻌﻪ': 79, 'بثر': 62, 'تول': 68, 'وسس': 79, 'صراصير': 23, 'رويشد': 58, 'يذا': 79, 'تعص': 79, 'حص': 1, 'اجا': 38, 'رسا': 79, 'سقل': 79, 'ارا': 3, 'ٳلا': 12, 'ﺎلخير': 12, 'ٳله': 79, 'عتي': 68, 'هنرجع': 2, 'مسب': 79, 'منزلتش': 2, 'يلم': 74, 'كير': 45, 'خيو': 58, 'شقك': 68, 'يوص': 68, 'دوك': 7, 'هزا': 32, 'نفك': 67, 'مراسيم': 17, 'لعل': 49, 'تيقظ': 79, 'يهج': 5, 'مزو': 9, 'غلظ': 79, 'عينش': 58, 'وجر': 7, 'يدت': 79, 'مان': 45, 'يس': 1, 'وصك': 5, 'دايق': 79, 'كامارو': 79, 'مايستمر': 79, 'ينص': 40, 'عضم': 67, 'جاع': 33, 'فلج': 32, 'واستيعاب': 79, 'مام': 9, 'هشبع': 79, 'كينج': 45, 'يهز': 43, 'عصت': 79, 'هتعرف': 14, 'فعش': 49, 'لجم': 79, 'جلخ': 79, 'فسب': 79, 'بنغ': 79, 'فون': 56, 'نفو': 79, 'فكي': 58, 'ماتصدق': 5, 'ماعتقد': 27, 'ﺃﻧﺖ': 22, 'ﻋﻤﺮ': 22, 'ﻛﻠﻨﺎ': 22, 'ﻫﻲ': 22, 'ﻗﺎﻝ': 22, 'ﺃﻳﺎﻡ': 22, 'ﺍﻟﺪﻧﻴﺎ': 22, 'ﻭﻗﺎﻝ': 22, 'لفه': 23, 'منء': 12, 'جرف': 4, 'فوت': 38, 'تغريداتي': 50, 'فيثاغورث': 79, 'مايستفيد': 79, 'سلع': 64, 'خاطرو': 79, 'سفك': 43, 'جيج': 79, 'اتس': 45, 'موز': 23, 'ماتخيل': 27, 'وشب': 7, 'اقش': 79, 'تنفس': 18, 'زاح': 68, 'ختيار': 79, 'غا': 32, 'ياسرالدوسري': 79, 'فعف': 79, 'ڪلم': 79, 'سطع': 7, 'شسم': 5, 'دته': 9, 'هشك': 67, 'رحتو': 57, 'صفن': 79, 'نقت': 79, 'ركه': 68, 'مورينهو': 24, 'ﻟﻚ': 22, 'شلب': 79, 'كظل': 79, 'سات': 56, 'ماتنقص': 79, 'خسف': 43, 'مابقتش': 2, 'اقلد': 13, 'ذگرو': 79, 'مانخسر': 57, 'صاب': 7, 'قسط': 64, 'افر': 68, 'بتويتاتي': 79, 'ﺗﺒﺘﻌﺪ': 22, 'ﺍﻟﺠﻤﻴﻠﻪ': 79, 'ﻳﻮﻣﺂ': 79, 'ﻗﻠﻮﺏ': 22, 'ﻭﻛﺄﻧﻨﻲ': 79, 'ﻗﺮﻳﺐ': 22, 'ﺑﺪﺃﺕ': 22, 'ﻏﺮﺑﺔ': 79, 'ﻋﻨﻲ': 22, 'ﻟﻢ': 22, 'ﻟﺴﺖ': 22, 'ﻣﻌﻬﺂ': 79, 'تتا': 32, 'رجا': 48, 'هشش': 67, 'ينگ': 79, 'ツ': 49, 'فزي': 79, 'اذك': 1, 'حرا': 49, 'دخت': 27, 'هيشيل': 67, 'شلي': 0, 'كفا': 74, 'خشه': 5, 'قاتلو': 79, 'دعهم': 49, 'غرابيل': 48, 'فند': 79, 'مقا': 79, 'شون': 45, 'جيهوب': 79, 'تفرد': 20, 'اشو': 58, 'شاذ': 62, 'ظنهم': 47, 'مبيحبكش': 79, 'حكر': 64, 'طلك': 79, 'ماتساعد': 79, 'تدف': 9, 'لده': 67, 'قفا': 7, 'جنبو': 67, 'نظن': 40, 'عوذ': 68, 'ظلك': 48, 'حصي': 4, 'ظنه': 47, 'اشا': 79, 'حطي': 26, 'وقس': 79, 'سفي': 68, 'يدف': 7, 'حظن': 7, 'نلف': 67, 'جرر': 79, 'غول': 32, 'صبك': 79, 'سهي': 7, 'تخم': 5, 'ماذاكر': 79, 'شخل': 79, 'حظكم': 57, 'مٰ': 12, 'ماغ': 68, 'ساوندتراك': 79, 'قدرتو': 57, 'لاب': 45, 'ولگ': 12, 'ايحس': 79, 'نان': 68, 'دارفور': 17, 'احق': 47, 'قومش': 79, 'كلك': 48, 'ديفل': 32, 'توقف': 20, 'احشر': 74, 'مفيهاش': 14, 'سكو': 9, 'مفش': 67, 'بنج': 23, 'كمر': 32, 'خود': 32, 'وبالاسلام': 65, 'شذنب': 79, 'هنبطل': 67, 'هالبلاوي': 79, 'بلص': 32, 'تدن': 79, 'وصي': 47, 'هہ': 12, 'روميو': 32, 'ودز': 32, 'فوق': 7, 'اليوم': 17, 'ظه': 1, 'زمزم': 4, 'بتب': 79, 'للق': 68, 'يئن': 18, 'شلح': 67, 'ترشح': 17, 'مايصيب': 79, 'تحلم': 20, 'هتحضر': 67, 'مطل': 4, 'يقد': 79, 'سدق': 79, 'ﺍﻟﻨﺎﺱ': 22, 'ﺑﻌﺾ': 22, 'ﻳﻈﻦ': 79, 'كوكتيل': 23, 'نصراويتي': 79, 'نضم': 57, 'ايس': 23, 'خق': 5, 'دمج': 17, 'ميكروباص': 14, 'بثق': 2, 'شنط': 23, 'ياع': 68, 'ترز': 79, 'هاذ': 38, 'وعض': 79, 'بص': 14, 'شدا': 79, 'مكملتش': 2, 'طز': 62, 'فهي': 49, 'قاد': 43, 'فيه': 72, 'تجع': 8, 'قرا': 33, 'هالرسايل': 79, 'زاعل': 79, 'ويخ': 68, 'هتروق': 67, 'تل': 4, 'لاتستغرب': 79, 'عالجرح': 58, 'صرم': 79, 'هالدور': 79, 'تگل': 79, 'دختر': 32, 'ريدو': 79, 'هره': 68, 'خدت': 14, 'رهو': 9, 'شيد': 74, 'نبش': 74, 'جاح': 68, 'اوخ': 58, 'هتندم': 2, 'ذلا': 47, 'ؤدي': 68, 'هر': 1, 'كغريب': 79, 'سكا': 9, 'حزه': 48, 'تذل': 20, 'مبنزلش': 79, 'سطو': 43, 'لتص': 79, 'داب': 7, 'هدب': 48, 'مشق': 79, 'لغض': 79, 'صم': 68, 'شيطلع': 79, 'جبد': 58, 'باط': 9, 'يوق': 68, 'سح': 1, 'جهلاء': 57, 'تصف': 20, 'هشي': 79, 'قرمبع': 79, 'لود': 45, 'مودريتش': 24, 'جرش': 17, 'اشم': 13, 'لخط': 4, 'عرج': 7, 'ببن': 79, 'دبا': 32, 'يرش': 5, 'جنط': 23, 'وضي': 18, 'ℛ': 79, 'روغ': 79, 'ماتحبو': 79, 'يالهلاليه': 79, 'ماتفرح': 79, 'ʾ': 79, 'لتن': 79, 'بخق': 79, 'قولہ': 12, 'فولفسبورغ': 24, 'شرا': 47, 'رص': 1, 'علێ': 79, 'جهہ': 79, 'ٲعظم': 79, 'فې': 12, 'شوب': 45, 'ؤذي': 68, 'ظلا': 49, 'بخس': 79, 'ناقض': 79, 'وسب': 57, 'مث': 1, 'وخن': 79, 'وكريستيانو': 24, 'كابيتانو': 79, 'وعظ': 47, 'بسف': 67, 'زحلق': 79, 'مستقبليه': 64, 'غربل': 79, 'هبد': 79, 'دولف': 79, 'ذر': 1, 'كابطال': 79, 'كات': 45, 'يفن': 68, 'حجہ': 12, 'ماه': 1, 'ᴗ': 79, 'هوج': 7, 'كرهتگ': 79, 'بام': 79, 'ملحقتش': 2, 'موصلوش': 79, 'لتغريداتي': 79, 'كيو': 45, 'لخل': 68, 'قيق': 68, 'وكالعاده': 79, 'مورنينج': 32, 'هعهع': 79, 'حيھ': 79, 'كلمھ': 79, 'خاض': 43, 'طرش': 5, 'اختبارات': 50, 'استقبالا': 79, 'انء': 79, 'روبنز': 32, 'رسالهہ': 79, 'زينل': 79, 'شفر': 32, 'وبع': 68, 'اركو': 79, 'لط': 68, 'راغ': 68, 'ماجستير': 56, 'فالطياره': 79, 'عنہ': 31, 'حظہ': 12, 'ظلمو': 79, 'فيق': 32, 'امز': 45, 'فخا': 79, 'ضمم': 79, 'اض': 1, 'ﺃﻣﺮﺍ': 79, 'ﻓﻴﻜﻮﻥ': 79, 'ﺇﺫا': 22, 'ﻳﺘﻐﻴﺮ': 22, 'ﺍﻟﺬﻱ': 22, 'ﻛﻦ': 22, 'ﻳﻐﻴﺮ': 79, 'ﻳﻘﻮﻝ': 22, 'هيبص': 67, 'ايو': 32, 'همد': 79, 'مايستوعبه': 79, 'كريتف': 79, 'اجو': 57, 'مبتحبنيش': 79, 'اهق': 79, 'حنق': 79, 'بشو': 38, 'شقو': 79, 'تحسف': 5, 'مذل': 68, 'يحش': 5, 'ک': 12, 'كدرس': 79, 'و': 54, 'اورو': 32, 'كرد': 32, 'خلش': 79, 'هالبلد': 57, 'بقد': 79, 'مواويل': 18, 'وقص': 68, 'ﺎلفرح': 12, 'ﺎلذكر': 79, 'ﺎلا': 12, 'هالاشكال': 50, 'تطف': 68, 'واب': 1, 'فصح': 79, 'يجه': 79, 'انہ': 12, 'قلبگ': 12, 'علے': 12, 'يبہ': 11, 'فيھ': 12, 'عايشہ': 79, 'الے': 12, 'ادلع': 58, 'نقو': 79, 'بنل': 79, 'تطق': 5, 'عدك': 68, 'انع': 11, 'جسر': 4, 'وطز': 57, 'ضارب': 5, 'ايسو': 79, 'ونن': 9, 'هنشوف': 14, 'طل': 7, 'قيرل': 45, 'رسلو': 79, 'طعو': 53, 'كرتو': 79, 'انح': 68, 'علماء': 17, 'رتك': 3, 'جشع': 64, 'هعرف': 2, 'شسع': 79, 'مايستاهل': 27, 'لک': 77, 'رمن': 9, 'ج': 1, 'عطس': 62, 'هتصل': 67, 'ضبا': 79, 'شلهوب': 6, 'ينش': 68, 'هظبط': 67, 'فنه': 79, 'متئ': 27, 'هتطلع': 14, 'ومج': 68, 'مغناطيس': 23, 'نيس': 32, 'هيفرق': 2, 'مفكرتش': 2, 'دايموند': 32, 'هلج': 79, 'مدخلتش': 2, 'رؤساء': 17, 'مايمزح': 5, 'عنهم': 31, 'عوا': 68, 'نحد': 79, 'ربيد': 79, 'استمراره': 24, 'قضه': 79, 'جوليانو': 79, 'لورد': 32, 'دمنهور': 17, 'حثل': 79, 'مايليق': 5, 'وخس': 32, 'امگ': 12, 'مشو': 57, 'ﺎلشوق': 48, 'تلگ': 12, 'لگم': 12, 'انث': 68, 'انط': 13, 'واط': 1, 'دكر': 14, 'ومق': 68, 'نيہ': 12, 'وغل': 79, 'كته': 67, 'فارق': 48, 'لاخ': 68, 'صؤت': 79, 'غرگ': 79, 'ضحگ': 12, 'صوتگ': 12, 'استيقاظي': 79, 'في': 54, 'زم': 1, 'نوتيفيكيشن': 79, 'سيف': 6, 'مفتحتش': 2, 'مازنجر': 79, 'مضغ': 79, 'مايفهم': 5, 'جرا': 7, 'استثقلته': 74, 'تصد': 48, 'كشكول': 67, 'هتعيد': 67, 'ابطل': 13, 'هالحب': 50, 'فاش': 38, 'يساعدونه': 79, 'مهر': 23, 'قطب': 6, 'لنف': 68, 'محمدكماصليت': 79, 'شدخل': 27, 'عالكام': 79, 'زنت': 7, 'خدك': 48, 'جنرال': 17, 'مطا': 79, 'روب': 23, 'طلو': 79, 'نخن': 79, 'زرت': 20, 'مقعدتش': 67, 'مارشميلو': 32, 'غيا': 79, 'بفض': 17, 'مزر': 79, 'تحش': 5, 'محش': 79, 'قدهم': 57, 'مراسيل': 48, 'عنش': 58, 'تلح': 40, 'ذرت': 68, 'مايفوز': 5, 'رئ': 68, 'خام': 23, 'نظا': 79, 'ضره': 47, 'ضده': 64, 'دنياهہ': 79, 'خب': 1, 'حزنش': 79, 'نعج': 79, 'شامبو': 23, 'نعه': 11, 'صالح': 6, 'دلخ': 62, 'دمياط': 17, 'طنا': 4, 'قعدو': 57, 'حتا': 27, 'هس': 67, 'علۓ': 12, 'حكماء': 17, 'يلذ': 79, 'خفہ': 79, 'احت': 1, 'خبء': 79, 'خسه': 64, 'هذاليوم': 79, 'ۖ': 37, 'ﺃﻧﻔﺴﻨﺎ': 79, 'ﻛﺜﻴﺮﺍ': 22, 'ﻛﻲ': 22, 'ﻳﻨﻜﺴﺮ': 79, 'ليفربولي': 24, 'يتن': 9, 'حلكم': 79, 'كيدز': 32, 'عجبو': 67, 'جيو': 32, 'جلك': 79, 'يرص': 79, 'اعلم': 40, 'فمر': 79, 'اذو': 9, 'لہ': 77, 'سمہ': 79, 'نطي': 58, 'سدن': 79, 'هالعمر': 48, 'مجاريح': 7, 'نضف': 67, 'تحم': 68, 'اعس': 79, 'حبحب': 23, 'ماتنصف': 79, 'سكه': 48, 'وسج': 68, 'مشه': 68, 'ضمت': 20, 'لتش': 79, 'ضوح': 7, 'تدب': 20, 'بجو': 27, 'جورج': 6, 'يلس': 79, 'هي': 20, 'مبيبقاش': 67, 'ستو': 32, 'دفء': 18, 'هنتحر': 2, 'فيہ': 12, 'نقر': 79, 'دودو': 67, 'صيغ': 64, 'هيخلص': 2, 'قوارير': 4, 'ﺎلي': 12, 'ﺎحساس': 12, 'ﺎلصباح': 79, 'ﺎقل': 79, 'خلصو': 57, 'اكت': 1, 'زار': 33, 'كاريكاتير': 6, 'رهيف': 7, 'ذاق': 33, 'اقط': 13, 'بيو': 45, 'مالازم': 79, 'مروحتش': 2, 'ﺗﺤﺘﺎﺝ': 22, 'ﻳﻮﻣﻴﺔ': 79, 'ﺗﺴﺘﻤﺮ': 79, 'ﺍﻟﻤﺨﻠﺼﻴﻦ': 79, 'ﺍﻟﺤﻘﻴﻘﻴﺔ': 79, 'ﺍﻟﺼﺪﺍﻗﺔ': 22, 'ﻹﺟﺮﺍﺀ': 79, 'ﻟﺬﻟﻚ': 22, 'ازف': 18, 'نعن': 79, 'هرن': 5, 'سون': 45, 'هيسيب': 67, 'مفيهوش': 14, 'مدد': 79, 'ٳذا': 79, 'ساس': 7, 'هالطفل': 79, 'ضدك': 64, 'بسء': 79, 'لبت': 79, 'ذري': 7, 'حاز': 43, 'انطلاقته': 79, 'تقه': 68, 'جتي': 79, 'بهذ': 79, 'هيتشول': 45, 'وبالعربي': 79, 'ايمو': 32, 'قلوبھم': 12, 'ٺحدثٺ': 12, 'فرن': 9, 'ورش': 17, 'عمش': 79, 'مبيكونش': 67, 'صروال': 79, 'ددا': 79, 'سجه': 48, 'عالايام': 79, 'حدر': 7, 'شكلش': 58, 'ماتمشيش': 67, 'طوت': 79, 'ظلع': 79, 'حسنو': 79, 'نلم': 67, 'افط': 9, 'ماتصير': 27, 'خصن': 79, 'واس': 1, 'ﻓﻬﻮ': 22, 'ﻳﻨﻔﻊ': 22, 'ﻳﺸﻔﻊ': 22, 'معناتو': 38, 'كروموسوم': 79, 'فخد': 79, 'قبلو': 57, 'قطي': 58, 'قط': 40, 'سكع': 18, 'هاك': 7, 'خاذل': 79, 'جحش': 62, 'ميركاتو': 24, 'شحذ': 79, 'صاحبو': 38, 'طريقو': 79, 'برن': 68, 'كتغير': 79, 'صيرو': 57, 'غضو': 79, 'هينزل': 14, 'لذا': 54, 'ماتكتب': 50, 'بيخ': 79, 'عاو': 9, 'غشت': 79, 'ذمم': 64, 'باستئصال': 79, 'وتغريدتك': 79, 'ৡ': 79, 'حتقعد': 79, 'فالبدايه': 79, 'لا': 75, 'يجس': 79, 'يدخ': 68, 'فطس': 5, 'قمبر': 79, 'لشق': 79, 'جاش': 7, 'افد': 79, 'ماتزعل': 5, 'ﮩ': 12, 'ثغر': 18, 'فاء': 68, 'شم': 7, 'مبر': 79, 'نطه': 67, 'مانعرف': 57, 'نشم': 67, 'واستهزاء': 79, 'لوب': 68, 'قمع': 43, 'يلغ': 79, 'ميغلاش': 79, 'طبلو': 79, 'هذولاء': 57, 'ماطقطق': 79, 'اذق': 8, 'شحيبر': 79, 'نبث': 79, 'لدغ': 79, 'اذهب': 8, 'مينتهيش': 79, 'هتفرق': 2, 'بوف': 32, 'قيف': 56, 'هيلب': 45, 'نيد': 45, 'برف': 7, 'ماينافس': 79, 'قلش': 67, 'يعو': 79, 'صقل': 79, 'خضت': 79, 'گيف': 12, 'شبھ': 79, 'انص': 68, 'دسك': 32, 'خطم': 79, 'مشعارف': 67, 'دمتم': 49, 'حضرو': 57, 'صلخ': 79, 'انفع': 47, 'ك': 1, 'ماتوفق': 79, 'طوط': 5, 'صدا': 18, 'خصل': 79, 'مطمئنہ': 12, 'هتسال': 67, 'يسج': 7, 'بكتاباتي': 79, 'لوخ': 79, 'مواصفاتي': 79, 'رك': 1, 'مابعرف': 38, 'درسو': 79, 'تنف': 68, 'لجت': 7, 'قيو': 45, 'مبي': 79, 'فشي': 38, 'لاتضايقت': 7, 'ارئ': 40, 'يت': 1, 'عالجامعه': 79, 'هتلبس': 67, 'واحتاجلك': 79, 'شرفتو': 79, 'هيحب': 67, 'مايسعد': 79, 'وبالعافيه': 23, 'هدج': 79, 'هيف': 6, 'لاستفسار': 79, 'وط': 3, 'لدق': 79, 'هنج': 67, 'طن': 23, 'ماتستاهل': 27, 'وهج': 18, 'رينق': 32, 'يدد': 79, 'ينز': 79, 'ميهونش': 79, 'قلقل': 79, 'روحش': 58, 'ϻ': 79, 'نو': 45, 'ميطلعش': 67, 'ميخلصش': 79, 'يضف': 79, 'مابقيتش': 67, 'شفش': 67, 'عجر': 79, 'فجد': 74, 'اسهر': 13, 'مكم': 9, 'عرفتو': 57, 'ناء': 68, 'هنو': 58, 'رشو': 57, 'لرض': 68, 'فهن': 49, 'هنه': 79, 'هطبق': 67, 'يضن': 47, 'طبه': 7, 'صيد': 4, 'بسا': 79, 'عبدالمنعم': 6, 'فبل': 79, 'مقدرتش': 2, 'طلعش': 67, 'قوص': 79, 'وهالموسم': 79, 'شوضع': 79, 'ماشافو': 57, 'غله': 79, 'هالشطر': 79, 'جعلگ': 12, 'بگ': 28, 'حفن': 79, 'مايريد': 49, 'فالفيردي': 79, 'علچ': 79, 'كريستال': 45, 'مانشيستر': 24, 'لذك': 79, 'لتب': 79, 'هجس': 79, 'مايجيب': 5, 'صباحتس': 79, 'عيونج': 58, 'هوئ': 79, 'يعتبرونه': 57, 'صبو': 79, 'مايمنع': 79, 'مرد': 47, 'عطلو': 79, 'ولغ': 79, 'ابف': 79, 'مانتابع': 79, 'تبص': 14, 'ابلغ': 43, 'مابشوفش': 79, 'يبط': 5, 'هبب': 79, 'ذقت': 21, 'ﺗﺒﺎﺷﻴﺮ': 79, 'ﺩﺍﺋﻤﺎ': 22, 'ﻗﺪﺭﺗﻪ': 79, 'ﺛﻘﺔ': 22, 'ﻣﻬﻤﺎ': 22, 'ﺍﻟﻔﺮﺡ': 22, 'ﺗﺒﻘﻰ': 22, 'ﻣﻨﺘﻈﺮﺍ': 79, 'يالرافضي': 79, 'طقع': 5, 'يمج': 58, 'خوندم': 32, 'زند': 32, 'شيخو': 79, 'ريمو': 58, 'تؤد': 79, 'سمچ': 79, 'صال': 68, 'تاه': 33, 'شهالناس': 79, 'هوصف': 79, 'منگ': 12, 'حبيبتگ': 79, 'صكك': 79, 'يفي': 40, 'درم': 79, 'بقك': 67, 'سق': 74, 'ممك': 68, 'زينو': 79, 'دونيس': 24, 'ثعلب': 62, 'رينارد': 79, 'بجح': 67, 'غثي': 7, 'هنخلص': 67, 'حبيتگ': 79, 'كود': 56, 'كوبر': 24, 'كومار': 62, 'حرن': 7, 'طنن': 79, 'صفد': 79, 'شهب': 7, 'زعلج': 58, 'مله': 47, 'هيا': 67, 'مهل': 49, 'ماز': 79, 'فكك': 67, 'عه': 1, 'داداش': 32, 'عنم': 79, 'اولدترافورد': 79, 'وبالتالي': 64, 'صيا': 79, 'مايتعلم': 79, 'هشتم': 67, 'بخي': 1, 'صدرو': 79, 'راب': 68, 'جهم': 79, 'شيقول': 27, 'اعر': 1, 'واستمتعي': 79, 'قفو': 79, 'صو': 32, 'ضب': 62, 'ودخ': 79, 'خواريف': 79, 'نشل': 79, 'اخج': 79, 'بوش': 62, 'هالحال': 50, 'معز': 6, 'حدم': 79, 'فالنهايه': 79, 'كوتش': 67, 'صخب': 18, 'تضئ': 20, 'ﺮ': 22, 'فالتاريخ': 79, 'هالاسبوع': 27, 'جونيور': 45, 'خاد': 79, 'مايؤلم': 49, 'نسر': 4, 'عجيز': 58, 'ترش': 20, 'قوينق': 58, 'كيب': 45, 'منئ': 79, 'دربو': 79, 'شغب': 17, 'عقم': 64, 'هالتغريده': 50, 'ديرتج': 79, 'زكي': 6, 'عصير': 23, 'دئه': 79, 'مغط': 79, 'برغ': 68, 'هالتخلف': 57, 'كيه': 9, 'قص': 1, 'زلزال': 4, 'عالاساس': 79, 'بفر': 79, 'هولد': 32, 'داح': 68, 'ثنا': 79, 'ماتكلمو': 79, 'سيق': 79, 'غوي': 79, 'رادار': 4, 'جاوز': 74, 'لخم': 79, 'وغش': 79, 'صول': 32, 'بلاستيشن': 45, 'عر': 68, 'تقبل': 8, 'نفد': 33, 'احدالسلف': 79, 'عوتب': 79, 'عج': 1, 'مﭑ': 12, 'جحي': 79, 'ڪثر': 12, 'عطهم': 57, 'ﺍﻷﺷﻴﺎﺀ': 22, 'ﺍﻛﺜﺮ': 22, 'ﻭﺟﻌﺎ': 22, 'ﺃﺣﺪﻫﻢ': 22, 'ﺗﻄﻠﺐ': 22, 'ﺍﻥ': 22, 'وعز': 74, 'تكلم': 5, 'دونق': 45, 'يذك': 68, 'هالمنظر': 50, 'نسع': 79, 'وفئ': 79, 'فدل': 79, 'مالهمش': 14, 'مبتحبش': 67, 'تحج': 20, 'هالسؤال': 50, 'لاتنتظري': 79, 'طلقو': 79, 'لور': 79, 'وابتسامه': 18, 'كفضل': 79, 'ٲمي': 79, 'ﯛ': 22, 'كه': 32, 'طبو': 57, 'يالاتحاد': 79, 'بوظ': 67, 'ف': 54, 'بهل': 38, 'يالبرتقاله': 79, 'حطيتو': 57, 'كمثال': 64, 'عاط': 79, 'لصب': 79, 'ميم': 32, 'طنت': 79, 'انشيلوتي': 24, 'لقح': 79, 'عوبد': 79, 'ظمن': 79, 'كيبوب': 32, 'قدد': 79, 'شغلو': 57, 'گمن': 79, 'حوط': 79, 'دقا': 53, 'تستاهلون': 57, 'اده': 1, 'خيت': 79, 'شوهد': 43, 'ترو': 45, 'وهر': 79, 'تڪن': 79, 'جمالهہ': 79, 'عليهہ': 12, 'حالهہ': 79, 'سوب': 32, 'تنج': 68, 'ضرس': 23, 'ﻗﺪ': 22, 'ﺣﻘﺎ': 22, 'سقت': 21, 'ايدل': 32, 'دكه': 24, 'زيو': 67, 'نذب': 79, 'بجه': 32, 'شحط': 67, 'هيذكر': 79, 'ضعه': 9, 'هيقفل': 67, 'هيعوض': 79, 'شغ': 68, 'اكلم': 13, 'ويحصدونه': 79, 'ومگ': 79, 'گبر': 12, 'نجك': 79, 'دوا': 7, 'لته': 68, 'حزي': 68, 'ﻧﺤﻦ': 22, 'ﻧﻌﻴﻢ': 79, 'ﻗﻮﻡ': 79, 'ﺭﺣﻤﻪ': 22, 'ﺳﺘﺮ': 79, 'يشي': 68, 'فسي': 68, 'فعم': 79, 'واهتمامه': 79, 'شني': 38, 'تيت': 67, 'ﻟلہ': 79, 'ملائكٺہ': 79, 'سنج': 79, 'هنجيب': 14, 'مسامير': 23, 'بنش': 32, 'صفو': 18, 'فد': 58, 'كفئ': 79, 'رهم': 3, 'نف': 3, 'لتا': 79, 'هالشاب': 79, 'ﻳﺂ': 22, 'ﻓﻼ': 22, 'خدگ': 12, 'لاستخدام': 17, 'جفر': 79, 'توس': 68, 'تقض': 20, 'شنقيط': 79, 'ضنو': 9, 'خشر': 79, 'حنجيب': 79, 'لشم': 79, 'تعو': 57, 'قلبج': 58, 'كفن': 18, 'يانيشيمورا': 79, 'نائ': 79, 'هالناس': 50, 'هيضرب': 67, 'سبي': 68, 'دحر': 43, 'ثله': 47, 'زخم': 64, 'بصب': 79, 'شتي': 18, 'ضبي': 79, 'بعه': 68, 'هالمسلسل': 50, 'غرت': 21, 'حسش': 79, 'اطم': 53, 'ينجو': 40, 'فاليكانو': 24, 'ريو': 24, 'مارسيلينو': 79, 'رفي': 3, 'بقص': 5, 'هبت': 21, 'واسرائيل': 17, 'عافيتگ': 79, 'رحمتگ': 12, 'رزقگ': 79, 'ائق': 68, 'قنديل': 6, 'طه': 6, 'تهزئ': 79, 'تبح': 40, 'مرن': 7, 'غزي': 7, 'فها': 68, 'توجب': 79, 'رزي': 79, 'هجي': 79, 'هشتغل': 2, 'شبق': 79, 'لکي': 79, 'جوناس': 32, 'خوب': 32, 'فالمفروض': 79, 'دحو': 79, 'حاربو': 57, 'رفت': 21, 'مايزعل': 5, 'كايرو': 45, 'كرويف': 24, 'تبگ': 79, 'باستبعاد': 79, 'زلط': 67, 'هسهس': 67, 'ريكورد': 67, 'متگ': 79, 'دهي': 79, 'مايساعد': 5, 'فيے': 12, 'كشت': 79, 'محص': 79, 'هنقول': 14, 'مايصلح': 27, 'عزر': 79, 'ونستعينه': 79, 'كوبو': 79, 'دقي': 58, 'صوتج': 58, 'وذب': 79, 'برص': 67, 'كرمال': 38, 'ﺍﻟﻮﻛﻴﻞ': 22, 'ﻣﻌﻨﻰ': 22, 'ﻭﻧﻌﻢ': 22, 'ﻗﻮﻝ': 22, 'ﺍﻷﺭﺽ': 22, 'ﺍﻟﻤﻈﻠﻮﻡ': 79, 'اﻧﻪ': 22, 'ﻧﻘﻞ': 22, 'ﺍﻟﻘﻀﻴﺔ': 79, 'اﻱ': 22, 'ﺃﺗﺪﺭﻱ': 79, 'ﻣﻠﻒ': 22, 'كمدرب': 24, 'عطرگ': 12, 'تدز': 5, 'درعم': 5, 'كلمج': 79, 'زن': 1, 'لخبط': 5, 'يرق': 40, 'كرمل': 79, 'شته': 79, 'لب': 68, 'ماتفكر': 5, 'ذب': 3, 'تسرع': 20, 'خقت': 5, 'نعا': 9, 'لاقط': 79, 'قلۆب': 12, 'مستريحہ': 79, 'طبعگ': 12, 'طفو': 57, 'هالدول': 79, 'دكت': 7, 'شربل': 6, 'جع': 1, 'هاز': 32, 'هلئ': 38, 'ارسو': 32, 'لس': 68, 'شوجو': 79, 'شاش': 7, 'وشش': 0, 'اقف': 13, 'ضرط': 79, 'وحه': 68, 'قبلہ': 12, 'خطت': 20, 'ئلو': 79, 'زدي': 32, 'بمف': 79, 'ردن': 68, 'سوح': 79, 'كدت': 49, 'يسمو': 9, 'بوتفليقه': 17, 'بيقولولي': 2, 'تطهر': 20, 'بحو': 79, 'دعبول': 79, 'متك': 68, 'شلل': 64, 'زوق': 67, 'احه': 68, 'جنتل': 32, 'اشفع': 79, 'ماتحشم': 79, 'محاليل': 79, 'ابج': 58, 'شعو': 79, 'استعدادي': 79, 'حرمو': 79, 'تعرف': 20, 'لوث': 79, 'مبتقدرش': 67, 'بغيرحساب': 79, 'مايشغل': 79, 'رمه': 62, 'وذن': 68, 'طنز': 32, 'اقس': 68, 'وبالمقابل': 79, 'عالقمر': 79, 'وق': 1, 'رجعش': 79, 'يحث': 17, 'كولو': 67, 'جائ': 79, 'عزي': 48, 'ماتصيب': 79, 'صيت': 7, 'صواديف': 48, 'اغض': 13, 'ماتابع': 27, 'اذل': 47, 'بذك': 68, 'جلباب': 18, 'معندوش': 14, 'تنط': 5, 'اطف': 68, 'هيحاسب': 67, 'تيه': 7, 'طبقو': 79, 'عضد': 79, 'بسك': 58, 'طرز': 32, 'لعف': 79, 'هش': 62, 'ودش': 5, 'قهرو': 79, 'ﺑﺴﺮﻋﻪ': 79, 'ﺍﺫﺍ': 22, 'وبس': 27, 'ومي': 68, 'حبيبتو': 67, 'جوجو': 58, 'يبا': 27, 'طره': 17, 'بروفايله': 56, 'يبغ': 68, 'برت': 27, 'يشح': 7, 'يستاهلونه': 79, 'دله': 7, 'نصص': 79, 'بخب': 79, 'نس': 1, 'جوگ': 79, 'ماتلعب': 5, 'تطا': 20, 'مينزلش': 67, 'افس': 68, 'فحز': 79, 'فزز': 79, 'وتف': 68, 'او': 54, 'ماتقولش': 67, 'هيونق': 32, 'مكتوبهہ': 79, 'ﺎلصبح': 79, 'ﺎلجنہ': 12, 'ﻫﻢ': 22, 'ﺳﺘﻌﺮﻑ': 79, 'ﺃﺻﺪﻗﺎﺅﻙ': 79, 'ﺳﻴﻌﺮﻑ': 79, 'ﺗﺮﺗﻔﻊ': 79, 'ﺗﺴﻘﻂ': 22, 'ﻟﻜﻦ': 22, 'خلفاء': 57, 'زل': 1, 'استدعاءه': 79, 'معرفتج': 79, 'نوق': 79, 'تعبد': 47, 'قود': 45, 'بلايندرز': 79, 'قاعد': 72, 'فاع': 68, 'معي': 13, 'عٺب': 79, 'ذؤق': 79, 'توك': 27, 'طوكيو': 17, 'غنيلو': 79, 'ماتشرف': 79, 'ذلو': 79, 'تجا': 79, 'باث': 32, 'حطمو': 79, 'ماينزل': 5, 'هالسمستر': 79, 'سرا': 49, 'عالجو': 79, 'صرتو': 57, 'مؤذ': 79, 'جاف': 23, 'خني': 79, 'نخط': 79, 'هستو': 79, 'يخر': 79, 'وذر': 79, 'مالهاش': 14, 'ادش': 26, 'جدج': 79, 'هالتويتر': 79, 'تثم': 79, 'حبهم': 57, 'عظ': 68, 'هفت': 7, 'تفس': 79, 'فهو': 49, 'هوامير': 57, 'فيح': 79, 'قفص': 4, 'تحو': 79, 'درويش': 6, 'قها': 68, 'ﻫﻮ': 22, 'ﻛﺎﻥ': 22, 'ﺑﻌﺪ': 22, 'ﻓﻠﻤﺎ': 79, 'ﻳﻮﻣﺎ': 22, 'ﺃﺫﻥ': 79, 'ﺑﻼﻝ': 79, 'ﺍﻟﺮﺳﻮﻝ': 22, 'ﺭﺣﻴﻞ': 79, 'ﺣﻴﻦ': 22, 'كرمو': 79, 'مشب': 7, 'مظل': 68, 'احضر': 13, 'فسا': 79, 'هالاعب': 24, 'باستبدال': 79, 'وبط': 9, 'مازالو': 57, 'خذك': 79, 'بهالمواقف': 79, 'عتقاء': 47, 'وزه': 67, 'ﺍﺑﻦ': 22, 'ﻛﺜﻴﺮ': 22, 'ﻋﺜﻴﻤﻴﻦ': 79, 'ﻳﺮﻓﻊ': 79, 'كد': 67, 'جهلو': 79, 'هالصبح': 58, 'چبد': 79, 'طمس': 43, 'انزل': 13, 'وذه': 79, 'لدك': 79, 'عدهم': 57, 'قصي': 6, 'ﺎلصبر': 12, 'ضيقھ': 12, 'ﺎلجديد': 79, 'يشخ': 79, 'ضربو': 57, 'لثم': 79, 'عذاريب': 48, 'حمه': 32, 'يخو': 53, 'بعبع': 79, 'هيتعلم': 67, 'اطرش': 13, 'وهن': 18, 'طبرق': 17, 'منف': 68, 'ستا': 9, 'سوئ': 79, 'ليع': 9, 'لذلك': 54, 'ينن': 79, 'وعك': 68, 'يزم': 38, 'ومستقبلي': 79, 'كبو': 79, 'ريحو': 57, 'ومح': 68, 'ديناصور': 62, 'دحه': 32, 'يادكتوره': 79, 'يبص': 14, 'ضي': 48, 'تدي': 14, 'هتنزل': 14, 'هلت': 21, 'سقع': 79, 'صعيد': 17, 'هبر': 79, 'فهت': 79, 'زفه': 6, 'مشل': 79, 'جيهو': 79, 'ديتول': 23, 'رسب': 43, 'الافرجته': 79, 'مهي': 27, 'يطو': 79, 'رب': 19, 'هيس': 67, 'جث': 79, 'بط': 3, 'هتعد': 79, 'خنفور': 79, 'هنروح': 14, 'دلس': 79, 'مدي': 64, 'كمك': 32, 'وغ': 1, 'كنتو': 57, 'شما': 32, 'ورج': 68, 'هتروح': 14, 'انقز': 5, 'لؤي': 6, 'هكذ': 79, 'ذل': 47, 'خيبر': 4, 'فتو': 32, 'متصورتش': 67, 'ماعندهاش': 67, 'ماتحبونه': 79, 'دعع': 79, 'وغد': 79, 'غدك': 49, 'ضحكھ': 79, 'مرك': 21, 'تدس': 20, 'يغض': 40, 'فضو': 79, 'خرص': 79, 'جزو': 79, 'مانطمح': 79, 'اقا': 32, 'كنهم': 57, 'غما': 12, 'بغم': 79, 'حيش': 79, 'ضلم': 79, 'جيء': 79, 'هبي': 7, 'ماتقول': 50, 'هيطلق': 79, 'هجع': 7, 'مخلوقاته': 79, 'هيتحرق': 67, 'دكتاتوريه': 64, 'هلع': 79, 'نسف': 43, 'زملاء': 64, 'ناف': 68, 'ياصديقتي': 49, 'تصو': 9, 'مايتكلم': 5, 'وكي': 68, 'غوارديولا': 24, 'تلذ': 79, 'رشف': 79, 'حمت': 79, 'حبگ': 12, 'شئتم': 40, 'نفت': 17, 'يقا': 79, 'کان': 12, 'عنٓ': 79, 'عاف': 74, 'الھہ': 79, 'مايشوفون': 57, 'دينيز': 79, 'تش': 1, 'تعصب': 62, 'كحه': 23, 'قبا': 79, 'دمشق': 17, 'دورتموند': 24, 'ابگ': 12, 'شوفگ': 12, 'زوجو': 79, 'روؤس': 79, 'هسا': 38, 'يغص': 79, 'كمه': 7, 'ادعو': 8, 'ضدي': 79, 'نطت': 5, 'عيشو': 57, 'ماتجبر': 79, 'استعادته': 79, 'بوك': 56, 'هالمشهد': 50, 'بغب': 79, 'هكمل': 2, 'وزي': 67, 'عمهم': 57, 'زجل': 79, 'فالشوارع': 79, 'بيص': 79, 'جنجال': 79, 'كلج': 58, 'ﺳ': 12, 'ﻟي': 77, 'واستحضار': 79, 'عتقد': 79, 'ضيه': 7, 'رحلو': 49, 'تق': 1, 'زكر': 79, 'انتريستا': 79, 'تزق': 5, 'داع': 1, 'انسانيتك': 49, 'ضوضاء': 18, 'غاف': 68, 'قوا': 68, 'ماتشتاق': 79, 'غب': 1, 'مواجيع': 79, 'شنه': 32, 'لمم': 12, 'مجم': 68, 'عالمكتب': 79, 'كاي': 32, 'ماتنحذف': 79, 'وج': 1, 'خست': 79, 'خوقاق': 79, 'يه': 3, 'يشه': 68, 'حبوش': 79, 'متصدقوش': 79, 'مبب': 79, 'دلك': 7, 'حلس': 79, 'ضحكتج': 58, 'صغي': 1, 'وﷲ': 79, 'وهي': 20, 'عنک': 31, 'مسلسلاتي': 50, 'هتعامل': 67, 'كمخ': 79, 'يصك': 5, 'بموبايلي': 79, 'اجبر': 8, 'حرث': 4, 'يبح': 79, 'ماج': 1, 'هالصبر': 79, 'ذبت': 21, 'جما': 22, 'وته': 68, 'ماتطول': 79, 'عالسلامه': 58, 'فولفسبورج': 24, 'داش': 26, 'سذج': 57, 'قاص': 5, 'ﻋﻴﻮﻥ': 22, 'ذرا': 7, 'وبش': 68, 'هتخانق': 79, 'عدمو': 79, 'معرفكش': 67, 'هكل': 79, 'ضمو': 79, 'خطفو': 79, 'اخم': 5, 'زيكم': 57, 'احظ': 79, 'هاء': 32, 'ګنت': 79, 'ګل': 79, 'سحس': 67, 'سبن': 79, 'علف': 23, 'ﺂﻟلہم': 79, 'غثا': 48, 'بحه': 48, 'فعا': 79, 'معاشيق': 79, 'عنج': 58, 'فمش': 14, 'كيبوم': 45, 'بوغ': 9, 'ﺃﻡ': 22, 'ﻟﻜﻞ': 22, 'ﻗﺎﻟﺖ': 22, 'ﺗﺮﺍﻧﻲ': 79, 'ﺻﻐﻴﺮ': 22, 'فم': 3, 'حيدر': 6, 'عكف': 79, 'جدب': 79, 'ڰل': 79, 'شتا': 67, 'بيستاهلو': 79, 'بشم': 32, 'مايتوب': 79, 'نبينامحمد': 79, 'كارديو': 79, 'ç': 32, 'ارڪ': 79, 'منڪ': 12, 'انطوائيه': 79, 'هيحضر': 67, 'رشحو': 79, 'هنر': 32, 'كيتس': 79, 'راكيتيتش': 24, 'طيت': 68, 'قلص': 79, 'لحس': 35, 'عرشہ': 12, 'ۈ': 12, 'خلقہ': 12, 'زنۃ': 12, 'كلحد': 79, 'غفت': 21, 'هتقدر': 2, 'كرهو': 79, 'داول': 79, 'استصغرته': 22, 'هالاداره': 79, 'اۆ': 12, 'ۆثق': 79, 'لنل': 79, 'خزا': 79, 'كورد': 32, 'طلح': 11, 'صاه': 79, 'هالدكتور': 79, 'الحق': 47, 'لوس': 45, 'سيڤ': 79, 'باعتباري': 79, 'ياي': 27, 'شمو': 79, 'ثا': 9, 'هنعيش': 14, 'ونغ': 32, 'حنخلص': 67, 'ۆ': 12, 'وبه': 3, 'ماتنفع': 5, 'جرن': 4, 'بس': 72, 'شيه': 79, 'ضاف': 79, 'حتن': 79, 'اندر': 45, 'لالالالالا': 67, '⑵': 79, '⑴': 79, 'احتماليه': 64, 'تستح': 40, 'يضئ': 18, 'قطم': 79, 'طفح': 57, 'ثقو': 79, 'ذره': 47, 'هيفاء': 6, 'يشك': 40, 'ماتذكر': 27, 'اضعف': 47, 'هالحوار': 79, 'وكش': 79, 'ربس': 79, 'جيس': 23, 'بتغريدتك': 79, 'جرابيع': 57, 'اشت': 1, 'نج': 1, 'نبن': 79, 'مرسيدس': 32, 'بلاتنيوم': 79, 'اعص': 68, 'وطم': 68, 'هالشعور': 50, 'يقص': 5, 'اوج': 68, 'مغفرتگ': 79, 'بہ': 28, 'قوقل': 56, 'الكو': 9, 'كونفدراليه': 79, 'بقئ': 79, 'زقق': 58, 'اصدق': 13, 'دبدوب': 23, 'هفتكر': 67, 'وشه': 14, 'تربع': 7, 'مثب': 79, 'مبه': 79, 'متستنوش': 79, 'هتفضلو': 79, 'قزز': 79, 'نفح': 18, 'ماينقطع': 79, 'ياص': 68, 'ضوا': 7, 'بصد': 79, 'كهر': 79, 'زعلو': 57, 'كارلوس': 24, 'بهالطريقه': 27, 'باستمرار': 64, 'يهش': 79, 'يرگ': 12, 'هنعود': 67, 'هالشوارع': 79, 'راديو': 56, 'نمط': 64, 'سجم': 79, 'هفك': 79, 'حمدو': 79, 'شقل': 79, 'جحف': 79, 'واق': 1, 'فسل': 79, 'ومم': 79, 'تفرق': 20, 'خرر': 79, '❺': 79, 'هوصل': 2, 'ﻳﻜﻦ': 22, 'ﺇﻥ': 22, 'ﻭﺍﺟﻌﻞ': 22, 'لحي': 4, 'مسن': 4, 'صقع': 5, 'غيرل': 79, 'مݩ': 79, 'كعك': 23, 'ضفر': 79, 'استراتيجي': 17, 'فصع': 79, 'دختور': 79, 'هضرب': 67, 'هتجيب': 14, 'ﺧﯾر': 12, 'علقم': 79, 'مطي': 62, 'حدس': 64, 'شهالغباء': 79, 'عليكو': 14, 'عبق': 18, 'لۆ': 12, 'كمجتمع': 79, 'وحض': 61, 'رنه': 23, 'خنصر': 79, 'دامتس': 79, 'خطباء': 17, 'ﷴ': 79, 'استقامتك': 49, 'مانحرم': 58, 'خمت': 79, 'اﻵ': 12, 'ماتلاحظ': 79, 'بصو': 67, 'فجل': 23, 'نجس': 62, 'مسي': 32, 'شامبيونز': 32, 'فدي': 7, 'زكرياء': 6, 'عالعموم': 27, 'ٱلہ': 20, 'فحت': 67, 'حفظو': 79, 'ظنو': 53, 'قفش': 67, 'ﻳﺼﻞ': 79, 'ﺑﻐﻴﺮ': 79, 'ﺍﺑﻠﻴﺲ': 79, 'ﻋﺪﻭ': 79, 'ﻟﺒﺲ': 79, 'ﻛﺬﻟﻚ': 79, 'ﻓﻜﻢ': 79, 'صمن': 79, 'كص': 79, 'شسو': 79, 'نود': 40, 'كنسلو': 79, 'قرقور': 79, 'علمود': 58, 'ﺍﻣﺮﺃﺓ': 22, 'نصن': 79, 'وٱن': 12, 'ۆشل': 79, 'فزر': 79, 'انفينيتي': 32, 'توص': 68, 'قلهم': 57, 'كثرو': 57, 'هتكلم': 2, 'ميح': 79, 'ئال': 67, 'ئي': 32, 'يابوجاسم': 79, 'قعر': 4, 'ثار': 43, 'فذو': 79, 'عكش': 79, 'مايخسر': 79, 'صكو': 5, 'لهذ': 79, 'اجعلنامن': 74, 'ناه': 68, 'يفش': 79, 'هضا': 38, 'ددي': 79, 'يوس': 68, 'ماترحم': 48, 'هيثم': 6, 'عسس': 79, 'كلھم': 12, 'جعو': 79, 'هزه': 4, 'نهق': 79, 'معاذير': 48, 'دمح': 79, 'هيحتفل': 79, 'يانصراوي': 79, 'هاب': 7, 'وتغ': 68, 'عافيھہ': 79, 'نؤم': 79, 'نتق': 79, 'جوھ': 79, 'دھ': 68, 'قلدو': 79, 'تسف': 79, 'هتنفجر': 67, 'تجو': 57, 'هايتكلم': 79, 'بظن': 38, 'شافتو': 79, 'هجرب': 67, 'ظري': 79, 'ديراب': 79, 'زميل': 6, 'بهہ': 28, 'حينم': 68, 'ماترجع': 5, 'رسن': 79, 'اوتوماتيك': 32, 'لنت': 7, 'فظا': 49, 'من': 63, 'صباحگم': 12, 'يالغاليه': 58, 'راحتش': 79, 'ناب': 7, 'هزي': 7, 'هالاشياء': 50, 'واستغفرت': 79, 'رحتش': 79, 'وبالشتاء': 79, 'شدن': 32, 'هالشايب': 5, 'عسب': 27, 'كمبيوتر': 56, 'قولتو': 67, 'ظلمتو': 79, 'كلمح': 49, 'حسناء': 79, 'عالحكومه': 79, 'عالنار': 23, 'تطلب': 20, 'شدي': 74, 'دزت': 79, 'مايعادل': 79, 'ازهق': 13, 'چب': 79, 'ماتخلص': 27, 'هالشغل': 79, 'كارفخال': 24, 'ناع': 68, 'زيرو': 45, 'عبدالطيف': 79, 'ذايق': 79, 'كبريائ': 68, 'اجرح': 13, 'حلمو': 79, 'ليوناردو': 24, 'وعت': 68, 'ذلف': 79, 'ماتريد': 49, 'جمجم': 79, 'ماياكل': 5, 'هختار': 67, 'عندج': 58, 'بته': 9, 'عيدو': 57, 'صلحو': 79, 'خدن': 79, 'اذت': 79, 'سيز': 32, 'شعث': 79, 'قع': 68, 'صفف': 79, 'اعلق': 13, 'زوزو': 58, 'فرب': 49, 'هالثنائي': 79, 'محر': 79, 'صوبع': 79, 'خنس': 79, 'اتز': 45, 'مبيحصلش': 67, 'سدي': 18, 'شطب': 17, 'رفقاء': 79, 'فحش': 79, 'وابتسامتك': 79, 'هيريح': 79, 'اغي': 68, 'حيطلع': 67, 'لكح': 6, 'جماهيريه': 17, 'منعرفش': 14, 'كيبورد': 56, 'نتك': 68, 'تيك': 45, 'عشه': 4, 'قلبش': 58, 'خفو': 57, 'عشو': 79, 'جتل': 79, 'كاوراق': 18, 'تلج': 67, 'جوكر': 32, 'سبر': 79, 'يطي': 68, 'دهب': 14, 'مقص': 23, 'ترص': 79, 'ناخ': 68, 'جرجر': 79, 'كفخ': 7, 'لاف': 45, 'ليز': 23, 'مقل': 79, 'روتر': 32, 'ماقدرو': 57, 'دفا': 48, 'اخدش': 79, 'لحط': 79, 'مضر': 64, 'هتحتاج': 67, 'اختر': 8, 'عشعش': 79, 'ظار': 68, 'كدم': 79, 'مزج': 18, 'كوع': 5, 'مايخلو': 9, 'جينز': 23, 'واحترامي': 79, 'جيتس': 32, 'نعب': 79, 'كيفهہ': 79, 'هتقول': 14, 'مطاليق': 79, 'قؤل': 79, 'بمه': 79, 'احدث': 17, 'كدو': 79, 'متلزمنيش': 67, 'حزنو': 79, 'بھم': 12, 'الھ': 12, 'قش': 23, 'هكا': 38, 'ذرب': 7, 'هدهود': 79, 'عبدالقادر': 6, 'دمكم': 57, 'دموعج': 58, 'عاج': 68, 'ه': 3, 'وبص': 67, 'قراطيس': 23, 'ﻋﻴﻦ': 22, 'ﻡ': 22, 'ﺃﻏﻴﺐ': 79, 'ﻭﺃﻧﺎ': 22, 'ﺗﻘﻮﻝ': 22, 'ﻗﻠﺖ': 22, 'ﻏﻴﺮ': 22, 'بروفايلك': 56, 'ﺃﺣﺪﺍ': 22, 'ﻣﻠﻴﺌﺔ': 79, 'ﺑﻤﺎ': 22, 'ﻧﻔﺲ': 22, 'ﻓﻜﻞ': 79, 'يخز': 5, 'عالباب': 67, 'ضجت': 18, 'زعبيل': 79, 'شلق': 79, 'بانتظارك': 79, 'خراطيش': 79, 'روحم': 79, 'دايريز': 79, 'بمس': 68, 'وبا': 9, 'مانقدر': 27, 'عزك': 62, 'يغف': 68, 'شؤن': 79, 'هبن': 79, 'مباكلش': 79, 'مايجيج': 79, 'مساءالخير': 79, 'حاك': 7, 'قمز': 79, 'كنترول': 56, 'شكا': 33, 'مايلعب': 5, 'ادل': 68, 'موافقم': 79, 'يحص': 9, 'متحاولش': 14, 'قض': 68, 'وعا': 79, 'كارير': 32, 'حزء': 79, 'بتن': 68, 'ربج': 58, 'ملابسج': 79, 'صوم': 47, 'مايرام': 49, 'هحس': 2, 'هالترم': 50, 'ۆلك': 79, 'اجمع': 74, 'ابتسامته': 50, 'خزم': 79, 'معت': 68, 'عجيب': 32, 'فمي': 18, 'ستج': 68, 'سدت': 74, 'مطف': 79, 'ايتم': 79, 'علاقتک': 79, 'سبسكرايب': 79, 'بلاستيكي': 79, 'كيرم': 23, 'زعيتر': 6, 'شهل': 58, 'لتم': 79, 'ابداعاتك': 50, 'رونالدينهو': 24, 'قدمو': 57, 'قرميد': 79, 'يرجع': 5, 'رخا': 7, 'جيرو': 24, 'ماتنتظر': 79, 'اوا': 9, 'هيخسر': 67, 'تغش': 20, 'صاحبہ': 12, 'فيع': 79, 'چنت': 58, 'اگل': 79, 'بمح': 79, 'انتصاراته': 24, 'مبلاقيش': 67, 'ساز': 79, 'ٱدم': 79, 'غز': 79, 'هبا': 79, 'هيطلع': 14, 'لاس': 68, 'بجل': 79, 'نخي': 32, 'هنشيل': 67, 'قدماء': 79, 'فضع': 49, 'سلس': 64, 'تعليقاتك': 50, 'ماينام': 5, 'وحص': 79, 'ريا': 9, 'مايقلب': 79, 'لفا': 7, 'كاو': 32, 'بهالكلام': 79, 'كيندال': 79, 'عراقيل': 79, 'امكر': 79, 'دمرتو': 79, 'استودعته': 74, 'لگل': 73, 'مايفرق': 5, 'صاج': 5, 'هاش': 56, 'ذوت': 79, 'جرج': 79, 'ماتوقف': 5, 'زيس': 45, 'ردم': 79, 'وشيكولاته': 79, 'ادت': 17, 'روبرتس': 32, 'بات': 18, 'هالبرج': 79, 'هتقبل': 67, 'اوس': 6, 'هنحارب': 67, 'ماتوقعتك': 79, 'ﺭﺣﻤﺔ': 79, 'ﻳﺠﺪ': 79, 'ﺑﺄﺣﺪ': 22, 'ﻗﻠﺒﻪ': 22, 'ﺍﻟﺒﻮﺡ': 79, 'ﺗﻌﻠﻖ': 79, 'ﻳﺴﺘﻄﻴﻊ': 22, 'ﺑﻪ': 22, 'ﻳﺸﻜﻮ': 79, 'ﻳﻜﻮﻥ': 22, 'ﺇﻟﻴﻪ': 22, 'غدغد': 79, 'متج': 68, 'سوز': 79, 'انستقرام': 56, 'كيبل': 4, 'لطخ': 67, 'هنعرف': 14, 'صنديد': 79, 'لايستحقك': 79, 'تغريداته': 50, 'عالهلال': 79, 'هالاطفال': 79, 'يط': 1, 'كتا': 79, 'مقادير': 48, 'قصہ': 12, 'مالديف': 79, 'يالبناخي': 79, 'خلفو': 79, 'لضم': 17, 'تزا': 79, 'غرك': 21, 'ثدي': 4, 'حاف': 68, 'بكئ': 79, 'حفص': 6, 'وعج': 68, 'هالرساله': 50, 'قلوبگم': 12, 'شتك': 79, 'هاظ': 38, 'ﺻﺢ': 22, 'ﻟﺠﻞ': 79, 'ﺷﻌﺮ': 22, 'ﻛﻠﻪ': 22, 'ﻟﺴﺎﻧﻚ': 79, 'ﺷﻮﻕ': 22, 'ﻋﺸﺎﻧﻚ': 79, 'ﻣﻮﺟﻮﺩ': 22, 'ملق': 68, 'حتب': 79, 'الڪ': 68, 'وڪل': 79, 'ﺂمل': 79, 'ﺂعد': 79, 'جوخ': 32, 'تن': 1, 'ﻗﺎﺋﻤﺔ': 79, 'ﻛﻠﻤﺎ': 22, 'ﺃﺣﺪ': 22, 'ﻋﻠﻴﻬﻢ': 22, 'ﺇﻟﻴﻚ': 22, 'ﺭﺃﻳﺖ': 22, 'اسرب': 79, 'اضه': 79, 'عافيہ': 12, 'واتجاهله': 79, 'دنيال': 79, 'ماض': 49, 'بضر': 47, 'فيو': 45, 'قيا': 79, 'عزن': 79, 'حجل': 79, 'شتريد': 58, 'وضر': 79, 'لاق': 1, 'گنز': 79, 'سانتياغو': 24, 'ذبه': 5, 'قيمر': 23, 'تعظ': 79, 'تقو': 79, 'مبتعرفش': 14, 'گال': 79, 'ماتفعل': 79, 'ثعل': 79, 'ﻳﺎﻣﻦ': 79, 'ﺇﺟﻌﻞ': 22, 'ﺍﻷﺭﺯﺍﻕ': 79, 'قلبک': 12, 'ڤي': 45, 'غنئ': 79, 'ھ': 1, 'مايحبونه': 79, 'ضام': 7, 'مضت': 20, 'وماعرفتك': 79, 'بشئ': 49, 'اجم': 1, 'غيرتس': 79, 'قلبتس': 58, 'رره': 9, 'دحدر': 79, 'هنتجمع': 79, 'فره': 5, 'ندق': 5, 'ميش': 58, 'اشرق': 18, 'ماتنلام': 5, 'اتج': 68, 'راكم': 57, 'عك': 68, 'مبتردش': 67, 'حاش': 9, 'لاح': 1, 'عذه': 79, 'مانشوف': 57, 'شراشيح': 79, 'تمرس': 79, 'شقئ': 79, 'مغاليق': 49, 'زك': 1, 'يردش': 79, 'ٲي': 79, 'بهالهشتاق': 79, 'هاس': 79, 'هتزيد': 67, 'قنيفذ': 79, 'عبدالهادي': 6, 'ماتاصل': 79, 'هندوس': 79, 'يجف': 40, 'تفن': 79, 'وصديقاتي': 57, 'ببط': 9, 'مرضيتش': 67, 'اخص': 67, 'شلونج': 58, 'ﺇﻧﻬﺎ': 79, 'ﺍﻟﺠﻤﻌﺔ': 22, 'ﺍﺳﺘﻮﺩﻋﺘﻚ': 79, 'ﻗﻠﺒﻲ': 22, 'ﻋﻴﻨﻲ': 22, 'ﺗﻔﻜﻴﺮﻱ': 79, 'ﺣﻠﻤﺎ': 79, 'ﻟﻴﻠﺔ': 22, 'هتفرج': 2, 'جبناء': 57, 'مايبيع': 79, 'وضف': 79, 'شذي': 58, 'ريجيكامب': 79, 'استقالته': 17, 'قبت': 79, 'قاض': 17, 'معندكوش': 67, 'ايكر': 24, 'وتسونامي': 79, 'فنو': 9, 'فشو': 79, 'عالناس': 67, 'مغر': 79, 'خلب': 79, 'كزا': 67, 'كيقول': 79, 'مسمعناش': 67, 'مشا': 9, 'جثث': 4, 'هوز': 45, 'حكمو': 57, 'جحا': 62, 'جولف': 32, 'عالتايم': 67, 'ازن': 67, 'اغ': 1, 'ذاڪ': 79, 'هط': 79, 'ذقن': 79, 'هاهاهاهاهاهاهاهاها': 67, 'عذرﺂ': 79, 'ڳي': 12, 'ضوت': 21, 'فالمستقبل': 79, 'فمو': 79, 'ﺎلنيہ': 79, 'ﺎحد': 12, 'ﺎسعد': 79, 'اوح': 79, 'لاز': 79, 'كلود': 32, 'هطلع': 2, 'ماتعرفونه': 79, 'مايستحق': 64, 'اطبع': 13, 'بليستيشن': 32, 'بقاش': 67, 'فلر': 79, 'ازت': 68, 'ميتروفيتش': 79, 'اجئ': 79, 'عو': 53, 'لمه': 58, 'تقص': 20, 'تيف': 79, 'شكلتس': 58, 'شعرتس': 79, 'خنز': 79, 'شوم': 79, 'اخذل': 74, 'هاف': 45, 'عجي': 68, 'حضورگ': 12, 'جينر': 32, 'متستناش': 67, 'باهتمامه': 79, 'لاهتمامه': 79, 'خا': 53, 'تكلف': 20, 'معه': 54, 'فعن': 79, 'بخش': 32, 'نحك': 79, 'نقس': 79, 'بطو': 9, 'هالمحل': 79, 'جونغ': 45, 'رئت': 79, 'عشتو': 58, 'ودس': 79, 'كذلك': 49, 'حنظل': 79, 'كجهنم': 79, 'معازيب': 7, 'هوملس': 79, 'لغا': 79, 'كوفر': 45, 'اكم': 68, 'ㅠ': 79, 'ويباركلك': 79, 'گلگ': 12, 'هيلر': 32, 'رحن': 68, 'استوعبتي': 79, 'شكد': 58, 'داك': 38, 'اعظ': 68, 'زوح': 68, 'ميدتيرم': 67, 'لطي': 68, 'قزح': 4, 'معتقداتك': 79, 'عندگ': 12, 'عشقگ': 12, 'خسرو': 57, 'مونديال': 24, 'مجاديف': 18, 'اتجاهاتي': 79, 'حيم': 79, 'هكلم': 2, 'ردش': 79, 'عسف': 7, 'اص': 1, 'مواصيل': 48, 'ماتابعته': 79, 'شيكاغو': 32, 'صجي': 58, 'كونتينر': 79, 'ماعنديش': 2, 'ﻳﺠﻮﺯ': 79, 'شبا': 32, 'كوبل': 45, 'هالنوم': 50, 'ومساعدتي': 79, 'بطم': 79, 'غدي': 48, 'اثي': 79, 'ليگ': 12, 'كنساء': 79, 'استمرارك': 79, 'رسو': 79, 'راف': 68, 'غسق': 18, 'مانحبش': 67, 'يسعدصباح': 79, 'ثرو': 79, 'ربض': 79, 'لرونالدو': 24, 'عمرگ': 12, 'يمہ': 12, 'ماشفتو': 57, 'جيكو': 79, 'بزغ': 79, 'تنز': 79, 'اغمض': 13, 'هالفجر': 79, 'وقض': 79, 'روك': 45, 'كبك': 23, 'ضمك': 7, 'واستجابه': 8, 'مانلوم': 79, 'كاشتياق': 79, 'ماماتو': 79, 'هالنوع': 50, 'خصا': 79, 'هيحاول': 67, 'للي': 72, 'فالذاكره': 79, 'فالنهائي': 79, 'كلبش': 79, 'بخخ': 32, 'سرو': 32, 'الض': 3, 'موفاهم': 79, 'مختبيء': 79, 'ب': 3, 'ت': 1, 'لم': 16, 'عنتر': 6, 'گسر': 12, 'محاولتش': 79, 'عالجمال': 79, 'ﺑﻌﺪﺩ': 79, 'ﺍﻟﻌﺸﺎﻕ': 79, 'ﺳﻴﺪﻧﺎ': 79, 'ﺻﻞ': 22, 'ﺻﻼﺓ': 22, 'ﺻﻠﻰ': 22, 'تمث': 68, 'صحم': 79, 'ارقد': 13, 'خلكم': 57, 'ورف': 68, 'هالقل': 79, 'افرق': 13, 'داومو': 57, 'ونش': 32, 'نعت': 79, 'هيلبس': 67, 'وهت': 79, 'بعرف': 38, 'بمعرفتهہ': 79, 'باگ': 79, 'جمعو': 57, 'حدب': 7, 'زلك': 79, 'كذل': 79, 'ترمز': 79, 'قمهہ': 79, 'مايتغير': 5, 'نخس': 79, 'هيدر': 56, 'هينفع': 2, 'وفه': 3, 'ضحا': 79, 'حريق': 4, 'شبتر': 79, 'تذر': 10, 'زلزل': 74, 'هالفيديو': 50, 'ابوهدايه': 79, 'بلاكبيري': 56, 'هالتساؤل': 79, 'غبريال': 79, 'رولز': 32, 'هدن': 79, 'هتشوفو': 67, 'همسح': 67, 'ديلو': 9, 'تشع': 20, 'شنق': 43, 'ماتوصف': 79, 'لطش': 79, 'طبيع': 68, 'غيض': 18, 'بمشاهدته': 79, 'هخل': 79, 'دحرج': 79, 'جمباز': 32, 'اولمبياد': 17, 'دوز': 32, 'يوي': 32, 'مايرحم': 7, 'تبصش': 79, 'جز': 68, 'مبزهقش': 79, 'هالمقاطع': 79, 'ومشاركات': 79, 'ابراهيموفيتش': 24, 'تنظ': 68, 'خويلد': 6, 'بسس': 27, 'يقز': 79, 'كلمہ': 12, 'كفش': 79, 'رشي': 7, 'هيضيع': 2, 'مضح': 79, 'بمر': 5, 'عالاصابع': 79, 'حقا': 49, 'استخدموه': 79, 'شه': 1, 'طش': 7, 'مغ': 1, 'يفس': 68, 'مف': 1, 'دبرو': 79, 'قلبڪ': 12, 'مايسترو': 32, 'اقو': 79, 'ابش': 68, 'فاستغفرو': 79, 'عالدوام': 79, 'زغل': 79, 'كثي': 1, 'رعه': 9, 'هالفرق': 79, 'ضيعو': 57, 'يتع': 68, 'ميج': 32, 'ﻓﻴﻪ': 22, 'ﻳﺤﺘﺎﺝ': 79, 'عشير': 48, 'جامبو': 23, 'صكه': 5, 'هالمباراه': 24, 'مايسير': 5, 'اسعد': 8, 'لابداعات': 79, 'قصدو': 67, 'ايصل': 79, 'وخش': 67, 'ستك': 67, 'چنا': 79, 'ﻓﺮﺣﺔ': 79, 'ﻳﺂﺭﺏ': 22, 'ﻛﺜﻴﺮﻭﻥ': 79, 'لڪم': 79, 'يؤل': 79, 'علبال': 79, 'ومالقيتك': 79, 'كذلگ': 79, 'طلبو': 57, 'كوخ': 4, 'حسحس': 67, 'شاورمر': 79, 'ليتو': 79, 'بضي': 68, 'سحم': 79, 'نحم': 79, 'جهزو': 57, 'وعه': 68, 'زجر': 79, 'وجماهيره': 79, 'ﻷنو': 79, 'پي': 79, 'هحلق': 67, 'حنخسر': 79, 'كرهم': 79, 'مايختلف': 5, 'چنه': 27, 'سارع': 17, 'ماياخذ': 5, 'قرنقش': 79, 'ضبه': 79, 'شخبط': 5, 'تزي': 68, 'يرغ': 79, 'محج': 68, 'ماتفوز': 79, 'متسبنيش': 67, 'وضا': 79, 'لاتستعجل': 79, 'شمي': 79, 'اهت': 68, 'نوه': 7, 'جوم': 68, 'يدج': 58, 'هجرگ': 79, 'تقط': 5, 'هلقد': 67, 'اوهميقاد': 79, 'شعرج': 58, 'بسج': 58, 'لمباريات': 24, 'مفر': 40, 'موٺ': 12, 'دوستويفسكي': 79, 'تفكر': 20, 'اﻻ': 79, 'لتس': 77, 'هجن': 79, 'تاس': 79, 'مابقوش': 79, 'لحض': 61, 'روش': 67, 'بهو': 79, 'صمخ': 79, 'ريتاج': 79, 'قصرو': 57, 'وفج': 68, 'هالغيم': 79, 'اعطو': 57, 'حفض': 79, 'مونستر': 45, 'هالرقم': 50, 'هالبس': 79, 'طقو': 57, 'شيو': 79, 'شبهو': 79, 'ضعفاء': 49, 'توح': 68, 'تصدع': 20, 'ﺍﻟﻘﻠﻮﺏ': 22, 'ﻓﺮﺝ': 22, 'ﺍﻧﺖ': 22, 'ﻳﻌﻠﻢ': 22, 'ﻣﺎﻓﻲ': 22, 'ﻳﺎﺭﺏ': 22, 'خفر': 17, 'فقس': 79, 'اعه': 1, 'رجك': 79, 'طر': 1, 'يذل': 47, 'تخرف': 79, 'هفكر': 2, 'هانيبال': 32, 'قوط': 79, 'ليث': 38, 'اشرب': 13, 'استقبلوه': 79, 'وشكل': 5, 'هيترز': 79, 'موم': 68, 'خاش': 5, 'تفضل': 67, 'قولگ': 79, 'تگن': 40, 'عالتويتر': 38, 'عرفوش': 79, 'شالفايده': 27, 'اقلع': 67, 'برودكاست': 56, 'ۈلا': 12, 'هذالصباح': 79, 'مقتنعتش': 79, 'ذيق': 79, 'ارث': 64, 'خاو': 79, 'غمس': 79, 'ماينلام': 5, 'حيلو': 67, 'تهو': 79, 'لشك': 79, 'شوز': 45, 'لكا': 79, 'غلس': 67, 'يعق': 79, 'حشت': 79, 'هو': 64, 'طفه': 79, 'ضيعتو': 79, 'ياف': 9, 'امتحانات': 2, 'ﺍﻷﺧﻼﻕ': 79, 'ﺃﺟﻤﻞ': 22, 'ﺗﻤﻮﺕ': 22, 'ﺍﻟﺘﻲ': 22, 'ﺍﻟﺮﺣﻴﻞ': 22, 'ﻓﻤﺎ': 22, 'ﺑﻴﻦ': 22, 'حذفو': 79, 'حوب': 9, 'عرقل': 79, 'خمدو': 79, 'قشع': 79, 'يبش': 79, 'سكك': 4, 'كاريس': 79, 'بسد': 79, 'قدكم': 57, 'متزعليش': 2, 'خذلگ': 79, 'رزع': 67, 'مرش': 79, 'تهج': 5, 'مايضبط': 5, 'ﺍﻟﺴﻤﺎﺀ': 22, 'ﺍﻟﻌﻄﺎﺀ': 79, 'قزر': 79, 'توهق': 5, 'مايقدر': 72, 'ورگ': 79, 'هك': 68, 'مابقاش': 14, 'مگا': 79, 'ماينقال': 5, 'معن': 6, 'لد': 53, 'طلعتو': 57, 'ۈبك': 79, 'ذكرگ': 12, 'طاريء': 79, 'خلس': 79, 'بشل': 79, 'منذ': 17, 'مبيتغيرش': 79, 'لكٓ': 79, 'عجلو': 79, 'واحتريتك': 7, 'ردف': 7, 'مذا': 79, 'شفا': 7, 'فكا': 9, 'كعشق': 79, 'شيندونغ': 32, 'تبت': 21, 'اقبل': 74, 'مح': 3, 'بيز': 45, 'هالاداء': 79, 'محاضراتي': 79, 'ماتسمح': 79, 'انتقائيه': 64, 'انسانيتي': 79, 'فالموضوع': 67, 'كقطع': 79, 'شخ': 68, 'روف': 3, 'هالشيء': 50, 'اقسم': 13, 'روسو': 32, 'باختياره': 79, 'ردج': 58, 'محي': 6, 'جهن': 79, 'ننا': 68, 'هتفتح': 67, 'يٱ': 12, 'صلی': 79, 'غرا': 79, 'شوح': 79, 'طاعتج': 79, 'استثنائي': 64, 'وحم': 68, 'ستق': 68, 'عاس': 79, 'زعي': 79, 'كنج': 45, 'حمش': 67, 'كوينز': 56, 'ماحتاج': 79, 'تقن': 68, 'حنقدر': 67, 'تخي': 68, 'جحدر': 79, 'جثت': 79, 'ضيك': 18, 'مگه': 79, 'فوح': 7, 'دونج': 58, 'تحرز': 17, 'حلج': 58, 'يتف': 68, 'اوميديتو': 79, 'روحگ': 12, 'عدكم': 57, 'هالاسئله': 50, 'شكبر': 79, 'طوش': 79, 'تبرئ': 17, 'شرج': 79, 'مانلعب': 79, 'ماتحسف': 79, 'فخل': 79, 'حرباء': 79, 'هالطول': 79, 'وضه': 79, 'چن': 79, 'قلهہ': 79, 'ڪيف': 12, 'هالتعب': 50, 'كتالوج': 56, 'شاح': 9, 'شاهدو': 43, 'اك': 1, 'زقم': 6, 'بتو': 79, 'هالمشاعر': 50, 'شوفتج': 58, 'طوب': 14, 'وبالايام': 79, 'ضلك': 38, 'يابوثامر': 79, 'ندن': 68, 'صباحڪم': 79, 'زوجہ': 79, 'تنق': 68, 'عزو': 79, 'صورج': 58, 'يتك': 3, 'يوث': 79, 'جاتوزو': 24, 'ضما': 48, 'مايذوق': 79, 'قسر': 79, 'ﯾوجد': 12, 'مانزلو': 79, 'ومشاركتك': 79, 'كرموز': 79, 'ديجيتال': 32, 'ونخ': 79, 'هالنشيد': 79, 'هقق': 79, 'هنق': 79, 'ولسعادتي': 79, 'ٱسباب': 79, 'ئد': 67, 'دوق': 45, 'مقولتش': 2, 'هالقصيده': 50, 'بتفاصيلك': 49, 'هاشتاغ': 56, 'طظ': 14, 'بروفيشنال': 67, 'وظي': 79, 'قمل': 23, 'صمٺ': 12, 'لڪي': 79, 'يعس': 79, 'ﻓقد': 79, 'مں': 12, 'ﯾوم': 12, 'ﻗد': 12, 'بہا': 28, 'اغش': 13, 'ماخدتش': 2, 'قدج': 79, 'واص': 1, 'ضجه': 18, 'تتي': 79, 'معرفوش': 2, 'حضنو': 79, 'بھا': 28, 'جنھ': 79, 'ھذھ': 12, 'گنتم': 79, 'تؤل': 79, 'جوفاء': 79, 'شتقصد': 79, 'كاد': 43, 'غشم': 79, 'مايحبو': 9, 'معتقدش': 2, 'طبا': 79, 'قاك': 68, 'فضا': 48, 'حيلج': 58, 'مكث': 79, 'ماتصور': 79, 'سھل': 79, 'خصوصياتي': 79, 'استمتاعي': 79, 'رشرش': 32, 'ذوالفقار': 79, 'تنا': 3, 'ماينجبر': 79, 'اث': 25, 'گلہ': 12, 'خرابيط': 27, 'مايشرح': 79, 'زنب': 67, 'مبيتنسيش': 79, 'ريجيم': 23, 'ضنت': 79, 'خاي': 68, 'غافل': 49, 'قور': 79, 'قبو': 4, 'شتو': 79, 'مافيهاش': 14, 'وشح': 7, 'بمو': 79, 'هترتاح': 2, 'صدقہ': 12, 'ﺎلايام': 12, 'كتعويض': 79, 'طلہ': 79, 'اهف': 79, 'صاد': 7, 'ۈجع': 79, 'مختلفہ': 12, 'ڪلن': 79, 'واعد': 74, 'عاق': 47, 'شديد': 64, 'ياج': 68, 'حصص': 64, 'تكب': 68, 'زني': 68, 'ضجو': 79, 'ذني': 68, 'ينع': 3, 'بتت': 9, 'هينفجر': 67, 'طيط': 32, 'غنج': 18, 'ثين': 79, 'خشتج': 79, 'هتضطر': 79, 'فلسطينيه': 17, 'رونالدينيو': 24, 'مايشجع': 5, 'عدلو': 57, 'ديف': 32, 'ظنگ': 12, 'وطئ': 79, 'خالتو': 58, 'رکم': 79, 'فحي': 79, 'مايطيب': 7, 'افح': 9, 'شالسالفه': 27, 'ياعبدالعزيز': 79, 'ريتش': 32, 'شفتيک': 79, 'حديثک': 79, 'بذئ': 79, 'وزت': 79, 'نجه': 79, 'متقربوش': 79, 'لو': 75, 'كدموع': 79, 'جهي': 79, 'كورو': 79, 'موطبيعيه': 79, 'ليخ': 79, 'جرحتو': 79, 'ركا': 79, 'هالحرب': 79, 'فوتر': 79, 'مشك': 68, 'ماتخسر': 79, 'عميل': 62, 'عيه': 79, 'اسخ': 79, 'ﻣن': 12, 'ﻟها': 12, 'ﺂلصباح': 79, 'حتخرج': 79, 'عرسو': 79, 'حتعرف': 67, 'تحرق': 20, 'الشر': 47, 'ياعبدالرحمن': 79, 'شزي': 79, 'انصح': 64, 'هالدعاء': 79, 'افعل': 13, 'چاي': 23, 'فالتفكير': 79, 'هتع': 79, 'يهف': 5, 'ضحكو': 57, 'فاو': 79, 'ماتحصل': 5, 'حظرو': 79, 'تسئ': 40, 'واختياره': 79, 'نضب': 79, 'تقب': 68, 'سلخ': 67, 'شابتر': 67, 'كاتبو': 79, 'حنب': 79, 'عسكريم': 23, 'فاظ': 79, 'ديوار': 32, 'جيبوم': 32, 'مايحفظ': 79, 'هينضف': 79, 'كو': 53, 'ني': 1, 'مجل': 68, 'امبراطور': 6, 'كندر': 23, 'هرش': 67, 'فتا': 79, 'صوتو': 57, 'فاؤل': 79, 'د': 3, 'قببل': 79, 'كصم': 79, 'ظلماء': 79, 'ﻻيغير': 79, 'متعرفنيش': 67, 'رنو': 58, 'عره': 14, 'لوي': 45, 'يالزعماء': 79, 'كانت': 20, 'مايهاب': 79, 'طوس': 79, 'ذين': 68, 'لفح': 7, 'ﺎلهم': 12, 'تسه': 68, 'زقه': 58, 'هاوش': 79, 'افج': 79, 'وتغريداته': 79, 'متلاقيش': 14, 'هنطلع': 67, 'متعرفوش': 14, 'هاملز': 79, 'ماستخدم': 79, 'ﺂﺟمل': 79, 'ﻗﻟۆب': 79, 'ھي': 12, 'ﻓي': 12, 'ئول': 79, 'تحجب': 20, 'خردل': 47, 'ورر': 79, 'معلوماتك': 50, 'اغدر': 79, 'سدك': 68, 'هالاكل': 79, 'شقد': 0, 'خبه': 7, 'مينساش': 79, 'ﺍﻟﻌﻠﻤﺎﺀ': 79, 'ﺍﻟﻴﻤﻴﻦ': 79, 'هنتو': 79, 'منها': 63, 'فاج': 68, 'جثه': 4, 'خري': 62, 'طلا': 32, 'دوغلاس': 24, 'صنم': 62, 'قطيف': 79, 'وخز': 18, 'غنه': 79, 'ادعس': 5, 'يک': 68, 'رشه': 23, 'نق': 1, 'ﺻﺎﻓﻴﺔ': 79, 'ﻭﺃﺗﻤﻢ': 79, 'ﻧﻔﻮﺳﺎ': 79, 'ﺍﻟﻌﺎﻓﻴﺔ': 22, 'ﻭﺻﺪﻭﺭﺍ': 79, 'ﺑ': 12, 'ﺣﺒﻚ': 22, 'ﺭﺍﺿﻴﺔ': 79, 'ﻫﺐ': 79, 'ﺧﺎﻟﻴﺔ': 79, 'ﻋﻠﻴﻨﺎ': 22, 'ﻭﻗﻠﻮﺑﺎ': 79, 'ﻟﻨﺎ': 22, 'ﺍﻟﻬﻤﻮﻡ': 22, 'الک': 68, 'ذلک': 12, 'ضلت': 20, 'زنجيل': 79, 'هيجيب': 14, 'مواقيف': 7, 'مبحبهاش': 2, 'هالحكيم': 79, 'مايكملش': 79, 'ماحاول': 79, 'ذك': 1, 'گول': 79, 'متصدقيش': 79, 'غايتو': 67, 'كركم': 79, 'اسح': 79, 'تخرج': 20, 'مبيفهمش': 67, 'ابيع': 13, 'لتو': 79, 'انشر': 56, 'شفتش': 2, 'مايعتبر': 79, 'شيفر': 79, 'حفي': 9, 'ماط': 68, 'اسه': 1, 'خيسوس': 24, 'ضغطج': 79, 'هالقد': 58, 'فبك': 79, 'اركب': 13, 'فيٰ': 12, 'خشك': 79, 'شمك': 79, 'ميهمنيش': 2, 'هدخل': 2, 'دكتو': 79, 'نلت': 49, 'معاريض': 79, 'نفص': 79, 'شنج': 79, 'ﺎلب': 79, 'طرن': 79, 'زيج': 79, 'عصقول': 79, 'ماقصرتو': 57, 'نبو': 32, 'گد': 79, 'بقن': 79, 'اغط': 79, 'انقص': 13, 'بغئ': 79, 'درک': 79, 'حيرجع': 67, 'هقي': 7, 'مدم': 68}\n"
          ]
        }
      ],
      "source": [
        "NUM_DOCS = data.shape[0]\n",
        "\n",
        "# construct a word to concept mapping\n",
        "word_concept = {}\n",
        "for index, word in enumerate(word_vecs.keys()):\n",
        "    word_concept[word] = concepts[index]\n",
        "print(word_concept)"
      ]
    },
    {
      "cell_type": "code",
      "execution_count": 52,
      "metadata": {},
      "outputs": [
        {
          "name": "stdout",
          "output_type": "stream",
          "text": [
            "defaultdict(<class 'int'>, {4: 4158, 68: 10812, 74: 6002, 48: 15777, 27: 4365, 33: 5179, 67: 3150, 7: 6141, 43: 6902, 13: 3980, 79: 9888, 17: 3648, 21: 2298, 5: 4304, 38: 1600, 20: 1631, 40: 3840, 14: 2924, 18: 6096, 23: 3245, 31: 170, 9: 1805, 77: 1389, 62: 2948, 47: 8925, 6: 6254, 11: 373, 58: 983, 8: 2159, 52: 3300, 29: 286, 1: 2740, 72: 4445, 64: 7213, 57: 1991, 24: 1182, 56: 1643, 49: 1977, 3: 1978, 54: 680, 22: 285, 32: 2427, 51: 211, 45: 1919, 50: 3131, 39: 110, 0: 1629, 12: 752, 16: 360, 35: 60, 2: 548, 42: 47, 53: 815, 59: 57, 75: 179, 70: 414, 19: 318, 63: 118, 66: 142, 30: 198, 26: 241, 34: 132, 61: 16, 73: 289, 76: 13, 36: 154, 41: 16, 69: 20, 28: 43, 55: 28, 46: 17, 44: 8, 15: 10, 37: 15, 60: 8, 78: 6, 71: 2, 65: 1, 10: 1, 25: 1})\n"
          ]
        }
      ],
      "source": [
        "# construct a concept to document count mapping\n",
        "concept_docs = defaultdict(int)\n",
        "for doc in data[\"tweet\"]:\n",
        "    doc_concepts = set()\n",
        "    for word in doc.split(\" \"):\n",
        "        try:\n",
        "            doc_concepts.add(word_concept[word])\n",
        "        except Exception:\n",
        "            pass\n",
        "    for concept in doc_concepts:\n",
        "        concept_docs[concept] += 1\n",
        "print(concept_docs)"
      ]
    },
    {
      "cell_type": "code",
      "execution_count": 53,
      "metadata": {},
      "outputs": [],
      "source": [
        "def cf_idf(document: str):\n",
        "    \"\"\" Returns the CD-IDF representataion of a document \"\"\"\n",
        "    res = [0 for _ in range(NUM_CONCEPTS)]\n",
        "    concepts_counts = defaultdict(int)\n",
        "    for word in document.split(\" \"):\n",
        "        try:\n",
        "            concepts_counts[word_concept[word]] += 1\n",
        "        except:\n",
        "            pass\n",
        "    n_k = sum(concepts_counts.values()) # number of concepts present in the document (duplicates are considered!)\n",
        "    for concept in range(NUM_CONCEPTS):\n",
        "        if concepts_counts[concept] != 0:\n",
        "            res[concept] = (concepts_counts[concept] / n_k) * log(NUM_DOCS / (1 + concept_docs[concept]))\n",
        "    return res"
      ]
    },
    {
      "cell_type": "code",
      "execution_count": 54,
      "metadata": {},
      "outputs": [],
      "source": [
        "X = [cf_idf(tweet) for tweet in data[\"tweet\"]]\n",
        "y = data[\"class\"]\n",
        "\n",
        "X_train, X_test, y_train, y_test = train_test_split(X, y, test_size = .2, random_state = SEED, stratify = y)"
      ]
    },
    {
      "attachments": {},
      "cell_type": "markdown",
      "metadata": {},
      "source": [
        "## Performance evaluation\n",
        "### Naive bayes"
      ]
    },
    {
      "cell_type": "code",
      "execution_count": 55,
      "metadata": {},
      "outputs": [
        {
          "name": "stdout",
          "output_type": "stream",
          "text": [
            "Accuracy: 55.17%\n"
          ]
        }
      ],
      "source": [
        "model = GaussianNB()\n",
        "\n",
        "model.fit(X_train, y_train)\n",
        "y_pred = model.predict(X_test)\n",
        "accuracy = accuracy_score(y_test, y_pred)\n",
        "print(f\"Accuracy: {accuracy * 100:.2f}%\")"
      ]
    },
    {
      "attachments": {},
      "cell_type": "markdown",
      "metadata": {},
      "source": [
        "## Logistic regression"
      ]
    },
    {
      "cell_type": "code",
      "execution_count": 56,
      "metadata": {},
      "outputs": [
        {
          "name": "stdout",
          "output_type": "stream",
          "text": [
            "Accuracy: 64.42%\n"
          ]
        }
      ],
      "source": [
        "model = LogisticRegression(max_iter = 1000)\n",
        "model.fit(X_train, y_train)\n",
        "y_pred = model.predict(X_test)\n",
        "accuracy = accuracy_score(y_test, y_pred)\n",
        "print(f\"Accuracy: {accuracy * 100:.2f}%\")"
      ]
    },
    {
      "attachments": {},
      "cell_type": "markdown",
      "metadata": {},
      "source": [
        "## SVM"
      ]
    },
    {
      "cell_type": "code",
      "execution_count": 57,
      "metadata": {},
      "outputs": [
        {
          "name": "stdout",
          "output_type": "stream",
          "text": [
            "Accuracy: 65.20%\n"
          ]
        }
      ],
      "source": [
        "model = SVC()\n",
        "model.fit(X_train, y_train)\n",
        "y_pred = model.predict(X_test)\n",
        "accuracy = accuracy_score(y_test, y_pred)\n",
        "print(f\"Accuracy: {accuracy * 100:.2f}%\")"
      ]
    }
  ],
  "metadata": {
    "colab": {
      "include_colab_link": true,
      "provenance": []
    },
    "kernelspec": {
      "display_name": "Python 3",
      "language": "python",
      "name": "python3"
    },
    "language_info": {
      "codemirror_mode": {
        "name": "ipython",
        "version": 3
      },
      "file_extension": ".py",
      "mimetype": "text/x-python",
      "name": "python",
      "nbconvert_exporter": "python",
      "pygments_lexer": "ipython3",
      "version": "3.11.2"
    },
    "orig_nbformat": 4
  },
  "nbformat": 4,
  "nbformat_minor": 0
}
