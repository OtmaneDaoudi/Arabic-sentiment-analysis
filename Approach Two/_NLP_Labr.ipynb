{
  "cells": [
    {
      "cell_type": "code",
      "source": [
        "from google.colab import drive\n",
        "drive.mount('/content/drive')"
      ],
      "metadata": {
        "colab": {
          "base_uri": "https://localhost:8080/"
        },
        "id": "CbU9hoT91c3f",
        "outputId": "e633ea5e-3cb0-4ad2-861e-f657ca2b6f3d"
      },
      "execution_count": 4,
      "outputs": [
        {
          "output_type": "stream",
          "name": "stdout",
          "text": [
            "Drive already mounted at /content/drive; to attempt to forcibly remount, call drive.mount(\"/content/drive\", force_remount=True).\n"
          ]
        }
      ]
    },
    {
      "cell_type": "markdown",
      "metadata": {
        "id": "AppG0ojqzJKw"
      },
      "source": [
        "# LABR dataset\n",
        "\n",
        "- LABR stands for Large-Scale Arabic Book Reviews.\n",
        "- It's a collection of over 63,000 book reviews written in Arabic.\n",
        "- Each review comes with a rating on a scale of 1 to 5 stars."
      ]
    },
    {
      "cell_type": "markdown",
      "metadata": {
        "id": "48RKNqnmzJK1"
      },
      "source": [
        "### Loading Libraries"
      ]
    },
    {
      "cell_type": "code",
      "execution_count": 5,
      "metadata": {
        "id": "ukpOVfCJzJK3"
      },
      "outputs": [],
      "source": [
        "import pandas as pd\n",
        "import numpy as np\n",
        "import matplotlib.pyplot as plt\n",
        "import seaborn as sns"
      ]
    },
    {
      "cell_type": "markdown",
      "metadata": {
        "id": "YhfBqhKLzJK7"
      },
      "source": [
        "### Loading the dataset"
      ]
    },
    {
      "cell_type": "markdown",
      "metadata": {
        "id": "oxYA3gFAzJK8"
      },
      "source": [
        "The review.tsv file contains :\n",
        "\n",
        "- rating - review id - user id - book id - review"
      ]
    },
    {
      "cell_type": "code",
      "execution_count": 6,
      "metadata": {
        "colab": {
          "base_uri": "https://localhost:8080/",
          "height": 676
        },
        "id": "eY2yNyLqzJK8",
        "outputId": "0558a8af-725a-4aa0-81e4-74c053611ace"
      },
      "outputs": [
        {
          "output_type": "execute_result",
          "data": {
            "text/plain": [
              "    rating  review_id   user_id   book_id  \\\n",
              "0        4  202842568   6064435   3692091   \n",
              "1        5  143235856   4865181   7375409   \n",
              "2        4  276455328   5088542  13482280   \n",
              "3        5  398184231  10657567   3503947   \n",
              "4        4  132825053   4374579   8994051   \n",
              "5        5  107551756   3829063   6010848   \n",
              "6        5   74943305   2688369   2750180   \n",
              "7        4  519709846   9042233   6011710   \n",
              "8        5   72750387   2784016       320   \n",
              "9        4  378007937  11328297   2244796   \n",
              "10       5  283604035   3298362   6780664   \n",
              "11       5  233922737   2303706   3243517   \n",
              "12       5  105190458   3813039   2876229   \n",
              "13       4  232501515   2596078   7102179   \n",
              "14       4  284779435   4030142   9666241   \n",
              "15       3  455273103  14265360   2508854   \n",
              "16       5  183249971   5763475   2834159   \n",
              "17       4  126814391   4036232   3657624   \n",
              "18       5  228754965   4668778  11942408   \n",
              "19       1  298879299   8153762   3503947   \n",
              "\n",
              "                                               review  \n",
              "0    الكتاب ده فعلا عبقري في البدايه حصلي نوع من ا...  \n",
              "1                 حتماً لا يمكنني أن أختزلها في وصف .  \n",
              "2    كتاب جميل جمع فيه الاستاذ عبدالرحمن المصطاوي ...  \n",
              "3    لاول مرة تجذبني رواية لانهائها بهذا الشكل و ش...  \n",
              "4    أقصوصة في شكل رسائل من الراوي المصاب بألزهايم...  \n",
              "5                                     من أجمل ما قرأت  \n",
              "6    كتاب اكثر من رائع وتعلمت منهـ أفضل الطرق لكي ...  \n",
              "7    مرة اخرى قصة من القصص المرعبة الجميلة انصح بق...  \n",
              "8                                   اجمل رواية قرأتها  \n",
              "9    أسلوب جيد، محاضرات ممتعة في الجزء الثاني من ا...  \n",
              "10   \"رواية قصيرة بعدد صفحاتها قرأتها بأقل من ساعة...  \n",
              "11   هذا كتاب يقرأ ثم يقرأ ثم يقرأ من جديد سيمفوني...  \n",
              "12                          مررة حلوو . انصحكم تقرونه  \n",
              "13   عاجبنى اوى العالم الموازى . العفن المنتشر . ا...  \n",
              "14   الرواية تشيع فى النفس قدر من الملل بواقع تدور...  \n",
              "15   قريته من سنتين تقريبا و كان فيه حكايات حلوه و...  \n",
              "16                اعدت قرائته كذا مره،ممتع جدا وخفيف.  \n",
              "17   احسنهم على الاطلاق قالولى بتحب مصر تميم رائع ...  \n",
              "18                                 حلو جداااا . 10/10  \n",
              "19   من وجهة نظرى إن العمل فقير من الناحية الفنية ...  "
            ],
            "text/html": [
              "\n",
              "  <div id=\"df-358e1d32-675b-4c93-b3dd-bfaf088139e5\" class=\"colab-df-container\">\n",
              "    <div>\n",
              "<style scoped>\n",
              "    .dataframe tbody tr th:only-of-type {\n",
              "        vertical-align: middle;\n",
              "    }\n",
              "\n",
              "    .dataframe tbody tr th {\n",
              "        vertical-align: top;\n",
              "    }\n",
              "\n",
              "    .dataframe thead th {\n",
              "        text-align: right;\n",
              "    }\n",
              "</style>\n",
              "<table border=\"1\" class=\"dataframe\">\n",
              "  <thead>\n",
              "    <tr style=\"text-align: right;\">\n",
              "      <th></th>\n",
              "      <th>rating</th>\n",
              "      <th>review_id</th>\n",
              "      <th>user_id</th>\n",
              "      <th>book_id</th>\n",
              "      <th>review</th>\n",
              "    </tr>\n",
              "  </thead>\n",
              "  <tbody>\n",
              "    <tr>\n",
              "      <th>0</th>\n",
              "      <td>4</td>\n",
              "      <td>202842568</td>\n",
              "      <td>6064435</td>\n",
              "      <td>3692091</td>\n",
              "      <td>الكتاب ده فعلا عبقري في البدايه حصلي نوع من ا...</td>\n",
              "    </tr>\n",
              "    <tr>\n",
              "      <th>1</th>\n",
              "      <td>5</td>\n",
              "      <td>143235856</td>\n",
              "      <td>4865181</td>\n",
              "      <td>7375409</td>\n",
              "      <td>حتماً لا يمكنني أن أختزلها في وصف .</td>\n",
              "    </tr>\n",
              "    <tr>\n",
              "      <th>2</th>\n",
              "      <td>4</td>\n",
              "      <td>276455328</td>\n",
              "      <td>5088542</td>\n",
              "      <td>13482280</td>\n",
              "      <td>كتاب جميل جمع فيه الاستاذ عبدالرحمن المصطاوي ...</td>\n",
              "    </tr>\n",
              "    <tr>\n",
              "      <th>3</th>\n",
              "      <td>5</td>\n",
              "      <td>398184231</td>\n",
              "      <td>10657567</td>\n",
              "      <td>3503947</td>\n",
              "      <td>لاول مرة تجذبني رواية لانهائها بهذا الشكل و ش...</td>\n",
              "    </tr>\n",
              "    <tr>\n",
              "      <th>4</th>\n",
              "      <td>4</td>\n",
              "      <td>132825053</td>\n",
              "      <td>4374579</td>\n",
              "      <td>8994051</td>\n",
              "      <td>أقصوصة في شكل رسائل من الراوي المصاب بألزهايم...</td>\n",
              "    </tr>\n",
              "    <tr>\n",
              "      <th>5</th>\n",
              "      <td>5</td>\n",
              "      <td>107551756</td>\n",
              "      <td>3829063</td>\n",
              "      <td>6010848</td>\n",
              "      <td>من أجمل ما قرأت</td>\n",
              "    </tr>\n",
              "    <tr>\n",
              "      <th>6</th>\n",
              "      <td>5</td>\n",
              "      <td>74943305</td>\n",
              "      <td>2688369</td>\n",
              "      <td>2750180</td>\n",
              "      <td>كتاب اكثر من رائع وتعلمت منهـ أفضل الطرق لكي ...</td>\n",
              "    </tr>\n",
              "    <tr>\n",
              "      <th>7</th>\n",
              "      <td>4</td>\n",
              "      <td>519709846</td>\n",
              "      <td>9042233</td>\n",
              "      <td>6011710</td>\n",
              "      <td>مرة اخرى قصة من القصص المرعبة الجميلة انصح بق...</td>\n",
              "    </tr>\n",
              "    <tr>\n",
              "      <th>8</th>\n",
              "      <td>5</td>\n",
              "      <td>72750387</td>\n",
              "      <td>2784016</td>\n",
              "      <td>320</td>\n",
              "      <td>اجمل رواية قرأتها</td>\n",
              "    </tr>\n",
              "    <tr>\n",
              "      <th>9</th>\n",
              "      <td>4</td>\n",
              "      <td>378007937</td>\n",
              "      <td>11328297</td>\n",
              "      <td>2244796</td>\n",
              "      <td>أسلوب جيد، محاضرات ممتعة في الجزء الثاني من ا...</td>\n",
              "    </tr>\n",
              "    <tr>\n",
              "      <th>10</th>\n",
              "      <td>5</td>\n",
              "      <td>283604035</td>\n",
              "      <td>3298362</td>\n",
              "      <td>6780664</td>\n",
              "      <td>\"رواية قصيرة بعدد صفحاتها قرأتها بأقل من ساعة...</td>\n",
              "    </tr>\n",
              "    <tr>\n",
              "      <th>11</th>\n",
              "      <td>5</td>\n",
              "      <td>233922737</td>\n",
              "      <td>2303706</td>\n",
              "      <td>3243517</td>\n",
              "      <td>هذا كتاب يقرأ ثم يقرأ ثم يقرأ من جديد سيمفوني...</td>\n",
              "    </tr>\n",
              "    <tr>\n",
              "      <th>12</th>\n",
              "      <td>5</td>\n",
              "      <td>105190458</td>\n",
              "      <td>3813039</td>\n",
              "      <td>2876229</td>\n",
              "      <td>مررة حلوو . انصحكم تقرونه</td>\n",
              "    </tr>\n",
              "    <tr>\n",
              "      <th>13</th>\n",
              "      <td>4</td>\n",
              "      <td>232501515</td>\n",
              "      <td>2596078</td>\n",
              "      <td>7102179</td>\n",
              "      <td>عاجبنى اوى العالم الموازى . العفن المنتشر . ا...</td>\n",
              "    </tr>\n",
              "    <tr>\n",
              "      <th>14</th>\n",
              "      <td>4</td>\n",
              "      <td>284779435</td>\n",
              "      <td>4030142</td>\n",
              "      <td>9666241</td>\n",
              "      <td>الرواية تشيع فى النفس قدر من الملل بواقع تدور...</td>\n",
              "    </tr>\n",
              "    <tr>\n",
              "      <th>15</th>\n",
              "      <td>3</td>\n",
              "      <td>455273103</td>\n",
              "      <td>14265360</td>\n",
              "      <td>2508854</td>\n",
              "      <td>قريته من سنتين تقريبا و كان فيه حكايات حلوه و...</td>\n",
              "    </tr>\n",
              "    <tr>\n",
              "      <th>16</th>\n",
              "      <td>5</td>\n",
              "      <td>183249971</td>\n",
              "      <td>5763475</td>\n",
              "      <td>2834159</td>\n",
              "      <td>اعدت قرائته كذا مره،ممتع جدا وخفيف.</td>\n",
              "    </tr>\n",
              "    <tr>\n",
              "      <th>17</th>\n",
              "      <td>4</td>\n",
              "      <td>126814391</td>\n",
              "      <td>4036232</td>\n",
              "      <td>3657624</td>\n",
              "      <td>احسنهم على الاطلاق قالولى بتحب مصر تميم رائع ...</td>\n",
              "    </tr>\n",
              "    <tr>\n",
              "      <th>18</th>\n",
              "      <td>5</td>\n",
              "      <td>228754965</td>\n",
              "      <td>4668778</td>\n",
              "      <td>11942408</td>\n",
              "      <td>حلو جداااا . 10/10</td>\n",
              "    </tr>\n",
              "    <tr>\n",
              "      <th>19</th>\n",
              "      <td>1</td>\n",
              "      <td>298879299</td>\n",
              "      <td>8153762</td>\n",
              "      <td>3503947</td>\n",
              "      <td>من وجهة نظرى إن العمل فقير من الناحية الفنية ...</td>\n",
              "    </tr>\n",
              "  </tbody>\n",
              "</table>\n",
              "</div>\n",
              "    <div class=\"colab-df-buttons\">\n",
              "\n",
              "  <div class=\"colab-df-container\">\n",
              "    <button class=\"colab-df-convert\" onclick=\"convertToInteractive('df-358e1d32-675b-4c93-b3dd-bfaf088139e5')\"\n",
              "            title=\"Convert this dataframe to an interactive table.\"\n",
              "            style=\"display:none;\">\n",
              "\n",
              "  <svg xmlns=\"http://www.w3.org/2000/svg\" height=\"24px\" viewBox=\"0 -960 960 960\">\n",
              "    <path d=\"M120-120v-720h720v720H120Zm60-500h600v-160H180v160Zm220 220h160v-160H400v160Zm0 220h160v-160H400v160ZM180-400h160v-160H180v160Zm440 0h160v-160H620v160ZM180-180h160v-160H180v160Zm440 0h160v-160H620v160Z\"/>\n",
              "  </svg>\n",
              "    </button>\n",
              "\n",
              "  <style>\n",
              "    .colab-df-container {\n",
              "      display:flex;\n",
              "      gap: 12px;\n",
              "    }\n",
              "\n",
              "    .colab-df-convert {\n",
              "      background-color: #E8F0FE;\n",
              "      border: none;\n",
              "      border-radius: 50%;\n",
              "      cursor: pointer;\n",
              "      display: none;\n",
              "      fill: #1967D2;\n",
              "      height: 32px;\n",
              "      padding: 0 0 0 0;\n",
              "      width: 32px;\n",
              "    }\n",
              "\n",
              "    .colab-df-convert:hover {\n",
              "      background-color: #E2EBFA;\n",
              "      box-shadow: 0px 1px 2px rgba(60, 64, 67, 0.3), 0px 1px 3px 1px rgba(60, 64, 67, 0.15);\n",
              "      fill: #174EA6;\n",
              "    }\n",
              "\n",
              "    .colab-df-buttons div {\n",
              "      margin-bottom: 4px;\n",
              "    }\n",
              "\n",
              "    [theme=dark] .colab-df-convert {\n",
              "      background-color: #3B4455;\n",
              "      fill: #D2E3FC;\n",
              "    }\n",
              "\n",
              "    [theme=dark] .colab-df-convert:hover {\n",
              "      background-color: #434B5C;\n",
              "      box-shadow: 0px 1px 3px 1px rgba(0, 0, 0, 0.15);\n",
              "      filter: drop-shadow(0px 1px 2px rgba(0, 0, 0, 0.3));\n",
              "      fill: #FFFFFF;\n",
              "    }\n",
              "  </style>\n",
              "\n",
              "    <script>\n",
              "      const buttonEl =\n",
              "        document.querySelector('#df-358e1d32-675b-4c93-b3dd-bfaf088139e5 button.colab-df-convert');\n",
              "      buttonEl.style.display =\n",
              "        google.colab.kernel.accessAllowed ? 'block' : 'none';\n",
              "\n",
              "      async function convertToInteractive(key) {\n",
              "        const element = document.querySelector('#df-358e1d32-675b-4c93-b3dd-bfaf088139e5');\n",
              "        const dataTable =\n",
              "          await google.colab.kernel.invokeFunction('convertToInteractive',\n",
              "                                                    [key], {});\n",
              "        if (!dataTable) return;\n",
              "\n",
              "        const docLinkHtml = 'Like what you see? Visit the ' +\n",
              "          '<a target=\"_blank\" href=https://colab.research.google.com/notebooks/data_table.ipynb>data table notebook</a>'\n",
              "          + ' to learn more about interactive tables.';\n",
              "        element.innerHTML = '';\n",
              "        dataTable['output_type'] = 'display_data';\n",
              "        await google.colab.output.renderOutput(dataTable, element);\n",
              "        const docLink = document.createElement('div');\n",
              "        docLink.innerHTML = docLinkHtml;\n",
              "        element.appendChild(docLink);\n",
              "      }\n",
              "    </script>\n",
              "  </div>\n",
              "\n",
              "\n",
              "<div id=\"df-ad58315b-8347-4230-8576-d68a9a36205f\">\n",
              "  <button class=\"colab-df-quickchart\" onclick=\"quickchart('df-ad58315b-8347-4230-8576-d68a9a36205f')\"\n",
              "            title=\"Suggest charts\"\n",
              "            style=\"display:none;\">\n",
              "\n",
              "<svg xmlns=\"http://www.w3.org/2000/svg\" height=\"24px\"viewBox=\"0 0 24 24\"\n",
              "     width=\"24px\">\n",
              "    <g>\n",
              "        <path d=\"M19 3H5c-1.1 0-2 .9-2 2v14c0 1.1.9 2 2 2h14c1.1 0 2-.9 2-2V5c0-1.1-.9-2-2-2zM9 17H7v-7h2v7zm4 0h-2V7h2v10zm4 0h-2v-4h2v4z\"/>\n",
              "    </g>\n",
              "</svg>\n",
              "  </button>\n",
              "\n",
              "<style>\n",
              "  .colab-df-quickchart {\n",
              "      --bg-color: #E8F0FE;\n",
              "      --fill-color: #1967D2;\n",
              "      --hover-bg-color: #E2EBFA;\n",
              "      --hover-fill-color: #174EA6;\n",
              "      --disabled-fill-color: #AAA;\n",
              "      --disabled-bg-color: #DDD;\n",
              "  }\n",
              "\n",
              "  [theme=dark] .colab-df-quickchart {\n",
              "      --bg-color: #3B4455;\n",
              "      --fill-color: #D2E3FC;\n",
              "      --hover-bg-color: #434B5C;\n",
              "      --hover-fill-color: #FFFFFF;\n",
              "      --disabled-bg-color: #3B4455;\n",
              "      --disabled-fill-color: #666;\n",
              "  }\n",
              "\n",
              "  .colab-df-quickchart {\n",
              "    background-color: var(--bg-color);\n",
              "    border: none;\n",
              "    border-radius: 50%;\n",
              "    cursor: pointer;\n",
              "    display: none;\n",
              "    fill: var(--fill-color);\n",
              "    height: 32px;\n",
              "    padding: 0;\n",
              "    width: 32px;\n",
              "  }\n",
              "\n",
              "  .colab-df-quickchart:hover {\n",
              "    background-color: var(--hover-bg-color);\n",
              "    box-shadow: 0 1px 2px rgba(60, 64, 67, 0.3), 0 1px 3px 1px rgba(60, 64, 67, 0.15);\n",
              "    fill: var(--button-hover-fill-color);\n",
              "  }\n",
              "\n",
              "  .colab-df-quickchart-complete:disabled,\n",
              "  .colab-df-quickchart-complete:disabled:hover {\n",
              "    background-color: var(--disabled-bg-color);\n",
              "    fill: var(--disabled-fill-color);\n",
              "    box-shadow: none;\n",
              "  }\n",
              "\n",
              "  .colab-df-spinner {\n",
              "    border: 2px solid var(--fill-color);\n",
              "    border-color: transparent;\n",
              "    border-bottom-color: var(--fill-color);\n",
              "    animation:\n",
              "      spin 1s steps(1) infinite;\n",
              "  }\n",
              "\n",
              "  @keyframes spin {\n",
              "    0% {\n",
              "      border-color: transparent;\n",
              "      border-bottom-color: var(--fill-color);\n",
              "      border-left-color: var(--fill-color);\n",
              "    }\n",
              "    20% {\n",
              "      border-color: transparent;\n",
              "      border-left-color: var(--fill-color);\n",
              "      border-top-color: var(--fill-color);\n",
              "    }\n",
              "    30% {\n",
              "      border-color: transparent;\n",
              "      border-left-color: var(--fill-color);\n",
              "      border-top-color: var(--fill-color);\n",
              "      border-right-color: var(--fill-color);\n",
              "    }\n",
              "    40% {\n",
              "      border-color: transparent;\n",
              "      border-right-color: var(--fill-color);\n",
              "      border-top-color: var(--fill-color);\n",
              "    }\n",
              "    60% {\n",
              "      border-color: transparent;\n",
              "      border-right-color: var(--fill-color);\n",
              "    }\n",
              "    80% {\n",
              "      border-color: transparent;\n",
              "      border-right-color: var(--fill-color);\n",
              "      border-bottom-color: var(--fill-color);\n",
              "    }\n",
              "    90% {\n",
              "      border-color: transparent;\n",
              "      border-bottom-color: var(--fill-color);\n",
              "    }\n",
              "  }\n",
              "</style>\n",
              "\n",
              "  <script>\n",
              "    async function quickchart(key) {\n",
              "      const quickchartButtonEl =\n",
              "        document.querySelector('#' + key + ' button');\n",
              "      quickchartButtonEl.disabled = true;  // To prevent multiple clicks.\n",
              "      quickchartButtonEl.classList.add('colab-df-spinner');\n",
              "      try {\n",
              "        const charts = await google.colab.kernel.invokeFunction(\n",
              "            'suggestCharts', [key], {});\n",
              "      } catch (error) {\n",
              "        console.error('Error during call to suggestCharts:', error);\n",
              "      }\n",
              "      quickchartButtonEl.classList.remove('colab-df-spinner');\n",
              "      quickchartButtonEl.classList.add('colab-df-quickchart-complete');\n",
              "    }\n",
              "    (() => {\n",
              "      let quickchartButtonEl =\n",
              "        document.querySelector('#df-ad58315b-8347-4230-8576-d68a9a36205f button');\n",
              "      quickchartButtonEl.style.display =\n",
              "        google.colab.kernel.accessAllowed ? 'block' : 'none';\n",
              "    })();\n",
              "  </script>\n",
              "</div>\n",
              "\n",
              "    </div>\n",
              "  </div>\n"
            ],
            "application/vnd.google.colaboratory.intrinsic+json": {
              "type": "dataframe",
              "variable_name": "dataset",
              "summary": "{\n  \"name\": \"dataset\",\n  \"rows\": 63257,\n  \"fields\": [\n    {\n      \"column\": \"rating\",\n      \"properties\": {\n        \"dtype\": \"number\",\n        \"std\": 1,\n        \"min\": 1,\n        \"max\": 5,\n        \"num_unique_values\": 5,\n        \"samples\": [\n          5,\n          2,\n          3\n        ],\n        \"semantic_type\": \"\",\n        \"description\": \"\"\n      }\n    },\n    {\n      \"column\": \"review_id\",\n      \"properties\": {\n        \"dtype\": \"number\",\n        \"std\": 148392011,\n        \"min\": 110714,\n        \"max\": 564328486,\n        \"num_unique_values\": 60152,\n        \"samples\": [\n          516240794,\n          320129080,\n          430078256\n        ],\n        \"semantic_type\": \"\",\n        \"description\": \"\"\n      }\n    },\n    {\n      \"column\": \"user_id\",\n      \"properties\": {\n        \"dtype\": \"number\",\n        \"std\": 3971315,\n        \"min\": 5665,\n        \"max\": 18435738,\n        \"num_unique_values\": 16486,\n        \"samples\": [\n          14760638,\n          12058733,\n          17735856\n        ],\n        \"semantic_type\": \"\",\n        \"description\": \"\"\n      }\n    },\n    {\n      \"column\": \"book_id\",\n      \"properties\": {\n        \"dtype\": \"number\",\n        \"std\": 3931956,\n        \"min\": 151,\n        \"max\": 17560408,\n        \"num_unique_values\": 2131,\n        \"samples\": [\n          6293949,\n          875983,\n          13569414\n        ],\n        \"semantic_type\": \"\",\n        \"description\": \"\"\n      }\n    },\n    {\n      \"column\": \"review\",\n      \"properties\": {\n        \"dtype\": \"string\",\n        \"num_unique_values\": 60090,\n        \"samples\": [\n          \" \\u0631\\u0648\\u0627\\u064a\\u0647 \\u0631\\u0627\\u0626\\u0639\\u0647 \\u062a\\u0638\\u0647\\u0631 \\u0631\\u062d\\u0644\\u0647 \\u0627\\u062f\\u0645\\u0627\\u0646 \\u0634\\u0627\\u0628 \\u0641\\u064a \\u0631\\u0648\\u0627\\u064a\\u0647 \\u0631\\u0627\\u0626\\u0639\\u0647\",\n          \" \\u0623\\u062d\\u0628\\u0628 \\u0647\\u0630\\u0627 \\u0627\\u0644\\u0643\\u062a\\u0627\\u0628 \\u060c \\u0623\\u062d\\u0628\\u0628\\u062a\\u0647 \\u062c\\u062f\\u0627\\u064b \\u062c\\u062f\\u0627\\u064b \\u0648\\u0646\\u0635\\u062d\\u062a \\u0628\\u0647 \\u0627\\u0644\\u0643\\u062b\\u064a\\u0631\\u060c \\u0644\\u0631\\u0628\\u0645\\u0627 \\u0643\\u0627\\u0646\\u062a \\u0627\\u0644\\u0644\\u063a\\u0629 \\u0627\\u0644\\u0628\\u0633\\u064a\\u0637\\u0629 \\u0647\\u064a \\u0627\\u0644\\u0633\\u0628\\u0628 \\u0648\\u0644\\u0631\\u0628\\u0645\\u0627 \\u0643\\u0627\\u0646 \\u0627\\u0644\\u0648\\u0627\\u0642\\u0639 \\u0627\\u0644\\u0630\\u064a \\u064a\\u062d\\u0643\\u064a\\u0647 \\u0627\\u0644\\u0643\\u062a\\u0627\\u0628 \\u064a\\u062a\\u0645\\u062b\\u0644 \\u0641\\u064a \\u0623\\u0634\\u064a\\u0627\\u0621 \\u0623\\u062f\\u0631\\u0643\\u0647\\u0627 \\u0648\\u0623\\u0639\\u064a\\u0647\\u0627 \\u0648\\u0642\\u062f \\u0627\\u0643\\u0648\\u0646 \\u0645\\u0645\\u0646 \\u064a\\u0645\\u062b\\u0644\\u0648\\u0646 \\u0630\\u0644\\u0643 \\u0627\\u0644\\u0648\\u0627\\u0642\\u0639 \\u0643\\u0646\\u062a \\u0623\\u0642\\u0631\\u0623\\u0647 \\u0641\\u064a \\u0627\\u0644\\u0635\\u0628\\u0627\\u062d \\u062d\\u064a\\u0646 \\u0623\\u0631\\u062a\\u0634\\u0641 \\u0627\\u0644\\u0642\\u0647\\u0648\\u0629 \\u060c \\u0648\\u0623\\u062a\\u0630\\u0643\\u0631 \\u0645\\u0627 \\u0643\\u062a\\u0628\\u0647 \\u0639\\u0646 \\u0627\\u0644\\u0642\\u0647\\u0648\\u0629 () \\u060c \\u0639\\u0646 \\u0627\\u0644\\u062a\\u0635\\u0627\\u0644\\u062d \\u0645\\u0639 \\u0627\\u0644\\u0630\\u0627\\u062a \\u0639\\u0646 \\u0627\\u0644\\u0645\\u0628\\u062f\\u0639\\u064a\\u0646 \\u060c \\u0627\\u0628\\u062f\\u0639 \\u064a\\u0627\\u0633\\u0631 \\u0641\\u064a \\u062d\\u0631\\u0641\\u0647 \\u0627\\u0628\\u062f\\u0639 \\u0631\\u0633\\u0645\\u0647 \\u0648\\u062e\\u0637\\u0627\\u0637\\u062a\\u0647 \\u0627\\u062a\\u0630\\u0643\\u0631 \\u062d\\u064a\\u0646\\u0645\\u0627 \\u062a\\u062d\\u062f\\u062b \\u0628\\u0627\\u0648\\u0644\\u0648 \\u0643\\u064a\\u0644\\u0648\\u0644\\u0648 \\u0648\\u0639\\u0646 \\u0627\\u0644\\u0633\\u0647\\u0645 \\u0648\\u0643\\u064a\\u0641 \\u0643\\u0627\\u0646 \\u0627\\u0648\\u0644 \\u0645\\u0646 \\u064a\\u0635\\u064a\\u0628\\u0647 \\u060c \\u0643\\u062a\\u0627\\u0628 \\u0645\\u0646 \\u0627\\u0645\\u062a\\u0639 \\u0645\\u0627 \\u064a\\u0643\\u0648\\u0646 \\u060c \\u0633\\u0644\\u0633\\u0644 \\u0644\\u0644\\u063a\\u0627\\u064a\\u0647 \\u0648\\u062a\\u0633\\u062a\\u0631\\u0633\\u0644 \\u0641\\u064a \\u0642\\u0631\\u0623\\u062a\\u0647 \\u0633\\u0631\\u064a\\u0639\\u0627\\u064b \\u062c\\u0645\\u064a\\u0644 \\u062c\\u062f\\u0627\\u064b () \",\n          \" \\u0627\\u0644\\u0643\\u062a\\u0627\\u0628 \\u0631\\u0627\\u0626\\u0639 \\u062c\\u062f\\u0627 \\u062a\\u062f\\u0631\\u062c \\u0641\\u064a\\u0647 \\u0627\\u0644\\u0643\\u0627\\u062a\\u0628 \\u0641\\u064a \\u0627\\u0644\\u062d\\u062f\\u064a\\u062b \\u0639\\u0646 \\u062d\\u064a\\u0627\\u062a\\u0647 \\u0628\\u062f\\u0623 \\u0645\\u0646 \\u0646\\u0634\\u0623\\u062a\\u0647 \\u0641\\u064a \\u062f\\u0645\\u0646\\u0647\\u0648\\u0631 \\u0648\\u0645\\u0631\\u0648\\u0631\\u0627 \\u0628\\u0625\\u0644\\u062a\\u062d\\u0627\\u0642\\u0647 \\u0628\\u0627\\u0644\\u062c\\u0627\\u0645\\u0639\\u0629 \\u062b\\u0645 \\u0628\\u0639\\u062b\\u062a\\u0647 \\u0641\\u064a \\u0627\\u0644\\u0648\\u0644\\u0627\\u064a\\u0627\\u062a \\u0627\\u0644\\u0645\\u062a\\u062d\\u062f\\u0629 \\u0648\\u0646\\u062c\\u062f \\u0641\\u064a \\u0627\\u0644\\u0643\\u062a\\u0627\\u0628 \\u0645\\u0642\\u0627\\u0631\\u0646\\u0629 \\u0628\\u064a\\u0646 \\u0628\\u0639\\u0636 \\u0645\\u0638\\u0627\\u0647\\u0631 \\u0627\\u0644\\u062d\\u064a\\u0627\\u0629 \\u0641\\u064a \\u0645\\u0635\\u0631 \\u0648\\u0627\\u0644\\u0628\\u0644\\u0627\\u062f \\u0627\\u0644\\u0623\\u062c\\u0646\\u0628\\u064a\\u0629 \\u0648\\u0627\\u0644\\u0643\\u062a\\u0627\\u0628 \\u0627\\u064a\\u0636\\u0627 \\u064a\\u0648\\u0636\\u062d \\u0627\\u0646 \\u0627\\u0644\\u0627\\u0633\\u0631\\u0629 \\u0627\\u0644\\u0645\\u0635\\u0631\\u064a\\u0629 \\u0644\\u0627 \\u062a\\u062a\\u063a\\u064a\\u0631 \\u0639\\u0644\\u0649 \\u0645\\u0631 \\u0627\\u0644\\u0639\\u0635\\u0648\\u0631 :))))))))))\"\n        ],\n        \"semantic_type\": \"\",\n        \"description\": \"\"\n      }\n    }\n  ]\n}"
            }
          },
          "metadata": {},
          "execution_count": 6
        }
      ],
      "source": [
        "# loading the tsv file\n",
        "SEED = 21\n",
        "\n",
        "dataset = pd.read_csv(\"/content/drive/MyDrive/Parcours Academique/ENSAM/PFA/datasets/LABR/reviews.tsv\", sep = '\\t', header=None, names = [\"rating\",\"review_id\",\"user_id\",\"book_id\",\"review\"])\n",
        "\n",
        "dataset = dataset.sample(frac=1, random_state = SEED)\n",
        "\n",
        "\n",
        "dataset = dataset.sample(frac=1).reset_index(drop=True)\n",
        "\n",
        "\n",
        "dataset.head(20)"
      ]
    },
    {
      "cell_type": "code",
      "execution_count": 7,
      "metadata": {
        "colab": {
          "base_uri": "https://localhost:8080/"
        },
        "id": "0PXk2vg2zJK-",
        "outputId": "f8e1874d-11ad-486a-8a91-7b297b61f269"
      },
      "outputs": [
        {
          "output_type": "stream",
          "name": "stdout",
          "text": [
            "   rating  review_id   user_id   book_id  \\\n",
            "0       4  202842568   6064435   3692091   \n",
            "1       5  143235856   4865181   7375409   \n",
            "2       4  276455328   5088542  13482280   \n",
            "3       5  398184231  10657567   3503947   \n",
            "4       4  132825053   4374579   8994051   \n",
            "\n",
            "                                              review  \n",
            "0   الكتاب ده فعلا عبقري في البدايه حصلي نوع من ا...  \n",
            "1                حتماً لا يمكنني أن أختزلها في وصف .  \n",
            "2   كتاب جميل جمع فيه الاستاذ عبدالرحمن المصطاوي ...  \n",
            "3   لاول مرة تجذبني رواية لانهائها بهذا الشكل و ش...  \n",
            "4   أقصوصة في شكل رسائل من الراوي المصاب بألزهايم...  \n"
          ]
        }
      ],
      "source": [
        "# checking the first 5 rows of the dataset\n",
        "\n",
        "print(dataset.head())"
      ]
    },
    {
      "cell_type": "code",
      "execution_count": 8,
      "metadata": {
        "id": "r19mPQ0vzJLE",
        "outputId": "606c04b6-65e6-423f-eab1-be6f99bf2799",
        "colab": {
          "base_uri": "https://localhost:8080/"
        }
      },
      "outputs": [
        {
          "output_type": "stream",
          "name": "stdout",
          "text": [
            "   rating  review_id   user_id   book_id  \\\n",
            "0       4  202842568   6064435   3692091   \n",
            "1       5  143235856   4865181   7375409   \n",
            "2       4  276455328   5088542  13482280   \n",
            "3       5  398184231  10657567   3503947   \n",
            "4       4  132825053   4374579   8994051   \n",
            "\n",
            "                                              review  \n",
            "0   الكتاب ده فعلا عبقري في البدايه حصلي نوع من ا...  \n",
            "1                حتماً لا يمكنني أن أختزلها في وصف .  \n",
            "2   كتاب جميل جمع فيه الاستاذ عبدالرحمن المصطاوي ...  \n",
            "3   لاول مرة تجذبني رواية لانهائها بهذا الشكل و ش...  \n",
            "4   أقصوصة في شكل رسائل من الراوي المصاب بألزهايم...  \n"
          ]
        }
      ],
      "source": [
        "# checking the first 5 rows of the dataset\n",
        "\n",
        "print(dataset.head())"
      ]
    },
    {
      "cell_type": "code",
      "execution_count": 9,
      "metadata": {
        "colab": {
          "base_uri": "https://localhost:8080/"
        },
        "id": "Y6WHK4PGzJLF",
        "outputId": "ade973f4-1808-4f62-da0a-4a6ec9e105ef"
      },
      "outputs": [
        {
          "output_type": "stream",
          "name": "stdout",
          "text": [
            "(63257, 5)\n"
          ]
        }
      ],
      "source": [
        "# checking the shape of the dataset\n",
        "\n",
        "print(dataset.shape)"
      ]
    },
    {
      "cell_type": "code",
      "execution_count": 10,
      "metadata": {
        "colab": {
          "base_uri": "https://localhost:8080/"
        },
        "id": "_RkunzpmzJLG",
        "outputId": "31b9c061-d358-4db6-e8d2-35d320dc6ddc"
      },
      "outputs": [
        {
          "output_type": "stream",
          "name": "stdout",
          "text": [
            "<class 'pandas.core.frame.DataFrame'>\n",
            "RangeIndex: 63257 entries, 0 to 63256\n",
            "Data columns (total 5 columns):\n",
            " #   Column     Non-Null Count  Dtype \n",
            "---  ------     --------------  ----- \n",
            " 0   rating     63257 non-null  int64 \n",
            " 1   review_id  63257 non-null  int64 \n",
            " 2   user_id    63257 non-null  int64 \n",
            " 3   book_id    63257 non-null  int64 \n",
            " 4   review     63257 non-null  object\n",
            "dtypes: int64(4), object(1)\n",
            "memory usage: 2.4+ MB\n",
            "None\n"
          ]
        }
      ],
      "source": [
        "# checking the info of the dataset\n",
        "\n",
        "print(dataset.info())"
      ]
    },
    {
      "cell_type": "code",
      "execution_count": 11,
      "metadata": {
        "colab": {
          "base_uri": "https://localhost:8080/"
        },
        "id": "mJgxvSabzJLI",
        "outputId": "ca5a0c1c-4db0-4672-e3c5-d1080494b4d3"
      },
      "outputs": [
        {
          "output_type": "stream",
          "name": "stdout",
          "text": [
            "             rating     review_id       user_id       book_id\n",
            "count  63257.000000  6.325700e+04  6.325700e+04  6.325700e+04\n",
            "mean       3.876535  3.203361e+08  6.965693e+06  6.424708e+06\n",
            "std        1.142758  1.483920e+08  3.971315e+06  3.931956e+06\n",
            "min        1.000000  1.107140e+05  5.665000e+03  1.510000e+02\n",
            "25%        3.000000  1.848829e+08  4.030159e+06  3.437956e+06\n",
            "50%        4.000000  3.343937e+08  5.873259e+06  5.977699e+06\n",
            "75%        5.000000  4.485754e+08  9.117897e+06  8.013943e+06\n",
            "max        5.000000  5.643285e+08  1.843574e+07  1.756041e+07\n"
          ]
        }
      ],
      "source": [
        "# checking the description of the dataset\n",
        "\n",
        "print(dataset.describe())"
      ]
    },
    {
      "cell_type": "code",
      "execution_count": 12,
      "metadata": {
        "colab": {
          "base_uri": "https://localhost:8080/"
        },
        "id": "iPaDxqjyzJLJ",
        "outputId": "3e2e588b-93af-498c-f573-f553aee157b5"
      },
      "outputs": [
        {
          "output_type": "stream",
          "name": "stdout",
          "text": [
            "rating       0\n",
            "review_id    0\n",
            "user_id      0\n",
            "book_id      0\n",
            "review       0\n",
            "dtype: int64\n"
          ]
        }
      ],
      "source": [
        "# checking the missing values in the dataset\n",
        "\n",
        "print(dataset.isnull().sum())"
      ]
    },
    {
      "cell_type": "code",
      "execution_count": 13,
      "metadata": {
        "colab": {
          "base_uri": "https://localhost:8080/"
        },
        "id": "J7Fdr5QHzJLK",
        "outputId": "10a9f749-54f9-4966-812e-aa2ac87fd8b8"
      },
      "outputs": [
        {
          "output_type": "stream",
          "name": "stdout",
          "text": [
            "rating           5\n",
            "review_id    60152\n",
            "user_id      16486\n",
            "book_id       2131\n",
            "review       60090\n",
            "dtype: int64\n"
          ]
        }
      ],
      "source": [
        "# checking the unique values in the dataset\n",
        "\n",
        "print(dataset.nunique())"
      ]
    },
    {
      "cell_type": "code",
      "execution_count": 14,
      "metadata": {
        "colab": {
          "base_uri": "https://localhost:8080/"
        },
        "id": "NbSCEHPfzJLN",
        "outputId": "1a3df793-faa4-47f7-b538-b41bc277096b"
      },
      "outputs": [
        {
          "output_type": "stream",
          "name": "stdout",
          "text": [
            "rating\n",
            "5    23778\n",
            "4    19054\n",
            "3    12201\n",
            "2     5285\n",
            "1     2939\n",
            "Name: count, dtype: int64\n"
          ]
        }
      ],
      "source": [
        "# checking the distribution of the rating column\n",
        "\n",
        "print(dataset['rating'].value_counts())"
      ]
    },
    {
      "cell_type": "code",
      "execution_count": 15,
      "metadata": {
        "id": "HjT347LBzJLO",
        "outputId": "c0bf91cc-77a2-42d1-c80b-0ec3146809af",
        "colab": {
          "base_uri": "https://localhost:8080/"
        }
      },
      "outputs": [
        {
          "output_type": "stream",
          "name": "stdout",
          "text": [
            "rating\n",
            "5    37.589516\n",
            "4    30.121568\n",
            "3    19.287984\n",
            "2     8.354807\n",
            "1     4.646126\n",
            "Name: proportion, dtype: float64\n"
          ]
        }
      ],
      "source": [
        "# checking the distribution of the rating column\n",
        "\n",
        "print(dataset['rating'].value_counts(normalize=True) * 100)"
      ]
    },
    {
      "cell_type": "code",
      "execution_count": 16,
      "metadata": {
        "id": "nIBcsplhzJLQ",
        "outputId": "23ff03d5-a144-42f4-a825-eaee4b189bbd",
        "colab": {
          "base_uri": "https://localhost:8080/",
          "height": 462
        }
      },
      "outputs": [
        {
          "output_type": "stream",
          "name": "stdout",
          "text": [
            "Axes(0.125,0.11;0.775x0.77)\n"
          ]
        },
        {
          "output_type": "display_data",
          "data": {
            "text/plain": [
              "<Figure size 640x480 with 1 Axes>"
            ],
            "image/png": "[encoded data removed]"
          },
          "metadata": {}
        }
      ],
      "source": [
        "# checking the distribution of the rating column\n",
        "\n",
        "print(dataset['rating'].value_counts(normalize=True).plot(kind='bar'))"
      ]
    },
    {
      "cell_type": "markdown",
      "metadata": {
        "id": "RVcZGXc5zJLS"
      },
      "source": [
        "### Preprocessing"
      ]
    },
    {
      "cell_type": "code",
      "execution_count": 17,
      "metadata": {
        "id": "xnySv4cizJLT"
      },
      "outputs": [],
      "source": [
        "# dropping unecessary columns\n",
        "\n",
        "dataset = dataset.drop(['review_id','user_id','book_id'], axis=1)"
      ]
    },
    {
      "cell_type": "code",
      "execution_count": 18,
      "metadata": {
        "id": "lEgLW0NRzJLX",
        "colab": {
          "base_uri": "https://localhost:8080/"
        },
        "outputId": "a0b78c25-89cc-4530-e4d5-db2617f3aea7"
      },
      "outputs": [
        {
          "output_type": "stream",
          "name": "stdout",
          "text": [
            "   rating                                             review\n",
            "0       4   الكتاب ده فعلا عبقري في البدايه حصلي نوع من ا...\n",
            "1       5                حتماً لا يمكنني أن أختزلها في وصف .\n",
            "2       4   كتاب جميل جمع فيه الاستاذ عبدالرحمن المصطاوي ...\n",
            "3       5   لاول مرة تجذبني رواية لانهائها بهذا الشكل و ش...\n",
            "4       4   أقصوصة في شكل رسائل من الراوي المصاب بألزهايم...\n"
          ]
        }
      ],
      "source": [
        "# checking the first 5 rows of the dataset\n",
        "\n",
        "print(dataset.head())"
      ]
    },
    {
      "cell_type": "code",
      "execution_count": 19,
      "metadata": {
        "id": "UeOOKPmSzJLY",
        "outputId": "232369fe-68e9-43f1-cbdb-277339e15ad5",
        "colab": {
          "base_uri": "https://localhost:8080/"
        }
      },
      "outputs": [
        {
          "output_type": "stream",
          "name": "stdout",
          "text": [
            "   rating                                             review\n",
            "0       4   الكتاب ده فعلا عبقري في البدايه حصلي نوع من ا...\n",
            "1       5                حتماً لا يمكنني أن أختزلها في وصف .\n",
            "2       4   كتاب جميل جمع فيه الاستاذ عبدالرحمن المصطاوي ...\n",
            "3       5   لاول مرة تجذبني رواية لانهائها بهذا الشكل و ش...\n",
            "4       4   أقصوصة في شكل رسائل من الراوي المصاب بألزهايم...\n"
          ]
        }
      ],
      "source": [
        "# dropping the duplicated review\n",
        "\n",
        "# checking fo duplicates in review\n",
        "\n",
        "dataset = dataset.drop_duplicates(subset='review', keep='first')\n",
        "\n",
        "# checking the first 5 rows of the dataset\n",
        "\n",
        "print(dataset.head())"
      ]
    },
    {
      "cell_type": "code",
      "execution_count": 20,
      "metadata": {
        "id": "6SPTFfHDzJLa",
        "outputId": "51232515-7c48-4b4b-8f50-4ee976db3027",
        "colab": {
          "base_uri": "https://localhost:8080/"
        }
      },
      "outputs": [
        {
          "output_type": "stream",
          "name": "stdout",
          "text": [
            "Number of duplicate reviews: 0\n"
          ]
        }
      ],
      "source": [
        "# Check for duplicates\n",
        "duplicates = dataset.duplicated(subset='review', keep='first')\n",
        "\n",
        "# Print the number of duplicates\n",
        "print(f\"Number of duplicate reviews: {duplicates.sum()}\")"
      ]
    },
    {
      "cell_type": "markdown",
      "metadata": {
        "id": "ep2HhH0kzJLe"
      },
      "source": [
        "### Data cleaning"
      ]
    },
    {
      "cell_type": "code",
      "execution_count": 21,
      "metadata": {
        "id": "su6VBP1PzJLg"
      },
      "outputs": [],
      "source": [
        "import re\n",
        "import string\n",
        "import nltk"
      ]
    },
    {
      "cell_type": "code",
      "execution_count": 22,
      "metadata": {
        "id": "AMK4SH50zJLs"
      },
      "outputs": [],
      "source": [
        "# removing links\n",
        "\n",
        "pattern = r'https?://\\S+'\n",
        "dataset[\"review\"] = dataset[\"review\"].apply(lambda document: re.sub(pattern, '', document))"
      ]
    },
    {
      "cell_type": "code",
      "execution_count": 23,
      "metadata": {
        "id": "duR-DXaCzJLt"
      },
      "outputs": [],
      "source": [
        "# removing hashtags\n",
        "\n",
        "pattern = r'#([\\w\\u0600-\\u06FF]+)'\n",
        "dataset[\"review\"] = dataset[\"review\"].apply(lambda document: re.sub(pattern, '', document))"
      ]
    },
    {
      "cell_type": "code",
      "execution_count": 24,
      "metadata": {
        "id": "3Cdn1VeazJLu"
      },
      "outputs": [],
      "source": [
        "# removing whitespaces\n",
        "\n",
        "pattern = r'\\s+|\\n+'\n",
        "dataset[\"review\"] = dataset[\"review\"].apply(lambda document: re.sub(pattern, ' ', document))"
      ]
    },
    {
      "cell_type": "code",
      "execution_count": 25,
      "metadata": {
        "id": "kumKmvQgzJLx"
      },
      "outputs": [],
      "source": [
        "# removing foreign words\n",
        "\n",
        "pattern = r'[a-zA-Z]+'\n",
        "dataset[\"review\"] = dataset[\"review\"].apply(lambda document: re.sub(pattern, '', document))"
      ]
    },
    {
      "cell_type": "code",
      "execution_count": 26,
      "metadata": {
        "id": "Q2CzjP8EzJLx"
      },
      "outputs": [],
      "source": [
        "# removing punctuations\n",
        "\n",
        "pattern = r'[^\\w\\s\\u0600-\\u06FF]+|ﷺ|۩|⓵|؟|۞|ﷻ'\n",
        "dataset[\"review\"] = dataset[\"review\"].apply(lambda document: re.sub(pattern, '', document))"
      ]
    },
    {
      "cell_type": "code",
      "execution_count": 27,
      "metadata": {
        "id": "Qx5shCyjzJLy"
      },
      "outputs": [],
      "source": [
        "# removing consecutive characters\n",
        "\n",
        "pattern = r'(.)\\1+'\n",
        "dataset[\"review\"] = dataset[\"review\"].apply(lambda document: re.sub(pattern, r'\\1', document))"
      ]
    },
    {
      "cell_type": "code",
      "source": [
        "!pip install pyarabic"
      ],
      "metadata": {
        "colab": {
          "base_uri": "https://localhost:8080/"
        },
        "id": "ugMm-7rV6N4E",
        "outputId": "20634d0c-c4d3-403b-d650-b0878b1a1831"
      },
      "execution_count": 28,
      "outputs": [
        {
          "output_type": "stream",
          "name": "stdout",
          "text": [
            "Requirement already satisfied: pyarabic in /usr/local/lib/python3.10/dist-packages (0.6.15)\n",
            "Requirement already satisfied: six>=1.14.0 in /usr/local/lib/python3.10/dist-packages (from pyarabic) (1.16.0)\n"
          ]
        }
      ]
    },
    {
      "cell_type": "code",
      "source": [
        "!pip install Arabic-Stopwords"
      ],
      "metadata": {
        "colab": {
          "base_uri": "https://localhost:8080/"
        },
        "id": "k-TCgua06j8i",
        "outputId": "df7d2954-148c-4db4-e6bb-7b2d444bd729"
      },
      "execution_count": 29,
      "outputs": [
        {
          "output_type": "stream",
          "name": "stdout",
          "text": [
            "Requirement already satisfied: Arabic-Stopwords in /usr/local/lib/python3.10/dist-packages (0.4.3)\n",
            "Requirement already satisfied: pyarabic>=0.6.2 in /usr/local/lib/python3.10/dist-packages (from Arabic-Stopwords) (0.6.15)\n",
            "Requirement already satisfied: six>=1.14.0 in /usr/local/lib/python3.10/dist-packages (from pyarabic>=0.6.2->Arabic-Stopwords) (1.16.0)\n"
          ]
        }
      ]
    },
    {
      "cell_type": "code",
      "source": [
        "import arabicstopwords.arabicstopwords as stp\n",
        "from nltk.corpus import stopwords\n",
        "from nltk.stem.isri import ISRIStemmer\n",
        "nltk.download('stopwords')"
      ],
      "metadata": {
        "colab": {
          "base_uri": "https://localhost:8080/"
        },
        "id": "9zer0GKd6UpJ",
        "outputId": "8e8cd03f-657b-4425-8eef-6eb42a8f7493"
      },
      "execution_count": 30,
      "outputs": [
        {
          "output_type": "stream",
          "name": "stderr",
          "text": [
            "[nltk_data] Downloading package stopwords to /root/nltk_data...\n",
            "[nltk_data]   Package stopwords is already up-to-date!\n"
          ]
        },
        {
          "output_type": "execute_result",
          "data": {
            "text/plain": [
              "True"
            ]
          },
          "metadata": {},
          "execution_count": 30
        }
      ]
    },
    {
      "cell_type": "code",
      "execution_count": 31,
      "metadata": {
        "id": "io-P9zrgzJL1"
      },
      "outputs": [],
      "source": [
        "# stop words removal\n",
        "\n",
        "stemmer = ISRIStemmer()\n",
        "\n",
        "arabic_stopwords = stopwords.words('arabic')\n",
        "arabic_stopwords.extend(stp.stopwords_list())\n",
        "stop_words = {entry for entry in arabic_stopwords}\n",
        "\n",
        "with open(\"/content/drive/MyDrive/Parcours Academique/ENSAM/PFA/arabic_stopwords.txt\", \"r\", encoding=\"UTF-8\") as file:\n",
        "    for word in file:\n",
        "        stop_words.add(stemmer.stem(word.strip()))\n",
        "\n",
        "dataset[\"review\"] = dataset[\"review\"].apply(lambda document: ' '.join([word for word in document.split() if word not in stop_words]))"
      ]
    },
    {
      "cell_type": "code",
      "execution_count": 32,
      "metadata": {
        "id": "OJkSMMEUzJL3",
        "outputId": "dc61115a-fa57-4f38-e101-20249feb04c4",
        "colab": {
          "base_uri": "https://localhost:8080/",
          "height": 206
        }
      },
      "outputs": [
        {
          "output_type": "execute_result",
          "data": {
            "text/plain": [
              "   rating                                             review\n",
              "0       4  الكتاب ده فعلا عبقري البدايه حصلي نوع انواع ال...\n",
              "1       5                            حتماً يمكني أختزلها وصف\n",
              "2       4  كتاب جميل الاستاذ عبدالرحمن المصطاوي أبيات قصا...\n",
              "3       5  لاول تجذبني رواية لانهائها الشكل شجعتني قراءة ...\n",
              "4       4  أقصوصة رسائل الراوي المصاب بألزهايمر زوجته، تص..."
            ],
            "text/html": [
              "\n",
              "  <div id=\"df-5b8c07e0-3b36-4bee-b545-57553c5aff7c\" class=\"colab-df-container\">\n",
              "    <div>\n",
              "<style scoped>\n",
              "    .dataframe tbody tr th:only-of-type {\n",
              "        vertical-align: middle;\n",
              "    }\n",
              "\n",
              "    .dataframe tbody tr th {\n",
              "        vertical-align: top;\n",
              "    }\n",
              "\n",
              "    .dataframe thead th {\n",
              "        text-align: right;\n",
              "    }\n",
              "</style>\n",
              "<table border=\"1\" class=\"dataframe\">\n",
              "  <thead>\n",
              "    <tr style=\"text-align: right;\">\n",
              "      <th></th>\n",
              "      <th>rating</th>\n",
              "      <th>review</th>\n",
              "    </tr>\n",
              "  </thead>\n",
              "  <tbody>\n",
              "    <tr>\n",
              "      <th>0</th>\n",
              "      <td>4</td>\n",
              "      <td>الكتاب ده فعلا عبقري البدايه حصلي نوع انواع ال...</td>\n",
              "    </tr>\n",
              "    <tr>\n",
              "      <th>1</th>\n",
              "      <td>5</td>\n",
              "      <td>حتماً يمكني أختزلها وصف</td>\n",
              "    </tr>\n",
              "    <tr>\n",
              "      <th>2</th>\n",
              "      <td>4</td>\n",
              "      <td>كتاب جميل الاستاذ عبدالرحمن المصطاوي أبيات قصا...</td>\n",
              "    </tr>\n",
              "    <tr>\n",
              "      <th>3</th>\n",
              "      <td>5</td>\n",
              "      <td>لاول تجذبني رواية لانهائها الشكل شجعتني قراءة ...</td>\n",
              "    </tr>\n",
              "    <tr>\n",
              "      <th>4</th>\n",
              "      <td>4</td>\n",
              "      <td>أقصوصة رسائل الراوي المصاب بألزهايمر زوجته، تص...</td>\n",
              "    </tr>\n",
              "  </tbody>\n",
              "</table>\n",
              "</div>\n",
              "    <div class=\"colab-df-buttons\">\n",
              "\n",
              "  <div class=\"colab-df-container\">\n",
              "    <button class=\"colab-df-convert\" onclick=\"convertToInteractive('df-5b8c07e0-3b36-4bee-b545-57553c5aff7c')\"\n",
              "            title=\"Convert this dataframe to an interactive table.\"\n",
              "            style=\"display:none;\">\n",
              "\n",
              "  <svg xmlns=\"http://www.w3.org/2000/svg\" height=\"24px\" viewBox=\"0 -960 960 960\">\n",
              "    <path d=\"M120-120v-720h720v720H120Zm60-500h600v-160H180v160Zm220 220h160v-160H400v160Zm0 220h160v-160H400v160ZM180-400h160v-160H180v160Zm440 0h160v-160H620v160ZM180-180h160v-160H180v160Zm440 0h160v-160H620v160Z\"/>\n",
              "  </svg>\n",
              "    </button>\n",
              "\n",
              "  <style>\n",
              "    .colab-df-container {\n",
              "      display:flex;\n",
              "      gap: 12px;\n",
              "    }\n",
              "\n",
              "    .colab-df-convert {\n",
              "      background-color: #E8F0FE;\n",
              "      border: none;\n",
              "      border-radius: 50%;\n",
              "      cursor: pointer;\n",
              "      display: none;\n",
              "      fill: #1967D2;\n",
              "      height: 32px;\n",
              "      padding: 0 0 0 0;\n",
              "      width: 32px;\n",
              "    }\n",
              "\n",
              "    .colab-df-convert:hover {\n",
              "      background-color: #E2EBFA;\n",
              "      box-shadow: 0px 1px 2px rgba(60, 64, 67, 0.3), 0px 1px 3px 1px rgba(60, 64, 67, 0.15);\n",
              "      fill: #174EA6;\n",
              "    }\n",
              "\n",
              "    .colab-df-buttons div {\n",
              "      margin-bottom: 4px;\n",
              "    }\n",
              "\n",
              "    [theme=dark] .colab-df-convert {\n",
              "      background-color: #3B4455;\n",
              "      fill: #D2E3FC;\n",
              "    }\n",
              "\n",
              "    [theme=dark] .colab-df-convert:hover {\n",
              "      background-color: #434B5C;\n",
              "      box-shadow: 0px 1px 3px 1px rgba(0, 0, 0, 0.15);\n",
              "      filter: drop-shadow(0px 1px 2px rgba(0, 0, 0, 0.3));\n",
              "      fill: #FFFFFF;\n",
              "    }\n",
              "  </style>\n",
              "\n",
              "    <script>\n",
              "      const buttonEl =\n",
              "        document.querySelector('#df-5b8c07e0-3b36-4bee-b545-57553c5aff7c button.colab-df-convert');\n",
              "      buttonEl.style.display =\n",
              "        google.colab.kernel.accessAllowed ? 'block' : 'none';\n",
              "\n",
              "      async function convertToInteractive(key) {\n",
              "        const element = document.querySelector('#df-5b8c07e0-3b36-4bee-b545-57553c5aff7c');\n",
              "        const dataTable =\n",
              "          await google.colab.kernel.invokeFunction('convertToInteractive',\n",
              "                                                    [key], {});\n",
              "        if (!dataTable) return;\n",
              "\n",
              "        const docLinkHtml = 'Like what you see? Visit the ' +\n",
              "          '<a target=\"_blank\" href=https://colab.research.google.com/notebooks/data_table.ipynb>data table notebook</a>'\n",
              "          + ' to learn more about interactive tables.';\n",
              "        element.innerHTML = '';\n",
              "        dataTable['output_type'] = 'display_data';\n",
              "        await google.colab.output.renderOutput(dataTable, element);\n",
              "        const docLink = document.createElement('div');\n",
              "        docLink.innerHTML = docLinkHtml;\n",
              "        element.appendChild(docLink);\n",
              "      }\n",
              "    </script>\n",
              "  </div>\n",
              "\n",
              "\n",
              "<div id=\"df-3f64ad9a-538b-4876-99ce-f145a97bc0fb\">\n",
              "  <button class=\"colab-df-quickchart\" onclick=\"quickchart('df-3f64ad9a-538b-4876-99ce-f145a97bc0fb')\"\n",
              "            title=\"Suggest charts\"\n",
              "            style=\"display:none;\">\n",
              "\n",
              "<svg xmlns=\"http://www.w3.org/2000/svg\" height=\"24px\"viewBox=\"0 0 24 24\"\n",
              "     width=\"24px\">\n",
              "    <g>\n",
              "        <path d=\"M19 3H5c-1.1 0-2 .9-2 2v14c0 1.1.9 2 2 2h14c1.1 0 2-.9 2-2V5c0-1.1-.9-2-2-2zM9 17H7v-7h2v7zm4 0h-2V7h2v10zm4 0h-2v-4h2v4z\"/>\n",
              "    </g>\n",
              "</svg>\n",
              "  </button>\n",
              "\n",
              "<style>\n",
              "  .colab-df-quickchart {\n",
              "      --bg-color: #E8F0FE;\n",
              "      --fill-color: #1967D2;\n",
              "      --hover-bg-color: #E2EBFA;\n",
              "      --hover-fill-color: #174EA6;\n",
              "      --disabled-fill-color: #AAA;\n",
              "      --disabled-bg-color: #DDD;\n",
              "  }\n",
              "\n",
              "  [theme=dark] .colab-df-quickchart {\n",
              "      --bg-color: #3B4455;\n",
              "      --fill-color: #D2E3FC;\n",
              "      --hover-bg-color: #434B5C;\n",
              "      --hover-fill-color: #FFFFFF;\n",
              "      --disabled-bg-color: #3B4455;\n",
              "      --disabled-fill-color: #666;\n",
              "  }\n",
              "\n",
              "  .colab-df-quickchart {\n",
              "    background-color: var(--bg-color);\n",
              "    border: none;\n",
              "    border-radius: 50%;\n",
              "    cursor: pointer;\n",
              "    display: none;\n",
              "    fill: var(--fill-color);\n",
              "    height: 32px;\n",
              "    padding: 0;\n",
              "    width: 32px;\n",
              "  }\n",
              "\n",
              "  .colab-df-quickchart:hover {\n",
              "    background-color: var(--hover-bg-color);\n",
              "    box-shadow: 0 1px 2px rgba(60, 64, 67, 0.3), 0 1px 3px 1px rgba(60, 64, 67, 0.15);\n",
              "    fill: var(--button-hover-fill-color);\n",
              "  }\n",
              "\n",
              "  .colab-df-quickchart-complete:disabled,\n",
              "  .colab-df-quickchart-complete:disabled:hover {\n",
              "    background-color: var(--disabled-bg-color);\n",
              "    fill: var(--disabled-fill-color);\n",
              "    box-shadow: none;\n",
              "  }\n",
              "\n",
              "  .colab-df-spinner {\n",
              "    border: 2px solid var(--fill-color);\n",
              "    border-color: transparent;\n",
              "    border-bottom-color: var(--fill-color);\n",
              "    animation:\n",
              "      spin 1s steps(1) infinite;\n",
              "  }\n",
              "\n",
              "  @keyframes spin {\n",
              "    0% {\n",
              "      border-color: transparent;\n",
              "      border-bottom-color: var(--fill-color);\n",
              "      border-left-color: var(--fill-color);\n",
              "    }\n",
              "    20% {\n",
              "      border-color: transparent;\n",
              "      border-left-color: var(--fill-color);\n",
              "      border-top-color: var(--fill-color);\n",
              "    }\n",
              "    30% {\n",
              "      border-color: transparent;\n",
              "      border-left-color: var(--fill-color);\n",
              "      border-top-color: var(--fill-color);\n",
              "      border-right-color: var(--fill-color);\n",
              "    }\n",
              "    40% {\n",
              "      border-color: transparent;\n",
              "      border-right-color: var(--fill-color);\n",
              "      border-top-color: var(--fill-color);\n",
              "    }\n",
              "    60% {\n",
              "      border-color: transparent;\n",
              "      border-right-color: var(--fill-color);\n",
              "    }\n",
              "    80% {\n",
              "      border-color: transparent;\n",
              "      border-right-color: var(--fill-color);\n",
              "      border-bottom-color: var(--fill-color);\n",
              "    }\n",
              "    90% {\n",
              "      border-color: transparent;\n",
              "      border-bottom-color: var(--fill-color);\n",
              "    }\n",
              "  }\n",
              "</style>\n",
              "\n",
              "  <script>\n",
              "    async function quickchart(key) {\n",
              "      const quickchartButtonEl =\n",
              "        document.querySelector('#' + key + ' button');\n",
              "      quickchartButtonEl.disabled = true;  // To prevent multiple clicks.\n",
              "      quickchartButtonEl.classList.add('colab-df-spinner');\n",
              "      try {\n",
              "        const charts = await google.colab.kernel.invokeFunction(\n",
              "            'suggestCharts', [key], {});\n",
              "      } catch (error) {\n",
              "        console.error('Error during call to suggestCharts:', error);\n",
              "      }\n",
              "      quickchartButtonEl.classList.remove('colab-df-spinner');\n",
              "      quickchartButtonEl.classList.add('colab-df-quickchart-complete');\n",
              "    }\n",
              "    (() => {\n",
              "      let quickchartButtonEl =\n",
              "        document.querySelector('#df-3f64ad9a-538b-4876-99ce-f145a97bc0fb button');\n",
              "      quickchartButtonEl.style.display =\n",
              "        google.colab.kernel.accessAllowed ? 'block' : 'none';\n",
              "    })();\n",
              "  </script>\n",
              "</div>\n",
              "\n",
              "    </div>\n",
              "  </div>\n"
            ],
            "application/vnd.google.colaboratory.intrinsic+json": {
              "type": "dataframe",
              "variable_name": "dataset",
              "summary": "{\n  \"name\": \"dataset\",\n  \"rows\": 60090,\n  \"fields\": [\n    {\n      \"column\": \"rating\",\n      \"properties\": {\n        \"dtype\": \"number\",\n        \"std\": 1,\n        \"min\": 1,\n        \"max\": 5,\n        \"num_unique_values\": 5,\n        \"samples\": [\n          5,\n          2,\n          3\n        ],\n        \"semantic_type\": \"\",\n        \"description\": \"\"\n      }\n    },\n    {\n      \"column\": \"review\",\n      \"properties\": {\n        \"dtype\": \"string\",\n        \"num_unique_values\": 59606,\n        \"samples\": [\n          \"\\u0635\\u0628\\u0631\\u064a \\u0642\\u0631\\u0627\\u0621\\u0629 250 \\u0635\\u0641\\u062d\\u0629 \\u0639\\u0632\\u0627\\u0632\\u064a\\u0644 \\u0639\\u0644\\u0646\\u064a \\u0623\\u062e\\u0631\\u062c \\u0628\\u0641\\u0627\\u0626\\u062f\\u0629\\u060c \\u0623\\u0644\\u0642\\u064a\\u062a\\u0647\\u0627 \\u062c\\u0627\\u0646\\u0628\\u0627 \\u0641\\u062c\\u0639\\u062a \\u0642\\u0635\\u0629 \\u0627\\u0644\\u0645\\u062e\\u0637\\u0648\\u0637\\u0627\\u062a \\u062a\\u0645\\u062b\\u064a\\u0644\\u064a\\u0629 \\u0627\\u0644\\u0642\\u0635\\u0629 \\u0645\\u062a\\u062f\\u0646\\u064a\\u0629 \\u0627\\u0644\\u0623\\u062e\\u0644\\u0627\\u0642\\u060c \\u0645\\u062d\\u0627\\u0648\\u0631\\u0647\\u0627 \\u0627\\u0644\\u0645\\u062a\\u0639\\u062f\\u0629 \\u0648\\u0625\\u0642\\u062d\\u0627\\u0645 \\u0642\\u0635 \\u0627\\u0644\\u062d\\u0628 \\u0625\\u0642\\u062d\\u0627\\u0645\\u0627 \\u0623\\u0641\\u0633\\u062f\\u0647\\u0627 \\u062a\\u0645\\u0627\\u0645\\u0627 \\u0627\\u0644\\u0642\\u0627\\u0631\\u0626 \\u064a\\u0642\\u0631\\u0623 \\u0642\\u0635\\u062a\\u064a\\u0646 \\u0645\\u062a\\u0628\\u0627\\u064a\\u0646\\u062a\\u064a \\u0627\\u0644\\u0623\\u062d\\u062f\\u0627\\u062b \\u0642\\u0635\\u0629 \\u0631\\u0627\\u0647\\u0628 \\u0648\\u0642\\u0635\\u0629 \\u0639\\u0627\\u0634\\u0642 \\u0623\\u0646\\u0635\\u062d\",\n          \"\\u0627\\u0634\\u062a\\u0631\\u062a\\u064a\\u0647\\u0627 \\u0632\\u0645\\u0646 \\u0648\\u0627\\u062d\\u062a\\u0641\\u0638\\u062a \\u0623\\u0642\\u0631\\u0623\\u0647\\u0627\\u0641\\u0630\\u0647\\u0627\\u0628\\u064a \\u0627\\u0644\\u0648\\u0627\\u062d\\u0629 \\u064a\\u0645\\u062a\\u0639\\u0646\\u064a \\u0643\\u062a\\u0627\\u0628 \\u064a\\u062a\\u062d\\u062f\\u062b \\u0642\\u0631\\u062a \\u0623\\u0642\\u0631\\u0623\\u0647\\u0627 \\u0627\\ufef5\\u0646 \\ufef9\\u0646\\u064a \\u0623\\u0633\\u062a\\u0637\\u0639 \\u0627\\u0644\\u0630\\u0647\\u0627\\u0628 \\u0641\\u0642\\u0644\\u062a \\u0639\\u0644\\u0647\\u0627 \\u062a\\u0645\\u0646\\u062d\\u0646\\u064a \\u062a\\u0639\\u0637\\u064a\\u0647 \\u0627\\u0644\\u0648\\u0627\\u062d\\u0629\\u0627\\u0633\\u062a\\u0645\\u062a\\u0639\\u062a \\u0628\\u0648\\u0635\\u0641 \\u0627\\u0644\\u0635\\u062d\\u0631\\u0627\\u0621 \\u0645\\u0648\\u0627\\u0642\\u0639 \\u0648\\u0627\\u0633\\u062a\\u0631\\u062c\\u0639\\u062a \\u0627\\ufef7\\u062d\\u0627\\u0633\\u064a\\u0633 \\u0647\\u0646\\u0627\\u0643\\u0623\\u062d\\u0628 \\u0623\\u0633\\u0644\\u0648\\u0628 \\u0628\\u0647\\u0627\\u0621 \\u0637\\u0627\\u0647\\u0631 \\u0627\\u0644\\u0628\\u0633\\u064a\\u0637 \\u0627\\u0644\\u0645\\u0646\\u0645\\u0642 \\u0633\\u064a\\u0648\\u0629 \\u0646\\u0638\\u0631\\u064a \\u062a\\u062d\\u062a\\u0648\\u064a\\u0647\\u0627 \\u0643\\u062a\\u0628\",\n          \"\\u0644\\u0635\\u064a\\u0627\\u063a\\u0627\\u062a \\u0627\\u0644\\u0623\\u062f\\u0628\\u064a\\u0629 \\u0627\\u0644\\u0637\\u064a\\u0641\\u0629 \\u0627\\u0644\\u062a\\u0635\\u0648\\u064a\\u0631\\u0627\\u062a \\u0627\\u0644\\u0628\\u062f\\u064a\\u0639\\u0629 \\u0623\\u062a\\u0642\\u0646\\u0647\\u0627 \\u0645\\u0627\\u0639\\u062f\\u0627 \\u062a\\u0628\\u062f\\u0648 \\u062d\\u0628\\u0643\\u0629\\u064b \\u0623\\u0646\\u0634\\u062f\\u0647\\u0627\"\n        ],\n        \"semantic_type\": \"\",\n        \"description\": \"\"\n      }\n    }\n  ]\n}"
            }
          },
          "metadata": {},
          "execution_count": 32
        }
      ],
      "source": [
        "#\n",
        "dataset.head()"
      ]
    },
    {
      "cell_type": "code",
      "execution_count": 33,
      "metadata": {
        "id": "84IqkbYXzJL4"
      },
      "outputs": [],
      "source": [
        "def remove_stop_words(tweet: str) -> str:\n",
        "    words = set(tweet.split(sep = ' '))\n",
        "    return \" \".join(list((words - stop_words)))\n",
        "\n",
        "dataset[\"review\"] = dataset[\"review\"].apply(lambda document: remove_stop_words(document))"
      ]
    },
    {
      "cell_type": "code",
      "execution_count": 34,
      "metadata": {
        "id": "q03aKC6fzJMS",
        "outputId": "0fb8d267-f97b-4c6f-d183-4745ac597f64",
        "colab": {
          "base_uri": "https://localhost:8080/",
          "height": 206
        }
      },
      "outputs": [
        {
          "output_type": "execute_result",
          "data": {
            "text/plain": [
              "   rating                                             review\n",
              "0       4  ابطال كثره والابطال مواقف ليهم حصلي اكتشفت عبق...\n",
              "1       5                            يمكني حتماً أختزلها وصف\n",
              "2       4  المصطاوي الامام عبدالرحمن الشافعي الديوان رحمة...\n",
              "3       5  شقت اسرائيل يسمي قراءة لمستقبل الخليج تجذبني ق...\n",
              "4       4  الصدمه مباشر القصيبي رحمة فكاتبها زوجته، تحتوي..."
            ],
            "text/html": [
              "\n",
              "  <div id=\"df-e7a89330-1083-4591-9d94-339c3d3f4b07\" class=\"colab-df-container\">\n",
              "    <div>\n",
              "<style scoped>\n",
              "    .dataframe tbody tr th:only-of-type {\n",
              "        vertical-align: middle;\n",
              "    }\n",
              "\n",
              "    .dataframe tbody tr th {\n",
              "        vertical-align: top;\n",
              "    }\n",
              "\n",
              "    .dataframe thead th {\n",
              "        text-align: right;\n",
              "    }\n",
              "</style>\n",
              "<table border=\"1\" class=\"dataframe\">\n",
              "  <thead>\n",
              "    <tr style=\"text-align: right;\">\n",
              "      <th></th>\n",
              "      <th>rating</th>\n",
              "      <th>review</th>\n",
              "    </tr>\n",
              "  </thead>\n",
              "  <tbody>\n",
              "    <tr>\n",
              "      <th>0</th>\n",
              "      <td>4</td>\n",
              "      <td>ابطال كثره والابطال مواقف ليهم حصلي اكتشفت عبق...</td>\n",
              "    </tr>\n",
              "    <tr>\n",
              "      <th>1</th>\n",
              "      <td>5</td>\n",
              "      <td>يمكني حتماً أختزلها وصف</td>\n",
              "    </tr>\n",
              "    <tr>\n",
              "      <th>2</th>\n",
              "      <td>4</td>\n",
              "      <td>المصطاوي الامام عبدالرحمن الشافعي الديوان رحمة...</td>\n",
              "    </tr>\n",
              "    <tr>\n",
              "      <th>3</th>\n",
              "      <td>5</td>\n",
              "      <td>شقت اسرائيل يسمي قراءة لمستقبل الخليج تجذبني ق...</td>\n",
              "    </tr>\n",
              "    <tr>\n",
              "      <th>4</th>\n",
              "      <td>4</td>\n",
              "      <td>الصدمه مباشر القصيبي رحمة فكاتبها زوجته، تحتوي...</td>\n",
              "    </tr>\n",
              "  </tbody>\n",
              "</table>\n",
              "</div>\n",
              "    <div class=\"colab-df-buttons\">\n",
              "\n",
              "  <div class=\"colab-df-container\">\n",
              "    <button class=\"colab-df-convert\" onclick=\"convertToInteractive('df-e7a89330-1083-4591-9d94-339c3d3f4b07')\"\n",
              "            title=\"Convert this dataframe to an interactive table.\"\n",
              "            style=\"display:none;\">\n",
              "\n",
              "  <svg xmlns=\"http://www.w3.org/2000/svg\" height=\"24px\" viewBox=\"0 -960 960 960\">\n",
              "    <path d=\"M120-120v-720h720v720H120Zm60-500h600v-160H180v160Zm220 220h160v-160H400v160Zm0 220h160v-160H400v160ZM180-400h160v-160H180v160Zm440 0h160v-160H620v160ZM180-180h160v-160H180v160Zm440 0h160v-160H620v160Z\"/>\n",
              "  </svg>\n",
              "    </button>\n",
              "\n",
              "  <style>\n",
              "    .colab-df-container {\n",
              "      display:flex;\n",
              "      gap: 12px;\n",
              "    }\n",
              "\n",
              "    .colab-df-convert {\n",
              "      background-color: #E8F0FE;\n",
              "      border: none;\n",
              "      border-radius: 50%;\n",
              "      cursor: pointer;\n",
              "      display: none;\n",
              "      fill: #1967D2;\n",
              "      height: 32px;\n",
              "      padding: 0 0 0 0;\n",
              "      width: 32px;\n",
              "    }\n",
              "\n",
              "    .colab-df-convert:hover {\n",
              "      background-color: #E2EBFA;\n",
              "      box-shadow: 0px 1px 2px rgba(60, 64, 67, 0.3), 0px 1px 3px 1px rgba(60, 64, 67, 0.15);\n",
              "      fill: #174EA6;\n",
              "    }\n",
              "\n",
              "    .colab-df-buttons div {\n",
              "      margin-bottom: 4px;\n",
              "    }\n",
              "\n",
              "    [theme=dark] .colab-df-convert {\n",
              "      background-color: #3B4455;\n",
              "      fill: #D2E3FC;\n",
              "    }\n",
              "\n",
              "    [theme=dark] .colab-df-convert:hover {\n",
              "      background-color: #434B5C;\n",
              "      box-shadow: 0px 1px 3px 1px rgba(0, 0, 0, 0.15);\n",
              "      filter: drop-shadow(0px 1px 2px rgba(0, 0, 0, 0.3));\n",
              "      fill: #FFFFFF;\n",
              "    }\n",
              "  </style>\n",
              "\n",
              "    <script>\n",
              "      const buttonEl =\n",
              "        document.querySelector('#df-e7a89330-1083-4591-9d94-339c3d3f4b07 button.colab-df-convert');\n",
              "      buttonEl.style.display =\n",
              "        google.colab.kernel.accessAllowed ? 'block' : 'none';\n",
              "\n",
              "      async function convertToInteractive(key) {\n",
              "        const element = document.querySelector('#df-e7a89330-1083-4591-9d94-339c3d3f4b07');\n",
              "        const dataTable =\n",
              "          await google.colab.kernel.invokeFunction('convertToInteractive',\n",
              "                                                    [key], {});\n",
              "        if (!dataTable) return;\n",
              "\n",
              "        const docLinkHtml = 'Like what you see? Visit the ' +\n",
              "          '<a target=\"_blank\" href=https://colab.research.google.com/notebooks/data_table.ipynb>data table notebook</a>'\n",
              "          + ' to learn more about interactive tables.';\n",
              "        element.innerHTML = '';\n",
              "        dataTable['output_type'] = 'display_data';\n",
              "        await google.colab.output.renderOutput(dataTable, element);\n",
              "        const docLink = document.createElement('div');\n",
              "        docLink.innerHTML = docLinkHtml;\n",
              "        element.appendChild(docLink);\n",
              "      }\n",
              "    </script>\n",
              "  </div>\n",
              "\n",
              "\n",
              "<div id=\"df-a1431fae-7603-4d37-b387-519276d1b4f5\">\n",
              "  <button class=\"colab-df-quickchart\" onclick=\"quickchart('df-a1431fae-7603-4d37-b387-519276d1b4f5')\"\n",
              "            title=\"Suggest charts\"\n",
              "            style=\"display:none;\">\n",
              "\n",
              "<svg xmlns=\"http://www.w3.org/2000/svg\" height=\"24px\"viewBox=\"0 0 24 24\"\n",
              "     width=\"24px\">\n",
              "    <g>\n",
              "        <path d=\"M19 3H5c-1.1 0-2 .9-2 2v14c0 1.1.9 2 2 2h14c1.1 0 2-.9 2-2V5c0-1.1-.9-2-2-2zM9 17H7v-7h2v7zm4 0h-2V7h2v10zm4 0h-2v-4h2v4z\"/>\n",
              "    </g>\n",
              "</svg>\n",
              "  </button>\n",
              "\n",
              "<style>\n",
              "  .colab-df-quickchart {\n",
              "      --bg-color: #E8F0FE;\n",
              "      --fill-color: #1967D2;\n",
              "      --hover-bg-color: #E2EBFA;\n",
              "      --hover-fill-color: #174EA6;\n",
              "      --disabled-fill-color: #AAA;\n",
              "      --disabled-bg-color: #DDD;\n",
              "  }\n",
              "\n",
              "  [theme=dark] .colab-df-quickchart {\n",
              "      --bg-color: #3B4455;\n",
              "      --fill-color: #D2E3FC;\n",
              "      --hover-bg-color: #434B5C;\n",
              "      --hover-fill-color: #FFFFFF;\n",
              "      --disabled-bg-color: #3B4455;\n",
              "      --disabled-fill-color: #666;\n",
              "  }\n",
              "\n",
              "  .colab-df-quickchart {\n",
              "    background-color: var(--bg-color);\n",
              "    border: none;\n",
              "    border-radius: 50%;\n",
              "    cursor: pointer;\n",
              "    display: none;\n",
              "    fill: var(--fill-color);\n",
              "    height: 32px;\n",
              "    padding: 0;\n",
              "    width: 32px;\n",
              "  }\n",
              "\n",
              "  .colab-df-quickchart:hover {\n",
              "    background-color: var(--hover-bg-color);\n",
              "    box-shadow: 0 1px 2px rgba(60, 64, 67, 0.3), 0 1px 3px 1px rgba(60, 64, 67, 0.15);\n",
              "    fill: var(--button-hover-fill-color);\n",
              "  }\n",
              "\n",
              "  .colab-df-quickchart-complete:disabled,\n",
              "  .colab-df-quickchart-complete:disabled:hover {\n",
              "    background-color: var(--disabled-bg-color);\n",
              "    fill: var(--disabled-fill-color);\n",
              "    box-shadow: none;\n",
              "  }\n",
              "\n",
              "  .colab-df-spinner {\n",
              "    border: 2px solid var(--fill-color);\n",
              "    border-color: transparent;\n",
              "    border-bottom-color: var(--fill-color);\n",
              "    animation:\n",
              "      spin 1s steps(1) infinite;\n",
              "  }\n",
              "\n",
              "  @keyframes spin {\n",
              "    0% {\n",
              "      border-color: transparent;\n",
              "      border-bottom-color: var(--fill-color);\n",
              "      border-left-color: var(--fill-color);\n",
              "    }\n",
              "    20% {\n",
              "      border-color: transparent;\n",
              "      border-left-color: var(--fill-color);\n",
              "      border-top-color: var(--fill-color);\n",
              "    }\n",
              "    30% {\n",
              "      border-color: transparent;\n",
              "      border-left-color: var(--fill-color);\n",
              "      border-top-color: var(--fill-color);\n",
              "      border-right-color: var(--fill-color);\n",
              "    }\n",
              "    40% {\n",
              "      border-color: transparent;\n",
              "      border-right-color: var(--fill-color);\n",
              "      border-top-color: var(--fill-color);\n",
              "    }\n",
              "    60% {\n",
              "      border-color: transparent;\n",
              "      border-right-color: var(--fill-color);\n",
              "    }\n",
              "    80% {\n",
              "      border-color: transparent;\n",
              "      border-right-color: var(--fill-color);\n",
              "      border-bottom-color: var(--fill-color);\n",
              "    }\n",
              "    90% {\n",
              "      border-color: transparent;\n",
              "      border-bottom-color: var(--fill-color);\n",
              "    }\n",
              "  }\n",
              "</style>\n",
              "\n",
              "  <script>\n",
              "    async function quickchart(key) {\n",
              "      const quickchartButtonEl =\n",
              "        document.querySelector('#' + key + ' button');\n",
              "      quickchartButtonEl.disabled = true;  // To prevent multiple clicks.\n",
              "      quickchartButtonEl.classList.add('colab-df-spinner');\n",
              "      try {\n",
              "        const charts = await google.colab.kernel.invokeFunction(\n",
              "            'suggestCharts', [key], {});\n",
              "      } catch (error) {\n",
              "        console.error('Error during call to suggestCharts:', error);\n",
              "      }\n",
              "      quickchartButtonEl.classList.remove('colab-df-spinner');\n",
              "      quickchartButtonEl.classList.add('colab-df-quickchart-complete');\n",
              "    }\n",
              "    (() => {\n",
              "      let quickchartButtonEl =\n",
              "        document.querySelector('#df-a1431fae-7603-4d37-b387-519276d1b4f5 button');\n",
              "      quickchartButtonEl.style.display =\n",
              "        google.colab.kernel.accessAllowed ? 'block' : 'none';\n",
              "    })();\n",
              "  </script>\n",
              "</div>\n",
              "\n",
              "    </div>\n",
              "  </div>\n"
            ],
            "application/vnd.google.colaboratory.intrinsic+json": {
              "type": "dataframe",
              "variable_name": "dataset",
              "summary": "{\n  \"name\": \"dataset\",\n  \"rows\": 60090,\n  \"fields\": [\n    {\n      \"column\": \"rating\",\n      \"properties\": {\n        \"dtype\": \"number\",\n        \"std\": 1,\n        \"min\": 1,\n        \"max\": 5,\n        \"num_unique_values\": 5,\n        \"samples\": [\n          5,\n          2,\n          3\n        ],\n        \"semantic_type\": \"\",\n        \"description\": \"\"\n      }\n    },\n    {\n      \"column\": \"review\",\n      \"properties\": {\n        \"dtype\": \"string\",\n        \"num_unique_values\": 59574,\n        \"samples\": [\n          \"\\u0627\\u0644\\u0627\\u0637\\u0644\\u0627\\u0642 \\u0627\\u0644\\u0645\\u0631\\u0623\\u0629 \\u0648\\u0627\\u0646\\u0627 \\u0627\\u0642\\u0631\\u0627\\u0647 \\u0627\\u0647\\u0631\\u0628 \\u0648\\u0627\\u0644\\u064a \\u0635\\u0641\\u062d\\u0627\\u062a \\u0648\\u0646\\u062c\\u062d\\u062a \\u0627\\u0639\\u062a\\u0642\\u062f \\u0627\\u0644\\u0628\\u0627\\u0637\\u0646\\u0629 \\u0641\\u0644\\u0633\\u0641\\u062a\\u0647 \\u0628\\u0642\\u0631\\u0627\\u0647 \\u0627\\u0644\\u0631\\u0627\\u064a\\u062d\\u0629 \\u0627\\u0646\\u064a \\u064a\\u0646\\u0635\\u0631 \\u0646\\u0638\\u0631\\u064a \\u0627\\u0644\\u0631\\u062c\\u0644 \\u0644\\u0645\\u0631\\u0623\\u0629 \\u062d\\u0644\\u0648 \\u0648\\u0645\\u0641\\u064a\\u0634 \\u0627\\u0642\\u0644 \\u064a\\u0648\\u0645\\u064a\\u0646 \\u0643\\u062f\\u0647 \\u0648\\u0645\\u0634 \\u0644\\u0641\\u062a \\u0645\\u0647\\u0627\\u062c\\u0645\\u062a\\u0647 \\u062d\\u0627\\u0648\\u0644\\u062a \\u0648\\u0627\\u062a\\u063a\\u0627\\u0636\\u0649 \\u0645\\u062a\\u0639 \\u0643\\u062a\\u0627\\u0628 \\u0645\\u0633\\u062a\\u063a\\u0631\\u0628\\u0627\\u0647 \\u0648\\u0628\\u062f\\u0623\\u062a \\u062d\\u0642 \\u0627\\u0644\\u0643\\u062a\\u0627\\u0628 \\u0628\\u064a\\u0647\\u0627 \\u0648\\u062d\\u0634\\u0647 \\u0642\\u0631\\u064a\\u062a\\u0647 \\u062e\\u0644\\u0635\\u062a \\u064a\\u062a\\u0648\\u0642\\u0639 \\u062d\\u0631\\u064a\\u0629 \\u062f\\u0627\\u062e\\u0644 \\u0627\\u0632\\u0627\\u064a \\u064a\\u0648\\u062c\\u0647 \\u0627\\u0644\\u062d\\u0631\\u064a\\u0645 \\u0645\\u0643\\u0646\\u062a\\u0634 \\u0642\\u062f\\u0631\\u062a \\u0643\\u062a\\u064a\\u0631\\u0647 \\u0643\\u062a\\u0627\\u0628\\u064a\\u0646 \\u0627\\u0644\\u0642\\u0631\\u0627\\u064a\\u0629 \\u0633\\u0637\\u062d\\u064a\\u0629 \\u062f\\u0647 \\u0645\\u062e\\u0644\\u0635\\u062a\\u0648\\u0634 \\u0648\\u062f\\u0647 \\u062d\\u0627\\u062c\\u0629 3 \\u0627\\u062a\\u0631\\u0641\\u0639 \\u0628\\u064a\\u062e\\u0633\\u0631 \\u0627\\u0633\\u0627\\u0628\\u064a\\u0639 \\u062f\\u064a \\u0627\\u062d\\u064a\\u0627\\u0646 \\u0648\\u0627\\u0644\\u0647\\u0644\\u0645\\u0629 \\u062f\\u064a\\u0646\\u0643 \\u0627\\u0644\\u0643\\u0627\\u062a\\u0628 \\u0645\\u0634 \\u0634\\u0631\\u064a\\u0631\\u0629 \\u0644\\u064a\\u0627 \\u0644\\u0633\\u0647 \\u0648\\u0627\\u0644\\u063a\\u0627\\u0644\\u0628 \\u0648\\u062a\\u062d\\u0645\\u064a\\u0644\\u0647\\u0627 \\u0627\\u0644\\u064a\\u0643\\u062a\\u0631\\u0648\\u0646\\u064a\\u0646 \\u0627\\u0644\\u062a\\u0627\\u0644\\u062a \\u0648\\u0627\\u0642\\u0631\\u0649 \\u0627\\u0639\\u0645\\u0644 \\u0641\\u0644\\u0633\\u0641\\u064a \\u0643\\u062a\\u064a\\u0631\\u0629 \\u0645\\u0634\\u0643\\u0644\\u0629 \\u0641\\u0639\\u0634\\u0627\\u0646 \\u0645\\u0635\\u0627\\u064a\\u0628 \\u0645\\u0639\\u0646\\u0627\\u0647 \\u0627\\u0642\\u0648\\u0644 \\u0648\\u0627\\u0644\\u062c\\u0627\\u064a\\u0629 \\u0635\\u0646\\u0641 \\u0627\\u0644\\u0643\\u0644\\u0627\\u0645\",\n          \"\\u0623\\u0642\\u0633\\u0627\\u0645 \\u0628\\u0627\\u0644\\u0646\\u0633\\u0628\\u0629 \\u0627\\u0644\\u0637\\u0627\\u0642\\u0627\\u062a \\u0628\\u062f\\u0627\\u062e\\u0644\\u0647 \\u0644\\u062a\\u062d\\u0642\\u064a\\u0642 \\u064a\\u0631\\u0648\\u064a \\u0623\\u0633\\u062a\\u0637\\u0639 \\u0645\\u0633\\u062a\\u062d\\u064a\\u0644 \\u0634\\u0639\\u0628\\u0627\\u0646 \\u0627\\u0644\\u062e\\u0637\\u0648\\u0627\\u062a \\u0627\\u0644\\u0643\\u062a\\u0628 \\u0644\\u062a\\u062d\\u0642\\u0647\\u0627 \\u0627\\u0644\\u062f\\u0627\\u062e\\u0644 \\u0648\\u062a\\u0633\\u0639\\u0649 \\u0627\\u0644\\u0622\\u062e\\u0631\\u064a\\u0646 \\u064a\\u0642\\u0648\\u0645 \\u0627\\u0644\\u0623\\u062d\\u0628\\u0627\\u0637\\u0627\\u062a \\u062a\\u062d\\u0633 \\u0623\\u062d\\u0633\\u062a \\u0648\\u062f\\u062a \\u0628\\u0627\\u0644\\u0645\\u0646\\u0627\\u0642\\u0634\\u0647 \\u0648\\u0633\\u0644\\u0633\\u0644 \\u0637\\u0631\\u064a\\u0642 \\u0645\\u0644\\u0647\\u0645\\u0647 \\u0646\\u0627\\u062f\\u064a \\u0623\\u062d\\u0644\\u0627\\u0645\\u0647\\u0645 \\u0645\\u062c\\u0645\\u0648\\u0639\\u0629 \\u0627\\u0644\\u0648\\u0635\\u0648\\u0644 \\u0648\\u0636\\u0639 \\u0631\\u0627\\u0626\\u0639 \\u0647\\u062f\\u0641\\u0643 \\u0628\\u0627\\u0644\\u062a\\u0639\\u0644\\u064a\\u0642 \\u0627\\u0644\\u0633\\u0628 \\u062a\\u0631\\u064a\\u062f \\u0648\\u062c\\u0645\\u064a\\u0644 \\u0648\\u0642\\u0627\\u0645\\u062a \\u0643\\u062a\\u0627\\u0628 \\u0623\\u0648\\u062f \\u062a\\u0642\\u0631\\u0623 \\u0627\\u0644\\u062c\\u0628\\u0627\\u0631\\u0647 \\u0627\\u0644\\u0643\\u062a\\u0627\\u0628 \\u0645\\u0639\\u0646\\u0649 \\u062a\\u0633\\u062a\\u0633\\u0644\\u0645 \\u0627\\u0646\\u062a\\u0647\\u064a\\u062a \\u0635\\u062f\\u064a\\u0642\\u0627\\u062a\\u064a \\u0623\\u062d\\u0644\\u0627\\u0645\\u0643 \\u062c\\u0633\\u0645\\u0643 \\u062a\\u0643\\u0645\\u0646 \\u0627\\u0644\\u0645\\u0635\\u0627\\u0639\\u0628 \\u0623\\u0630\\u0643\\u0631 \\u0623\\u0641\\u0636\\u0644 \\u0642\\u0631\\u0623\\u062a\\u0647 \\u0642\\u0627\\u0633\\u0648\\u0627 \\u0644\\u0646\\u0627\\u0642\\u0634\\u0647 \\u062e\\u0627\\u0646\\u062a\\u0643 \\u064a\\u0633\\u062a\\u062d\\u0642 3 \\u064a\\u062c\\u0639\\u0644\\u0647 \\u0644\\u0639\\u0627\\u0645 \\u0623\\u0648\\u0627\\u062e\\u0631 \\u0632\\u0627\\u0644\\u062a \\u0627\\u0644\\u0643\\u0627\\u062a\\u0628 \\u0623\\u0642\\u0631\\u0623\\u0647 \\u064a\\u062e\\u0628\\u0631\\u0643 \\u0648\\u0631\\u0628\\u0645\\u0649 \\u062a\\u0644\\u0648 \\u0628\\u0627\\u0646\\u062a\\u0638\\u0627\\u0631\\u0643 1432 \\u0642\\u0631\\u0623\\u062a\\u0647\\u0627 \\u0628\\u0634\\u062d\\u0646 \\u0627\\u0644\\u0642\\u0635 \\u0628\\u062a\\u062d\\u0628\\u064a\\u0637\\u0643 \\u0648\\u062a\\u062d\\u0633 \\u0641\\u0648\\u0631\\u0627 \\u062a\\u0644\\u0642\\u064a\\u062a \\u0643\\u0646\\u062a \\u0648\\u064a\\u062e\\u0631\\u062c \\u0627\\u0644\\u0623\\u062e\\u0631\\u0649 \\u0642\\u0635 \\u0644\\u0623\\u0634\\u062e\\u0627\\u0635 \\u064a\\u0639\\u0644\\u0645\\u0643 \\u0627\\u0644\\u0623\\u062d\\u0644\\u0627\\u0645 \\u0628\\u0623\\u0633\\u0644\\u0648\\u0628 \\u0644\\u0642\\u0631\\u0627\\u0621\\u0647 \\u062d\\u0644\\u0645\",\n          \"\\u0645\\u0628\\u062f\\u0639 \\u0627\\u0633\\u062a\\u0627\\u0630 \\u062f\\u0627\\u064a\\u0645\\u0627 \\u064a\\u0643\\u0631\\u0645\\u0643 \\u0627\\u062c\\u0645\\u0644 \\u0627\\u0644\\u0631\\u0648\\u0627\\u064a\\u0627\\u062a \\u0633\\u0631\\u062f \\u0628\\u0627\\u0644\\u0646\\u062c\\u0627\\u062d \\u0639\\u0627\\u0644\\u0645 \\u063a\\u0631\\u064a\\u0628 \\u0628\\u062c\\u062f \\u0627\\u0628\\u062f\\u0627 \\u0627\\u0646\\u0647\\u0627 \\u0627\\u0644\\u0627\\u062d\\u062f\\u0627\\u062b \\u0627\\u062d\\u0645\\u062f \\u0628\\u0633\\u062a\\u0645\\u062a\\u0639 \\u0628\\u064a\\u0647\\u0627 \\u0634\\u0627\\u0621 \\u0647\\u0644\\u0627\\u0642\\u0649 \\u062d\\u0636\\u0631\\u062a\\u0643 \\u0632\\u064a\\u0647\\u0627 \\u0631\\u0628\\u0646\\u0627 \\u0645\\u0634 \\u0628\\u062d\\u0633 \\u0627\\u0644\\u0647\"\n        ],\n        \"semantic_type\": \"\",\n        \"description\": \"\"\n      }\n    }\n  ]\n}"
            }
          },
          "metadata": {},
          "execution_count": 34
        }
      ],
      "source": [
        "dataset.head()"
      ]
    },
    {
      "cell_type": "code",
      "source": [
        "# normalizing the text\n",
        "\n",
        "import pyarabic.araby as araby\n",
        "\n",
        "dataset[\"review\"] = dataset[\"review\"].apply(lambda document: araby.normalize_hamza(document))"
      ],
      "metadata": {
        "id": "Qje7PseBYo0r"
      },
      "execution_count": 35,
      "outputs": []
    },
    {
      "cell_type": "markdown",
      "metadata": {
        "id": "jj32UzQjzJMT"
      },
      "source": [
        "use farasa or stanza for tokenization"
      ]
    },
    {
      "cell_type": "code",
      "source": [
        "dataset.head()"
      ],
      "metadata": {
        "colab": {
          "base_uri": "https://localhost:8080/",
          "height": 206
        },
        "id": "pfuhZV7idhql",
        "outputId": "8530a145-f914-4d45-9d88-44f7f3699800"
      },
      "execution_count": 36,
      "outputs": [
        {
          "output_type": "execute_result",
          "data": {
            "text/plain": [
              "   rating                                             review\n",
              "0       4  ابطال كثره والابطال مواقف ليهم حصلي اكتشفت عبق...\n",
              "1       5                            يمكني حتماً ءختزلها وصف\n",
              "2       4  المصطاوي الامام عبدالرحمن الشافعي الديوان رحمة...\n",
              "3       5  شقت اسراءيل يسمي قراءة لمستقبل الخليج تجذبني ق...\n",
              "4       4  الصدمه مباشر القصيبي رحمة فكاتبها زوجته، تحتوي..."
            ],
            "text/html": [
              "\n",
              "  <div id=\"df-108a53c4-e718-4025-b536-67ceb8440046\" class=\"colab-df-container\">\n",
              "    <div>\n",
              "<style scoped>\n",
              "    .dataframe tbody tr th:only-of-type {\n",
              "        vertical-align: middle;\n",
              "    }\n",
              "\n",
              "    .dataframe tbody tr th {\n",
              "        vertical-align: top;\n",
              "    }\n",
              "\n",
              "    .dataframe thead th {\n",
              "        text-align: right;\n",
              "    }\n",
              "</style>\n",
              "<table border=\"1\" class=\"dataframe\">\n",
              "  <thead>\n",
              "    <tr style=\"text-align: right;\">\n",
              "      <th></th>\n",
              "      <th>rating</th>\n",
              "      <th>review</th>\n",
              "    </tr>\n",
              "  </thead>\n",
              "  <tbody>\n",
              "    <tr>\n",
              "      <th>0</th>\n",
              "      <td>4</td>\n",
              "      <td>ابطال كثره والابطال مواقف ليهم حصلي اكتشفت عبق...</td>\n",
              "    </tr>\n",
              "    <tr>\n",
              "      <th>1</th>\n",
              "      <td>5</td>\n",
              "      <td>يمكني حتماً ءختزلها وصف</td>\n",
              "    </tr>\n",
              "    <tr>\n",
              "      <th>2</th>\n",
              "      <td>4</td>\n",
              "      <td>المصطاوي الامام عبدالرحمن الشافعي الديوان رحمة...</td>\n",
              "    </tr>\n",
              "    <tr>\n",
              "      <th>3</th>\n",
              "      <td>5</td>\n",
              "      <td>شقت اسراءيل يسمي قراءة لمستقبل الخليج تجذبني ق...</td>\n",
              "    </tr>\n",
              "    <tr>\n",
              "      <th>4</th>\n",
              "      <td>4</td>\n",
              "      <td>الصدمه مباشر القصيبي رحمة فكاتبها زوجته، تحتوي...</td>\n",
              "    </tr>\n",
              "  </tbody>\n",
              "</table>\n",
              "</div>\n",
              "    <div class=\"colab-df-buttons\">\n",
              "\n",
              "  <div class=\"colab-df-container\">\n",
              "    <button class=\"colab-df-convert\" onclick=\"convertToInteractive('df-108a53c4-e718-4025-b536-67ceb8440046')\"\n",
              "            title=\"Convert this dataframe to an interactive table.\"\n",
              "            style=\"display:none;\">\n",
              "\n",
              "  <svg xmlns=\"http://www.w3.org/2000/svg\" height=\"24px\" viewBox=\"0 -960 960 960\">\n",
              "    <path d=\"M120-120v-720h720v720H120Zm60-500h600v-160H180v160Zm220 220h160v-160H400v160Zm0 220h160v-160H400v160ZM180-400h160v-160H180v160Zm440 0h160v-160H620v160ZM180-180h160v-160H180v160Zm440 0h160v-160H620v160Z\"/>\n",
              "  </svg>\n",
              "    </button>\n",
              "\n",
              "  <style>\n",
              "    .colab-df-container {\n",
              "      display:flex;\n",
              "      gap: 12px;\n",
              "    }\n",
              "\n",
              "    .colab-df-convert {\n",
              "      background-color: #E8F0FE;\n",
              "      border: none;\n",
              "      border-radius: 50%;\n",
              "      cursor: pointer;\n",
              "      display: none;\n",
              "      fill: #1967D2;\n",
              "      height: 32px;\n",
              "      padding: 0 0 0 0;\n",
              "      width: 32px;\n",
              "    }\n",
              "\n",
              "    .colab-df-convert:hover {\n",
              "      background-color: #E2EBFA;\n",
              "      box-shadow: 0px 1px 2px rgba(60, 64, 67, 0.3), 0px 1px 3px 1px rgba(60, 64, 67, 0.15);\n",
              "      fill: #174EA6;\n",
              "    }\n",
              "\n",
              "    .colab-df-buttons div {\n",
              "      margin-bottom: 4px;\n",
              "    }\n",
              "\n",
              "    [theme=dark] .colab-df-convert {\n",
              "      background-color: #3B4455;\n",
              "      fill: #D2E3FC;\n",
              "    }\n",
              "\n",
              "    [theme=dark] .colab-df-convert:hover {\n",
              "      background-color: #434B5C;\n",
              "      box-shadow: 0px 1px 3px 1px rgba(0, 0, 0, 0.15);\n",
              "      filter: drop-shadow(0px 1px 2px rgba(0, 0, 0, 0.3));\n",
              "      fill: #FFFFFF;\n",
              "    }\n",
              "  </style>\n",
              "\n",
              "    <script>\n",
              "      const buttonEl =\n",
              "        document.querySelector('#df-108a53c4-e718-4025-b536-67ceb8440046 button.colab-df-convert');\n",
              "      buttonEl.style.display =\n",
              "        google.colab.kernel.accessAllowed ? 'block' : 'none';\n",
              "\n",
              "      async function convertToInteractive(key) {\n",
              "        const element = document.querySelector('#df-108a53c4-e718-4025-b536-67ceb8440046');\n",
              "        const dataTable =\n",
              "          await google.colab.kernel.invokeFunction('convertToInteractive',\n",
              "                                                    [key], {});\n",
              "        if (!dataTable) return;\n",
              "\n",
              "        const docLinkHtml = 'Like what you see? Visit the ' +\n",
              "          '<a target=\"_blank\" href=https://colab.research.google.com/notebooks/data_table.ipynb>data table notebook</a>'\n",
              "          + ' to learn more about interactive tables.';\n",
              "        element.innerHTML = '';\n",
              "        dataTable['output_type'] = 'display_data';\n",
              "        await google.colab.output.renderOutput(dataTable, element);\n",
              "        const docLink = document.createElement('div');\n",
              "        docLink.innerHTML = docLinkHtml;\n",
              "        element.appendChild(docLink);\n",
              "      }\n",
              "    </script>\n",
              "  </div>\n",
              "\n",
              "\n",
              "<div id=\"df-52f3397d-7398-4deb-883d-88ac8f604a32\">\n",
              "  <button class=\"colab-df-quickchart\" onclick=\"quickchart('df-52f3397d-7398-4deb-883d-88ac8f604a32')\"\n",
              "            title=\"Suggest charts\"\n",
              "            style=\"display:none;\">\n",
              "\n",
              "<svg xmlns=\"http://www.w3.org/2000/svg\" height=\"24px\"viewBox=\"0 0 24 24\"\n",
              "     width=\"24px\">\n",
              "    <g>\n",
              "        <path d=\"M19 3H5c-1.1 0-2 .9-2 2v14c0 1.1.9 2 2 2h14c1.1 0 2-.9 2-2V5c0-1.1-.9-2-2-2zM9 17H7v-7h2v7zm4 0h-2V7h2v10zm4 0h-2v-4h2v4z\"/>\n",
              "    </g>\n",
              "</svg>\n",
              "  </button>\n",
              "\n",
              "<style>\n",
              "  .colab-df-quickchart {\n",
              "      --bg-color: #E8F0FE;\n",
              "      --fill-color: #1967D2;\n",
              "      --hover-bg-color: #E2EBFA;\n",
              "      --hover-fill-color: #174EA6;\n",
              "      --disabled-fill-color: #AAA;\n",
              "      --disabled-bg-color: #DDD;\n",
              "  }\n",
              "\n",
              "  [theme=dark] .colab-df-quickchart {\n",
              "      --bg-color: #3B4455;\n",
              "      --fill-color: #D2E3FC;\n",
              "      --hover-bg-color: #434B5C;\n",
              "      --hover-fill-color: #FFFFFF;\n",
              "      --disabled-bg-color: #3B4455;\n",
              "      --disabled-fill-color: #666;\n",
              "  }\n",
              "\n",
              "  .colab-df-quickchart {\n",
              "    background-color: var(--bg-color);\n",
              "    border: none;\n",
              "    border-radius: 50%;\n",
              "    cursor: pointer;\n",
              "    display: none;\n",
              "    fill: var(--fill-color);\n",
              "    height: 32px;\n",
              "    padding: 0;\n",
              "    width: 32px;\n",
              "  }\n",
              "\n",
              "  .colab-df-quickchart:hover {\n",
              "    background-color: var(--hover-bg-color);\n",
              "    box-shadow: 0 1px 2px rgba(60, 64, 67, 0.3), 0 1px 3px 1px rgba(60, 64, 67, 0.15);\n",
              "    fill: var(--button-hover-fill-color);\n",
              "  }\n",
              "\n",
              "  .colab-df-quickchart-complete:disabled,\n",
              "  .colab-df-quickchart-complete:disabled:hover {\n",
              "    background-color: var(--disabled-bg-color);\n",
              "    fill: var(--disabled-fill-color);\n",
              "    box-shadow: none;\n",
              "  }\n",
              "\n",
              "  .colab-df-spinner {\n",
              "    border: 2px solid var(--fill-color);\n",
              "    border-color: transparent;\n",
              "    border-bottom-color: var(--fill-color);\n",
              "    animation:\n",
              "      spin 1s steps(1) infinite;\n",
              "  }\n",
              "\n",
              "  @keyframes spin {\n",
              "    0% {\n",
              "      border-color: transparent;\n",
              "      border-bottom-color: var(--fill-color);\n",
              "      border-left-color: var(--fill-color);\n",
              "    }\n",
              "    20% {\n",
              "      border-color: transparent;\n",
              "      border-left-color: var(--fill-color);\n",
              "      border-top-color: var(--fill-color);\n",
              "    }\n",
              "    30% {\n",
              "      border-color: transparent;\n",
              "      border-left-color: var(--fill-color);\n",
              "      border-top-color: var(--fill-color);\n",
              "      border-right-color: var(--fill-color);\n",
              "    }\n",
              "    40% {\n",
              "      border-color: transparent;\n",
              "      border-right-color: var(--fill-color);\n",
              "      border-top-color: var(--fill-color);\n",
              "    }\n",
              "    60% {\n",
              "      border-color: transparent;\n",
              "      border-right-color: var(--fill-color);\n",
              "    }\n",
              "    80% {\n",
              "      border-color: transparent;\n",
              "      border-right-color: var(--fill-color);\n",
              "      border-bottom-color: var(--fill-color);\n",
              "    }\n",
              "    90% {\n",
              "      border-color: transparent;\n",
              "      border-bottom-color: var(--fill-color);\n",
              "    }\n",
              "  }\n",
              "</style>\n",
              "\n",
              "  <script>\n",
              "    async function quickchart(key) {\n",
              "      const quickchartButtonEl =\n",
              "        document.querySelector('#' + key + ' button');\n",
              "      quickchartButtonEl.disabled = true;  // To prevent multiple clicks.\n",
              "      quickchartButtonEl.classList.add('colab-df-spinner');\n",
              "      try {\n",
              "        const charts = await google.colab.kernel.invokeFunction(\n",
              "            'suggestCharts', [key], {});\n",
              "      } catch (error) {\n",
              "        console.error('Error during call to suggestCharts:', error);\n",
              "      }\n",
              "      quickchartButtonEl.classList.remove('colab-df-spinner');\n",
              "      quickchartButtonEl.classList.add('colab-df-quickchart-complete');\n",
              "    }\n",
              "    (() => {\n",
              "      let quickchartButtonEl =\n",
              "        document.querySelector('#df-52f3397d-7398-4deb-883d-88ac8f604a32 button');\n",
              "      quickchartButtonEl.style.display =\n",
              "        google.colab.kernel.accessAllowed ? 'block' : 'none';\n",
              "    })();\n",
              "  </script>\n",
              "</div>\n",
              "\n",
              "    </div>\n",
              "  </div>\n"
            ],
            "application/vnd.google.colaboratory.intrinsic+json": {
              "type": "dataframe",
              "variable_name": "dataset",
              "summary": "{\n  \"name\": \"dataset\",\n  \"rows\": 60090,\n  \"fields\": [\n    {\n      \"column\": \"rating\",\n      \"properties\": {\n        \"dtype\": \"number\",\n        \"std\": 1,\n        \"min\": 1,\n        \"max\": 5,\n        \"num_unique_values\": 5,\n        \"samples\": [\n          5,\n          2,\n          3\n        ],\n        \"semantic_type\": \"\",\n        \"description\": \"\"\n      }\n    },\n    {\n      \"column\": \"review\",\n      \"properties\": {\n        \"dtype\": \"string\",\n        \"num_unique_values\": 59571,\n        \"samples\": [\n          \"\\u0644\\u0645\\u0639\\u0631\\u0641\\u0629 \\u0648\\u062a\\u0621\\u0633\\u064a\\u0633 \\u0627\\u0644\\u062d\\u0642\\u0627\\u0621\\u0642 \\u0627\\u0644\\u0645\\u0631\\u0621\\u0629 \\u062a\\u0647\\u0648\\u064a\\u0644 \\u0627\\u0644\\u0643\\u062a\\u0627\\u0628\\u0629 \\u0639\\u0634\\u0642\\u062a \\u0627\\u0644\\u0642\\u0627\\u0631\\u0621 \\u0648\\u062a\\u0641\\u0643\\u064a\\u0631 \\u063a\\u0631\\u0646\\u0627\\u0637\\u0629 \\u0621\\u0637\\u064a\\u0627\\u0641 \\u0621\\u0639\\u062a\\u0628\\u0631\\u0647\\u0627 \\u0637\\u0631\\u064a\\u0642\\u0629 \\u0642\\u062f\\u0648\\u0629 \\u0648\\u0639\\u0634\\u0642\\u062a\\u0647\\u0627 \\u0645\\u0634\\u0631\\u0648\\u0639 \\u062a\\u0621\\u0631\\u064a\\u062e \\u0644\\u0639\\u0634\\u0642 \\u0639\\u0628\\u0642\\u0631\\u064a\\u0629 \\u0634\\u064a\\u0621 \\u062a\\u0639\\u0631\\u0641\\u062a \\u0621\\u062e\\u0644\\u0627\\u0635\\u0647\\u0627 \\u062a\\u0648\\u0642\\u0641 \\u062a\\u0641\\u0643\\u064a\\u0631\\u0647\\u0627\\u060c \\u0645\\u062c\\u0627\\u0644 \\u062a\\u062d\\u0642\\u064a\\u0642 \\u0644\\u062a\\u062d\\u0631\\u064a \\u0628\\u062d\\u062b \\u0645\\u0637\\u0648\\u0644 \\u062b\\u0644\\u0627\\u062b\\u064a\\u0629 \\u064a\\u062f\\u0641\\u0639\\u0646\\u064a \\u0645\\u0628\\u0627\\u0644\\u063a\\u0629 \\u0639\\u0631\\u0636 \\u0627\\u0644\\u062f\\u0642\\u0629 \\u0621\\u062d\\u0633\\u0627\\u0633 \\u062a\\u0644\\u0642\\u0627\\u0621\\u064a\\u062a\\u0647\\u0627 \\u062d\\u064a\\u0627\\u062a\\u0647\\u0627\\u060c \\u0645\\u0637\\u0648\\u0644\\u060c\",\n          \"\\u0621\\u0642\\u0633\\u0627\\u0645 \\u0628\\u0627\\u0644\\u0646\\u0633\\u0628\\u0629 \\u0627\\u0644\\u0637\\u0627\\u0642\\u0627\\u062a \\u0628\\u062f\\u0627\\u062e\\u0644\\u0647 \\u0644\\u062a\\u062d\\u0642\\u064a\\u0642 \\u064a\\u0631\\u0648\\u064a \\u0621\\u0633\\u062a\\u0637\\u0639 \\u0645\\u0633\\u062a\\u062d\\u064a\\u0644 \\u0634\\u0639\\u0628\\u0627\\u0646 \\u0627\\u0644\\u062e\\u0637\\u0648\\u0627\\u062a \\u0627\\u0644\\u0643\\u062a\\u0628 \\u0644\\u062a\\u062d\\u0642\\u0647\\u0627 \\u0627\\u0644\\u062f\\u0627\\u062e\\u0644 \\u0648\\u062a\\u0633\\u0639\\u0649 \\u0627\\u0644\\u0621\\u0621\\u062e\\u0631\\u064a\\u0646 \\u064a\\u0642\\u0648\\u0645 \\u0627\\u0644\\u0621\\u062d\\u0628\\u0627\\u0637\\u0627\\u062a \\u062a\\u062d\\u0633 \\u0621\\u062d\\u0633\\u062a \\u0648\\u062f\\u062a \\u0628\\u0627\\u0644\\u0645\\u0646\\u0627\\u0642\\u0634\\u0647 \\u0648\\u0633\\u0644\\u0633\\u0644 \\u0637\\u0631\\u064a\\u0642 \\u0645\\u0644\\u0647\\u0645\\u0647 \\u0646\\u0627\\u062f\\u064a \\u0621\\u062d\\u0644\\u0627\\u0645\\u0647\\u0645 \\u0645\\u062c\\u0645\\u0648\\u0639\\u0629 \\u0627\\u0644\\u0648\\u0635\\u0648\\u0644 \\u0648\\u0636\\u0639 \\u0631\\u0627\\u0621\\u0639 \\u0647\\u062f\\u0641\\u0643 \\u0628\\u0627\\u0644\\u062a\\u0639\\u0644\\u064a\\u0642 \\u0627\\u0644\\u0633\\u0628 \\u062a\\u0631\\u064a\\u062f \\u0648\\u062c\\u0645\\u064a\\u0644 \\u0648\\u0642\\u0627\\u0645\\u062a \\u0643\\u062a\\u0627\\u0628 \\u0621\\u0648\\u062f \\u062a\\u0642\\u0631\\u0621 \\u0627\\u0644\\u062c\\u0628\\u0627\\u0631\\u0647 \\u0627\\u0644\\u0643\\u062a\\u0627\\u0628 \\u0645\\u0639\\u0646\\u0649 \\u062a\\u0633\\u062a\\u0633\\u0644\\u0645 \\u0627\\u0646\\u062a\\u0647\\u064a\\u062a \\u0635\\u062f\\u064a\\u0642\\u0627\\u062a\\u064a \\u0621\\u062d\\u0644\\u0627\\u0645\\u0643 \\u062c\\u0633\\u0645\\u0643 \\u062a\\u0643\\u0645\\u0646 \\u0627\\u0644\\u0645\\u0635\\u0627\\u0639\\u0628 \\u0621\\u0630\\u0643\\u0631 \\u0621\\u0641\\u0636\\u0644 \\u0642\\u0631\\u0621\\u062a\\u0647 \\u0642\\u0627\\u0633\\u0648\\u0627 \\u0644\\u0646\\u0627\\u0642\\u0634\\u0647 \\u062e\\u0627\\u0646\\u062a\\u0643 \\u064a\\u0633\\u062a\\u062d\\u0642 3 \\u064a\\u062c\\u0639\\u0644\\u0647 \\u0644\\u0639\\u0627\\u0645 \\u0621\\u0648\\u0627\\u062e\\u0631 \\u0632\\u0627\\u0644\\u062a \\u0627\\u0644\\u0643\\u0627\\u062a\\u0628 \\u0621\\u0642\\u0631\\u0621\\u0647 \\u064a\\u062e\\u0628\\u0631\\u0643 \\u0648\\u0631\\u0628\\u0645\\u0649 \\u062a\\u0644\\u0648 \\u0628\\u0627\\u0646\\u062a\\u0638\\u0627\\u0631\\u0643 1432 \\u0642\\u0631\\u0621\\u062a\\u0647\\u0627 \\u0628\\u0634\\u062d\\u0646 \\u0627\\u0644\\u0642\\u0635 \\u0628\\u062a\\u062d\\u0628\\u064a\\u0637\\u0643 \\u0648\\u062a\\u062d\\u0633 \\u0641\\u0648\\u0631\\u0627 \\u062a\\u0644\\u0642\\u064a\\u062a \\u0643\\u0646\\u062a \\u0648\\u064a\\u062e\\u0631\\u062c \\u0627\\u0644\\u0621\\u062e\\u0631\\u0649 \\u0642\\u0635 \\u0644\\u0621\\u0634\\u062e\\u0627\\u0635 \\u064a\\u0639\\u0644\\u0645\\u0643 \\u0627\\u0644\\u0621\\u062d\\u0644\\u0627\\u0645 \\u0628\\u0621\\u0633\\u0644\\u0648\\u0628 \\u0644\\u0642\\u0631\\u0627\\u0621\\u0647 \\u062d\\u0644\\u0645\",\n          \"\\u0645\\u0628\\u062f\\u0639 \\u0627\\u0633\\u062a\\u0627\\u0630 \\u062f\\u0627\\u064a\\u0645\\u0627 \\u064a\\u0643\\u0631\\u0645\\u0643 \\u0627\\u062c\\u0645\\u0644 \\u0627\\u0644\\u0631\\u0648\\u0627\\u064a\\u0627\\u062a \\u0633\\u0631\\u062f \\u0628\\u0627\\u0644\\u0646\\u062c\\u0627\\u062d \\u0639\\u0627\\u0644\\u0645 \\u063a\\u0631\\u064a\\u0628 \\u0628\\u062c\\u062f \\u0627\\u0628\\u062f\\u0627 \\u0627\\u0646\\u0647\\u0627 \\u0627\\u0644\\u0627\\u062d\\u062f\\u0627\\u062b \\u0627\\u062d\\u0645\\u062f \\u0628\\u0633\\u062a\\u0645\\u062a\\u0639 \\u0628\\u064a\\u0647\\u0627 \\u0634\\u0627\\u0621 \\u0647\\u0644\\u0627\\u0642\\u0649 \\u062d\\u0636\\u0631\\u062a\\u0643 \\u0632\\u064a\\u0647\\u0627 \\u0631\\u0628\\u0646\\u0627 \\u0645\\u0634 \\u0628\\u062d\\u0633 \\u0627\\u0644\\u0647\"\n        ],\n        \"semantic_type\": \"\",\n        \"description\": \"\"\n      }\n    }\n  ]\n}"
            }
          },
          "metadata": {},
          "execution_count": 36
        }
      ]
    },
    {
      "cell_type": "code",
      "source": [
        "# remove arabic diactrics\n",
        "\n",
        "import pyarabic.araby as araby\n",
        "dataset[\"review\"] = dataset[\"review\"].apply(lambda document: araby.strip_tashkeel(document))\n",
        "dataset.head()"
      ],
      "metadata": {
        "colab": {
          "base_uri": "https://localhost:8080/",
          "height": 206
        },
        "id": "WCbCcAuYdnKH",
        "outputId": "8849abb0-e397-4032-d32c-c35834021185"
      },
      "execution_count": 37,
      "outputs": [
        {
          "output_type": "execute_result",
          "data": {
            "text/plain": [
              "   rating                                             review\n",
              "0       4  ابطال كثره والابطال مواقف ليهم حصلي اكتشفت عبق...\n",
              "1       5                             يمكني حتما ءختزلها وصف\n",
              "2       4  المصطاوي الامام عبدالرحمن الشافعي الديوان رحمة...\n",
              "3       5  شقت اسراءيل يسمي قراءة لمستقبل الخليج تجذبني ق...\n",
              "4       4  الصدمه مباشر القصيبي رحمة فكاتبها زوجته، تحتوي..."
            ],
            "text/html": [
              "\n",
              "  <div id=\"df-cb6c9144-39f4-4f35-b282-24cbf8e8759a\" class=\"colab-df-container\">\n",
              "    <div>\n",
              "<style scoped>\n",
              "    .dataframe tbody tr th:only-of-type {\n",
              "        vertical-align: middle;\n",
              "    }\n",
              "\n",
              "    .dataframe tbody tr th {\n",
              "        vertical-align: top;\n",
              "    }\n",
              "\n",
              "    .dataframe thead th {\n",
              "        text-align: right;\n",
              "    }\n",
              "</style>\n",
              "<table border=\"1\" class=\"dataframe\">\n",
              "  <thead>\n",
              "    <tr style=\"text-align: right;\">\n",
              "      <th></th>\n",
              "      <th>rating</th>\n",
              "      <th>review</th>\n",
              "    </tr>\n",
              "  </thead>\n",
              "  <tbody>\n",
              "    <tr>\n",
              "      <th>0</th>\n",
              "      <td>4</td>\n",
              "      <td>ابطال كثره والابطال مواقف ليهم حصلي اكتشفت عبق...</td>\n",
              "    </tr>\n",
              "    <tr>\n",
              "      <th>1</th>\n",
              "      <td>5</td>\n",
              "      <td>يمكني حتما ءختزلها وصف</td>\n",
              "    </tr>\n",
              "    <tr>\n",
              "      <th>2</th>\n",
              "      <td>4</td>\n",
              "      <td>المصطاوي الامام عبدالرحمن الشافعي الديوان رحمة...</td>\n",
              "    </tr>\n",
              "    <tr>\n",
              "      <th>3</th>\n",
              "      <td>5</td>\n",
              "      <td>شقت اسراءيل يسمي قراءة لمستقبل الخليج تجذبني ق...</td>\n",
              "    </tr>\n",
              "    <tr>\n",
              "      <th>4</th>\n",
              "      <td>4</td>\n",
              "      <td>الصدمه مباشر القصيبي رحمة فكاتبها زوجته، تحتوي...</td>\n",
              "    </tr>\n",
              "  </tbody>\n",
              "</table>\n",
              "</div>\n",
              "    <div class=\"colab-df-buttons\">\n",
              "\n",
              "  <div class=\"colab-df-container\">\n",
              "    <button class=\"colab-df-convert\" onclick=\"convertToInteractive('df-cb6c9144-39f4-4f35-b282-24cbf8e8759a')\"\n",
              "            title=\"Convert this dataframe to an interactive table.\"\n",
              "            style=\"display:none;\">\n",
              "\n",
              "  <svg xmlns=\"http://www.w3.org/2000/svg\" height=\"24px\" viewBox=\"0 -960 960 960\">\n",
              "    <path d=\"M120-120v-720h720v720H120Zm60-500h600v-160H180v160Zm220 220h160v-160H400v160Zm0 220h160v-160H400v160ZM180-400h160v-160H180v160Zm440 0h160v-160H620v160ZM180-180h160v-160H180v160Zm440 0h160v-160H620v160Z\"/>\n",
              "  </svg>\n",
              "    </button>\n",
              "\n",
              "  <style>\n",
              "    .colab-df-container {\n",
              "      display:flex;\n",
              "      gap: 12px;\n",
              "    }\n",
              "\n",
              "    .colab-df-convert {\n",
              "      background-color: #E8F0FE;\n",
              "      border: none;\n",
              "      border-radius: 50%;\n",
              "      cursor: pointer;\n",
              "      display: none;\n",
              "      fill: #1967D2;\n",
              "      height: 32px;\n",
              "      padding: 0 0 0 0;\n",
              "      width: 32px;\n",
              "    }\n",
              "\n",
              "    .colab-df-convert:hover {\n",
              "      background-color: #E2EBFA;\n",
              "      box-shadow: 0px 1px 2px rgba(60, 64, 67, 0.3), 0px 1px 3px 1px rgba(60, 64, 67, 0.15);\n",
              "      fill: #174EA6;\n",
              "    }\n",
              "\n",
              "    .colab-df-buttons div {\n",
              "      margin-bottom: 4px;\n",
              "    }\n",
              "\n",
              "    [theme=dark] .colab-df-convert {\n",
              "      background-color: #3B4455;\n",
              "      fill: #D2E3FC;\n",
              "    }\n",
              "\n",
              "    [theme=dark] .colab-df-convert:hover {\n",
              "      background-color: #434B5C;\n",
              "      box-shadow: 0px 1px 3px 1px rgba(0, 0, 0, 0.15);\n",
              "      filter: drop-shadow(0px 1px 2px rgba(0, 0, 0, 0.3));\n",
              "      fill: #FFFFFF;\n",
              "    }\n",
              "  </style>\n",
              "\n",
              "    <script>\n",
              "      const buttonEl =\n",
              "        document.querySelector('#df-cb6c9144-39f4-4f35-b282-24cbf8e8759a button.colab-df-convert');\n",
              "      buttonEl.style.display =\n",
              "        google.colab.kernel.accessAllowed ? 'block' : 'none';\n",
              "\n",
              "      async function convertToInteractive(key) {\n",
              "        const element = document.querySelector('#df-cb6c9144-39f4-4f35-b282-24cbf8e8759a');\n",
              "        const dataTable =\n",
              "          await google.colab.kernel.invokeFunction('convertToInteractive',\n",
              "                                                    [key], {});\n",
              "        if (!dataTable) return;\n",
              "\n",
              "        const docLinkHtml = 'Like what you see? Visit the ' +\n",
              "          '<a target=\"_blank\" href=https://colab.research.google.com/notebooks/data_table.ipynb>data table notebook</a>'\n",
              "          + ' to learn more about interactive tables.';\n",
              "        element.innerHTML = '';\n",
              "        dataTable['output_type'] = 'display_data';\n",
              "        await google.colab.output.renderOutput(dataTable, element);\n",
              "        const docLink = document.createElement('div');\n",
              "        docLink.innerHTML = docLinkHtml;\n",
              "        element.appendChild(docLink);\n",
              "      }\n",
              "    </script>\n",
              "  </div>\n",
              "\n",
              "\n",
              "<div id=\"df-ed44ad78-72d6-407d-baf4-c0f06f3abee1\">\n",
              "  <button class=\"colab-df-quickchart\" onclick=\"quickchart('df-ed44ad78-72d6-407d-baf4-c0f06f3abee1')\"\n",
              "            title=\"Suggest charts\"\n",
              "            style=\"display:none;\">\n",
              "\n",
              "<svg xmlns=\"http://www.w3.org/2000/svg\" height=\"24px\"viewBox=\"0 0 24 24\"\n",
              "     width=\"24px\">\n",
              "    <g>\n",
              "        <path d=\"M19 3H5c-1.1 0-2 .9-2 2v14c0 1.1.9 2 2 2h14c1.1 0 2-.9 2-2V5c0-1.1-.9-2-2-2zM9 17H7v-7h2v7zm4 0h-2V7h2v10zm4 0h-2v-4h2v4z\"/>\n",
              "    </g>\n",
              "</svg>\n",
              "  </button>\n",
              "\n",
              "<style>\n",
              "  .colab-df-quickchart {\n",
              "      --bg-color: #E8F0FE;\n",
              "      --fill-color: #1967D2;\n",
              "      --hover-bg-color: #E2EBFA;\n",
              "      --hover-fill-color: #174EA6;\n",
              "      --disabled-fill-color: #AAA;\n",
              "      --disabled-bg-color: #DDD;\n",
              "  }\n",
              "\n",
              "  [theme=dark] .colab-df-quickchart {\n",
              "      --bg-color: #3B4455;\n",
              "      --fill-color: #D2E3FC;\n",
              "      --hover-bg-color: #434B5C;\n",
              "      --hover-fill-color: #FFFFFF;\n",
              "      --disabled-bg-color: #3B4455;\n",
              "      --disabled-fill-color: #666;\n",
              "  }\n",
              "\n",
              "  .colab-df-quickchart {\n",
              "    background-color: var(--bg-color);\n",
              "    border: none;\n",
              "    border-radius: 50%;\n",
              "    cursor: pointer;\n",
              "    display: none;\n",
              "    fill: var(--fill-color);\n",
              "    height: 32px;\n",
              "    padding: 0;\n",
              "    width: 32px;\n",
              "  }\n",
              "\n",
              "  .colab-df-quickchart:hover {\n",
              "    background-color: var(--hover-bg-color);\n",
              "    box-shadow: 0 1px 2px rgba(60, 64, 67, 0.3), 0 1px 3px 1px rgba(60, 64, 67, 0.15);\n",
              "    fill: var(--button-hover-fill-color);\n",
              "  }\n",
              "\n",
              "  .colab-df-quickchart-complete:disabled,\n",
              "  .colab-df-quickchart-complete:disabled:hover {\n",
              "    background-color: var(--disabled-bg-color);\n",
              "    fill: var(--disabled-fill-color);\n",
              "    box-shadow: none;\n",
              "  }\n",
              "\n",
              "  .colab-df-spinner {\n",
              "    border: 2px solid var(--fill-color);\n",
              "    border-color: transparent;\n",
              "    border-bottom-color: var(--fill-color);\n",
              "    animation:\n",
              "      spin 1s steps(1) infinite;\n",
              "  }\n",
              "\n",
              "  @keyframes spin {\n",
              "    0% {\n",
              "      border-color: transparent;\n",
              "      border-bottom-color: var(--fill-color);\n",
              "      border-left-color: var(--fill-color);\n",
              "    }\n",
              "    20% {\n",
              "      border-color: transparent;\n",
              "      border-left-color: var(--fill-color);\n",
              "      border-top-color: var(--fill-color);\n",
              "    }\n",
              "    30% {\n",
              "      border-color: transparent;\n",
              "      border-left-color: var(--fill-color);\n",
              "      border-top-color: var(--fill-color);\n",
              "      border-right-color: var(--fill-color);\n",
              "    }\n",
              "    40% {\n",
              "      border-color: transparent;\n",
              "      border-right-color: var(--fill-color);\n",
              "      border-top-color: var(--fill-color);\n",
              "    }\n",
              "    60% {\n",
              "      border-color: transparent;\n",
              "      border-right-color: var(--fill-color);\n",
              "    }\n",
              "    80% {\n",
              "      border-color: transparent;\n",
              "      border-right-color: var(--fill-color);\n",
              "      border-bottom-color: var(--fill-color);\n",
              "    }\n",
              "    90% {\n",
              "      border-color: transparent;\n",
              "      border-bottom-color: var(--fill-color);\n",
              "    }\n",
              "  }\n",
              "</style>\n",
              "\n",
              "  <script>\n",
              "    async function quickchart(key) {\n",
              "      const quickchartButtonEl =\n",
              "        document.querySelector('#' + key + ' button');\n",
              "      quickchartButtonEl.disabled = true;  // To prevent multiple clicks.\n",
              "      quickchartButtonEl.classList.add('colab-df-spinner');\n",
              "      try {\n",
              "        const charts = await google.colab.kernel.invokeFunction(\n",
              "            'suggestCharts', [key], {});\n",
              "      } catch (error) {\n",
              "        console.error('Error during call to suggestCharts:', error);\n",
              "      }\n",
              "      quickchartButtonEl.classList.remove('colab-df-spinner');\n",
              "      quickchartButtonEl.classList.add('colab-df-quickchart-complete');\n",
              "    }\n",
              "    (() => {\n",
              "      let quickchartButtonEl =\n",
              "        document.querySelector('#df-ed44ad78-72d6-407d-baf4-c0f06f3abee1 button');\n",
              "      quickchartButtonEl.style.display =\n",
              "        google.colab.kernel.accessAllowed ? 'block' : 'none';\n",
              "    })();\n",
              "  </script>\n",
              "</div>\n",
              "\n",
              "    </div>\n",
              "  </div>\n"
            ],
            "application/vnd.google.colaboratory.intrinsic+json": {
              "type": "dataframe",
              "variable_name": "dataset",
              "summary": "{\n  \"name\": \"dataset\",\n  \"rows\": 60090,\n  \"fields\": [\n    {\n      \"column\": \"rating\",\n      \"properties\": {\n        \"dtype\": \"number\",\n        \"std\": 1,\n        \"min\": 1,\n        \"max\": 5,\n        \"num_unique_values\": 5,\n        \"samples\": [\n          5,\n          2,\n          3\n        ],\n        \"semantic_type\": \"\",\n        \"description\": \"\"\n      }\n    },\n    {\n      \"column\": \"review\",\n      \"properties\": {\n        \"dtype\": \"string\",\n        \"num_unique_values\": 59557,\n        \"samples\": [\n          \"\\u0627\\u0644\\u0645\\u0646\\u0627\\u0633\\u0628\\u0629 \\u0648\\u0627\\u0644\\u0627\\u062e\\u062a\\u0635\\u0627\\u0631 \\u0648\\u0633\\u0621\\u0638\\u0644 \\u0637\\u0631\\u062d\\u0647 \\u0648\\u0642\\u0631\\u0627\\u0621\\u062a\\u0647 \\u0627\\u0644\\u0621\\u0633\\u0647\\u0627\\u0628 \\u0621\\u0646\\u0633\\u0649 \\u0645\\u0648\\u062c\\u0632\\u0629 \\u0631\\u0648\\u0639\\u0629 \\u0648\\u0627\\u062c\\u0628\\u0629 \\u062a\\u0633\\u0644\\u0633\\u0644 \\u0628\\u0642\\u0631\\u0627\\u0621\\u062a\\u0647 \\u0648\\u062c\\u0648\\u062f\\u0629 \\u0627\\u0644\\u0645\\u062e\\u0644\\u060c \\u0645\\u0646\\u0627\\u0633\\u0628 \\u0621\\u0639\\u0628\\u0631 \\u0631\\u062d\\u0644\\u0629 \\u064a\\u062a\\u0639\\u0645\\u0642 \\u0621\\u0646\\u0635\\u062d \\u0627\\u0644\\u062a\\u0627\\u0631\\u064a\\u062e \\u0627\\u0644\\u0627\\u062c\\u062a\\u0645\\u0627\\u0639\\u064a \\u0644\\u0641\\u0644\\u0633\\u0637\\u064a\\u0646 \\u0641\\u0644\\u0633\\u0637\\u064a\\u0646 \\u0627\\u0644\\u0621\\u0639\\u0645\\u0627\\u0631\\u060c \\u062a\\u0627\\u0631\\u064a\\u062e \\u0645\\u062a\\u0639\\u0645\\u0642 \\u0628\\u0645\\u062a\\u0627\\u0628\\u0639 \\u0621\\u062c\\u062f \\u0642\\u0631\\u0627\\u0621\\u062a\\u064a \\u062a\\u0627\\u0631\\u064a\\u062e\\u064a\\u0629 \\u0627\\u0644\\u062c\\u0645\\u064a\\u0639 \\u0648\\u0627\\u0644\\u0633\\u064a\\u0627\\u0633\\u064a \\u0621\\u064a\\u0627\\u0645 \\u064a\\u062e\\u0644\\u0648 \\u0627\\u0644\\u0643\\u0644\\u0645\\u0629 \\u0627\\u0644\\u0643\\u062a\\u0627\\u0628 \\u0627\\u0644\\u0645\\u0644 \\u0627\\u0644\\u0633\\u064a\\u0627\\u0633\\u064a\\u0629 \\u0648\\u0645\\u0635\\u0648\\u0631\\u060c \\u064a\\u062d\\u0645\\u0644\\u0643 \\u0627\\u0644\\u0642\\u062f\\u0645 \\u0627\\u0644\\u0645\\u062d\\u062a\\u0644\\u0629 \\u0644\\u0621\\u062e\\u0628\\u0627\\u0631 \\u0645\\u062a\\u0627\\u0632\\u060c\",\n          \"\\u0628\\u0646\\u0642\\u0635 \\u0631\\u062d\\u0645\\u0647 \\u0634\\u0621 \\u0627\\u0646\\u0633\\u0627\\u0646\\u0627 \\u0645\\u0644\\u0621 \\u064a\\u0631\\u062d\\u0645\\u0646\\u0627 \\u0627\\u0644\\u0645\\u0641\\u064a\\u062f\\u0629 \\u0645\\u062e\\u062a\\u0644\\u0641\\u0627 \\u0627\\u0644\\u062f\\u0631\\u0648\\u0633 \\u0628\\u0627\\u0644\\u0639\\u0628\\u0631 \\u0627\\u062d\\u0633\\u062a \\u0627\\u062d\\u0632\\u0646\\u062a\\u0646\\u064a \\u0627\\u0644\\u0643\\u062a\\u0627\\u0628 \\u0627\\u062a\\u0639\\u0631\\u0641 \\u0643\\u062a\\u0627\\u0628\\u0647 \\u062c\\u0645\\u0639\\u064a\\u0627 \\u0645\\u0641\\u0642\\u0648\\u062f \\u0635\\u0641\\u062d\\u0629 \\u0627\\u0644\\u0647\",\n          \"\\u0641\\u0627\\u062e\\u062a\\u0627\\u0631\\u0648 \\u0627\\u0644\\u062a\\u0641\\u0635\\u064a\\u0644 \\u0645\\u0631\\u062d\\u0644\\u0629 \\u0641\\u0647\\u0645\\u062a \\u0627\\u0644\\u0648\\u0635\\u0648\\u0644 \\u062c\\u0632\\u0621 \\u0627\\u0644\\u0643\\u0627\\u062a\\u0628\\u0629 \\u0645\\u0627\\u0641\\u064a\\u0647\\u0627 \\u0643\\u0648\\u0627\\u0642\\u0639 \\u0645\\u0646\\u0627 \\u0628\\u062f\\u0627\\u064a\\u062a\\u0647\\u0627 \\u0648\\u0627\\u0646\\u062a\\u0642\\u0644\\u0648 \\u0627\\u0644\\u0631\\u063a\\u0628\\u0627\\u062a \\u0639\\u0628\\u0648\\u062f\\u064a\\u0629 \\u0627\\u0644\\u062e\\u0627\\u0637\\u0621 \\u0627\\u0644\\u0641\\u0642\\u062f \\u0627\\u0644\\u0637\\u0631\\u0642 \\u0648\\u0636\\u0639 \\u0627\\u0644\\u0645\\u0627\\u0644 \\u0643\\u0628\\u064a\\u0631 \\u0644\\u0627\\u0621\\u0642 \\u0635\\u0641\\u062d\\u0627\\u062a \\u0621\\u0639\\u062c\\u0628\\u062a \\u062c\\u0645\\u064a\\u0644\\u0629 \\u0621\\u0633\\u0644\\u0648\\u0628 \\u0645\\u0631\\u0627\\u0631\\u0629 \\u0641\\u062a\\u0627\\u0629 \\u0627\\u0644\\u0631\\u0648\\u0627\\u064a\\u0629 \\u0627\\u0644\\u062e\\u0627\\u0637\\u0621\\u0629 \\u0628\\u0627\\u0644\\u0631\\u0648\\u0627\\u064a\\u0629 \\u0621\\u0628\\u0648\\u064a\\u0647\\u0627 \\u0627\\u0644\\u0628\\u062f\\u0627\\u064a\\u0629 \\u0631\\u063a\\u0628\\u0627\\u062a\\u0647 \\u0648\\u0627\\u0644\\u062d\\u0631\\u0645\\u0627\\u0646 \\u0621\\u0633\\u0647\\u0644 \\u0627\\u0644\\u0641\\u0642\\u064a\\u0631\\u064a\\u0646 \\u0627\\u0642\\u0631\\u0621 \\u0645\\u063a\\u0632\\u0649 \\u0630\\u0627\\u0642 \\u0627\\u0644\\u0631\\u0633\\u0627\\u0644\\u0629 \\u0621\\u0646\\u0647\\u064a\\u062a \\u0631\\u0633\\u0627\\u0644\\u0629 \\u0628\\u0630\\u0644 \\u0633\\u064a\\u0621 \\u062a\\u0645\\u0631\\u062f \\u0644\\u062a\\u062d\\u0631 \\u064a\\u062d\\u0627\\u0648\\u0644 \\u062c\\u062f\\u0627 \\u0632\\u0648\\u062c\\u064a\\u0646 \\u062c\\u0647\\u062f \\u0627\\u0644\\u0641\\u0642\\u0631 \\u0628\\u0621\\u0633\\u0644\\u0648\\u0628 \\u0644\\u0621\\u064a\\u0635\\u0627\\u0644 \\u0644\\u0633\\u0644\\u0648\\u0643\"\n        ],\n        \"semantic_type\": \"\",\n        \"description\": \"\"\n      }\n    }\n  ]\n}"
            }
          },
          "metadata": {},
          "execution_count": 37
        }
      ]
    },
    {
      "cell_type": "code",
      "source": [
        "# prompt: remove numbers\n",
        "\n",
        "dataset[\"review\"] = dataset[\"review\"].apply(lambda document: re.sub(r'\\d+', '', document))\n",
        "dataset.head()"
      ],
      "metadata": {
        "colab": {
          "base_uri": "https://localhost:8080/",
          "height": 206
        },
        "id": "zO7uVaj6x0ik",
        "outputId": "79e65670-61b1-45c9-b9a1-a98af81095f3"
      },
      "execution_count": 38,
      "outputs": [
        {
          "output_type": "execute_result",
          "data": {
            "text/plain": [
              "   rating                                             review\n",
              "0       4  ابطال كثره والابطال مواقف ليهم حصلي اكتشفت عبق...\n",
              "1       5                             يمكني حتما ءختزلها وصف\n",
              "2       4  المصطاوي الامام عبدالرحمن الشافعي الديوان رحمة...\n",
              "3       5  شقت اسراءيل يسمي قراءة لمستقبل الخليج تجذبني ق...\n",
              "4       4  الصدمه مباشر القصيبي رحمة فكاتبها زوجته، تحتوي..."
            ],
            "text/html": [
              "\n",
              "  <div id=\"df-f5fc00a3-06fa-472d-b7d0-f7aa31f9ba8b\" class=\"colab-df-container\">\n",
              "    <div>\n",
              "<style scoped>\n",
              "    .dataframe tbody tr th:only-of-type {\n",
              "        vertical-align: middle;\n",
              "    }\n",
              "\n",
              "    .dataframe tbody tr th {\n",
              "        vertical-align: top;\n",
              "    }\n",
              "\n",
              "    .dataframe thead th {\n",
              "        text-align: right;\n",
              "    }\n",
              "</style>\n",
              "<table border=\"1\" class=\"dataframe\">\n",
              "  <thead>\n",
              "    <tr style=\"text-align: right;\">\n",
              "      <th></th>\n",
              "      <th>rating</th>\n",
              "      <th>review</th>\n",
              "    </tr>\n",
              "  </thead>\n",
              "  <tbody>\n",
              "    <tr>\n",
              "      <th>0</th>\n",
              "      <td>4</td>\n",
              "      <td>ابطال كثره والابطال مواقف ليهم حصلي اكتشفت عبق...</td>\n",
              "    </tr>\n",
              "    <tr>\n",
              "      <th>1</th>\n",
              "      <td>5</td>\n",
              "      <td>يمكني حتما ءختزلها وصف</td>\n",
              "    </tr>\n",
              "    <tr>\n",
              "      <th>2</th>\n",
              "      <td>4</td>\n",
              "      <td>المصطاوي الامام عبدالرحمن الشافعي الديوان رحمة...</td>\n",
              "    </tr>\n",
              "    <tr>\n",
              "      <th>3</th>\n",
              "      <td>5</td>\n",
              "      <td>شقت اسراءيل يسمي قراءة لمستقبل الخليج تجذبني ق...</td>\n",
              "    </tr>\n",
              "    <tr>\n",
              "      <th>4</th>\n",
              "      <td>4</td>\n",
              "      <td>الصدمه مباشر القصيبي رحمة فكاتبها زوجته، تحتوي...</td>\n",
              "    </tr>\n",
              "  </tbody>\n",
              "</table>\n",
              "</div>\n",
              "    <div class=\"colab-df-buttons\">\n",
              "\n",
              "  <div class=\"colab-df-container\">\n",
              "    <button class=\"colab-df-convert\" onclick=\"convertToInteractive('df-f5fc00a3-06fa-472d-b7d0-f7aa31f9ba8b')\"\n",
              "            title=\"Convert this dataframe to an interactive table.\"\n",
              "            style=\"display:none;\">\n",
              "\n",
              "  <svg xmlns=\"http://www.w3.org/2000/svg\" height=\"24px\" viewBox=\"0 -960 960 960\">\n",
              "    <path d=\"M120-120v-720h720v720H120Zm60-500h600v-160H180v160Zm220 220h160v-160H400v160Zm0 220h160v-160H400v160ZM180-400h160v-160H180v160Zm440 0h160v-160H620v160ZM180-180h160v-160H180v160Zm440 0h160v-160H620v160Z\"/>\n",
              "  </svg>\n",
              "    </button>\n",
              "\n",
              "  <style>\n",
              "    .colab-df-container {\n",
              "      display:flex;\n",
              "      gap: 12px;\n",
              "    }\n",
              "\n",
              "    .colab-df-convert {\n",
              "      background-color: #E8F0FE;\n",
              "      border: none;\n",
              "      border-radius: 50%;\n",
              "      cursor: pointer;\n",
              "      display: none;\n",
              "      fill: #1967D2;\n",
              "      height: 32px;\n",
              "      padding: 0 0 0 0;\n",
              "      width: 32px;\n",
              "    }\n",
              "\n",
              "    .colab-df-convert:hover {\n",
              "      background-color: #E2EBFA;\n",
              "      box-shadow: 0px 1px 2px rgba(60, 64, 67, 0.3), 0px 1px 3px 1px rgba(60, 64, 67, 0.15);\n",
              "      fill: #174EA6;\n",
              "    }\n",
              "\n",
              "    .colab-df-buttons div {\n",
              "      margin-bottom: 4px;\n",
              "    }\n",
              "\n",
              "    [theme=dark] .colab-df-convert {\n",
              "      background-color: #3B4455;\n",
              "      fill: #D2E3FC;\n",
              "    }\n",
              "\n",
              "    [theme=dark] .colab-df-convert:hover {\n",
              "      background-color: #434B5C;\n",
              "      box-shadow: 0px 1px 3px 1px rgba(0, 0, 0, 0.15);\n",
              "      filter: drop-shadow(0px 1px 2px rgba(0, 0, 0, 0.3));\n",
              "      fill: #FFFFFF;\n",
              "    }\n",
              "  </style>\n",
              "\n",
              "    <script>\n",
              "      const buttonEl =\n",
              "        document.querySelector('#df-f5fc00a3-06fa-472d-b7d0-f7aa31f9ba8b button.colab-df-convert');\n",
              "      buttonEl.style.display =\n",
              "        google.colab.kernel.accessAllowed ? 'block' : 'none';\n",
              "\n",
              "      async function convertToInteractive(key) {\n",
              "        const element = document.querySelector('#df-f5fc00a3-06fa-472d-b7d0-f7aa31f9ba8b');\n",
              "        const dataTable =\n",
              "          await google.colab.kernel.invokeFunction('convertToInteractive',\n",
              "                                                    [key], {});\n",
              "        if (!dataTable) return;\n",
              "\n",
              "        const docLinkHtml = 'Like what you see? Visit the ' +\n",
              "          '<a target=\"_blank\" href=https://colab.research.google.com/notebooks/data_table.ipynb>data table notebook</a>'\n",
              "          + ' to learn more about interactive tables.';\n",
              "        element.innerHTML = '';\n",
              "        dataTable['output_type'] = 'display_data';\n",
              "        await google.colab.output.renderOutput(dataTable, element);\n",
              "        const docLink = document.createElement('div');\n",
              "        docLink.innerHTML = docLinkHtml;\n",
              "        element.appendChild(docLink);\n",
              "      }\n",
              "    </script>\n",
              "  </div>\n",
              "\n",
              "\n",
              "<div id=\"df-e90a17b6-c7c4-459f-b822-17d8b93d59e4\">\n",
              "  <button class=\"colab-df-quickchart\" onclick=\"quickchart('df-e90a17b6-c7c4-459f-b822-17d8b93d59e4')\"\n",
              "            title=\"Suggest charts\"\n",
              "            style=\"display:none;\">\n",
              "\n",
              "<svg xmlns=\"http://www.w3.org/2000/svg\" height=\"24px\"viewBox=\"0 0 24 24\"\n",
              "     width=\"24px\">\n",
              "    <g>\n",
              "        <path d=\"M19 3H5c-1.1 0-2 .9-2 2v14c0 1.1.9 2 2 2h14c1.1 0 2-.9 2-2V5c0-1.1-.9-2-2-2zM9 17H7v-7h2v7zm4 0h-2V7h2v10zm4 0h-2v-4h2v4z\"/>\n",
              "    </g>\n",
              "</svg>\n",
              "  </button>\n",
              "\n",
              "<style>\n",
              "  .colab-df-quickchart {\n",
              "      --bg-color: #E8F0FE;\n",
              "      --fill-color: #1967D2;\n",
              "      --hover-bg-color: #E2EBFA;\n",
              "      --hover-fill-color: #174EA6;\n",
              "      --disabled-fill-color: #AAA;\n",
              "      --disabled-bg-color: #DDD;\n",
              "  }\n",
              "\n",
              "  [theme=dark] .colab-df-quickchart {\n",
              "      --bg-color: #3B4455;\n",
              "      --fill-color: #D2E3FC;\n",
              "      --hover-bg-color: #434B5C;\n",
              "      --hover-fill-color: #FFFFFF;\n",
              "      --disabled-bg-color: #3B4455;\n",
              "      --disabled-fill-color: #666;\n",
              "  }\n",
              "\n",
              "  .colab-df-quickchart {\n",
              "    background-color: var(--bg-color);\n",
              "    border: none;\n",
              "    border-radius: 50%;\n",
              "    cursor: pointer;\n",
              "    display: none;\n",
              "    fill: var(--fill-color);\n",
              "    height: 32px;\n",
              "    padding: 0;\n",
              "    width: 32px;\n",
              "  }\n",
              "\n",
              "  .colab-df-quickchart:hover {\n",
              "    background-color: var(--hover-bg-color);\n",
              "    box-shadow: 0 1px 2px rgba(60, 64, 67, 0.3), 0 1px 3px 1px rgba(60, 64, 67, 0.15);\n",
              "    fill: var(--button-hover-fill-color);\n",
              "  }\n",
              "\n",
              "  .colab-df-quickchart-complete:disabled,\n",
              "  .colab-df-quickchart-complete:disabled:hover {\n",
              "    background-color: var(--disabled-bg-color);\n",
              "    fill: var(--disabled-fill-color);\n",
              "    box-shadow: none;\n",
              "  }\n",
              "\n",
              "  .colab-df-spinner {\n",
              "    border: 2px solid var(--fill-color);\n",
              "    border-color: transparent;\n",
              "    border-bottom-color: var(--fill-color);\n",
              "    animation:\n",
              "      spin 1s steps(1) infinite;\n",
              "  }\n",
              "\n",
              "  @keyframes spin {\n",
              "    0% {\n",
              "      border-color: transparent;\n",
              "      border-bottom-color: var(--fill-color);\n",
              "      border-left-color: var(--fill-color);\n",
              "    }\n",
              "    20% {\n",
              "      border-color: transparent;\n",
              "      border-left-color: var(--fill-color);\n",
              "      border-top-color: var(--fill-color);\n",
              "    }\n",
              "    30% {\n",
              "      border-color: transparent;\n",
              "      border-left-color: var(--fill-color);\n",
              "      border-top-color: var(--fill-color);\n",
              "      border-right-color: var(--fill-color);\n",
              "    }\n",
              "    40% {\n",
              "      border-color: transparent;\n",
              "      border-right-color: var(--fill-color);\n",
              "      border-top-color: var(--fill-color);\n",
              "    }\n",
              "    60% {\n",
              "      border-color: transparent;\n",
              "      border-right-color: var(--fill-color);\n",
              "    }\n",
              "    80% {\n",
              "      border-color: transparent;\n",
              "      border-right-color: var(--fill-color);\n",
              "      border-bottom-color: var(--fill-color);\n",
              "    }\n",
              "    90% {\n",
              "      border-color: transparent;\n",
              "      border-bottom-color: var(--fill-color);\n",
              "    }\n",
              "  }\n",
              "</style>\n",
              "\n",
              "  <script>\n",
              "    async function quickchart(key) {\n",
              "      const quickchartButtonEl =\n",
              "        document.querySelector('#' + key + ' button');\n",
              "      quickchartButtonEl.disabled = true;  // To prevent multiple clicks.\n",
              "      quickchartButtonEl.classList.add('colab-df-spinner');\n",
              "      try {\n",
              "        const charts = await google.colab.kernel.invokeFunction(\n",
              "            'suggestCharts', [key], {});\n",
              "      } catch (error) {\n",
              "        console.error('Error during call to suggestCharts:', error);\n",
              "      }\n",
              "      quickchartButtonEl.classList.remove('colab-df-spinner');\n",
              "      quickchartButtonEl.classList.add('colab-df-quickchart-complete');\n",
              "    }\n",
              "    (() => {\n",
              "      let quickchartButtonEl =\n",
              "        document.querySelector('#df-e90a17b6-c7c4-459f-b822-17d8b93d59e4 button');\n",
              "      quickchartButtonEl.style.display =\n",
              "        google.colab.kernel.accessAllowed ? 'block' : 'none';\n",
              "    })();\n",
              "  </script>\n",
              "</div>\n",
              "\n",
              "    </div>\n",
              "  </div>\n"
            ],
            "application/vnd.google.colaboratory.intrinsic+json": {
              "type": "dataframe",
              "variable_name": "dataset",
              "summary": "{\n  \"name\": \"dataset\",\n  \"rows\": 60090,\n  \"fields\": [\n    {\n      \"column\": \"rating\",\n      \"properties\": {\n        \"dtype\": \"number\",\n        \"std\": 1,\n        \"min\": 1,\n        \"max\": 5,\n        \"num_unique_values\": 5,\n        \"samples\": [\n          5,\n          2,\n          3\n        ],\n        \"semantic_type\": \"\",\n        \"description\": \"\"\n      }\n    },\n    {\n      \"column\": \"review\",\n      \"properties\": {\n        \"dtype\": \"string\",\n        \"num_unique_values\": 59553,\n        \"samples\": [\n          \"\\u0645\\u0639\\u0627\\u0648\\u064a\\u0629 \\u062b\\u0648\\u0631\\u064a\\u0629 \\u0621\\u0639\\u0648\\u062f \\u0627\\u0644\\u0634\\u062e\\u0635\\u064a\\u0629 \\u0633\\u0646\\u064a\\u0646 \\u0645\\u0631\\u062d\\u0644\\u0629 \\u0648\\u0621\\u063a\\u0631\\u0627\\u0642\\u0647 \\u0621\\u0646\\u0643\\u0631 \\u0627\\u0644\\u0642\\u0627\\u0631\\u064a\\u0621 \\u062a\\u0634\\u062a\\u060c \\u0627\\u0644\\u0645\\u0633\\u0627\\u0631 \\u0641\\u0643\\u0631\\u064a \\u064a\\u062c\\u0639\\u0644 \\u062a\\u0642\\u064a\\u0645\\u0627 \\u0627\\u0644\\u0621\\u063a\\u0631\\u0627\\u0642 \\u0632\\u0647\\u062f \\u0631\\u0627\\u0621\\u0639\\u060c \\u0627\\u0644\\u0621\\u0633\\u0627\\u0633\\u064a \\u0627\\u0644\\u062b\\u0646\\u0627\\u0621 \\u0630\\u0631 \\u0627\\u0644\\u0646\\u0634\\u0621 \\u0642\\u0631\\u0621\\u062a\\u0647 \\u0627\\u0644\\u0635\\u062d\\u064a\\u062d\\u060c \\u064a\\u0635\\u0646\\u0639\\u0647 \\u0648\\u0621\\u0643\\u0631 \\u0621\\u0639\\u0637\\u064a\\u062a\\u0647 \\u0639\\u0648\\u0641\\u060c \\u062e\\u0635\\u0648\\u0635\\u0627 \\u0643\\u0646\\u062a \\u0621\\u0621\\u062e\\u0631 \\u0627\\u0644\\u062f\\u0631\\u062f\\u0627\\u0621 \\u0646\\u0636\\u0648\\u062c \\u0627\\u0644\\u0645\\u0648\\u0636\\u0648\\u0639\\u064a \\u0627\\u0644\\u0631\\u062d\\u0645\\u0646 \\u0627\\u0644\\u0645\\u062f\\u062d \\u0639\\u062b\\u0645\\u0627\\u0646 \\u064a\\u0639\\u0631\\u0641 \\u0645\\u0634\\u062a \\u0639\\u0628\\u062f \\u0639\\u064a\\u0628\\u0647 \\u0635\\u063a\\u064a\\u0631\\u0627\\u060c \\u0639\\u0638\\u064a\\u0645\\u060c \\u0627\\u0644\\u0646\\u0634\\u0621 \\u0641\\u0644\\u0631\\u0628\\u0645\\u0627 \\u0627\\u0641\\u062a\\u0642\\u0627\\u062f\\u0647 \\u0621\\u0633\\u0644\\u0648\\u0628\\u0647 \\u063a\\u0646\\u0649 \\u0627\\u0648\\u0627\\u0644\\u062a\\u0643\\u0648\\u0646 \\u0627\\u0646\\u062d\\u0627\\u0632 \\u0627\\u0644\\u0621\\u062f\\u0628\\u064a \\u0627\\u0641\\u062a\\u0642\\u0627\\u062f \\u0627\\u0644\\u0645\\u0648\\u0636\\u0648\\u0639\\u064a\\u0629 \\u0648\\u0644\\u0631\\u0628\\u0645\\u0627 \\u0634\\u0643\\u0648\\u0649\",\n          \"\\u0621\\u0639\\u0637\\u0627\\u0646\\u064a \\u0648\\u0644\\u0627\\u0646\\u0647\\u0627 \\u0645\\u0643\\u0646 \\u0628\\u064a\\u062d\\u0643\\u064a \\u0627\\u0644\\u0627\\u0633\\u0645\\u0627\\u0621 \\u062c\\u0645\\u064a\\u0644 \\u0644\\u0634\\u0627\\u0639\\u0631 \\u0627\\u064a\\u0627\\u0645 \\u0645\\u062a\\u0635\\u0644 \\u0646\\u0638\\u0631\\u062a\\u0647 \\u0627\\u0646\\u0643 \\u0643\\u062b\\u064a\\u0631\\u0629 \\u063a\\u0633\\u0627\\u0646\\u0647 \\u0648\\u062d\\u062a\\u064a \\u0644\\u0642\\u0637\\u0627\\u062a \\u0628\\u0627\\u0633\\u0644\\u0648\\u0628 \\u0634\\u0631\\u064a\\u0637 \\u0645\\u064a\\u0632 \\u0634\\u0639\\u0631 \\u0644\\u0628\\u0644\\u062f\\u062a\\u0647 \\u0648\\u0642\\u0627\\u0621\\u0639 \\u0648\\u0621\\u0642\\u0627\\u0631\\u0628\\u0647 \\u0627\\u0644\\u0645\\u0634\\u0643\\u0644\\u0629 \\u0644\\u062d\\u064a\\u0627\\u0629 \\u0627\\u0644\\u0628\\u0631\\u063a\\u0648\\u062b\\u064a \\u062f\\u064a\\u0631 \\u062a\\u0648\\u0647 \\u064a\\u0643\\u0627\\u062f \\u0627\\u0644\\u0637\\u0641\\u0648\\u0644\\u0629 \\u062a\\u0630\\u0643\\u0631 \\u0647\\u064a\\u0621\\u0629 \\u0648\\u0627\\u0635\\u062f\\u0642 \\u0627\\u0644\\u0642\\u0627\\u0647\\u0631\\u0629 \\u0641\\u0644\\u0633\\u0641\\u062a\\u0647 \\u0645\\u0631\\u064a\\u062f \\u0634\\u0639\\u0631\\u0627 \\u0644\\u0630\\u0643\\u0631\\u064a\\u0627\\u062a \\u062a\\u0633\\u0628\\u0642 \\u0648\\u0635\\u0641 \\u0643\\u062a\\u0627\\u0628 \\u0645\\u0646\\u062b\\u0648\\u0631 \\u0645\\u0634\\u0627\\u0647\\u062f \\u0627\\u0644\\u0641\\u0644\\u0633\\u0637\\u064a\\u0646\\u064a \\u0631\\u0627\\u0645 \\u0644\\u0630\\u0643\\u0631\\u064a\\u0627\\u062a\\u0647 \\u0633\\u0627\\u062d\\u0631 \\u0627\\u0644\\u0634\\u0627\\u0639\\u0631 \\u0621\\u0642\\u0631\\u0627 \\u0621\\u0633\\u0644\\u0648\\u0628\\u0647 \\u0627\\u0644\\u0643\\u062a\\u0627\\u0628 \\u0621\\u0647\\u0644\\u0647 \\u0634\\u0648\\u064a\\u0629 \\u062c\\u0627\\u064a\\u0647 \\u0639\\u0631\\u0636 \\u0645\\u0639\\u0644\\u0648\\u0645\\u0627\\u062a \\u0648\\u0627\\u0646\\u0645\\u0627 \\u0627\\u0644\\u0643\\u062b\\u064a\\u0631 \\u0639\\u0648\\u062f\\u062a\\u0647 \\u0645\\u0634 \\u0644\\u064a\\u0647 \\u0627\\u0644\\u0647 \\u0627\\u0644\\u062f\\u0631\\u0627\\u0633\\u0629\",\n          \"\\u0627\\u0644\\u0621\\u0635\\u0648\\u0644 \\u062a\\u062c\\u0630\\u0631 \\u0627\\u0644\\u062c\\u0632\\u064a\\u0631\\u0629 \\u0628\\u0642\\u0631\\u0627\\u0621\\u062a\\u0647 \\u0634\\u062f\\u062a \\u0627\\u0644\\u0639\\u0631\\u0628\\u064a\\u0647 \\u0628\\u062f\\u0621\\u062a \\u062a\\u0639\\u0642\\u062f\\u062a\"\n        ],\n        \"semantic_type\": \"\",\n        \"description\": \"\"\n      }\n    }\n  ]\n}"
            }
          },
          "metadata": {},
          "execution_count": 38
        }
      ]
    },
    {
      "cell_type": "code",
      "source": [
        "!pip install farasapy"
      ],
      "metadata": {
        "id": "sBnAgvMi9X9u",
        "colab": {
          "base_uri": "https://localhost:8080/"
        },
        "outputId": "950d4bf8-6b64-4eb5-8ecf-cea1fafdea42"
      },
      "execution_count": 39,
      "outputs": [
        {
          "output_type": "stream",
          "name": "stdout",
          "text": [
            "Requirement already satisfied: farasapy in /usr/local/lib/python3.10/dist-packages (0.0.14)\n",
            "Requirement already satisfied: requests in /usr/local/lib/python3.10/dist-packages (from farasapy) (2.31.0)\n",
            "Requirement already satisfied: tqdm in /usr/local/lib/python3.10/dist-packages (from farasapy) (4.66.2)\n",
            "Requirement already satisfied: charset-normalizer<4,>=2 in /usr/local/lib/python3.10/dist-packages (from requests->farasapy) (3.3.2)\n",
            "Requirement already satisfied: idna<4,>=2.5 in /usr/local/lib/python3.10/dist-packages (from requests->farasapy) (3.7)\n",
            "Requirement already satisfied: urllib3<3,>=1.21.1 in /usr/local/lib/python3.10/dist-packages (from requests->farasapy) (2.0.7)\n",
            "Requirement already satisfied: certifi>=2017.4.17 in /usr/local/lib/python3.10/dist-packages (from requests->farasapy) (2024.2.2)\n"
          ]
        }
      ]
    },
    {
      "cell_type": "code",
      "source": [
        "!pip install tkseem"
      ],
      "metadata": {
        "colab": {
          "base_uri": "https://localhost:8080/"
        },
        "id": "oQ4x6EL4zLvY",
        "outputId": "e9a42b5b-4a9f-4fe4-b609-2d0465897aff"
      },
      "execution_count": 40,
      "outputs": [
        {
          "output_type": "stream",
          "name": "stdout",
          "text": [
            "Requirement already satisfied: tkseem in /usr/local/lib/python3.10/dist-packages (0.0.3)\n",
            "Requirement already satisfied: sentencepiece in /usr/local/lib/python3.10/dist-packages (from tkseem) (0.1.99)\n",
            "Requirement already satisfied: farasapy in /usr/local/lib/python3.10/dist-packages (from tkseem) (0.0.14)\n",
            "Requirement already satisfied: tqdm in /usr/local/lib/python3.10/dist-packages (from tkseem) (4.66.2)\n",
            "Requirement already satisfied: numpy in /usr/local/lib/python3.10/dist-packages (from tkseem) (1.25.2)\n",
            "Requirement already satisfied: black in /usr/local/lib/python3.10/dist-packages (from tkseem) (24.4.2)\n",
            "Requirement already satisfied: click>=8.0.0 in /usr/local/lib/python3.10/dist-packages (from black->tkseem) (8.1.7)\n",
            "Requirement already satisfied: mypy-extensions>=0.4.3 in /usr/local/lib/python3.10/dist-packages (from black->tkseem) (1.0.0)\n",
            "Requirement already satisfied: packaging>=22.0 in /usr/local/lib/python3.10/dist-packages (from black->tkseem) (24.0)\n",
            "Requirement already satisfied: pathspec>=0.9.0 in /usr/local/lib/python3.10/dist-packages (from black->tkseem) (0.12.1)\n",
            "Requirement already satisfied: platformdirs>=2 in /usr/local/lib/python3.10/dist-packages (from black->tkseem) (4.2.1)\n",
            "Requirement already satisfied: tomli>=1.1.0 in /usr/local/lib/python3.10/dist-packages (from black->tkseem) (2.0.1)\n",
            "Requirement already satisfied: typing-extensions>=4.0.1 in /usr/local/lib/python3.10/dist-packages (from black->tkseem) (4.11.0)\n",
            "Requirement already satisfied: requests in /usr/local/lib/python3.10/dist-packages (from farasapy->tkseem) (2.31.0)\n",
            "Requirement already satisfied: charset-normalizer<4,>=2 in /usr/local/lib/python3.10/dist-packages (from requests->farasapy->tkseem) (3.3.2)\n",
            "Requirement already satisfied: idna<4,>=2.5 in /usr/local/lib/python3.10/dist-packages (from requests->farasapy->tkseem) (3.7)\n",
            "Requirement already satisfied: urllib3<3,>=1.21.1 in /usr/local/lib/python3.10/dist-packages (from requests->farasapy->tkseem) (2.0.7)\n",
            "Requirement already satisfied: certifi>=2017.4.17 in /usr/local/lib/python3.10/dist-packages (from requests->farasapy->tkseem) (2024.2.2)\n"
          ]
        }
      ]
    },
    {
      "cell_type": "code",
      "source": [
        "import nltk\n",
        "nltk.download('punkt')"
      ],
      "metadata": {
        "colab": {
          "base_uri": "https://localhost:8080/"
        },
        "id": "MzzlY2ST2jQN",
        "outputId": "84b37298-937b-45bd-df45-905b709b1b62"
      },
      "execution_count": 41,
      "outputs": [
        {
          "output_type": "stream",
          "name": "stderr",
          "text": [
            "[nltk_data] Downloading package punkt to /root/nltk_data...\n",
            "[nltk_data]   Package punkt is already up-to-date!\n"
          ]
        },
        {
          "output_type": "execute_result",
          "data": {
            "text/plain": [
              "True"
            ]
          },
          "metadata": {},
          "execution_count": 41
        }
      ]
    },
    {
      "cell_type": "code",
      "execution_count": 42,
      "metadata": {
        "id": "21k--8jQ3Z96",
        "colab": {
          "base_uri": "https://localhost:8080/"
        },
        "outputId": "9861bcc4-fdbb-4b70-faa8-2cf1ceeff197"
      },
      "outputs": [
        {
          "output_type": "stream",
          "name": "stdout",
          "text": [
            "Requirement already satisfied: tkseem in /usr/local/lib/python3.10/dist-packages (0.0.3)\n",
            "Requirement already satisfied: sentencepiece in /usr/local/lib/python3.10/dist-packages (from tkseem) (0.1.99)\n",
            "Requirement already satisfied: farasapy in /usr/local/lib/python3.10/dist-packages (from tkseem) (0.0.14)\n",
            "Requirement already satisfied: tqdm in /usr/local/lib/python3.10/dist-packages (from tkseem) (4.66.2)\n",
            "Requirement already satisfied: numpy in /usr/local/lib/python3.10/dist-packages (from tkseem) (1.25.2)\n",
            "Requirement already satisfied: black in /usr/local/lib/python3.10/dist-packages (from tkseem) (24.4.2)\n",
            "Requirement already satisfied: click>=8.0.0 in /usr/local/lib/python3.10/dist-packages (from black->tkseem) (8.1.7)\n",
            "Requirement already satisfied: mypy-extensions>=0.4.3 in /usr/local/lib/python3.10/dist-packages (from black->tkseem) (1.0.0)\n",
            "Requirement already satisfied: packaging>=22.0 in /usr/local/lib/python3.10/dist-packages (from black->tkseem) (24.0)\n",
            "Requirement already satisfied: pathspec>=0.9.0 in /usr/local/lib/python3.10/dist-packages (from black->tkseem) (0.12.1)\n",
            "Requirement already satisfied: platformdirs>=2 in /usr/local/lib/python3.10/dist-packages (from black->tkseem) (4.2.1)\n",
            "Requirement already satisfied: tomli>=1.1.0 in /usr/local/lib/python3.10/dist-packages (from black->tkseem) (2.0.1)\n",
            "Requirement already satisfied: typing-extensions>=4.0.1 in /usr/local/lib/python3.10/dist-packages (from black->tkseem) (4.11.0)\n",
            "Requirement already satisfied: requests in /usr/local/lib/python3.10/dist-packages (from farasapy->tkseem) (2.31.0)\n",
            "Requirement already satisfied: charset-normalizer<4,>=2 in /usr/local/lib/python3.10/dist-packages (from requests->farasapy->tkseem) (3.3.2)\n",
            "Requirement already satisfied: idna<4,>=2.5 in /usr/local/lib/python3.10/dist-packages (from requests->farasapy->tkseem) (3.7)\n",
            "Requirement already satisfied: urllib3<3,>=1.21.1 in /usr/local/lib/python3.10/dist-packages (from requests->farasapy->tkseem) (2.0.7)\n",
            "Requirement already satisfied: certifi>=2017.4.17 in /usr/local/lib/python3.10/dist-packages (from requests->farasapy->tkseem) (2024.2.2)\n",
            "Requirement already satisfied: tnkeeh in /usr/local/lib/python3.10/dist-packages (0.0.9)\n",
            "Requirement already satisfied: farasapy in /usr/local/lib/python3.10/dist-packages (from tnkeeh) (0.0.14)\n",
            "Requirement already satisfied: datasets in /usr/local/lib/python3.10/dist-packages (from tnkeeh) (2.19.0)\n",
            "Requirement already satisfied: filelock in /usr/local/lib/python3.10/dist-packages (from datasets->tnkeeh) (3.14.0)\n",
            "Requirement already satisfied: numpy>=1.17 in /usr/local/lib/python3.10/dist-packages (from datasets->tnkeeh) (1.25.2)\n",
            "Requirement already satisfied: pyarrow>=12.0.0 in /usr/local/lib/python3.10/dist-packages (from datasets->tnkeeh) (14.0.2)\n",
            "Requirement already satisfied: pyarrow-hotfix in /usr/local/lib/python3.10/dist-packages (from datasets->tnkeeh) (0.6)\n",
            "Requirement already satisfied: dill<0.3.9,>=0.3.0 in /usr/local/lib/python3.10/dist-packages (from datasets->tnkeeh) (0.3.8)\n",
            "Requirement already satisfied: pandas in /usr/local/lib/python3.10/dist-packages (from datasets->tnkeeh) (2.0.3)\n",
            "Requirement already satisfied: requests>=2.19.0 in /usr/local/lib/python3.10/dist-packages (from datasets->tnkeeh) (2.31.0)\n",
            "Requirement already satisfied: tqdm>=4.62.1 in /usr/local/lib/python3.10/dist-packages (from datasets->tnkeeh) (4.66.2)\n",
            "Requirement already satisfied: xxhash in /usr/local/lib/python3.10/dist-packages (from datasets->tnkeeh) (3.4.1)\n",
            "Requirement already satisfied: multiprocess in /usr/local/lib/python3.10/dist-packages (from datasets->tnkeeh) (0.70.16)\n",
            "Requirement already satisfied: fsspec[http]<=2024.3.1,>=2023.1.0 in /usr/local/lib/python3.10/dist-packages (from datasets->tnkeeh) (2023.6.0)\n",
            "Requirement already satisfied: aiohttp in /usr/local/lib/python3.10/dist-packages (from datasets->tnkeeh) (3.9.5)\n",
            "Requirement already satisfied: huggingface-hub>=0.21.2 in /usr/local/lib/python3.10/dist-packages (from datasets->tnkeeh) (0.23.0)\n",
            "Requirement already satisfied: packaging in /usr/local/lib/python3.10/dist-packages (from datasets->tnkeeh) (24.0)\n",
            "Requirement already satisfied: pyyaml>=5.1 in /usr/local/lib/python3.10/dist-packages (from datasets->tnkeeh) (6.0.1)\n",
            "Requirement already satisfied: aiosignal>=1.1.2 in /usr/local/lib/python3.10/dist-packages (from aiohttp->datasets->tnkeeh) (1.3.1)\n",
            "Requirement already satisfied: attrs>=17.3.0 in /usr/local/lib/python3.10/dist-packages (from aiohttp->datasets->tnkeeh) (23.2.0)\n",
            "Requirement already satisfied: frozenlist>=1.1.1 in /usr/local/lib/python3.10/dist-packages (from aiohttp->datasets->tnkeeh) (1.4.1)\n",
            "Requirement already satisfied: multidict<7.0,>=4.5 in /usr/local/lib/python3.10/dist-packages (from aiohttp->datasets->tnkeeh) (6.0.5)\n",
            "Requirement already satisfied: yarl<2.0,>=1.0 in /usr/local/lib/python3.10/dist-packages (from aiohttp->datasets->tnkeeh) (1.9.4)\n",
            "Requirement already satisfied: async-timeout<5.0,>=4.0 in /usr/local/lib/python3.10/dist-packages (from aiohttp->datasets->tnkeeh) (4.0.3)\n",
            "Requirement already satisfied: typing-extensions>=3.7.4.3 in /usr/local/lib/python3.10/dist-packages (from huggingface-hub>=0.21.2->datasets->tnkeeh) (4.11.0)\n",
            "Requirement already satisfied: charset-normalizer<4,>=2 in /usr/local/lib/python3.10/dist-packages (from requests>=2.19.0->datasets->tnkeeh) (3.3.2)\n",
            "Requirement already satisfied: idna<4,>=2.5 in /usr/local/lib/python3.10/dist-packages (from requests>=2.19.0->datasets->tnkeeh) (3.7)\n",
            "Requirement already satisfied: urllib3<3,>=1.21.1 in /usr/local/lib/python3.10/dist-packages (from requests>=2.19.0->datasets->tnkeeh) (2.0.7)\n",
            "Requirement already satisfied: certifi>=2017.4.17 in /usr/local/lib/python3.10/dist-packages (from requests>=2.19.0->datasets->tnkeeh) (2024.2.2)\n",
            "Requirement already satisfied: python-dateutil>=2.8.2 in /usr/local/lib/python3.10/dist-packages (from pandas->datasets->tnkeeh) (2.8.2)\n",
            "Requirement already satisfied: pytz>=2020.1 in /usr/local/lib/python3.10/dist-packages (from pandas->datasets->tnkeeh) (2023.4)\n",
            "Requirement already satisfied: tzdata>=2022.1 in /usr/local/lib/python3.10/dist-packages (from pandas->datasets->tnkeeh) (2024.1)\n",
            "Requirement already satisfied: six>=1.5 in /usr/local/lib/python3.10/dist-packages (from python-dateutil>=2.8.2->pandas->datasets->tnkeeh) (1.16.0)\n"
          ]
        }
      ],
      "source": [
        "!pip install tkseem\n",
        "!pip install tnkeeh"
      ]
    },
    {
      "cell_type": "code",
      "source": [
        "from tensorflow.keras.models import Sequential\n",
        "from sklearn.model_selection import train_test_split\n",
        "from tensorflow.keras.layers import GRU, Embedding, Dense, Input, Dropout, Bidirectional"
      ],
      "metadata": {
        "id": "lmsFEF0M4G4d"
      },
      "execution_count": 43,
      "outputs": []
    },
    {
      "cell_type": "code",
      "source": [
        "import tkseem as tk\n",
        "import tnkeeh as tn\n",
        "\n",
        "tn.clean_data(file_path = '/content/drive/MyDrive/Parcours Academique/ENSAM/PFA/datasets/LABR/reviews.tsv', save_path = '/content/drive/MyDrive/Parcours Academique/ENSAM/PFA/datasets/LABR/cleaned_data.txt', remove_diacritics=True,\n",
        "              excluded_chars=['!', '.', '?'])\n",
        "tn.split_classification_data('/content/drive/MyDrive/Parcours Academique/ENSAM/PFA/datasets/LABR/cleaned_data.txt', '/content/drive/MyDrive/Parcours Academique/ENSAM/PFA/datasets/LABR/labels.txt')\n",
        "train_data, test_data, train_lbls, test_lbls = tn.read_data(mode = 1)"
      ],
      "metadata": {
        "colab": {
          "base_uri": "https://localhost:8080/"
        },
        "id": "T3De3SkD4RSr",
        "outputId": "1d0a5de5-5f74-4107-e106-5e5a9127c384"
      },
      "execution_count": 46,
      "outputs": [
        {
          "output_type": "stream",
          "name": "stdout",
          "text": [
            "Remove diacritics\n",
            "Saving to /content/drive/MyDrive/Parcours Academique/ENSAM/PFA/datasets/LABR/cleaned_data.txt\n",
            "Split data\n",
            "Save to data\n",
            "Read data  ['test_data.txt', 'test_lbls.txt', 'train_data.txt', 'train_lbls.txt']\n"
          ]
        }
      ]
    },
    {
      "cell_type": "code",
      "execution_count": 49,
      "metadata": {
        "id": "5QvsyztuzJMU",
        "colab": {
          "base_uri": "https://localhost:8080/"
        },
        "outputId": "c5cfd817-12c7-481c-be1c-9809b2fc64ce"
      },
      "outputs": [
        {
          "output_type": "stream",
          "name": "stdout",
          "text": [
            "Training SentencePiece ...\n"
          ]
        }
      ],
      "source": [
        "# Tokenization with NLTK\n",
        "\n",
        "tokenizer = tk.SentencePieceTokenizer()\n",
        "tokenizer.train('/content/drive/MyDrive/Parcours Academique/ENSAM/PFA/datasets/LABR/data.txt')"
      ]
    },
    {
      "cell_type": "code",
      "source": [
        "import pandas as pd\n",
        "\n",
        "def preprocess(tokenizer, data, labels):\n",
        "    X = tokenizer.encode_sentences(data)\n",
        "    y = np.array([int(lbl) for lbl in labels])\n",
        "    return X, y\n",
        "\n",
        "X, y = preprocess(tokenizer, dataset['review'], dataset['rating'])\n",
        "\n",
        "X_train, X_test, y_train, y_test = train_test_split(X, y, test_size=0.2, random_state=SEED)\n"
      ],
      "metadata": {
        "id": "S8akBn2f8Cea"
      },
      "execution_count": 56,
      "outputs": []
    },
    {
      "cell_type": "code",
      "source": [
        "model = Sequential()\n",
        "model.add(Embedding(tokenizer.vocab_size, 32))\n",
        "model.add(Bidirectional(GRU(units = 32)))\n",
        "model.add(Dense(32, activation = 'tanh'))\n",
        "model.add(Dropout(0.3))\n",
        "model.add(Dense(1, activation = 'sigmoid'))\n",
        "model.compile(optimizer = 'adam', loss = 'binary_crossentropy', metrics = ['accuracy'])"
      ],
      "metadata": {
        "id": "Fp1VtFymG352"
      },
      "execution_count": 55,
      "outputs": []
    },
    {
      "cell_type": "code",
      "source": [
        "history = model.fit(X_train, y_train, epochs = 12, validation_split = 0.1,  batch_size= 128, shuffle = True)"
      ],
      "metadata": {
        "colab": {
          "base_uri": "https://localhost:8080/"
        },
        "id": "GwN2r7IkF0hM",
        "outputId": "04ce8d28-ee86-4919-b401-f5215c9bcbd1"
      },
      "execution_count": null,
      "outputs": [
        {
          "output_type": "stream",
          "name": "stdout",
          "text": [
            "Epoch 1/12\n",
            " 19/338 [>.............................] - ETA: 49:39 - loss: -1.3120 - accuracy: 0.0387"
          ]
        }
      ]
    },
    {
      "cell_type": "code",
      "source": [
        "def classify(sentence):\n",
        "  sequence = tokenizer.encode_sentences([sentence], out_length = max_length)[0]\n",
        "  pred = model.predict(sequence)[0][0]\n",
        "  print(pred)"
      ],
      "metadata": {
        "id": "qI-Go4LkF4pg"
      },
      "execution_count": null,
      "outputs": []
    },
    {
      "cell_type": "code",
      "source": [
        "classify(\"سيئة جدا جدا\")\n",
        "classify(\"رائعة جدا\")"
      ],
      "metadata": {
        "id": "7JHt8E_ZF6P3"
      },
      "execution_count": null,
      "outputs": []
    }
  ],
  "metadata": {
    "kernelspec": {
      "display_name": "Python 3",
      "language": "python",
      "name": "python3"
    },
    "language_info": {
      "codemirror_mode": {
        "name": "ipython",
        "version": 3
      },
      "file_extension": ".py",
      "mimetype": "text/x-python",
      "name": "python",
      "nbconvert_exporter": "python",
      "pygments_lexer": "ipython3",
      "version": "3.10.12"
    },
    "colab": {
      "provenance": []
    }
  },
  "nbformat": 4,
  "nbformat_minor": 0
}