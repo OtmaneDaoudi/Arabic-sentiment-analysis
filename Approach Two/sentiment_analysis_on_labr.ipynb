{
  "cells": [
    {
      "cell_type": "markdown",
      "metadata": {
        "id": "sZdT2cflrPOA"
      },
      "source": [
        "## setting up the environement"
      ]
    },
    {
      "cell_type": "code",
      "execution_count": 1,
      "metadata": {
        "colab": {
          "base_uri": "https://localhost:8080/"
        },
        "id": "PaneB42QrPOK",
        "outputId": "310b99d6-c613-40a3-fc48-769cf39f0275"
      },
      "outputs": [
        {
          "name": "stdout",
          "output_type": "stream",
          "text": [
            "Mounted at /content/drive\n"
          ]
        }
      ],
      "source": [
        "from google.colab import drive\n",
        "drive.mount('/content/drive')"
      ]
    },
    {
      "cell_type": "code",
      "execution_count": 2,
      "metadata": {
        "colab": {
          "base_uri": "https://localhost:8080/"
        },
        "id": "EvaKlRLBrPOQ",
        "outputId": "1d16779d-8f24-4dcf-cc2a-82ab1253044f"
      },
      "outputs": [
        {
          "name": "stdout",
          "output_type": "stream",
          "text": [
            "Collecting pyarabic\n",
            "  Downloading PyArabic-0.6.15-py3-none-any.whl (126 kB)\n",
            "\u001b[?25l     \u001b[90m━━━━━━━━━━━━━━━━━━━━━━━━━━━━━━━━━━━━━━━━\u001b[0m \u001b[32m0.0/126.4 kB\u001b[0m \u001b[31m?\u001b[0m eta \u001b[36m-:--:--\u001b[0m\r\u001b[2K     \u001b[91m━━━━━━━━━━━━━━━━━━━━━━━━━━━━━\u001b[0m\u001b[90m╺\u001b[0m\u001b[90m━━━━━━━━━━\u001b[0m \u001b[32m92.2/126.4 kB\u001b[0m \u001b[31m2.6 MB/s\u001b[0m eta \u001b[36m0:00:01\u001b[0m\r\u001b[2K     \u001b[90m━━━━━━━━━━━━━━━━━━━━━━━━━━━━━━━━━━━━━━━━\u001b[0m \u001b[32m126.4/126.4 kB\u001b[0m \u001b[31m2.8 MB/s\u001b[0m eta \u001b[36m0:00:00\u001b[0m\n",
            "\u001b[?25hRequirement already satisfied: six>=1.14.0 in /usr/local/lib/python3.10/dist-packages (from pyarabic) (1.16.0)\n",
            "Installing collected packages: pyarabic\n",
            "Successfully installed pyarabic-0.6.15\n",
            "Collecting Arabic-Stopwords\n",
            "  Downloading Arabic_Stopwords-0.4.3-py3-none-any.whl (360 kB)\n",
            "\u001b[2K     \u001b[90m━━━━━━━━━━━━━━━━━━━━━━━━━━━━━━━━━━━━━━━━\u001b[0m \u001b[32m360.5/360.5 kB\u001b[0m \u001b[31m3.8 MB/s\u001b[0m eta \u001b[36m0:00:00\u001b[0m\n",
            "\u001b[?25hRequirement already satisfied: pyarabic>=0.6.2 in /usr/local/lib/python3.10/dist-packages (from Arabic-Stopwords) (0.6.15)\n",
            "Requirement already satisfied: six>=1.14.0 in /usr/local/lib/python3.10/dist-packages (from pyarabic>=0.6.2->Arabic-Stopwords) (1.16.0)\n",
            "Installing collected packages: Arabic-Stopwords\n",
            "Successfully installed Arabic-Stopwords-0.4.3\n"
          ]
        }
      ],
      "source": [
        "!pip install pyarabic\n",
        "!pip install Arabic-Stopwords"
      ]
    },
    {
      "cell_type": "code",
      "execution_count": 4,
      "metadata": {
        "colab": {
          "base_uri": "https://localhost:8080/"
        },
        "id": "d1txVo3qrPOR",
        "outputId": "89692631-3489-4186-dbd8-d43f9785fef1"
      },
      "outputs": [
        {
          "name": "stderr",
          "output_type": "stream",
          "text": [
            "[nltk_data] Downloading package stopwords to /root/nltk_data...\n",
            "[nltk_data]   Unzipping corpora/stopwords.zip.\n"
          ]
        },
        {
          "data": {
            "text/plain": [
              "True"
            ]
          },
          "execution_count": 4,
          "metadata": {},
          "output_type": "execute_result"
        }
      ],
      "source": [
        "import nltk\n",
        "nltk.download('stopwords')"
      ]
    },
    {
      "cell_type": "markdown",
      "metadata": {
        "id": "UsgvFQLIrPOT"
      },
      "source": [
        "# LABR dataset\n",
        "\n",
        "- LABR stands for Large-Scale Arabic Book Reviews.\n",
        "- It's a collection of over 63,000 book reviews written in Arabic.\n",
        "- Each review comes with a rating on a scale of 1 to 5 stars."
      ]
    },
    {
      "cell_type": "markdown",
      "metadata": {
        "id": "u_b2krXhrPOU"
      },
      "source": [
        "## loading libraries"
      ]
    },
    {
      "cell_type": "code",
      "execution_count": 5,
      "metadata": {
        "id": "rQ55DuGDrPOX"
      },
      "outputs": [],
      "source": [
        "import pandas as pd\n",
        "import numpy as np\n",
        "import matplotlib.pyplot as plt\n",
        "import seaborn as sns\n",
        "import arabicstopwords.arabicstopwords as stp\n",
        "from nltk.corpus import stopwords\n",
        "from nltk.stem.isri import ISRIStemmer\n",
        "import pyarabic.araby as araby"
      ]
    },
    {
      "cell_type": "markdown",
      "metadata": {
        "id": "a7Zf1RHRrPOZ"
      },
      "source": [
        "## Loading dataset"
      ]
    },
    {
      "cell_type": "markdown",
      "metadata": {
        "id": "lYRGJ1JdrPOc"
      },
      "source": [
        "The review.tsv file contains :\n",
        "\n",
        "- rating - review id - user id - book id - review"
      ]
    },
    {
      "cell_type": "code",
      "execution_count": 6,
      "metadata": {
        "colab": {
          "base_uri": "https://localhost:8080/",
          "height": 676
        },
        "id": "XNWbbbiArPOf",
        "outputId": "20e30dd2-2a58-4c4b-81ad-ac398ff77205"
      },
      "outputs": [
        {
          "data": {
            "application/vnd.google.colaboratory.intrinsic+json": {
              "summary": "{\n  \"name\": \"dataset\",\n  \"rows\": 63257,\n  \"fields\": [\n    {\n      \"column\": \"rating\",\n      \"properties\": {\n        \"dtype\": \"number\",\n        \"std\": 1,\n        \"min\": 1,\n        \"max\": 5,\n        \"num_unique_values\": 5,\n        \"samples\": [\n          1,\n          2,\n          3\n        ],\n        \"semantic_type\": \"\",\n        \"description\": \"\"\n      }\n    },\n    {\n      \"column\": \"review_id\",\n      \"properties\": {\n        \"dtype\": \"number\",\n        \"std\": 148392011,\n        \"min\": 110714,\n        \"max\": 564328486,\n        \"num_unique_values\": 60152,\n        \"samples\": [\n          449378978,\n          149539427,\n          433284676\n        ],\n        \"semantic_type\": \"\",\n        \"description\": \"\"\n      }\n    },\n    {\n      \"column\": \"user_id\",\n      \"properties\": {\n        \"dtype\": \"number\",\n        \"std\": 3971315,\n        \"min\": 5665,\n        \"max\": 18435738,\n        \"num_unique_values\": 16486,\n        \"samples\": [\n          2466268,\n          15232611,\n          5841061\n        ],\n        \"semantic_type\": \"\",\n        \"description\": \"\"\n      }\n    },\n    {\n      \"column\": \"book_id\",\n      \"properties\": {\n        \"dtype\": \"number\",\n        \"std\": 3931956,\n        \"min\": 151,\n        \"max\": 17560408,\n        \"num_unique_values\": 2131,\n        \"samples\": [\n          9596414,\n          10770708,\n          12408362\n        ],\n        \"semantic_type\": \"\",\n        \"description\": \"\"\n      }\n    },\n    {\n      \"column\": \"review\",\n      \"properties\": {\n        \"dtype\": \"string\",\n        \"num_unique_values\": 60090,\n        \"samples\": [\n          \" \\u062d\\u0633\\u064a\\u062a \\u0641\\u064a\\u0647 \\u0628\\u0643\\u0648\\u0645\\u064a\\u062f\\u064a\\u0627 \\u0633\\u0648\\u062f\\u0627\\u0621\",\n          \" \\u0645\\u0646 \\u0627\\u062d\\u0644\\u0649 \\u0627\\u0644\\u0631\\u0648\\u0627\\u064a\\u0627\\u062a \\u0627\\u0644\\u062a\\u0649 \\u0642\\u0645\\u062a \\u0628\\u0642\\u0631\\u0627\\u0626\\u062a\\u0647\\u0627 \\u0645\\u0639\\u0644\\u0648\\u0645\\u0627\\u062a\\u0647\\u0627 \\u0642\\u064a\\u0645\\u0647 \\u0648 \\u0641\\u064a\\u0647\\u0627 \\u0633\\u0631\\u062f \\u0644\\u0644\\u062d\\u062f\\u0627\\u062b \\u0627\\u0644\\u0632\\u0645\\u0646\\u064a\\u0647 \\u0627\\u0644\\u0628\\u0639\\u064a\\u062f\\u0647 \\u0628\\u0635\\u0648\\u0631\\u0647 \\u0645\\u062a\\u0633\\u0627\\u0631\\u0639\\u0647 \\u062a\\u062c\\u0639\\u0644\\u0646\\u0627 \\ufefb \\u0646\\u0634\\u0639\\u0631 \\u0628\\u0627\\u0644\\u0645\\u0644\\u0644 \\u0645\\u0646 \\u0642\\u0631\\u0627\\u0626\\u062a\\u0647\\u0627 \\u062d\\u0642\\u064a\\u0642\\u0649 \\u0631\\u0627\\u0626\\u0639\\u0647\",\n          \" \\u0627\\u0644\\u062b\\u0644\\u0627\\u062b\\u064a\\u0647 \\u0627\\u0644\\u0633\\u062d\\u0631\\u064a\\u0647 \\u0644\\u0627 \\u064a\\u062c\\u0648\\u0632 \\u0648\\u0635\\u0641\\u0647\\u0627 \\u0628\\u063a\\u064a\\u0631 \\u0630\\u0644\\u0643 \\u062d\\u064a\\u0646\\u0645\\u0627 \\u062a\\u0634\\u0631\\u0639 \\u0641\\u064a \\u0627\\u0644\\u0642\\u0631\\u0627\\u0621\\u0629 \\u0641\\u0623\\u0646\\u0627 \\u0623\\u0639\\u062f\\u0643 \\u0627\\u0646\\u0643 \\u0644\\u0646 \\u062a\\u0643\\u0641 \\u0639\\u0646\\u0647\\u0627 \\u062d\\u062a\\u064a \\u062a\\u0646\\u0647\\u064a\\u0647\\u0627 \\u062b\\u0645 \\u064a\\u0646\\u062a\\u0627\\u0628\\u0643 \\u0634\\u0639\\u0648\\u0631 \\u0628\\u0627\\u0644\\u0646\\u062f\\u0645 \\u0627\\u0644\\u0645\\u0645\\u0632\\u0648\\u062c \\u0628\\u0627\\u0644\\u0633\\u0639\\u0627\\u062f\\u0647 \\u0644\\u0623\\u0646 \\u0645\\u062a\\u0639\\u062a\\u0643 \\u0642\\u062f \\u0627\\u0646\\u062a\\u0647\\u062a\"\n        ],\n        \"semantic_type\": \"\",\n        \"description\": \"\"\n      }\n    }\n  ]\n}",
              "type": "dataframe",
              "variable_name": "dataset"
            },
            "text/html": [
              "\n",
              "  <div id=\"df-4ce3a92a-8e0f-4281-ae26-14d659632183\" class=\"colab-df-container\">\n",
              "    <div>\n",
              "<style scoped>\n",
              "    .dataframe tbody tr th:only-of-type {\n",
              "        vertical-align: middle;\n",
              "    }\n",
              "\n",
              "    .dataframe tbody tr th {\n",
              "        vertical-align: top;\n",
              "    }\n",
              "\n",
              "    .dataframe thead th {\n",
              "        text-align: right;\n",
              "    }\n",
              "</style>\n",
              "<table border=\"1\" class=\"dataframe\">\n",
              "  <thead>\n",
              "    <tr style=\"text-align: right;\">\n",
              "      <th></th>\n",
              "      <th>rating</th>\n",
              "      <th>review_id</th>\n",
              "      <th>user_id</th>\n",
              "      <th>book_id</th>\n",
              "      <th>review</th>\n",
              "    </tr>\n",
              "  </thead>\n",
              "  <tbody>\n",
              "    <tr>\n",
              "      <th>12152</th>\n",
              "      <td>4</td>\n",
              "      <td>415481260</td>\n",
              "      <td>6391071</td>\n",
              "      <td>9440012</td>\n",
              "      <td>ثقافة للحياة | يوميات نائب في الأرياف لــتوفي...</td>\n",
              "    </tr>\n",
              "    <tr>\n",
              "      <th>29753</th>\n",
              "      <td>1</td>\n",
              "      <td>501026526</td>\n",
              "      <td>4128410</td>\n",
              "      <td>3482519</td>\n",
              "      <td>كتاب لا يستحق اكتر من ربع نحمه . روايه ضعيفة ...</td>\n",
              "    </tr>\n",
              "    <tr>\n",
              "      <th>9586</th>\n",
              "      <td>3</td>\n",
              "      <td>183473674</td>\n",
              "      <td>4619036</td>\n",
              "      <td>4653511</td>\n",
              "      <td>رواية مؤلمه تحكي قصة تهريب ثلاث رجال عبر خزان...</td>\n",
              "    </tr>\n",
              "    <tr>\n",
              "      <th>48087</th>\n",
              "      <td>3</td>\n",
              "      <td>150978864</td>\n",
              "      <td>3426623</td>\n",
              "      <td>7634660</td>\n",
              "      <td>لا أذكرها كثيرًا، لكنني أذكر أنه هذه القصص كا...</td>\n",
              "    </tr>\n",
              "    <tr>\n",
              "      <th>33422</th>\n",
              "      <td>3</td>\n",
              "      <td>171735375</td>\n",
              "      <td>2296621</td>\n",
              "      <td>6562799</td>\n",
              "      <td>الكتاب استعرض كم. من المعلومات شخصياً لم اكن ...</td>\n",
              "    </tr>\n",
              "    <tr>\n",
              "      <th>49840</th>\n",
              "      <td>5</td>\n",
              "      <td>232695834</td>\n",
              "      <td>4507446</td>\n",
              "      <td>3438113</td>\n",
              "      <td>عندما بدءت فى قراءة هذه الرواية لم استطع تركه...</td>\n",
              "    </tr>\n",
              "    <tr>\n",
              "      <th>26984</th>\n",
              "      <td>5</td>\n",
              "      <td>301073147</td>\n",
              "      <td>7785860</td>\n",
              "      <td>3553395</td>\n",
              "      <td>أعظ وصف ليـه هو عدم الوصف كتـاب لايمكن أن تعب...</td>\n",
              "    </tr>\n",
              "    <tr>\n",
              "      <th>55313</th>\n",
              "      <td>4</td>\n",
              "      <td>64603083</td>\n",
              "      <td>2551456</td>\n",
              "      <td>2370762</td>\n",
              "      <td>تحدثت جودي عن تجربة واقعية لمعاناة شخصية عاشت...</td>\n",
              "    </tr>\n",
              "    <tr>\n",
              "      <th>14987</th>\n",
              "      <td>3</td>\n",
              "      <td>92260435</td>\n",
              "      <td>882233</td>\n",
              "      <td>3191898</td>\n",
              "      <td>كتاب جيد يستعرض فيه الكاتب الياباني نوبواكي ن...</td>\n",
              "    </tr>\n",
              "    <tr>\n",
              "      <th>58434</th>\n",
              "      <td>5</td>\n",
              "      <td>454155323</td>\n",
              "      <td>14201507</td>\n",
              "      <td>13604882</td>\n",
              "      <td>كتاب لما تقرأه تحس إنك صغير أوى</td>\n",
              "    </tr>\n",
              "    <tr>\n",
              "      <th>62439</th>\n",
              "      <td>4</td>\n",
              "      <td>465326638</td>\n",
              "      <td>8939246</td>\n",
              "      <td>5582212</td>\n",
              "      <td>من أوائل الكتب اللي قرئتها يذكرني بالخواطر ال...</td>\n",
              "    </tr>\n",
              "    <tr>\n",
              "      <th>45126</th>\n",
              "      <td>4</td>\n",
              "      <td>69263116</td>\n",
              "      <td>731369</td>\n",
              "      <td>10959</td>\n",
              "      <td>لايمكن أن تقدم المادة العلمية في صورة أفضل من...</td>\n",
              "    </tr>\n",
              "    <tr>\n",
              "      <th>30028</th>\n",
              "      <td>2</td>\n",
              "      <td>482213404</td>\n",
              "      <td>15650133</td>\n",
              "      <td>2750008</td>\n",
              "      <td>لا يمكن لإنسان ان يستمد السعادة الا من نفسه و...</td>\n",
              "    </tr>\n",
              "    <tr>\n",
              "      <th>60599</th>\n",
              "      <td>4</td>\n",
              "      <td>279350516</td>\n",
              "      <td>7456276</td>\n",
              "      <td>6652754</td>\n",
              "      <td>الكتاب مفيد جدا، نقل فيه السيوطي رحمه اللّه ا...</td>\n",
              "    </tr>\n",
              "    <tr>\n",
              "      <th>23693</th>\n",
              "      <td>5</td>\n",
              "      <td>84934126</td>\n",
              "      <td>3153240</td>\n",
              "      <td>3331756</td>\n",
              "      <td>رحم الله غسان</td>\n",
              "    </tr>\n",
              "    <tr>\n",
              "      <th>17871</th>\n",
              "      <td>4</td>\n",
              "      <td>423321978</td>\n",
              "      <td>2873653</td>\n",
              "      <td>16031620</td>\n",
              "      <td>طبعًا ماعنديش أي تعليق على طريقة السرد . الان...</td>\n",
              "    </tr>\n",
              "    <tr>\n",
              "      <th>30172</th>\n",
              "      <td>4</td>\n",
              "      <td>430659193</td>\n",
              "      <td>4776562</td>\n",
              "      <td>16076787</td>\n",
              "      <td>\"السنجة \" الرواية الغريبة الي مالهاش ملامح من...</td>\n",
              "    </tr>\n",
              "    <tr>\n",
              "      <th>10902</th>\n",
              "      <td>1</td>\n",
              "      <td>513644528</td>\n",
              "      <td>8270391</td>\n",
              "      <td>6621287</td>\n",
              "      <td>في الواقع لم تعجبني القصة أو بالأحرى النصائح ...</td>\n",
              "    </tr>\n",
              "    <tr>\n",
              "      <th>25308</th>\n",
              "      <td>4</td>\n",
              "      <td>484359814</td>\n",
              "      <td>3258792</td>\n",
              "      <td>13562054</td>\n",
              "      <td>الرواية مميزة، و السبب الابرز في رأيي هو ذلك ...</td>\n",
              "    </tr>\n",
              "    <tr>\n",
              "      <th>9036</th>\n",
              "      <td>3</td>\n",
              "      <td>563578639</td>\n",
              "      <td>5272764</td>\n",
              "      <td>10722079</td>\n",
              "      <td>كتاب بسيط يجسد انهيار الأخلاق و الثقافة بمجتم...</td>\n",
              "    </tr>\n",
              "  </tbody>\n",
              "</table>\n",
              "</div>\n",
              "    <div class=\"colab-df-buttons\">\n",
              "\n",
              "  <div class=\"colab-df-container\">\n",
              "    <button class=\"colab-df-convert\" onclick=\"convertToInteractive('df-4ce3a92a-8e0f-4281-ae26-14d659632183')\"\n",
              "            title=\"Convert this dataframe to an interactive table.\"\n",
              "            style=\"display:none;\">\n",
              "\n",
              "  <svg xmlns=\"http://www.w3.org/2000/svg\" height=\"24px\" viewBox=\"0 -960 960 960\">\n",
              "    <path d=\"M120-120v-720h720v720H120Zm60-500h600v-160H180v160Zm220 220h160v-160H400v160Zm0 220h160v-160H400v160ZM180-400h160v-160H180v160Zm440 0h160v-160H620v160ZM180-180h160v-160H180v160Zm440 0h160v-160H620v160Z\"/>\n",
              "  </svg>\n",
              "    </button>\n",
              "\n",
              "  <style>\n",
              "    .colab-df-container {\n",
              "      display:flex;\n",
              "      gap: 12px;\n",
              "    }\n",
              "\n",
              "    .colab-df-convert {\n",
              "      background-color: #E8F0FE;\n",
              "      border: none;\n",
              "      border-radius: 50%;\n",
              "      cursor: pointer;\n",
              "      display: none;\n",
              "      fill: #1967D2;\n",
              "      height: 32px;\n",
              "      padding: 0 0 0 0;\n",
              "      width: 32px;\n",
              "    }\n",
              "\n",
              "    .colab-df-convert:hover {\n",
              "      background-color: #E2EBFA;\n",
              "      box-shadow: 0px 1px 2px rgba(60, 64, 67, 0.3), 0px 1px 3px 1px rgba(60, 64, 67, 0.15);\n",
              "      fill: #174EA6;\n",
              "    }\n",
              "\n",
              "    .colab-df-buttons div {\n",
              "      margin-bottom: 4px;\n",
              "    }\n",
              "\n",
              "    [theme=dark] .colab-df-convert {\n",
              "      background-color: #3B4455;\n",
              "      fill: #D2E3FC;\n",
              "    }\n",
              "\n",
              "    [theme=dark] .colab-df-convert:hover {\n",
              "      background-color: #434B5C;\n",
              "      box-shadow: 0px 1px 3px 1px rgba(0, 0, 0, 0.15);\n",
              "      filter: drop-shadow(0px 1px 2px rgba(0, 0, 0, 0.3));\n",
              "      fill: #FFFFFF;\n",
              "    }\n",
              "  </style>\n",
              "\n",
              "    <script>\n",
              "      const buttonEl =\n",
              "        document.querySelector('#df-4ce3a92a-8e0f-4281-ae26-14d659632183 button.colab-df-convert');\n",
              "      buttonEl.style.display =\n",
              "        google.colab.kernel.accessAllowed ? 'block' : 'none';\n",
              "\n",
              "      async function convertToInteractive(key) {\n",
              "        const element = document.querySelector('#df-4ce3a92a-8e0f-4281-ae26-14d659632183');\n",
              "        const dataTable =\n",
              "          await google.colab.kernel.invokeFunction('convertToInteractive',\n",
              "                                                    [key], {});\n",
              "        if (!dataTable) return;\n",
              "\n",
              "        const docLinkHtml = 'Like what you see? Visit the ' +\n",
              "          '<a target=\"_blank\" href=https://colab.research.google.com/notebooks/data_table.ipynb>data table notebook</a>'\n",
              "          + ' to learn more about interactive tables.';\n",
              "        element.innerHTML = '';\n",
              "        dataTable['output_type'] = 'display_data';\n",
              "        await google.colab.output.renderOutput(dataTable, element);\n",
              "        const docLink = document.createElement('div');\n",
              "        docLink.innerHTML = docLinkHtml;\n",
              "        element.appendChild(docLink);\n",
              "      }\n",
              "    </script>\n",
              "  </div>\n",
              "\n",
              "\n",
              "<div id=\"df-8efe3459-339b-4ccf-9568-79f192e3d905\">\n",
              "  <button class=\"colab-df-quickchart\" onclick=\"quickchart('df-8efe3459-339b-4ccf-9568-79f192e3d905')\"\n",
              "            title=\"Suggest charts\"\n",
              "            style=\"display:none;\">\n",
              "\n",
              "<svg xmlns=\"http://www.w3.org/2000/svg\" height=\"24px\"viewBox=\"0 0 24 24\"\n",
              "     width=\"24px\">\n",
              "    <g>\n",
              "        <path d=\"M19 3H5c-1.1 0-2 .9-2 2v14c0 1.1.9 2 2 2h14c1.1 0 2-.9 2-2V5c0-1.1-.9-2-2-2zM9 17H7v-7h2v7zm4 0h-2V7h2v10zm4 0h-2v-4h2v4z\"/>\n",
              "    </g>\n",
              "</svg>\n",
              "  </button>\n",
              "\n",
              "<style>\n",
              "  .colab-df-quickchart {\n",
              "      --bg-color: #E8F0FE;\n",
              "      --fill-color: #1967D2;\n",
              "      --hover-bg-color: #E2EBFA;\n",
              "      --hover-fill-color: #174EA6;\n",
              "      --disabled-fill-color: #AAA;\n",
              "      --disabled-bg-color: #DDD;\n",
              "  }\n",
              "\n",
              "  [theme=dark] .colab-df-quickchart {\n",
              "      --bg-color: #3B4455;\n",
              "      --fill-color: #D2E3FC;\n",
              "      --hover-bg-color: #434B5C;\n",
              "      --hover-fill-color: #FFFFFF;\n",
              "      --disabled-bg-color: #3B4455;\n",
              "      --disabled-fill-color: #666;\n",
              "  }\n",
              "\n",
              "  .colab-df-quickchart {\n",
              "    background-color: var(--bg-color);\n",
              "    border: none;\n",
              "    border-radius: 50%;\n",
              "    cursor: pointer;\n",
              "    display: none;\n",
              "    fill: var(--fill-color);\n",
              "    height: 32px;\n",
              "    padding: 0;\n",
              "    width: 32px;\n",
              "  }\n",
              "\n",
              "  .colab-df-quickchart:hover {\n",
              "    background-color: var(--hover-bg-color);\n",
              "    box-shadow: 0 1px 2px rgba(60, 64, 67, 0.3), 0 1px 3px 1px rgba(60, 64, 67, 0.15);\n",
              "    fill: var(--button-hover-fill-color);\n",
              "  }\n",
              "\n",
              "  .colab-df-quickchart-complete:disabled,\n",
              "  .colab-df-quickchart-complete:disabled:hover {\n",
              "    background-color: var(--disabled-bg-color);\n",
              "    fill: var(--disabled-fill-color);\n",
              "    box-shadow: none;\n",
              "  }\n",
              "\n",
              "  .colab-df-spinner {\n",
              "    border: 2px solid var(--fill-color);\n",
              "    border-color: transparent;\n",
              "    border-bottom-color: var(--fill-color);\n",
              "    animation:\n",
              "      spin 1s steps(1) infinite;\n",
              "  }\n",
              "\n",
              "  @keyframes spin {\n",
              "    0% {\n",
              "      border-color: transparent;\n",
              "      border-bottom-color: var(--fill-color);\n",
              "      border-left-color: var(--fill-color);\n",
              "    }\n",
              "    20% {\n",
              "      border-color: transparent;\n",
              "      border-left-color: var(--fill-color);\n",
              "      border-top-color: var(--fill-color);\n",
              "    }\n",
              "    30% {\n",
              "      border-color: transparent;\n",
              "      border-left-color: var(--fill-color);\n",
              "      border-top-color: var(--fill-color);\n",
              "      border-right-color: var(--fill-color);\n",
              "    }\n",
              "    40% {\n",
              "      border-color: transparent;\n",
              "      border-right-color: var(--fill-color);\n",
              "      border-top-color: var(--fill-color);\n",
              "    }\n",
              "    60% {\n",
              "      border-color: transparent;\n",
              "      border-right-color: var(--fill-color);\n",
              "    }\n",
              "    80% {\n",
              "      border-color: transparent;\n",
              "      border-right-color: var(--fill-color);\n",
              "      border-bottom-color: var(--fill-color);\n",
              "    }\n",
              "    90% {\n",
              "      border-color: transparent;\n",
              "      border-bottom-color: var(--fill-color);\n",
              "    }\n",
              "  }\n",
              "</style>\n",
              "\n",
              "  <script>\n",
              "    async function quickchart(key) {\n",
              "      const quickchartButtonEl =\n",
              "        document.querySelector('#' + key + ' button');\n",
              "      quickchartButtonEl.disabled = true;  // To prevent multiple clicks.\n",
              "      quickchartButtonEl.classList.add('colab-df-spinner');\n",
              "      try {\n",
              "        const charts = await google.colab.kernel.invokeFunction(\n",
              "            'suggestCharts', [key], {});\n",
              "      } catch (error) {\n",
              "        console.error('Error during call to suggestCharts:', error);\n",
              "      }\n",
              "      quickchartButtonEl.classList.remove('colab-df-spinner');\n",
              "      quickchartButtonEl.classList.add('colab-df-quickchart-complete');\n",
              "    }\n",
              "    (() => {\n",
              "      let quickchartButtonEl =\n",
              "        document.querySelector('#df-8efe3459-339b-4ccf-9568-79f192e3d905 button');\n",
              "      quickchartButtonEl.style.display =\n",
              "        google.colab.kernel.accessAllowed ? 'block' : 'none';\n",
              "    })();\n",
              "  </script>\n",
              "</div>\n",
              "\n",
              "    </div>\n",
              "  </div>\n"
            ],
            "text/plain": [
              "       rating  review_id   user_id   book_id  \\\n",
              "12152       4  415481260   6391071   9440012   \n",
              "29753       1  501026526   4128410   3482519   \n",
              "9586        3  183473674   4619036   4653511   \n",
              "48087       3  150978864   3426623   7634660   \n",
              "33422       3  171735375   2296621   6562799   \n",
              "49840       5  232695834   4507446   3438113   \n",
              "26984       5  301073147   7785860   3553395   \n",
              "55313       4   64603083   2551456   2370762   \n",
              "14987       3   92260435    882233   3191898   \n",
              "58434       5  454155323  14201507  13604882   \n",
              "62439       4  465326638   8939246   5582212   \n",
              "45126       4   69263116    731369     10959   \n",
              "30028       2  482213404  15650133   2750008   \n",
              "60599       4  279350516   7456276   6652754   \n",
              "23693       5   84934126   3153240   3331756   \n",
              "17871       4  423321978   2873653  16031620   \n",
              "30172       4  430659193   4776562  16076787   \n",
              "10902       1  513644528   8270391   6621287   \n",
              "25308       4  484359814   3258792  13562054   \n",
              "9036        3  563578639   5272764  10722079   \n",
              "\n",
              "                                                  review  \n",
              "12152   ثقافة للحياة | يوميات نائب في الأرياف لــتوفي...  \n",
              "29753   كتاب لا يستحق اكتر من ربع نحمه . روايه ضعيفة ...  \n",
              "9586    رواية مؤلمه تحكي قصة تهريب ثلاث رجال عبر خزان...  \n",
              "48087   لا أذكرها كثيرًا، لكنني أذكر أنه هذه القصص كا...  \n",
              "33422   الكتاب استعرض كم. من المعلومات شخصياً لم اكن ...  \n",
              "49840   عندما بدءت فى قراءة هذه الرواية لم استطع تركه...  \n",
              "26984   أعظ وصف ليـه هو عدم الوصف كتـاب لايمكن أن تعب...  \n",
              "55313   تحدثت جودي عن تجربة واقعية لمعاناة شخصية عاشت...  \n",
              "14987   كتاب جيد يستعرض فيه الكاتب الياباني نوبواكي ن...  \n",
              "58434                    كتاب لما تقرأه تحس إنك صغير أوى  \n",
              "62439   من أوائل الكتب اللي قرئتها يذكرني بالخواطر ال...  \n",
              "45126   لايمكن أن تقدم المادة العلمية في صورة أفضل من...  \n",
              "30028   لا يمكن لإنسان ان يستمد السعادة الا من نفسه و...  \n",
              "60599   الكتاب مفيد جدا، نقل فيه السيوطي رحمه اللّه ا...  \n",
              "23693                                      رحم الله غسان  \n",
              "17871   طبعًا ماعنديش أي تعليق على طريقة السرد . الان...  \n",
              "30172   \"السنجة \" الرواية الغريبة الي مالهاش ملامح من...  \n",
              "10902   في الواقع لم تعجبني القصة أو بالأحرى النصائح ...  \n",
              "25308   الرواية مميزة، و السبب الابرز في رأيي هو ذلك ...  \n",
              "9036    كتاب بسيط يجسد انهيار الأخلاق و الثقافة بمجتم...  "
            ]
          },
          "execution_count": 6,
          "metadata": {},
          "output_type": "execute_result"
        }
      ],
      "source": [
        "# loading the tsv file\n",
        "SEED = 21\n",
        "\n",
        "dataset = pd.read_csv(\"/content/drive/MyDrive/Parcours Academique/ENSAM/PFA/datasets/LABR/reviews.tsv\", sep = '\\t', header=None, names = [\"rating\",\"review_id\",\"user_id\",\"book_id\",\"review\"])\n",
        "\n",
        "dataset = dataset.sample(frac=1, random_state = SEED)\n",
        "\n",
        "dataset.head(20)"
      ]
    },
    {
      "cell_type": "code",
      "execution_count": null,
      "metadata": {
        "id": "E7FVjraLrPOh"
      },
      "outputs": [],
      "source": [
        "# checking the shape of the dataset\n",
        "dataset.shape"
      ]
    },
    {
      "cell_type": "code",
      "execution_count": null,
      "metadata": {
        "id": "dVupB2gArPOj"
      },
      "outputs": [],
      "source": [
        "# checking for missing values\n",
        "dataset.info()"
      ]
    },
    {
      "cell_type": "code",
      "execution_count": null,
      "metadata": {
        "id": "nS8lY7NGrPOk"
      },
      "outputs": [],
      "source": [
        "# checking for missing values\n",
        "dataset.describe()"
      ]
    },
    {
      "cell_type": "code",
      "execution_count": 7,
      "metadata": {
        "colab": {
          "base_uri": "https://localhost:8080/"
        },
        "id": "wBeLp7-OrPOm",
        "outputId": "5b611397-399c-4e64-fabf-cd4eb013e543"
      },
      "outputs": [
        {
          "data": {
            "text/plain": [
              "rating       0\n",
              "review_id    0\n",
              "user_id      0\n",
              "book_id      0\n",
              "review       0\n",
              "dtype: int64"
            ]
          },
          "execution_count": 7,
          "metadata": {},
          "output_type": "execute_result"
        }
      ],
      "source": [
        "# checking for missing values\n",
        "dataset.isnull().sum()"
      ]
    },
    {
      "cell_type": "code",
      "execution_count": null,
      "metadata": {
        "id": "cQde4f1_rPOn"
      },
      "outputs": [],
      "source": [
        "# checking for missing values\n",
        "dataset.nunique()"
      ]
    },
    {
      "cell_type": "code",
      "execution_count": 8,
      "metadata": {
        "colab": {
          "base_uri": "https://localhost:8080/"
        },
        "id": "ARGQimuirPOp",
        "outputId": "840a96dc-1360-4378-ab9e-b4d093ac0816"
      },
      "outputs": [
        {
          "name": "stdout",
          "output_type": "stream",
          "text": [
            "rating\n",
            "5    37.589516\n",
            "4    30.121568\n",
            "3    19.287984\n",
            "2     8.354807\n",
            "1     4.646126\n",
            "Name: proportion, dtype: float64\n"
          ]
        }
      ],
      "source": [
        "# checking for the distribution of the ratings\n",
        "print(dataset['rating'].value_counts(normalize=True) * 100)"
      ]
    },
    {
      "cell_type": "code",
      "execution_count": null,
      "metadata": {
        "id": "siBeT87brPOq"
      },
      "outputs": [],
      "source": [
        "# plotting the distribution of the ratings\n",
        "print(dataset['rating'].value_counts(normalize=True).plot(kind='bar'))"
      ]
    },
    {
      "cell_type": "markdown",
      "metadata": {
        "id": "pvhMgMU1rPOr"
      },
      "source": [
        "## Preprocessing"
      ]
    },
    {
      "cell_type": "code",
      "execution_count": 9,
      "metadata": {
        "id": "Wba17VE3rPOt"
      },
      "outputs": [],
      "source": [
        "# dropping the review_id, user_id and book_id columns\n",
        "dataset = dataset.drop(['review_id','user_id','book_id'], axis=1)"
      ]
    },
    {
      "cell_type": "code",
      "execution_count": 10,
      "metadata": {
        "id": "XFArNkierPOu"
      },
      "outputs": [],
      "source": [
        "# dropping the duplicates and keeping the first occurence\n",
        "dataset = dataset.drop_duplicates(subset='review', keep='first')"
      ]
    },
    {
      "cell_type": "code",
      "execution_count": 12,
      "metadata": {
        "id": "D03xD750rPOv"
      },
      "outputs": [],
      "source": [
        "# removing whitespaces\n",
        "import re\n",
        "pattern = r'\\s+|\\n+'\n",
        "dataset[\"review\"] = dataset[\"review\"].apply(lambda document: re.sub(pattern, ' ', document))"
      ]
    },
    {
      "cell_type": "code",
      "execution_count": 13,
      "metadata": {
        "id": "YYy01dkgrPOw"
      },
      "outputs": [],
      "source": [
        "# removing punctuations\n",
        "\n",
        "pattern = r'[^\\w\\s\\u0600-\\u06FF]+|ﷺ|۩|⓵|؟|۞|ﷻ'\n",
        "dataset[\"review\"] = dataset[\"review\"].apply(lambda document: re.sub(pattern, '', document))"
      ]
    },
    {
      "cell_type": "code",
      "execution_count": 14,
      "metadata": {
        "id": "L1EyA5lprPO0"
      },
      "outputs": [],
      "source": [
        "# removing consecutive characters in arabic\n",
        "\n",
        "pattern = r'(.)\\1+'\n",
        "dataset[\"review\"] = dataset[\"review\"].apply(lambda document: re.sub(pattern, r'\\1', document))"
      ]
    },
    {
      "cell_type": "code",
      "execution_count": 15,
      "metadata": {
        "id": "3gISIaCFrPO3"
      },
      "outputs": [],
      "source": [
        "# removing stop words\n",
        "\n",
        "stop_words = set(stopwords.words('arabic'))\n",
        "stop_words.update(stp.stopwords_list())\n",
        "dataset[\"review\"] = dataset[\"review\"].apply(lambda document: ' '.join([word for word in document.split() if word not in stop_words]))"
      ]
    },
    {
      "cell_type": "code",
      "execution_count": 16,
      "metadata": {
        "id": "ISt34exLrPO5"
      },
      "outputs": [],
      "source": [
        "# removing arabic diactrics\n",
        "\n",
        "dataset[\"review\"] = dataset[\"review\"].apply(lambda document: araby.strip_tashkeel(document))"
      ]
    },
    {
      "cell_type": "code",
      "execution_count": 17,
      "metadata": {
        "id": "COdyRGNtrPO6"
      },
      "outputs": [],
      "source": [
        "# removing numbers\n",
        "\n",
        "dataset[\"review\"] = dataset[\"review\"].apply(lambda document: ''.join([i for i in document if not i.isdigit()]))"
      ]
    },
    {
      "cell_type": "code",
      "execution_count": 18,
      "metadata": {
        "id": "X5mYJUCHrPO9"
      },
      "outputs": [],
      "source": [
        "# removing english alphabets\n",
        "\n",
        "dataset[\"review\"] = dataset[\"review\"].apply(lambda document: re.sub(r'[a-zA-Z]+', '', document))"
      ]
    },
    {
      "cell_type": "code",
      "execution_count": 20,
      "metadata": {
        "colab": {
          "base_uri": "https://localhost:8080/"
        },
        "id": "mxFTDW2irPPA",
        "outputId": "50ae316c-bd5c-4b47-8083-d1a6239adc49"
      },
      "outputs": [
        {
          "name": "stderr",
          "output_type": "stream",
          "text": [
            "[nltk_data] Downloading package punkt to /root/nltk_data...\n",
            "[nltk_data]   Unzipping tokenizers/punkt.zip.\n"
          ]
        }
      ],
      "source": [
        "# tokenizing the reviews using nltk\n",
        "\n",
        "import nltk\n",
        "nltk.download('punkt')\n",
        "from nltk.tokenize import word_tokenize\n",
        "\n",
        "dataset[\"review\"] = dataset[\"review\"].apply(lambda document: word_tokenize(document))"
      ]
    },
    {
      "cell_type": "code",
      "execution_count": 21,
      "metadata": {
        "id": "0K7mXE_nrPPB"
      },
      "outputs": [],
      "source": [
        "# stemming the reviews using nltk\n",
        "\n",
        "stemmer = ISRIStemmer()\n",
        "dataset[\"review\"] = dataset[\"review\"].apply(lambda document: [stemmer.stem(word) for word in document])"
      ]
    },
    {
      "cell_type": "code",
      "execution_count": 22,
      "metadata": {
        "colab": {
          "base_uri": "https://localhost:8080/",
          "height": 676
        },
        "id": "palQGlltrPPC",
        "outputId": "4695ec3f-96a1-46a3-880c-bef7fd93356e"
      },
      "outputs": [
        {
          "data": {
            "application/vnd.google.colaboratory.intrinsic+json": {
              "summary": "{\n  \"name\": \"dataset\",\n  \"rows\": 60090,\n  \"fields\": [\n    {\n      \"column\": \"rating\",\n      \"properties\": {\n        \"dtype\": \"number\",\n        \"std\": 1,\n        \"min\": 1,\n        \"max\": 5,\n        \"num_unique_values\": 5,\n        \"samples\": [\n          1,\n          2,\n          3\n        ],\n        \"semantic_type\": \"\",\n        \"description\": \"\"\n      }\n    },\n    {\n      \"column\": \"review\",\n      \"properties\": {\n        \"dtype\": \"object\",\n        \"semantic_type\": \"\",\n        \"description\": \"\"\n      }\n    }\n  ]\n}",
              "type": "dataframe",
              "variable_name": "dataset"
            },
            "text/html": [
              "\n",
              "  <div id=\"df-2531e731-0099-4fa2-b8de-0121bde377b5\" class=\"colab-df-container\">\n",
              "    <div>\n",
              "<style scoped>\n",
              "    .dataframe tbody tr th:only-of-type {\n",
              "        vertical-align: middle;\n",
              "    }\n",
              "\n",
              "    .dataframe tbody tr th {\n",
              "        vertical-align: top;\n",
              "    }\n",
              "\n",
              "    .dataframe thead th {\n",
              "        text-align: right;\n",
              "    }\n",
              "</style>\n",
              "<table border=\"1\" class=\"dataframe\">\n",
              "  <thead>\n",
              "    <tr style=\"text-align: right;\">\n",
              "      <th></th>\n",
              "      <th>rating</th>\n",
              "      <th>review</th>\n",
              "    </tr>\n",
              "  </thead>\n",
              "  <tbody>\n",
              "    <tr>\n",
              "      <th>12152</th>\n",
              "      <td>4</td>\n",
              "      <td>[ثقف, لحا, يوم, نئب, ريف, ـتوفيق, حكم, قرء, لم...</td>\n",
              "    </tr>\n",
              "    <tr>\n",
              "      <th>29753</th>\n",
              "      <td>1</td>\n",
              "      <td>[كتب, سحق, كتر, ربع, نحم, ريه, ضعف, بنء, سوخ]</td>\n",
              "    </tr>\n",
              "    <tr>\n",
              "      <th>9586</th>\n",
              "      <td>3</td>\n",
              "      <td>[روي, ؤلم, تحك, قصة, هرب, رجل, عبر, خزن, ماء, ...</td>\n",
              "    </tr>\n",
              "    <tr>\n",
              "      <th>48087</th>\n",
              "      <td>3</td>\n",
              "      <td>[ذكر, كثيرا،, ذكر, لقص, كانت, شوق, جدا, وقت, ذ...</td>\n",
              "    </tr>\n",
              "    <tr>\n",
              "      <th>33422</th>\n",
              "      <td>3</td>\n",
              "      <td>[كتب, عرض, علم, شخص, اكن, درك, وقت, كانت, كمل,...</td>\n",
              "    </tr>\n",
              "    <tr>\n",
              "      <th>49840</th>\n",
              "      <td>5</td>\n",
              "      <td>[بدء, فى, قرء, روي, سطع, ترك, نهي, سلب, ماركيز...</td>\n",
              "    </tr>\n",
              "    <tr>\n",
              "      <th>26984</th>\n",
              "      <td>5</td>\n",
              "      <td>[اعظ, وصف, ليـ, عدم, وصف, كتـاب, ليم, عبر, كلم]</td>\n",
              "    </tr>\n",
              "    <tr>\n",
              "      <th>55313</th>\n",
              "      <td>4</td>\n",
              "      <td>[حدث, جود, جرب, وقع, لمع, شخص, عشت, فصل, رحل, ...</td>\n",
              "    </tr>\n",
              "    <tr>\n",
              "      <th>14987</th>\n",
              "      <td>3</td>\n",
              "      <td>[كتب, جيد, عرض, كتب, يبا, وبو, نظر, تجه, عرب, ...</td>\n",
              "    </tr>\n",
              "    <tr>\n",
              "      <th>58434</th>\n",
              "      <td>5</td>\n",
              "      <td>[كتب, قرأ, تحس, صغر, اوى]</td>\n",
              "    </tr>\n",
              "    <tr>\n",
              "      <th>62439</th>\n",
              "      <td>4</td>\n",
              "      <td>[وئل, كتب, الي, قرئ, ذكر, خطر, همس, انس, حلم]</td>\n",
              "    </tr>\n",
              "    <tr>\n",
              "      <th>45126</th>\n",
              "      <td>4</td>\n",
              "      <td>[ليم, قدم, ادة, علم, صور, فضل, منالقص, لتك, وج...</td>\n",
              "    </tr>\n",
              "    <tr>\n",
              "      <th>30028</th>\n",
              "      <td>2</td>\n",
              "      <td>[يمكن, إنس, ان, سمد, سعد, الا, وكن, ان, هدي, ا...</td>\n",
              "    </tr>\n",
              "    <tr>\n",
              "      <th>60599</th>\n",
              "      <td>4</td>\n",
              "      <td>[كتب, فيد, جد،, نقل, سيط, رحم, اله, كثر, كثر, ...</td>\n",
              "    </tr>\n",
              "    <tr>\n",
              "      <th>23693</th>\n",
              "      <td>5</td>\n",
              "      <td>[رحم, اله, غسن]</td>\n",
              "    </tr>\n",
              "    <tr>\n",
              "      <th>17871</th>\n",
              "      <td>4</td>\n",
              "      <td>[طبع, ماعنديش, علق, طرق, سرد, نقل, حدث, ،, زمن...</td>\n",
              "    </tr>\n",
              "    <tr>\n",
              "      <th>30172</th>\n",
              "      <td>4</td>\n",
              "      <td>[سنج, روي, غرب, الي, مالهاش, لمح, وجه, نظر, سن...</td>\n",
              "    </tr>\n",
              "    <tr>\n",
              "      <th>10902</th>\n",
              "      <td>1</td>\n",
              "      <td>[وقع, عجب, قصة, حرى, نصح, قدم, كتب, غرض, نسي, ...</td>\n",
              "    </tr>\n",
              "    <tr>\n",
              "      <th>25308</th>\n",
              "      <td>4</td>\n",
              "      <td>[روي, يزة،, لسب, برز, رأي, ربط, حدث, قع،, بغض,...</td>\n",
              "    </tr>\n",
              "    <tr>\n",
              "      <th>9036</th>\n",
              "      <td>3</td>\n",
              "      <td>[كتب, بسط, جسد, هير, خلق, ثقف, جمع, عرب, حتج, ...</td>\n",
              "    </tr>\n",
              "  </tbody>\n",
              "</table>\n",
              "</div>\n",
              "    <div class=\"colab-df-buttons\">\n",
              "\n",
              "  <div class=\"colab-df-container\">\n",
              "    <button class=\"colab-df-convert\" onclick=\"convertToInteractive('df-2531e731-0099-4fa2-b8de-0121bde377b5')\"\n",
              "            title=\"Convert this dataframe to an interactive table.\"\n",
              "            style=\"display:none;\">\n",
              "\n",
              "  <svg xmlns=\"http://www.w3.org/2000/svg\" height=\"24px\" viewBox=\"0 -960 960 960\">\n",
              "    <path d=\"M120-120v-720h720v720H120Zm60-500h600v-160H180v160Zm220 220h160v-160H400v160Zm0 220h160v-160H400v160ZM180-400h160v-160H180v160Zm440 0h160v-160H620v160ZM180-180h160v-160H180v160Zm440 0h160v-160H620v160Z\"/>\n",
              "  </svg>\n",
              "    </button>\n",
              "\n",
              "  <style>\n",
              "    .colab-df-container {\n",
              "      display:flex;\n",
              "      gap: 12px;\n",
              "    }\n",
              "\n",
              "    .colab-df-convert {\n",
              "      background-color: #E8F0FE;\n",
              "      border: none;\n",
              "      border-radius: 50%;\n",
              "      cursor: pointer;\n",
              "      display: none;\n",
              "      fill: #1967D2;\n",
              "      height: 32px;\n",
              "      padding: 0 0 0 0;\n",
              "      width: 32px;\n",
              "    }\n",
              "\n",
              "    .colab-df-convert:hover {\n",
              "      background-color: #E2EBFA;\n",
              "      box-shadow: 0px 1px 2px rgba(60, 64, 67, 0.3), 0px 1px 3px 1px rgba(60, 64, 67, 0.15);\n",
              "      fill: #174EA6;\n",
              "    }\n",
              "\n",
              "    .colab-df-buttons div {\n",
              "      margin-bottom: 4px;\n",
              "    }\n",
              "\n",
              "    [theme=dark] .colab-df-convert {\n",
              "      background-color: #3B4455;\n",
              "      fill: #D2E3FC;\n",
              "    }\n",
              "\n",
              "    [theme=dark] .colab-df-convert:hover {\n",
              "      background-color: #434B5C;\n",
              "      box-shadow: 0px 1px 3px 1px rgba(0, 0, 0, 0.15);\n",
              "      filter: drop-shadow(0px 1px 2px rgba(0, 0, 0, 0.3));\n",
              "      fill: #FFFFFF;\n",
              "    }\n",
              "  </style>\n",
              "\n",
              "    <script>\n",
              "      const buttonEl =\n",
              "        document.querySelector('#df-2531e731-0099-4fa2-b8de-0121bde377b5 button.colab-df-convert');\n",
              "      buttonEl.style.display =\n",
              "        google.colab.kernel.accessAllowed ? 'block' : 'none';\n",
              "\n",
              "      async function convertToInteractive(key) {\n",
              "        const element = document.querySelector('#df-2531e731-0099-4fa2-b8de-0121bde377b5');\n",
              "        const dataTable =\n",
              "          await google.colab.kernel.invokeFunction('convertToInteractive',\n",
              "                                                    [key], {});\n",
              "        if (!dataTable) return;\n",
              "\n",
              "        const docLinkHtml = 'Like what you see? Visit the ' +\n",
              "          '<a target=\"_blank\" href=https://colab.research.google.com/notebooks/data_table.ipynb>data table notebook</a>'\n",
              "          + ' to learn more about interactive tables.';\n",
              "        element.innerHTML = '';\n",
              "        dataTable['output_type'] = 'display_data';\n",
              "        await google.colab.output.renderOutput(dataTable, element);\n",
              "        const docLink = document.createElement('div');\n",
              "        docLink.innerHTML = docLinkHtml;\n",
              "        element.appendChild(docLink);\n",
              "      }\n",
              "    </script>\n",
              "  </div>\n",
              "\n",
              "\n",
              "<div id=\"df-b6082c61-43fd-4505-a79e-8dba8ff563ce\">\n",
              "  <button class=\"colab-df-quickchart\" onclick=\"quickchart('df-b6082c61-43fd-4505-a79e-8dba8ff563ce')\"\n",
              "            title=\"Suggest charts\"\n",
              "            style=\"display:none;\">\n",
              "\n",
              "<svg xmlns=\"http://www.w3.org/2000/svg\" height=\"24px\"viewBox=\"0 0 24 24\"\n",
              "     width=\"24px\">\n",
              "    <g>\n",
              "        <path d=\"M19 3H5c-1.1 0-2 .9-2 2v14c0 1.1.9 2 2 2h14c1.1 0 2-.9 2-2V5c0-1.1-.9-2-2-2zM9 17H7v-7h2v7zm4 0h-2V7h2v10zm4 0h-2v-4h2v4z\"/>\n",
              "    </g>\n",
              "</svg>\n",
              "  </button>\n",
              "\n",
              "<style>\n",
              "  .colab-df-quickchart {\n",
              "      --bg-color: #E8F0FE;\n",
              "      --fill-color: #1967D2;\n",
              "      --hover-bg-color: #E2EBFA;\n",
              "      --hover-fill-color: #174EA6;\n",
              "      --disabled-fill-color: #AAA;\n",
              "      --disabled-bg-color: #DDD;\n",
              "  }\n",
              "\n",
              "  [theme=dark] .colab-df-quickchart {\n",
              "      --bg-color: #3B4455;\n",
              "      --fill-color: #D2E3FC;\n",
              "      --hover-bg-color: #434B5C;\n",
              "      --hover-fill-color: #FFFFFF;\n",
              "      --disabled-bg-color: #3B4455;\n",
              "      --disabled-fill-color: #666;\n",
              "  }\n",
              "\n",
              "  .colab-df-quickchart {\n",
              "    background-color: var(--bg-color);\n",
              "    border: none;\n",
              "    border-radius: 50%;\n",
              "    cursor: pointer;\n",
              "    display: none;\n",
              "    fill: var(--fill-color);\n",
              "    height: 32px;\n",
              "    padding: 0;\n",
              "    width: 32px;\n",
              "  }\n",
              "\n",
              "  .colab-df-quickchart:hover {\n",
              "    background-color: var(--hover-bg-color);\n",
              "    box-shadow: 0 1px 2px rgba(60, 64, 67, 0.3), 0 1px 3px 1px rgba(60, 64, 67, 0.15);\n",
              "    fill: var(--button-hover-fill-color);\n",
              "  }\n",
              "\n",
              "  .colab-df-quickchart-complete:disabled,\n",
              "  .colab-df-quickchart-complete:disabled:hover {\n",
              "    background-color: var(--disabled-bg-color);\n",
              "    fill: var(--disabled-fill-color);\n",
              "    box-shadow: none;\n",
              "  }\n",
              "\n",
              "  .colab-df-spinner {\n",
              "    border: 2px solid var(--fill-color);\n",
              "    border-color: transparent;\n",
              "    border-bottom-color: var(--fill-color);\n",
              "    animation:\n",
              "      spin 1s steps(1) infinite;\n",
              "  }\n",
              "\n",
              "  @keyframes spin {\n",
              "    0% {\n",
              "      border-color: transparent;\n",
              "      border-bottom-color: var(--fill-color);\n",
              "      border-left-color: var(--fill-color);\n",
              "    }\n",
              "    20% {\n",
              "      border-color: transparent;\n",
              "      border-left-color: var(--fill-color);\n",
              "      border-top-color: var(--fill-color);\n",
              "    }\n",
              "    30% {\n",
              "      border-color: transparent;\n",
              "      border-left-color: var(--fill-color);\n",
              "      border-top-color: var(--fill-color);\n",
              "      border-right-color: var(--fill-color);\n",
              "    }\n",
              "    40% {\n",
              "      border-color: transparent;\n",
              "      border-right-color: var(--fill-color);\n",
              "      border-top-color: var(--fill-color);\n",
              "    }\n",
              "    60% {\n",
              "      border-color: transparent;\n",
              "      border-right-color: var(--fill-color);\n",
              "    }\n",
              "    80% {\n",
              "      border-color: transparent;\n",
              "      border-right-color: var(--fill-color);\n",
              "      border-bottom-color: var(--fill-color);\n",
              "    }\n",
              "    90% {\n",
              "      border-color: transparent;\n",
              "      border-bottom-color: var(--fill-color);\n",
              "    }\n",
              "  }\n",
              "</style>\n",
              "\n",
              "  <script>\n",
              "    async function quickchart(key) {\n",
              "      const quickchartButtonEl =\n",
              "        document.querySelector('#' + key + ' button');\n",
              "      quickchartButtonEl.disabled = true;  // To prevent multiple clicks.\n",
              "      quickchartButtonEl.classList.add('colab-df-spinner');\n",
              "      try {\n",
              "        const charts = await google.colab.kernel.invokeFunction(\n",
              "            'suggestCharts', [key], {});\n",
              "      } catch (error) {\n",
              "        console.error('Error during call to suggestCharts:', error);\n",
              "      }\n",
              "      quickchartButtonEl.classList.remove('colab-df-spinner');\n",
              "      quickchartButtonEl.classList.add('colab-df-quickchart-complete');\n",
              "    }\n",
              "    (() => {\n",
              "      let quickchartButtonEl =\n",
              "        document.querySelector('#df-b6082c61-43fd-4505-a79e-8dba8ff563ce button');\n",
              "      quickchartButtonEl.style.display =\n",
              "        google.colab.kernel.accessAllowed ? 'block' : 'none';\n",
              "    })();\n",
              "  </script>\n",
              "</div>\n",
              "\n",
              "    </div>\n",
              "  </div>\n"
            ],
            "text/plain": [
              "       rating                                             review\n",
              "12152       4  [ثقف, لحا, يوم, نئب, ريف, ـتوفيق, حكم, قرء, لم...\n",
              "29753       1      [كتب, سحق, كتر, ربع, نحم, ريه, ضعف, بنء, سوخ]\n",
              "9586        3  [روي, ؤلم, تحك, قصة, هرب, رجل, عبر, خزن, ماء, ...\n",
              "48087       3  [ذكر, كثيرا،, ذكر, لقص, كانت, شوق, جدا, وقت, ذ...\n",
              "33422       3  [كتب, عرض, علم, شخص, اكن, درك, وقت, كانت, كمل,...\n",
              "49840       5  [بدء, فى, قرء, روي, سطع, ترك, نهي, سلب, ماركيز...\n",
              "26984       5    [اعظ, وصف, ليـ, عدم, وصف, كتـاب, ليم, عبر, كلم]\n",
              "55313       4  [حدث, جود, جرب, وقع, لمع, شخص, عشت, فصل, رحل, ...\n",
              "14987       3  [كتب, جيد, عرض, كتب, يبا, وبو, نظر, تجه, عرب, ...\n",
              "58434       5                          [كتب, قرأ, تحس, صغر, اوى]\n",
              "62439       4      [وئل, كتب, الي, قرئ, ذكر, خطر, همس, انس, حلم]\n",
              "45126       4  [ليم, قدم, ادة, علم, صور, فضل, منالقص, لتك, وج...\n",
              "30028       2  [يمكن, إنس, ان, سمد, سعد, الا, وكن, ان, هدي, ا...\n",
              "60599       4  [كتب, فيد, جد،, نقل, سيط, رحم, اله, كثر, كثر, ...\n",
              "23693       5                                    [رحم, اله, غسن]\n",
              "17871       4  [طبع, ماعنديش, علق, طرق, سرد, نقل, حدث, ،, زمن...\n",
              "30172       4  [سنج, روي, غرب, الي, مالهاش, لمح, وجه, نظر, سن...\n",
              "10902       1  [وقع, عجب, قصة, حرى, نصح, قدم, كتب, غرض, نسي, ...\n",
              "25308       4  [روي, يزة،, لسب, برز, رأي, ربط, حدث, قع،, بغض,...\n",
              "9036        3  [كتب, بسط, جسد, هير, خلق, ثقف, جمع, عرب, حتج, ..."
            ]
          },
          "execution_count": 22,
          "metadata": {},
          "output_type": "execute_result"
        }
      ],
      "source": [
        "# checking the first 20 rows of the dataset\n",
        "\n",
        "dataset.head(20)"
      ]
    },
    {
      "cell_type": "markdown",
      "metadata": {
        "id": "RiSTgcXDrPPE"
      },
      "source": [
        "## Text representation"
      ]
    },
    {
      "cell_type": "code",
      "execution_count": 23,
      "metadata": {
        "id": "ttAZjCsyrPPF"
      },
      "outputs": [],
      "source": [
        "# saving the cleaned dataset\n",
        "\n",
        "dataset.to_csv(\"/content/drive/MyDrive/Parcours Academique/ENSAM/PFA/datasets/LABR/cleaned_reviews.tsv\", sep = '\\t', index=False)"
      ]
    },
    {
      "cell_type": "code",
      "execution_count": 24,
      "metadata": {
        "id": "0HviTChMrPPJ"
      },
      "outputs": [],
      "source": [
        "# loading the cleaned dataset\n",
        "\n",
        "dataset = pd.read_csv(\"/content/drive/MyDrive/Parcours Academique/ENSAM/PFA/datasets/LABR/cleaned_reviews.tsv\", sep = '\\t')"
      ]
    },
    {
      "cell_type": "code",
      "execution_count": 30,
      "metadata": {
        "id": "V8BLOkyurPPL"
      },
      "outputs": [],
      "source": [
        "# bag of words\n",
        "from sklearn.model_selection import train_test_split\n",
        "from sklearn.feature_extraction.text import CountVectorizer\n",
        "\n",
        "X_train , X_test , y_train , y_test = train_test_split(dataset['review'], dataset['rating'], test_size = 0.2, random_state = SEED)"
      ]
    },
    {
      "cell_type": "code",
      "execution_count": 32,
      "metadata": {
        "id": "2o-G__sErPPN"
      },
      "outputs": [],
      "source": [
        "# creating the bag of words model\n",
        "\n",
        "cv = CountVectorizer(max_features=5000)\n",
        "X_train = cv.fit_transform(X_train).toarray()\n",
        "X_test = cv.transform(X_test).toarray()"
      ]
    },
    {
      "cell_type": "markdown",
      "metadata": {
        "id": "4punm8QWrPPu"
      },
      "source": [
        "## Performance evaluation"
      ]
    },
    {
      "cell_type": "code",
      "execution_count": 33,
      "metadata": {
        "colab": {
          "base_uri": "https://localhost:8080/"
        },
        "id": "Ookjl4jMrPPw",
        "outputId": "8a142736-ac6e-4056-9203-e3382b16668c"
      },
      "outputs": [
        {
          "name": "stdout",
          "output_type": "stream",
          "text": [
            "The accuracy of the model is: 0.1288899983358296\n"
          ]
        }
      ],
      "source": [
        "# Naive Bayes\n",
        "\n",
        "from sklearn.naive_bayes import GaussianNB\n",
        "from sklearn.metrics import accuracy_score\n",
        "\n",
        "# training the model\n",
        "gnb = GaussianNB()\n",
        "gnb.fit(X_train, y_train)\n",
        "\n",
        "# making predictions\n",
        "y_pred = gnb.predict(X_test)\n",
        "\n",
        "# calculating the accuracy\n",
        "accuracy = accuracy_score(y_test, y_pred)\n",
        "\n",
        "print(f\"The accuracy of the model is: {accuracy}\")\n"
      ]
    },
    {
      "cell_type": "code",
      "execution_count": null,
      "metadata": {
        "id": "hbw-7IvCrPPx"
      },
      "outputs": [],
      "source": [
        "# logistic regression\n",
        "\n",
        "from sklearn.linear_model import LogisticRegression\n",
        "\n",
        "# training the model\n",
        "lr = LogisticRegression(max_iter=1000)\n",
        "lr.fit(X_train, y_train)\n",
        "\n",
        "# making predictions\n",
        "y_pred = lr.predict(X_test)\n",
        "\n",
        "# calculating the accuracy\n",
        "accuracy = accuracy_score(y_test, y_pred)\n",
        "print(f\"The accuracy of the model is: {accuracy}\")"
      ]
    },
    {
      "cell_type": "code",
      "execution_count": null,
      "metadata": {
        "id": "KjNeKQxqrPPz"
      },
      "outputs": [],
      "source": [
        "# SVM \n",
        "\n",
        "\n",
        "\n",
        "scaler = StandardScaler()\n",
        "svm = SVC()\n",
        "\n",
        "scaled_X_train = scaler.fit_transform(X_train)\n",
        "scaled_X_test = scaler.transform(X_test)\n",
        "\n",
        "componenets = [100, 200, 500]\n",
        "scores = []\n",
        "for n_components in componenets:\n",
        "    pca = PCA(n_components = n_components)\n",
        "    X_train_SVM = pca.fit_transform(scaled_X_train)\n",
        "    X_test_SVM  = pca.transform(scaled_X_test)\n",
        "\n",
        "    svm.fit(X_train_SVM, y_train)\n",
        "    y_pred = svm.predict(X_test_SVM)\n",
        "    accuracy = accuracy_score(y_test, y_pred)\n",
        "    scores.append(accuracy)\n",
        "\n",
        "plt.plot(componenets, scores)\n",
        "plt.xlabel('# of componenets')\n",
        "plt.ylabel('Accuracy')\n",
        "plt.show()"
      ]
    },
    {
      "cell_type": "code",
      "execution_count": null,
      "metadata": {
        "id": "u5G-NdfGrPP0"
      },
      "outputs": [],
      "source": [
        "# Random Forest\n",
        "from sklearn.ensemble import RandomForestClassifier\n",
        "\n",
        "# training the model\n",
        "rf = RandomForestClassifier()\n",
        "rf.fit(X_train, y_train)\n",
        "\n",
        "# making predictions\n",
        "y_pred = rf.predict(X_test)\n",
        "\n",
        "# calculating the accuracy\n",
        "accuracy = accuracy_score(y_test, y_pred)\n",
        "print(f\"The accuracy of the model is: {accuracy}\")"
      ]
    },
    {
      "cell_type": "markdown",
      "metadata": {
        "id": "4SQgS7fcrPP1"
      },
      "source": [
        "## TF-IDF"
      ]
    },
    {
      "cell_type": "code",
      "execution_count": null,
      "metadata": {
        "id": "x9LC5YK6rPP2"
      },
      "outputs": [],
      "source": [
        "# TF-IDF\n",
        "from sklearn.feature_extraction.text import TfidfVectorizer\n",
        "\n",
        "X_train , X_test , y_train , y_test = train_test_split(dataset['review'], dataset['rating'], test_size = 0.2, random_state = SEED)\n",
        "\n",
        "# creating the TF-IDF model \n",
        "\n",
        "vectorizer = TfidfVectorizer()\n",
        "\n",
        "X_train = vectorizer.fit_transform(X_train).toarray()\n",
        "X_test = vectorizer.transform(X_test).toarray()"
      ]
    },
    {
      "cell_type": "markdown",
      "metadata": {},
      "source": [
        "### Performance Evaluation"
      ]
    },
    {
      "cell_type": "code",
      "execution_count": null,
      "metadata": {
        "id": "KgYAxB3urPP4"
      },
      "outputs": [],
      "source": [
        "# logistic regression\n",
        "\n",
        "from sklearn.linear_model import LogisticRegression\n",
        "\n",
        "# training the model\n",
        "lr = LogisticRegression(max_iter=1000)\n",
        "lr.fit(X_train, y_train)\n",
        "\n",
        "# making predictions\n",
        "y_pred = lr.predict(X_test)\n",
        "\n",
        "# calculating the accuracy\n",
        "accuracy = accuracy_score(y_test, y_pred)\n",
        "\n",
        "print(f\"The accuracy of the model is: {accuracy}\")"
      ]
    },
    {
      "cell_type": "code",
      "execution_count": null,
      "metadata": {
        "id": "bKyhjNs8rPP7"
      },
      "outputs": [],
      "source": [
        "# naive bayes\n",
        "from sklearn.naive_bayes import MultinomialNB\n",
        "from sklearn.metrics import accuracy_score\n",
        "\n",
        "# training the model\n",
        "gnb = MultinomialNB()\n",
        "gnb.fit(X_train, y_train)\n",
        "\n",
        "# making predictions\n",
        "y_pred = gnb.predict(X_test)\n",
        "\n",
        "# calculating the accuracy\n",
        "accuracy = accuracy_score(y_test, y_pred)\n",
        "print(f\"The accuracy of the model is: {accuracy}\")"
      ]
    },
    {
      "cell_type": "code",
      "execution_count": null,
      "metadata": {},
      "outputs": [],
      "source": [
        "# SVM \n",
        "scaler = StandardScaler()\n",
        "pca = PCA(n_components = 200)\n",
        "svm = SVC()\n",
        "\n",
        "X_train_SVM = pca.fit_transform(scaler.fit_transform(X_train.copy()))\n",
        "X_test_SVM = pca.transform(scaler.transform(X_test.copy()))\n",
        "\n",
        "y_train_SVM = y_train\n",
        "y_test_SVM = y_test\n",
        "\n",
        "svm.fit(X_train_SVM, y_train_SVM)\n",
        "y_pred = svm.predict(X_test_SVM)\n",
        "accuracy = accuracy_score(y_test_SVM, y_pred)\n",
        "print(f\"Accuracy: {accuracy * 100:.2f}%\")"
      ]
    },
    {
      "cell_type": "code",
      "execution_count": null,
      "metadata": {},
      "outputs": [],
      "source": [
        "# Random Forest \n",
        "\n",
        "rf = RandomForestClassifier()\n",
        "\n",
        "rf.fit(X_train, y_train)\n",
        "y_pred = rf.predict(X_test)\n",
        "accuracy = accuracy_score(y_test, y_pred)\n",
        "print(f\"Random Forest accuracy: {accuracy * 100:.2f}%\")"
      ]
    },
    {
      "cell_type": "markdown",
      "metadata": {},
      "source": [
        "## LDA"
      ]
    },
    {
      "cell_type": "code",
      "execution_count": null,
      "metadata": {},
      "outputs": [],
      "source": [
        "# LDA \n",
        "X_train, X_test, y_train, y_test = train_test_split(data[\"review\"], data[\"rating\"], test_size = 0.2, random_state = SEED, stratify = data[\"rating\"])\n",
        "\n",
        "vectorizer = CountVectorizer()\n",
        "\n",
        "X_train = vectorizer.fit_transform(X_train).toarray()\n",
        "X_test = vectorizer.transform(X_test).toarray()\n",
        "\n",
        "lda = LatentDirichletAllocation(n_components = 170, random_state = SEED)\n",
        "lda.fit(X_train)\n",
        "X_train = lda.transform(X_train)\n",
        "X_test = lda.transform(X_test)"
      ]
    },
    {
      "cell_type": "markdown",
      "metadata": {},
      "source": [
        "## LSA"
      ]
    },
    {
      "cell_type": "code",
      "execution_count": null,
      "metadata": {},
      "outputs": [],
      "source": [
        "lsa = TruncatedSVD(n_components = 10, random_state = SEED)\n",
        "X_train_lsa = lsa.fit_transform(X_train)\n",
        "X_test_lsa = lsa.transform(X_test)\n",
        "model = LogisticRegression(max_iter = 1000)\n",
        "model.fit(X_train_lsa, y_train)\n",
        "y_pred = model.predict(X_test_lsa)\n",
        "accuracy = accuracy_score(y_test, y_pred)\n",
        "print(f\"Accuracy: {accuracy * 100:.2f}%\")"
      ]
    },
    {
      "cell_type": "markdown",
      "metadata": {},
      "source": [
        "## Bag of Concepts"
      ]
    },
    {
      "cell_type": "markdown",
      "metadata": {},
      "source": [
        "## Word Embeddings"
      ]
    },
    {
      "cell_type": "code",
      "execution_count": null,
      "metadata": {},
      "outputs": [],
      "source": [
        "model = gensim.models.Word2Vec.load(\"./aravec/tweets_cbow_300\")\n",
        "word_vecs = {}\n",
        "for tweet in data[\"tweet\"]:\n",
        "    for word in tweet.split(\" \"):\n",
        "        try:\n",
        "            word_vecs[word] = model.wv[word]\n",
        "        except Exception:\n",
        "            pass"
      ]
    },
    {
      "cell_type": "markdown",
      "metadata": {},
      "source": [
        "## Clustering the words embeddings\n"
      ]
    },
    {
      "cell_type": "code",
      "execution_count": null,
      "metadata": {},
      "outputs": [],
      "source": [
        "NUM_CONCEPTS = 80\n",
        "\n",
        "model = KMeans(n_clusters = NUM_CONCEPTS)\n",
        "X = list(word_vecs.values())\n",
        "model.fit(X)\n",
        "concepts = model.predict(X)"
      ]
    },
    {
      "cell_type": "markdown",
      "metadata": {},
      "source": [
        "## Concept Extraction"
      ]
    },
    {
      "cell_type": "code",
      "execution_count": null,
      "metadata": {},
      "outputs": [],
      "source": [
        "NUM_DOCS = data.shape[0]\n",
        "\n",
        "# construct a word to concept mapping\n",
        "word_concept = {}\n",
        "for index, word in enumerate(word_vecs.keys()):\n",
        "    word_concept[word] = concepts[index]\n",
        "print(word_concept)"
      ]
    },
    {
      "cell_type": "code",
      "execution_count": null,
      "metadata": {},
      "outputs": [],
      "source": [
        "# construct a concept to document count mapping\n",
        "concept_docs = defaultdict(int)\n",
        "for doc in data[\"tweet\"]:\n",
        "    doc_concepts = set()\n",
        "    for word in doc.split(\" \"):\n",
        "        try:\n",
        "            doc_concepts.add(word_concept[word])\n",
        "        except Exception:\n",
        "            pass\n",
        "    for concept in doc_concepts:\n",
        "        concept_docs[concept] += 1\n",
        "print(concept_docs)"
      ]
    },
    {
      "cell_type": "code",
      "execution_count": null,
      "metadata": {},
      "outputs": [],
      "source": [
        "def cf_idf(document: str):\n",
        "    \"\"\" Returns the CD-IDF representataion of a document \"\"\"\n",
        "    res = [0 for _ in range(NUM_CONCEPTS)]\n",
        "    concepts_counts = defaultdict(int)\n",
        "    for word in document.split(\" \"):\n",
        "        try:\n",
        "            concepts_counts[word_concept[word]] += 1\n",
        "        except:\n",
        "            pass\n",
        "    n_k = sum(concepts_counts.values()) # number of concepts present in the document (duplicates are considered!)\n",
        "    for concept in range(NUM_CONCEPTS):\n",
        "        if concepts_counts[concept] != 0:\n",
        "            res[concept] = (concepts_counts[concept] / n_k) * log(NUM_DOCS / (1 + concept_docs[concept]))\n",
        "    return res"
      ]
    },
    {
      "cell_type": "code",
      "execution_count": null,
      "metadata": {},
      "outputs": [],
      "source": [
        "X = [cf_idf(tweet) for tweet in data[\"tweet\"]]\n",
        "y = data[\"class\"]\n",
        "\n",
        "X_train, X_test, y_train, y_test = train_test_split(X, y, test_size = .2, random_state = SEED, stratify = y)"
      ]
    },
    {
      "cell_type": "markdown",
      "metadata": {},
      "source": [
        "### Performance Evaluation"
      ]
    },
    {
      "cell_type": "code",
      "execution_count": null,
      "metadata": {},
      "outputs": [],
      "source": [
        "# Naive Bayes\n",
        "\n",
        "model = GaussianNB()\n",
        "\n",
        "model.fit(X_train, y_train)\n",
        "y_pred = model.predict(X_test)\n",
        "accuracy = accuracy_score(y_test, y_pred)\n",
        "print(f\"Accuracy: {accuracy * 100:.2f}%\")"
      ]
    },
    {
      "cell_type": "code",
      "execution_count": null,
      "metadata": {},
      "outputs": [],
      "source": [
        "# Logistic Regression\n",
        "\n",
        "model = LogisticRegression(max_iter = 1000)\n",
        "model.fit(X_train, y_train)\n",
        "y_pred = model.predict(X_test)\n",
        "accuracy = accuracy_score(y_test, y_pred)\n",
        "print(f\"Accuracy: {accuracy * 100:.2f}%\")"
      ]
    },
    {
      "cell_type": "code",
      "execution_count": null,
      "metadata": {},
      "outputs": [],
      "source": [
        "# SVM \n",
        "model = SVC()\n",
        "model.fit(X_train, y_train)\n",
        "y_pred = model.predict(X_test)\n",
        "accuracy = accuracy_score(y_test, y_pred)\n",
        "print(f\"Accuracy: {accuracy * 100:.2f}%\")"
      ]
    },
    {
      "cell_type": "code",
      "execution_count": null,
      "metadata": {},
      "outputs": [],
      "source": []
    }
  ],
  "metadata": {
    "colab": {
      "provenance": []
    },
    "kernelspec": {
      "display_name": "Python 3",
      "name": "python3"
    },
    "language_info": {
      "name": "python"
    }
  },
  "nbformat": 4,
  "nbformat_minor": 0
}
