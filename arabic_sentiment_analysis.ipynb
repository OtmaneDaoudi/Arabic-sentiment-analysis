{
  "cells": [
    {
      "attachments": {},
      "cell_type": "markdown",
      "metadata": {
        "colab_type": "text",
        "id": "view-in-github"
      },
      "source": [
        "<a href=\"https://colab.research.google.com/github/OtmaneDaoudi/Arabic-sentiment-analysis/blob/main/arabic_sentiment_analysis.ipynb\" target=\"_parent\"><img src=\"https://colab.research.google.com/assets/colab-badge.svg\" alt=\"Open In Colab\"/></a>"
      ]
    },
    {
      "attachments": {},
      "cell_type": "markdown",
      "metadata": {
        "id": "YCMH2OjBGA8u"
      },
      "source": [
        "# Installing dependencies"
      ]
    },
    {
      "cell_type": "code",
      "execution_count": null,
      "metadata": {
        "colab": {
          "base_uri": "https://localhost:8080/"
        },
        "id": "6BqPG4jsGF8m",
        "outputId": "71519abe-6ccb-4059-c163-edb45164bcbe"
      },
      "outputs": [],
      "source": [
        "# !pip install emoji\n",
        "# !pip install Arabic-Stopwords\n",
        "# !pip install seaborn\n",
        "# !pip install matplotlib\n",
        "# !pip install soyclustering"
      ]
    },
    {
      "attachments": {},
      "cell_type": "markdown",
      "metadata": {
        "id": "KUh0GecqEErv"
      },
      "source": [
        "# Libs imports"
      ]
    },
    {
      "cell_type": "code",
      "execution_count": 1,
      "metadata": {
        "id": "sQdYY3KPEEsC"
      },
      "outputs": [
        {
          "name": "stderr",
          "output_type": "stream",
          "text": [
            "[nltk_data] Downloading package stopwords to\n",
            "[nltk_data]     C:\\Users\\asus\\AppData\\Roaming\\nltk_data...\n",
            "[nltk_data]   Package stopwords is already up-to-date!\n"
          ]
        }
      ],
      "source": [
        "import pandas as pd\n",
        "import re\n",
        "import nltk\n",
        "import matplotlib.pyplot as plt\n",
        "import gensim\n",
        "import emoji\n",
        "import arabicstopwords.arabicstopwords as stp\n",
        "import tqdm\n",
        "import os\n",
        "\n",
        "from nltk.corpus import stopwords\n",
        "from nltk.stem.isri import ISRIStemmer\n",
        "from collections import defaultdict\n",
        "from math import log\n",
        "\n",
        "from farasa.stemmer import FarasaStemmer\n",
        "from nltk.tokenize import TweetTokenizer\n",
        "\n",
        "from sklearn.model_selection import train_test_split\n",
        "from sklearn.cluster import KMeans\n",
        "from sklearn.decomposition import TruncatedSVD, LatentDirichletAllocation, PCA\n",
        "from sklearn.linear_model import LogisticRegression\n",
        "from sklearn.feature_extraction.text import TfidfVectorizer, CountVectorizer\n",
        "from sklearn.ensemble import RandomForestClassifier\n",
        "from sklearn.svm import SVC\n",
        "from sklearn.preprocessing import StandardScaler\n",
        "from sklearn.naive_bayes import GaussianNB\n",
        "from sklearn.metrics import accuracy_score, precision_recall_fscore_support\n",
        "\n",
        "nltk.download('stopwords')\n",
        "\n",
        "SEED = 21"
      ]
    },
    {
      "attachments": {},
      "cell_type": "markdown",
      "metadata": {},
      "source": [
        "# Importing data"
      ]
    },
    {
      "cell_type": "code",
      "execution_count": 2,
      "metadata": {
        "colab": {
          "base_uri": "https://localhost:8080/",
          "height": 676
        },
        "id": "MvI6l3cnEEsH",
        "outputId": "840f53a3-1120-4709-a395-10f90977c0a9"
      },
      "outputs": [
        {
          "data": {
            "text/html": [
              "<div>\n",
              "<style scoped>\n",
              "    .dataframe tbody tr th:only-of-type {\n",
              "        vertical-align: middle;\n",
              "    }\n",
              "\n",
              "    .dataframe tbody tr th {\n",
              "        vertical-align: top;\n",
              "    }\n",
              "\n",
              "    .dataframe thead th {\n",
              "        text-align: right;\n",
              "    }\n",
              "</style>\n",
              "<table border=\"1\" class=\"dataframe\">\n",
              "  <thead>\n",
              "    <tr style=\"text-align: right;\">\n",
              "      <th></th>\n",
              "      <th>tweet</th>\n",
              "      <th>class</th>\n",
              "    </tr>\n",
              "  </thead>\n",
              "  <tbody>\n",
              "    <tr>\n",
              "      <th>2</th>\n",
              "      <td>أراد فساد بتحكوا انو اساس حلو سرقة</td>\n",
              "      <td>Negative</td>\n",
              "    </tr>\n",
              "    <tr>\n",
              "      <th>3</th>\n",
              "      <td>رائع أكرم</td>\n",
              "      <td>Positive</td>\n",
              "    </tr>\n",
              "    <tr>\n",
              "      <th>4</th>\n",
              "      <td>لسان قذر قمام</td>\n",
              "      <td>Negative</td>\n",
              "    </tr>\n",
              "    <tr>\n",
              "      <th>5</th>\n",
              "      <td>داشر منزل انكب متزوج أحب اجيد مخدر مشبوه تسليك...</td>\n",
              "      <td>Negative</td>\n",
              "    </tr>\n",
              "    <tr>\n",
              "      <th>6</th>\n",
              "      <td>تحسن ابشر اله قريب</td>\n",
              "      <td>Positive</td>\n",
              "    </tr>\n",
              "    <tr>\n",
              "      <th>7</th>\n",
              "      <td>غباء عود بيت راعي ماوزنه شاب</td>\n",
              "      <td>Negative</td>\n",
              "    </tr>\n",
              "    <tr>\n",
              "      <th>8</th>\n",
              "      <td>قطع عود معيتق سلام أوتار</td>\n",
              "      <td>Negative</td>\n",
              "    </tr>\n",
              "    <tr>\n",
              "      <th>9</th>\n",
              "      <td>اله صلى راحم رحم قران مؤمن يشركونك دافع شفع نب...</td>\n",
              "      <td>Positive</td>\n",
              "    </tr>\n",
              "    <tr>\n",
              "      <th>10</th>\n",
              "      <td>هوي خشي</td>\n",
              "      <td>Positive</td>\n",
              "    </tr>\n",
              "    <tr>\n",
              "      <th>11</th>\n",
              "      <td>اتعلق لان مقرف تعليق أتصور أحسن</td>\n",
              "      <td>Negative</td>\n",
              "    </tr>\n",
              "    <tr>\n",
              "      <th>12</th>\n",
              "      <td>اتفه عالمي برنامج</td>\n",
              "      <td>Negative</td>\n",
              "    </tr>\n",
              "    <tr>\n",
              "      <th>13</th>\n",
              "      <td>اله أسعار رفع اتقى راتب حضيض</td>\n",
              "      <td>Negative</td>\n",
              "    </tr>\n",
              "    <tr>\n",
              "      <th>14</th>\n",
              "      <td>حواء خرفنه اجتماع أكيد</td>\n",
              "      <td>Negative</td>\n",
              "    </tr>\n",
              "    <tr>\n",
              "      <th>15</th>\n",
              "      <td>واضح أخير خام انو والا معو وتمثيلو</td>\n",
              "      <td>Negative</td>\n",
              "    </tr>\n",
              "    <tr>\n",
              "      <th>16</th>\n",
              "      <td>اله أحب تعالى كريم رسول</td>\n",
              "      <td>Positive</td>\n",
              "    </tr>\n",
              "    <tr>\n",
              "      <th>17</th>\n",
              "      <td>بايخ شارك احتمال</td>\n",
              "      <td>Negative</td>\n",
              "    </tr>\n",
              "    <tr>\n",
              "      <th>18</th>\n",
              "      <td>احذف جلس اني اكفر احش</td>\n",
              "      <td>Negative</td>\n",
              "    </tr>\n",
              "    <tr>\n",
              "      <th>19</th>\n",
              "      <td>حشيش احس أفطر</td>\n",
              "      <td>Negative</td>\n",
              "    </tr>\n",
              "    <tr>\n",
              "      <th>20</th>\n",
              "      <td>بال أظن أحسن</td>\n",
              "      <td>Positive</td>\n",
              "    </tr>\n",
              "    <tr>\n",
              "      <th>21</th>\n",
              "      <td>شيء عمل استمرار أدى أحسن</td>\n",
              "      <td>Positive</td>\n",
              "    </tr>\n",
              "  </tbody>\n",
              "</table>\n",
              "</div>"
            ],
            "text/plain": [
              "                                                tweet     class\n",
              "2                  أراد فساد بتحكوا انو اساس حلو سرقة  Negative\n",
              "3                                           رائع أكرم  Positive\n",
              "4                                       لسان قذر قمام  Negative\n",
              "5   داشر منزل انكب متزوج أحب اجيد مخدر مشبوه تسليك...  Negative\n",
              "6                                  تحسن ابشر اله قريب  Positive\n",
              "7                        غباء عود بيت راعي ماوزنه شاب  Negative\n",
              "8                            قطع عود معيتق سلام أوتار  Negative\n",
              "9   اله صلى راحم رحم قران مؤمن يشركونك دافع شفع نب...  Positive\n",
              "10                                            هوي خشي  Positive\n",
              "11                    اتعلق لان مقرف تعليق أتصور أحسن  Negative\n",
              "12                                  اتفه عالمي برنامج  Negative\n",
              "13                       اله أسعار رفع اتقى راتب حضيض  Negative\n",
              "14                             حواء خرفنه اجتماع أكيد  Negative\n",
              "15                 واضح أخير خام انو والا معو وتمثيلو  Negative\n",
              "16                            اله أحب تعالى كريم رسول  Positive\n",
              "17                                   بايخ شارك احتمال  Negative\n",
              "18                              احذف جلس اني اكفر احش  Negative\n",
              "19                                      حشيش احس أفطر  Negative\n",
              "20                                       بال أظن أحسن  Positive\n",
              "21                           شيء عمل استمرار أدى أحسن  Positive"
            ]
          },
          "execution_count": 2,
          "metadata": {},
          "output_type": "execute_result"
        }
      ],
      "source": [
        "if not os.path.exists(\"preprocessed_data.xlsx\"):\n",
        "    data = pd.read_excel(\"datasets/AJGT/AJGT.xlsx\", header = 0, names = [\"tweet\", \"class\"])\n",
        "else:\n",
        "    data = pd.read_excel(\"preprocessed_data.xlsx\", header = 0, names = [\"tweet\", \"class\"])\n",
        "data.head(20)"
      ]
    },
    {
      "cell_type": "code",
      "execution_count": 3,
      "metadata": {
        "id": "fqggWownEEsK",
        "outputId": "e8a398e4-bfd2-44cf-b85f-2ea0ab850aa8"
      },
      "outputs": [
        {
          "name": "stdout",
          "output_type": "stream",
          "text": [
            "<class 'pandas.core.frame.DataFrame'>\n",
            "Index: 1785 entries, 2 to 1800\n",
            "Data columns (total 2 columns):\n",
            " #   Column  Non-Null Count  Dtype \n",
            "---  ------  --------------  ----- \n",
            " 0   tweet   1785 non-null   object\n",
            " 1   class   1785 non-null   object\n",
            "dtypes: object(2)\n",
            "memory usage: 41.8+ KB\n"
          ]
        }
      ],
      "source": [
        "data.info()"
      ]
    },
    {
      "attachments": {},
      "cell_type": "markdown",
      "metadata": {
        "id": "GIECLLDlEEsM"
      },
      "source": [
        "# Data preprocessing"
      ]
    },
    {
      "attachments": {},
      "cell_type": "markdown",
      "metadata": {
        "id": "NDtOpDzdEEsP"
      },
      "source": [
        "Our preprocessing pipeline contains the following steps:\n",
        "\n",
        "1.  Remove duplicat entries\n",
        "2.  Replacing emojies & emoticons\n",
        "3.  Remove mentions\n",
        "4.  Remove Links\n",
        "5.  Remove whitespaces\n",
        "6.  Remove punctuations & Special chars\n",
        "7.  Remove Consecutive characters\n",
        "8.  Tokenization\n",
        "9.  Remove foreign words\n",
        "10. Remove stop words\n",
        "11. Remove numbers\n",
        "12. Stemming\n"
      ]
    },
    {
      "attachments": {},
      "cell_type": "markdown",
      "metadata": {
        "id": "zolKP03vEEsT"
      },
      "source": [
        "## Removing duplicates"
      ]
    },
    {
      "cell_type": "code",
      "execution_count": null,
      "metadata": {
        "colab": {
          "base_uri": "https://localhost:8080/"
        },
        "id": "SeMI9vGpEEsW",
        "outputId": "e2fb0124-2a17-4db2-c06f-52d48a0b7000"
      },
      "outputs": [],
      "source": [
        "count = data.duplicated().sum()\n",
        "print(f\"{(count / data.shape[0]) * 100:.1f}% of the data are duplicats\")"
      ]
    },
    {
      "cell_type": "code",
      "execution_count": null,
      "metadata": {
        "id": "Ahlc7NfGEEsY"
      },
      "outputs": [],
      "source": [
        "if not os.path.exists(\"preprocessed_data.xlsx\"):\n",
        "    data.drop_duplicates(inplace = True)"
      ]
    },
    {
      "attachments": {},
      "cell_type": "markdown",
      "metadata": {
        "id": "Jv54Q2aKEEsZ"
      },
      "source": [
        "## Replacing emojies"
      ]
    },
    {
      "cell_type": "code",
      "execution_count": null,
      "metadata": {
        "id": "75Dy9RLbEEsa"
      },
      "outputs": [],
      "source": [
        "emojis = {\n",
        "    \"🙂\":\"يبتسم\",\n",
        "    \"😂\":\"يضحك\",\n",
        "    \"🤣\" : \"يضحك\",\n",
        "    \"💔\":\"قلب حزين\",\n",
        "    \"🙂\":\"يبتسم\",\n",
        "    \"❤️\":\"حب\",\n",
        "    \"🥰\":\"حب\",\n",
        "    \"🤐\":\"سكوت\",\n",
        "    \"🧡\":\"حب\",\n",
        "    \"❤\":\"حب\",\n",
        "    \"😍\":\"حب\",\n",
        "    \"😭\":\"يبكي\",\n",
        "    \"🤭\":\"يبتسم\",\n",
        "    \"😢\":\"حزن\",\n",
        "    \"😔\":\"حزن\",\n",
        "    \"♥\":\"حب\",\n",
        "    \"💜\":\"حب\",\n",
        "    \"😅\":\"يضحك\",\n",
        "    \"🙁\":\"حزين\",\n",
        "    \"💕\":\"حب\",\n",
        "    \"💙\":\"حب\",\n",
        "    \"😞\":\"حزين\",\n",
        "    \"😊\":\"سعادة\",\n",
        "    \"👏\":\"يصفق\",\n",
        "    \"👌\":\"احسنت\",\n",
        "    \"😴\":\"ينام\",\n",
        "    \"😀\":\"يضحك\",\n",
        "    \"✅\":\"صحيح\",\n",
        "    \"🤪\":\"يضحك\",\n",
        "    \"🏡\" : \"بيت\",\n",
        "    \"🤲\" : \"دعاء\",\n",
        "    \"💰\" : \"مال\",\n",
        "    \"😌\":\"حزين\",\n",
        "    \"🎁\":\"هدية\",\n",
        "    \"🌹\":\"وردة\",\n",
        "    \"🥀\":\"وردة\",\n",
        "    \"📿\":\"وردة\",\n",
        "    \"✍\":\"كتابة\",\n",
        "    \"🙈\":\"حب\",\n",
        "    \"😄\":\"يضحك\",\n",
        "    \"😐\":\"محايد\",\n",
        "    \"✌\":\"منتصر\",\n",
        "    \"✨\":\"نجمه\",\n",
        "    \"🤔\":\"تفكير\",\n",
        "    \"😏\":\"يستهزء\",\n",
        "    \"😒\":\"يستهزء\",\n",
        "    \"🙄\":\"ملل\",\n",
        "    \"😕\":\"عصبية\",\n",
        "    \"😃\":\"يضحك\",\n",
        "    \"🌸\":\"وردة\",\n",
        "    \"😓\":\"حزن\",\n",
        "    \"💞\":\"حب\",\n",
        "    \"💗\":\"حب\",\n",
        "    \"😑\":\"منزعج\",\n",
        "    \"💭\":\"تفكير\",\n",
        "    \"😎\":\"ثقة\",\n",
        "    \"💛\":\"حب\",\n",
        "    \"😩\":\"حزين\",\n",
        "    \"🥺\":\"حزين\",\n",
        "    \"💪\":\"عضلات\",\n",
        "    \"👍\":\"موافق\",\n",
        "    \"🙏🏻\":\"رجاء طلب\",\n",
        "    \"😳\":\"مصدوم\",\n",
        "    \"👏🏼\":\"تصفيق\",\n",
        "    \"🎶\":\"موسيقي\",\n",
        "    \"🌚\":\"صمت\",\n",
        "    \"💚\":\"حب\",\n",
        "    \"🙏\":\"رجاء طلب\",\n",
        "    \"💘\":\"حب\",\n",
        "    \"🍃\":\"سلام\",\n",
        "    \"☺\":\"يضحك\",\n",
        "    \"🎊\":\"يهنئ\",\n",
        "    \"💥\":\"إنفجار\",\n",
        "    \"😝\":\"يسخر\",\n",
        "    \"💯\":\"تمام\",\n",
        "    \"🐸\":\"ضفدع\",\n",
        "    \"🤦‍♂️\":\"غبي\",\n",
        "    \"🤩\":\"معجب\",\n",
        "    \"🤤\":\"جائع\",\n",
        "    \"😶\":\"مصدوم\",\n",
        "    \"✌️\":\"مرح\",\n",
        "    \"✋🏻\":\"توقف\",\n",
        "    \"😉\":\"غمزة\",\n",
        "    \"🌷\":\"حب\",\n",
        "    \"🙃\":\"مبتسم\",\n",
        "    \"😫\":\"حزين\",\n",
        "    \"😨\":\"مصدوم\",\n",
        "    \"🎼 \":\"موسيقي\",\n",
        "    \"🍁\":\"مرح\",\n",
        "    \"🍂\":\"مرح\",\n",
        "    \"💟\":\"حب\",\n",
        "    \"😪\":\"حزن\",\n",
        "    \"😆\":\"يضحك\",\n",
        "    \"😣\":\"استياء\",\n",
        "    \"☺️\":\"حب\",\n",
        "    \"😱\":\"كارثة\",\n",
        "    \"😁\":\"يضحك\",\n",
        "    \"😖\":\"استياء\",\n",
        "    \"🏃🏼\":\"يجري\",\n",
        "    \"😡\":\"غضب\",\n",
        "    \"🚶\":\"يسير\",\n",
        "    \"🤕\":\"مرض\",\n",
        "    \"🤮\" : \"يتقيئ\",\n",
        "    \"⛔\": \"حذر\",\n",
        "    \"‼️\":\"تعجب\",\n",
        "    \"🕊\":\"طائر\",\n",
        "    \"👌🏻\":\"احسنت\",\n",
        "    \"❣\":\"حب\",\n",
        "    \"🙊\":\"مصدوم\",\n",
        "    \"💃\":\"سعادة مرح\",\n",
        "    \"💃🏼\":\"سعادة مرح\",\n",
        "    \"😜\":\"مرح\",\n",
        "    \"👊\":\"ضربة\",\n",
        "    \"😟\":\"استياء\",\n",
        "    \"💖\":\"حب\",\n",
        "    \"😥\":\"حزن\",\n",
        "    \"🎻\":\"موسيقي\",\n",
        "    \"✒\":\"يكتب\",\n",
        "    \"🚶🏻\":\"يسير\",\n",
        "    \"💎\":\"الماظ\",\n",
        "    \"😷\":\"وباء مرض\",\n",
        "    \"☝\":\"واحد\",\n",
        "    \"🚬\":\"تدخين\",\n",
        "    \"💐\" : \"ورد\",\n",
        "    \"🌻\" : \"ورد\",\n",
        "    \"🌞\" : \"شمس\",\n",
        "    \"👆\" : \"الاول\",\n",
        "    \"⚠️\" :\"تحذير\",\n",
        "    \"🤗\" : \"احتواء\",\n",
        "    \"✖️\": \"غلط\",\n",
        "    \"📍\"  : \"مكان\",\n",
        "    \"👸\" : \"ملكه\",\n",
        "    \"👑\" : \"تاج\",\n",
        "    \"✔️\" : \"صح\",\n",
        "    \"💌\": \"قلب\",\n",
        "    \"😲\" : \"مندهش\",\n",
        "    \"💦\": \"ماء\",\n",
        "    \"🚫\" : \"خطا\",\n",
        "    \"👏🏻\" : \"برافو\",\n",
        "    \"🏊\" :\"يسبح\",\n",
        "    \"👍🏻\": \"تمام\",\n",
        "    \"⭕️\" :\"دائره كبيره\",\n",
        "    \"🎷\" : \"ساكسفون\",\n",
        "    \"👋\": \"تلويح باليد\",\n",
        "    \"✌🏼\": \"علامه النصر\",\n",
        "    \"🌝\":\"مبتسم\",\n",
        "    \"➿\"  : \"عقده مزدوجه\",\n",
        "    \"💪🏼\" : \"قوي\",\n",
        "    \"📩\":  \"تواصل معي\",\n",
        "    \"☕️\": \"قهوه\",\n",
        "    \"😧\" : \"قلق و صدمة\",\n",
        "    \"🗨\": \"رسالة\",\n",
        "    \"❗️\" :\"تعجب\",\n",
        "    \"🙆🏻\": \"اشاره موافقه\",\n",
        "    \"👯\" :\"اخوات\",\n",
        "    \"©\" :  \"رمز\",\n",
        "    \"👵🏽\" :\"سيده عجوزه\",\n",
        "    \"🐣\": \"كتكوت\",\n",
        "    \"🙌\": \"تشجيع\",\n",
        "    \"🙇\": \"شخص ينحني\",\n",
        "    \"👐🏽\":\"ايدي مفتوحه\",\n",
        "    \"👌🏽\": \"بالظبط\",\n",
        "    \"⁉️\" : \"استنكار\",\n",
        "    \"⚽️\": \"كوره\",\n",
        "    \"🕶\" :\"حب\",\n",
        "    \"🎈\" :\"بالون\",\n",
        "    \"🎀\":    \"ورده\",\n",
        "    \"💵\":  \"فلوس\",\n",
        "    \"😋\":  \"جائع\",\n",
        "    \"😛\":  \"يغيظ\",\n",
        "    \"😠\":  \"غاضب\",\n",
        "    \"✍🏻\":  \"يكتب\",\n",
        "    \"🌾\":  \"ارز\",\n",
        "    \"👣\":  \"اثر قدمين\",\n",
        "    \"❌\":\"رفض\",\n",
        "    \"🍟\":\"طعام\",\n",
        "    \"👬\":\"صداقة\",\n",
        "    \"🐰\":\"ارنب\",\n",
        "    \"🦋\" : \"فراشة\",\n",
        "    \"☂\":\"مطر\",\n",
        "    \"⚜\":\"مملكة فرنسا\",\n",
        "    \"🐑\":\"خروف\",\n",
        "    \"🗣\":\"صوت مرتفع\",\n",
        "    \"👌🏼\":\"احسنت\",\n",
        "    \"☘\":\"مرح\",\n",
        "    \"😮\":\"صدمة\",\n",
        "    \"😦\":\"قلق\",\n",
        "    \"⭕\":\"الحق\",\n",
        "    \"✏️\":\"قلم\",\n",
        "    \"ℹ\":\"معلومات\",\n",
        "    \"🙍🏻\":\"رفض\",\n",
        "    \"⚪️\":\"نضارة نقاء\",\n",
        "    \"🐤\":\"حزن\",\n",
        "    \"💫\":\"مرح\",\n",
        "    \"💝\":\"حب\",\n",
        "    \"🍔\":\"طعام\",\n",
        "    \"❤︎\":\"حب\",\n",
        "    \"✈️\":\"سفر\",\n",
        "    \"🏃🏻‍♀️\":\"يسير\",\n",
        "    \"🍳\":\"ذكر\",\n",
        "    \"🎤\":\"مايك غناء\",\n",
        "    \"🎾\":\"كره\",\n",
        "    \"🐔\":\"دجاجة\",\n",
        "    \"🙋\":\"سؤال\",\n",
        "    \"📮\":\"بحر\",\n",
        "    \"💉\":\"دواء\",\n",
        "    \"🙏🏼\":\"رجاء طلب\",\n",
        "    \"💂🏿 \":\"حارس\",\n",
        "    \"🎬\":\"سينما\",\n",
        "    \"♦️\":\"مرح\",\n",
        "    \"💡\":\"قكرة\",\n",
        "    \"‼\":\"تعجب\",\n",
        "    \"👼\":\"طفل\",\n",
        "    \"🔑\":\"مفتاح\",\n",
        "    \"♥️\":\"حب\",\n",
        "    \"🌲\" : \"شجرة\",\n",
        "    \"🌳\" : \"شجرة\",\n",
        "    \"🚩\" : \"حذر\",\n",
        "    \"🚨\" : \"حذر\",\n",
        "    \"🛑\" : \"حذر\",\n",
        "    \"🕋\":\"كعبة\",\n",
        "    \"🐓\":\"دجاجة\",\n",
        "    \"💩\":\"معترض\",\n",
        "    \"👽\":\"فضائي\",\n",
        "    \"☔️\":\"مطر\",\n",
        "    \"🍷\":\"عصير\",\n",
        "    \"🌟\":\"نجمة\",\n",
        "    \"☁️\":\"سحب\",\n",
        "    \"👃\":\"معترض\",\n",
        "    \"🌺\":\"مرح\",\n",
        "    \"🔪\":\"سكينة\",\n",
        "    \"♨\":\"سخونية\",\n",
        "    \"👊🏼\":\"ضرب\",\n",
        "    \"✏\":\"قلم\",\n",
        "    \"🚶🏾‍♀️\":\"يسير\",\n",
        "    \"👊\":\"ضربة\",\n",
        "    \"◾️\":\"وقف\",\n",
        "    \"😚\":\"حب\",\n",
        "    \"🔸\":\"مرح\",\n",
        "    \"👎🏻\":\"لا يعجبني\",\n",
        "    \"👊🏽\":\"ضربة\",\n",
        "    \"😙\":\"حب\",\n",
        "    \"🎥\":\"تصوير\",\n",
        "    \"👉\":\"جذب انتباه\",\n",
        "    \"👏🏽\":\"يصفق\",\n",
        "    \"💪🏻\":\"عضلات\",\n",
        "    \"🏴\":\"اسود\",\n",
        "    \"🔥\":\"حريق\",\n",
        "    \"😬\":\"عدم الراحة\",\n",
        "    \"👊🏿\":\"يضرب\",\n",
        "    \"📚\" : \"كتب\",\n",
        "    \"📌\" : \"علق\",\n",
        "    \"🌿\":\"ورقه شجره\",\n",
        "    \"✋🏼\":\"كف ايد\",\n",
        "    \"👐\":\"ايدي مفتوحه\",\n",
        "    \"☠️\":\"وجه مرعب\",\n",
        "    \"🎉\":\"يهنئ\",\n",
        "    \"🔕\" :\"صامت\",\n",
        "    \"😿\":\"وجه حزين\",\n",
        "    \"☹️\":\"وجه يائس\",\n",
        "    \"😘\" :\"حب\",\n",
        "    \"😰\" :\"خوف و حزن\",\n",
        "    \"🌼\":\"ورده\",\n",
        "    \"💋\": \"بوسه\",\n",
        "    \"👇\":\"لاسفل\",\n",
        "    \"❣️\":\"حب\",\n",
        "    \"🎧\":\"سماعات\",\n",
        "    \"📝\":\"يكتب\",\n",
        "    \"😇\":\"دايخ\",\n",
        "    \"😈\":\"رعب\",\n",
        "    \"🏃\":\"يجري\",\n",
        "    \"✌🏻\":\"علامه النصر\",\n",
        "    \"🔫\":\"يضرب\",\n",
        "    \"❗️\":\"تعجب\",\n",
        "    \"👎\":\"غير موافق\",\n",
        "    \"🔐\":\"قفل\",\n",
        "    \"👈\":\"لليمين\",\n",
        "    \"™\":\"رمز\",\n",
        "    \"🚶🏽\":\"يتمشي\",\n",
        "    \"😯\":\"متفاجأ\",\n",
        "    \"✊\":\"يد مغلقه\",\n",
        "    \"😻\":\"اعجاب\",\n",
        "    \"🙉\" :\"قرد\",\n",
        "    \"👧\":\"طفله صغيره\",\n",
        "    \"🔴\":\"دائره حمراء\",\n",
        "    \"💪🏽\":\"قوه\",\n",
        "    \"💤\":\"ينام\",\n",
        "    \"👀\":\"ينظر\",\n",
        "    \"✍🏻\":\"يكتب\",\n",
        "    \"❄️\":\"تلج\",\n",
        "    \"💀\":\"رعب\",\n",
        "    \"😤\":\"وجه عابس\",\n",
        "    \"🖋\":\"قلم\",\n",
        "    \"🎩\":\"كاب\",\n",
        "    \"☕️\":\"قهوه\",\n",
        "    \"😹\":\"ضحك\",\n",
        "    \"💓\":\"حب\",\n",
        "    \"☄️\":\"نار\",\n",
        "    \"👻\":\"رعب\",\n",
        "    \"✋\": \"يد\",\n",
        "    \"🌱\": \"نبتة\",\n",
        "\n",
        "    # Emoticons\n",
        "    \":)\" : \"يبتسم\",\n",
        "    \"(:\" : \"يبتسم\",\n",
        "    \":(\" : \"حزين\",\n",
        "    \"xD\" : \"يضحك\",\n",
        "    \":=(\": \"يبكي\",\n",
        "    \":'(\": \"حزن\",\n",
        "    \":'‑(\": \"حزن\",\n",
        "    \"XD\" : \"يضحك\",\n",
        "    \":D\" : \"يبتسم\",\n",
        "    \"♬\" : \"موسيقي\",\n",
        "    \"♡\" : \"حب\",\n",
        "    \"☻\"  : \"يبتسم\",\n",
        "}\n",
        "\n",
        "def replace_emojis(text):\n",
        "    pattern = re.compile('|'.join(re.escape(key) for key in emojis.keys()))\n",
        "    replaced_text = pattern.sub(lambda match: emojis[match.group(0)] + ' ', text)\n",
        "    return emoji.replace_emoji(replaced_text, '')\n",
        "\n",
        "if not os.path.exists(\"preprocessed_data.xlsx\"):\n",
        "    data[\"tweet\"] = data[\"tweet\"].apply(lambda document: replace_emojis(document))"
      ]
    },
    {
      "attachments": {},
      "cell_type": "markdown",
      "metadata": {
        "id": "2Ir8Glj9EEsf"
      },
      "source": [
        "## Removing mentions"
      ]
    },
    {
      "cell_type": "code",
      "execution_count": null,
      "metadata": {
        "id": "UXgrvqiKEEsg"
      },
      "outputs": [],
      "source": [
        "pattern = r'@[\\w]+'\n",
        "if not os.path.exists(\"preprocessed_data.xlsx\"):\n",
        "    data[\"tweet\"] = data[\"tweet\"].apply(lambda document: re.sub(pattern, '', document))"
      ]
    },
    {
      "attachments": {},
      "cell_type": "markdown",
      "metadata": {
        "id": "AA7faVLeEEsh"
      },
      "source": [
        "## Removing links"
      ]
    },
    {
      "cell_type": "code",
      "execution_count": null,
      "metadata": {
        "id": "hm75bZvGEEsh"
      },
      "outputs": [],
      "source": [
        "pattern = r'https?://\\S+'\n",
        "if not os.path.exists(\"preprocessed_data.xlsx\"):\n",
        "    data[\"tweet\"] = data[\"tweet\"].apply(lambda document: re.sub(pattern, '', document))"
      ]
    },
    {
      "attachments": {},
      "cell_type": "markdown",
      "metadata": {
        "id": "uNb_LQfGEEsl"
      },
      "source": [
        "## Removing whitespaces\n",
        "In this step we get rid of extra whitespaces as well as new lines"
      ]
    },
    {
      "cell_type": "code",
      "execution_count": null,
      "metadata": {
        "id": "PZ-mpCmREEsm"
      },
      "outputs": [],
      "source": [
        "pattern = r'\\s+|\\n+'\n",
        "if not os.path.exists(\"preprocessed_data.xlsx\"):\n",
        "    data[\"tweet\"] = data[\"tweet\"].apply(lambda document: re.sub(pattern, ' ', document))"
      ]
    },
    {
      "attachments": {},
      "cell_type": "markdown",
      "metadata": {
        "id": "_TMg71jAEEsn"
      },
      "source": [
        "## Remove foriegn words"
      ]
    },
    {
      "attachments": {},
      "cell_type": "markdown",
      "metadata": {
        "id": "hD1EjRxMEEsn"
      },
      "source": [
        "The text includes english, japanese and words for other languages"
      ]
    },
    {
      "cell_type": "code",
      "execution_count": null,
      "metadata": {
        "id": "HraPS5_SEEso"
      },
      "outputs": [],
      "source": [
        "pattern = r'[a-zA-Z]+'\n",
        "if not os.path.exists(\"preprocessed_data.xlsx\"):\n",
        "    data[\"tweet\"] = data[\"tweet\"].apply(lambda document: re.sub(pattern, '', document))"
      ]
    },
    {
      "attachments": {},
      "cell_type": "markdown",
      "metadata": {
        "id": "_r3f6p9DEEsp"
      },
      "source": [
        "## Remove punctuations & special chars"
      ]
    },
    {
      "cell_type": "code",
      "execution_count": null,
      "metadata": {
        "id": "g2gtB69BEEsp"
      },
      "outputs": [],
      "source": [
        "pattern = r'[^\\w\\s\\u0600-\\u06FF]+|ﷺ|۩|⓵|؟|؛|۞|ﷻ'\n",
        "if not os.path.exists(\"preprocessed_data.xlsx\"):\n",
        "    data[\"tweet\"] = data[\"tweet\"].apply(lambda document: re.sub(pattern, '', document))"
      ]
    },
    {
      "attachments": {},
      "cell_type": "markdown",
      "metadata": {
        "id": "-BEPhEhYEEsq"
      },
      "source": [
        "## Remove consecutive characters"
      ]
    },
    {
      "cell_type": "code",
      "execution_count": null,
      "metadata": {
        "id": "pjEAl55ZEEsr"
      },
      "outputs": [],
      "source": [
        "pattern = r'(.)\\1+'\n",
        "if not os.path.exists(\"preprocessed_data.xlsx\"):\n",
        "    data[\"tweet\"] = data[\"tweet\"].apply(lambda document: re.sub(pattern, r'\\1', document))"
      ]
    },
    {
      "attachments": {},
      "cell_type": "markdown",
      "metadata": {
        "id": "MZctqr8qEEsr"
      },
      "source": [
        "## Removing numbers"
      ]
    },
    {
      "cell_type": "code",
      "execution_count": null,
      "metadata": {
        "id": "xUfiKGlxEEst"
      },
      "outputs": [],
      "source": [
        "pattern = r'\\d+'\n",
        "if not os.path.exists(\"preprocessed_data.xlsx\"):\n",
        "    data[\"tweet\"] = data[\"tweet\"].apply(lambda document: re.sub(pattern, '', document))"
      ]
    },
    {
      "attachments": {},
      "cell_type": "markdown",
      "metadata": {
        "id": "8Sy4GggUEEsw"
      },
      "source": [
        "## Tokenization"
      ]
    },
    {
      "cell_type": "code",
      "execution_count": null,
      "metadata": {
        "id": "_Nf_D_MeEEsx"
      },
      "outputs": [],
      "source": [
        "tokenizer = TweetTokenizer()\n",
        "if not os.path.exists(\"preprocessed_data.xlsx\"):\n",
        "    data[\"tweet\"] = data[\"tweet\"].apply(lambda document: tokenizer.tokenize(document))\n",
        "    data[\"tweet\"] = data[\"tweet\"].apply(lambda document: \" \".join(document).strip())"
      ]
    },
    {
      "cell_type": "code",
      "execution_count": null,
      "metadata": {
        "colab": {
          "base_uri": "https://localhost:8080/",
          "height": 143
        },
        "id": "OK4X1pWUEEsx",
        "outputId": "dcd9960c-15d8-4ec5-e197-94b11c2cb673"
      },
      "outputs": [],
      "source": [
        "data.tail(3)"
      ]
    },
    {
      "attachments": {},
      "cell_type": "markdown",
      "metadata": {
        "id": "pQOiy36-EEsy"
      },
      "source": [
        "## Stemming\n"
      ]
    },
    {
      "cell_type": "code",
      "execution_count": null,
      "metadata": {
        "id": "hFgkKc6GEEsy"
      },
      "outputs": [],
      "source": [
        "stemmer = FarasaStemmer()\n",
        "if not os.path.exists(\"preprocessed_data.xlsx\"):\n",
        "    with tqdm.tqdm(range(data.shape[0])) as progress:\n",
        "        for i in progress:\n",
        "            data.iloc[i, 0] = stemmer.stem(data.iloc[i, 0])"
      ]
    },
    {
      "attachments": {},
      "cell_type": "markdown",
      "metadata": {},
      "source": [
        "## Removing stop words"
      ]
    },
    {
      "cell_type": "code",
      "execution_count": null,
      "metadata": {},
      "outputs": [],
      "source": [
        "arabic_stopwords = stopwords.words('arabic')\n",
        "arabic_stopwords.extend(stp.stopwords_list())\n",
        "stop_words = {entry for entry in arabic_stopwords}\n",
        "stopwords_stemmer = ISRIStemmer()\n",
        "with open(\"arabic_stopwords.txt\", \"r\", encoding=\"UTF-8\") as file:\n",
        "    for word in file:\n",
        "        pass\n",
        "        stop_words.add(stopwords_stemmer.stem(word.strip()))"
      ]
    },
    {
      "cell_type": "code",
      "execution_count": null,
      "metadata": {},
      "outputs": [],
      "source": [
        "def remove_stop_words(tweet: str) -> str:\n",
        "    words = set(tweet.split(sep = ' '))\n",
        "    return \" \".join(list((words - stop_words)))\n",
        "\n",
        "if not os.path.exists(\"preprocessed_data.xlsx\"):\n",
        "    data[\"tweet\"] = data[\"tweet\"].apply(lambda document: remove_stop_words(document))"
      ]
    },
    {
      "attachments": {},
      "cell_type": "markdown",
      "metadata": {},
      "source": [
        "## Save preprocessed data"
      ]
    },
    {
      "cell_type": "code",
      "execution_count": null,
      "metadata": {
        "id": "lw0Z0MsXEEsz"
      },
      "outputs": [],
      "source": [
        "if not os.path.exists(\"preprocessed_data.xlsx\"):\n",
        "    # remove empty entries\n",
        "    data.replace('', pd.NA, inplace=True)  # Replace empty strings with NA\n",
        "    data.dropna(inplace=True)  # Drop rows with NA values\n",
        "    data.to_excel(\"preprocessed_data.xlsx\") # inspect the resulting file to validate the preprocessing"
      ]
    },
    {
      "attachments": {},
      "cell_type": "markdown",
      "metadata": {
        "id": "l4AEbbxhEEsz"
      },
      "source": [
        "# Text representation"
      ]
    },
    {
      "attachments": {},
      "cell_type": "markdown",
      "metadata": {},
      "source": [
        "## BoW (Bag-of-Words)"
      ]
    },
    {
      "cell_type": "code",
      "execution_count": 4,
      "metadata": {
        "id": "KnE8RuVGEEtI"
      },
      "outputs": [
        {
          "data": {
            "text/plain": [
              "(3302,)"
            ]
          },
          "execution_count": 4,
          "metadata": {},
          "output_type": "execute_result"
        }
      ],
      "source": [
        "X_train, X_test, y_train, y_test = train_test_split(data[\"tweet\"], data[\"class\"], test_size = 0.2, random_state = SEED, stratify = data[\"class\"])\n",
        "\n",
        "vectorizer = CountVectorizer()\n",
        "\n",
        "X_train = vectorizer.fit_transform(X_train).toarray()\n",
        "X_test = vectorizer.transform(X_test).toarray()\n",
        "\n",
        "X_train[0].shape"
      ]
    },
    {
      "attachments": {},
      "cell_type": "markdown",
      "metadata": {},
      "source": [
        "### Performance evaluation\n",
        "#### Naive bayes"
      ]
    },
    {
      "cell_type": "code",
      "execution_count": null,
      "metadata": {},
      "outputs": [],
      "source": [
        "gnb = GaussianNB()\n",
        "gnb.fit(X_train, y_train)\n",
        "y_pred = gnb.predict(X_test)\n",
        "\n",
        "accuracy = accuracy_score(y_test, y_pred)\n",
        "precision, recall, f1_score, _ = precision_recall_fscore_support(y_test, y_pred, average='binary', pos_label=\"Positive\")\n",
        "\n",
        "print(f\"Accuracy: {accuracy * 100:.2f}%\")\n",
        "print(f\"Precesion : {precision * 100:.2f}%\")\n",
        "print(f\"Recall : {recall * 100:.2f}%\")\n",
        "print(f\"F1 score : {f1_score * 100:.2f}%\")"
      ]
    },
    {
      "attachments": {},
      "cell_type": "markdown",
      "metadata": {},
      "source": [
        "#### Logistic regression"
      ]
    },
    {
      "cell_type": "code",
      "execution_count": null,
      "metadata": {
        "colab": {
          "base_uri": "https://localhost:8080/"
        },
        "id": "r_N8hCmIEEtK",
        "outputId": "7fd72e2e-c809-445a-851d-035c5e8381eb"
      },
      "outputs": [],
      "source": [
        "model = LogisticRegression(random_state = SEED)\n",
        "model.fit(X_train, y_train)\n",
        "y_pred = model.predict(X_test)\n",
        "\n",
        "accuracy = accuracy_score(y_test, y_pred)\n",
        "precision, recall, f1_score, _ = precision_recall_fscore_support(y_test, y_pred, average='binary', pos_label=\"Positive\")\n",
        "\n",
        "print(f\"Accuracy: {accuracy * 100:.2f}%\")\n",
        "print(f\"Precesion : {precision * 100:.2f}%\")\n",
        "print(f\"Recall : {recall * 100:.2f}%\")\n",
        "print(f\"F1 score : {f1_score * 100:.2f}%\")"
      ]
    },
    {
      "attachments": {},
      "cell_type": "markdown",
      "metadata": {},
      "source": [
        "#### SVM\n",
        "\n",
        "We were unable to train this model on our machines using the initial dataset, due to the **curse of dimensionality**, so we added dimensioanlity reduction"
      ]
    },
    {
      "cell_type": "code",
      "execution_count": null,
      "metadata": {},
      "outputs": [],
      "source": [
        "svm = SVC(random_state = SEED)\n",
        "svm.fit(X_train, y_train)\n",
        "y_pred = svm.predict(X_test)\n",
        "\n",
        "accuracy = accuracy_score(y_test, y_pred)\n",
        "precision, recall, f1_score, _ = precision_recall_fscore_support(y_test, y_pred, average='binary', pos_label=\"Positive\")\n",
        "\n",
        "print(f\"Accuracy: {accuracy * 100:.2f}%\")\n",
        "print(f\"Precesion : {precision * 100:.2f}%\")\n",
        "print(f\"Recall : {recall * 100:.2f}%\")\n",
        "print(f\"F1 score : {f1_score * 100:.2f}%\")"
      ]
    },
    {
      "attachments": {},
      "cell_type": "markdown",
      "metadata": {},
      "source": [
        "#### Random forest"
      ]
    },
    {
      "cell_type": "code",
      "execution_count": null,
      "metadata": {},
      "outputs": [],
      "source": [
        "rf = RandomForestClassifier(random_state = SEED)\n",
        "rf.fit(X_train, y_train)\n",
        "y_pred = rf.predict(X_test)\n",
        "\n",
        "accuracy = accuracy_score(y_test, y_pred)\n",
        "precision, recall, f1_score, _ = precision_recall_fscore_support(y_test, y_pred, average='binary', pos_label=\"Positive\")\n",
        "\n",
        "print(f\"Accuracy: {accuracy * 100:.2f}%\")\n",
        "print(f\"Precesion : {precision * 100:.2f}%\")\n",
        "print(f\"Recall : {recall * 100:.2f}%\")\n",
        "print(f\"F1 score : {f1_score * 100:.2f}%\")"
      ]
    },
    {
      "attachments": {},
      "cell_type": "markdown",
      "metadata": {},
      "source": [
        "## TF-IDF"
      ]
    },
    {
      "cell_type": "code",
      "execution_count": null,
      "metadata": {},
      "outputs": [],
      "source": [
        "X_train, X_test, y_train, y_test = train_test_split(data[\"tweet\"], data[\"class\"], test_size = 0.2, random_state = SEED, stratify= data[\"class\"])\n",
        "\n",
        "vectorizer = TfidfVectorizer()\n",
        "\n",
        "X_train = vectorizer.fit_transform(X_train).toarray()\n",
        "X_test = vectorizer.transform(X_test).toarray()\n",
        "\n",
        "X_train[0].shape"
      ]
    },
    {
      "attachments": {},
      "cell_type": "markdown",
      "metadata": {},
      "source": [
        "### Performance evaluation\n",
        "#### Naive bayes"
      ]
    },
    {
      "cell_type": "code",
      "execution_count": null,
      "metadata": {},
      "outputs": [],
      "source": [
        "gnb = GaussianNB()\n",
        "gnb.fit(X_train, y_train)\n",
        "y_pred = gnb.predict(X_test)\n",
        "\n",
        "accuracy = accuracy_score(y_test, y_pred)\n",
        "precision, recall, f1_score, _ = precision_recall_fscore_support(y_test, y_pred, average='binary', pos_label=\"Positive\")\n",
        "\n",
        "print(f\"Accuracy: {accuracy * 100:.2f}%\")\n",
        "print(f\"Precesion : {precision * 100:.2f}%\")\n",
        "print(f\"Recall : {recall * 100:.2f}%\")\n",
        "print(f\"F1 score : {f1_score * 100:.2f}%\")"
      ]
    },
    {
      "attachments": {},
      "cell_type": "markdown",
      "metadata": {},
      "source": [
        "#### Logistic regression"
      ]
    },
    {
      "cell_type": "code",
      "execution_count": null,
      "metadata": {},
      "outputs": [],
      "source": [
        "model = LogisticRegression()\n",
        "model.fit(X_train, y_train)\n",
        "y_pred = model.predict(X_test)\n",
        "\n",
        "accuracy = accuracy_score(y_test, y_pred)\n",
        "precision, recall, f1_score, _ = precision_recall_fscore_support(y_test, y_pred, average='binary', pos_label=\"Positive\")\n",
        "\n",
        "print(f\"Accuracy: {accuracy * 100:.2f}%\")\n",
        "print(f\"Precesion : {precision * 100:.2f}%\")\n",
        "print(f\"Recall : {recall * 100:.2f}%\")\n",
        "print(f\"F1 score : {f1_score * 100:.2f}%\")"
      ]
    },
    {
      "attachments": {},
      "cell_type": "markdown",
      "metadata": {},
      "source": [
        "#### SVM"
      ]
    },
    {
      "cell_type": "code",
      "execution_count": null,
      "metadata": {},
      "outputs": [],
      "source": [
        "svm = SVC()\n",
        "svm.fit(X_train, y_train)\n",
        "y_pred = svm.predict(X_test)\n",
        "\n",
        "accuracy = accuracy_score(y_test, y_pred)\n",
        "precision, recall, f1_score, _ = precision_recall_fscore_support(y_test, y_pred, average='binary', pos_label=\"Positive\")\n",
        "\n",
        "print(f\"Accuracy: {accuracy * 100:.2f}%\")\n",
        "print(f\"Precesion : {precision * 100:.2f}%\")\n",
        "print(f\"Recall : {recall * 100:.2f}%\")\n",
        "print(f\"F1 score : {f1_score * 100:.2f}%\")"
      ]
    },
    {
      "attachments": {},
      "cell_type": "markdown",
      "metadata": {},
      "source": [
        "#### Random Forest"
      ]
    },
    {
      "cell_type": "code",
      "execution_count": null,
      "metadata": {},
      "outputs": [],
      "source": [
        "rf = RandomForestClassifier(random_state = SEED)\n",
        "rf.fit(X_train, y_train)\n",
        "y_pred = rf.predict(X_test)\n",
        "\n",
        "accuracy = accuracy_score(y_test, y_pred)\n",
        "precision, recall, f1_score, _ = precision_recall_fscore_support(y_test, y_pred, average='binary', pos_label=\"Positive\")\n",
        "\n",
        "print(f\"Accuracy: {accuracy * 100:.2f}%\")\n",
        "print(f\"Precesion : {precision * 100:.2f}%\")\n",
        "print(f\"Recall : {recall * 100:.2f}%\")\n",
        "print(f\"F1 score : {f1_score * 100:.2f}%\")"
      ]
    },
    {
      "attachments": {},
      "cell_type": "markdown",
      "metadata": {},
      "source": [
        "## LDA"
      ]
    },
    {
      "cell_type": "code",
      "execution_count": null,
      "metadata": {},
      "outputs": [],
      "source": [
        "X_train, X_test, y_train, y_test = train_test_split(data[\"tweet\"], data[\"class\"], test_size = 0.2, random_state = SEED, stratify = data[\"class\"])\n",
        "\n",
        "vectorizer = CountVectorizer()\n",
        "\n",
        "X_train = vectorizer.fit_transform(X_train).toarray()\n",
        "X_test = vectorizer.transform(X_test).toarray()\n",
        "\n",
        "lda = LatentDirichletAllocation(n_components = 170, random_state = SEED)\n",
        "lda.fit(X_train)\n",
        "X_train = lda.transform(X_train)\n",
        "X_test = lda.transform(X_test)"
      ]
    },
    {
      "attachments": {},
      "cell_type": "markdown",
      "metadata": {},
      "source": [
        "### Performance evaluation\n",
        "#### Naive bayes"
      ]
    },
    {
      "cell_type": "code",
      "execution_count": null,
      "metadata": {},
      "outputs": [],
      "source": [
        "gnb = GaussianNB()\n",
        "gnb.fit(X_train, y_train)\n",
        "y_pred = gnb.predict(X_test)\n",
        "\n",
        "accuracy = accuracy_score(y_test, y_pred)\n",
        "precision, recall, f1_score, _ = precision_recall_fscore_support(y_test, y_pred, average='binary', pos_label=\"Positive\")\n",
        "\n",
        "print(f\"Accuracy: {accuracy * 100:.2f}%\")\n",
        "print(f\"Precesion : {precision * 100:.2f}%\")\n",
        "print(f\"Recall : {recall * 100:.2f}%\")\n",
        "print(f\"F1 score : {f1_score * 100:.2f}%\")"
      ]
    },
    {
      "attachments": {},
      "cell_type": "markdown",
      "metadata": {},
      "source": [
        "#### Logistic regression"
      ]
    },
    {
      "cell_type": "code",
      "execution_count": null,
      "metadata": {},
      "outputs": [],
      "source": [
        "model = LogisticRegression(random_state = SEED)\n",
        "model.fit(X_train, y_train)\n",
        "y_pred = model.predict(X_test)\n",
        "\n",
        "accuracy = accuracy_score(y_test, y_pred)\n",
        "precision, recall, f1_score, _ = precision_recall_fscore_support(y_test, y_pred, average='binary', pos_label=\"Positive\")\n",
        "\n",
        "print(f\"Accuracy: {accuracy * 100:.2f}%\")\n",
        "print(f\"Precesion : {precision * 100:.2f}%\")\n",
        "print(f\"Recall : {recall * 100:.2f}%\")\n",
        "print(f\"F1 score : {f1_score * 100:.2f}%\")"
      ]
    },
    {
      "attachments": {},
      "cell_type": "markdown",
      "metadata": {},
      "source": [
        "#### SVM"
      ]
    },
    {
      "cell_type": "code",
      "execution_count": null,
      "metadata": {},
      "outputs": [],
      "source": [
        "svm = SVC(random_state = SEED)\n",
        "svm.fit(X_train, y_train)\n",
        "y_pred = svm.predict(X_test)\n",
        "\n",
        "accuracy = accuracy_score(y_test, y_pred)\n",
        "precision, recall, f1_score, _ = precision_recall_fscore_support(y_test, y_pred, average='binary', pos_label=\"Positive\")\n",
        "\n",
        "print(f\"Accuracy: {accuracy * 100:.2f}%\")\n",
        "print(f\"Precesion : {precision * 100:.2f}%\")\n",
        "print(f\"Recall : {recall * 100:.2f}%\")\n",
        "print(f\"F1 score : {f1_score * 100:.2f}%\")"
      ]
    },
    {
      "attachments": {},
      "cell_type": "markdown",
      "metadata": {},
      "source": [
        "#### Random Forest"
      ]
    },
    {
      "cell_type": "code",
      "execution_count": null,
      "metadata": {},
      "outputs": [],
      "source": [
        "rf = RandomForestClassifier(random_state = SEED)\n",
        "rf.fit(X_train, y_train)\n",
        "y_pred = rf.predict(X_test)\n",
        "\n",
        "accuracy = accuracy_score(y_test, y_pred)\n",
        "precision, recall, f1_score, _ = precision_recall_fscore_support(y_test, y_pred, average='binary', pos_label=\"Positive\")\n",
        "\n",
        "print(f\"Accuracy: {accuracy * 100:.2f}%\")\n",
        "print(f\"Precesion : {precision * 100:.2f}%\")\n",
        "print(f\"Recall : {recall * 100:.2f}%\")\n",
        "print(f\"F1 score : {f1_score * 100:.2f}%\")"
      ]
    },
    {
      "attachments": {},
      "cell_type": "markdown",
      "metadata": {},
      "source": [
        "## LSA"
      ]
    },
    {
      "cell_type": "code",
      "execution_count": null,
      "metadata": {},
      "outputs": [],
      "source": [
        "X_train, X_test, y_train, y_test = train_test_split(data[\"tweet\"], data[\"class\"], test_size = 0.2, random_state = SEED, stratify = data[\"class\"])\n",
        "\n",
        "vectorizer = CountVectorizer()\n",
        "\n",
        "X_train = vectorizer.fit_transform(X_train).toarray()\n",
        "X_test = vectorizer.transform(X_test).toarray()\n",
        "\n",
        "lsa = TruncatedSVD(n_components = 200, random_state = SEED)\n",
        "X_train = lsa.fit_transform(X_train)\n",
        "X_test = lsa.transform(X_test)"
      ]
    },
    {
      "attachments": {},
      "cell_type": "markdown",
      "metadata": {},
      "source": [
        "### Performance evaluation\n",
        "#### Naive bayes"
      ]
    },
    {
      "cell_type": "code",
      "execution_count": null,
      "metadata": {},
      "outputs": [],
      "source": [
        "gnb = GaussianNB()\n",
        "gnb.fit(X_train, y_train)\n",
        "y_pred = gnb.predict(X_test)\n",
        "\n",
        "accuracy = accuracy_score(y_test, y_pred)\n",
        "precision, recall, f1_score, _ = precision_recall_fscore_support(y_test, y_pred, average='binary', pos_label=\"Positive\")\n",
        "\n",
        "print(f\"Accuracy: {accuracy * 100:.2f}%\")\n",
        "print(f\"Precesion : {precision * 100:.2f}%\")\n",
        "print(f\"Recall : {recall * 100:.2f}%\")\n",
        "print(f\"F1 score : {f1_score * 100:.2f}%\")"
      ]
    },
    {
      "attachments": {},
      "cell_type": "markdown",
      "metadata": {},
      "source": [
        "#### Logistic regression"
      ]
    },
    {
      "cell_type": "code",
      "execution_count": null,
      "metadata": {},
      "outputs": [],
      "source": [
        "model = LogisticRegression(random_state = SEED)\n",
        "model.fit(X_train, y_train)\n",
        "y_pred = model.predict(X_test)\n",
        "\n",
        "accuracy = accuracy_score(y_test, y_pred)\n",
        "precision, recall, f1_score, _ = precision_recall_fscore_support(y_test, y_pred, average='binary', pos_label=\"Positive\")\n",
        "\n",
        "print(f\"Accuracy: {accuracy * 100:.2f}%\")\n",
        "print(f\"Precesion : {precision * 100:.2f}%\")\n",
        "print(f\"Recall : {recall * 100:.2f}%\")\n",
        "print(f\"F1 score : {f1_score * 100:.2f}%\")"
      ]
    },
    {
      "attachments": {},
      "cell_type": "markdown",
      "metadata": {},
      "source": [
        "#### SVM"
      ]
    },
    {
      "cell_type": "code",
      "execution_count": null,
      "metadata": {},
      "outputs": [],
      "source": [
        "svm = SVC(random_state = SEED)\n",
        "svm.fit(X_train, y_train)\n",
        "y_pred = svm.predict(X_test)\n",
        "\n",
        "accuracy = accuracy_score(y_test, y_pred)\n",
        "precision, recall, f1_score, _ = precision_recall_fscore_support(y_test, y_pred, average='binary', pos_label=\"Positive\")\n",
        "\n",
        "print(f\"Accuracy: {accuracy * 100:.2f}%\")\n",
        "print(f\"Precesion : {precision * 100:.2f}%\")\n",
        "print(f\"Recall : {recall * 100:.2f}%\")\n",
        "print(f\"F1 score : {f1_score * 100:.2f}%\")"
      ]
    },
    {
      "attachments": {},
      "cell_type": "markdown",
      "metadata": {},
      "source": [
        "#### Random Forest"
      ]
    },
    {
      "cell_type": "code",
      "execution_count": null,
      "metadata": {},
      "outputs": [],
      "source": [
        "rf = RandomForestClassifier()\n",
        "rf.fit(X_train, y_train)\n",
        "y_pred = rf.predict(X_test)\n",
        "\n",
        "accuracy = accuracy_score(y_test, y_pred)\n",
        "precision, recall, f1_score, _ = precision_recall_fscore_support(y_test, y_pred, average='binary', pos_label=\"Positive\")\n",
        "\n",
        "print(f\"Accuracy: {accuracy * 100:.2f}%\")\n",
        "print(f\"Precesion : {precision * 100:.2f}%\")\n",
        "print(f\"Recall : {recall * 100:.2f}%\")\n",
        "print(f\"F1 score : {f1_score * 100:.2f}%\")"
      ]
    },
    {
      "attachments": {},
      "cell_type": "markdown",
      "metadata": {},
      "source": [
        "## BoC (Bag-of-concepts)\n",
        "\n",
        "The BOC (Bag-of-Concepts) method has been proposed as a solution to the problem of large dimensions and sparsity that traditional methods such as TF-IDF and Bag of words suffer from."
      ]
    },
    {
      "attachments": {},
      "cell_type": "markdown",
      "metadata": {},
      "source": [
        "### Word embeddings\n",
        "This is done using the AraVec model which is trained on arabic tweets"
      ]
    },
    {
      "cell_type": "code",
      "execution_count": 6,
      "metadata": {},
      "outputs": [
        {
          "name": "stdout",
          "output_type": "stream",
          "text": [
            "total skipped : 1445 (16.10%)\n"
          ]
        }
      ],
      "source": [
        "model = gensim.models.Word2Vec.load(\"./aravec/full_uni_cbow_100_twitter/full_uni_cbow_100_twitter.mdl\")\n",
        "word_vecs = {}\n",
        "total, skipped = 0, 0\n",
        "for tweet in data[\"tweet\"]:\n",
        "    for word in tweet.split(\" \"):\n",
        "        total += 1\n",
        "        try:\n",
        "            word_vecs[word] = model.wv[word]\n",
        "        except Exception:\n",
        "            skipped += 1\n",
        "print(f\"total skipped : {skipped} ({(skipped / total) * 100 :.2f}%)\")"
      ]
    },
    {
      "attachments": {},
      "cell_type": "markdown",
      "metadata": {},
      "source": [
        "### Clustering the words embeddings"
      ]
    },
    {
      "cell_type": "code",
      "execution_count": 7,
      "metadata": {},
      "outputs": [
        {
          "name": "stderr",
          "output_type": "stream",
          "text": [
            "c:\\Python311\\Lib\\site-packages\\sklearn\\cluster\\_kmeans.py:1416: FutureWarning: The default value of `n_init` will change from 10 to 'auto' in 1.4. Set the value of `n_init` explicitly to suppress the warning\n",
            "  super()._check_params_vs_input(X, default_n_init=10)\n"
          ]
        },
        {
          "name": "stdout",
          "output_type": "stream",
          "text": [
            "3102\n"
          ]
        }
      ],
      "source": [
        "NUM_CONCEPTS = 130\n",
        "model = KMeans(n_clusters = NUM_CONCEPTS, random_state = SEED)\n",
        "X = list(word_vecs.values())\n",
        "model.fit(X)\n",
        "concepts = model.predict(X)\n",
        "print(len(X))"
      ]
    },
    {
      "attachments": {
        "image.png": {
          "image/png": "[encoded data removed]"
        }
      },
      "cell_type": "markdown",
      "metadata": {},
      "source": [
        "### Concept extraction\n",
        "Now that we related words to concepts, we can create a document representataion, in which we express the degree of which a document contains a certain concept, and instead of taking only the freuqncies, we consider an approach similar to TF-IDF called, CF-IDF.\n",
        "\n",
        "CF-IDF is defined using the following formula : \n",
        "\n",
        "![image.png](attachment:image.png)\n",
        "\n",
        "\n",
        "such that : \n",
        "\n",
        "    * |D| is the number of documents in the corpus\n",
        "    * n_c is the number of occurences of concept c in document d\n",
        "    * n_k is the total number of concepts in this document "
      ]
    },
    {
      "cell_type": "code",
      "execution_count": 8,
      "metadata": {},
      "outputs": [
        {
          "name": "stdout",
          "output_type": "stream",
          "text": [
            "{'فساد': 26, 'بتحكوا': 61, 'انو': 86, 'اساس': 112, 'حلو': 74, 'رائع': 18, 'لسان': 94, 'قذر': 7, 'قمام': 2, 'داشر': 7, 'منزل': 38, 'انكب': 111, 'متزوج': 21, 'اجيد': 34, 'مخدر': 128, 'مشبوه': 55, 'تسليك': 85, 'ولد': 21, 'اهرب': 5, 'متوتر': 9, 'احش': 111, 'تحسن': 0, 'ابشر': 61, 'اله': 37, 'قريب': 49, 'غباء': 76, 'عود': 94, 'بيت': 71, 'راعي': 29, 'شاب': 21, 'قطع': 57, 'معيتق': 2, 'سلام': 1, 'راحم': 105, 'رحم': 65, 'قران': 88, 'مؤمن': 70, 'دافع': 87, 'شفع': 108, 'نبي': 68, 'ملائكه': 122, 'اتحزن': 2, 'دعاء': 88, 'يعدك': 4, 'ارحم': 51, 'استغفر': 42, 'سلم': 24, 'صلا': 2, 'حسن': 121, 'وعد': 94, 'هوي': 105, 'خشي': 24, 'اتعلق': 97, 'لان': 110, 'مقرف': 18, 'تعليق': 43, 'اتفه': 126, 'عالمي': 129, 'برنامج': 43, 'رفع': 58, 'راتب': 16, 'حضيض': 2, 'حواء': 119, 'خرفنه': 85, 'اجتماع': 32, 'واضح': 112, 'خام': 128, 'والا': 53, 'معو': 86, 'كريم': 121, 'رسول': 65, 'بايخ': 74, 'شارك': 89, 'احتمال': 8, 'احذف': 14, 'جلس': 89, 'اني': 15, 'اكفر': 34, 'حشيش': 128, 'احس': 31, 'بال': 94, 'شيء': 103, 'عمل': 57, 'استمرار': 82, 'عفيف': 100, 'راسي': 41, 'تقي': 24, 'دار': 38, 'جال': 94, 'ملتزم': 7, 'وصف': 87, 'نقي': 64, 'دقيق': 98, 'كلام': 85, 'تشاؤم': 76, 'احسن': 78, 'وثق': 4, 'عقل': 76, 'احقر': 126, 'خيان': 94, 'اشي': 86, 'يطبخ': 128, 'صالح': 35, 'استقرار': 26, 'حياه': 76, 'زوج': 21, 'باقي': 53, 'نهايه': 82, 'عالم': 129, 'شيخ': 21, 'لايدرسون': 2, 'نجاح': 57, 'فشل': 82, 'ضحك': 85, 'بطن': 71, 'عورني': 41, 'مسخر': 129, 'اخبار': 43, 'اتناقش': 111, 'اذاكان': 2, 'كائن': 70, 'فكري': 103, 'عقيم': 55, 'منع': 57, 'مفروض': 8, 'مجنون': 7, 'مهستر': 61, 'اخرس': 70, 'صحيح': 55, 'يقوني': 2, 'بسيط': 18, 'اجعل': 20, 'فتح': 57, 'استعان': 24, 'جوار': 38, 'احبك': 81, 'يخزلك': 2, 'صادق': 29, 'توكل': 24, 'طالب': 100, 'لاي': 90, 'اوروبي': 100, 'خليجي': 100, 'اسرائيل': 96, 'هجر': 24, 'جرب': 69, 'تطوعي': 100, 'شعر': 71, 'فكر': 7, 'عاجز': 49, 'تعامل': 0, 'قيوم': 30, 'استغيث': 95, 'يستاهل': 74, 'اصحاب': 122, 'خسر': 25, 'ميه': 128, 'زميل': 29, 'معلم': 129, 'حقيقه': 76, 'مدير': 10, 'انتقص': 24, 'حارب': 24, 'مبدع': 7, 'خاف': 25, 'حالو': 86, 'لايك': 127, 'دوس': 28, 'قول': 94, 'موعد': 82, 'ترشيد': 38, 'استحق': 34, 'خبز': 128, 'حكومه': 26, 'دعم': 57, 'سعر': 16, 'ظلم': 12, 'استمر': 0, 'ادمن': 129, 'رجل': 21, 'مرتك': 61, 'ادعيلي': 28, 'باراك': 10, 'مجستير': 2, 'رجا': 105, 'شفاء': 64, 'فاضل': 121, 'قادم': 82, 'مسابق': 2, 'باص': 38, 'حرام': 11, 'نصف': 82, 'ارحمونا': 85, 'اطلع': 111, 'سياره': 38, 'جوكر': 129, 'تلميذ': 21, 'اعتماد': 57, 'داخل': 110, 'تنفيذ': 57, 'واهم': 110, 'مرتكز': 2, 'ظهر': 89, 'يرزقني': 104, 'دعا': 89, 'اسال': 104, 'غيب': 49, 'عزوجل': 46, 'ثبات': 76, 'علا': 61, 'عباد': 1, 'حفظ': 57, 'منبر': 87, 'اشتاق': 81, 'اخلاص': 76, 'بارك': 1, 'شان': 94, 'امور': 54, 'قدر': 94, 'اعطا': 2, 'صرف': 57, 'سماء': 39, 'ملكوت': 64, 'يسر': 20, 'عمرو': 121, 'حقيقي': 55, 'حرب': 26, 'شوي': 41, 'تركيز': 76, 'تعرض': 89, 'بورما': 96, 'غاوي': 28, 'اشتغل': 111, 'مسخره': 85, 'روح': 94, 'كراكوز': 2, 'استخف': 24, 'تحكيم': 87, 'مسلم': 88, 'استعين': 4, 'ستار': 129, 'سوبر': 129, 'استهبال': 85, 'ضاع': 118, 'استودع': 4, 'اسخف': 126, 'هاشمي': 121, 'يقهرك': 74, 'اردنيه': 26, 'شعب': 59, 'ملك': 129, 'فقير': 70, 'ماشي': 28, 'مرتفع': 98, 'اغلب': 110, 'بنزين': 128, 'اسعد': 51, 'علامتنا': 2, 'اسوء': 126, 'شعور': 79, 'ندم': 79, 'متاح': 29, 'امام': 110, 'تبدا': 0, 'سلسل': 2, 'كشف': 57, 'كذب': 12, 'نهاي': 94, 'اسوا': 126, 'كوميديا': 85, 'عاجل': 10, 'ارزقني': 48, 'اشتق': 81, 'رائح': 94, 'زيار': 2, 'كافر': 70, 'رحيم': 106, 'اشداء': 122, 'اشرب': 111, 'كاس': 84, 'نحشر': 2, 'محمد': 35, 'درج': 71, 'قهر': 85, 'نشور': 2, 'مات': 118, 'تعلم': 31, 'وديع': 121, 'خلي': 53, 'ذنيب': 2, 'ماعاد': 53, 'مغترب': 29, 'بنت': 21, 'دهن': 128, 'يحكن': 2, 'كتير': 123, 'اجتماعي': 55, 'مرض': 22, 'رهاب': 22, 'هدا': 86, 'صاحب': 29, 'اصلن': 41, 'ماخذ': 74, 'امه': 21, 'مصخر': 61, 'توتر': 22, 'خرب': 74, 'اصوات': 54, 'خاطر': 94, 'اضحك': 115, 'تبسم': 105, 'ناس': 54, 'تضحكلك': 61, 'دني': 94, 'اعرف': 31, 'محل': 128, 'مزح': 85, 'فرفش': 61, 'اداب': 19, 'رحيل': 82, 'مستقبل': 87, 'ياخذ': 25, 'اطمئن': 4, 'انجرح': 105, 'عشان': 8, 'جاين': 40, 'حبو': 40, 'جرح': 79, 'حافظينها': 61, 'دخل': 25, 'اشم': 14, 'ياحاجه': 28, 'اعطي': 34, 'انسحاب': 82, 'حمار': 21, 'اعلن': 89, 'متفائل': 97, 'دائم': 55, 'طريق': 38, 'اعن': 51, 'افتخر': 97, 'افشو': 2, 'طفل': 21, 'رعب': 85, 'تاثر': 0, 'طبيب': 22, 'تحويل': 57, 'قضاء': 24, 'اقترح': 8, 'جاي': 9, 'حاط': 112, 'اقرفني': 2, 'دبر': 13, 'تخلف': 12, 'عربي': 100, 'منتهي': 129, 'قرف': 85, 'بقي': 28, 'مريض': 22, 'خلص': 86, 'اقطع': 111, 'اقلب': 14, 'عادي': 8, 'مستواك': 87, 'وجه': 94, 'اكاديمي': 100, 'حالي': 105, 'معاق': 7, 'زاد': 105, 'طين': 39, 'شمسي': 39, 'مشروع': 38, 'اسم': 43, 'شمس': 39, 'طلع': 112, 'وين': 53, 'بتعرفش': 61, 'شبعان': 9, 'واجه': 24, 'مشكل': 128, 'سعودي': 100, 'بنون': 12, 'اكرم': 64, 'استاذي': 121, 'عظيم': 70, 'حرم': 24, 'هالنعمه': 61, 'نتحر': 2, 'طبع': 94, 'كدا': 123, 'تفهم': 31, 'واعي': 7, 'يارب': 125, 'ماحد': 53, 'اخلاق': 87, 'منهج': 19, 'نبوي': 121, 'تقليص': 58, 'درس': 47, 'يومي': 103, 'احاديث': 76, 'باي': 90, 'استشهاد': 23, 'عدل': 41, 'دين': 12, 'شيعه': 122, 'نسب': 87, 'بلد': 87, 'سرطان': 22, 'وضع': 57, 'دايم': 53, 'جهل': 12, 'مفاعل': 38, 'حرف': 103, 'طيب': 53, 'ابتسامه': 125, 'علن': 94, 'نسال': 104, 'صحه': 76, 'تردي': 105, 'ربيع': 39, 'مرتبط': 97, 'زراعه': 57, 'استثمار': 57, 'تعليم': 47, 'اثار': 38, 'طبيع': 94, 'كثير': 54, 'علاو': 2, 'بيع': 57, 'امتلك': 34, 'نويه': 2, 'بترول': 128, 'بحت': 55, 'تبع': 112, 'حديث': 88, 'تشغيل': 57, 'مجال': 19, 'تجريبي': 100, 'عنا': 4, 'محلي': 129, 'اردن': 2, 'كامل': 98, 'اليس': 24, 'داي': 94, 'وعلنتان': 2, 'استهلك': 34, 'نظر': 87, 'تنقيب': 2, 'طرح': 57, 'يورانيوم': 2, 'مضحك': 18, 'نوي': 105, 'مؤخر': 2, 'شرك': 12, 'انشا': 121, 'صيان': 2, 'مقامر': 2, 'ماده': 47, 'موضوع': 43, 'تعليمي': 100, 'طاقه': 76, 'رضو': 61, 'مصدر': 10, 'هيئ': 51, 'ساد': 108, 'فنيه': 60, 'استخدام': 57, 'مورد': 2, 'بشريه': 26, 'ادار': 89, 'توجيه': 57, 'اقتصاد': 38, 'مايمكن': 2, 'امكاني': 2, 'اعتزاز': 87, 'ديوان': 35, 'مدح': 12, 'علاق': 71, 'ملكي': 55, 'فخر': 87, 'شمسيه': 71, 'اختلف': 34, 'تنافر': 2, 'جندي': 10, 'مجند': 10, 'تعارف': 100, 'اتلف': 108, 'تحمل': 0, 'مافي': 33, 'انتقاد': 87, 'دنيا': 1, 'كبير': 18, 'كنز': 99, 'نزول': 58, 'لقب': 87, 'عرف': 25, 'باني': 4, 'تبرير': 19, 'اعتداء': 23, 'اطباء': 38, 'زاكي': 61, 'انكسار': 125, 'سماج': 2, 'سخاف': 2, 'قلد': 129, 'ثقيل': 98, 'فاشل': 7, 'بسمه': 125, 'خيال': 103, 'بقاء': 82, 'دمار': 122, 'السعوديه': 113, 'يجي': 80, 'تدبل': 61, 'حاضر': 29, 'سعيد': 121, 'كون': 94, 'فرح': 125, 'سعاده': 125, 'منوع': 43, 'عشق': 79, 'زعرنه': 2, 'فسق': 12, 'قليل': 82, 'مشكله': 19, 'ازال': 4, 'مايكروسوفت': 113, 'تطبيق': 99, 'تغلب': 0, 'طويل': 98, 'متجر': 43, 'عائش': 2, 'تفائل': 4, 'طبيعي': 18, 'تنفس': 39, 'صداع': 22, 'وفر': 108, 'علاج': 22, 'عميق': 98, 'اكتشف': 101, 'جميل': 18, 'جمال': 76, 'اقدام': 122, 'نساء': 122, 'قتال': 122, 'فلسطين': 96, 'شاف': 25, 'كلب': 21, 'جيل': 59, 'سوريا': 96, 'علو': 58, 'قاتل': 24, 'لقي': 25, 'وجود': 57, 'مخلص': 29, 'عاطف': 121, 'الان': 82, 'نادر': 18, 'لايملك': 24, 'متسول': 21, 'حريه': 19, 'غالي': 49, 'منطق': 19, 'لافكر': 2, 'ساذج': 7, 'جوز': 128, 'لابس': 71, 'نزل': 24, 'لاتنزل': 2, 'منشور': 43, 'اغبيه': 40, 'مشترك': 100, 'حكم': 24, 'سيئ': 109, 'انتقم': 51, 'قاعد': 8, 'تخبص': 61, 'رايح': 9, 'دمر': 24, 'وحيد': 49, 'قرب': 108, 'ذكر': 46, 'حلال': 11, 'دخول': 57, 'اهدي': 108, 'اضل': 91, 'مشرق': 39, 'بكاء': 125, 'صوت': 39, 'اكسجين': 39, 'صدر': 39, 'شاكر': 121, 'مكر': 12, 'منقطع': 55, 'نصر': 121, 'مبين': 112, 'عطا': 121, 'يها': 94, 'سراء': 2, 'ضراء': 12, 'كفل': 24, 'نضوج': 76, 'اسلم': 111, 'هدايه': 12, 'حمدله': 2, 'تنوع': 0, 'مفهوم': 19, 'طهور': 64, 'شاء': 104, 'وماتشوف': 104, 'عافيه': 64, 'قدام': 53, 'قائم': 55, 'انس': 94, 'اتذل': 2, 'ضيق': 125, 'مستوا': 87, 'فتن': 12, 'اسجد': 4, 'خاشع': 64, 'مداوم': 9, 'سواء': 110, 'مستمر': 82, 'صلاه': 88, 'صافي': 94, 'خشوع': 64, 'فائق': 121, 'مهم': 18, 'سجود': 64, 'ركوع': 12, 'تاليه': 94, 'قارئ': 43, 'مرحله': 54, 'اطال': 104, 'تدبر': 64, 'فاعل': 70, 'مكن': 94, 'ودع': 108, 'اسلوب': 19, 'ضائق': 64, 'بيئه': 87, 'عبار': 2, 'تشوه': 110, 'منتشره': 60, 'كلف': 89, 'خلقيه': 2, 'شديد': 55, 'يابان': 2, 'لستخدام': 2, 'تكنولوجيا': 38, 'جزر': 96, 'متقدمه': 60, 'ماء': 39, 'حاج': 94, 'لاحظ': 101, 'مالي': 67, 'اذكر': 31, 'تطور': 0, 'مخاطر': 38, 'تهذيب': 76, 'مجموع': 47, 'انتقاء': 57, 'احترام': 87, 'حياء': 12, 'مظهر': 87, 'فاضي': 9, 'معامله': 87, 'تغير': 0, 'ابس': 94, 'جاكيت': 71, 'راجل': 28, 'ثوب': 71, 'مسطول': 21, 'سودان': 2, 'تفداك': 108, 'مال': 94, 'زعل': 105, 'جهاد': 122, 'سعي': 94, 'وقاح': 2, 'سكر': 128, 'مسب': 2, 'سهر': 79, 'اختار': 34, 'سجن': 23, 'بستاهل': 61, 'نائب': 10, 'اسمو': 86, 'ياس': 125, 'فرج': 64, 'انتظر': 34, 'انتحر': 111, 'نفسيه': 22, 'ساخر': 55, 'ضغط': 22, 'بديل': 29, 'عالحكام': 2, 'ظاهر': 55, 'يستهبلون': 68, 'مغطي': 71, 'فلع': 2, 'تجي': 80, 'مقفله': 102, 'تافه': 18, 'روحو': 40, 'موتو': 11, 'ياناس': 41, 'اغبياء': 122, 'ثبط': 2, 'عجوز': 21, 'معطي': 29, 'حظر': 38, 'شغل': 85, 'بتاع': 28, 'متطلب': 2, 'اكن': 34, 'ازق': 74, 'نضن': 2, 'عرق': 71, 'وصل': 89, 'فلسطيني': 100, 'تجاوز': 58, 'وفق': 51, 'تصنيف': 87, 'وطن': 79, 'عشير': 94, 'عنصريه': 26, 'توقف': 102, 'خنزير': 21, 'جنس': 12, 'كحول': 128, 'ياكل': 25, 'لحم': 128, 'شرب': 128, 'عاهر': 70, 'مفكه': 2, 'مرحل': 2, 'هواء': 39, 'يطلعو': 40, 'مشارك': 129, 'فرز': 57, 'بدايه': 82, 'غلط': 123, 'متاعب': 125, 'تكلم': 102, 'ذاق': 25, 'غموض': 76, 'مبروك': 129, 'ظفير': 2, 'عسكريه': 26, 'ملكيه': 26, 'غلابه': 40, 'فاتح': 29, 'رسوب': 2, 'فلاكا': 2, 'امريكي': 100, 'زومبي': 85, 'اعتقد': 101, 'تناول': 82, 'يبدا': 89, 'بحث': 43, 'بشر': 122, 'هابط': 55, 'قتل': 23, 'العوب': 2, 'نصيحه': 76, 'قدوه': 87, 'يسير': 24, 'نور': 39, 'ظالم': 70, 'كرامه': 87, 'تنطاق': 61, 'افراح': 125, 'صديق': 29, 'احباب': 79, 'حسد': 12, 'احفظ': 51, 'كيد': 12, 'ثبت': 124, 'هيدا': 86, 'اشجع': 34, 'احلا': 78, 'دابتن': 2, 'مصر': 96, 'حتي': 8, 'انسانيه': 26, 'طبي': 100, 'اقتصر': 24, 'مساعد': 35, 'سور': 38, 'شنط': 119, 'غذايه': 2, 'صحابه': 122, 'قوه': 76, 'مستعان': 2, 'حيك': 11, 'نشمي': 35, 'هالشباب': 61, 'اعي': 31, 'رانا': 40, 'تراحم': 2, 'تواد': 2, 'عائله': 96, 'دافيه': 60, 'ذريه': 2, 'بطل': 129, 'نسر': 129, 'عبد': 27, 'مسكين': 21, 'مكان': 103, 'اخره': 28, 'تلقو': 2, 'مفلس': 7, 'اخوان': 122, 'محد': 53, 'برد': 39, 'حلوه': 60, 'دابوق': 2, 'منعم': 121, 'كيل': 94, 'دير': 119, 'غبار': 39, 'زمن': 19, 'ياريت': 8, 'عرفتني': 61, 'ايام': 54, 'تقبل': 104, 'ينور': 104, 'كمان': 123, 'هالحركه': 41, 'امك': 21, 'نار': 39, 'مخرب': 74, 'مريضه': 22, 'يعطيكي': 104, 'يخزيك': 104, 'سلط': 24, 'طفيلي': 2, 'يخزيكم': 2, 'كركي': 2, 'فقر': 12, 'متسلق': 70, 'ياشعبنا': 2, 'حراميه': 122, 'قوت': 108, 'مشتهي': 41, 'اسرع': 126, 'جهنم': 12, 'قذافي': 122, 'يزيدك': 104, 'انتفع': 4, 'يسامحك': 104, 'ستر': 12, 'يسعدك': 104, 'داء': 94, 'وكيل': 10, 'هام': 18, 'سيد': 121, 'يشافيك': 104, 'يصبحك': 104, 'متحاب': 2, 'فضح': 24, 'هالسخافه': 61, 'فضحتونا': 11, 'يكتر': 104, 'امثال': 122, 'عون': 1, 'طبق': 128, 'متوسط': 47, 'انحدر': 108, 'متخلف': 7, 'يلعنك': 11, 'زبي': 41, 'يلعنكم': 11, 'تفو': 11, 'احتاج': 67, 'حمز': 2, 'اعوان': 122, 'منصور': 121, 'اجمع': 108, 'بالي': 103, 'ضال': 70, 'تائه': 29, 'ابعث': 4, 'جديد': 100, 'فاز': 24, 'اغفر': 63, 'مومن': 2, 'مكرم': 121, 'نافع': 55, 'اعمال': 38, 'قنا': 28, 'اشتياق': 79, 'حجاره': 122, 'تواب': 105, 'وقود': 38, 'عابد': 121, 'اسباب': 19, 'الام': 119, 'تمتع': 97, 'زهور': 39, 'رحمن': 64, 'ريحان': 75, 'نعيم': 64, 'ارزق': 51, 'اراد': 89, 'ذري': 94, 'اجعلني': 48, 'مقيم': 29, 'تشرف': 0, 'اوق': 94, 'طاع': 105, 'احفظني': 45, 'احي': 94, 'طاهر': 121, 'اذق': 51, 'ازواج': 128, 'ارزقنا': 48, 'ابتلاء': 12, 'رخاء': 64, 'صحب': 94, 'طلب': 16, 'عفو': 106, 'خاتم': 71, 'تغنا': 2, 'منكر': 12, 'اياكي': 61, 'هندي': 21, 'عليكي': 28, 'بغاث': 2, 'تسلميلي': 104, 'فردوس': 1, 'اياك': 69, 'يقربني': 4, 'اجتناب': 2, 'باطل': 12, 'ارنا': 51, 'اتباع': 122, 'اذلو': 2, 'صنع': 89, 'عجيب': 18, 'استخدم': 34, 'استرنا': 51, 'اسمع': 111, 'صلح': 89, 'اصلح': 51, 'نحرج': 2, 'توب': 119, 'خالص': 123, 'اعز': 126, 'اعصم': 2, 'صغير': 98, 'شكر': 104, 'اعني': 124, 'ادخل': 111, 'سالم': 35, 'وسع': 64, 'اغنا': 2, 'عمن': 4, 'هليوبوليس': 2, 'مسجد': 38, 'دكتور': 121, 'اغني': 115, 'اكفني': 51, 'ضاله': 122, 'امليء': 2, 'بعيد': 49, 'صبري': 105, 'مبارك': 121, 'شكا': 105, 'ضعف': 58, 'نفاق': 12, 'رئاء': 2, 'غضب': 12, 'انر': 20, 'ايقظ': 108, 'انزع': 51, 'انصر': 51, 'اعف': 64, 'اقسم': 120, 'انعم': 51, 'طارق': 35, 'تنور': 102, 'طويه': 2, 'كرم': 121, 'نيه': 76, 'غفر': 6, 'ترحمني': 105, 'اتوب': 42, 'ذنب': 12, 'عجل': 51, 'عافي': 64, 'حبس': 23, 'اهد': 108, 'صراط': 1, 'مستقيم': 55, 'رضي': 46, 'ثابت': 98, 'رمضان': 119, 'قيام': 88, 'حنيف': 35, 'مقلب': 129, 'باطن': 64, 'زيد': 35, 'السان': 2, 'نظاف': 94, 'زين': 41, 'قني': 92, 'ادخلني': 51, 'عذاب': 116, 'جاني': 80, 'قرار': 10, 'عزيم': 2, 'ضعيفه': 60, 'قون': 2, 'رازق': 44, 'اعتراض': 12, 'سلطان': 35, 'منافق': 70, 'طرف': 110, 'كال': 119, 'ياربي': 61, 'شريك': 62, 'قوي': 98, 'خيبه': 125, 'جهر': 105, 'دفء': 64, 'مستضعف': 2, 'هون': 61, 'شتاء': 39, 'والد': 121, 'واغفرلنا': 2, 'مجيب': 106, 'تمام': 123, 'محول': 38, 'محاول': 2, 'استخفاف': 12, 'عدول': 2, 'موظف': 10, 'حكوميه': 26, 'خاص': 100, 'لازم': 8, 'دبه': 41, 'لفت': 110, 'انتباه': 110, 'جريم': 94, 'كلو': 86, 'مراه': 76, 'تمنو': 2, 'مصياف': 2, 'مسيار': 16, 'عديد': 110, 'مسفار': 2, 'تهان': 122, 'جنسي': 100, 'عور': 108, 'مسلسل': 52, 'تصرف': 87, 'فطن': 29, 'اتبع': 34, 'بينو': 61, 'حمير': 122, 'قايمين': 40, 'جورج': 121, 'اغاني': 83, 'تقنع': 31, 'حمام': 128, 'صعب': 18, 'بالغ': 55, 'بريء': 70, 'عربيه': 26, 'مغرب': 39, 'ملح': 128, 'ادويه': 22, 'حلق': 71, 'مفعول': 128, 'التهاب': 22, 'هجوم': 23, 'ماكان': 53, 'هجومي': 84, 'منتخب': 84, 'غسل': 71, 'ناصح': 70, 'اخوه': 122, 'محبه': 76, 'رمز': 87, 'مواساه': 76, 'ضرر': 12, 'اسف': 29, 'تبريد': 38, 'فائده': 19, 'موم': 94, 'بناء': 57, 'نظافه': 38, 'يان': 94, 'مصد': 105, 'عقلاني': 55, 'نقاش': 32, 'اقتنع': 101, 'والي': 53, 'تفل': 102, 'موجود': 29, 'معين': 55, 'وسط': 110, 'لايتركني': 2, 'وفاء': 76, 'معدوم': 98, 'بشار': 122, 'ميدان': 38, 'تخلص': 102, 'تحرير': 57, 'مفتوح': 29, 'افساد': 57, 'اعتصام': 32, 'مصير': 87, 'قارن': 0, 'ماتو': 40, 'استحو': 11, 'ينعمل': 61, 'شايفو': 61, 'خدم': 122, 'سواد': 39, 'يستعن': 2, 'ياوي': 108, 'تطوير': 57, 'مبدا': 19, 'غبي': 7, 'ابقار': 2, 'غصب': 8, 'حرج': 12, 'وهابي': 70, 'احتار': 108, 'عدو': 70, 'ولاد': 28, 'عبق': 39, 'رئتيك': 39, 'اهتز': 108, 'املا': 4, 'احتفل': 97, 'نهار': 39, 'امو': 21, 'رويد': 2, 'فيج': 41, 'سمح': 104, 'اضاف': 89, 'استزاده': 2, 'اقدر': 67, 'التزام': 57, 'طموح': 87, 'غرس': 108, 'اخفي': 34, 'اعتنق': 108, 'وجب': 24, 'قدير': 3, 'محسن': 121, 'اجر': 88, 'متين': 98, 'رزاق': 129, 'راشد': 35, 'واعد': 2, 'كاسر': 49, 'تحدي': 129, 'مشوار': 47, 'هنكمل': 28, 'جابي': 2, 'كاتب': 112, 'معصي': 11, 'اخدت': 28, 'غلا': 79, 'مشهد': 52, 'ايش': 53, 'مقز': 2, 'اشوف': 14, 'هاض': 61, 'مليون': 100, 'وحيده': 60, 'حديد': 71, 'كنه': 80, 'انجنيت': 61, 'قصير': 98, 'لايكذب': 2, 'انصح': 97, 'بتمنالهم': 2, 'اتحرك': 111, 'كره': 84, 'توجيهي': 47, 'رسب': 24, 'جامع': 121, 'وزير': 10, 'حاس': 101, 'عامر': 121, 'ساكت': 9, 'سائل': 105, 'فرحان': 9, 'هالقرف': 61, 'هالحياه': 103, 'مستقبلي': 103, 'خصوص': 2, 'نظيفه': 60, 'افتقر': 4, 'مبلغ': 16, 'سبيل': 1, 'اكتر': 123, 'اخد': 111, 'اوي': 123, 'سعاد': 121, 'حاول': 69, 'انفذ': 34, 'اصلي': 111, 'ارسم': 14, 'احلم': 97, 'ماعندهم': 33, 'بنان': 119, 'نهائي': 84, 'هالبلد': 61, 'راجع': 29, 'راغب': 121, 'اروح': 115, 'افعال': 76, 'اغيب': 115, 'لهالدرجه': 41, 'يجون': 68, 'هذولي': 68, 'متاكد': 101, 'مهابيل': 68, 'مدفوعلهم': 2, 'علشان': 8, 'لانو': 86, 'متشائم': 55, 'اشحد': 2, 'مصاري': 86, 'مسؤول': 10, 'بهالموضوع': 61, 'افرح': 4, 'انبسط': 111, 'انعل': 11, 'ملحد': 7, 'ساقط': 7, 'عقد': 82, 'اوروبيه': 26, 'شفت': 80, 'نقص': 58, 'لاوي': 94, 'الامريكيه': 113, 'حنا': 68, 'ماليزيه': 2, 'نسخ': 43, 'جوعان': 9, 'شوكولات': 2, 'حقير': 7, 'عنجد': 86, 'تستا': 2, 'جزم': 122, 'زار': 89, 'مين': 53, 'انتخب': 24, 'اهبل': 7, 'ناقص': 74, 'رئيس': 10, 'جمهوري': 10, 'لبخ': 2, 'معتش': 28, 'عميل': 70, 'عارف': 112, 'خون': 94, 'لاعندكم': 2, 'جيش': 122, 'قطري': 100, 'سياسه': 26, 'استراتجيه': 2, 'اخلاقي': 55, 'قدو': 61, 'عاديه': 60, 'اتمني': 56, 'وقح': 7, 'سافل': 7, 'انتو': 40, 'مصحف': 43, 'انتي': 53, 'اندهش': 2, 'غريب': 18, 'الطف': 51, 'راضي': 49, 'هنعمل': 28, 'تفتخرو': 2, 'ضرب': 23, 'اتخلص': 34, 'انشال': 61, 'اتصير': 102, 'فاصلحو': 2, 'بعث': 89, 'اتم': 2, 'عاش': 118, 'كوم': 129, 'رجفه': 79, 'قلق': 22, 'عسر': 125, 'محب': 29, 'قمل': 71, 'ياشويه': 122, 'نسيان': 76, 'يابو': 11, 'سهل': 18, 'مبسوط': 9, 'خارجي': 100, 'واسطه': 16, 'اهم': 78, 'مارض': 2, 'منديل': 71, 'اوسخ': 126, 'باعو': 40, 'اوغاد': 122, 'حفاظ': 2, 'قرد': 21, 'هادي': 121, 'احسلك': 11, 'تشائم': 2, 'زلم': 11, 'ازدهار': 38, 'تقدم': 89, 'رفض': 89, 'شراع': 39, 'ايس': 128, 'مفكر': 7, 'مخترع': 129, 'احساس': 79, 'هبل': 85, 'ياحرام': 61, 'سلك': 71, 'صغر': 58, 'ايوه': 28, 'بترفعو': 2, 'باد': 129, 'بارد': 98, 'مصقع': 2, 'نضال': 121, 'فدعولي': 2, 'مزيد': 82, 'بدناش': 61, 'سكت': 105, 'فين': 28, 'اناقه': 76, 'انكر': 34, 'قدوم': 82, 'انفس': 2, 'الم': 79, 'اشكال': 54, 'توقع': 0, 'اهالي': 38, 'هذول': 68, 'كارهينهم': 2, 'راي': 87, 'مناسب': 18, 'مؤدب': 7, 'مالكيش': 28, 'ياخد': 28, 'نشر': 57, 'شرح': 57, 'توصل': 102, 'طول': 123, 'فروج': 2, 'صديد': 2, 'اوباش': 122, 'مومس': 2, 'زبانيه': 122, 'صراحه': 41, 'تنتظرك': 102, 'نشحد': 2, 'دكو': 2, 'بدي': 86, 'هدف': 84, 'هدم': 57, 'سخيف': 18, 'مزان': 2, 'مروح': 9, 'محط': 110, 'برلمان': 10, 'الماني': 100, 'تخلي': 102, 'اغلبي': 61, 'قديم': 18, 'معوق': 7, 'مصالح': 26, 'ورا': 53, 'حاكم': 10, 'ذوق': 94, 'يسامحكم': 104, 'بصحتكم': 2, 'يبون': 68, 'قاهرني': 74, 'نطق': 108, 'هالصبح': 61, 'قياد': 2, 'عسل': 128, 'تراب': 39, 'سنح': 2, 'سعد': 35, 'اسافر': 5, 'سفر': 16, 'جواز': 16, 'ابطل': 14, 'فيزا': 16, 'عاساس': 61, 'احن': 81, 'غزالي': 121, 'راقي': 18, 'اديب': 121, 'التزم': 0, 'تاني': 123, 'ارجع': 115, 'جعتني': 2, 'استبشر': 4, 'عيش': 128, 'تفاؤل': 76, 'نفط': 38, 'زيتي': 71, 'اشتغلو': 40, 'صخر': 71, 'بحر': 39, 'تراجع': 58, 'صيد': 128, 'مليان': 98, 'مطر': 39, 'تعديل': 57, 'مزاج': 76, 'باع': 25, 'يالسامج': 2, 'هان': 105, 'امال': 28, 'مضني': 2, 'زيك': 123, 'حقود': 70, 'سامح': 105, 'كاذب': 70, 'كتاب': 43, 'يضحكو': 40, 'بكره': 123, 'رايق': 9, 'خليك': 28, 'وجع': 79, 'مقطع': 52, 'سقال': 2, 'موطبيعيه': 61, 'تعلق': 0, 'تصور': 102, 'خاطئ': 55, 'خطير': 18, 'بور': 119, 'جهد': 76, 'اناملك': 2, 'بياع': 128, 'شرف': 87, 'بيجيبو': 40, 'زناخه': 61, 'صدور': 108, 'اهميه': 19, 'جوال': 43, 'اقتراب': 82, 'تابع': 43, 'تايم': 119, 'مثقف': 7, 'تغريد': 43, 'لاين': 43, 'تبارك': 104, 'يارحم': 51, 'دكر': 28, 'ياربن': 2, 'مدخن': 21, 'تقنعونا': 2, 'تحطم': 102, 'اطيافي': 2, 'تحي': 94, 'غاليه': 60, 'مشكلتو': 2, 'نذاله': 85, 'سوري': 100, 'تخسا': 2, 'جماع': 2, 'تعدب': 2, 'كتب': 89, 'نظير': 87, 'نظام': 38, 'قطاع': 38, 'ترتيب': 57, 'سوالف': 85, 'اعلم': 31, 'اردني': 100, 'وطنيه': 26, 'افكار': 54, 'صرماي': 2, 'شيئ': 103, 'مفجوع': 61, 'رقص': 119, 'متقرفه': 2, 'طلق': 23, 'تفه': 61, 'نشهر': 2, 'ترله': 2, 'انحولت': 61, 'اغنيه': 83, 'بروز': 58, 'تكالب': 24, 'تليفيزيون': 2, 'سيء': 109, 'غاي': 94, 'شام': 119, 'صاير': 74, 'تويتر': 43, 'تيس': 21, 'مابفهم': 2, 'ثكل': 2, 'جابو': 40, 'ايرد': 61, 'ويب': 129, 'خزي': 77, 'ياستاذ': 121, 'ماتبثه': 2, 'شيق': 18, 'سائر': 64, 'وهاب': 121, 'ثوره': 26, 'اقولك': 111, 'سلف': 61, 'اشعل': 108, 'جسم': 71, 'عاري': 98, 'تعجب': 0, 'رقي': 76, 'صفحه': 43, 'اصدقائك': 69, 'انضم': 89, 'نسعد': 4, 'جمهور': 59, 'مجرده': 110, 'باس': 4, 'حلب': 96, 'مستعصي': 2, 'استطاع': 89, 'زبال': 122, 'حاوي': 121, 'مغير': 41, 'مدريد': 84, 'مان': 129, 'ستايل': 119, 'مقلد': 129, 'منيح': 86, 'نحل': 61, 'منعمل': 61, 'صايع': 7, 'حثال': 94, 'انظف': 111, 'حثاله': 122, 'سخريه': 76, 'حمل': 108, 'بقر': 122, 'تولد': 0, 'كانو': 40, 'يصارخ': 41, 'ملعب': 84, 'مشجع': 59, 'ماتشوفه': 61, 'هالموقف': 41, 'حزن': 125, 'شنع': 2, 'مصيب': 94, 'ريس': 28, 'حرك': 108, 'ارحمينا': 61, 'ايزي': 119, 'يشيلك': 61, 'ابوكي': 28, 'اخوكي': 28, 'تجويع': 2, 'مجلس': 10, 'طفح': 108, 'وزاري': 10, 'منصب': 87, 'خيالي': 103, 'مواطن': 10, 'حاسب': 29, 'سلب': 108, 'ينفتن': 61, 'مفتري': 70, 'حسي': 94, 'تمثيل': 87, 'بريئه': 60, 'حطم': 108, 'احلامي': 103, 'تسميع': 47, 'ساعد': 24, 'مزبوط': 86, 'منح': 57, 'فراغ': 125, 'حقيق': 94, 'نجمد': 2, 'حكي': 79, 'دعار': 2, 'حلم': 103, 'سوشي': 128, 'دراسه': 47, 'ضروري': 8, 'عزيز': 70, 'عرطه': 2, 'متواكل': 2, 'تيقن': 4, 'حاسد': 73, 'ابتسم': 81, 'نكد': 85, 'انتصار': 87, 'نجح': 89, 'يموتك': 61, 'حيوان': 21, 'خبار': 61, 'موت': 79, 'ختام': 82, 'عمق': 76, 'خبل': 7, 'اتغير': 34, 'ياكلب': 11, 'خراي': 2, 'علوي': 121, 'خسار': 2, 'طاوع': 105, 'خسئو': 2, 'خسئ': 2, 'خفي': 105, 'صرع': 22, 'مانسمع': 40, 'ناعم': 98, 'رغم': 101, 'مكتئب': 9, 'مشي': 105, 'وطني': 87, 'انتماء': 87, 'شارع': 38, 'فني': 100, 'ضحكو': 40, 'صاري': 61, 'حيويه': 60, 'نشاط': 38, 'دخيل': 104, 'يادكتور': 11, 'درب': 94, 'ثقتا': 2, 'لايخيب': 4, 'زدني': 124, 'ماشاء': 104, 'فلاح': 35, 'توفيق': 121, 'سلمان': 35, 'ظفر': 24, 'اخا': 1, 'برق': 39, 'اخي': 121, 'دلوع': 21, 'دمرني': 108, 'نصاني': 2, 'ملهاش': 117, 'اجمل': 78, 'استعظم': 2, 'ناديتوا': 2, 'تلاقي': 102, 'هتلاقيه': 28, 'ندي': 119, 'اطعم': 108, 'اومكروب': 2, 'حزين': 49, 'تستهن': 0, 'نام': 105, 'جائع': 70, 'ريق': 94, 'احوال': 2, 'ارجوكم': 2, 'ادعولنا': 28, 'يعزك': 105, 'يباركلك': 104, 'تاب': 105, 'متاسلمين': 122, 'يعنا': 2, 'عفا': 46, 'ايمان': 121, 'غافل': 49, 'ياشيخ': 11, 'ربنايحفظك': 2, 'اتشجعي': 2, 'خوذي': 102, 'يزيدن': 2, 'ياخي': 41, 'احزن': 4, 'يهديهن': 61, 'نسي': 25, 'رجعتولنا': 2, 'اجتهد': 24, 'قرده': 122, 'عرس': 119, 'داعي': 19, 'صدوق': 94, 'واسع': 64, 'فسيح': 64, 'اسكن': 5, 'ربا': 4, 'اسلام': 121, 'ياجبان': 11, 'خوف': 125, 'فصل': 47, 'مقر': 38, 'عاقب': 36, 'فضيح': 2, 'طوال': 82, 'تربيه': 87, 'اجابه': 76, 'ركز': 102, 'رهيب': 18, 'تمسخر': 61, 'تهبل': 119, 'روع': 94, 'انصرف': 24, 'خاب': 105, 'جحش': 122, 'خلفتو': 2, 'انيس': 121, 'مشتق': 2, 'حليب': 128, 'رهف': 119, 'معاتيه': 122, 'مطرب': 129, 'تراث': 87, 'غنو': 40, 'زنخ': 61, 'خرف': 61, 'زهايمر': 22, 'كبتاجون': 128, 'ساتر': 61, 'بيحبوك': 40, 'تحبك': 102, 'تاخذك': 102, 'استغل': 34, 'ريح': 39, 'غشاش': 11, 'سال': 25, 'مكلف': 55, 'حكولي': 61, 'طمانينه': 64, 'يقين': 101, 'الدود': 128, 'جوف': 64, 'مداد': 64, 'عرش': 39, 'خالق': 64, 'قادر': 8, 'مالك': 33, 'موقف': 87, 'ضالم': 61, 'عامل': 112, 'انساني': 55, 'معمل': 38, 'مخيم': 38, 'حصر': 57, 'مطلوب': 100, 'صبايا': 119, 'نفع': 105, 'ماتحوي': 2, 'يمسخرون': 2, 'استمتاع': 76, 'سعادتنا': 125, 'حصل': 89, 'استغناء': 22, 'اشياء': 54, 'طبتم': 1, 'طاب': 105, 'نصيب': 94, 'امري': 107, 'رسم': 57, 'يمنا': 61, 'سلي': 105, 'زحزح': 2, 'شقاء': 125, 'حوا': 119, 'فوز': 84, 'معا': 110, 'نشاطر': 2, 'شهيد': 70, 'سطار': 2, 'بلاش': 28, 'طقاع': 11, 'زبير': 121, 'هاذي': 41, 'مؤامر': 2, 'مؤامره': 26, 'شنيعه': 60, 'محزن': 18, 'تحرش': 12, 'كرنيش': 2, 'شاهد': 64, 'جماعي': 100, 'عقلي': 103, 'ملاقي': 61, 'شخصي': 55, 'اطفل': 2, 'شردو': 2, 'تعدي': 102, 'تاع': 119, 'انفصام': 22, 'زهق': 85, 'مشغول': 9, 'شذا': 119, 'كيك': 128, 'فكلماتك': 2, 'اثراء': 57, 'معلومه': 43, 'معرفي': 121, 'راقيه': 60, 'نجم': 129, 'احول': 111, 'موب': 53, 'مدرسه': 47, 'متاخر': 123, 'شكلو': 86, 'كامرا': 119, 'ماشاف': 25, 'تصورو': 61, 'عرمه': 2, 'نجو': 61, 'سالف': 94, 'شنو': 53, 'ازنخك': 2, 'ماد': 61, 'جني': 41, 'هعهعه': 2, 'تدني': 58, 'عاجبك': 74, 'نخو': 2, 'يزم': 86, 'طير': 39, 'نوع': 19, 'عرضوه': 61, 'معقول': 74, 'وسخ': 7, 'هالافكار': 61, 'جهنميه': 60, 'فضحتنا': 11, 'هالغباء': 61, 'هالمنشور': 2, 'دلع': 61, 'راكي': 119, 'احكي': 115, 'مؤكد': 55, 'مؤسف': 18, 'فنان': 129, 'طار': 80, 'شحن': 16, 'عناد': 85, 'ظلموها': 2, 'محيا': 94, 'احبتي': 64, 'مرسوم': 38, 'اماني': 125, 'محقه': 2, 'امتحان': 47, 'تفكر': 31, 'سكينه': 64, 'تشعرني': 101, 'بلبل': 129, 'الحن': 94, 'شادي': 121, 'الياس': 125, 'اقول': 115, 'بركات': 121, 'ياسمين': 119, 'زنبق': 2, 'عامره': 60, 'تسامح': 69, 'عطر': 39, 'قشطه': 28, 'سرور': 121, 'منثور': 39, 'صبوح': 2, 'جوري': 119, 'خمري': 39, 'عرفان': 121, 'ملء': 64, 'مسر': 28, 'ملوء': 2, 'انوار': 39, 'يقظه': 76, 'متوثبه': 2, 'نقاء': 64, 'عنبر': 121, 'مسك': 71, 'مهلوك': 61, 'جليل': 70, 'معطر': 39, 'سوء': 109, 'متجد': 2, 'شروق': 39, 'مقبول': 55, 'يملا': 108, 'ياحبيب': 108, 'شوق': 79, 'رخيص': 18, 'تلفزيون': 43, 'عقار': 38, 'ياهل': 11, 'عشيه': 38, 'ضحا': 61, 'نرتاح': 40, 'منكذبش': 2, 'اتفاق': 32, 'توليع': 2, 'نفطيه': 26, 'تعبير': 19, 'هالشغله': 41, 'ناخد': 40, 'معبر': 38, 'اكتفاء': 76, 'قناعه': 101, 'صراح': 2, 'اراده': 76, 'مجامل': 94, 'متصاعد': 2, 'العالميه': 113, 'صراع': 32, 'هيمن': 2, 'المنيوم': 128, 'سوق': 38, 'جدار': 39, 'اهلك': 61, 'صرماتي': 2, 'وحش': 74, 'تعبان': 9, 'منبح': 2, 'بعير': 21, 'مصدق': 112, 'حافظ': 24, 'امني': 10, 'سجد': 105, 'انسا': 4, 'تاكد': 101, 'ازنخ': 61, 'ضيع': 25, 'دقايق': 54, 'توجه': 57, 'تخيل': 102, 'محدش': 117, 'واقع': 103, 'اختراع': 43, 'تكبر': 102, 'سجل': 89, 'ابنائ': 2, 'روسيا': 96, 'يئس': 17, 'اخس': 126, 'فات': 105, 'تحقيق': 57, 'يدفه': 2, 'يقولن': 61, 'خافي': 105, 'شاه': 121, 'ياسلام': 11, 'جاه': 80, 'انفاسك': 39, 'متاز': 2, 'احبو': 34, 'قصر': 38, 'عاوز': 8, 'كويس': 123, 'ماكن': 94, 'حساب': 43, 'دفع': 57, 'اتعودنا': 40, 'محنا': 40, 'سما': 39, 'بيشغلو': 2, 'غناء': 121, 'عهد': 87, 'يغنو': 40, 'ياعرب': 11, 'انار': 64, 'تبين': 102, 'سعوده': 16, 'دراس': 94, 'اوم': 41, 'قسم': 41, 'سامج': 74, 'هالادمي': 41, 'عذب': 108, 'عرب': 122, 'فجور': 12, 'عطل': 38, 'مدرس': 47, 'قرفني': 61, 'معد': 41, 'بيج': 119, 'فنجان': 128, 'عفكره': 86, 'امرا': 4, 'معلق': 74, 'هدول': 40, 'خروف': 21, 'تضرع': 4, 'فرو': 71, 'لبس': 71, 'عمد': 12, 'استعمل': 34, 'تدفئه': 2, 'عمرتنا': 2, 'ميز': 108, 'سرير': 71, 'ورط': 24, 'ازياء': 119, 'افتعل': 2, 'انتكاس': 2, 'مدرسي': 100, 'ازمه': 32, 'حرق': 23, 'قدم': 89, 'مبالي': 55, 'مباشر': 43, 'صابر': 49, 'قائل': 24, 'يعلقو': 40, 'جاهل': 7, 'تباكي': 2, 'لطم': 12, 'عاقل': 7, 'متجاهل': 55, 'مغفل': 7, 'عيب': 11, 'ماتستحي': 11, 'سادات': 122, 'غباك': 2, 'بتشبهو': 2, 'نتمني': 56, 'نتحمل': 40, 'عوضي': 61, 'فاجعل': 51, 'بيئ': 2, 'اظفر': 2, 'ترب': 94, 'فاقد': 29, 'اصراري': 2, 'مسار': 38, 'توحيد': 57, 'فارق': 49, 'اهجر': 34, 'جسد': 39, 'استعراض': 57, 'فدم': 1, 'نحرق': 40, 'شلو': 61, 'دلوخ': 68, 'مخمج': 2, 'طست': 2, 'شايب': 21, 'دلك': 61, 'مشمس': 39, 'عالطول': 28, 'يستحوا': 2, 'زكر': 2, 'سماع': 58, 'ولاتشغل': 2, 'مهزل': 2, 'صوتي': 115, 'فضايح': 85, 'بدني': 2, 'عجز': 108, 'وبل': 39, 'شيع': 2, 'انكار': 57, 'اخبر': 31, 'ناديتو': 2, 'جايز': 8, 'جمبك': 123, 'اختبار': 47, 'وثخه': 28, 'فيديو': 52, 'فيروس': 22, 'بشري': 119, 'ياخنزير': 11, 'قبح': 12, 'انقلع': 11, 'زاني': 94, 'شوهاد': 2, 'يعيع': 2, 'يقرف': 74, 'يقرفك': 104, 'سار': 89, 'قصد': 12, 'تفاه': 94, 'اخذا': 2, 'تمسك': 102, 'عكس': 110, 'عقيد': 10, 'عبر': 57, 'موده': 12, 'افاد': 89, 'خضار': 128, 'قلول': 2, 'بلاغ': 10, 'انحطاط': 87, 'قهروني': 61, 'متشلش': 61, 'امحي': 34, 'اهديني': 108, 'ياقلبي': 61, 'ياله': 61, 'معصيه': 46, 'كارث': 2, 'ملعون': 11, 'يتاثر': 0, 'خشن': 98, 'اموات': 122, 'لون': 71, 'اجن': 34, 'شيطان': 70, 'راوند': 119, 'جاهلي': 2, 'محترم': 7, 'اعترف': 101, 'تسوي': 102, 'خرفان': 122, 'عيد': 119, 'مسلخ': 38, 'احذر': 69, 'كباب': 128, 'كتكوت': 21, 'ضعيف': 7, 'جناح': 39, 'يتحق': 2, 'سراب': 103, 'اودني': 2, 'ازم': 94, 'جغرافي': 55, 'نازح': 122, 'لاجئ': 100, 'تاريخ': 87, 'يابقايا': 2, 'يابهايم': 2, 'يالعرب': 61, 'كسم': 28, 'شرموط': 28, 'عته': 2, 'كسب': 24, 'مستحيل': 8, 'تاق': 43, 'اجنبه': 2, 'صيام': 88, 'يتناغم': 2, 'بهالدنيا': 61, 'بهالحياه': 61, 'ساعي': 29, 'شتغل': 2, 'همو': 61, 'تحليل': 57, 'ماس': 119, 'استقراء': 2, 'رقمي': 41, 'توثيق': 57, 'يصدم': 110, 'مخزي': 55, 'مجهول': 55, 'اعلام': 26, 'تخدعونا': 2, 'رفق': 94, 'معني': 19, 'بليغ': 121, 'سليم': 121, 'مجتمع': 87, 'مفتوحه': 60, 'جدل': 32, 'يمدني': 4, 'واطي': 7, 'يكونو': 40, 'جيت': 115, 'اقؤل': 2, 'متعبتنا': 2, 'انتصر': 24, 'مستخدم': 43, 'مستق': 2, 'مكسر': 71, 'صانع': 129, 'فاجر': 70, 'معندهمش': 117, 'دجل': 12, 'ايجابي': 55, 'حامي': 122, 'مفتي': 10, 'حير': 108, 'حيران': 39, 'حليم': 70, 'اخادع': 2, 'خدعتني': 2, 'موسوس': 61, 'احب': 34, 'بصر': 94, 'اجتمع': 89, 'اشتراكيه': 26, 'مختلط': 55, 'راسماليه': 26, 'قلو': 86, 'بيض': 104, 'فارط': 2, 'حجاب': 12, 'تهاون': 12, 'ملفت': 18, 'بدا': 89, 'فطر': 24, 'احمق': 70, 'تظاهر': 0, 'فاني': 4, 'دنا': 105, 'متقلب': 98, 'عصي': 24, 'هلاك': 108, 'مشرف': 100, 'تياس': 4, 'اوهب': 2, 'اوجب': 24, 'منخفض': 98, 'ذكاء': 76, 'كلكو': 28, 'تقرب': 102, 'غرام': 79, 'رام': 94, 'عاهره': 122, 'اغتصاب': 23, 'فاهماك': 61, 'واري': 108, 'نصب': 12, 'صوب': 39, 'هديل': 119, 'شبشب': 71, 'شوز': 119, 'مطلق': 35, 'محكم': 2, 'مظلومه': 60, 'ياعزيزتي': 2, 'هدوء': 125, 'عايش': 49, 'اشباه': 122, 'يشكي': 105, 'امان': 1, 'مايبيلها': 33, 'قوم': 93, 'كفاء': 2, 'لاتحدث': 2, 'بسعادتك': 4, 'جود': 119, 'اضعاف': 58, 'لاتحزن': 4, 'سيئه': 109, 'قارب': 38, 'دعائك': 4, 'لاتنساني': 61, 'هوان': 94, 'ضعط': 2, 'استعباط': 85, 'داري': 49, 'بغل': 21, 'ديانا': 119, 'كرز': 128, 'نشاز': 85, 'بيعرفوا': 40, 'استثنائي': 55, 'عتقد': 2, 'هالقد': 61, 'ازا': 86, 'قاهرينك': 2, 'لبنان': 96, 'التفت': 81, 'القم': 39, 'مغري': 18, 'ماعندها': 33, 'بفهمو': 61, 'نظار': 2, 'متقدم': 84, 'استغلال': 57, 'مؤهل': 87, 'نظيف': 98, 'حيوي': 100, 'ناقد': 7, 'ساظل': 4, 'اتقبل': 34, 'مجبر': 55, 'جيد': 18, 'متشبه': 2, 'عازف': 129, 'يتنعمون': 2, 'انفجر': 111, 'فاسد': 70, 'اموال': 16, 'اعيش': 5, 'رماد': 39, 'نفخ': 12, 'اضاء': 89, 'مجتهد': 7, 'يثابر': 2, 'حتم': 2, 'احتياج': 76, 'اوطان': 39, 'متنفذ': 2, 'تاجر': 21, 'اقتصاديه': 26, 'جزء': 110, 'تكليف': 57, 'تركيا': 96, 'غالبي': 2, 'تالي': 41, 'سهم': 38, 'كهرباء': 38, 'مثال': 87, 'مستثمر': 100, 'تخلخل': 2, 'شعبيه': 26, 'يبشار': 2, 'ادراك': 89, 'ارون': 119, 'مقتدر': 70, 'اكل': 128, 'شاغر': 29, 'معظم': 110, 'لهف': 94, 'طور': 38, 'فتر': 2, 'فردي': 100, 'طمع': 12, 'خربان': 74, 'طوقان': 121, 'لماذا': 19, 'محتكر': 2, 'اشكل': 61, 'جشع': 12, 'لانملك': 2, 'جراح': 94, 'اسو': 119, 'اسولف': 115, 'استلقي': 4, 'استكمل': 24, 'قدسي': 2, 'همجيه': 122, 'ذاهب': 29, 'باب': 39, 'نهر': 39, 'سافتحها': 2, 'سادق': 2, 'محا': 61, 'صحي': 98, 'كاهل': 2, 'حصول': 57, 'تقرير': 43, 'مفترض': 2, 'بيئي': 100, 'سلمي': 119, 'امتلاك': 57, 'غاز': 128, 'استورد': 2, 'افترض': 2, 'مسبق': 55, 'هائل': 38, 'نتج': 89, 'احتياطي': 84, 'كمي': 94, 'ناهيك': 110, 'كافيه': 60, 'خبير': 10, 'عالي': 98, 'واين': 110, 'مؤمل': 2, 'نسبي': 55, 'اضافي': 100, 'متل': 86, 'يشترو': 40, 'يبيعو': 40, 'صارو': 68, 'فتاح': 129, 'اظلم': 105, 'ضاق': 105, 'انغلق': 61, 'استحضر': 24, 'امرك': 4, 'خنق': 108, 'شكلي': 111, 'خلاص': 53, 'باظو': 2, 'رابط': 43, 'ابعطيك': 61, 'جيب': 128, 'مغلوط': 55, 'انفولو': 127, 'برازيل': 84, 'كاكا': 84, 'قهوه': 128, 'يبطلو': 40, 'سرق': 25, 'تفوق': 58, 'عرض': 43, 'يباركلكم': 104, 'مصروف': 16, 'توصلونا': 2, 'واصل': 29, 'اخدنا': 40, 'يتصلح': 61, 'مطرح': 28, 'خسيسه': 2, 'فريق': 59, 'ورم': 22, 'مؤلمه': 60, 'يعملو': 40, 'تضحكو': 61, 'مالقو': 68, 'خايسه': 60, 'طاوله': 38, 'محشورين': 2, 'معصب': 9, 'معجب': 97, 'مؤتمر': 32, 'اثقل': 126, 'اغبا': 2, 'اروع': 126, 'شفا': 39, 'ارحمك': 4, 'ينك': 94, 'توخد': 2, 'تنزيل': 129, 'وسم': 2, 'بدن': 104, 'تعب': 79, 'مقال': 43, 'اسخفك': 2, 'فسح': 2, 'شهي': 39, 'شطب': 57, 'حبا': 4, 'سحيج': 2, 'يسترزق': 2, 'فوسفات': 2, 'ولاء': 87, 'تحكم': 0, 'ابدع': 24, 'كشر': 105, 'ماثر': 74, 'كرتون': 128, 'مشاهد': 52, 'مرتاح': 9, 'مصايب': 85, 'فقه': 19, 'اولي': 110, 'بوست': 43, 'بيقول': 112, 'انطق': 4, 'تلفظ': 24, 'عار': 122, 'يستحون': 68, 'اقشر': 61, 'بصل': 128, 'انزلع': 61, 'جلطتني': 61, 'اشوفك': 115, 'اعاد': 89, 'مابتحكي': 2, 'فاق': 108, 'قريه': 96, 'استرح': 2, 'ابا': 121, 'ماجمل': 2, 'ماخاب': 105, 'حوار': 32, 'بيشبهك': 61, 'ماعندك': 33, 'اتجه': 4, 'ماكرمك': 2, 'ماكل': 53, 'مرقص': 129, 'مايستحون': 68, 'مبرد': 128, 'خارجيه': 26, 'حيط': 71, 'اجند': 2, 'عميله': 26, 'متخافش': 28, 'يامؤمن': 2, 'متعلق': 97, 'حنين': 79, 'متسم': 2, 'متفق': 88, 'خايس': 74, 'كذاب': 7, 'متهور': 7, 'نشوف': 40, 'شاشه': 43, 'احط': 14, 'رسال': 94, 'حرس': 10, 'متعالي': 70, 'فرس': 122, 'اصيل': 7, 'اميره': 119, 'مهر': 16, 'ترف': 94, 'روض': 39, 'محش': 61, 'محظوظ': 29, 'ملبس': 71, 'سانقل': 2, 'غسال': 2, 'عبئ': 2, 'اقتصادي': 100, 'سير': 38, 'مزعج': 18, 'اثق': 97, 'كلثوم': 83, 'مندهش': 2, 'مسوي': 112, 'اظنش': 61, 'بهالسهوله': 61, 'متطور': 55, 'اقام': 89, 'تكذبو': 2, 'باين': 112, 'محروق': 98, 'ارتفاع': 58, 'سيار': 35, 'شايف': 112, 'ارتفع': 58, 'مبالغه': 76, 'سماك': 39, 'مفطع': 2, 'اوفر': 74, 'عاجبو': 86, 'هادول': 61, 'سمحولهم': 2, 'يقدمو': 40, 'بطون': 122, 'دوار': 38, 'هوش': 61, 'مابي': 67, 'مشتاق': 81, 'معلاق': 2, 'مشعر': 100, 'ولاغيرك': 61, 'ماحس': 31, 'نصيح': 94, 'مرور': 82, 'استمع': 4, 'زياد': 35, 'بتول': 119, 'ذولي': 68, 'معايا': 123, 'معتيه': 2, 'غني': 49, 'اكتساب': 57, 'مدرب': 84, 'معرفه': 57, 'مجرد': 60, 'تلقي': 102, 'معلوم': 55, 'مفيش': 117, 'شريف': 121, 'مقاس': 71, 'صواب': 55, 'ملاحظ': 112, 'تكهرب': 2, 'كبسه': 128, 'ملحم': 121, 'ملعوب': 85, 'هايج': 61, 'متواصل': 98, 'انضباط': 87, 'تفكير': 76, 'مهاجم': 84, 'مدافع': 84, 'ضاحك': 29, 'استيعاب': 57, 'جامعي': 100, 'سقف': 38, 'رسميه': 26, 'متجاوز': 2, 'اعداد': 57, 'ذره': 125, 'نظري': 110, 'عنصر': 38, 'مكسب': 87, 'مكعب': 128, 'اشع': 4, 'نسلك': 61, 'متر': 38, 'موازن': 2, 'قاصي': 105, 'فرنسا': 96, 'تفتيت': 57, 'جدول': 47, 'بروتون': 2, 'بتون': 2, 'مندليف': 2, 'فيزياء': 47, 'واضحه': 60, 'كوارك': 2, 'رغبه': 76, 'جاما': 2, 'علميه': 60, 'كميه': 54, 'نتيجه': 19, 'بدء': 82, 'معرف': 41, 'مشعه': 60, 'سنوي': 100, 'خلفيه': 43, 'متعلم': 7, 'بغض': 110, 'ايما': 121, 'صفاء': 64, 'عانق': 108, 'حصد': 24, 'ساري': 29, 'رافق': 94, 'وافق': 89, 'فضائي': 100, 'مخلوق': 103, 'حكالك': 61, 'بغي': 80, 'ثابر': 2, 'انجيب': 2, 'مخرج': 129, 'محرج': 18, 'رؤي': 2, 'استمتع': 97, 'سادي': 2, 'لاق': 94, 'ترفعو': 2, 'منكو': 28, 'بلاردن': 2, 'منيك': 61, 'شوم': 2, 'ياعيب': 11, 'عنو': 86, 'مهو': 53, 'محطه': 38, 'سريع': 18, 'مهي': 53, 'فرق': 19, 'معروف': 55, 'مياع': 2, 'سئال': 2, 'قايل': 112, 'هالحاله': 41, 'هالحكي': 61, 'قائد': 10, 'نعامه': 21, 'تطلعن': 2, 'هزل': 2, 'رقب': 2, 'ساعه': 54, 'عاه': 94, 'مبيد': 128, 'حشري': 128, 'صراصير': 128, 'دوا': 94, 'ورس': 94, 'ئدام': 2, 'عبداله': 2, 'عبث': 110, 'يؤرقني': 2, 'اميركيه': 96, 'جلال': 121, 'مقابل': 16, 'تاخدو': 40, 'تبي': 33, 'تمصخر': 11, 'ماتدري': 31, 'معزه': 94, 'مطفر': 29, 'مصداقي': 2, 'عموم': 2, 'فرد': 24, 'خارج': 110, 'اتفق': 0, 'بنتهاوش': 2, 'فيصل': 35, 'احزان': 125, 'سعود': 35, 'سابق': 55, 'امير': 10, 'مرء': 2, 'مصفاه': 38, 'قمح': 128, 'مطب': 128, 'حفر': 38, 'مصان': 2, 'منف': 94, 'كيماوي': 128, 'هروب': 23, 'ابتعاد': 76, 'دمع': 79, 'مستعجل': 9, 'خايف': 8, 'مودع': 105, 'خشع': 108, 'اعتبر': 34, 'ارح': 20, 'بلال': 121, 'عزا': 94, 'مبادر': 2, 'مرحبا': 119, 'انتعاش': 58, 'منتشيا': 2, 'فجر': 39, 'تام': 55, 'توسع': 102, 'انشراح': 64, 'وحشي': 70, 'سكن': 108, 'طيار': 10, 'كساسبه': 2, 'اغتيال': 23, 'اسلامي': 100, 'راسمالي': 70, 'اشتراكي': 100, 'واجب': 87, 'قابل': 55, 'تلاعب': 110, 'ارواح': 76, 'ابناء': 122, 'اخلاقك': 87, 'احصي': 72, 'تائب': 105, 'الغا': 2, 'كعب': 71, 'وداع': 79, 'اسود': 71, 'طفران': 29, 'نيل': 2, 'جايب': 112, 'تسال': 31, 'مجرب': 29, 'بريطان': 2, 'نامج': 2, 'بعملو': 40, 'ياهبله': 61, 'بعرفو': 86, 'هاكد': 2, 'هالانسان': 41, 'خليل': 121, 'موقع': 43, 'انحط': 61, 'نتيج': 2, 'ماهو': 53, 'ياولد': 11, 'فالح': 35, 'تطيب': 4, 'نفسو': 86, 'شقف': 2, 'هذيل': 68, 'تشهير': 12, 'التحي': 2, 'يستهبل': 74, 'فارغ': 98, 'عنجهي': 2, 'بغيضه': 2, 'خلو': 68, 'مصديه': 60, 'تطاول': 24, 'جزاء': 12, 'خبول': 68, 'عطي': 25, 'رفيق': 94, 'مناضل': 70, 'مخانيث': 122, 'مساجين': 122, 'زنخه': 61, 'جامل': 94, 'زياده': 58, 'محيط': 38, 'ذوبان': 39, 'تشكل': 0, 'بلور': 2, 'ثلج': 128, 'يابسه': 128, 'استعمال': 57, 'مصخرو': 2, 'فيلم': 52, 'يسعوا': 2, 'شفن': 94, 'اشتغال': 2, 'هولاء': 122, 'تشجيع': 87, 'حضر': 89, 'بلنص': 2, 'اقرف': 74, 'هاظ': 86, 'متابع': 43, 'تقرف': 85, 'ديسي': 2, 'صرلهم': 2, 'فظحتونا': 2, 'مخنثه': 2, 'خونه': 122, 'مفسد': 70, 'فاد': 105, 'يكلمني': 111, 'رايقه': 60, 'تشح': 105, 'طائر': 39, 'داب': 105, 'دوام': 47, 'برقش': 2, 'واثق': 101, 'هامل': 2, 'رشد': 35, 'اقرب': 126, 'باسر': 2, 'مستبشر': 2, 'مشتمل': 2, 'جلا': 105, 'اثواب': 39, 'جذل': 2, 'منحط': 7, 'حقو': 86, 'كريه': 74, 'سطحي': 55, 'ماجور': 70, 'اعظم': 126, 'اقنع': 31, 'هتندم': 123, 'معطينك': 61, 'شره': 105, 'هاجر': 121, 'تخزي': 2, 'بعتهالي': 61, 'جاتلي': 28, 'رساله': 43, 'شايل': 49, 'طخوا': 2, 'مدفوعله': 2, 'انكو': 40, 'علان': 122, 'مكب': 38, 'زاحف': 7, 'احسب': 31, 'اختش': 61, 'بذل': 24, 'تحشيش': 85, 'ثقف': 2, 'لاقيه': 74, 'زواج': 119, 'طلاق': 22, 'ارحمو': 11, 'نجيب': 121, 'يقويكم': 104, 'كوميدي': 52, 'شكني': 2, 'جلط': 2, 'تجيني': 80, 'ماطلعت': 41, 'مره': 8, 'عبط': 85, 'ظلموه': 2, 'طراطير': 122, 'بهدلتو': 2, 'عاز': 2, 'ياعمي': 11, 'ايدول': 119, 'فايز': 35, 'اندح': 2, 'فارطه': 61, 'جري': 89, 'مايتقدم': 2, 'عندو': 86, 'شاطئ': 38, 'يجمعونهم': 2, 'سباح': 2, 'ميت': 49, 'قبرص': 96, 'يهودي': 21, 'صرخ': 108, 'مزعلني': 49, 'يحر': 61, 'نقالي': 2, 'نهب': 122, 'انتشر': 89, 'نسوي': 68, 'ضايل': 86, 'خطي': 2, 'عحب': 2, 'كيان': 87, 'صداقه': 76, 'ماوفيت': 94, 'ملج': 94, 'يصلحو': 2, 'محتاج': 29, 'اسكت': 111, 'فاظ': 2, 'واي': 90, 'مالق': 94, 'تبلد': 22, 'جعتو': 2, 'انظر': 4, 'فطيره': 128, 'عاب': 105, 'خلاب': 39, 'اكسر': 14, 'ابتوب': 2, 'ودي': 67, 'وبال': 2, 'الاقي': 14, 'هالفيديو': 41, 'جات': 80, 'نايم': 9, 'مقبل': 29, 'جابني': 81, 'ماكلين': 68, 'هالتحف': 2, 'مهبل': 68, 'غاب': 118, 'رحل': 118, 'لاسع': 2, 'عساس': 41, 'يادمن': 2, 'شافعي': 121, 'قلبو': 61, 'يعملوه': 40, 'وقع': 89, 'بيعملوه': 40, 'اجي': 115, 'اهبال': 2, 'تنسو': 40, 'يفضحوهم': 2, 'هالكائنات': 61, 'جايبينهم': 61, 'سديقي': 2, 'خمر': 128, 'كرع': 2, 'كندر': 128, 'فهمني': 61, 'مضر': 18, 'يتعقد': 61, 'يشوف': 25, 'احاسيس': 79, 'نحق': 2, 'ربيعي': 39, 'دعالي': 2, 'تاريخيه': 26, 'اهتمام': 76, 'مقدس': 55, 'منطلق': 110, 'قدس': 121, 'هاشم': 121, 'روضه': 39, 'رحيبه': 2, 'احبه': 81, 'وهابيه': 122, 'بغاء': 2, 'خراب': 122, 'تاج': 71, 'راك': 94, 'مخالف': 55, 'ناعق': 70, 'اشرفلي': 2, 'فخذ': 108, 'اغير': 14, 'مكبوت': 79, 'اهون': 126, 'محصور': 110, 'عفن': 122, 'خبص': 61, 'ملوش': 117, 'مضروبه': 60, 'هاي': 119, 'ياري': 94, 'ماوش': 2, 'بتظبط': 61, 'يحطمو': 2, 'ارجل': 122, 'الق': 94, 'مقطوع': 98, 'يروحو': 40, 'انتبه': 102, 'مله': 12, 'مايع': 94, 'مرايه': 71, 'ادائك': 87, 'مهمه': 60, 'خالي': 29, 'دعائي': 4, 'استجب': 114, 'بلسم': 94, 'فرحتوني': 61, 'تنانير': 119, 'عليكو': 28, 'تجديد': 57, 'فايقظني': 50, 'فاصبحني': 2, 'امسي': 105, 'نما': 108, 'ريتا': 119, 'تذكر': 101, 'جبر': 105, 'جبار': 70, 'كسر': 108, 'اجبر': 124, 'فارض': 24, 'قويني': 4, 'نستغفرك': 51, 'جبل': 38, 'شجع': 24, 'اولاد': 122, 'عاتيه': 39, 'هالولد': 41, 'مغربي': 100, 'كبر': 108, 'اتفقد': 34, 'عصر': 38, 'حسرتاه': 2, 'قرض': 16, 'بنك': 16, 'سحب': 57, 'افتدي': 2, 'جين': 119, 'عطاء': 64, 'يامنان': 2, 'هالارض': 39, 'كادر': 16, 'لطيف': 18, 'لطف': 64, 'شافي': 35, 'مسهل': 28, 'ابصار': 2, 'مقدار': 19, 'هيء': 2, 'ياجماعه': 41, 'ياخساره': 11, 'عروبه': 122, 'احمي': 51, 'طاعه': 46, 'اخرج': 34, 'اتخاذ': 57, 'اخلف': 105, 'عزيمه': 76, 'ماحي': 94, 'اعيني': 2, 'يكر': 2, 'استغفار': 66, 'دعوناك': 2, 'طهر': 64, 'اقترب': 4, 'ناخذ': 40, 'مكسور': 49, 'ماعندكم': 33, 'يازم': 61, 'ساخ': 2, 'يالا': 28, 'هائولاء': 2, 'ياي': 41, 'تسابق': 108, 'ورود': 39, 'ثالثه': 26, 'توقيت': 38, 'زعران': 122, 'يسجن': 24, 'همل': 105, 'سول': 119, 'اسيا': 113, 'ارضاع': 2, 'يخسو': 2, 'رغد': 119, 'يتعطر': 2, 'شيبان': 68, 'جاب': 80, 'ظرافه': 85, 'وساخه': 85, 'استفرغ': 61, 'هزيله': 60, 'كالسيوم': 2, 'فوسفور': 2, 'شهيه': 76, 'ترمس': 128, 'طبيعيه': 60, 'عحدا': 2, 'ياثر': 0, 'اكمن': 61, 'دكوا': 2, 'وضوح': 76, 'طابور': 38, 'تشوف': 102, 'لغوني': 2, 'يبعو': 2, 'احرف': 54, 'يقرط': 2, 'يستهبلوا': 2, 'بياخه': 85, 'ستحي': 2, 'مياعه': 2, 'ازعاج': 85, 'سخافه': 85, 'خوا': 2, 'سياحه': 16, 'ديني': 12, 'انقسم': 89, 'معارض': 100, 'علاجي': 94, 'امتاز': 2, 'سائح': 100}\n"
          ]
        }
      ],
      "source": [
        "NUM_DOCS = data.shape[0]\n",
        "\n",
        "# construct a word to concept mapping\n",
        "word_concept = {}\n",
        "for index, word in enumerate(word_vecs.keys()):\n",
        "    word_concept[word] = concepts[index]\n",
        "print(word_concept)"
      ]
    },
    {
      "cell_type": "code",
      "execution_count": 9,
      "metadata": {},
      "outputs": [
        {
          "name": "stdout",
          "output_type": "stream",
          "text": [
            "defaultdict(<class 'int'>, {74: 64, 112: 49, 86: 83, 26: 48, 61: 150, 18: 139, 2: 420, 94: 270, 7: 114, 128: 79, 34: 45, 5: 4, 38: 110, 9: 37, 111: 44, 21: 150, 85: 120, 55: 100, 0: 43, 49: 38, 37: 385, 71: 61, 76: 152, 29: 90, 57: 135, 1: 56, 65: 25, 121: 161, 68: 30, 70: 79, 4: 68, 105: 102, 42: 4, 108: 83, 51: 76, 87: 132, 88: 60, 24: 109, 122: 116, 97: 17, 43: 112, 110: 62, 129: 104, 126: 22, 16: 25, 58: 34, 32: 12, 119: 74, 53: 85, 8: 61, 89: 82, 14: 16, 15: 2, 31: 32, 82: 49, 103: 61, 64: 77, 100: 91, 41: 54, 98: 51, 78: 8, 35: 59, 20: 32, 81: 15, 96: 35, 90: 3, 69: 14, 30: 1, 95: 1, 25: 64, 10: 77, 28: 70, 127: 6, 12: 139, 11: 75, 104: 94, 46: 27, 39: 130, 54: 88, 118: 23, 59: 28, 79: 57, 48: 29, 106: 10, 84: 27, 123: 55, 22: 34, 115: 20, 19: 43, 40: 54, 13: 1, 125: 102, 47: 31, 23: 21, 60: 32, 33: 15, 99: 5, 80: 17, 113: 6, 101: 27, 109: 7, 91: 2, 67: 13, 102: 42, 124: 22, 27: 3, 63: 9, 75: 2, 45: 2, 120: 1, 6: 3, 92: 2, 116: 2, 44: 2, 62: 4, 52: 12, 83: 4, 3: 2, 56: 2, 77: 7, 73: 2, 117: 7, 36: 1, 107: 1, 17: 1, 93: 1, 72: 1, 114: 3, 50: 1, 66: 1})\n"
          ]
        }
      ],
      "source": [
        "# construct a concept to document count mapping\n",
        "concept_docs = defaultdict(int)\n",
        "for doc in data[\"tweet\"]:\n",
        "    doc_concepts = set()\n",
        "    for word in doc.split(\" \"):\n",
        "        try:\n",
        "            doc_concepts.add(word_concept[word])\n",
        "        except Exception:\n",
        "            pass\n",
        "    for concept in doc_concepts:\n",
        "        concept_docs[concept] += 1\n",
        "print(concept_docs)"
      ]
    },
    {
      "cell_type": "code",
      "execution_count": 10,
      "metadata": {},
      "outputs": [],
      "source": [
        "def cf_idf(document: str):\n",
        "    \"\"\" Returns the CD-IDF representataion of a document \"\"\"\n",
        "    res = [0 for _ in range(NUM_CONCEPTS)]\n",
        "    concepts_counts = defaultdict(int)\n",
        "    for word in document.split(\" \"):\n",
        "        try:\n",
        "            concepts_counts[word_concept[word]] += 1\n",
        "        except:\n",
        "            pass\n",
        "    n_k = sum(concepts_counts.values()) # number of concepts present in the document (duplicates are considered!)\n",
        "    for concept in range(NUM_CONCEPTS):\n",
        "        if concepts_counts[concept] != 0:\n",
        "            res[concept] = (concepts_counts[concept] / n_k) * log(NUM_DOCS / (1 + concept_docs[concept]))\n",
        "    return res"
      ]
    },
    {
      "cell_type": "code",
      "execution_count": 11,
      "metadata": {},
      "outputs": [],
      "source": [
        "X = [cf_idf(tweet) for tweet in data[\"tweet\"]]\n",
        "y = data[\"class\"]\n",
        "\n",
        "X_train, X_test, y_train, y_test = train_test_split(X, y, test_size = .2, random_state = SEED, stratify = y)"
      ]
    },
    {
      "attachments": {},
      "cell_type": "markdown",
      "metadata": {},
      "source": [
        "### Performance evaluation\n",
        "#### Naive bayes"
      ]
    },
    {
      "cell_type": "code",
      "execution_count": 12,
      "metadata": {},
      "outputs": [
        {
          "name": "stdout",
          "output_type": "stream",
          "text": [
            "Accuracy: 62.18%\n",
            "Precesion : 90.57%\n",
            "Recall : 26.97%\n",
            "F1 score : 41.56%\n"
          ]
        }
      ],
      "source": [
        "model = GaussianNB()\n",
        "\n",
        "model.fit(X_train, y_train)\n",
        "y_pred = model.predict(X_test)\n",
        "\n",
        "accuracy = accuracy_score(y_test, y_pred)\n",
        "precision, recall, f1_score, _ = precision_recall_fscore_support(y_test, y_pred, average='binary', pos_label=\"Positive\")\n",
        "\n",
        "print(f\"Accuracy: {accuracy * 100:.2f}%\")\n",
        "print(f\"Precesion : {precision * 100:.2f}%\")\n",
        "print(f\"Recall : {recall * 100:.2f}%\")\n",
        "print(f\"F1 score : {f1_score * 100:.2f}%\")"
      ]
    },
    {
      "attachments": {},
      "cell_type": "markdown",
      "metadata": {},
      "source": [
        "#### Logistic regression"
      ]
    },
    {
      "cell_type": "code",
      "execution_count": 12,
      "metadata": {},
      "outputs": [
        {
          "name": "stdout",
          "output_type": "stream",
          "text": [
            "Accuracy: 80.39%\n",
            "Precesion : 81.40%\n",
            "Recall : 78.65%\n",
            "F1 score : 80.00%\n"
          ]
        }
      ],
      "source": [
        "model = LogisticRegression(random_state = SEED)\n",
        "model.fit(X_train, y_train)\n",
        "y_pred = model.predict(X_test)\n",
        "\n",
        "accuracy = accuracy_score(y_test, y_pred)\n",
        "precision, recall, f1_score, _ = precision_recall_fscore_support(y_test, y_pred, average='binary', pos_label=\"Positive\")\n",
        "\n",
        "print(f\"Accuracy: {accuracy * 100:.2f}%\")\n",
        "print(f\"Precesion : {precision * 100:.2f}%\")\n",
        "print(f\"Recall : {recall * 100:.2f}%\")\n",
        "print(f\"F1 score : {f1_score * 100:.2f}%\")"
      ]
    },
    {
      "attachments": {},
      "cell_type": "markdown",
      "metadata": {},
      "source": [
        "#### SVM"
      ]
    },
    {
      "cell_type": "code",
      "execution_count": 13,
      "metadata": {},
      "outputs": [
        {
          "name": "stdout",
          "output_type": "stream",
          "text": [
            "Accuracy: 75.35%\n",
            "Precesion : 75.86%\n",
            "Recall : 74.16%\n",
            "F1 score : 75.00%\n"
          ]
        }
      ],
      "source": [
        "model = SVC(random_state = SEED)\n",
        "model.fit(X_train, y_train)\n",
        "y_pred = model.predict(X_test)\n",
        "\n",
        "accuracy = accuracy_score(y_test, y_pred)\n",
        "precision, recall, f1_score, _ = precision_recall_fscore_support(y_test, y_pred, average='binary', pos_label=\"Positive\")\n",
        "\n",
        "print(f\"Accuracy: {accuracy * 100:.2f}%\")\n",
        "print(f\"Precesion : {precision * 100:.2f}%\")\n",
        "print(f\"Recall : {recall * 100:.2f}%\")\n",
        "print(f\"F1 score : {f1_score * 100:.2f}%\")"
      ]
    },
    {
      "attachments": {},
      "cell_type": "markdown",
      "metadata": {},
      "source": [
        "#### Random Forest"
      ]
    },
    {
      "cell_type": "code",
      "execution_count": 14,
      "metadata": {},
      "outputs": [
        {
          "name": "stdout",
          "output_type": "stream",
          "text": [
            "Accuracy: 73.67%\n",
            "Precesion : 74.14%\n",
            "Recall : 72.47%\n",
            "F1 score : 73.30%\n"
          ]
        }
      ],
      "source": [
        "rf = RandomForestClassifier(random_state = SEED)\n",
        "rf.fit(X_train, y_train)\n",
        "y_pred = rf.predict(X_test)\n",
        "\n",
        "accuracy = accuracy_score(y_test, y_pred)\n",
        "precision, recall, f1_score, _ = precision_recall_fscore_support(y_test, y_pred, average='binary', pos_label=\"Positive\")\n",
        "\n",
        "print(f\"Accuracy: {accuracy * 100:.2f}%\")\n",
        "print(f\"Precesion : {precision * 100:.2f}%\")\n",
        "print(f\"Recall : {recall * 100:.2f}%\")\n",
        "print(f\"F1 score : {f1_score * 100:.2f}%\")"
      ]
    },
    {
      "cell_type": "code",
      "execution_count": null,
      "metadata": {},
      "outputs": [],
      "source": []
    }
  ],
  "metadata": {
    "colab": {
      "include_colab_link": true,
      "provenance": []
    },
    "kernelspec": {
      "display_name": "Python 3",
      "language": "python",
      "name": "python3"
    },
    "language_info": {
      "codemirror_mode": {
        "name": "ipython",
        "version": 3
      },
      "file_extension": ".py",
      "mimetype": "text/x-python",
      "name": "python",
      "nbconvert_exporter": "python",
      "pygments_lexer": "ipython3",
      "version": "3.11.2"
    },
    "orig_nbformat": 4
  },
  "nbformat": 4,
  "nbformat_minor": 0
}
