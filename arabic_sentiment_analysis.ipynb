{
  "cells": [
    {
      "attachments": {},
      "cell_type": "markdown",
      "metadata": {
        "colab_type": "text",
        "id": "view-in-github"
      },
      "source": [
        "<a href=\"https://colab.research.google.com/github/OtmaneDaoudi/Arabic-sentiment-analysis/blob/main/arabic_sentiment_analysis.ipynb\" target=\"_parent\"><img src=\"https://colab.research.google.com/assets/colab-badge.svg\" alt=\"Open In Colab\"/></a>"
      ]
    },
    {
      "attachments": {},
      "cell_type": "markdown",
      "metadata": {
        "id": "YCMH2OjBGA8u"
      },
      "source": [
        "# Installing dependencies"
      ]
    },
    {
      "cell_type": "code",
      "execution_count": 1,
      "metadata": {
        "colab": {
          "base_uri": "https://localhost:8080/"
        },
        "id": "6BqPG4jsGF8m",
        "outputId": "71519abe-6ccb-4059-c163-edb45164bcbe"
      },
      "outputs": [],
      "source": [
        "# !pip install emoji\n",
        "# !pip install Arabic-Stopwords\n",
        "# !pip install seaborn\n",
        "# !pip install matplotlib\n",
        "# !pip install soyclustering"
      ]
    },
    {
      "attachments": {},
      "cell_type": "markdown",
      "metadata": {
        "id": "KUh0GecqEErv"
      },
      "source": [
        "# Libs imports"
      ]
    },
    {
      "cell_type": "code",
      "execution_count": 2,
      "metadata": {
        "id": "sQdYY3KPEEsC"
      },
      "outputs": [
        {
          "name": "stderr",
          "output_type": "stream",
          "text": [
            "[nltk_data] Downloading package stopwords to\n",
            "[nltk_data]     C:\\Users\\asus\\AppData\\Roaming\\nltk_data...\n",
            "[nltk_data]   Package stopwords is already up-to-date!\n"
          ]
        }
      ],
      "source": [
        "import pandas as pd\n",
        "import re\n",
        "import nltk\n",
        "import matplotlib.pyplot as plt\n",
        "import gensim\n",
        "import emoji\n",
        "import arabicstopwords.arabicstopwords as stp\n",
        "import tqdm\n",
        "import os\n",
        "\n",
        "from nltk.corpus import stopwords\n",
        "from nltk.stem.isri import ISRIStemmer\n",
        "from collections import defaultdict\n",
        "from math import log\n",
        "\n",
        "from nltk.tokenize import TweetTokenizer\n",
        "\n",
        "from sklearn.model_selection import train_test_split\n",
        "from sklearn.cluster import KMeans\n",
        "from sklearn.decomposition import TruncatedSVD, LatentDirichletAllocation, PCA\n",
        "from sklearn.linear_model import LogisticRegression\n",
        "from sklearn.feature_extraction.text import TfidfVectorizer, CountVectorizer\n",
        "from sklearn.ensemble import RandomForestClassifier\n",
        "from sklearn.svm import SVC\n",
        "from sklearn.preprocessing import StandardScaler\n",
        "from sklearn.naive_bayes import GaussianNB\n",
        "from sklearn.metrics import accuracy_score, precision_recall_fscore_support\n",
        "\n",
        "nltk.download('stopwords')\n",
        "\n",
        "SEED = 21"
      ]
    },
    {
      "attachments": {},
      "cell_type": "markdown",
      "metadata": {},
      "source": [
        "# Importing data"
      ]
    },
    {
      "cell_type": "code",
      "execution_count": 3,
      "metadata": {
        "colab": {
          "base_uri": "https://localhost:8080/",
          "height": 676
        },
        "id": "MvI6l3cnEEsH",
        "outputId": "840f53a3-1120-4709-a395-10f90977c0a9"
      },
      "outputs": [
        {
          "data": {
            "text/html": [
              "<div>\n",
              "<style scoped>\n",
              "    .dataframe tbody tr th:only-of-type {\n",
              "        vertical-align: middle;\n",
              "    }\n",
              "\n",
              "    .dataframe tbody tr th {\n",
              "        vertical-align: top;\n",
              "    }\n",
              "\n",
              "    .dataframe thead th {\n",
              "        text-align: right;\n",
              "    }\n",
              "</style>\n",
              "<table border=\"1\" class=\"dataframe\">\n",
              "  <thead>\n",
              "    <tr style=\"text-align: right;\">\n",
              "      <th></th>\n",
              "      <th>tweet</th>\n",
              "      <th>class</th>\n",
              "    </tr>\n",
              "  </thead>\n",
              "  <tbody>\n",
              "    <tr>\n",
              "      <th>0</th>\n",
              "      <td>استقالة المحكمة رئيس الدستورية نتظر السود القضاء</td>\n",
              "      <td>OBJ</td>\n",
              "    </tr>\n",
              "    <tr>\n",
              "      <th>1</th>\n",
              "      <td>جمال الدين القيادي بمناسبة صدور أولى الدكتور ا...</td>\n",
              "      <td>POS</td>\n",
              "    </tr>\n",
              "    <tr>\n",
              "      <th>2</th>\n",
              "      <td>عصام العريان واشنطن بامريكا يستقوى برادعي يرسل...</td>\n",
              "      <td>NEG</td>\n",
              "    </tr>\n",
              "    <tr>\n",
              "      <th>3</th>\n",
              "      <td>استقصائي فيلم حرية لأول كواليس حقيقة أسرار وال...</td>\n",
              "      <td>OBJ</td>\n",
              "    </tr>\n",
              "    <tr>\n",
              "      <th>4</th>\n",
              "      <td>الفسق الشيشان اقولها بخاطري وكيلك الحن والفجور...</td>\n",
              "      <td>NEUTRAL</td>\n",
              "    </tr>\n",
              "    <tr>\n",
              "      <th>5</th>\n",
              "      <td>رئيسى انتخبوا العرص البرص مرسى</td>\n",
              "      <td>NEUTRAL</td>\n",
              "    </tr>\n",
              "    <tr>\n",
              "      <th>6</th>\n",
              "      <td>ستريكر صريح يتقال امير كاريوكي السكة عيد فعلا</td>\n",
              "      <td>POS</td>\n",
              "    </tr>\n",
              "    <tr>\n",
              "      <th>7</th>\n",
              "      <td>الفتيات شاب ستستمر غلطة حب كبير قصة واحدة احكي...</td>\n",
              "      <td>OBJ</td>\n",
              "    </tr>\n",
              "    <tr>\n",
              "      <th>8</th>\n",
              "      <td>اعداد الأربعاء ادعوكم التفاصيل مركز لحضور القا...</td>\n",
              "      <td>OBJ</td>\n",
              "    </tr>\n",
              "    <tr>\n",
              "      <th>9</th>\n",
              "      <td>جماعة السابق الحياة الماضي السياسية وضعها شبرا...</td>\n",
              "      <td>NEG</td>\n",
              "    </tr>\n",
              "    <tr>\n",
              "      <th>10</th>\n",
              "      <td>العراق ليب اليمن الكويت قطر سوريا السعودية عما...</td>\n",
              "      <td>OBJ</td>\n",
              "    </tr>\n",
              "    <tr>\n",
              "      <th>11</th>\n",
              "      <td>وطن موجتان متعاقبتان لمقاومة عمرو الاستبداد حم...</td>\n",
              "      <td>OBJ</td>\n",
              "    </tr>\n",
              "    <tr>\n",
              "      <th>12</th>\n",
              "      <td>كلام بمصلحة الطب العاملين شاهد آخر الشرعي إضراب</td>\n",
              "      <td>OBJ</td>\n",
              "    </tr>\n",
              "    <tr>\n",
              "      <th>13</th>\n",
              "      <td>الحياة صداقة تزرع أزهارا مي زيادة</td>\n",
              "      <td>POS</td>\n",
              "    </tr>\n",
              "    <tr>\n",
              "      <th>14</th>\n",
              "      <td>وطن مزق شعبي لإحساس انعدام محاصر اصرار بالمسؤو...</td>\n",
              "      <td>NEG</td>\n",
              "    </tr>\n",
              "    <tr>\n",
              "      <th>15</th>\n",
              "      <td>الوضوء نية واركان طريق فرائض التطهر مصطفى نعبد...</td>\n",
              "      <td>OBJ</td>\n",
              "    </tr>\n",
              "    <tr>\n",
              "      <th>16</th>\n",
              "      <td>اعتدالا سياسيا المنعم الأكثر الشريعة مقاصد ودي...</td>\n",
              "      <td>POS</td>\n",
              "    </tr>\n",
              "    <tr>\n",
              "      <th>17</th>\n",
              "      <td>نكهات يوسف لبيادة عديدة بوابة باسم الموبايل ال...</td>\n",
              "      <td>OBJ</td>\n",
              "    </tr>\n",
              "    <tr>\n",
              "      <th>18</th>\n",
              "      <td>بالترشح أسعى المنصب رئيس العاشرة لخدمة المصرين...</td>\n",
              "      <td>OBJ</td>\n",
              "    </tr>\n",
              "    <tr>\n",
              "      <th>19</th>\n",
              "      <td>المعلمين بواجب وتدريب يتسنى انشاء مراكز الدخل ...</td>\n",
              "      <td>OBJ</td>\n",
              "    </tr>\n",
              "  </tbody>\n",
              "</table>\n",
              "</div>"
            ],
            "text/plain": [
              "                                                tweet    class\n",
              "0    استقالة المحكمة رئيس الدستورية نتظر السود القضاء      OBJ\n",
              "1   جمال الدين القيادي بمناسبة صدور أولى الدكتور ا...      POS\n",
              "2   عصام العريان واشنطن بامريكا يستقوى برادعي يرسل...      NEG\n",
              "3   استقصائي فيلم حرية لأول كواليس حقيقة أسرار وال...      OBJ\n",
              "4   الفسق الشيشان اقولها بخاطري وكيلك الحن والفجور...  NEUTRAL\n",
              "5                      رئيسى انتخبوا العرص البرص مرسى  NEUTRAL\n",
              "6       ستريكر صريح يتقال امير كاريوكي السكة عيد فعلا      POS\n",
              "7   الفتيات شاب ستستمر غلطة حب كبير قصة واحدة احكي...      OBJ\n",
              "8   اعداد الأربعاء ادعوكم التفاصيل مركز لحضور القا...      OBJ\n",
              "9   جماعة السابق الحياة الماضي السياسية وضعها شبرا...      NEG\n",
              "10  العراق ليب اليمن الكويت قطر سوريا السعودية عما...      OBJ\n",
              "11  وطن موجتان متعاقبتان لمقاومة عمرو الاستبداد حم...      OBJ\n",
              "12    كلام بمصلحة الطب العاملين شاهد آخر الشرعي إضراب      OBJ\n",
              "13                  الحياة صداقة تزرع أزهارا مي زيادة      POS\n",
              "14  وطن مزق شعبي لإحساس انعدام محاصر اصرار بالمسؤو...      NEG\n",
              "15  الوضوء نية واركان طريق فرائض التطهر مصطفى نعبد...      OBJ\n",
              "16  اعتدالا سياسيا المنعم الأكثر الشريعة مقاصد ودي...      POS\n",
              "17  نكهات يوسف لبيادة عديدة بوابة باسم الموبايل ال...      OBJ\n",
              "18  بالترشح أسعى المنصب رئيس العاشرة لخدمة المصرين...      OBJ\n",
              "19  المعلمين بواجب وتدريب يتسنى انشاء مراكز الدخل ...      OBJ"
            ]
          },
          "execution_count": 3,
          "metadata": {},
          "output_type": "execute_result"
        }
      ],
      "source": [
        "if not os.path.exists(\"preprocessed_data.csv\"):\n",
        "    data = pd.read_csv(\"./datasets/ASTD/Tweets.txt\", header = None, sep = \"\\t\", names = [\"tweet\", \"class\"])\n",
        "else:\n",
        "    data = pd.read_csv(\"preprocessed_data.csv\", header = 0, names = [\"tweet\", \"class\"])\n",
        "data.head(20)"
      ]
    },
    {
      "cell_type": "code",
      "execution_count": 4,
      "metadata": {
        "id": "fqggWownEEsK",
        "outputId": "e8a398e4-bfd2-44cf-b85f-2ea0ab850aa8"
      },
      "outputs": [
        {
          "name": "stdout",
          "output_type": "stream",
          "text": [
            "<class 'pandas.core.frame.DataFrame'>\n",
            "Index: 9683 entries, 0 to 9693\n",
            "Data columns (total 2 columns):\n",
            " #   Column  Non-Null Count  Dtype \n",
            "---  ------  --------------  ----- \n",
            " 0   tweet   9683 non-null   object\n",
            " 1   class   9683 non-null   object\n",
            "dtypes: object(2)\n",
            "memory usage: 226.9+ KB\n"
          ]
        }
      ],
      "source": [
        "data.info()"
      ]
    },
    {
      "attachments": {},
      "cell_type": "markdown",
      "metadata": {
        "id": "GIECLLDlEEsM"
      },
      "source": [
        "# Data preprocessing"
      ]
    },
    {
      "attachments": {},
      "cell_type": "markdown",
      "metadata": {
        "id": "NDtOpDzdEEsP"
      },
      "source": [
        "Our preprocessing pipeline contains the following steps:\n",
        "\n",
        "1.  Remove duplicat entries\n",
        "2.  Replacing emojies & emoticons\n",
        "3.  Remove mentions\n",
        "4.  Remove Links\n",
        "5.  Remove whitespaces\n",
        "6.  Remove punctuations & Special chars\n",
        "7.  Remove Consecutive characters\n",
        "8.  Tokenization\n",
        "9.  Remove foreign words\n",
        "10. Remove stop words\n",
        "11. Remove numbers\n",
        "12. Stemming\n"
      ]
    },
    {
      "attachments": {},
      "cell_type": "markdown",
      "metadata": {
        "id": "zolKP03vEEsT"
      },
      "source": [
        "## Removing duplicates"
      ]
    },
    {
      "cell_type": "code",
      "execution_count": 5,
      "metadata": {
        "colab": {
          "base_uri": "https://localhost:8080/"
        },
        "id": "SeMI9vGpEEsW",
        "outputId": "e2fb0124-2a17-4db2-c06f-52d48a0b7000"
      },
      "outputs": [
        {
          "name": "stdout",
          "output_type": "stream",
          "text": [
            "2.7% of the data are duplicats\n"
          ]
        }
      ],
      "source": [
        "count = data.duplicated().sum()\n",
        "print(f\"{(count / data.shape[0]) * 100:.1f}% of the data are duplicats\")"
      ]
    },
    {
      "cell_type": "code",
      "execution_count": 6,
      "metadata": {
        "id": "Ahlc7NfGEEsY"
      },
      "outputs": [],
      "source": [
        "if not os.path.exists(\"preprocessed_data.csv\"):\n",
        "    data.drop_duplicates(inplace = True)"
      ]
    },
    {
      "attachments": {},
      "cell_type": "markdown",
      "metadata": {
        "id": "Jv54Q2aKEEsZ"
      },
      "source": [
        "## Replacing emojies"
      ]
    },
    {
      "cell_type": "code",
      "execution_count": 7,
      "metadata": {
        "id": "75Dy9RLbEEsa"
      },
      "outputs": [],
      "source": [
        "emojis = {\n",
        "    \"🙂\":\"يبتسم\",\n",
        "    \"😂\":\"يضحك\",\n",
        "    \"🤣\" : \"يضحك\",\n",
        "    \"💔\":\"قلب حزين\",\n",
        "    \"🙂\":\"يبتسم\",\n",
        "    \"❤️\":\"حب\",\n",
        "    \"🥰\":\"حب\",\n",
        "    \"🤐\":\"سكوت\",\n",
        "    \"🧡\":\"حب\",\n",
        "    \"❤\":\"حب\",\n",
        "    \"😍\":\"حب\",\n",
        "    \"😭\":\"يبكي\",\n",
        "    \"🤭\":\"يبتسم\",\n",
        "    \"😢\":\"حزن\",\n",
        "    \"😔\":\"حزن\",\n",
        "    \"♥\":\"حب\",\n",
        "    \"💜\":\"حب\",\n",
        "    \"😅\":\"يضحك\",\n",
        "    \"🙁\":\"حزين\",\n",
        "    \"💕\":\"حب\",\n",
        "    \"💙\":\"حب\",\n",
        "    \"😞\":\"حزين\",\n",
        "    \"😊\":\"سعادة\",\n",
        "    \"👏\":\"يصفق\",\n",
        "    \"👌\":\"احسنت\",\n",
        "    \"😴\":\"ينام\",\n",
        "    \"😀\":\"يضحك\",\n",
        "    \"✅\":\"صحيح\",\n",
        "    \"🤪\":\"يضحك\",\n",
        "    \"🏡\" : \"بيت\",\n",
        "    \"🤲\" : \"دعاء\",\n",
        "    \"💰\" : \"مال\",\n",
        "    \"😌\":\"حزين\",\n",
        "    \"🎁\":\"هدية\",\n",
        "    \"🌹\":\"وردة\",\n",
        "    \"🥀\":\"وردة\",\n",
        "    \"📿\":\"وردة\",\n",
        "    \"✍\":\"كتابة\",\n",
        "    \"🙈\":\"حب\",\n",
        "    \"😄\":\"يضحك\",\n",
        "    \"😐\":\"محايد\",\n",
        "    \"✌\":\"منتصر\",\n",
        "    \"✨\":\"نجمه\",\n",
        "    \"🤔\":\"تفكير\",\n",
        "    \"😏\":\"يستهزء\",\n",
        "    \"😒\":\"يستهزء\",\n",
        "    \"🙄\":\"ملل\",\n",
        "    \"😕\":\"عصبية\",\n",
        "    \"😃\":\"يضحك\",\n",
        "    \"🌸\":\"وردة\",\n",
        "    \"😓\":\"حزن\",\n",
        "    \"💞\":\"حب\",\n",
        "    \"💗\":\"حب\",\n",
        "    \"😑\":\"منزعج\",\n",
        "    \"💭\":\"تفكير\",\n",
        "    \"😎\":\"ثقة\",\n",
        "    \"💛\":\"حب\",\n",
        "    \"😩\":\"حزين\",\n",
        "    \"🥺\":\"حزين\",\n",
        "    \"💪\":\"عضلات\",\n",
        "    \"👍\":\"موافق\",\n",
        "    \"🙏🏻\":\"رجاء طلب\",\n",
        "    \"😳\":\"مصدوم\",\n",
        "    \"👏🏼\":\"تصفيق\",\n",
        "    \"🎶\":\"موسيقي\",\n",
        "    \"🌚\":\"صمت\",\n",
        "    \"💚\":\"حب\",\n",
        "    \"🙏\":\"رجاء طلب\",\n",
        "    \"💘\":\"حب\",\n",
        "    \"🍃\":\"سلام\",\n",
        "    \"☺\":\"يضحك\",\n",
        "    \"🎊\":\"يهنئ\",\n",
        "    \"💥\":\"إنفجار\",\n",
        "    \"😝\":\"يسخر\",\n",
        "    \"💯\":\"تمام\",\n",
        "    \"🐸\":\"ضفدع\",\n",
        "    \"🤦‍♂️\":\"غبي\",\n",
        "    \"🤩\":\"معجب\",\n",
        "    \"🤤\":\"جائع\",\n",
        "    \"😶\":\"مصدوم\",\n",
        "    \"✌️\":\"مرح\",\n",
        "    \"✋🏻\":\"توقف\",\n",
        "    \"😉\":\"غمزة\",\n",
        "    \"🌷\":\"حب\",\n",
        "    \"🙃\":\"مبتسم\",\n",
        "    \"😫\":\"حزين\",\n",
        "    \"😨\":\"مصدوم\",\n",
        "    \"🎼 \":\"موسيقي\",\n",
        "    \"🍁\":\"مرح\",\n",
        "    \"🍂\":\"مرح\",\n",
        "    \"💟\":\"حب\",\n",
        "    \"😪\":\"حزن\",\n",
        "    \"😆\":\"يضحك\",\n",
        "    \"😣\":\"استياء\",\n",
        "    \"☺️\":\"حب\",\n",
        "    \"😱\":\"كارثة\",\n",
        "    \"😁\":\"يضحك\",\n",
        "    \"😖\":\"استياء\",\n",
        "    \"🏃🏼\":\"يجري\",\n",
        "    \"😡\":\"غضب\",\n",
        "    \"🚶\":\"يسير\",\n",
        "    \"🤕\":\"مرض\",\n",
        "    \"🤮\" : \"يتقيئ\",\n",
        "    \"⛔\": \"حذر\",\n",
        "    \"‼️\":\"تعجب\",\n",
        "    \"🕊\":\"طائر\",\n",
        "    \"👌🏻\":\"احسنت\",\n",
        "    \"❣\":\"حب\",\n",
        "    \"🙊\":\"مصدوم\",\n",
        "    \"💃\":\"سعادة مرح\",\n",
        "    \"💃🏼\":\"سعادة مرح\",\n",
        "    \"😜\":\"مرح\",\n",
        "    \"👊\":\"ضربة\",\n",
        "    \"😟\":\"استياء\",\n",
        "    \"💖\":\"حب\",\n",
        "    \"😥\":\"حزن\",\n",
        "    \"🎻\":\"موسيقي\",\n",
        "    \"✒\":\"يكتب\",\n",
        "    \"🚶🏻\":\"يسير\",\n",
        "    \"💎\":\"الماظ\",\n",
        "    \"😷\":\"وباء مرض\",\n",
        "    \"☝\":\"واحد\",\n",
        "    \"🚬\":\"تدخين\",\n",
        "    \"💐\" : \"ورد\",\n",
        "    \"🌻\" : \"ورد\",\n",
        "    \"🌞\" : \"شمس\",\n",
        "    \"👆\" : \"الاول\",\n",
        "    \"⚠️\" :\"تحذير\",\n",
        "    \"🤗\" : \"احتواء\",\n",
        "    \"✖️\": \"غلط\",\n",
        "    \"📍\"  : \"مكان\",\n",
        "    \"👸\" : \"ملكه\",\n",
        "    \"👑\" : \"تاج\",\n",
        "    \"✔️\" : \"صح\",\n",
        "    \"💌\": \"قلب\",\n",
        "    \"😲\" : \"مندهش\",\n",
        "    \"💦\": \"ماء\",\n",
        "    \"🚫\" : \"خطا\",\n",
        "    \"👏🏻\" : \"برافو\",\n",
        "    \"🏊\" :\"يسبح\",\n",
        "    \"👍🏻\": \"تمام\",\n",
        "    \"⭕️\" :\"دائره كبيره\",\n",
        "    \"🎷\" : \"ساكسفون\",\n",
        "    \"👋\": \"تلويح باليد\",\n",
        "    \"✌🏼\": \"علامه النصر\",\n",
        "    \"🌝\":\"مبتسم\",\n",
        "    \"➿\"  : \"عقده مزدوجه\",\n",
        "    \"💪🏼\" : \"قوي\",\n",
        "    \"📩\":  \"تواصل معي\",\n",
        "    \"☕️\": \"قهوه\",\n",
        "    \"😧\" : \"قلق و صدمة\",\n",
        "    \"🗨\": \"رسالة\",\n",
        "    \"❗️\" :\"تعجب\",\n",
        "    \"🙆🏻\": \"اشاره موافقه\",\n",
        "    \"👯\" :\"اخوات\",\n",
        "    \"©\" :  \"رمز\",\n",
        "    \"👵🏽\" :\"سيده عجوزه\",\n",
        "    \"🐣\": \"كتكوت\",\n",
        "    \"🙌\": \"تشجيع\",\n",
        "    \"🙇\": \"شخص ينحني\",\n",
        "    \"👐🏽\":\"ايدي مفتوحه\",\n",
        "    \"👌🏽\": \"بالظبط\",\n",
        "    \"⁉️\" : \"استنكار\",\n",
        "    \"⚽️\": \"كوره\",\n",
        "    \"🕶\" :\"حب\",\n",
        "    \"🎈\" :\"بالون\",\n",
        "    \"🎀\":    \"ورده\",\n",
        "    \"💵\":  \"فلوس\",\n",
        "    \"😋\":  \"جائع\",\n",
        "    \"😛\":  \"يغيظ\",\n",
        "    \"😠\":  \"غاضب\",\n",
        "    \"✍🏻\":  \"يكتب\",\n",
        "    \"🌾\":  \"ارز\",\n",
        "    \"👣\":  \"اثر قدمين\",\n",
        "    \"❌\":\"رفض\",\n",
        "    \"🍟\":\"طعام\",\n",
        "    \"👬\":\"صداقة\",\n",
        "    \"🐰\":\"ارنب\",\n",
        "    \"🦋\" : \"فراشة\",\n",
        "    \"☂\":\"مطر\",\n",
        "    \"⚜\":\"مملكة فرنسا\",\n",
        "    \"🐑\":\"خروف\",\n",
        "    \"🗣\":\"صوت مرتفع\",\n",
        "    \"👌🏼\":\"احسنت\",\n",
        "    \"☘\":\"مرح\",\n",
        "    \"😮\":\"صدمة\",\n",
        "    \"😦\":\"قلق\",\n",
        "    \"⭕\":\"الحق\",\n",
        "    \"✏️\":\"قلم\",\n",
        "    \"ℹ\":\"معلومات\",\n",
        "    \"🙍🏻\":\"رفض\",\n",
        "    \"⚪️\":\"نضارة نقاء\",\n",
        "    \"🐤\":\"حزن\",\n",
        "    \"💫\":\"مرح\",\n",
        "    \"💝\":\"حب\",\n",
        "    \"🍔\":\"طعام\",\n",
        "    \"❤︎\":\"حب\",\n",
        "    \"✈️\":\"سفر\",\n",
        "    \"🏃🏻‍♀️\":\"يسير\",\n",
        "    \"🍳\":\"ذكر\",\n",
        "    \"🎤\":\"مايك غناء\",\n",
        "    \"🎾\":\"كره\",\n",
        "    \"🐔\":\"دجاجة\",\n",
        "    \"🙋\":\"سؤال\",\n",
        "    \"📮\":\"بحر\",\n",
        "    \"💉\":\"دواء\",\n",
        "    \"🙏🏼\":\"رجاء طلب\",\n",
        "    \"💂🏿 \":\"حارس\",\n",
        "    \"🎬\":\"سينما\",\n",
        "    \"♦️\":\"مرح\",\n",
        "    \"💡\":\"قكرة\",\n",
        "    \"‼\":\"تعجب\",\n",
        "    \"👼\":\"طفل\",\n",
        "    \"🔑\":\"مفتاح\",\n",
        "    \"♥️\":\"حب\",\n",
        "    \"🌲\" : \"شجرة\",\n",
        "    \"🌳\" : \"شجرة\",\n",
        "    \"🚩\" : \"حذر\",\n",
        "    \"🚨\" : \"حذر\",\n",
        "    \"🛑\" : \"حذر\",\n",
        "    \"🕋\":\"كعبة\",\n",
        "    \"🐓\":\"دجاجة\",\n",
        "    \"💩\":\"معترض\",\n",
        "    \"👽\":\"فضائي\",\n",
        "    \"☔️\":\"مطر\",\n",
        "    \"🍷\":\"عصير\",\n",
        "    \"🌟\":\"نجمة\",\n",
        "    \"☁️\":\"سحب\",\n",
        "    \"👃\":\"معترض\",\n",
        "    \"🌺\":\"مرح\",\n",
        "    \"🔪\":\"سكينة\",\n",
        "    \"♨\":\"سخونية\",\n",
        "    \"👊🏼\":\"ضرب\",\n",
        "    \"✏\":\"قلم\",\n",
        "    \"🚶🏾‍♀️\":\"يسير\",\n",
        "    \"👊\":\"ضربة\",\n",
        "    \"◾️\":\"وقف\",\n",
        "    \"😚\":\"حب\",\n",
        "    \"🔸\":\"مرح\",\n",
        "    \"👎🏻\":\"لا يعجبني\",\n",
        "    \"👊🏽\":\"ضربة\",\n",
        "    \"😙\":\"حب\",\n",
        "    \"🎥\":\"تصوير\",\n",
        "    \"👉\":\"جذب انتباه\",\n",
        "    \"👏🏽\":\"يصفق\",\n",
        "    \"💪🏻\":\"عضلات\",\n",
        "    \"🏴\":\"اسود\",\n",
        "    \"🔥\":\"حريق\",\n",
        "    \"😬\":\"عدم الراحة\",\n",
        "    \"👊🏿\":\"يضرب\",\n",
        "    \"📚\" : \"كتب\",\n",
        "    \"📌\" : \"علق\",\n",
        "    \"🌿\":\"ورقه شجره\",\n",
        "    \"✋🏼\":\"كف ايد\",\n",
        "    \"👐\":\"ايدي مفتوحه\",\n",
        "    \"☠️\":\"وجه مرعب\",\n",
        "    \"🎉\":\"يهنئ\",\n",
        "    \"🔕\" :\"صامت\",\n",
        "    \"😿\":\"وجه حزين\",\n",
        "    \"☹️\":\"وجه يائس\",\n",
        "    \"😘\" :\"حب\",\n",
        "    \"😰\" :\"خوف و حزن\",\n",
        "    \"🌼\":\"ورده\",\n",
        "    \"💋\": \"بوسه\",\n",
        "    \"👇\":\"لاسفل\",\n",
        "    \"❣️\":\"حب\",\n",
        "    \"🎧\":\"سماعات\",\n",
        "    \"📝\":\"يكتب\",\n",
        "    \"😇\":\"دايخ\",\n",
        "    \"😈\":\"رعب\",\n",
        "    \"🏃\":\"يجري\",\n",
        "    \"✌🏻\":\"علامه النصر\",\n",
        "    \"🔫\":\"يضرب\",\n",
        "    \"❗️\":\"تعجب\",\n",
        "    \"👎\":\"غير موافق\",\n",
        "    \"🔐\":\"قفل\",\n",
        "    \"👈\":\"لليمين\",\n",
        "    \"™\":\"رمز\",\n",
        "    \"🚶🏽\":\"يتمشي\",\n",
        "    \"😯\":\"متفاجأ\",\n",
        "    \"✊\":\"يد مغلقه\",\n",
        "    \"😻\":\"اعجاب\",\n",
        "    \"🙉\" :\"قرد\",\n",
        "    \"👧\":\"طفله صغيره\",\n",
        "    \"🔴\":\"دائره حمراء\",\n",
        "    \"💪🏽\":\"قوه\",\n",
        "    \"💤\":\"ينام\",\n",
        "    \"👀\":\"ينظر\",\n",
        "    \"✍🏻\":\"يكتب\",\n",
        "    \"❄️\":\"تلج\",\n",
        "    \"💀\":\"رعب\",\n",
        "    \"😤\":\"وجه عابس\",\n",
        "    \"🖋\":\"قلم\",\n",
        "    \"🎩\":\"كاب\",\n",
        "    \"☕️\":\"قهوه\",\n",
        "    \"😹\":\"ضحك\",\n",
        "    \"💓\":\"حب\",\n",
        "    \"☄️\":\"نار\",\n",
        "    \"👻\":\"رعب\",\n",
        "    \"✋\": \"يد\",\n",
        "    \"🌱\": \"نبتة\",\n",
        "\n",
        "    # Emoticons\n",
        "    \":)\" : \"يبتسم\",\n",
        "    \"(:\" : \"يبتسم\",\n",
        "    \":(\" : \"حزين\",\n",
        "    \"xD\" : \"يضحك\",\n",
        "    \":=(\": \"يبكي\",\n",
        "    \":'(\": \"حزن\",\n",
        "    \":'‑(\": \"حزن\",\n",
        "    \"XD\" : \"يضحك\",\n",
        "    \":D\" : \"يبتسم\",\n",
        "    \"♬\" : \"موسيقي\",\n",
        "    \"♡\" : \"حب\",\n",
        "    \"☻\"  : \"يبتسم\",\n",
        "}\n",
        "\n",
        "def replace_emojis(text):\n",
        "    pattern = re.compile('|'.join(re.escape(key) for key in emojis.keys()))\n",
        "    replaced_text = pattern.sub(lambda match: emojis[match.group(0)] + ' ', text)\n",
        "    return emoji.replace_emoji(replaced_text, '')\n",
        "\n",
        "if not os.path.exists(\"preprocessed_data.csv\"):\n",
        "    data[\"tweet\"] = data[\"tweet\"].apply(lambda document: replace_emojis(document))"
      ]
    },
    {
      "attachments": {},
      "cell_type": "markdown",
      "metadata": {
        "id": "2Ir8Glj9EEsf"
      },
      "source": [
        "## Removing mentions"
      ]
    },
    {
      "cell_type": "code",
      "execution_count": 8,
      "metadata": {
        "id": "UXgrvqiKEEsg"
      },
      "outputs": [],
      "source": [
        "pattern = r'@[\\w]+'\n",
        "if not os.path.exists(\"preprocessed_data.csv\"):\n",
        "    data[\"tweet\"] = data[\"tweet\"].apply(lambda document: re.sub(pattern, '', document))"
      ]
    },
    {
      "attachments": {},
      "cell_type": "markdown",
      "metadata": {
        "id": "AA7faVLeEEsh"
      },
      "source": [
        "## Removing links"
      ]
    },
    {
      "cell_type": "code",
      "execution_count": 9,
      "metadata": {
        "id": "hm75bZvGEEsh"
      },
      "outputs": [],
      "source": [
        "pattern = r'https?://\\S+'\n",
        "if not os.path.exists(\"preprocessed_data.csv\"):\n",
        "    data[\"tweet\"] = data[\"tweet\"].apply(lambda document: re.sub(pattern, '', document))"
      ]
    },
    {
      "attachments": {},
      "cell_type": "markdown",
      "metadata": {
        "id": "uNb_LQfGEEsl"
      },
      "source": [
        "## Removing whitespaces\n",
        "In this step we get rid of extra whitespaces as well as new lines"
      ]
    },
    {
      "cell_type": "code",
      "execution_count": 10,
      "metadata": {
        "id": "PZ-mpCmREEsm"
      },
      "outputs": [],
      "source": [
        "pattern = r'\\s+|\\n+|_'\n",
        "if not os.path.exists(\"preprocessed_data.csv\"):\n",
        "    data[\"tweet\"] = data[\"tweet\"].apply(lambda document: re.sub(pattern, ' ', document))"
      ]
    },
    {
      "attachments": {},
      "cell_type": "markdown",
      "metadata": {
        "id": "_TMg71jAEEsn"
      },
      "source": [
        "## Remove foriegn words"
      ]
    },
    {
      "attachments": {},
      "cell_type": "markdown",
      "metadata": {
        "id": "hD1EjRxMEEsn"
      },
      "source": [
        "The text includes english, japanese and words for other languages"
      ]
    },
    {
      "cell_type": "code",
      "execution_count": 11,
      "metadata": {
        "id": "HraPS5_SEEso"
      },
      "outputs": [],
      "source": [
        "pattern = r'[a-zA-Z]+'\n",
        "if not os.path.exists(\"preprocessed_data.csv\"):\n",
        "    data[\"tweet\"] = data[\"tweet\"].apply(lambda document: re.sub(pattern, '', document))"
      ]
    },
    {
      "attachments": {},
      "cell_type": "markdown",
      "metadata": {
        "id": "_r3f6p9DEEsp"
      },
      "source": [
        "## Remove punctuations & special chars"
      ]
    },
    {
      "cell_type": "code",
      "execution_count": 12,
      "metadata": {
        "id": "g2gtB69BEEsp"
      },
      "outputs": [],
      "source": [
        "pattern = r'[^\\w\\s\\u0600-\\u06FF]+|ﷺ|۩|⓵|؟|؛|۞|ﷻ|ö'\n",
        "if not os.path.exists(\"preprocessed_data.csv\"):\n",
        "    data[\"tweet\"] = data[\"tweet\"].apply(lambda document: re.sub(pattern, '', document))"
      ]
    },
    {
      "attachments": {},
      "cell_type": "markdown",
      "metadata": {
        "id": "-BEPhEhYEEsq"
      },
      "source": [
        "## Remove consecutive characters"
      ]
    },
    {
      "cell_type": "code",
      "execution_count": 13,
      "metadata": {
        "id": "pjEAl55ZEEsr"
      },
      "outputs": [],
      "source": [
        "pattern = r'(.)\\1+'\n",
        "if not os.path.exists(\"preprocessed_data.csv\"):\n",
        "    data[\"tweet\"] = data[\"tweet\"].apply(lambda document: re.sub(pattern, r'\\1', document))"
      ]
    },
    {
      "attachments": {},
      "cell_type": "markdown",
      "metadata": {
        "id": "MZctqr8qEEsr"
      },
      "source": [
        "## Removing numbers"
      ]
    },
    {
      "cell_type": "code",
      "execution_count": 14,
      "metadata": {
        "id": "xUfiKGlxEEst"
      },
      "outputs": [],
      "source": [
        "pattern = r'\\d+'\n",
        "if not os.path.exists(\"preprocessed_data.csv\"):\n",
        "    data[\"tweet\"] = data[\"tweet\"].apply(lambda document: re.sub(pattern, '', document))"
      ]
    },
    {
      "attachments": {},
      "cell_type": "markdown",
      "metadata": {
        "id": "8Sy4GggUEEsw"
      },
      "source": [
        "## Tokenization"
      ]
    },
    {
      "cell_type": "code",
      "execution_count": 15,
      "metadata": {
        "id": "_Nf_D_MeEEsx"
      },
      "outputs": [],
      "source": [
        "tokenizer = TweetTokenizer()\n",
        "if not os.path.exists(\"preprocessed_data.csv\"):\n",
        "    data[\"tweet\"] = data[\"tweet\"].apply(lambda document: tokenizer.tokenize(document))\n",
        "    data[\"tweet\"] = data[\"tweet\"].apply(lambda document: \" \".join(document).strip())"
      ]
    },
    {
      "cell_type": "code",
      "execution_count": 16,
      "metadata": {
        "colab": {
          "base_uri": "https://localhost:8080/",
          "height": 143
        },
        "id": "OK4X1pWUEEsx",
        "outputId": "dcd9960c-15d8-4ec5-e197-94b11c2cb673"
      },
      "outputs": [
        {
          "data": {
            "text/html": [
              "<div>\n",
              "<style scoped>\n",
              "    .dataframe tbody tr th:only-of-type {\n",
              "        vertical-align: middle;\n",
              "    }\n",
              "\n",
              "    .dataframe tbody tr th {\n",
              "        vertical-align: top;\n",
              "    }\n",
              "\n",
              "    .dataframe thead th {\n",
              "        text-align: right;\n",
              "    }\n",
              "</style>\n",
              "<table border=\"1\" class=\"dataframe\">\n",
              "  <thead>\n",
              "    <tr style=\"text-align: right;\">\n",
              "      <th></th>\n",
              "      <th>tweet</th>\n",
              "      <th>class</th>\n",
              "    </tr>\n",
              "  </thead>\n",
              "  <tbody>\n",
              "    <tr>\n",
              "      <th>9691</th>\n",
              "      <td>الحج إجراء لأداء تقدموا مواطن شروق القرعة المق...</td>\n",
              "      <td>OBJ</td>\n",
              "    </tr>\n",
              "    <tr>\n",
              "      <th>9692</th>\n",
              "      <td>صحتها النوم تقولها علشان هتحبك بحبك</td>\n",
              "      <td>POS</td>\n",
              "    </tr>\n",
              "    <tr>\n",
              "      <th>9693</th>\n",
              "      <td>حسبته الامتحان غلط كتبته شى</td>\n",
              "      <td>NEG</td>\n",
              "    </tr>\n",
              "  </tbody>\n",
              "</table>\n",
              "</div>"
            ],
            "text/plain": [
              "                                                  tweet class\n",
              "9691  الحج إجراء لأداء تقدموا مواطن شروق القرعة المق...   OBJ\n",
              "9692                صحتها النوم تقولها علشان هتحبك بحبك   POS\n",
              "9693                        حسبته الامتحان غلط كتبته شى   NEG"
            ]
          },
          "execution_count": 16,
          "metadata": {},
          "output_type": "execute_result"
        }
      ],
      "source": [
        "data.tail(3)"
      ]
    },
    {
      "attachments": {},
      "cell_type": "markdown",
      "metadata": {
        "id": "pQOiy36-EEsy"
      },
      "source": [
        "## Stemming\n"
      ]
    },
    {
      "cell_type": "code",
      "execution_count": 17,
      "metadata": {
        "id": "hFgkKc6GEEsy"
      },
      "outputs": [],
      "source": [
        "stemmer = ISRIStemmer()\n",
        "if not os.path.exists(\"preprocessed_data.csv\"):\n",
        "    with tqdm.tqdm(range(data.shape[0])) as progress:\n",
        "        for i in progress:\n",
        "            data.iloc[i, 0] = stemmer.stem(data.iloc[i, 0])"
      ]
    },
    {
      "attachments": {},
      "cell_type": "markdown",
      "metadata": {},
      "source": [
        "## Removing stop words"
      ]
    },
    {
      "cell_type": "code",
      "execution_count": 18,
      "metadata": {},
      "outputs": [],
      "source": [
        "arabic_stopwords = stopwords.words('arabic')\n",
        "arabic_stopwords.extend(stp.stopwords_list())\n",
        "stop_words = {entry for entry in arabic_stopwords}\n",
        "stopwords_stemmer = ISRIStemmer()\n",
        "with open(\"arabic_stopwords.txt\", \"r\", encoding=\"UTF-8\") as file:\n",
        "    for word in file:\n",
        "        pass\n",
        "        stop_words.add(stopwords_stemmer.stem(word.strip()))"
      ]
    },
    {
      "cell_type": "code",
      "execution_count": 19,
      "metadata": {},
      "outputs": [],
      "source": [
        "def remove_stop_words(tweet: str) -> str:\n",
        "    words = set(tweet.split(sep = ' '))\n",
        "    return \" \".join(list((words - stop_words)))\n",
        "\n",
        "if not os.path.exists(\"preprocessed_data.csv\"):\n",
        "    data[\"tweet\"] = data[\"tweet\"].apply(lambda document: remove_stop_words(document))"
      ]
    },
    {
      "attachments": {},
      "cell_type": "markdown",
      "metadata": {},
      "source": [
        "## Save preprocessed data"
      ]
    },
    {
      "cell_type": "code",
      "execution_count": 20,
      "metadata": {
        "id": "lw0Z0MsXEEsz"
      },
      "outputs": [],
      "source": [
        "if not os.path.exists(\"preprocessed_data.csv\"):\n",
        "    # remove empty entries\n",
        "    data.replace('', pd.NA, inplace=True)  # Replace empty strings with NA\n",
        "    data.dropna(inplace=True)  # Drop rows with NA values\n",
        "    data.to_csv(\"preprocessed_data.csv\") # inspect the resulting file to validate the preprocessing"
      ]
    },
    {
      "attachments": {},
      "cell_type": "markdown",
      "metadata": {
        "id": "l4AEbbxhEEsz"
      },
      "source": [
        "# Text representation"
      ]
    },
    {
      "attachments": {},
      "cell_type": "markdown",
      "metadata": {},
      "source": [
        "## BoW (Bag-of-Words)"
      ]
    },
    {
      "cell_type": "code",
      "execution_count": 21,
      "metadata": {
        "id": "KnE8RuVGEEtI"
      },
      "outputs": [
        {
          "data": {
            "text/plain": [
              "(29706,)"
            ]
          },
          "execution_count": 21,
          "metadata": {},
          "output_type": "execute_result"
        }
      ],
      "source": [
        "X_train, X_test, y_train, y_test = train_test_split(data[\"tweet\"], data[\"class\"], test_size = 0.2, random_state = SEED, stratify = data[\"class\"])\n",
        "\n",
        "vectorizer = CountVectorizer()\n",
        "\n",
        "X_train = vectorizer.fit_transform(X_train).toarray()\n",
        "X_test = vectorizer.transform(X_test).toarray()\n",
        "\n",
        "X_train[0].shape"
      ]
    },
    {
      "attachments": {},
      "cell_type": "markdown",
      "metadata": {},
      "source": [
        "### Performance evaluation\n",
        "#### Naive bayes"
      ]
    },
    {
      "cell_type": "code",
      "execution_count": 22,
      "metadata": {},
      "outputs": [
        {
          "name": "stdout",
          "output_type": "stream",
          "text": [
            "Accuracy: 53.74%\n",
            "Precesion : 53.74%\n",
            "Recall : 53.74%\n",
            "F1 score : 53.74%\n"
          ]
        }
      ],
      "source": [
        "gnb = GaussianNB()\n",
        "gnb.fit(X_train, y_train)\n",
        "y_pred = gnb.predict(X_test)\n",
        "\n",
        "accuracy = accuracy_score(y_test, y_pred)\n",
        "precision, recall, f1_score, _ = precision_recall_fscore_support(y_test, y_pred, average='micro')\n",
        "\n",
        "print(f\"Accuracy: {accuracy * 100:.2f}%\")\n",
        "print(f\"Precesion : {precision * 100:.2f}%\")\n",
        "print(f\"Recall : {recall * 100:.2f}%\")\n",
        "print(f\"F1 score : {f1_score * 100:.2f}%\")"
      ]
    },
    {
      "attachments": {},
      "cell_type": "markdown",
      "metadata": {},
      "source": [
        "#### Logistic regression"
      ]
    },
    {
      "cell_type": "code",
      "execution_count": 25,
      "metadata": {
        "colab": {
          "base_uri": "https://localhost:8080/"
        },
        "id": "r_N8hCmIEEtK",
        "outputId": "7fd72e2e-c809-445a-851d-035c5e8381eb"
      },
      "outputs": [
        {
          "name": "stdout",
          "output_type": "stream",
          "text": [
            "Accuracy: 69.39%\n",
            "Precesion : 69.39%\n",
            "Recall : 69.39%\n",
            "F1 score : 69.39%\n"
          ]
        }
      ],
      "source": [
        "model = LogisticRegression(random_state = SEED, max_iter = 1000)\n",
        "model.fit(X_train, y_train)\n",
        "y_pred = model.predict(X_test)\n",
        "\n",
        "accuracy = accuracy_score(y_test, y_pred)\n",
        "precision, recall, f1_score, _ = precision_recall_fscore_support(y_test, y_pred, average='micro')\n",
        "\n",
        "print(f\"Accuracy: {accuracy * 100:.2f}%\")\n",
        "print(f\"Precesion : {precision * 100:.2f}%\")\n",
        "print(f\"Recall : {recall * 100:.2f}%\")\n",
        "print(f\"F1 score : {f1_score * 100:.2f}%\")"
      ]
    },
    {
      "attachments": {},
      "cell_type": "markdown",
      "metadata": {},
      "source": [
        "#### SVM\n",
        "\n",
        "We were unable to train this model on our machines using the initial dataset, due to the **curse of dimensionality**, so we added dimensioanlity reduction"
      ]
    },
    {
      "cell_type": "code",
      "execution_count": 31,
      "metadata": {},
      "outputs": [
        {
          "name": "stdout",
          "output_type": "stream",
          "text": [
            "Accuracy: 66.96%\n",
            "Precesion : 66.96%\n",
            "Recall : 66.96%\n",
            "F1 score : 66.96%\n"
          ]
        }
      ],
      "source": [
        "scaler = StandardScaler()\n",
        "pca = PCA(n_components = 5000)\n",
        "svm = SVC(random_state = SEED)\n",
        "\n",
        "scaled_X_train = scaler.fit_transform(X_train)\n",
        "scaled_X_test = scaler.transform(X_test)\n",
        "X_train_SVM = pca.fit_transform(scaled_X_train)\n",
        "X_test_SVM  = pca.transform(scaled_X_test)\n",
        "\n",
        "svm.fit(X_train_SVM, y_train)\n",
        "y_pred = svm.predict(X_test_SVM)\n",
        "\n",
        "accuracy = accuracy_score(y_test, y_pred)\n",
        "precision, recall, f1_score, _ = precision_recall_fscore_support(y_test, y_pred, average='micro')\n",
        "\n",
        "print(f\"Accuracy: {accuracy * 100:.2f}%\")\n",
        "print(f\"Precesion : {precision * 100:.2f}%\")\n",
        "print(f\"Recall : {recall * 100:.2f}%\")\n",
        "print(f\"F1 score : {f1_score * 100:.2f}%\")"
      ]
    },
    {
      "attachments": {},
      "cell_type": "markdown",
      "metadata": {},
      "source": [
        "#### Random forest"
      ]
    },
    {
      "cell_type": "code",
      "execution_count": null,
      "metadata": {},
      "outputs": [],
      "source": [
        "rf = RandomForestClassifier(random_state = SEED)\n",
        "rf.fit(X_train, y_train)\n",
        "y_pred = rf.predict(X_test)\n",
        "\n",
        "accuracy = accuracy_score(y_test, y_pred)\n",
        "precision, recall, f1_score, _ = precision_recall_fscore_support(y_test, y_pred, average='micro')\n",
        "\n",
        "print(f\"Accuracy: {accuracy * 100:.2f}%\")\n",
        "print(f\"Precesion : {precision * 100:.2f}%\")\n",
        "print(f\"Recall : {recall * 100:.2f}%\")\n",
        "print(f\"F1 score : {f1_score * 100:.2f}%\")"
      ]
    },
    {
      "attachments": {},
      "cell_type": "markdown",
      "metadata": {},
      "source": [
        "## TF-IDF"
      ]
    },
    {
      "cell_type": "code",
      "execution_count": 35,
      "metadata": {},
      "outputs": [
        {
          "data": {
            "text/plain": [
              "(29706,)"
            ]
          },
          "execution_count": 35,
          "metadata": {},
          "output_type": "execute_result"
        }
      ],
      "source": [
        "X_train, X_test, y_train, y_test = train_test_split(data[\"tweet\"], data[\"class\"], test_size = 0.2, random_state = SEED, stratify= data[\"class\"])\n",
        "\n",
        "vectorizer = TfidfVectorizer()\n",
        "\n",
        "X_train = vectorizer.fit_transform(X_train).toarray()\n",
        "X_test = vectorizer.transform(X_test).toarray()\n",
        "\n",
        "X_train[0].shape"
      ]
    },
    {
      "attachments": {},
      "cell_type": "markdown",
      "metadata": {},
      "source": [
        "### Performance evaluation\n",
        "#### Naive bayes"
      ]
    },
    {
      "cell_type": "code",
      "execution_count": 37,
      "metadata": {},
      "outputs": [
        {
          "name": "stdout",
          "output_type": "stream",
          "text": [
            "Accuracy: 53.95%\n",
            "Precesion : 53.95%\n",
            "Recall : 53.95%\n",
            "F1 score : 53.95%\n"
          ]
        }
      ],
      "source": [
        "gnb = GaussianNB()\n",
        "gnb.fit(X_train, y_train)\n",
        "y_pred = gnb.predict(X_test)\n",
        "\n",
        "accuracy = accuracy_score(y_test, y_pred)\n",
        "precision, recall, f1_score, _ = precision_recall_fscore_support(y_test, y_pred, average='micro')\n",
        "\n",
        "print(f\"Accuracy: {accuracy * 100:.2f}%\")\n",
        "print(f\"Precesion : {precision * 100:.2f}%\")\n",
        "print(f\"Recall : {recall * 100:.2f}%\")\n",
        "print(f\"F1 score : {f1_score * 100:.2f}%\")"
      ]
    },
    {
      "attachments": {},
      "cell_type": "markdown",
      "metadata": {},
      "source": [
        "#### Logistic regression"
      ]
    },
    {
      "cell_type": "code",
      "execution_count": 39,
      "metadata": {},
      "outputs": [
        {
          "name": "stdout",
          "output_type": "stream",
          "text": [
            "Accuracy: 68.20%\n",
            "Precesion : 68.20%\n",
            "Recall : 68.20%\n",
            "F1 score : 68.20%\n"
          ]
        }
      ],
      "source": [
        "model = LogisticRegression()\n",
        "model.fit(X_train, y_train)\n",
        "y_pred = model.predict(X_test)\n",
        "\n",
        "accuracy = accuracy_score(y_test, y_pred)\n",
        "precision, recall, f1_score, _ = precision_recall_fscore_support(y_test, y_pred, average='micro')\n",
        "\n",
        "print(f\"Accuracy: {accuracy * 100:.2f}%\")\n",
        "print(f\"Precesion : {precision * 100:.2f}%\")\n",
        "print(f\"Recall : {recall * 100:.2f}%\")\n",
        "print(f\"F1 score : {f1_score * 100:.2f}%\")"
      ]
    },
    {
      "attachments": {},
      "cell_type": "markdown",
      "metadata": {},
      "source": [
        "#### SVM"
      ]
    },
    {
      "cell_type": "code",
      "execution_count": 40,
      "metadata": {},
      "outputs": [
        {
          "name": "stdout",
          "output_type": "stream",
          "text": [
            "Accuracy: 66.96%\n",
            "Precesion : 66.96%\n",
            "Recall : 66.96%\n",
            "F1 score : 66.96%\n"
          ]
        }
      ],
      "source": [
        "scaler = StandardScaler()\n",
        "pca = PCA(n_components = 5000)\n",
        "svm = SVC(random_state = SEED)\n",
        "\n",
        "scaled_X_train = scaler.fit_transform(X_train)\n",
        "scaled_X_test = scaler.transform(X_test)\n",
        "X_train_SVM = pca.fit_transform(scaled_X_train)\n",
        "X_test_SVM  = pca.transform(scaled_X_test)\n",
        "\n",
        "svm.fit(X_train_SVM, y_train)\n",
        "y_pred = svm.predict(X_test_SVM)\n",
        "\n",
        "accuracy = accuracy_score(y_test, y_pred)\n",
        "precision, recall, f1_score, _ = precision_recall_fscore_support(y_test, y_pred, average='micro')\n",
        "\n",
        "print(f\"Accuracy: {accuracy * 100:.2f}%\")\n",
        "print(f\"Precesion : {precision * 100:.2f}%\")\n",
        "print(f\"Recall : {recall * 100:.2f}%\")\n",
        "print(f\"F1 score : {f1_score * 100:.2f}%\")"
      ]
    },
    {
      "attachments": {},
      "cell_type": "markdown",
      "metadata": {},
      "source": [
        "#### Random Forest"
      ]
    },
    {
      "cell_type": "code",
      "execution_count": 41,
      "metadata": {},
      "outputs": [
        {
          "name": "stdout",
          "output_type": "stream",
          "text": [
            "Accuracy: 68.87%\n",
            "Precesion : 68.87%\n",
            "Recall : 68.87%\n",
            "F1 score : 68.87%\n"
          ]
        }
      ],
      "source": [
        "rf = RandomForestClassifier(random_state = SEED)\n",
        "rf.fit(X_train, y_train)\n",
        "y_pred = rf.predict(X_test)\n",
        "\n",
        "accuracy = accuracy_score(y_test, y_pred)\n",
        "precision, recall, f1_score, _ = precision_recall_fscore_support(y_test, y_pred, average='micro')\n",
        "\n",
        "print(f\"Accuracy: {accuracy * 100:.2f}%\")\n",
        "print(f\"Precesion : {precision * 100:.2f}%\")\n",
        "print(f\"Recall : {recall * 100:.2f}%\")\n",
        "print(f\"F1 score : {f1_score * 100:.2f}%\")"
      ]
    },
    {
      "attachments": {},
      "cell_type": "markdown",
      "metadata": {},
      "source": [
        "## LDA"
      ]
    },
    {
      "cell_type": "code",
      "execution_count": 42,
      "metadata": {},
      "outputs": [],
      "source": [
        "X_train, X_test, y_train, y_test = train_test_split(data[\"tweet\"], data[\"class\"], test_size = 0.2, random_state = SEED, stratify = data[\"class\"])\n",
        "\n",
        "vectorizer = CountVectorizer()\n",
        "\n",
        "X_train = vectorizer.fit_transform(X_train).toarray()\n",
        "X_test = vectorizer.transform(X_test).toarray()\n",
        "\n",
        "lda = LatentDirichletAllocation(n_components = 170, random_state = SEED)\n",
        "lda.fit(X_train)\n",
        "X_train = lda.transform(X_train)\n",
        "X_test = lda.transform(X_test)"
      ]
    },
    {
      "attachments": {},
      "cell_type": "markdown",
      "metadata": {},
      "source": [
        "### Performance evaluation\n",
        "#### Naive bayes"
      ]
    },
    {
      "cell_type": "code",
      "execution_count": 47,
      "metadata": {},
      "outputs": [
        {
          "name": "stdout",
          "output_type": "stream",
          "text": [
            "Accuracy: 14.82%\n",
            "Precesion : 26.71%\n",
            "Recall : 26.32%\n",
            "F1 score : 13.17%\n"
          ]
        }
      ],
      "source": [
        "gnb = GaussianNB()\n",
        "gnb.fit(X_train, y_train)\n",
        "y_pred = gnb.predict(X_test)\n",
        "\n",
        "accuracy = accuracy_score(y_test, y_pred)\n",
        "precision, recall, f1_score, _ = precision_recall_fscore_support(y_test, y_pred, average='micro')\n",
        "\n",
        "print(f\"Accuracy: {accuracy * 100:.2f}%\")\n",
        "print(f\"Precesion : {precision * 100:.2f}%\")\n",
        "print(f\"Recall : {recall * 100:.2f}%\")\n",
        "print(f\"F1 score : {f1_score * 100:.2f}%\")"
      ]
    },
    {
      "attachments": {},
      "cell_type": "markdown",
      "metadata": {},
      "source": [
        "#### Logistic regression"
      ]
    },
    {
      "cell_type": "code",
      "execution_count": 49,
      "metadata": {},
      "outputs": [
        {
          "name": "stdout",
          "output_type": "stream",
          "text": [
            "Accuracy: 66.70%\n",
            "Precesion : 66.70%\n",
            "Recall : 66.70%\n",
            "F1 score : 66.70%\n"
          ]
        }
      ],
      "source": [
        "model = LogisticRegression(random_state = SEED)\n",
        "model.fit(X_train, y_train)\n",
        "y_pred = model.predict(X_test)\n",
        "\n",
        "accuracy = accuracy_score(y_test, y_pred)\n",
        "precision, recall, f1_score, _ = precision_recall_fscore_support(y_test, y_pred, average='micro')\n",
        "\n",
        "print(f\"Accuracy: {accuracy * 100:.2f}%\")\n",
        "print(f\"Precesion : {precision * 100:.2f}%\")\n",
        "print(f\"Recall : {recall * 100:.2f}%\")\n",
        "print(f\"F1 score : {f1_score * 100:.2f}%\")"
      ]
    },
    {
      "attachments": {},
      "cell_type": "markdown",
      "metadata": {},
      "source": [
        "#### SVM"
      ]
    },
    {
      "cell_type": "code",
      "execution_count": 51,
      "metadata": {},
      "outputs": [
        {
          "name": "stdout",
          "output_type": "stream",
          "text": [
            "Accuracy: 66.70%\n",
            "Precesion : 66.70%\n",
            "Recall : 66.70%\n",
            "F1 score : 66.70%\n"
          ]
        }
      ],
      "source": [
        "svm = SVC(random_state = SEED)\n",
        "svm.fit(X_train, y_train)\n",
        "y_pred = svm.predict(X_test)\n",
        "\n",
        "accuracy = accuracy_score(y_test, y_pred)\n",
        "precision, recall, f1_score, _ = precision_recall_fscore_support(y_test, y_pred, average=\"micro\")\n",
        "\n",
        "print(f\"Accuracy: {accuracy * 100:.2f}%\")\n",
        "print(f\"Precesion : {precision * 100:.2f}%\")\n",
        "print(f\"Recall : {recall * 100:.2f}%\")\n",
        "print(f\"F1 score : {f1_score * 100:.2f}%\")"
      ]
    },
    {
      "attachments": {},
      "cell_type": "markdown",
      "metadata": {},
      "source": [
        "#### Random Forest"
      ]
    },
    {
      "cell_type": "code",
      "execution_count": 53,
      "metadata": {},
      "outputs": [
        {
          "name": "stdout",
          "output_type": "stream",
          "text": [
            "Accuracy: 65.93%\n",
            "Precesion : 65.93%\n",
            "Recall : 65.93%\n",
            "F1 score : 65.93%\n"
          ]
        }
      ],
      "source": [
        "rf = RandomForestClassifier(random_state = SEED)\n",
        "rf.fit(X_train, y_train)\n",
        "y_pred = rf.predict(X_test)\n",
        "\n",
        "accuracy = accuracy_score(y_test, y_pred)\n",
        "precision, recall, f1_score, _ = precision_recall_fscore_support(y_test, y_pred, average='micro')\n",
        "\n",
        "print(f\"Accuracy: {accuracy * 100:.2f}%\")\n",
        "print(f\"Precesion : {precision * 100:.2f}%\")\n",
        "print(f\"Recall : {recall * 100:.2f}%\")\n",
        "print(f\"F1 score : {f1_score * 100:.2f}%\")"
      ]
    },
    {
      "attachments": {},
      "cell_type": "markdown",
      "metadata": {},
      "source": [
        "## LSA"
      ]
    },
    {
      "cell_type": "code",
      "execution_count": 54,
      "metadata": {},
      "outputs": [],
      "source": [
        "X_train, X_test, y_train, y_test = train_test_split(data[\"tweet\"], data[\"class\"], test_size = 0.2, random_state = SEED, stratify = data[\"class\"])\n",
        "\n",
        "vectorizer = CountVectorizer()\n",
        "\n",
        "X_train = vectorizer.fit_transform(X_train).toarray()\n",
        "X_test = vectorizer.transform(X_test).toarray()\n",
        "\n",
        "lsa = TruncatedSVD(n_components = 200, random_state = SEED)\n",
        "X_train = lsa.fit_transform(X_train)\n",
        "X_test = lsa.transform(X_test)"
      ]
    },
    {
      "attachments": {},
      "cell_type": "markdown",
      "metadata": {},
      "source": [
        "### Performance evaluation\n",
        "#### Naive bayes"
      ]
    },
    {
      "cell_type": "code",
      "execution_count": 55,
      "metadata": {},
      "outputs": [
        {
          "name": "stdout",
          "output_type": "stream",
          "text": [
            "Accuracy: 29.27%\n",
            "Precesion : 29.27%\n",
            "Recall : 29.27%\n",
            "F1 score : 29.27%\n"
          ]
        }
      ],
      "source": [
        "gnb = GaussianNB()\n",
        "gnb.fit(X_train, y_train)\n",
        "y_pred = gnb.predict(X_test)\n",
        "\n",
        "accuracy = accuracy_score(y_test, y_pred)\n",
        "precision, recall, f1_score, _ = precision_recall_fscore_support(y_test, y_pred, average='micro')\n",
        "\n",
        "print(f\"Accuracy: {accuracy * 100:.2f}%\")\n",
        "print(f\"Precesion : {precision * 100:.2f}%\")\n",
        "print(f\"Recall : {recall * 100:.2f}%\")\n",
        "print(f\"F1 score : {f1_score * 100:.2f}%\")"
      ]
    },
    {
      "attachments": {},
      "cell_type": "markdown",
      "metadata": {},
      "source": [
        "#### Logistic regression"
      ]
    },
    {
      "cell_type": "code",
      "execution_count": 57,
      "metadata": {},
      "outputs": [
        {
          "name": "stdout",
          "output_type": "stream",
          "text": [
            "Accuracy: 68.25%\n",
            "Precesion : 68.25%\n",
            "Recall : 68.25%\n",
            "F1 score : 68.25%\n"
          ]
        }
      ],
      "source": [
        "model = LogisticRegression(random_state = SEED)\n",
        "model.fit(X_train, y_train)\n",
        "y_pred = model.predict(X_test)\n",
        "\n",
        "accuracy = accuracy_score(y_test, y_pred)\n",
        "precision, recall, f1_score, _ = precision_recall_fscore_support(y_test, y_pred, average='micro')\n",
        "\n",
        "print(f\"Accuracy: {accuracy * 100:.2f}%\")\n",
        "print(f\"Precesion : {precision * 100:.2f}%\")\n",
        "print(f\"Recall : {recall * 100:.2f}%\")\n",
        "print(f\"F1 score : {f1_score * 100:.2f}%\")"
      ]
    },
    {
      "attachments": {},
      "cell_type": "markdown",
      "metadata": {},
      "source": [
        "#### SVM"
      ]
    },
    {
      "cell_type": "code",
      "execution_count": 59,
      "metadata": {},
      "outputs": [
        {
          "name": "stdout",
          "output_type": "stream",
          "text": [
            "Accuracy: 68.40%\n",
            "Precesion : 68.40%\n",
            "Recall : 68.40%\n",
            "F1 score : 68.40%\n"
          ]
        }
      ],
      "source": [
        "svm = SVC(random_state = SEED)\n",
        "svm.fit(X_train, y_train)\n",
        "y_pred = svm.predict(X_test)\n",
        "\n",
        "accuracy = accuracy_score(y_test, y_pred)\n",
        "precision, recall, f1_score, _ = precision_recall_fscore_support(y_test, y_pred, average='micro')\n",
        "\n",
        "print(f\"Accuracy: {accuracy * 100:.2f}%\")\n",
        "print(f\"Precesion : {precision * 100:.2f}%\")\n",
        "print(f\"Recall : {recall * 100:.2f}%\")\n",
        "print(f\"F1 score : {f1_score * 100:.2f}%\")"
      ]
    },
    {
      "attachments": {},
      "cell_type": "markdown",
      "metadata": {},
      "source": [
        "#### Random Forest"
      ]
    },
    {
      "cell_type": "code",
      "execution_count": 61,
      "metadata": {},
      "outputs": [
        {
          "name": "stdout",
          "output_type": "stream",
          "text": [
            "Accuracy: 67.79%\n",
            "Precesion : 67.79%\n",
            "Recall : 67.79%\n",
            "F1 score : 67.79%\n"
          ]
        }
      ],
      "source": [
        "rf = RandomForestClassifier()\n",
        "rf.fit(X_train, y_train)\n",
        "y_pred = rf.predict(X_test)\n",
        "\n",
        "accuracy = accuracy_score(y_test, y_pred)\n",
        "precision, recall, f1_score, _ = precision_recall_fscore_support(y_test, y_pred, average='micro')\n",
        "\n",
        "print(f\"Accuracy: {accuracy * 100:.2f}%\")\n",
        "print(f\"Precesion : {precision * 100:.2f}%\")\n",
        "print(f\"Recall : {recall * 100:.2f}%\")\n",
        "print(f\"F1 score : {f1_score * 100:.2f}%\")"
      ]
    },
    {
      "attachments": {},
      "cell_type": "markdown",
      "metadata": {},
      "source": [
        "## BoC (Bag-of-concepts)\n",
        "\n",
        "The BOC (Bag-of-Concepts) method has been proposed as a solution to the problem of large dimensions and sparsity that traditional methods such as TF-IDF and Bag of words suffer from."
      ]
    },
    {
      "attachments": {},
      "cell_type": "markdown",
      "metadata": {},
      "source": [
        "### Word embeddings\n",
        "This is done using the AraVec model which is trained on arabic tweets"
      ]
    },
    {
      "cell_type": "code",
      "execution_count": 62,
      "metadata": {},
      "outputs": [
        {
          "name": "stdout",
          "output_type": "stream",
          "text": [
            "total skipped : 29925 (28.70%)\n"
          ]
        }
      ],
      "source": [
        "model = gensim.models.Word2Vec.load(\"./aravec/full_uni_cbow_100_twitter/full_uni_cbow_100_twitter.mdl\")\n",
        "word_vecs = {}\n",
        "total, skipped = 0, 0\n",
        "for tweet in data[\"tweet\"]:\n",
        "    for word in tweet.split(\" \"):\n",
        "        total += 1\n",
        "        try:\n",
        "            word_vecs[word] = model.wv[word]\n",
        "        except Exception:\n",
        "            skipped += 1\n",
        "print(f\"total skipped : {skipped} ({(skipped / total) * 100 :.2f}%)\")"
      ]
    },
    {
      "attachments": {},
      "cell_type": "markdown",
      "metadata": {},
      "source": [
        "### Clustering the words embeddings"
      ]
    },
    {
      "cell_type": "code",
      "execution_count": 63,
      "metadata": {},
      "outputs": [
        {
          "name": "stderr",
          "output_type": "stream",
          "text": [
            "c:\\Python311\\Lib\\site-packages\\sklearn\\cluster\\_kmeans.py:1416: FutureWarning: The default value of `n_init` will change from 10 to 'auto' in 1.4. Set the value of `n_init` explicitly to suppress the warning\n",
            "  super()._check_params_vs_input(X, default_n_init=10)\n"
          ]
        },
        {
          "name": "stdout",
          "output_type": "stream",
          "text": [
            "23290\n"
          ]
        }
      ],
      "source": [
        "NUM_CONCEPTS = 130\n",
        "model = KMeans(n_clusters = NUM_CONCEPTS, random_state = SEED)\n",
        "X = list(word_vecs.values())\n",
        "model.fit(X)\n",
        "concepts = model.predict(X)\n",
        "print(len(X))"
      ]
    },
    {
      "attachments": {
        "image.png": {
          "image/png": "[encoded data removed]"
        }
      },
      "cell_type": "markdown",
      "metadata": {},
      "source": [
        "### Concept extraction\n",
        "Now that we related words to concepts, we can create a document representataion, in which we express the degree of which a document contains a certain concept, and instead of taking only the freuqncies, we consider an approach similar to TF-IDF called, CF-IDF.\n",
        "\n",
        "CF-IDF is defined using the following formula : \n",
        "\n",
        "![image.png](attachment:image.png)\n",
        "\n",
        "\n",
        "such that : \n",
        "\n",
        "    * |D| is the number of documents in the corpus\n",
        "    * n_c is the number of occurences of concept c in document d\n",
        "    * n_k is the total number of concepts in this document "
      ]
    },
    {
      "cell_type": "code",
      "execution_count": 64,
      "metadata": {},
      "outputs": [
        {
          "name": "stdout",
          "output_type": "stream",
          "text": [
            "{'رئيس': 39, 'نتظر': 0, 'السود': 31, 'القضاء': 73, 'جمال': 101, 'الدين': 15, 'القيادي': 39, 'صدور': 57, 'الدكتور': 34, 'اهنئ': 57, 'بحزب': 39, 'روايته': 37, 'مصر': 22, 'عصام': 49, 'العريان': 49, 'واشنطن': 48, 'بامريكا': 22, 'برادعي': 127, 'يرسل': 119, 'مقرف': 109, 'شئ': 33, 'استقصائي': 57, 'فيلم': 99, 'كواليس': 76, 'يتناول': 32, 'شاهد': 35, 'تعرض': 47, 'الفسق': 15, 'الشيشان': 22, 'اقولها': 108, 'بخاطري': 9, 'وكيلك': 58, 'الحن': 42, 'والفجور': 106, 'تضحك': 12, 'اله': 123, 'تعطيني': 53, 'ليه': 65, 'يانبع': 86, 'مل': 42, 'انتخبوا': 127, 'العرص': 49, 'البرص': 127, 'صريح': 109, 'يتقال': 7, 'امير': 62, 'كاريوكي': 101, 'عيد': 76, 'فعلا': 33, 'الفتيات': 120, 'شاب': 3, 'ستستمر': 47, 'حب': 128, 'كبير': 109, 'احكي': 108, 'حدثت': 96, 'اعداد': 71, 'ادعوكم': 60, 'التفاصيل': 92, 'مركز': 77, 'لحضور': 76, 'السابق': 91, 'الماضي': 28, 'وضعها': 37, 'شبرا': 93, 'جرائم': 46, 'نتقدم': 66, 'تجعلنا': 19, 'العراق': 22, 'ليب': 42, 'اليمن': 22, 'الكويت': 22, 'قطر': 22, 'سوريا': 22, 'عمان': 22, 'علاج': 114, 'نتشورال': 0, 'السكري': 114, 'وطن': 128, 'عمرو': 49, 'الاستبداد': 15, 'حمزاوي': 49, 'كلام': 33, 'الطب': 97, 'العاملين': 120, 'الشرعي': 91, 'تزرع': 55, 'مي': 59, 'مزق': 27, 'شعبي': 3, 'انعدام': 126, 'محاصر': 25, 'اصرار': 126, 'واعلام': 106, 'وقضاء': 106, 'وغليان': 0, 'وغياب': 106, 'معطل': 25, 'الوضوء': 118, 'واركان': 129, 'طريق': 77, 'فرائض': 0, 'التطهر': 0, 'نعبد': 123, 'حسني': 49, 'روح': 128, 'اعتدالا': 0, 'سياسيا': 73, 'المنعم': 49, 'مقاصد': 129, 'ودينا': 101, 'الفتوح': 49, 'عبد': 62, 'رشوان': 49, 'اجتهد': 121, 'نكهات': 4, 'يوسف': 62, 'باسم': 101, 'الموبايل': 95, 'الشروق': 93, 'بالترشح': 38, 'المنصب': 51, 'المصرين': 120, 'جميعا': 66, 'خدمي': 3, 'منصب': 73, 'المعلمين': 120, 'بواجب': 38, 'وتدريب': 97, 'انشاء': 58, 'مراكز': 89, 'الدخل': 17, 'القيام': 20, 'لمعلمين': 57, 'رفع': 71, 'ادين': 124, 'الالتزام': 110, 'المدنين': 30, 'العسكري': 46, 'صاحب': 3, 'تقديم': 71, 'بعدم': 113, 'المجلس': 46, 'سياسي': 3, 'بتعهده': 0, 'ناشط': 3, 'لمحاكمات': 57, 'والانتخابات': 73, 'الحسي': 129, 'عمار': 62, 'الدستور': 73, 'بتطلب': 14, 'هنسالك': 78, 'وانتا': 127, 'مش': 112, 'وكلاب': 30, 'القصاص': 73, 'ضربوك': 0, 'واقف': 25, 'جيكا': 101, 'بالرصاص': 100, 'محاكم': 89, 'المتظاهر': 6, 'مجمع': 77, 'مدان': 3, 'عنف': 126, 'مقر': 77, 'لاين': 59, 'حزبي': 3, 'يقول': 108, 'يعرفش': 7, 'الانضمام': 20, 'الراغبين': 120, 'يسعدنا': 66, 'المحامين': 120, 'اشترا': 0, 'متحدي': 0, 'المجتمع': 15, 'زملائي': 120, 'لدمج': 2, 'تهدف': 47, 'الاعاقه': 15, 'تشرب': 12, 'حشيش': 18, 'تضرب': 12, 'تطلع': 12, 'هولع': 45, 'الجديد': 91, 'الشعب': 46, 'لمجلس': 39, 'العام': 51, 'هواجس': 57, 'توقعاتنا': 37, 'تاريخه': 116, 'السفراء': 120, 'ماشاء': 58, 'سحب': 71, 'يسجل': 32, 'مؤشر': 17, 'باله': 25, 'قدرات': 97, 'يجب': 125, 'دائما': 84, 'نثق': 124, 'النجاح': 15, 'وجود': 71, 'جزء': 69, 'سد': 77, 'موقف': 33, 'البلدين': 110, 'سابحث': 104, 'تشاد': 22, 'وفكري': 9, 'دائرتي': 37, 'لتعايش': 0, 'كتاب': 99, 'وفكرك': 115, 'ظلنا': 0, 'خالد': 62, 'دائرتك': 37, 'لدكتور': 101, 'بشر': 11, 'تحرمنا': 19, 'حزين': 25, 'يعيش': 75, 'ظبي': 77, 'المفكرين': 120, 'والكذب': 106, 'الجهل': 15, 'نعيش': 66, 'القيم': 41, 'مؤتمر': 39, 'العالم': 22, 'العلم': 15, 'والتواصل': 26, 'اخترع': 119, 'اخط': 42, 'اشوه': 86, 'عشان': 65, 'حاعرف': 78, 'اصرف': 104, 'الدنيا': 83, 'صفوت': 49, 'حد': 112, 'فلوس': 18, 'الاخوان': 46, 'حجازي': 49, 'ارتب': 53, 'زي': 65, 'تحالف': 110, 'عمليات': 89, 'المقدس': 74, 'لتنفيذ': 2, 'الثوري': 91, 'الشيعي': 6, 'بيت': 77, 'الحرس': 46, 'المد': 51, 'بتحبه': 14, 'اسم': 99, 'عمري': 54, 'لحد': 65, 'بلوك': 52, 'تكذب': 72, 'عملت': 45, 'هعمل': 45, 'عيب': 65, 'تمدح': 72, 'الانتخابي': 91, 'ويطال': 0, 'مبارك': 49, 'يقتصر': 94, 'السياسي': 91, 'المشهد': 51, 'والجماهيري': 0, 'ضعف': 126, 'عقود': 89, 'سلطات': 89, 'خارج': 2, 'السلاح': 46, 'تعي': 72, 'ومهامها': 0, 'وحدودها': 57, 'خطر': 94, 'حذرنا': 69, 'حمل': 99, 'تفهم': 72, 'لمجرد': 122, 'سند': 60, 'الرابط': 52, 'يحاسب': 80, 'المقال': 51, 'كاملا': 28, 'خياله': 128, 'مجرد': 29, 'الوطن': 40, 'الشعارات': 85, 'والكون': 31, 'عامين': 67, 'تيارات': 89, 'مشاريع': 89, 'لمصر': 22, 'خناقات': 127, 'قدمه': 80, 'مقتطفات': 99, 'هانزل': 45, 'بكره': 65, 'دي': 112, 'مساءا': 76, 'صحي': 109, 'بيه': 112, 'كنت': 90, 'وشكلي': 9, 'هاغيب': 0, 'مهم': 109, 'باحلم': 78, 'ويبدو': 122, 'شهرين': 67, 'وبعدين': 65, 'مسافر': 25, 'عيان': 100, 'كده': 112, 'مشروع': 77, 'حرامي': 3, 'طلع': 119, 'يظهر': 32, 'ويحيهم': 0, 'بالفيديو': 10, 'غرفته': 95, 'اخبار': 76, 'السلمين': 0, 'الطوب': 95, 'بخصوص': 113, 'بالتحريض': 106, 'الساجدين': 70, 'اتهام': 73, 'المتظاهرين': 46, 'قتل': 10, 'تفقد': 55, 'شيء': 33, 'حياتك': 115, 'غاليا': 28, 'مالك': 86, 'فقدت': 96, 'شرفك': 115, 'حاجات': 112, 'بتفرح': 14, 'جونا': 86, 'غرد': 123, 'تصوير': 99, 'تصميمي': 26, 'مطر': 128, 'بصوره': 4, 'يعجبكم': 79, 'وهلون': 0, 'خقه': 86, 'برنامج': 99, 'والدم': 106, 'والضفادع': 106, 'ونسي': 44, 'سيدنا': 24, 'مرسي': 49, 'والقمل': 106, 'سعيد': 62, 'سلفي': 3, 'العظيم': 123, 'الجراد': 114, 'الانترنت': 17, 'المعلومات': 92, 'لتزم': 0, 'مشارك': 3, 'العمليه': 37, 'لمباحث': 57, 'بلاغ': 73, 'يعرف': 61, 'ده': 112, 'يتقطع': 27, 'دوله': 22, 'محدش': 112, 'توفر': 71, 'كهربتها': 0, 'جمهوريه': 22, 'نور': 31, 'ماينفعش': 112, 'احنا': 21, 'بقيت': 45, 'متقدرش': 14, 'يقولي': 108, 'مفيش': 112, 'العرب': 40, 'الربيع': 81, 'العالمي': 91, 'لسان': 126, 'كزمن': 0, 'بيتهم': 95, 'المولود': 6, 'يجمع': 32, 'يجعل': 32, 'الطيب': 31, 'لنعم': 57, 'بورك': 60, 'حوافز': 89, 'الحكومي': 91, 'لتعليم': 2, 'القطاع': 17, 'لمشروعات': 57, 'قومي': 86, 'وتبني': 117, 'ومحو': 117, 'الهواري': 49, 'ضيف': 62, 'كاتب': 108, 'الصحفي': 34, 'المحترم': 6, 'الحسيني': 49, 'باب': 77, 'قلبك': 83, 'اكتب': 53, 'والوقت': 54, 'ومواجهك': 117, 'والتقاليد': 129, 'وجهك': 83, 'ضيق': 63, 'قاسي': 25, 'فراق': 128, 'العرض': 51, 'تشويه': 71, 'حملات': 89, 'اجد': 61, 'باذن': 58, 'انتظار': 20, 'امل': 128, 'اكل': 18, 'بيتكم': 95, 'تجوع': 12, 'يوجع': 75, 'اكثر': 70, 'يضحك': 119, 'شعور': 54, 'ومش': 112, 'اخوان': 98, 'هاتلي': 127, 'لوط': 11, 'ضمير': 126, 'هتلاقي': 14, 'تنوين': 0, 'نصف': 67, 'حقهم': 11, 'فراقهم': 20, 'مرت': 8, 'بورسعيد': 93, 'لوجوه': 57, 'سنتين': 67, 'ون': 42, 'يتحدث': 104, 'حق': 86, 'زليون': 0, 'فيلانوفا': 64, 'قالو': 108, 'مورينيو': 64, 'ويلقب': 0, 'تيتو': 64, 'الكثير': 13, 'سبيشل': 59, 'تدريب': 71, 'والمرشح': 57, 'معظم': 29, 'البعد': 54, 'وهدفه': 129, 'الشرف': 60, 'وقع': 96, 'وحملات': 106, 'لبرنامج': 99, 'التشهير': 15, 'مرشحي': 120, 'ميثاق': 73, 'عضو': 39, 'شير': 52, 'عايز': 112, 'المشير': 49, 'نعمل': 21, 'مليون': 67, 'السيسي': 49, 'سهل': 61, 'حمله': 89, 'ساعدنا': 26, 'المستشار': 49, 'النائب': 39, 'استقالته': 73, 'شروق': 128, 'محمود': 49, 'عبدالمجيد': 62, 'يعتزم': 113, 'العدادات': 37, 'ظلم': 126, 'القاطنين': 57, 'وتوحيد': 129, 'ولابد': 125, 'توقف': 12, 'التقديرات': 37, 'سؤال': 33, 'نصر': 58, 'اوجه': 60, 'لصالحهم': 11, 'تنكسر': 12, 'الاستغلال': 15, 'نحمي': 66, 'خوفا': 125, 'النصر': 116, 'واجبنا': 66, 'نترك': 66, 'يستغل': 32, 'تفعل': 72, 'مضمومتين': 0, 'اليدين': 114, 'وضع': 71, 'سيرته': 41, 'سن': 67, 'التشهد': 74, 'نشر': 71, 'مبسوطتي': 0, 'الفخذين': 114, 'بيقدم': 7, 'النيزك': 0, 'الناس': 115, 'فرق': 23, 'علاء': 49, 'نتحر': 0, 'يكتب': 119, 'حقوق': 89, 'تحمي': 47, 'العدل': 73, 'النوم': 54, 'ضع': 27, 'يدك': 83, 'تبعث': 55, 'نومك': 115, 'عذابك': 68, 'خدك': 83, 'الايمن': 91, 'الهم': 54, 'مر': 75, 'عبادك': 68, 'والسلع': 37, 'البنزين': 17, 'الكهرباء': 17, 'الصباع': 78, 'الشبشب': 95, 'شبشب': 18, 'مضبوط': 65, 'ابوصباع': 0, 'الشهري': 34, 'بلال': 49, 'الوسط': 116, 'الصاوي': 49, 'ضيفا': 28, 'حولني': 0, 'معرض': 77, 'مهوسه': 0, 'القراءه': 15, 'الكتاب': 51, 'استاذي': 34, 'متنه': 81, 'اكره': 53, 'حولت': 8, 'البيت': 95, 'الخروج': 13, 'توكلت': 123, 'دعاء': 121, 'يقدم': 32, 'الرجل': 107, 'قوه': 19, 'الحميد': 56, 'لقاءمع': 0, 'المنسق': 39, 'محمد': 62, 'وسوريا': 40, 'خلاص': 65, 'ويضرب': 44, 'الرب': 63, 'ضاربا': 57, 'وظهور': 2, 'المنتظر': 91, 'فشافيا': 0, 'مكه': 5, 'در': 42, 'ودك': 65, 'الشخص': 115, 'شوارعنا': 81, 'النساء': 120, 'بوح': 128, 'الاسبوع': 51, 'متابع': 26, 'عجبني': 109, 'تجربه': 4, 'حلو': 109, 'فن': 129, 'عرض': 99, 'شي': 65, 'جهاز': 99, 'حسين': 62, 'المقدم': 34, 'الفوج': 100, 'استخبارات': 3, 'ضابط': 3, 'الخامس': 91, 'محجوب': 99, 'الامير': 34, 'هروب': 10, 'الارهاب': 46, 'سلف': 8, 'ٱلۂ': 0, 'ٱلمطر': 0, 'حبٱت': 0, 'ٱلرمل': 0, 'الرئيس': 48, 'المخلوع': 46, 'يحضر': 32, 'صفحت': 0, 'شاركنا': 26, 'عبر': 99, 'كانوا': 111, 'وتعريتها': 0, 'العشرات': 13, 'العسكر': 46, 'وقتل': 106, 'سحل': 10, 'متحالفين': 0, 'فعلوا': 111, 'مشير': 127, 'ويهنئ': 57, 'المجيد': 34, 'يزور': 32, 'بعيد': 25, 'التحريض': 46, 'خطاب': 73, 'التعبير': 104, 'تضمن': 55, 'العنف': 46, 'قصدي': 65, 'كنتش': 45, 'موجه': 4, 'لكذبك': 0, 'محبين': 60, 'يبتسم': 75, 'بيزيدوا': 78, 'البرنامج': 51, 'كيفها': 65, 'فتح': 71, 'ناس': 65, 'ضنك': 31, 'وراميريز': 0, 'هازارد': 64, 'تش': 42, 'بتواجد': 38, 'ايتو': 64, 'تشيلسي': 64, 'صباحي': 128, 'تيري': 64, 'يتبين': 60, 'دخول': 71, 'سيدخل': 80, 'بالامس': 28, 'ولويز': 0, 'غيابهم': 54, 'لتدريبات': 76, 'تحليلا': 57, 'وطريقتنا': 0, 'سوسيولوجيا': 0, 'المزج': 129, 'والعبث': 106, 'الحزن': 83, 'يليق': 124, 'بيعملو': 98, 'فولورز': 127, 'فولو': 52, 'عفركوش': 0, 'باك': 59, 'مسرور': 25, 'كلامك': 33, 'عاجل': 48, 'سو': 86, 'المقبل': 76, 'البؤر': 37, 'السلام': 94, 'دار': 31, 'بدوائر': 57, 'اعرف': 122, 'الجنيه': 95, 'حكم': 73, 'عليا': 112, 'حازم': 49, 'تويتر': 52, 'ليحكم': 36, 'بيرد': 119, 'وحازم': 49, 'الجيش': 46, 'يدخل': 119, 'ليحل': 2, 'البرادعي': 49, 'وقعنا': 66, 'داخل': 77, 'طلب': 99, 'كمواطن': 3, 'بكري': 101, 'مصري': 3, 'الميكروفون': 78, 'متن': 81, 'معاه': 65, 'غرضه': 129, 'مايستقيل': 0, 'خد': 127, 'شباب': 30, 'كفار': 11, 'يحكمهم': 11, 'كانوش': 98, 'وكامل': 129, 'شتمش': 0, 'لسانه': 107, 'الاحترام': 15, 'عباس': 49, 'مسك': 8, 'بالتدريس': 0, 'لرئيس': 39, 'تشرفت': 124, 'منصور': 49, 'السابع': 76, 'نقول': 50, 'الحمد': 123, 'جميل': 109, 'ربنا': 112, 'بيعمل': 7, 'دروس': 4, 'العربي': 91, 'تيوب': 59, 'اهتمامات': 4, 'خرجنا': 66, 'الشباب': 120, 'مجنونه': 29, 'اعقل': 86, 'اقتنع': 122, 'البنات': 95, 'ولد': 3, 'نرجو': 113, 'الحضور': 116, 'الدفاع': 46, 'ونشر': 106, 'بغباءها': 0, 'القدر': 63, 'ابريل': 93, 'بارهابهم': 0, 'حتنجح': 78, 'حمدين': 49, 'حينجحوا': 0, 'ومفترض': 0, 'شاغل': 25, 'المعارضين': 120, 'السؤال': 51, 'فاشل': 109, 'قوي': 109, 'بيموتوا': 98, 'جامد': 112, 'بيهم': 112, 'بغيظهم': 58, 'هدف': 23, 'المنيا': 93, 'لايهاب': 101, 'المصري': 49, 'رصد': 93, 'صباحا': 76, 'دمياط': 93, 'تحتفل': 43, 'بخروج': 38, 'اكتر': 112, 'مفاوضات': 110, 'التوكيل': 78, 'يهمني': 61, 'حقيقي': 109, 'معرفته': 20, 'كارت': 59, 'حلوان': 93, 'مولد': 101, 'بدء': 76, 'خاص': 99, 'سيدك': 6, 'يجوب': 27, 'يمتنع': 104, 'التكفيرين': 11, 'رفض': 113, 'والتكفير': 106, 'المذهبي': 129, 'بعبث': 0, 'وتحويله': 57, 'برئيس': 38, 'موقفي': 33, 'الحشد': 46, 'والطائفي': 129, 'المنتخب': 116, 'سعد': 62, 'عقب': 86, 'بتروجيت': 1, 'طفل': 3, 'والرئيس': 39, 'تصاعد': 71, 'هتافات': 30, 'لقاء': 110, 'لازم': 65, 'مص': 42, 'تحس': 12, 'جت': 8, 'شيخ': 34, 'ومساعد': 62, 'سويف': 93, 'بلد': 3, 'بني': 31, 'النظام': 46, 'محتاجين': 21, 'وخالد': 62, 'النهارده': 112, 'لوزير': 39, 'لخروج': 2, 'الجزائر': 22, 'يساعد': 32, 'البحرين': 22, 'حلمه': 107, 'التربيه': 97, 'صحف': 89, 'الطحاوي': 101, 'حنفي': 49, 'يحدث': 61, 'بيا': 112, 'اردن': 42, 'هامش': 94, 'طريقه': 4, 'فيا': 127, 'جراحين': 0, 'السفر': 20, 'لبنان': 22, 'مخ': 18, 'كمل': 86, 'طيور': 81, 'السعوديه': 22, 'موريس': 101, 'فضيع': 109, 'الفساد': 46, 'الظلام': 83, 'المغرب': 22, 'التاريخ': 51, 'بزياده': 65, 'اتحاد': 39, 'السودان': 22, 'يمكنهم': 87, 'تطيل': 55, 'جلال': 49, 'حفظ': 58, 'امارات': 31, 'التواصل': 110, 'الفلسطينين': 40, 'حس': 25, 'خاف': 75, 'التماسك': 15, 'عظام': 114, 'اتقي': 58, 'والتعليم': 97, 'فقتلوه': 57, 'عبقري': 109, 'مقال': 99, 'محسن': 62, 'الصراع': 110, 'ونادر': 109, 'لمصرين': 0, 'تحقيق': 71, 'ومحمد': 62, 'لشرح': 2, 'وسامح': 117, 'هيتوه': 0, 'تونس': 22, 'الاستمرار': 20, 'السيد': 49, 'غياب': 128, 'واخيرا': 59, 'قطع': 71, 'جديد': 99, 'يعود': 32, 'النور': 81, 'اسابيع': 67, 'عساكر': 30, 'يحكمو': 11, 'الحراك': 46, 'استمرار': 71, 'الطلابي': 91, 'انسان': 115, 'ويبدوا': 57, 'حلب': 5, 'ابجديات': 129, 'والفها': 0, 'اصبحت': 96, 'سوري': 3, 'حمص': 5, 'يوميات': 99, 'اعتاد': 125, 'الصور': 92, 'الهلال': 116, 'التشغيل': 17, 'لظروف': 2, 'خاصه': 29, 'مفترض': 78, 'استضافه': 26, 'البشري': 91, 'نعتذر': 50, 'الملتقي': 76, 'لوسط': 57, 'واليوم': 86, 'نكمل': 21, 'المشوار': 51, 'شايف': 7, 'وخازوق': 0, 'اكبر': 123, 'الامن': 46, 'دقايق': 67, 'واشتكينا': 0, 'فتحنا': 21, 'مرارا': 28, 'بمعدل': 67, 'راحت': 8, 'عموم': 57, 'بينف': 0, 'راجل': 112, 'وتكرارا': 0, 'بتاع': 112, 'معفن': 127, 'الشبابيك': 95, 'يحتفل': 43, 'يناضر': 0, 'بالكاس': 1, 'جمهور': 116, 'حظ': 128, 'الاهلي': 116, 'العوالم': 37, 'الافريقي': 1, 'وفد': 39, 'هاني': 49, 'المقصود': 41, 'لوقا': 101, 'تشابه': 126, 'اسماء': 89, 'محيط': 100, 'فاسد': 3, 'ينهار': 27, 'مسيس': 129, 'اعلام': 3, 'الانقلاب': 46, 'منهج': 129, 'وقمع': 106, 'وسجن': 106, 'واقتصاد': 129, 'ارتفاع': 71, 'لاسعار': 2, 'معارض': 3, 'كلاب': 30, 'رجاء': 26, 'الباشا': 49, 'بشخصه': 129, 'خوف': 126, 'غلط': 65, 'حرص': 94, 'تربطها': 124, 'الرسول': 24, 'صح': 65, 'كتبت': 8, 'مثلث': 77, 'رؤوس': 81, 'انظر': 96, 'ستجدها': 57, 'البوابات': 92, 'بنت': 16, 'بتقلد': 78, 'مسخره': 127, 'الطريقه': 92, 'مايكل': 101, 'جاكسون': 64, 'نيزك': 81, 'حط': 119, 'الدم': 114, 'ومواجهته': 0, 'محافظات': 89, 'حذرت': 47, 'وينبغي': 129, 'مصاب': 3, 'مقدمات': 126, 'دوما': 28, 'رفضه': 73, 'تيار': 39, 'الشعبي': 91, 'اتنح': 53, 'انام': 53, 'اقوم': 53, 'اقفلها': 78, 'اصحي': 53, 'افتح': 53, 'تاني': 112, 'ازهق': 53, 'تفو': 86, 'عبده': 34, 'فيفي': 16, 'زنزانه': 81, 'علر': 0, 'الدوله': 46, 'الخالده': 31, 'جدار': 81, 'المنصوره': 93, 'عبث': 126, 'صيدله': 97, 'لطلاب': 2, 'الحريه': 46, 'سجين': 3, 'لكتاب': 129, 'الجزء': 51, 'رقم': 99, 'حبيبته': 107, 'رسائل': 4, 'الاول': 91, 'اعجبني': 70, 'الواقع': 15, 'فيديو': 99, 'صيعري': 0, 'صحافه': 89, 'الحمدله': 0, 'لندن': 22, 'ليفربول': 64, 'كانو': 98, 'الرحال': 31, 'مورينهو': 64, 'يبارك': 58, 'واثقين': 66, 'شدو': 79, 'ضيوف': 11, 'العزيز': 56, 'الخمسين': 67, 'المح': 53, 'تمرد': 106, 'بيهين': 78, 'بيقولك': 127, 'كمان': 112, 'وسوري': 0, 'الجول': 64, 'جابر': 62, 'زمالك': 127, 'جاب': 119, 'انهرده': 112, 'احساسك': 115, 'الفلول': 46, 'فساد': 126, 'واستفاد': 57, 'فلول': 127, 'شفيق': 49, 'قامت': 47, 'لانها': 29, 'اشترك': 26, 'بمقعد': 39, 'مجلس': 39, 'تطالب': 43, 'والعرب': 11, 'يطالب': 43, 'لدول': 2, 'مريض': 25, 'دائم': 109, 'العليا': 39, 'نادر': 109, 'المثقفين': 120, 'طبيعته': 107, 'مزيج': 70, 'يتفق': 32, 'بحثا': 104, 'صانع': 23, 'تكن': 55, 'الخطاب': 6, 'شاهدوا': 111, 'تسقط': 55, 'العمال': 120, 'تغيرت': 8, 'تكرار': 71, 'يؤكد': 113, 'عماد': 49, 'عمال': 93, 'الوجوه': 85, 'قضايا': 89, 'قانوني': 73, 'الرياض': 5, 'قانون': 73, 'مستشار': 39, 'خبراء': 120, 'ريتويت': 52, 'ومحامي': 3, 'محامي': 3, 'زواج': 16, 'لعمل': 2, 'فصل': 97, 'بهدف': 1, 'تضم': 47, 'نواب': 120, 'والقوات': 46, 'المنتخبين': 1, 'حقن': 114, 'وصول': 71, 'ورعان': 98, 'زب': 18, 'سادي': 0, 'خليجي': 3, 'المساء': 128, 'شيئ': 33, 'علمتني': 122, 'بصراحه': 65, 'مليت': 9, 'تحتاج': 55, 'خراشي': 127, 'شيئا': 103, 'عوضه': 58, 'خيرا': 103, 'يستقيل': 80, 'الفرنسي': 48, 'شارل': 48, 'ديغول': 57, 'ويعلن': 113, 'اعتزاله': 64, 'منصبه': 73, 'الاعلان': 51, 'بيان': 73, 'الدستوري': 91, 'الحقوق': 92, 'عمل': 71, 'معاك': 65, 'نصنع': 66, 'فريق': 23, 'معا': 66, 'ماجيت': 9, 'جيت': 9, 'بتقال': 78, 'استنساخ': 126, 'كلمه': 33, 'اولا': 129, 'ماكنت': 90, 'بنتكلم': 50, 'احداث': 89, 'ليا': 54, 'ثانيا': 129, 'محايد': 109, 'تشوف': 12, 'ويناضل': 0, 'يجد': 32, 'مناضل': 3, 'يناضل': 80, 'النضال': 46, 'سيظل': 27, 'محكوما': 0, 'مكان': 23, 'ينشر': 32, 'نكر': 75, 'السنهوري': 101, 'الانسان': 107, 'انها': 90, 'العصور': 85, 'الشكل': 51, 'وجوده': 33, 'المضمون': 33, 'الخميس': 76, 'يدين': 31, 'المسلمين': 40, 'ميانمار': 22, 'انتهاك': 106, 'اوباما': 48, 'وضعوا': 111, 'انصار': 30, 'ناد': 23, 'الظاهر': 65, 'ايطالي': 3, 'اوروبا': 22, 'ينتظر': 32, 'باعونا': 98, 'وبكده': 127, 'هشتاج': 127, 'مرتين': 67, 'مره': 65, 'مشاركوش': 0, 'لسيسي': 57, 'ومره': 65, 'المسئ': 6, 'الثلاثاء': 76, 'حوار': 110, 'السري': 91, 'غاضب': 25, 'غد': 20, 'المقر': 93, 'الانتخابات': 46, 'موافي': 49, 'عنان': 49, 'دا': 112, 'خيار': 23, 'لردع': 2, 'التحرير': 93, 'حزبين': 11, 'لخوض': 2, 'اكيد': 65, 'سكرتير': 39, 'مخل': 42, 'يستر': 58, 'حجمه': 33, 'بالتوفيق': 60, 'ادعوا': 58, 'نحق': 0, 'يراودنا': 0, 'الحلم': 54, 'فيش': 78, 'خالص': 112, 'وضمائر': 0, 'قولي': 108, 'مافيش': 112, 'دول': 98, 'لقيت': 8, 'استخدام': 71, 'المساجد': 74, 'العمل': 17, 'وذلنا': 0, 'القادم': 91, 'ونظامه': 6, 'العفو': 63, 'واستبد': 27, 'تبوك': 5, 'فاضي': 25, 'ينبع': 5, 'الخبر': 51, 'الدمام': 5, 'تل': 100, 'الجث': 0, 'الحر': 6, 'بدرعا': 100, 'والغنائم': 0, 'السوري': 48, 'المشرفين': 120, 'بدر': 62, 'الصناعي': 91, 'والتجاري': 57, 'ودعم': 2, 'الاحتياجات': 92, 'تعليم': 97, 'مدارس': 97, 'رمضان': 74, 'رضا': 84, 'قوات': 46, 'استشهدت': 96, 'الفيوم': 93, 'برصاص': 10, 'سلاح': 100, 'جدول': 97, 'يصتبح': 0, 'مهو': 7, 'عامل': 7, 'ازاي': 112, 'مفروض': 65, 'هيبقي': 7, 'الامتحانات': 97, 'الواحد': 7, 'شوفت': 45, 'يطيح': 119, 'وتكافؤ': 57, 'عمرك': 115, 'الفرص': 85, 'قواعد': 4, 'دستور': 73, 'بالمبادئ': 129, 'سور': 77, 'المحتاجين': 120, 'الحوم': 31, 'فرحا': 63, 'توزع': 47, 'ونتفرغ': 0, 'الخلافات': 85, 'مسائل': 4, 'لبناء': 2, 'بيع': 71, 'المتابعين': 52, 'اتابعك': 26, 'تابعني': 26, 'الاتحاد': 116, 'متابعين': 52, 'لمنسوبي': 2, 'وافق': 94, 'وزير': 39, 'الراتب': 17, 'مربوط': 109, 'ضباط': 30, 'الجوازات': 17, 'صرف': 71, 'وفاءا': 60, 'والقصاص': 106, 'لدماء': 40, 'ثورتنا': 40, 'لروح': 31, 'ايمانا': 28, 'تهديدهم': 57, 'لاستكمال': 2, 'نضالنا': 57, 'يمحق': 0, 'وشبابه': 57, 'الشهيد': 62, 'شهدائنا': 40, 'الثائر': 6, 'وسنواصل': 57, 'النبيل': 84, 'الكبير': 91, 'كاتبنا': 0, 'نبيل': 62, 'يرزق': 58, 'باحثو': 0, 'تذكرنا': 66, 'يتذكره': 61, 'تشريعا': 57, 'المواقع': 92, 'البرلمان': 46, 'يحظر': 113, 'ترفض': 113, 'لماذا': 28, 'الحق': 15, 'تملك': 55, 'مذاق': 128, 'ومسلسل': 99, 'وانا': 9, 'صاحي': 25, 'ابواب': 63, 'بسبك': 0, 'صوت': 128, 'الخوف': 15, 'بتصوت': 14, 'كرستيانو': 64, 'رونالدو': 64, 'مدريد': 64, 'اليثي': 0, 'وتخوين': 106, 'الم': 42, 'قطاعات': 89, 'الطعم': 114, 'مجدا': 28, 'المعاير': 0, 'تبتلع': 55, 'بيكبر': 7, 'شعبان': 74, 'بارك': 58, 'مفقودين': 19, 'رجب': 49, 'فاقدين': 19, 'بلغنا': 35, 'تصدر': 47, 'ماسبيرو': 93, 'قطاع': 77, 'ترقيات': 89, 'نيوز': 76, 'قبض': 10, 'جواه': 7, 'هالقلب': 54, 'بالي': 54, 'كلمتين': 33, 'تلبس': 12, 'حاول': 125, 'الميدان': 93, 'قتلك': 108, 'تعريف': 99, 'الديمقراطي': 91, 'الخيار': 51, 'منشور': 52, 'لتوضيح': 2, 'ولعدم': 57, 'تناقل': 57, 'واحنا': 21, 'بيحصلنا': 78, 'نايم': 25, 'الهولوكوست': 57, 'نبي': 21, 'مكن': 42, 'متطرفين': 11, 'العري': 15, 'بوذا': 78, 'السلفين': 30, 'شعب': 3, 'تخلص': 12, 'الاخر': 107, 'يسهل': 58, 'ينزل': 119, 'انتخابات': 73, 'بيتقبض': 7, 'الطريق': 51, 'الرمق': 0, 'تشغيل': 71, 'دولي': 48, 'تمنح': 55, 'الطيران': 17, 'مطار': 77, 'المدني': 39, 'رحلات': 89, 'الجوف': 5, 'نسما': 0, 'الميرازي': 49, 'حافظ': 94, 'دريم': 59, 'بتوقيت': 76, 'تقوم': 72, 'ابراهيم': 62, 'بث': 99, 'سلامتك': 86, 'اداء': 71, 'عبيدلي': 0, 'الحفل': 51, 'التحضيرات': 37, 'رشيد': 62, 'الراهب': 116, 'لادن': 48, 'يد': 81, 'اسواني': 78, 'يوجد': 61, 'بليدا': 0, 'عبدالرازق': 16, 'اعلامي': 3, 'جماهيريا': 116, 'عبدالفتاح': 49, 'مؤتمرا': 76, 'يعقد': 32, 'المرشح': 39, 'لدعم': 2, 'بحضور': 76, 'ماكتب': 58, 'يحمل': 32, 'بشار': 40, 'القانون': 73, 'الفقيه': 6, 'ثروت': 49, 'بدوي': 3, 'البنا': 49, 'يفهم': 61, 'عاطف': 62, 'والاستاذ': 34, 'البرلم': 0, 'قرار': 73, 'والدكتور': 34, 'يزحف': 80, 'تشوفوا': 79, 'انقلاب': 73, 'اعادنا': 0, 'التخلف': 15, 'وبكره': 65, 'القطاعات': 92, 'الحريات': 46, 'بعيدا': 104, 'لطيف': 109, 'ومليان': 44, 'وظريف': 0, 'موضوع': 51, 'كالوريز': 0, 'عادي': 65, 'وخفيف': 109, 'شغلاني': 0, 'يهتفون': 30, 'الكراتيه': 57, 'نبض': 128, 'القاضي': 6, 'معتقلين': 30, 'ساخرين': 0, 'مدرب': 23, 'تهمك': 72, 'معلومات': 4, 'المستقلين': 120, 'اعتراضا': 94, 'لتقارير': 57, 'محاكمته': 73, 'ادعم': 26, 'الفائز': 1, 'وعدم': 113, 'طبقا': 91, 'عزل': 71, 'وقاطعت': 0, 'ويشقشق': 0, 'شفت': 8, 'الطفل': 6, 'حجاج': 30, 'وش': 65, 'ينفلت': 0, 'صرخت': 8, 'وفؤاد': 101, 'الخرس': 0, 'النهار': 128, 'سيسي': 127, 'تحيا': 27, 'برع': 86, 'نقسم': 21, 'ضحك': 86, 'عبدالحليم': 101, 'المطر': 128, 'لحق': 80, 'فشيخ': 127, 'لدعواتنا': 63, 'السجون': 46, 'ودليلهم': 0, 'يعرفون': 87, 'ستقل': 0, 'افضل': 70, 'يلوم': 75, 'نريد': 66, 'عبارات': 4, 'مختفي': 25, 'سوا': 21, 'تستجيب': 47, 'الامارا': 0, 'بمنامك': 0, 'الجهود': 85, 'اني': 90, 'طريقها': 81, 'يجعلونا': 0, 'والنسيج': 57, 'جنات': 68, 'ومناديل': 0, 'سجون': 30, 'كافرا': 103, 'سوهاج': 93, 'والفردوس': 68, 'شاحن': 18, 'صدي': 128, 'السيارات': 92, 'بالطماطم': 18, 'وموت': 106, 'ثقيل': 25, 'قرصا': 0, 'مخدرا': 0, 'المرتبط': 91, 'تقصره': 0, 'لتحرك': 57, 'اليل': 128, 'راخر': 78, 'قصير': 109, 'صور': 99, 'عدن': 5, 'لان': 65, 'بمركز': 77, 'يتفرج': 119, 'لصبح': 0, 'قم': 42, 'ضبط': 71, 'نفعل': 66, 'المص': 42, 'يسري': 49, 'بالعربيه': 59, 'نتفق': 50, 'معتقل': 10, 'لاكرم': 0, 'بمصنع': 77, 'مشرف': 109, 'ونعادي': 0, 'سماعها': 20, 'الديني': 91, 'السنين': 54, 'امين': 35, 'الناصر': 34, 'نبينا': 24, 'عيش': 18, 'واصنع': 117, 'جوه': 127, 'التصوير': 51, 'هيعمل': 7, 'اسرائيل': 22, 'بحوزته': 10, 'الحلوين': 98, 'الانبساط': 78, 'ياله': 78, 'طويل': 109, 'كلو': 127, 'نقل': 71, 'فاغتنمه': 117, 'تعالي': 41, 'العادلي': 49, 'ومبارك': 49, 'بالحق': 36, 'جه': 7, 'لميدان': 2, 'الرجال': 107, 'منتج': 99, 'يلا': 65, 'والنهار': 36, 'يخش': 119, 'تنويه': 26, 'بجناتك': 117, 'الشهداء': 30, 'السعداء': 68, 'وقعت': 96, 'المجد': 60, 'الصديق': 6, 'المحترمون': 120, 'تجار': 30, 'الفرح': 83, 'جميلهم': 0, 'يصل': 32, 'شريط': 99, 'الغني': 56, 'هاجر': 31, 'تفيد': 47, 'عامر': 62, 'وبخاخات': 0, 'عادل': 62, 'قلمين': 127, 'بقطاع': 2, 'تعشق': 72, 'بكر': 62, 'اسفاف': 126, 'لاقي': 25, 'الشارع': 95, 'الغزل': 54, 'بالعصر': 0, 'بالرجال': 11, 'بدخول': 38, 'الابيض': 91, 'مرار': 128, 'وشارك': 26, 'دين': 126, 'ضر': 63, 'ميدان': 93, 'طافح': 78, 'بيانا': 73, 'رموز': 89, 'هيلاري': 48, 'كلينتون': 48, 'تدخل': 12, 'لتيارات': 57, 'الكلام': 33, 'اهلك': 115, 'بكتر': 78, 'وانك': 90, 'قدام': 65, 'يستعرض': 32, 'وتبعات': 0, 'وتطورات': 57, 'جاي': 65, 'مين': 112, 'المؤتمر': 51, 'مستجدات': 76, 'كذاب': 25, 'الخروف': 6, 'يدافع': 104, 'رقبته': 107, 'يستحي': 75, 'لوعوده': 0, 'دماء': 40, 'خرفانا': 0, 'ومخلف': 0, 'وترتيب': 2, 'تصنيف': 71, 'الكتب': 92, 'كتبا': 28, 'قمت': 9, 'المعرض': 51, 'سار': 80, 'ولماذا': 28, 'حوارمع': 0, 'الذكري': 128, 'نتظاهر': 66, 'رواد': 120, 'منظر': 81, 'مجاني': 99, 'خليك': 14, 'طيب': 65, 'ستريبتيز': 0, 'الرفاق': 11, 'عاجبني': 109, 'كويت': 59, 'لبن': 18, 'يلحق': 75, 'قروا': 78, 'يعملها': 7, 'يهرب': 69, 'سقوط': 10, 'غوروا': 78, 'المطار': 95, 'انقلابيون': 0, 'فور': 59, 'الوزراء': 48, 'سياس': 0, 'الشفاء': 63, 'شرف': 60, 'العاجل': 117, 'مرضا': 103, 'مرضه': 107, 'كابشن': 0, 'يونس': 49, 'غاز': 100, 'بتفاوض': 0, 'تشحت': 78, 'يشارك': 32, 'حكومتك': 37, 'لموقفها': 57, 'ايمن': 49, 'تنحي': 73, 'مباشر': 99, 'دستوري': 73, 'قرارات': 89, 'قيام': 121, 'حيال': 2, 'باتخاذ': 38, 'التنظيمي': 91, 'الهيكل': 51, 'تعين': 47, 'الحزب': 46, 'بخلاف': 129, 'تنزل': 12, 'هندسه': 97, 'الدراجات': 92, 'شمس': 128, 'الصبح': 95, 'يمتحن': 80, 'الدماء': 40, 'والصدر': 128, 'والشهداء': 30, 'مانحن': 66, 'بالعشرات': 30, 'عار': 106, 'الرصاص': 100, 'انشيلوتي': 64, 'منزل': 77, 'شفرات': 99, 'الفرق': 23, 'فلاشه': 99, 'الابطال': 1, 'البلد': 40, 'وسط': 27, 'الزراعي': 91, 'يواصل': 113, 'لتوريد': 114, 'تخص': 47, 'بنك': 77, 'تسلم': 86, 'القمح': 114, 'محصول': 114, 'والائتمان': 57, 'مليارات': 13, 'حزم': 126, 'رجال': 30, 'ذكريات': 128, 'كنون': 0, 'عبداله': 0, 'المغربي': 91, 'التراث': 51, 'مشاهير': 11, 'بمحيط': 100, 'وكفاهم': 0, 'نريدهم': 66, 'لثقافتنا': 0, 'يردها': 58, 'وعينا': 28, 'بلغتهم': 11, 'الضر': 102, 'نقلا': 104, 'الحكم': 73, 'رافضي': 3, 'صحفي': 3, 'الكورونا': 114, 'الحامولي': 0, 'لعادل': 101, 'حصل': 8, 'لسه': 112, 'شغال': 7, 'افتكرت': 45, 'تعليق': 99, 'ماتش': 112, 'تواصل': 47, 'تعتمد': 94, 'الارض': 68, 'لابد': 125, 'والناخبات': 0, 'الناخبين': 120, 'توقع': 47, 'بالفعل': 129, 'تشكيل': 71, 'صورتي': 52, 'حاط': 119, 'سبام': 52, 'محور': 23, 'ريبورت': 52, 'اسمي': 33, 'يتم': 113, 'حدود': 126, '٪': 67, 'وعرفت': 122, 'راس': 31, 'مستشفي': 77, 'ماسك': 119, 'سدر': 5, 'تانيه': 112, 'فضيحه': 89, 'مستمر': 109, 'اردوجان': 6, 'ويحاول': 44, 'يلوث': 27, 'نهجه': 129, 'ثوار': 30, 'الحقائق': 85, 'وتقصي': 0, 'الخاص': 52, 'بجرائم': 38, 'هنلف': 0, 'العلمي': 91, 'تقول': 108, 'ونرجع': 21, 'التفكير': 15, 'قالوا': 108, 'ماتكلمنيش': 78, 'لفهم': 2, 'يجري': 32, 'مقالش': 7, 'طبيعي': 109, 'شهور': 67, 'بيقول': 7, 'قيصري': 0, 'باقي': 65, 'رمض': 42, 'العزل': 46, 'يهدر': 32, 'التزوير': 73, 'بلاغات': 89, 'طعون': 54, 'يجمد': 27, 'يوقف': 119, 'تطبيق': 36, 'الثاني': 91, 'الداخل': 13, 'الملقب': 43, 'القائد': 6, 'والجزء': 44, 'الرحمن': 56, 'كوبر': 59, 'العيال': 95, 'طلعت': 8, 'يدي': 83, 'اطول': 70, 'احلا': 70, 'ايلين': 31, 'برادلي': 64, 'اوسكار': 64, 'شوي': 65, 'واضح': 109, 'ولاتنشر': 0, 'الشيوعين': 78, 'عارف': 25, 'قدم': 32, 'الحوار': 110, 'يارجل': 86, 'يزول': 61, 'القصف': 46, 'ملعب': 1, 'بالنادي': 116, 'نادي': 116, 'يعتمد': 94, 'اربعاء': 76, 'صلاح': 49, 'الزمالك': 116, 'التغير': 15, 'الحقيقي': 91, 'لجوهر': 0, 'متمثلا': 57, 'باحترام': 38, 'الامارات': 22, 'جمارك': 77, 'دبي': 22, 'المدارس': 92, 'اكسبو': 57, 'ستكرم': 0, 'يتبع': 129, 'يجعلها': 58, 'ملكه': 16, 'كريم': 56, 'حفله': 16, 'يرد': 75, 'اسماعيل': 49, 'بطل': 23, 'فك': 42, 'برهامي': 49, 'نتعلم': 66, 'اسرك': 0, 'موافق': 25, 'خلص': 8, 'عزيزي': 34, 'حاولت': 9, 'اكلم': 53, 'برنامجي': 51, 'فات': 8, 'الايفون': 52, 'الرائع': 91, 'دوري': 1, 'متصدر': 23, 'ناديك': 116, 'اكشن': 23, 'شجع': 80, 'لاتكلمني': 86, 'تعصب': 126, 'اقذر': 70, 'اساس': 94, 'الولاد': 112, 'البنت': 16, 'بتهزر': 14, 'بتسمع': 14, 'شتايم': 112, 'وحركات': 86, 'الفضاء': 81, 'دلوقتي': 112, 'والاستديوهات': 0, 'وبرامج': 99, 'المحطات': 92, 'والمصانع': 37, 'مساج': 18, 'بيروت': 22, 'مقاله': 4, 'الاسبوعي': 91, 'مسلما': 103, 'بعنوان': 76, 'بريطانيا': 22, 'الاسواني': 49, 'التحقيق': 110, 'واستبعاد': 57, 'والثالث': 44, 'ومحاكمته': 57, 'بعزل': 38, 'اطالب': 43, 'لتفاؤل': 0, 'دواء': 114, 'داء': 42, 'انزل': 53, 'دعوه': 63, 'سيناقش': 57, 'نظام': 73, 'لتشريع': 57, 'التحرش': 15, 'مقترحا': 73, 'يخطف': 27, 'بهدفين': 1, 'طراز': 99, 'الملاعب': 116, 'الكبار': 120, 'التيارات': 85, 'سقطت': 96, 'الصناديق': 92, 'وتوكيل': 0, 'احتكار': 71, 'بتنادي': 14, 'وطني': 3, 'الغالي': 31, 'دم': 42, 'ﻋﻤﻠﺖ': 0, 'ﺗﺤﺐ': 82, 'ﺑﻨﺖ': 82, 'حوكا': 0, 'ﻣﺤﺘﺮﻣﻪ': 0, 'ﻓﻰ': 82, 'ﺍﻧﻬﺎ': 82, 'ﺍﻟﻠﻰ': 82, 'ﺟﺮﻳﻤﻪ': 0, 'ﻟﻴﻪ': 82, 'ﻣﺶ': 82, 'ﺍﻟﺒﻨﺖ': 82, 'ﻣﺠﺘﻤﻌﻨﺂ': 0, 'استخدم': 53, 'الحقير': 6, 'لصهاينه': 57, 'يروجون': 111, 'ماقلته': 108, 'يدرك': 61, 'اسلوب': 126, 'برود': 65, 'قتلوا': 111, 'لوره': 0, 'جابنا': 78, 'مكملين': 98, 'المره': 37, 'خلافاتنا': 85, 'وستكون': 47, 'ستنتصر': 57, 'مظاهرات': 46, 'الرمل': 81, 'عرب': 59, 'باطل': 126, 'اذكار': 118, 'استغفار': 121, 'الحي': 42, 'القيوم': 123, 'استغفر': 123, 'يصبح': 32, 'عمله': 107, 'ثورت': 0, 'اعلم': 122, 'تنجح': 55, 'متحدث': 39, 'لتاجر': 57, 'محل': 77, 'الرقيب': 6, 'يمتلك': 32, 'الاعراب': 11, 'ابيض': 18, 'الرمادي': 5, 'اسود': 18, 'الون': 59, 'معلهش': 127, 'سلام': 31, 'طولت': 8, 'رتويت': 26, 'خلي': 86, 'علامات': 4, 'بتفاصيله': 84, 'تلقي': 12, 'هاتفيا': 48, 'الغضب': 15, 'عرفت': 122, 'انتهاء': 71, 'السعيد': 34, 'وجه': 31, 'الشديد': 129, 'وضحت': 8, 'تخريب': 126, 'اعتداء': 10, 'اثار': 106, 'وحرق': 106, 'دلجا': 0, 'مارجرجس': 101, 'بيوت': 77, 'لقضاء': 2, 'يبر': 80, 'كفيل': 124, 'حصاد': 76, 'يتفقد': 2, 'موسم': 23, 'التموين': 17, 'التعامل': 110, 'النفسي': 91, 'تشيع': 10, 'يتقدمون': 111, 'زكي': 49, 'مسجد': 74, 'العميد': 116, 'محلب': 49, 'اهدم': 27, 'تبني': 55, 'التعليم': 17, 'مستقبلك': 115, 'مهذب': 109, 'يخالفك': 33, 'لانهم': 11, 'يامن': 117, 'الاسلام': 40, 'تحدث': 55, 'البذاءات': 0, 'بصندوق': 77, 'كثيرون': 11, 'اسلاما': 11, 'تشتمهم': 78, 'استثناء': 126, 'لطوارئ': 0, 'انهاء': 71, 'كامل': 109, 'بمصر': 22, 'يمضي': 75, 'نحذر': 66, 'الس': 42, 'زلنا': 66, 'حزب': 39, 'التجمع': 51, 'نجتمع': 66, 'يقود': 32, 'يعقل': 61, 'مازالت': 29, 'والديك': 115, 'تواضع': 84, 'والقليل': 84, 'نعد': 66, 'يقبعون': 11, 'نسمع': 50, 'نطالعه': 0, 'التعريص': 127, 'حراميه': 98, 'عسكر': 30, 'الغاء': 71, 'مسرحي': 99, 'مسرح': 77, 'وعود': 126, 'مسئوليته': 73, 'يستطيع': 125, 'يتنصل': 57, 'يدلع': 119, 'ونقوله': 78, 'فده': 7, 'سيحاسب': 80, 'بقتل': 38, 'العسكرين': 120, 'المتورطين': 30, 'السعو': 57, 'هرب': 80, 'طائر': 81, 'عرفي': 78, 'راجع': 25, 'تفشل': 72, 'نسر': 81, 'يتجوزوا': 98, 'النسر': 6, 'يحتاج': 61, 'خط': 77, 'سيادي': 73, 'بحق': 38, 'سيفقدها': 0, 'تفعيل': 71, 'الخارج': 13, 'اجراء': 71, 'التصويت': 73, 'شوط': 23, 'سجل': 26, 'يسويه': 119, 'اهلي': 9, 'اهداف': 1, 'تدوين': 26, 'مفيد': 109, 'نلتقي': 66, 'تصبحون': 94, 'الولايات': 22, 'لتظاهر': 0, 'استمرارها': 20, 'وقمعه': 0, 'دعم': 71, 'قتله': 10, 'رغم': 122, 'تصر': 94, 'بالضرب': 10, 'والتعذيب': 106, 'فيتو': 48, 'متاز': 0, 'المعزول': 49, 'اجابته': 33, 'الامتحان': 97, 'قربت': 8, 'تلاقي': 14, 'اتجن': 78, 'جنان': 31, 'المقطم': 93, 'شبابيك': 128, 'الجزائ': 57, 'التنفيذي': 39, 'بيجي': 119, 'العزف': 20, 'الحالمون': 0, 'القادرون': 11, 'الغناء': 15, 'يقوم': 43, 'تعلم': 122, 'تنظيم': 71, 'رامسفيلد': 0, 'الدولي': 91, 'وفت': 42, 'تنتظرون': 79, 'بلبن': 18, 'بتوع': 98, 'بيزايدوا': 78, 'طب': 112, 'قالك': 108, 'هنزل': 45, 'رز': 18, 'واحده': 29, 'بقي': 112, 'الوالد': 34, 'بيصاحب': 78, 'هتجوز': 45, 'استرجل': 127, 'ماتبقاش': 14, 'رحماك': 35, 'العذاب': 54, 'ذاب': 128, 'اشواق': 128, 'مالكا': 31, 'هالناس': 54, 'مات': 75, 'فيني': 9, 'الوفاء': 15, 'محبوبي': 54, 'يعني': 65, 'يجرحني': 75, 'الغلا': 54, 'لجل': 65, 'هان': 75, 'يرضيهم': 61, 'عايزينه': 7, 'ينور': 58, 'دكتور': 34, 'كنيسه': 93, 'حاسه': 122, 'لوحدها': 14, 'عايشه': 45, 'وحده': 65, 'وحدها': 29, 'والجيش': 46, 'كاره': 25, 'ومندهش': 0, 'عاما': 67, 'وخائف': 0, 'وغاضب': 0, 'الجماهير': 116, 'رجعوا': 98, 'ليبيا': 22, 'رجل': 3, 'مستهدفون': 11, 'الخير': 63, 'يلزم': 113, 'التوضيح': 33, 'شنب': 18, 'بيته': 107, 'تلعب': 12, 'قزاز': 18, 'تلوث': 27, 'نبروه': 57, 'مصراوي': 93, 'البحر': 81, 'بسب': 106, 'بقطع': 38, 'ولاد': 98, 'مياه': 77, 'صيادو': 81, 'الرزق': 63, 'مؤمنين': 11, 'يحول': 32, 'نقبله': 0, 'لانريده': 0, 'منافقين': 11, 'نصيب': 63, 'بهل': 86, 'هني': 86, 'ازا': 65, 'وراضي': 25, 'العنا': 54, 'وقلبك': 115, 'طنيطر': 78, 'شارك': 26, 'كلمته': 107, 'ادعس': 86, 'لتعطيل': 2, 'مطالب': 89, 'نتراجع': 50, 'حاجز': 100, 'يعيد': 32, 'كسرت': 8, 'بمقدور': 28, 'صدر': 128, 'ضدنا': 11, 'لمزيد': 2, 'اليد': 114, 'والطيران': 100, 'يسمح': 43, 'عليكوا': 112, 'نضحك': 21, 'علشان': 65, 'جاين': 98, 'يدور': 119, 'موجوده': 29, 'اوك': 65, 'تشوفه': 12, 'شا': 58, 'الموسم': 51, 'يتصور': 80, 'تصبح': 55, 'السوبر': 116, 'نهنئ': 66, 'وندعو': 60, 'بناء': 71, 'قوتنا': 85, 'رصيدا': 0, 'احسن': 70, 'عبئا': 94, 'استغلالها': 20, 'لاتصال': 57, 'لوطن': 129, 'انهيت': 96, 'المسات': 0, 'بشكل': 23, 'لوضع': 2, 'مستشاري': 39, 'برنامجنا': 51, 'نهائي': 1, 'بالبنات': 38, 'المواطن': 6, 'رحم': 58, 'الشائعات': 85, 'ربي': 63, 'كثرت': 96, 'سقراط': 41, 'ميت': 25, 'عقبه': 31, 'اولاد': 98, 'الاتخابات': 0, 'مرشح': 39, 'نقابات': 89, 'استبعاد': 71, 'استمعت': 60, 'بعقود': 89, 'لعمال': 2, 'جلسات': 89, 'مكاتبهم': 11, 'حا': 78, 'والمصاريف': 0, 'بيخلصوا': 78, 'شهداء': 30, 'حدودنا': 40, 'الواجب': 51, 'وادعو': 60, 'حرام': 65, 'الحلوا': 0, 'جماعته': 6, 'بلده': 5, 'ليعتدوا': 0, 'تطلق': 47, 'طبعا': 65, 'بنات': 98, 'ويضربوا': 78, 'فاقد': 25, 'تما': 78, 'شكر': 60, 'سكر': 18, 'المبه': 0, 'وانت': 90, 'الباب': 95, 'فارق': 25, 'مصدوم': 25, 'ماء': 81, 'جب': 86, 'سنكشف': 57, 'والمتهمين': 57, 'مسئولياتها': 0, 'تحقيقاتها': 57, 'تباشر': 43, 'بالكامل': 100, 'عفان': 74, 'رسول': 24, 'الجليل': 34, 'محاضره': 97, 'الصحابي': 41, 'عثمان': 62, 'النورين': 101, 'شوف': 86, 'بتاعهم': 7, 'بيمسكوا': 78, 'الاعلام': 46, 'قلبي': 83, 'عزمي': 49, 'الثورات': 85, 'ربيع': 76, 'طلال': 62, 'محترم': 109, 'صاموا': 111, 'نص': 67, 'وكده': 112, 'بجد': 112, 'بالانقلاب': 38, 'المحلات': 92, 'شرم': 93, 'احتفلوا': 111, 'تشوفو': 79, 'اصحاب': 11, 'تظاهروا': 111, 'شقط': 78, 'حالا': 78, 'حياتي': 83, 'الكبري': 76, 'متشرف': 0, 'قليل': 109, 'المحله': 93, 'مدينه': 77, 'كذب': 126, 'افتراء': 126, 'حاجه': 112, 'حياتنا': 66, 'تستاهل': 86, 'مومنت': 59, 'يغطس': 0, 'ادور': 53, 'اصلا': 65, 'يقعد': 119, 'واخر': 44, 'البطنيه': 78, 'تنفض': 12, 'وتقعد': 65, 'موبايلك': 52, 'سيناء': 93, 'والسجن': 106, 'يهد': 75, 'القتل': 46, 'وعمليات': 100, 'بالقانون': 73, 'حتي': 65, 'الشوبكي': 101, 'البلتاجي': 49, 'المبادئ': 85, 'لدستور': 129, 'الخلاف': 110, 'النخل': 81, 'حملته': 37, 'توكيلات': 89, 'قالت': 108, 'اعملوا': 79, 'يفضحون': 11, 'البصير': 56, 'تعليمات': 89, 'احي': 42, 'امام': 2, 'الكاذب': 6, 'بنفاق': 0, 'حسن': 101, 'الشيخ': 34, 'لدين': 129, 'عضوا': 39, 'بالوطني': 57, 'وتنشرون': 0, 'تاجرون': 0, 'تدعون': 36, 'بالد': 0, 'انتم': 79, 'الجدل': 110, 'مطلوب': 99, 'فراج': 62, 'لواء': 39, 'واسباب': 106, 'حسمت': 96, 'القاتل': 6, 'هتعرف': 14, 'تبص': 14, 'كتير': 112, 'انك': 90, 'حضور': 71, 'الجماعي': 91, 'يدعوكم': 76, 'السنوي': 76, 'صالون': 77, 'تعهدات': 73, 'المناطق': 92, 'مفقود': 25, 'ارضي': 53, 'انهيار': 71, 'مئات': 13, 'والمفقودين': 57, 'افغانستان': 22, 'يحج': 80, 'باشمهندس': 127, 'فاضل': 101, 'با': 38, 'التالي': 91, 'المقطع': 51, 'نحكي': 50, 'الجواب': 33, 'نتقل': 78, 'برلمان': 39, 'فاز': 1, 'الصعوبات': 85, 'ياجماهير': 79, 'وتصدر': 57, 'موتوا': 79, 'باقل': 70, 'ميز': 0, 'الاسعار': 17, 'حسابك': 52, 'تبادل': 110, 'وقانون': 129, 'اتخيل': 53, 'ابدا': 84, 'الملاين': 11, 'واثق': 124, 'وقود': 100, 'مشاعر': 4, 'والدماء': 106, 'وتحي': 0, 'سالت': 8, 'يلهب': 27, 'موحد': 3, 'تدل': 94, 'العديد': 13, 'والتغريدات': 26, 'الكامل': 91, 'وقدم': 44, 'احترامي': 60, 'المقالات': 92, 'وابتعادها': 0, 'المحامون': 30, 'احمد': 62, 'الوكيل': 40, 'شهيد': 3, 'يقتلهم': 80, 'كتبه': 58, 'نيويورك': 22, 'تايمز': 48, 'دراكولا': 101, 'يبطش': 80, 'المسلح': 30, 'وتجديد': 113, 'التنظيم': 46, 'تطور': 71, 'كوادر': 89, 'بلاوي': 65, 'الهاشتاج': 52, 'فولوا': 52, 'بيعملوا': 98, 'رئيسي': 91, 'رافضين': 98, 'اكتوبر': 76, 'كتر': 112, 'والحقير': 0, 'عمره': 107, 'خائف': 25, 'عديم': 25, 'والواطي': 0, 'وماحدش': 112, 'وجب': 113, 'بيقبل': 78, 'يقبله': 61, 'هيضيع': 7, 'الجبان': 6, 'طز': 86, 'اسمها': 16, 'مستخدمي': 120, 'ميديا': 59, 'عربي': 3, 'واتس': 52, 'لامتحانات': 97, 'هدوء': 128, 'الحذر': 20, 'يسيطر': 94, 'استعدادات': 76, 'مالقيت': 9, 'يافندم': 127, 'واله': 24, 'سمك': 18, 'لفيت': 8, 'مثيله': 31, 'ماله': 65, 'ويقومه': 117, 'صيامنا': 35, 'واجعلنا': 35, 'الصائم': 41, 'لاتجعل': 35, 'الجوع': 114, 'لاترد': 63, 'اجعلنا': 35, 'يصومه': 121, 'والعطش': 106, 'المقبولين': 68, 'حظنا': 21, 'لتحقيقات': 0, 'يرفض': 113, 'اعتقالات': 46, 'كالامطار': 0, 'مبرات': 0, 'اعطيتنا': 69, 'حياته': 107, 'محتفظين': 78, 'بصورهم': 11, 'شاف': 119, 'عرضه': 20, 'سي': 59, 'الشتا': 128, 'المصريون': 30, 'يدبرون': 11, 'مؤامرات': 126, 'لاجهاض': 2, 'اعداء': 40, 'والداخل': 57, 'لبحث': 2, 'الجمال': 15, 'بيتي': 95, 'مبتعث': 3, 'ريت': 112, 'تقلب': 12, 'المركب': 81, 'تقولهم': 98, 'الجامع': 74, 'امتحانات': 97, 'مواعيد': 4, 'الصحف': 92, 'نتائج': 89, 'ناجي': 62, 'جزار': 3, 'كباش': 0, 'الفاشل': 6, 'الفداء': 60, 'سكينه': 128, 'يذبح': 75, 'يكتشف': 32, 'فشل': 110, 'والغايب': 31, 'بجمهورك': 0, 'الفيصلي': 116, 'يسعد': 58, 'عظيم': 109, 'الحاضرين': 120, 'ماهر': 62, 'زين': 86, 'تشبهلنا': 78, 'Ü': 0, 'الظهر': 95, 'صلاه': 74, 'الان': 20, 'حان': 96, 'بيعلم': 7, 'نت': 99, 'الصبر': 84, 'فودافون': 52, 'سلطان': 62, 'منشق': 3, 'الثوره': 46, 'وضد': 106, 'اتضح': 122, 'يحزن': 75, 'انهم': 11, 'سنوات': 67, 'انشق': 27, 'وتيجي': 14, 'قعر': 81, 'وكبير': 44, 'هتقول': 14, 'الغباء': 15, 'وتعمل': 14, 'لحل': 2, 'ميامي': 59, 'انقطاع': 71, 'محافظ': 39, 'المياه': 17, 'يشوف': 119, 'بيتنفذ': 0, 'وساعدنا': 0, 'اتصل': 119, 'تهميش': 126, 'نوصل': 21, 'الصعيد': 93, 'تنميته': 0, 'باين': 7, 'مفضوحين': 11, 'بتاعتنا': 112, 'وايت': 59, 'كوفيه': 18, 'ستوك': 64, 'سيتي': 64, 'نايتس': 93, 'لاعب': 23, 'الفوز': 1, 'افراحنا': 66, 'سامي': 116, 'الزعيم': 116, 'بتاريخ': 76, 'اولمبي': 116, 'يعبث': 124, 'ارحل': 53, 'لفر': 0, 'بالمواجهات': 37, 'الدوري': 1, 'واحصائيات': 29, 'يتفوق': 94, 'نيوكاسل': 64, 'الانجليزي': 64, 'ارسنال': 64, 'تاريخ': 23, 'ويعتبر': 44, 'تنشر': 47, 'عسير': 5, 'يستنكر': 113, 'الثناء': 121, 'تركيا': 22, 'مدير': 39, 'التوقيع': 110, 'مدريدي': 3, 'الفيفا': 64, 'لريال': 64, 'غاياردو': 0, 'انتقل': 32, 'قريب': 25, 'سواريز': 64, 'وكيل': 39, 'المصدر': 99, 'العزم': 84, 'راند': 57, 'تقدم': 47, 'سواء': 126, 'بالقضاء': 38, 'ينكر': 61, 'التعين': 0, 'لجيش': 2, 'احدهم': 115, 'واستشارته': 0, 'يكذبون': 87, 'يحكموا': 111, 'تخصه': 29, 'علنا': 57, 'جبناء': 11, 'بخضوع': 0, 'ويطالب': 43, 'رفضت': 47, 'استنتاجات': 57, 'فرح': 128, 'ناكش': 0, 'شايفني': 25, 'شعري': 9, 'وبقطع': 0, 'بقول': 108, 'هدومي': 95, 'بالشيخ': 34, 'العشاء': 74, 'بمسجد': 74, 'زايد': 62, 'المجمع': 51, 'موقع': 99, 'مسموعا': 0, 'يذكر': 32, 'عقاب': 126, 'وسعي': 117, 'رفح': 93, 'خرابها': 0, 'انتظروا': 76, 'اسمه': 59, 'منع': 113, 'يغلق': 32, 'اظلم': 36, 'مساجد': 74, 'مبادره': 89, 'بقا': 112, 'لتعريف': 2, 'مرات': 67, 'الاقتصاديه': 17, 'الاجتماعيه': 129, 'دستورهم': 0, 'المنابر': 40, 'الشيوخ': 120, 'بنار': 27, 'تفرحوا': 79, 'يسكت': 75, 'وتطاولهم': 0, 'المؤيدين': 120, 'بذاءات': 0, 'الاهرام': 93, 'طبع': 31, 'والبنك': 17, 'ويستنكر': 57, 'ويرفض': 113, 'التعقيب': 57, 'مليار': 13, 'مؤمن': 124, 'صلاحيات': 73, 'معين': 109, 'استشاري': 39, 'واعطاء': 113, 'ينبغي': 125, 'يرفضه': 80, 'الاستفتاء': 73, 'ياشين': 86, 'ذيب': 86, 'شوفوا': 79, 'يستهبل': 119, 'سعودي': 3, 'الهياط': 15, 'المصر': 91, 'بحريات': 0, 'يحسم': 32, 'مترد': 0, 'تستهين': 19, 'المزمع': 113, 'وحقوق': 129, 'نواجه': 66, 'بتر': 71, 'اعتصام': 93, 'النار': 68, 'بالسويس': 93, 'تنظم': 47, 'لدعمه': 57, 'تحرير': 71, 'دفء': 128, 'عدت': 8, 'الجو': 95, 'جماهيري': 116, 'ختمته': 0, 'حافل': 76, 'هون': 86, 'بمؤتمر': 39, 'مختلفا': 103, 'نقدم': 66, 'فبدلا': 125, 'قرنا': 67, 'فتحي': 49, 'يسقط': 80, 'اعرفوهم': 0, 'طول': 65, 'بيغني': 7, 'بيقولها': 7, 'المجال': 51, 'اختلال': 126, 'لمعاير': 0, 'ايامنا': 83, 'مفزع': 109, 'بلاد': 40, 'نرصد': 57, 'فلسطين': 22, 'الغوغائي': 0, 'صحتك': 115, 'فلفل': 18, 'السعرات': 114, 'دايت': 18, 'حرق': 71, 'الحار': 114, 'واعتدال': 0, 'لعوامل': 57, 'فلسط': 0, 'هدم': 71, 'المجتمعات': 85, 'المعاملات': 92, 'المواقف': 85, 'تعرضنا': 60, 'التدين': 15, 'موس': 18, 'بينا': 21, 'الموقوف': 57, 'زميلهم': 30, 'طلاب': 120, 'يتظاهرون': 43, 'فول': 18, 'لوحده': 7, 'امريكان': 59, 'المريخ': 22, 'اكتشفو': 78, 'مسحت': 8, 'جبت': 8, 'مجتمع': 3, 'اعمل': 53, 'اخلاق': 126, 'ستحاسب': 94, 'عايزهم': 98, 'عايزه': 112, 'لتصويت': 57, 'وثلاثين': 67, 'سبا': 101, 'فؤاد': 49, 'مدوح': 0, 'الشوباشي': 101, 'غنيم': 49, 'يطالبون': 43, 'الشخصيات': 92, 'وجاعلوه': 0, 'تحزني': 19, 'المرسلين': 24, 'رادوه': 0, 'اليم': 109, 'تخافي': 72, 'ضاربينهم': 0, 'وقاموا': 111, 'تعالوا': 79, 'هام': 109, 'الزواج': 20, 'ضحايا': 30, 'مصابا': 13, 'الضحايا': 30, 'قتيلا': 13, 'بالحروب': 57, 'النظر': 20, 'تويت': 52, 'يحل': 32, 'احتلال': 71, 'ايام': 67, 'الحلول': 85, 'حرب': 46, 'دومه': 49, 'نقاء': 84, 'وغباء': 126, 'ثوري': 3, 'لمعتقلين': 57, 'نيولوك': 59, 'النتيجه': 37, 'ندعم': 66, 'بتعليقك': 0, 'رغيف': 18, 'يوميا': 67, 'مواطن': 3, 'الفئات': 92, 'عزوف': 104, 'مشاكل': 4, 'تفاقم': 106, 'ويضمن': 129, 'النقابات': 92, 'متوازن': 109, 'يحفز': 32, 'نصراوي': 116, 'لاتكلم': 86, 'دربك': 54, 'والفوز': 1, 'عشق': 128, 'يفهمها': 61, 'لمشير': 0, 'مرتضي': 49, 'النزاع': 110, 'الشكر': 60, 'واحمد': 101, 'حل': 126, 'الوطني': 91, 'بخالص': 60, 'يتقدم': 43, 'شوبير': 49, 'والامتنان': 60, 'الجبار': 56, 'لمجهوده': 0, 'هاشتاج': 127, 'عارفين': 98, 'بحب': 45, 'الراقصات': 120, 'النع': 42, 'كايدينهم': 78, 'وخد': 127, 'قول': 108, 'هديه': 18, 'ياجامد': 78, 'راتب': 17, 'مايكفي': 86, 'يمكنكم': 113, 'البث': 51, 'ميدو': 49, 'قراري': 33, 'معاش': 65, 'صدام': 6, 'مبكر': 109, 'حساب': 52, 'كشف': 71, 'لملف': 2, 'السد': 116, 'اجتماع': 110, 'وبتقديم': 0, 'طالبت': 43, 'لغاليغك': 0, 'بالك': 115, 'غناء': 101, 'مدن': 89, 'المتهكم': 0, 'الصراخ': 15, 'الفم': 114, 'روجيه': 101, 'حراء': 74, 'لرسول': 24, 'غار': 27, 'النبوي': 74, 'حديث': 41, 'اقترب': 96, 'والسياسين': 57, 'لفظ': 129, 'والخطاب': 129, 'الحملات': 92, 'موعد': 76, 'عنفا': 57, 'روسي': 48, 'يدع': 61, 'روس': 31, 'صادم': 109, 'يدخن': 119, 'غازي': 62, 'كوﻻ': 0, 'مشروب': 18, 'ناتشوز': 0, 'انستقرام': 52, 'الاسد': 48, 'اقتحام': 10, 'جنود': 30, 'جانب': 69, 'مقتل': 10, 'بيضربونا': 78, 'بق': 42, 'هيضرب': 7, 'باشا': 49, 'واخد': 7, 'تفاصيل': 4, 'المروع': 57, 'الحادث': 10, 'يكفي': 122, 'الح': 42, 'القاويش': 0, 'حسام': 49, 'المتحدث': 39, 'حرصه': 94, 'تصويري': 99, 'بعترف': 122, 'الحب': 54, 'حضرموت': 5, 'ويل': 42, 'تيل': 59, 'كحك': 18, 'بروكلين': 57, 'نو': 59, 'شكرا': 60, 'بالغد': 28, 'البلاك': 52, 'فين': 112, 'بالطوب': 127, 'معلي': 86, 'باقتحام': 38, 'القصر': 93, 'الصدر': 83, 'تهديد': 73, 'الديار': 5, 'مفتي': 39, 'المعاصر': 91, 'رئيسا': 39, 'تستهدف': 47, 'نماذج': 4, 'مصحف': 74, 'لميدو': 78, 'مكتوب': 119, 'بالنور': 117, 'الحلوه': 14, 'قوام': 31, 'سنين': 67, 'لعبنا': 23, 'يفتح': 119, 'الاحتمالات': 85, 'جدو': 49, 'مواطنون': 30, 'مجيء': 20, 'لمتظاهرين': 57, 'لتصدي': 57, 'المحافظات': 92, 'عهد': 31, 'يريد': 125, 'العقول': 85, 'تريد': 125, 'التلفزيون': 95, 'تغيب': 12, 'يكشف': 32, 'النيل': 93, 'لركب': 0, 'لضحايا': 2, 'والدموع': 128, 'غرقوا': 111, 'تجاهل': 126, 'قنا': 93, 'مبهر': 109, 'رائع': 109, 'دراما': 59, 'مسلسل': 99, 'نيران': 100, 'الحل': 51, 'طارق': 62, 'الدائم': 84, 'لاينبغي': 41, 'ثورته': 40, 'وطنه': 107, 'يؤمن': 124, 'ثائر': 3, 'يثق': 124, 'امان': 128, 'صمام': 129, 'لاندرويد': 57, 'بنشره': 26, 'ساهم': 26, 'الكريم': 121, 'سبيل': 58, 'النكد': 15, 'حز': 27, 'سنحيا': 66, 'كرا': 42, 'لونه': 18, 'هيثم': 62, 'الناشط': 49, 'بوضوح': 129, 'يستهدف': 100, 'محمدين': 101, 'اليساري': 6, 'شكله': 119, 'اعتقال': 10, 'بقوله': 108, 'ماعنديش': 45, 'اعتراف': 126, 'بفكر': 45, 'زفت': 127, 'فلتر': 18, 'موقفه': 73, 'يعلن': 113, 'نزلا': 36, 'وسلم': 24, 'عقوباته': 0, 'البلاوي': 37, 'بعقول': 38, 'التظاهر': 73, 'العبث': 15, 'عهده': 73, 'وصل': 119, 'تستطيع': 125, 'اتخاذ': 71, 'مشكلتكم': 79, 'الحاليه': 29, 'لقرار': 2, 'الكهف': 74, 'تجديد': 71, 'مرض': 126, 'التبرؤ': 0, 'عضال': 114, 'الدكتوراه': 97, 'وزراء': 39, 'حملت': 8, 'اغلبهم': 11, 'والناجح': 129, 'الطلاب': 120, 'منسق': 39, 'متابعات': 76, 'انضم': 60, 'الجد': 15, 'تعلن': 47, 'الموارد': 17, 'المتطوعين': 120, 'فزنا': 1, 'لينسب': 0, 'تريكه': 49, 'العار': 40, 'ساند': 80, 'كرها': 28, 'غانا': 1, 'بكاس': 1, 'فخسرنا': 0, 'منتخب': 1, 'وتجاهل': 106, 'الخليج': 22, 'الحسم': 46, 'راجعين': 98, 'نموت': 21, 'كراما': 11, 'اتصالات': 89, 'نتنياهو': 48, 'حماس': 46, 'بحماس': 38, 'وفتح': 117, 'بقريب': 128, 'اتفاق': 110, 'زوجته': 107, 'الاقتصاد': 17, 'دمصطفي': 0, 'الوقت': 54, 'نجل': 39, 'حرمه': 107, 'مصطفي': 49, 'الاستاذ': 34, 'جمعت': 96, 'سجلت': 8, 'اثناء': 113, 'السؤالين': 78, 'الشرائط': 0, 'مسح': 71, 'اتق': 58, 'ضعيف': 25, 'رسلان': 101, 'انفصال': 110, 'والسلوك': 129, 'ويعتدون': 94, 'ويزورون': 0, 'ويحتاج': 44, 'يقيمون': 111, 'يستدعي': 32, 'الجحيم': 11, 'افتاح': 0, 'القلب': 83, 'يعقوب': 62, 'مجدي': 49, 'يبدو': 122, 'المناسب': 91, 'وفعلا': 78, 'باسمي': 0, 'ويكتب': 44, 'يستخدم': 32, 'المفتي': 6, 'الازهر': 93, 'العلماء': 120, 'لحوم': 114, 'مول': 77, 'المنصري': 101, 'اندلس': 0, 'وعد': 58, 'القدس': 5, 'نجوت': 96, 'نجا': 69, 'قسم': 86, 'فرصتنا': 37, 'لنعيد': 66, 'قادم': 60, 'بخير': 25, 'ينام': 75, 'فيسبوك': 52, 'بعنوانكيف': 0, 'يبكي': 75, 'الهواء': 81, 'فيروس': 114, 'وفيات': 89, 'تسجيل': 71, 'كورونا': 17, 'استثمارات': 89, 'الذهب': 81, 'ويعد': 44, 'ينقب': 0, 'اقتصاد': 17, 'ساويرس': 49, 'نجيب': 21, 'باستثمارات': 57, 'الاعتداء': 10, 'الوط': 42, 'داود': 62, 'يارب': 63, 'معانا': 127, 'اﻻمتحان': 0, 'مذاكر': 25, 'واسترها': 0, 'هاتها': 86, 'جمايل': 31, 'حيطق': 0, 'يحصل': 32, 'عرق': 18, 'يلمح': 32, 'لعمرو': 49, 'شبيه': 31, 'يحاول': 125, 'زغب': 44, 'قحاب': 11, 'بنشوفها': 21, 'محتاجه': 45, 'وناس': 65, 'بالالوان': 99, 'بيبان': 7, 'جواها': 14, 'جاه': 75, 'يستغله': 80, 'الفاسد': 6, 'لمصلحته': 129, 'محبوس': 25, 'حلم': 128, 'كابوس': 23, 'مبتكملش': 78, 'دمع': 128, 'لحث': 113, 'ضفايرها': 0, 'الشريعي': 101, 'هدي': 31, 'طل': 128, 'حبيبتي': 16, 'القمر': 81, 'الحجار': 101, 'يحتمل': 61, 'مجروح': 25, 'منير': 49, 'الاف': 13, 'ميسي': 64, 'تشجعني': 0, 'افشل': 70, 'التسجيل': 51, 'ونتا': 127, 'بتكلم': 45, 'حزام': 77, 'اوقف': 53, 'قوم': 41, 'ناسف': 60, 'بنشوفه': 21, 'ارحمنا': 35, 'العيب': 15, 'الفارق': 23, 'فقيه': 34, 'مفسد': 3, 'روتانا': 16, 'فرفش': 78, 'مصريه': 16, 'مخنوق': 25, 'اليسا': 16, 'ليومين': 67, 'تخفيضات': 17, 'مترو': 77, 'يحضرون': 111, 'الوظائف': 92, 'فشرب': 0, 'ليمون': 18, 'عصير': 18, 'فعلت': 96, 'صامت': 25, 'شعار': 23, 'يرفع': 32, 'المؤتمرات': 92, 'والصمود': 129, 'بسفير': 57, 'تعرفه': 72, 'اعترف': 122, 'وعادل': 62, 'مواطنه': 89, 'سفير': 39, 'تخرج': 55, 'بالعوايد': 0, 'بسكو': 0, 'مصنع': 77, 'الجنائي': 91, 'القت': 47, 'النصوص': 85, 'رمز': 129, 'ومطرب': 0, 'وشعبهم': 11, 'شعبنا': 40, 'تمنع': 69, 'برده': 112, 'درس': 97, 'ومستر': 101, 'اهرامات': 77, 'بطب': 86, 'قر': 35, 'لتحقيق': 2, 'طنطا': 93, 'الخالق': 56, 'الحكيم': 56, 'الفيس': 52, 'حرميها': 0, 'بوك': 52, 'شبابنا': 40, 'وضميرك': 25, 'استايل': 99, 'متربين': 11, 'مفهومه': 29, 'المركز': 51, 'اقل': 70, 'شفعاء': 19, 'بذكر': 123, 'يملكون': 87, 'يعقلون': 87, 'قل': 41, 'اتخذوا': 36, 'ابرز': 70, 'عناوين': 89, 'الاثن': 0, 'فوده': 49, 'الثوار': 46, 'الخفي': 91, 'والطرف': 44, 'وقوات': 100, 'ترهيب': 126, 'ترقص': 12, 'عملهم': 11, 'ونص': 67, 'ظلما': 19, 'صحفين': 78, 'ومنعهم': 113, 'ابرياء': 30, 'رديت': 108, 'اهو': 7, 'المغيب': 128, 'انصرنا': 35, 'الانستقرام': 52, 'لاتصدقني': 0, 'بطولك': 0, 'حفر': 77, 'امك': 115, 'مشيط': 5, 'قلتها': 108, 'بتعينه': 0, 'لشباب': 2, 'التوفيق': 63, 'الفتاح': 49, 'يهنئ': 43, 'ماضي': 128, 'الغد': 20, 'تشارك': 47, 'لرفضها': 113, 'تريند': 52, 'عبدالعظيم': 101, 'محبي': 60, 'شاركوا': 111, 'الخونه': 40, 'جيش': 30, 'زعيم': 3, 'مضامير': 0, 'العملاق': 99, 'لقيناها': 78, 'عابدين': 93, 'كنا': 21, 'بندور': 21, 'برستيجها': 0, 'الهوامير': 11, 'سمعت': 8, 'شفته': 8, 'المصانع': 92, 'جولتي': 37, 'فعال': 109, 'تسهم': 47, 'المواطنين': 120, 'يمثلون': 87, 'داع': 42, 'لتحرير': 2, 'عشوائي': 109, 'بشوم': 0, 'وقفوا': 111, 'الشوارع': 95, 'بتوقف': 94, 'قدامي': 9, 'لاستعطاف': 57, 'اجتماعاتهم': 57, 'تسليم': 71, 'المطلب': 6, 'يظن': 122, 'واهم': 70, 'تحريك': 71, 'ساذج': 109, 'جبار': 109, 'قادر': 25, 'يوجه': 43, 'جنيف': 22, 'روسيا': 22, 'لاتفاق': 110, 'ولغايه': 78, 'مفتوحه': 29, 'وقلوبنا': 117, 'وعيونا': 0, 'وبيوتنا': 57, 'ليكوا': 127, 'جوامعنا': 0, 'تنوروها': 0, 'الكنايس': 93, 'تحاول': 125, 'التراجع': 20, 'الابداع': 15, 'والسينما': 57, 'وحريه': 129, 'الخشت': 0, 'اد': 42, 'فرصته': 23, 'بعدين': 65, 'فس': 42, 'يشك': 124, 'تستقل': 72, 'المسلم': 36, 'مسلمي': 30, 'الروهينجا': 57, 'قمع': 46, 'استمر': 96, 'حفرا': 0, 'الغدر': 15, 'العزاء': 74, 'الوراق': 93, 'يؤثر': 32, 'وسلاما': 117, 'حادث': 10, 'والوطن': 40, 'مريم': 16, 'وعوده': 113, 'بيجيب': 7, 'وحياتي': 9, 'الهراء': 15, 'لشرحه': 0, 'مجهود': 23, 'بيعرفش': 78, 'بيكون': 7, 'الورقه': 95, 'الخلف': 81, 'واكتب': 117, 'صفحه': 52, 'الحجاب': 73, 'بالخير': 117, 'يرضيك': 63, 'اشوف': 53, 'بطبل': 78, 'عشنا': 66, 'بالحياه': 84, 'حامل': 16, 'وشف': 86, 'شب': 42, 'انتصاراتنا': 0, 'المطلوب': 91, 'تناولت': 47, 'تجزي': 19, 'واتقوا': 36, 'يقبل': 32, 'يوما': 28, 'يؤخذ': 61, 'لعقل': 129, 'خواطر': 4, 'حلقات': 4, 'تعنينا': 0, 'تهمنا': 47, 'بغداد': 5, 'تقتلنا': 66, 'النهوض': 20, 'نحب': 66, 'تشقينا': 0, 'دمشق': 5, 'تضامنا': 76, 'شريف': 49, 'انتفضت': 96, 'الميمون': 31, 'الترشح': 73, 'طرطور': 127, 'طرطو': 0, 'والحكومه': 89, 'قنديل': 49, 'حمدي': 49, 'ناشرون': 0, 'الطعن': 73, 'طراطير': 78, 'والشعب': 40, 'ومجلس': 39, 'العقود': 92, 'الماده': 92, 'تزلف': 0, 'الخط': 51, 'الانتقاد': 15, 'محاولين': 57, 'مؤيدون': 11, 'ومعارضون': 57, 'والثناء': 121, 'لهجوم': 10, 'يقفون': 111, 'جاسوس': 3, 'فعله': 33, 'تقطعوا': 79, 'منوع': 99, 'الاقتراب': 20, 'لموقف': 2, 'استقرار': 110, 'يدعو': 60, 'شامبيونز': 0, 'هتكسب': 14, 'الوحيد': 91, 'السبيل': 129, 'نحي': 31, 'حصول': 71, 'يقرب': 119, 'مجهودهم': 57, 'اقتناع': 126, 'صوتوا': 26, 'وشرفاء': 11, 'يكن': 32, 'نمد': 66, 'لناس': 65, 'تصدق': 72, 'صناع': 129, 'والبرامج': 37, 'الفيديوهات': 92, 'فعاليات': 76, 'تابعوا': 26, 'الدروس': 92, 'والمجتمع': 129, 'الينك': 78, 'تشوفوها': 79, 'ورسومات': 0, 'ياشباب': 79, 'المبدع': 34, 'سليم': 109, 'ماشي': 127, 'العماني': 34, 'متحمسين': 98, 'نجاحه': 20, 'الجمهور': 116, 'توالي': 31, 'عقول': 4, 'ياخفي': 0, 'نجنا': 35, 'لعقول': 129, 'مشايخ': 30, 'نخاف': 66, 'ابوالفتوح': 49, 'والبكش': 0, 'تكرارها': 20, 'يحسن': 61, 'وتسب': 86, 'الكذب': 15, 'الوعود': 85, 'رئيسكم': 6, 'يستحق': 125, 'وضعت': 96, 'المنبه': 95, 'تسدل': 27, 'ستار': 59, 'الفجر': 74, 'عينيك': 83, 'حلاوتك': 127, 'ايد': 127, 'دكر': 127, 'بتاعتك': 14, 'مرمطون': 0, 'هلكوبتر': 0, 'دخيلك': 54, 'موتور': 59, 'شو': 65, 'بتفكرو': 0, 'كهربا': 127, 'ياربي': 63, 'بتفكر': 14, 'مساويء': 0, 'ماليش': 45, 'اشعر': 122, 'لتبرير': 2, 'حشد': 30, 'فبركات': 57, 'والغدر': 106, 'مرتب': 109, 'ساعات': 67, 'يصف': 43, 'بدار': 31, 'مقاطع': 99, 'اتنين': 112, 'التايم': 52, 'شيزوفرينيا': 127, 'تعبر': 104, 'يهتم': 124, 'سعاده': 63, 'تظاهر': 43, 'والتقدير': 60, 'عادوا': 111, 'وطنيا': 28, 'الموقف': 51, 'عملا': 103, 'يرون': 87, 'يحق': 125, 'اختلاف': 126, 'يستعدون': 111, 'رويترز': 48, 'مقاتلان': 0, 'دخله': 78, 'خيري': 101, 'يذهب': 32, 'حفل': 76, 'قولوا': 79, 'ارزقنا': 35, 'داوا': 42, 'واقعيه': 29, 'مرضاكم': 121, 'لانقلاب': 2, 'يمسيك': 58, 'الويك': 59, 'يطعم': 80, 'ﻣﺎ': 82, 'ﻣﺠ': 0, 'ﻃﺮﻳﻖ': 82, 'ﻫﻨﺮﻭﺡ': 0, 'ﺑﻴﻨﺎ': 0, 'ﻓﻴﻨﺎ': 82, 'ﻗﻠﻮﺑﻨﺎ': 82, 'ﻣﺎﺗﺖ': 82, 'ﻭﻻ': 82, 'ﻭﻫﻲ': 82, 'ﺍﻳﻪ': 82, 'ﻣﺤﺪﺵ': 82, 'ﺍﻟﻜﺮﻩ': 0, 'ﺧﺴﺮﺍﻥ': 0, 'بلغ': 96, 'طموحات': 4, 'بكرا': 65, 'الجميع': 15, 'توافق': 94, 'فمرفوض': 0, 'صنعاء': 5, 'التطرف': 15, 'بعرض': 38, 'مكتبه': 99, 'مناخ': 129, 'علاجه': 114, 'ندوته': 0, 'افكاره': 85, 'دعبد': 0, 'فضائحهم': 57, 'المفاوضون': 0, 'لاشتون': 0, 'الفاسدين': 40, 'قلبها': 83, 'مثير': 109, 'متصور': 25, 'جرينوف': 0, 'الموضوع': 51, 'هنمنع': 0, 'علماني': 3, 'بنعمل': 21, 'ويستشهد': 57, 'الفض': 42, 'رابعه': 93, 'يفارقني': 61, 'صف': 31, 'بدقائق': 57, 'مذبحه': 30, 'يدينون': 111, 'التفجيرات': 46, 'يفضح': 80, 'دور': 23, 'تمثيل': 126, 'ويكشف': 44, 'دقائق': 67, 'وافقه': 0, 'بينج': 59, 'بونج': 59, 'كبار': 120, 'فضحك': 80, 'قوله': 108, 'لاتزال': 47, 'نسيت': 8, 'يتمتع': 124, 'لاسباب': 89, 'دينه': 107, 'بحقوقه': 38, 'مذهبه': 107, 'استقلال': 73, 'تماما': 33, 'ارفض': 113, 'لفرض': 2, 'تقنين': 71, 'يغرد': 119, 'تشتكيه': 0, 'وهبي': 16, 'القصيم': 5, 'وهيفاء': 16, 'العهر': 15, 'شطبه': 57, 'مفبرك': 109, 'ليوم': 76, 'لبس': 18, 'مصادره': 71, 'ينتشر': 32, 'النقاط': 85, 'العلوم': 92, 'ينصح': 43, 'الباحث': 6, 'المتميز': 91, 'الخرف': 114, 'بقراءته': 38, 'دمنهور': 93, 'احتشد': 30, 'رهانات': 57, 'البريطا': 0, 'المهندس': 34, 'سلط': 94, 'ونائبه': 39, 'مواد': 89, 'معلش': 112, 'داريان': 0, 'نسب': 126, 'هجوم': 10, 'بنلف': 21, 'هد': 86, 'اولتراس': 93, 'تموت': 12, 'يتمنع': 78, 'فالجمهور': 0, 'فالناس': 84, 'الماتشات': 112, 'فاخترعت': 0, 'لجماهير': 2, 'راحم': 56, 'بقضاء': 84, 'مغيث': 117, 'الضعفاء': 40, 'وعجل': 35, 'مجيب': 63, 'الدعاء': 63, 'حاجاتنا': 63, 'دعوتنا': 60, 'المستغيثين': 117, 'الراحم': 0, 'هنقول': 21, 'حازمون': 30, 'مواقف': 4, 'وحديثه': 104, 'دخوله': 20, 'الجهاد': 40, 'قائد': 39, 'بدايات': 4, 'الطوارئ': 46, 'النفس': 83, 'لحظ': 42, 'هواها': 54, 'سجن': 10, 'ابوزعبل': 0, 'وحملتها': 0, 'لتنظيم': 2, 'مستخدمين': 120, 'حضرتك': 112, 'دورت': 8, 'والعلم': 129, 'ضميري': 54, 'مايرضي': 58, 'اشكرك': 94, 'اليجا': 0, 'يتوج': 43, 'بلقب': 38, 'زملاء': 120, 'حريه': 126, 'جرافيتي': 93, 'مبروك': 60, 'رفعتها': 96, 'لتقابل': 0, 'جهزت': 8, 'ابنتها': 16, 'عادت': 96, 'الواتساب': 52, 'تسجد': 72, 'واسماك': 0, 'لترسل': 0, 'لفرع': 2, 'اوقات': 4, 'الرسمي': 91, 'اهلا': 124, 'الساعه': 67, 'فرع': 77, 'الدوام': 95, 'ودول': 89, 'يعتبروا': 11, 'المبالغ': 4, 'والد': 34, 'يدركوا': 87, 'الغامدي': 34, 'ترد': 72, 'فيصل': 62, 'يعرضون': 111, 'تباع': 47, 'الملك': 34, 'جاءت': 96, 'فخر': 60, 'لينا': 127, 'اعتدوا': 111, 'شخصيا': 33, 'عصرا': 76, 'الفل': 127, 'معادكم': 0, 'ريزو': 0, 'سيبك': 127, 'مته': 86, 'اذان': 74, 'شبكه': 99, 'السك': 42, 'فوز': 1, 'الانتر': 64, 'ميلان': 64, 'يقلب': 119, 'بانقلاب': 38, 'رسميا': 48, 'السيمفوني': 0, 'لتقديم': 2, 'السلفي': 6, 'التصحيح': 20, 'بالعربي': 59, 'محللون': 48, 'الاحتلال': 46, 'بجروح': 10, 'استهداف': 10, 'حيكون': 7, 'تلات': 112, 'ينجح': 32, 'يموت': 75, 'معارضين': 30, 'مؤيدين': 30, 'متطوعي': 57, 'طظ': 127, 'وده': 7, 'كره': 23, 'يكسو': 27, 'وعربي': 3, 'تليفزيون': 99, 'نوعه': 99, 'ومسلم': 3, 'الحدث': 51, 'لارتفاع': 2, 'وتعلمت': 122, 'الارجنتين': 64, 'وادعوكم': 57, 'يرتفع': 32, 'صادق': 25, 'اسعار': 17, 'ثمنها': 84, 'البيض': 114, 'ماكسبتم': 0, 'يحارب': 80, 'دفاعا': 104, 'بلادك': 31, 'لاحظت': 122, 'تبليغ': 73, 'متحضر': 3, 'المصاب': 6, 'المعتصم': 6, 'ندين': 66, 'سلميا': 73, 'متضامن': 3, 'يدافعون': 104, 'لواختلفنا': 0, 'يؤمنون': 87, 'حظي': 54, 'وحش': 127, 'ناقوس': 57, 'ينذر': 43, 'بتصاعد': 0, 'تميز': 72, 'تحديدا': 57, 'وقريبا': 57, 'الحرمين': 40, 'ينتفض': 80, 'تنتفض': 27, 'بلدنا': 40, 'بالمصري': 127, 'السلاطين': 11, 'الحديث': 15, 'خنوع': 126, 'تحدثنا': 50, 'خروج': 71, 'الجميل': 84, 'يعتذر': 32, 'ﺩﺍﻓﻊ': 0, 'ﻣﻦ': 82, 'ﺣﺎﻭﻝ': 0, 'ﺭﺍﺟﻞ': 0, 'ﻭﻗﺪﺭ': 0, 'ﻣﺘﺒﻘﺎﺵ': 0, 'ﻋﻠﻴﻬﺎ': 82, 'ﻣﻌﺎﻧﺎﺓ': 0, 'ﺇﻳﻪ': 82, 'ﻣﺠﺘﻤﻌﻨﺎ': 0, 'ﻭ': 82, 'ﺗﺨﻔﻒ': 0, 'ﻋﻨﻬﺎ': 82, 'الكاتم': 0, 'الخ': 42, 'دومينوز': 18, 'بيتزا': 18, 'وير': 59, 'ات': 42, 'اترشح': 73, 'مكنش': 112, 'مضمون': 109, 'مشكلتك': 33, 'وسقوطك': 0, 'هيترشح': 78, 'الخلفاء': 74, 'جزاكم': 58, 'تفاعلكم': 26, 'الراشدين': 30, 'طالب': 3, 'نواف': 62, 'السموالملكي': 0, 'سعدت': 124, 'تشريف': 60, 'علمونا': 66, 'نطفي': 21, 'لاكن': 65, 'يسمعه': 61, 'صوتا': 28, 'الفكر': 15, 'العيد': 95, 'يتواضع': 61, 'ويهز': 44, 'خروف': 18, 'بمفرد': 0, 'بمجلس': 39, 'فرض': 94, 'بتبني': 38, 'لفعل': 129, 'عقوبات': 89, 'انقذنا': 80, 'وصلت': 8, 'مداها': 81, 'واعتقالات': 100, 'باصابات': 100, 'عزيز': 25, 'الاستعمار': 46, 'انتهاكات': 46, 'معانيها': 33, 'لمقدسات': 0, 'ولمشاعر': 0, 'تسفر': 104, 'الدول': 92, 'وتسبق': 0, 'بتوقع': 78, 'اون': 99, 'لموقع': 2, 'قناته': 52, 'الكوارث': 85, 'حدوثها': 20, 'عمها': 16, 'الخارجي': 91, 'تنتقل': 55, 'راشد': 62, 'خالها': 16, 'مطلق': 62, 'مراحل': 4, 'ماهي': 29, 'مسلمون': 11, 'تذرني': 102, 'دعائي': 63, 'فردا': 28, 'الوارثين': 102, 'بتهم': 106, 'وزملائه': 57, 'حتمي': 129, 'تعرفها': 72, 'سجينا': 30, 'ورجلا': 28, 'متهمون': 30, 'ماليزيا': 22, 'تهريب': 10, 'الامار': 0, 'المخدرات': 114, 'تقرير': 99, 'قنوات': 89, 'الشرق': 22, 'هيك': 65, 'وبيا': 0, 'شكلا': 126, 'عالبيت': 95, 'يجي': 119, 'الحيوان': 6, 'بكون': 45, 'الشعر': 114, 'العقل': 15, 'النعيم': 68, 'ينعم': 124, 'دماغ': 127, 'بترتيب': 38, 'ارقام': 89, 'توجه': 47, 'هيكل': 49, 'انهالت': 94, 'الجان': 114, 'التعليقات': 92, 'المنهج': 51, 'تعديل': 71, 'بالسباب': 0, 'بالانفجار': 0, 'خاطر': 108, 'شربين': 93, 'لتطوير': 2, 'باقتراح': 57, 'غامض': 109, 'الوضع': 51, 'كدا': 112, 'كابريهات': 0, 'افهم': 53, 'برئ': 3, 'الهرم': 93, 'شارع': 77, 'لحين': 113, 'المخط': 0, 'واقتحام': 100, 'ليومنا': 0, 'انذال': 11, 'خصوم': 73, 'ازيك': 127, 'عالم': 99, 'نوران': 62, 'فالموضوع': 78, 'عاوزه': 112, 'بالوقوف': 38, 'نيوزويك': 57, 'تطالبه': 57, 'ديني': 129, 'بالبث': 57, 'تلتقون': 0, 'ودرس': 129, 'منتصف': 20, 'ختم': 121, 'المباشر': 91, 'ودعاء': 121, 'التهجد': 74, 'يلقيه': 80, 'التابعين': 120, 'اعلان': 99, 'تفرطي': 0, 'وملاين': 0, 'خيرت': 49, 'اوعي': 112, 'الشاطر': 49, 'زويد': 100, 'مجند': 3, 'بالقوات': 38, 'بكمين': 100, 'مسلحين': 100, 'استشهاد': 10, 'اشتباكات': 100, 'وضابط': 100, 'نظر': 126, 'بالمظلومين': 0, 'مستبد': 3, 'يتصورون': 111, 'مشكلتهم': 11, 'والمحبط': 0, 'راضي': 25, 'طماع': 25, 'الدور': 51, 'سابق': 3, 'اتهانت': 78, 'الصحفين': 120, 'جابت': 8, 'تعليقي': 33, 'لتعبير': 104, 'انتمائي': 60, 'انسحابي': 33, 'احلف': 108, 'تفطر': 12, 'هتحل': 78, 'المراقب': 6, 'ارحم': 35, 'روحه': 107, 'معيارا': 28, 'لمبادئ': 129, 'فسيح': 68, 'جناتك': 68, 'اعتبار': 126, 'الجيزاوي': 116, 'زمن': 31, 'بالخارج': 120, 'انتهي': 96, 'فورا': 113, 'بالتدخل': 38, 'ﺁﻧﻲ': 82, 'ﺣﺼﻞ': 82, 'ﻛﻼﻣﻲ': 0, 'ﻭﺁﻧﺎ': 0, 'ﻻﺯﻡ': 82, 'ﺁﺻﻞ': 0, 'ﻣﻬﻤﺎ': 82, 'ﺁﺩ': 0, 'ﺁﻧﺎ': 82, 'التركي': 48, 'يقترب': 69, 'معهد': 97, 'العلوي': 91, 'التوثيق': 51, 'تراث': 99, 'والظهور': 129, 'البوب': 59, 'لاجديد': 57, 'تعجز': 104, 'نملك': 66, 'حروف': 4, 'والولاء': 60, 'فجمهور': 0, 'عميل': 3, 'سمعتي': 108, 'بادافع': 0, 'وخائن': 3, 'شفتي': 8, 'كثير': 65, 'وجاسوس': 0, 'ماريتا': 0, 'اجمل': 70, 'اكاديمي': 99, 'والسيناريست': 0, 'الكاتب': 6, 'دياب': 49, 'بالموقف': 38, 'سائق': 10, 'الشرب': 114, 'الكلوي': 106, 'تطورات': 89, 'بالفشل': 38, 'الماء': 114, 'لقتل': 2, 'خلاف': 110, 'ناسين': 98, 'موسكو': 48, 'السفير': 48, 'عزت': 101, 'فلوبنا': 0, 'لايحرمك': 58, 'سويسرا': 22, 'وحبك': 54, 'دراستنا': 37, 'شاء': 58, 'اعرفها': 8, 'عبدالمغني': 0, 'السادات': 49, 'عصمت': 101, 'ترشح': 73, 'المدن': 92, 'سكاي': 59, 'البلاد': 22, 'تشهدها': 47, 'رحلاتها': 92, 'الاحتجاجات': 46, 'خطوط': 4, 'ومستشار': 39, 'المحامي': 34, 'قاضي': 3, 'مكتب': 39, 'الوتر': 121, 'تفاءلوا': 79, 'تجدوه': 36, 'نجحنا': 66, 'الميلاد': 74, 'ينتخب': 80, 'لعصر': 57, 'ترجع': 12, 'فرعون': 36, 'باكثر': 70, 'لايعلم': 124, 'القرار': 51, 'بمنع': 113, 'صلح': 96, 'نتصالح': 66, 'حمزاي': 0, 'فرجاني': 0, 'لرؤياك': 0, 'طهرني': 35, 'لايصلح': 129, 'يختاروا': 98, 'قلوب': 83, 'اﻵخر': 0, 'ابتسم': 115, 'بتحبها': 14, 'روحلها': 78, 'يسخر': 69, 'الوصل': 54, 'برشلونه': 64, 'كندا': 22, 'الغرب': 40, 'سنويا': 13, 'يقام': 76, 'مينا': 127, 'لمرسي': 49, 'اسكندر': 101, 'واعلامين': 0, 'يدفعون': 87, 'مداه': 54, 'افلاس': 126, 'والملاين': 0, 'الثمن': 84, 'وموظفين': 120, 'وشلت': 86, 'التليفزيون': 93, 'يسرا': 63, 'لرجال': 2, 'نساء': 30, 'منازلهن': 0, 'تسمح': 72, 'بحمل': 38, 'يهاجمون': 111, 'بالمدافع': 57, 'لقبض': 0, 'لوقف': 2, 'مريب': 109, 'طريقهم': 11, 'متفق': 94, 'الهجوم': 46, 'تكثيف': 71, 'بمبارك': 38, 'الشجب': 57, 'استجب': 63, 'نكدي': 78, 'والمسئول': 57, 'وشوش': 127, 'صيام': 121, 'يسهرك': 0, 'بحقوق': 38, 'مسيرات': 89, 'جامعات': 89, 'تزيف': 72, 'علموا': 111, 'يعلمه': 61, 'المصورون': 57, 'ابي': 9, 'اسافر': 53, 'انستا': 52, 'انستغرام': 52, 'اسطنبول': 22, 'يبين': 32, 'بلدك': 40, 'البحث': 104, 'تكتب': 72, 'عجيب': 109, 'مباشره': 99, 'محرك': 99, 'قوقل': 52, 'الضغوط': 85, 'دعمها': 73, 'التعليق': 51, 'تؤكد': 47, 'تجل': 42, 'لجدعان': 0, 'عا': 42, 'براني': 31, 'نصابون': 0, 'الثا': 91, 'برومو': 99, 'مبادئ': 4, 'الوصول': 20, 'نشرت': 47, 'سياقها': 37, 'ملخص': 99, 'عكس': 129, 'اتفتح': 78, 'اخش': 53, 'منطقي': 109, 'اثبت': 122, 'مناقشات': 89, 'والغاز': 100, 'والكهربا': 78, 'السولار': 17, 'وغلاء': 106, 'بطلو': 79, 'يشيلو': 98, 'وافتكاسات': 0, 'هيوافق': 78, 'كتائب': 100, 'التحالف': 46, 'الداعي': 41, 'والوفد': 39, 'حصار': 46, 'مستجيب': 0, 'الالاف': 13, 'الحالمين': 11, 'احلامنا': 83, 'هاش': 52, 'بكفي': 86, 'يورد': 27, 'احلم': 53, 'اضبطوا': 0, 'الاماني': 83, 'شركاء': 30, 'نركز': 21, 'لقائه': 20, 'والشعارات': 37, 'بدلا': 125, 'تطلعهم': 78, 'مشغل': 99, 'المسجد': 74, 'المكروفون': 0, 'رافض': 25, 'يموتونا': 78, 'بتحاول': 14, 'وبيقول': 7, 'وشايف': 7, 'برا': 65, 'الزمن': 54, 'وصف': 126, 'لضغط': 2, 'تحشد': 47, 'لدع': 0, 'الهلباوي': 49, 'بسيو': 0, 'لمجدي': 101, 'الساهر': 16, 'هقولك': 45, 'وعي': 126, 'التصنع': 15, 'نفوذهم': 57, 'كارلو': 64, 'اسبانيا': 22, 'الاجتماعي': 91, 'اعدل': 53, 'لظلم': 106, 'ورثوا': 11, 'المقلوب': 91, 'تدوم': 55, 'والمكان': 129, 'وينفع': 124, 'عارفك': 127, 'الوديدي': 16, 'القلوب': 83, 'دينا': 16, 'المختلفين': 11, 'بالدفاع': 104, 'ويقصون': 0, 'يرفضون': 113, 'لمستواك': 78, 'شال': 75, 'البشر': 83, 'ستغير': 47, 'ابتكارات': 4, 'حصريا': 99, 'صفحتنا': 26, 'يغير': 32, 'ويتهم': 43, 'وتعريته': 0, 'بضربه': 38, 'وتنفيذ': 113, 'جنرالات': 30, 'بتخطيط': 57, 'اغتيال': 10, 'قيل': 41, 'كتب': 58, 'تستقدم': 57, 'دولين': 0, 'ياما': 54, 'بالحلول': 37, 'قدرتهم': 94, 'كشفت': 47, 'فاق': 27, 'وهمهم': 11, 'وضرب': 106, 'وايذاء': 106, 'وتعذيب': 106, 'واعتقال': 10, 'وقيادات': 89, 'استئناف': 71, 'حاولتم': 57, 'لعب': 23, 'دستوره': 129, 'ليمر': 57, 'ستظل': 96, 'تخويف': 126, 'بالدين': 129, 'لمحو': 2, 'مستهدف': 80, 'حقنا': 21, 'هيجيب': 7, 'عيلته': 127, 'المناظره': 37, 'مناظرات': 37, 'متعملش': 14, 'مصير': 129, 'تراجعه': 20, 'رد': 108, 'الاخيره': 29, 'تقتل': 55, 'وتلاحق': 57, 'العاشق': 128, 'مطلقا': 28, 'ناسها': 78, 'جمهورها': 16, 'تصل': 55, 'هادي': 62, 'ويسعدني': 26, 'ابعث': 63, 'المواطنون': 120, 'مختار': 101, 'سيصوتون': 57, 'نوح': 41, 'بحلم': 45, 'عايش': 25, 'معاهم': 65, 'لحس': 78, 'والفلول': 30, 'وسيبك': 127, 'كوكب': 81, 'وطبعا': 78, 'وزي': 127, 'وتحصين': 57, 'تجاوزت': 96, 'لتجعل': 117, 'محاكمات': 89, 'شعر': 128, 'تكلمني': 108, 'تنساني': 54, 'مولاي': 31, 'لباني': 0, 'واحدا': 28, 'وتذكرني': 0, 'وتسترني': 117, 'قلت': 108, 'صلي': 24, 'النبي': 24, 'ستذكرون': 0, 'الدون': 64, 'التاجر': 6, 'بالتعذيب': 38, 'قتيل': 100, 'بيراهن': 78, 'افضحوهم': 0, 'بسام': 62, 'الحمرا': 18, 'هيحصل': 7, 'عداوه': 126, 'وانه': 44, 'اسيب': 45, 'توال': 0, 'فالنسيا': 64, 'الريال': 64, 'لموسم': 76, 'سيعرض': 32, 'كالتالي': 29, 'والمحور': 57, 'والمواعيد': 84, 'فرحان': 25, 'زملكاوي': 127, 'موازي': 127, 'مترجم': 99, 'العريفي': 34, 'لصم': 0, 'الج': 42, 'تذكروا': 79, 'توفيقا': 63, 'زدته': 96, 'تزيدنا': 66, 'بالرضا': 84, 'صبحكم': 58, 'والقبول': 117, 'رزقا': 63, 'صندوق': 77, 'يبطل': 119, 'فئات': 89, 'اختيار': 71, 'المرشحين': 120, 'مرشحين': 120, 'لاختيار': 2, 'الصوت': 51, 'لنظام': 2, 'صارخ': 106, 'يخجل': 69, 'مثال': 129, 'جامع': 74, 'سلامي': 60, 'نهايتها': 29, 'بتبتدي': 14, 'معقول': 65, 'بالفلوس': 65, 'مهرجان': 76, 'كانش': 7, 'لعلم': 129, 'الغرباء': 81, 'فاقت': 47, 'الاعتقال': 46, 'والخيال': 129, 'الاختلاف': 15, 'سفراء': 120, 'بوجهات': 0, 'والبحرين': 22, 'الدرس': 51, 'السلطان': 34, 'خطيب': 74, 'عز': 31, 'الادي': 0, 'ازدراء': 126, 'حبس': 10, 'البير': 81, 'صابر': 25, 'شويتين': 65, 'خفضوا': 0, 'بلدي': 22, 'خرب': 119, 'والهتاف': 57, 'يابلدي': 78, 'عم': 127, 'الصباح': 128, 'يجيبك': 75, 'ضاعت': 8, 'خساره': 23, 'بنتظارك': 0, 'نوم': 128, 'يحرم': 69, 'سنيني': 54, 'يجيني': 9, 'مباريات': 1, 'ونتائج': 2, 'وتجهيز': 113, 'وائل': 49, 'اشباه': 11, 'طابور': 95, 'وسلامتكم': 86, 'النقطتين': 37, 'المرتين': 78, 'تست': 42, 'التحضر': 15, 'ويرحل': 44, 'يحقن': 80, 'بانتخابات': 38, 'هينتخب': 78, 'يساقون': 111, 'عنوه': 57, 'لمساجد': 57, 'المرازي': 101, 'التيقن': 0, 'ربما': 28, 'تقصد': 72, 'الزميل': 34, 'رفعت': 96, 'باحب': 45, 'لازمهم': 0, 'يامعفن': 86, 'فاكرين': 98, 'البلوك': 52, 'بسلكن': 0, 'هاروح': 45, 'سيمون': 101, 'نقي': 27, 'بص': 127, 'تستحق': 125, 'النشر': 26, 'عيون': 128, 'سقطوا': 111, 'انصاره': 30, 'وشيك': 57, 'الاحرار': 30, 'اذكر': 122, 'السماح': 73, 'لشعب': 2, 'مقبول': 109, 'اشاهد': 53, 'تسالي': 108, 'شاهدنت': 0, 'احشد': 78, 'احتجاجيه': 93, 'بالوراق': 57, 'عامه': 97, 'رياض': 41, 'واقفه': 14, 'الدعوه': 37, 'الحقراء': 11, 'الدنيء': 6, 'عديمي': 11, 'الحيوانات': 114, 'المنطق': 15, 'المخرب': 6, 'الوجبات': 92, 'جاد': 25, 'وجبات': 89, 'الاخو': 6, 'نتعامل': 50, 'لف': 86, 'المتحكم': 124, 'بالتويتر': 52, 'المحبوس': 27, 'ويفرج': 117, 'نتوقعه': 61, 'واجب': 129, 'المعتقلين': 30, 'متعب': 62, 'بمقر': 76, 'تحرش': 126, 'لنساء': 106, 'نصائح': 4, 'المالكي': 48, 'يقدمها': 32, 'بنقاط': 38, 'العمليات': 46, 'استدعاء': 71, 'تصويت': 52, 'شحن': 18, 'يابني': 127, 'الشاحن': 95, 'بتاعي': 112, 'وهدفها': 129, 'سطح': 81, 'نيل': 57, 'الحضاري': 91, 'صعد': 80, 'بكتير': 112, 'يبركلك': 0, 'باطن': 81, 'الكف': 83, 'كون': 42, 'الطريه': 78, 'فاصلح': 117, 'يومي': 54, 'وجهي': 83, 'غازات': 114, 'مقالي': 76, 'بلدا': 28, 'لصوصي': 0, 'يحالف': 0, 'يديره': 80, 'عي': 42, 'الخريف': 81, 'تمتد': 55, 'جي': 59, 'الخصوصي': 91, 'الافراج': 10, 'نائب': 39, 'بيفتح': 119, 'ملاين': 67, 'المقابل': 126, 'حيوانات': 11, 'قصر': 77, 'لمقاومتهم': 0, 'متطوعين': 120, 'جهود': 89, 'ديل': 59, 'العادي': 91, 'الام': 16, 'المقترح': 91, 'بماء': 81, 'تعلو': 27, 'يدلدل': 0, 'القدم': 1, 'ودمت': 117, 'المرسي': 101, 'يمتطي': 80, 'لمرشد': 57, 'الفشل': 15, 'لصمت': 0, 'الكرسي': 74, 'هلال': 62, 'تفوه': 80, 'لغنم': 0, 'تبا': 60, 'الطرف': 51, 'اجازه': 97, 'البعث': 40, 'ضخم': 109, 'السبع': 78, 'بالقرب': 69, 'دوار': 77, 'بحرات': 5, 'انفجار': 100, 'مؤسف': 109, 'يشيد': 43, 'يحشد': 80, 'لاسقاط': 2, 'بالدور': 51, 'عاقل': 3, 'التعذيب': 46, 'يوافق': 94, 'تعذيب': 10, 'عاقلا': 103, 'الشتاء': 128, 'قصہ': 128, 'الطفولہ': 0, 'وجناحك': 0, 'طيري': 86, 'احضني': 54, 'الروقي': 34, 'سولفي': 108, 'برد': 128, 'الجنہ': 68, 'واجمعي': 0, 'انواع': 4, 'المطوعه': 0, 'اخطر': 70, 'انزعج': 53, 'سمحت': 108, 'كوت': 59, 'الكتروني': 99, 'وشكرا': 26, 'هتك': 106, 'يعتبر': 32, 'نتوقع': 66, 'قرعه': 1, 'جواز': 73, 'الصالونات': 37, 'والعروسه': 78, 'البطيخه': 127, 'حمرا': 18, 'العريس': 95, 'امي': 83, 'دنياك': 83, 'شبابك': 115, 'لهرمك': 0, 'يمر': 75, 'لاخرتك': 121, 'فاعمل': 121, 'رايح': 25, 'العبور': 20, 'شاذلي': 101, 'قلوبنا': 83, 'الخلد': 68, 'سطور': 4, 'وضاقت': 96, 'يفتحون': 111, 'قومنا': 11, 'فعاشوا': 0, 'فراغا': 28, 'معلق': 119, 'معاير': 129, 'الحاكم': 73, 'الستار': 101, 'برفع': 38, 'المعابر': 37, 'الحصار': 46, 'يفسرلنا': 0, 'الحديدي': 49, 'اديب': 49, 'الاكل': 114, 'لميس': 16, 'برنامجه': 51, 'فاحشه': 11, 'التسعينات': 22, 'الوفد': 48, 'يحفظها': 58, 'جيعان': 25, 'ورعب': 106, 'يلاحقكم': 0, 'تلفظ': 96, 'وارضنا': 35, 'بالجامعات': 97, 'ستهربون': 0, 'استفتاء': 73, 'الاتفاق': 110, 'اتجاهات': 4, 'لتشمل': 2, 'ستكتب': 96, 'طرحها': 20, 'كمحامي': 0, 'يقر': 43, 'تحقيقات': 89, 'المشرف': 91, 'لافاقدين': 35, 'الشوق': 54, 'ولامفقودين': 117, 'الاعمال': 92, 'والاعلام': 39, 'فتقف': 0, 'وتدعم': 2, 'تدمير': 71, 'احتفلت': 43, 'اهي': 14, 'بعزله': 0, 'وتعمر': 0, 'سريعا': 28, 'لفريق': 2, 'لجمع': 2, 'عايزين': 112, 'التوقيعات': 92, 'توقيع': 71, 'بشرخ': 0, 'بترشيح': 38, 'الشخر': 78, 'يقولون': 108, 'نقلت': 47, 'استير': 0, 'فرط': 27, 'الراوي': 34, 'الحلق': 114, 'المخابرات': 46, 'وعملك': 115, 'فورمات': 52, 'لمبادئك': 0, 'خفيف': 109, 'ظبطك': 0, 'يابو': 34, 'تصحو': 55, 'الساده': 120, 'ومشروعها': 57, 'بيتعب': 7, 'الاعصاب': 114, 'بانغي': 0, 'يختبئون': 11, 'يغادرون': 111, 'مسلم': 41, 'اوقفوا': 106, 'الفحم': 114, 'كلامي': 33, 'لتحريض': 57, 'محد': 65, 'وتجاوز': 104, 'المنشد': 34, 'لفنان': 101, 'كليب': 16, 'بوشهاب': 86, 'الاثنين': 76, 'وقولا': 0, 'اقترحت': 94, 'وتعديل': 113, 'تولي': 80, 'غلطت': 8, 'رنا': 16, 'سماحه': 101, 'عفا': 58, 'تؤثر': 55, 'تعد': 55, 'مسرحيات': 4, 'والسيارات': 77, 'عبوات': 100, 'تسيروا': 0, 'سالكيه': 0, 'مدفن': 0, 'وتفسح': 0, 'وترحب': 57, 'كافاني': 64, 'بالو': 127, 'يعطونا': 21, 'ياخذون': 87, 'تخيل': 65, 'اعتداءات': 10, 'العصير': 18, 'والجوايز': 0, 'يرحم': 58, 'المتجهين': 0, 'ويكيبديا': 0, 'الافتراضي': 91, 'والجماعات': 37, 'تمويلها': 57, 'مصادر': 89, 'فرغلي': 49, 'تمام': 45, 'الرداد': 101, 'تحريض': 126, 'المتجنس': 0, 'قواتها': 46, 'بجيش': 38, 'ويشبه': 44, 'يستمر': 32, 'احمري': 0, 'غاندي': 6, 'لتخلص': 69, 'اسيوط': 93, 'بحي': 77, 'زملائهم': 30, 'باعتقال': 38, 'تنديدا': 43, 'قياس': 97, 'ضيفنا': 26, 'وحوار': 110, 'الاختبار': 51, 'مجد': 31, 'الاختبارات': 97, 'التحصيلي': 97, 'استعاذ': 70, 'شر': 63, 'ونعوذ': 35, 'تسامح': 72, 'اهم': 70, 'الانتخاب': 73, 'مواضيع': 4, 'المستعار': 33, 'حسابي': 52, 'مارك': 59, 'والمواد': 37, 'الفوق': 78, 'بيحبه': 7, 'ومين': 7, 'شمشون': 6, 'ولبلب': 0, 'سارتر': 0, 'مصدر': 39, 'اشتعال': 100, 'خزان': 77, 'الانفجار': 46, 'مجهولون': 100, 'النيران': 68, 'سيارتين': 100, 'يشعلون': 100, 'سيار': 34, 'ومستقبل': 129, 'العلاقات': 85, 'المساعدات': 92, 'تدين': 47, 'تدان': 33, 'اطمن': 45, 'الاجتماع': 51, 'لمتطوعي': 0, 'لتويتر': 52, 'اعتذر': 108, 'رسائله': 37, 'الحساب': 51, 'مزمنا': 0, 'قفل': 119, 'وقدر': 84, 'تقديره': 129, 'القدير': 56, 'واشكره': 117, 'جزيلا': 26, 'فمش': 112, 'هينفع': 45, 'بيتقال': 7, 'المثل': 6, 'بتخالف': 0, 'قدمته': 58, 'رؤساء': 120, 'الهيئات': 92, 'بتشكيل': 38, 'الماتش': 112, 'بيكتب': 7, 'الاخبار': 92, 'لبرامج': 2, 'لمدارس': 2, 'بصور': 38, 'لترويج': 2, 'بميدان': 93, 'يخرج': 32, 'لحملته': 57, 'التنصيب': 20, 'تحضر': 72, 'ينال': 32, 'ويحاكمه': 0, 'سيحرمه': 0, 'قفز': 80, 'احجز': 53, 'مستمتع': 124, 'الحكماء': 41, 'قابل': 109, 'ذهبت': 96, 'وعدت': 96, 'استعملوا': 0, 'ضدي': 25, 'المعلقين': 120, 'فوجدت': 122, 'اختلف': 53, 'الجهاز': 51, 'جريت': 8, 'الامين': 39, 'يغزوا': 0, 'ورا': 65, 'الصفحات': 92, 'مضحك': 109, 'عقل': 126, 'نشهد': 66, 'البطيء': 106, 'التعلم': 15, 'لتفكيك': 2, 'وجوهنا': 68, 'وتحكم': 129, 'ماتستحملش': 0, 'مايقعدش': 0, 'اشترطت': 57, 'حرقو': 98, 'اغسطس': 76, 'حرقوها': 0, 'اعتصموا': 111, 'سبقتهم': 0, 'المانيا': 22, 'بيوزعوا': 98, 'بتدعوا': 78, 'والشوارع': 77, 'بيكلم': 7, 'مصاحف': 89, 'انزلوا': 79, 'ملتحين': 11, 'لاسلام': 57, 'امريكا': 22, 'المترو': 93, 'فرنسا': 22, 'ماحدش': 112, 'احب': 53, 'الثانيه': 67, 'يونيه': 93, 'جنايات': 93, 'مرشد': 39, 'تحكم': 72, 'السياسات': 85, 'لمعارضته': 0, 'شعبيته': 37, 'درويش': 101, 'داخلي': 83, 'الضعف': 15, 'ارتفعت': 96, 'مشاهدته': 20, 'لمستخدمي': 2, 'عنوان': 91, 'يوتيوب': 99, 'شريك': 123, 'والتوافق': 129, 'يهاجم': 80, 'يفلت': 69, 'العقاب': 15, 'ويصفها': 57, 'ايضا': 28, 'لسورين': 0, 'ومد': 117, 'المتواجدين': 120, 'القانوني': 91, 'بتقديم': 38, 'والدعم': 26, 'المالي': 91, 'الدعم': 17, 'السور': 95, 'ينص': 94, 'مضاد': 114, 'زكريا': 49, 'الكاريكاتير': 6, 'بالباقين': 0, 'يحكم': 80, 'ويطيح': 44, 'نعود': 66, 'منفردا': 28, 'يتخيل': 61, 'سيستطيع': 69, 'الحرمان': 54, 'القليل': 84, 'اعطاء': 71, 'تستح': 96, 'وادي': 77, 'مواطني': 30, 'الجوهري': 101, 'تيتان': 0, 'لكنا': 66, 'فاتق': 58, 'الحليم': 123, 'المؤسف': 125, 'بالصور': 99, 'باليوم': 67, 'نشوف': 21, 'ستي': 59, 'يتعمل': 7, 'تفجير': 10, 'تضليل': 126, 'يسمي': 32, 'بيقولوا': 98, 'يطهره': 0, 'خليكوا': 98, 'المارش': 0, 'سرعوا': 0, 'هنحتفل': 78, 'فيس': 52, 'رام': 42, 'بيتونيا': 0, 'لحم': 18, 'جباليا': 5, 'جنين': 5, 'اريحا': 5, 'طوباس': 57, 'طولكرم': 5, 'سلفيت': 5, 'نابلس': 5, 'بيرزيت': 57, 'خصومي': 0, 'السياسيون': 11, 'انصاري': 101, 'بدعم': 38, 'علاقات': 4, 'وتركيا': 22, 'مارمينا': 78, 'قبلي': 86, 'الشوك': 81, 'نشكره': 66, 'وردا': 81, 'الورود': 81, 'نشكو': 66, 'ذكر': 121, 'المسئول': 104, 'البرامج': 92, 'جنائي': 57, 'لتقصي': 57, 'النفاق': 15, 'وتلحس': 86, 'زعلان': 25, 'جزمها': 0, 'اختيارك': 115, 'تنافق': 72, 'ميول': 126, 'التقيكم': 0, 'حوض': 77, 'لتحدث': 57, 'المحور': 51, 'واستمرار': 113, 'لفكر': 129, 'لغو': 57, 'تكوين': 71, 'الاحزاب': 85, 'بمجرد': 125, 'سيقضي': 94, 'سيف': 62, 'وئام': 101, 'عنوانها': 29, 'مناورات': 89, 'وسلاح': 106, 'تكسب': 72, 'الحبيب': 31, 'زر': 52, 'برهم': 68, 'سادسا': 57, 'تقبل': 58, 'بوقف': 38, 'تلزم': 72, 'المن': 42, 'تطلب': 69, 'التوكل': 94, 'قلقت': 78, 'رحمته': 68, 'واثقا': 103, 'متوكلا': 94, 'الفرج': 63, 'يئست': 96, 'لمستقبل': 2, 'البلاستيك': 114, 'مز': 18, 'ناجحا': 103, 'دراسيا': 97, 'بالعمل': 38, 'مليئا': 124, 'تابع': 26, 'تقريبا': 67, 'سنجل': 127, 'سنه': 67, 'حبيبا': 103, 'ومصر': 22, 'عشقت': 96, 'يالي': 86, 'قرت': 8, 'ملاك': 16, 'الملاك': 16, 'كلوا': 127, 'صدك': 54, 'يصفق': 119, 'وفتحوا': 57, 'القنوات': 92, 'ويجدون': 0, 'ويهتف': 57, 'بقرار': 38, 'قولتها': 45, 'قدمت': 96, 'ودفعت': 57, 'تضع': 55, 'جيب': 18, 'ترجو': 103, 'يعتقد': 122, 'والتقدم': 129, 'الولب': 0, 'لاستمرار': 2, 'ندعو': 66, 'الاعلامي': 91, 'المكتب': 51, 'انصاف': 126, 'وصاحب': 44, 'وانتم': 79, 'جائر': 6, 'ويزيد': 44, 'خشمك': 86, 'بالذات': 65, 'اعترافات': 4, 'عبقريه': 29, 'فمك': 115, 'مايقولون': 11, 'غباء': 126, 'ليش': 65, 'لكتل': 0, 'بالاخوان': 38, 'يدمر': 32, 'يذبحون': 111, 'وتحولوا': 0, 'الالتراس': 93, 'تجد': 55, 'بلادنا': 40, 'يستغيث': 43, 'احفظ': 35, 'انتهيت': 8, 'ضغط': 23, 'بيستخدموهم': 0, 'ماكتبت': 108, 'يشتموه': 78, 'وطلع': 119, 'بكار': 49, 'بغدر': 0, 'ويقولوا': 98, 'ينتقدهم': 11, 'طامع': 31, 'استخدامها': 20, 'لاستخدام': 2, 'الفعل': 15, 'نيجي': 21, 'المعاكس': 91, 'لطرف': 129, 'بوجوبها': 0, 'حتلاقي': 14, 'وغسان': 101, 'يشكلون': 111, 'الشبل': 6, 'حسنين': 49, 'ولونا': 0, 'المشاهد': 85, 'يتزعم': 57, 'جبين': 81, 'هجاء': 0, 'ريف': 100, 'فيديوهات': 99, 'ومصريا': 0, 'عظيما': 103, 'رحمه': 58, 'مخلصا': 103, 'الثالث': 91, 'بابا': 127, 'الانسب': 91, 'المختلط': 106, 'البرلماني': 91, 'الرئاسي': 91, 'والنظام': 129, 'مجازر': 46, 'رمسيس': 93, 'الدموي': 91, 'الدقي': 93, 'ورفض': 113, 'شروط': 89, 'القديم': 91, 'ثار': 27, 'تخدعون': 0, 'انم': 42, 'ايها': 31, 'خنتم': 0, 'ضدكم': 11, 'هتناموا': 78, 'بقه': 112, 'قراءته': 20, 'قراءات': 4, 'اتسع': 27, 'ليتقبل': 0, 'تكلم': 108, 'الاسلامي': 91, 'المسلمون': 40, 'وحرياته': 0, 'لدفاعهم': 0, 'وتمسكهم': 57, 'كورو': 0, 'ينفي': 113, 'المكلف': 39, 'حارس': 23, 'تفطس': 78, 'مرماه': 64, 'تنزانيا': 22, 'الضحك': 114, 'لتسليم': 2, 'مسيرتها': 37, 'وجدول': 57, 'تستكمل': 47, 'الانفلات': 15, 'السكندري': 101, 'ادعو': 63, 'بائعيه': 0, 'الفكري': 91, 'التفريط': 20, 'دانيال': 101, 'بالحول': 0, 'وخل': 86, 'هتنزل': 14, 'ثقوا': 124, 'تجدوا': 79, 'يسركم': 79, 'خانو': 111, 'سكاكا': 5, 'واتساب': 52, 'راقت': 60, 'البازل': 0, 'اتفرج': 53, 'ادمن': 127, 'بهدوء': 84, 'زعيق': 78, 'هتحبك': 14, 'تقنعها': 72, 'وخلاص': 65, 'مشين': 109, 'عفيفي': 49, 'ولايته': 73, 'ومرفوض': 57, 'امر': 126, 'اسلام': 101, 'استمرت': 96, 'القبض': 10, 'بملايات': 0, 'بيب': 64, 'قيادات': 89, 'تعرف': 72, 'القابض': 94, 'الجمر': 81, 'كالقابض': 94, 'سيقبل': 80, 'دعمنا': 26, 'الحالات': 85, 'علاجها': 114, 'مصابين': 30, 'وخارجها': 5, 'باريس': 22, 'قمنا': 66, 'شروطي': 65, 'اردني': 3, 'فحل': 18, 'اﻷردن': 0, 'كس': 127, 'الاردن': 22, 'طيز': 16, 'نيك': 16, 'ينيكني': 0, 'طيزي': 95, 'كسي': 42, 'طبربور': 0, 'بدي': 9, 'استر': 35, 'مدك': 0, 'جيشنا': 40, 'وانصر': 35, 'نصرت': 31, 'ونصرت': 0, 'نعمتك': 68, 'تحولوا': 111, 'والتعليمات': 57, 'مذيعي': 57, 'والاراء': 129, 'اغلب': 29, 'موديل': 59, 'يخدم': 80, 'مهمته': 37, 'برامج': 99, 'مستوي': 23, 'تجهيز': 71, 'ﻻتضيع': 0, 'حجم': 27, 'التعب': 54, 'ويارب': 117, 'يعانوه': 0, 'منعني': 69, 'حاليا': 23, 'واعرف': 122, 'التيفو': 116, 'تعب': 128, 'مشاركتهم': 110, 'تواجدي': 20, 'والناس': 65, 'الرحيم': 56, 'نشطا': 0, 'خاين': 3, 'تسريبات': 89, 'يذيع': 57, 'حصلت': 8, 'يتحملها': 61, 'المدرجات': 116, 'الفيديو': 51, 'يساند': 80, 'الفقي': 49, 'تكميم': 126, 'مصطلحات': 4, 'الشريف': 49, 'حوائط': 81, 'حافظوا': 94, 'يكتبوا': 98, 'نفسيت': 0, 'القص': 42, 'يتسع': 61, 'وتراقب': 0, 'وتغلق': 2, 'تحمل': 55, 'الهاتف': 17, 'بقدمها': 0, 'طفلها': 107, 'طبق': 18, 'خطب': 74, 'فاله': 31, 'قبله': 81, 'والكلاسيكو': 0, 'ضيعناه': 78, 'ظنا': 103, 'قهر': 86, 'خيب': 58, 'عسكري': 3, 'استقراره': 57, 'وتعيدنا': 0, 'ومجتمع': 129, 'ويصر': 94, 'وبناءه': 0, 'ديمقراطيا': 57, 'شرعيته': 73, 'يعاني': 69, 'تهد': 12, 'تماسك': 129, 'يشغلك': 61, 'بيتك': 95, 'نبتسم': 66, 'الحرام': 74, 'التهديد': 46, 'عقد': 71, 'تمرير': 71, 'زور': 57, 'كارثي': 109, 'بنمضي': 0, 'بحرب': 38, 'شغل': 65, 'طاقم': 39, 'يعتدون': 10, 'الشوبينج': 0, 'بشارع': 77, 'تمشايه': 0, 'السويدان': 101, 'اقتباس': 99, 'سلمان': 62, 'الفقه': 97, 'المقارن': 129, 'الهلالي': 116, 'تفاؤلا': 28, 'تخلو': 55, 'المكبوت': 27, 'متفائل': 124, 'المسار': 51, 'عقولهم': 11, 'ترشيح': 73, 'ادعي': 108, 'الغوا': 111, 'الاصلي': 91, 'ويجعلهم': 117, 'مقام': 31, 'عقار': 77, 'سرطان': 114, 'الشل': 0, 'لمرض': 2, 'يقي': 69, 'الرعاش': 0, 'الثدي': 114, 'الهند': 22, 'العجائب': 37, 'دورا': 28, 'كبيرا': 28, 'يلعب': 119, 'دعا': 41, 'يستجب': 58, 'بشروط': 89, 'الادمن': 52, 'رابط': 99, 'يحترم': 32, 'الجمهوري': 100, 'لبلده': 107, 'منزله': 77, 'يرسم': 32, 'همه': 107, 'كفاكم': 106, 'السياسين': 120, 'التقاليد': 15, 'بوتين': 48, 'اتعرض': 60, 'حزن': 128, 'ماحوله': 0, 'ظلمه': 68, 'سواد': 128, 'كنه': 86, 'عبدالسلام': 62, 'اعتم': 31, 'اغنيه': 16, 'الجفا': 54, 'فهد': 62, 'كلمات': 4, 'عندليب': 101, 'السمو': 39, 'المعلم': 6, 'شخصيات': 4, 'انشر': 26, 'اجر': 121, 'كويتي': 3, 'الاشتراكين': 0, 'الثورين': 0, 'كنتم': 36, 'وانتوا': 79, 'نستغلها': 66, 'ملتحيا': 0, 'جسر': 77, 'السويس': 93, 'المسلحين': 46, 'ليلا': 28, 'الصالح': 121, 'لنشر': 2, 'نزل': 119, 'رجالتكم': 0, 'بفضل': 58, 'متفبرك': 78, 'اخواني': 120, 'ويقولك': 65, 'دعما': 60, 'نفاس': 18, 'زبونتي': 0, 'الموسطاشات': 0, 'هاد': 7, 'واش': 42, 'الفايسبوك': 52, 'القدو': 0, 'عنيبات': 0, 'الشي': 51, 'كوكتيل': 18, 'يمارس': 32, 'بو': 34, 'نشاطات': 89, 'وعادات': 106, 'النعم': 63, 'البسيط': 91, 'يتمناها': 80, 'الاعاده': 37, 'خلوها': 79, 'الاحد': 76, 'ول': 42, 'فضوا': 78, 'هوا': 7, 'غلبان': 127, 'سيده': 16, 'اتحدث': 104, 'مستحيل': 65, 'صورها': 52, 'تحط': 12, 'تدارك': 57, 'مستعد': 25, 'لصدمات': 57, 'تضحيات': 126, 'تقرب': 72, 'المعروف': 15, 'تعمل': 72, 'وكن': 117, 'هباء': 84, 'ردود': 4, 'فظائع': 57, 'عبدالرحمن': 62, 'المشايخ': 120, 'ياسر': 62, 'الثقافي': 91, 'الصالون': 95, 'ارتاح': 53, 'الدن': 42, 'المغتربين': 120, 'لانتخابات': 2, 'تقاعس': 126, 'السلمي': 73, 'حسم': 71, 'لتبدع': 0, 'الرجعي': 36, 'الوهابي': 6, 'فانطلقت': 0, 'مجال': 4, 'المتحضر': 129, 'الامام': 41, 'المتطرف': 6, 'تخليه': 65, 'السايح': 0, 'امكانياتها': 37, 'يروح': 119, 'لبلاد': 31, 'بيها': 112, 'يسيب': 7, 'بيحس': 7, 'زينا': 98, 'تحترم': 72, 'التخلص': 20, 'التيار': 46, 'رفيق': 31, 'وتعتذر': 0, 'ضدهم': 11, 'لفقت': 0, 'تسال': 72, 'بالتلفيق': 0, 'تعترف': 72, 'التهم': 85, 'المعطيات': 85, 'يتغير': 61, 'اقتنعت': 122, 'الاحداث': 85, 'تغيره': 72, 'منحاز': 60, 'محضر': 73, 'الناخب': 6, 'تراودني': 53, 'تساؤلات': 4, 'تفرح': 72, 'اشتغل': 53, 'يامبارك': 78, 'ماكانش': 7, 'براحته': 107, 'يخرب': 119, 'تصنع': 55, 'والعطف': 84, 'والاهتمام': 84, 'والايثار': 84, 'مارلين': 16, 'مونرو': 16, 'والحنان': 84, 'لقاءه': 36, 'المستثمرين': 120, 'بوفد': 39, 'خدم': 80, 'العربيه': 22, 'السفاره': 46, 'وبتاع': 112, 'لانه': 44, 'يمثل': 32, 'معترضا': 0, 'تنتمي': 60, 'طفلي': 0, 'متخونش': 0, 'وكفاه': 117, 'خاب': 75, 'وخسر': 80, 'بارز': 39, 'دنيا': 83, 'معاونيه': 57, 'بالمعاصي': 121, 'وفضائح': 106, 'البطل': 6, 'صفحات': 4, 'تخليدا': 60, 'لبطولات': 57, 'ورمزا': 57, 'ذكراه': 128, 'الاستنزاف': 37, 'تنصتوا': 0, 'تلقيتها': 0, 'شاركو': 26, 'كورسيرا': 0, 'عالمي': 23, 'مناهج': 97, 'لتعريب': 57, 'المناهج': 92, 'نتعاون': 66, 'رضوان': 101, 'الجرائم': 85, 'سنحاكم': 0, 'يختبر': 32, 'نظم': 76, 'برجع': 9, 'انشاله': 78, 'بكمل': 53, 'بحضنك': 9, 'الجنه': 68, 'يضعون': 111, 'يهود': 30, 'تدعو': 47, 'متطرفون': 30, 'لافتات': 89, 'المزعوم': 91, 'يسبق': 32, 'والشاعر': 34, 'حداد': 101, 'وتاكيد': 113, 'النحاس': 49, 'زغلول': 49, 'اقتنعوا': 11, 'تقديس': 126, 'برضو': 112, 'بكرسي': 38, 'متحرك': 109, 'بقت': 14, 'اتشليتي': 0, 'صحبتك': 115, 'تقويم': 97, 'الحكومه': 46, 'واجهزتها': 57, 'والتدليس': 106, 'سوابق': 126, 'والصاق': 57, 'المصداقيه': 15, 'بشرط': 125, 'تثق': 124, 'شك': 126, 'واما': 129, 'يحفظك': 58, 'ستحصل': 94, 'نتيجتين': 20, 'ابر': 42, 'افتكاسات': 101, 'المراسل': 6, 'دليل': 94, 'ٱلذين': 11, 'ءامنوا': 36, 'خضراء': 81, 'اقصر': 70, 'رائ': 42, 'لفضول': 0, 'افكارك': 115, 'تستر': 72, 'المخده': 95, 'حمدله': 0, 'افكار': 4, 'سيد': 101, 'افتكرو': 78, 'مايقدروش': 78, 'شاهين': 49, 'ماشوفناش': 78, 'يقفوا': 111, 'مظهر': 129, 'تنته': 96, 'فكتب': 117, 'ظهوري': 0, 'رشاشاتها': 0, 'باتجاه': 100, 'شواطئ': 81, 'زوارق': 100, 'تقدر': 12, 'سيادتها': 37, 'تراه': 61, 'الصين': 22, 'تريدي': 0, 'اضطروا': 11, 'ودعوت': 117, 'لانتخابه': 0, 'انتخب': 80, 'يعمل': 32, 'السلفيون': 30, 'صفق': 75, 'شرفا': 28, 'تقارن': 72, 'قضاء': 73, 'مبيديش': 78, 'اسباب': 4, 'بحساب': 38, 'يرحمك': 58, 'يشوفك': 75, 'والي': 44, 'يحترمك': 72, 'ويحبك': 115, 'يسمع': 75, 'يعرفك': 75, 'يقابلك': 72, 'بالكلام': 33, 'المفروض': 65, 'الادب': 15, 'المنامه': 5, 'لشموخ': 0, 'الساد': 0, 'لضعف': 2, 'انفلات': 126, 'الموجود': 91, 'مسلوق': 18, 'ديكتاتور': 3, 'بدستور': 38, 'يعطل': 32, 'بطلان': 73, 'عجل': 35, 'اتفضل': 127, 'نكلمه': 21, 'تقنع': 72, 'اياهم': 11, 'اتشتم': 78, 'قعد': 119, 'لمراسل': 57, 'والمراسل': 0, 'حاورهم': 0, 'تقبلهم': 35, 'نسمح': 43, 'بالاحزاب': 37, 'اجراءات': 89, 'متهما': 30, 'محرز': 64, 'حجز': 71, 'تفتكروا': 112, 'المتطرفين': 30, 'بصلاحيات': 73, 'تسمحون': 79, 'عشرات': 13, 'المحال': 84, 'العباسي': 101, 'الفلاح': 94, 'نتغني': 66, 'لخرفان': 0, 'وكلام': 126, 'يسير': 32, 'قطار': 77, 'اتجاه': 129, 'الحال': 54, 'نقاط': 4, 'صارم': 109, 'منقول': 99, 'صحيحا': 103, 'الحفاظ': 94, 'بالارواح': 84, 'مكتسبات': 129, 'ملك': 60, 'المساس': 43, 'ودور': 44, 'وسيحاسب': 0, 'نكراء': 57, 'مرتكبيها': 0, 'جريمه': 126, 'العدويه': 30, 'ينفع': 61, 'فتحوا': 111, 'مركزي': 93, 'هيفضل': 7, 'لسانك': 115, 'ظلمت': 96, 'حقي': 9, 'اعفيك': 69, 'تحفظ': 72, 'متابعتي': 52, 'جنزور': 5, 'زعماء': 30, 'يتفقون': 111, 'السطر': 51, 'مودرن': 59, 'الفنان': 34, 'تلفزيوني': 99, 'المذيع': 6, 'ولقاء': 76, 'خزائن': 56, 'الملفات': 92, 'البائد': 129, 'وسندان': 106, 'استعمال': 71, 'طبيب': 3, 'لباب': 117, 'والحريات': 129, 'تقيم': 47, 'الصيرفي': 101, 'والقمر': 81, 'النجوم': 81, 'يمشون': 111, 'نمشي': 21, 'موزمبيق': 22, 'فايبر': 59, 'عدهم': 11, 'العد': 51, 'بطبعه': 7, 'متدين': 3, 'فل': 18, 'الحرب': 46, 'تنسق': 47, 'عاوز': 112, 'يراقب': 80, 'عاوزين': 112, 'مراقبين': 120, 'يتوعد': 43, 'بفرض': 38, 'المسيس': 57, 'الترع': 0, 'كتافنا': 0, 'البسطاء': 11, 'قبلت': 96, 'متقدم': 23, 'كايروكي': 127, 'تضيع': 55, 'بماسبيرو': 57, 'وعده': 80, 'ابنائ': 0, 'تورط': 10, 'ارتكبتها': 96, 'ينفذ': 32, 'لايمكن': 125, 'فلماذا': 28, 'شرعي': 73, 'ومنتخب': 1, 'يفيده': 75, 'نتخلص': 66, 'المسيرات': 46, 'قتلت': 96, 'موتاهم': 40, 'قبورهم': 68, 'يشيعون': 10, 'حبيبي': 54, 'كفايه': 112, 'ورضيت': 117, 'عباد': 36, 'وجعلوا': 36, 'خلقهم': 58, 'شهادتهم': 11, 'والرقابي': 0, 'الهادف': 91, 'التشريعي': 91, 'الحرائق': 46, 'نقيب': 39, 'وعضو': 39, 'يتكلم': 119, 'ودع': 117, 'اكتف': 42, 'ركعتين': 121, 'جد': 65, 'وحاول': 125, 'نزولك': 63, 'نيتك': 115, 'ورجل': 44, 'تصلي': 72, 'الكبد': 114, 'وجيرانا': 0, 'ضرباتنا': 0, 'لصفوف': 2, 'عرفوا': 111, 'توحيد': 71, 'هينضموا': 0, 'غلطهم': 11, 'بقولها': 108, 'جمالها': 83, 'بحبك': 45, 'وظيفه': 97, 'توجد': 55, 'يصلح': 61, 'روني': 64, 'المعتقل': 34, 'ميعاد': 128, 'جلسته': 37, 'الفطر': 74, 'حلول': 4, 'المبارك': 34, 'ينعكس': 94, 'واسم': 31, 'علمك': 115, 'دنس': 117, 'الشحات': 49, 'ارفع': 53, 'هواء': 81, 'ويورينا': 0, 'ينتقم': 58, 'ديونا': 57, 'المتطوع': 57, 'بتفعيل': 38, 'لتطرف': 0, 'يضم': 32, 'تحب': 72, 'فاصفح': 117, 'الصفح': 15, 'عتاب': 54, 'سامح': 101, 'تحاصر': 47, 'فض': 42, 'وشرطه': 30, 'ونقل': 113, 'وصحه': 117, 'واسك': 0, 'بيقتل': 7, 'الطبول': 81, 'حاربوا': 111, 'الاسطول': 51, 'تدق': 12, 'حست': 8, 'هتقلب': 14, 'بتحب': 14, 'عيالها': 95, 'وماله': 44, 'ماهواش': 0, 'مستقبلها': 37, 'محلات': 77, 'مبكرا': 28, 'السوبرماركت': 95, 'الصيدليات': 92, 'الملابس': 92, 'بدري': 65, 'تختلف': 104, 'حيطبق': 0, 'تغلق': 55, 'الناتج': 114, 'الدمار': 40, 'منحه': 17, 'مابداخلك': 115, 'القدره': 94, 'الامكانات': 85, 'بالصبر': 84, 'بوسطن': 22, 'الخاشع': 0, 'المخالفات': 92, 'تزور': 47, 'خسر': 80, 'حتما': 28, 'انتخاب': 73, 'موجب': 18, 'شراميط': 98, 'زجاجات': 100, 'عاديون': 11, 'المولوتوف': 100, 'المنافق': 41, 'مستلزمات': 89, 'المطبخ': 95, 'بانها': 38, 'اتهموا': 111, 'مكنت': 45, 'وتخلص': 12, 'اعتذارا': 28, 'حرت': 86, 'اشراف': 39, 'الموتي': 11, 'مسافات': 128, 'السن': 114, 'غيرت': 8, 'تصميم': 99, 'ضحيتهما': 0, 'اعتصامي': 0, 'نجدها': 66, 'فاروق': 49, 'مرتبط': 124, 'تطوير': 71, 'مكسوف': 25, 'الخشوع': 121, 'التراحم': 57, 'ومواطنيه': 0, 'بدفع': 38, 'البابا': 48, 'الانقسام': 110, 'والانتخاب': 57, 'اطلاق': 10, 'بالثنتين': 0, 'شفتني': 9, 'تراني': 9, 'الضمان': 17, 'متجود': 0, 'طبعك': 54, 'وتعود': 117, 'سري': 128, 'تصد': 54, 'المده': 37, 'مانيب': 9, 'الصده': 54, 'عيل': 65, 'سيشارك': 80, 'يطلع': 119, 'سيكون': 32, 'اسقاط': 71, 'نصب': 126, 'اسقاطه': 20, 'انشاؤه': 0, 'شكسبير': 28, 'ياعم': 127, 'جبته': 108, 'حاميها': 58, 'حراميها': 101, 'ماسر': 78, 'متحوطيش': 0, 'الصغير': 6, 'لمكت': 0, 'بالذكر': 121, 'جهاد': 126, 'جدير': 124, 'المدير': 39, 'عوده': 71, 'الحداد': 101, 'وملح': 18, 'خذلان': 126, 'العين': 83, 'دموع': 128, 'وصلا': 28, 'هجرت': 96, 'الخلق': 41, 'منيتي': 128, 'العشق': 54, 'ارتجي': 122, 'الجبيل': 5, 'تسويق': 17, 'النجار': 49, 'رجوع': 60, 'ليرحل': 28, 'الراكع': 0, 'واركعوا': 0, 'بثاني': 86, 'بملعب': 76, 'ويصفه': 43, 'فيفا': 59, 'بلاتر': 48, 'الجوهره': 116, 'بالعالم': 23, 'وارامكو': 57, 'ماليز': 0, 'تلاحق': 47, 'معنديش': 112, 'التستر': 73, 'هشام': 49, 'وحشتونا': 79, 'نوادر': 31, 'وحشتنا': 78, 'ياه': 42, 'ملاحظات': 4, 'مطلعه': 47, 'المسخره': 37, 'واولادي': 117, 'يعاملني': 124, 'كمواطنين': 11, 'كالعاده': 78, 'العباسيه': 93, 'كاذبون': 11, 'نسي': 75, 'نسامح': 66, 'بالبياده': 78, 'دخلوا': 111, 'بشمال': 100, 'مسلح': 100, 'ومجند': 0, 'العريش': 93, 'ضابطين': 30, 'لهدف': 23, 'مطيعا': 28, 'المتلبس': 0, 'سيسير': 0, 'يؤيد': 80, 'محاولات': 89, 'لتجهيز': 2, 'طرابلس': 22, 'المتهمين': 30, 'اجلت': 96, 'القرش': 114, 'والحالات': 37, 'النيابات': 37, 'وبنغلاديش': 0, 'مهاجر': 3, 'اﻻمتحانات': 78, 'دعموا': 111, 'غاضبون': 30, 'اشربوا': 79, 'اغبياء': 11, 'وشباب': 30, 'يخلق': 61, 'فرحه': 128, 'حكيك': 54, 'العدم': 84, 'لشهداء': 2, 'الشيطان': 41, 'اعتذار': 73, 'لاظهار': 2, 'الاراجوز': 101, 'بسيسي': 0, 'شملت': 47, 'مساسا': 0, 'اتفقا': 94, 'ودا': 7, 'بصرف': 38, 'شغلها': 95, 'لسانها': 95, 'ملهاش': 112, 'المقبوض': 10, 'ناشيونال': 59, 'اغير': 53, 'يصنع': 32, 'ويطلقه': 0, 'جيوجرافيك': 59, 'صاروخ': 100, 'ومتقدرش': 78, 'دولارات': 67, 'البنوك': 92, 'وزمن': 129, 'تسحب': 12, 'سيعرف': 69, 'عاشوا': 111, 'وماتوا': 11, 'رجاله': 127, 'خدع': 4, 'ودماء': 106, 'المكان': 51, 'الجنود': 30, 'الرائعين': 11, 'الزعبي': 34, 'يتنسي': 78, 'فاكر': 7, 'فاضح': 126, 'تامر': 49, 'يتراجع': 32, 'مشهد': 99, 'يقيمها': 57, 'بالمقطم': 93, 'يضرب': 80, 'ينفعك': 61, 'لعرس': 0, 'زياد': 62, 'كابريس': 59, 'الاسم': 51, 'ارتياد': 0, 'مطعم': 77, 'سب': 126, 'يحب': 75, 'المبيعات': 17, 'والاحترام': 60, 'وانها': 37, 'وتكلم': 86, 'يقل': 61, 'لحظات': 4, 'شائنا': 0, 'اسرار': 4, 'النقد': 15, 'قرض': 17, 'بشل': 0, 'تعتني': 124, 'رباعي': 23, 'بكلامك': 33, 'احضن': 53, 'عاطل': 3, 'فالبعض': 28, 'تحميل': 99, 'متعمق': 0, 'فيلسوف': 3, 'بنعم': 38, 'بتوزع': 14, 'يصوتوا': 98, 'الدستو': 0, 'منشورات': 89, 'الحدود': 46, 'شخصا': 103, 'يفعله': 61, 'الطبيعي': 91, 'منافقا': 103, 'جمعه': 76, 'المكن': 78, 'وبشر': 117, 'لتفاوض': 0, 'عرف': 75, 'دراج': 101, 'الاكثر': 70, 'الردود': 85, 'راجعت': 8, 'المتزمتين': 0, 'بالبذاءات': 0, 'يخافون': 87, 'يفكروا': 87, 'النقاش': 110, 'استعدادا': 76, 'تهتز': 27, 'دينيا': 129, 'لتطاول': 57, 'البني': 114, 'يعنينا': 61, 'الغيورون': 0, 'السجن': 93, 'يمنح': 32, 'سمعتم': 41, 'الحربي': 34, 'مدني': 3, 'التلمساني': 101, 'نصحني': 80, 'انصح': 124, 'تسير': 55, 'الكل': 65, 'بالتفكير': 84, 'مايعبرون': 0, 'حرائق': 100, 'يتسب': 0, 'الكهربائي': 77, 'تابعونا': 26, 'وقفوه': 78, 'شرح': 99, 'بايرن': 64, 'يوحشك': 78, 'احساس': 128, 'اصعب': 70, 'ظلمنا': 66, 'لاجر': 117, 'وترحمنا': 35, 'تغفر': 63, 'لنكون': 66, 'الخاسرين': 68, 'اراه': 61, 'وحدي': 90, 'صائبا': 28, 'سيرفضون': 0, 'تحولت': 47, 'تصرف': 126, 'خصومتنا': 0, 'تعمينا': 0, 'مستغربه': 122, 'سوق': 77, 'ومشاعر': 84, 'الحقيقه': 33, 'النقص': 15, 'عالسوشيال': 78, 'بدخل': 45, 'بعقلك': 115, 'غلافه': 33, 'وتصفحه': 0, 'تنظر': 55, 'لعيوب': 57, 'وارسم': 117, 'حسان': 49, 'التبرعات': 92, 'جمعها': 0, 'المفهوم': 51, 'المتوصل': 0, 'فالكثير': 28, 'شعبيت': 0, 'العلن': 126, 'مواقفهم': 85, 'نفاق': 126, 'جلساتهم': 0, 'ومكالمات': 0, 'الجموع': 37, 'يعبرون': 87, 'مجتمعاتنا': 85, 'ينافقون': 11, 'انتدابه': 0, 'يطلب': 69, 'محتاج': 25, 'نكت': 52, 'فصاعدا': 57, 'يطلق': 32, 'سيتحمل': 57, 'تصالح': 72, 'بدت': 8, 'فرد': 3, 'مباحث': 93, '٬': 0, 'لانعقاد': 57, 'صحيح': 109, 'لحكم': 2, 'الصحيح': 91, 'التنفيذ': 17, 'الاغنيه': 16, 'يت': 42, 'محصن': 80, 'تحذر': 69, 'عواقب': 126, 'لزملائي': 57, 'غلق': 71, 'مصانع': 77, 'يمشي': 119, 'تراب': 81, 'وطنكم': 40, 'قدمين': 81, 'التراب': 68, 'يرحمه': 58, 'تحوجني': 19, 'المستند': 60, 'المعتمد': 91, 'تكلني': 19, 'مصرع': 10, 'عرس': 18, 'حضوره': 20, 'بطلق': 10, 'خرطوش': 100, 'توفيق': 101, 'يتجوزها': 78, 'خازوق': 127, 'هيفاء': 16, 'لشعار': 57, 'المؤمنون': 36, 'مكون': 69, 'نظامنا': 51, 'القضائي': 91, 'عاجز': 25, 'منظم': 109, 'تدعمه': 69, 'يضيع': 75, 'والجهات': 37, 'نويبع': 93, 'كفر': 80, 'الدوار': 95, 'ملوي': 0, 'دكرنس': 78, 'لاعبين': 23, 'ميل': 59, 'ارجع': 53, 'وين': 65, 'وبرشلونه': 64, 'تجيب': 12, 'صفقاتك': 0, 'ضبطنا': 86, 'غالياني': 64, 'استطاعت': 125, 'كوب': 18, 'ويندي': 0, 'يطع': 36, 'اخراس': 57, 'جوز': 18, 'ذكائي': 33, 'قلبه': 83, 'غيظا': 0, 'محاولا': 125, 'يقف': 32, 'موتا': 28, 'تقيت': 0, 'فرص': 4, 'المائي': 91, 'الملكي': 116, 'القاء': 71, 'مناسك': 74, 'وسيعاود': 0, 'سفره': 18, 'خطي': 31, 'الطاق': 0, 'منسوب': 129, 'داعش': 46, 'الموعد': 51, 'ارتفع': 27, 'اقتراب': 76, 'اجتهدوا': 121, 'والذكر': 121, 'والدعاء': 121, 'الشياطين': 11, 'ستفتح': 47, 'تصفد': 11, 'يتحاور': 80, 'رضوا': 111, 'هيرضوا': 78, 'والمصابين': 30, 'السين': 37, 'تصرفات': 4, 'مثلين': 0, 'يلتقي': 43, 'يعشقوا': 0, 'بيزود': 78, 'وتسخين': 0, 'المتاجرين': 11, 'واستطعم': 0, 'بحضورك': 84, 'مقتبس': 69, 'المواعين': 95, 'مراتي': 16, 'ونغسل': 0, 'اعيشه': 53, 'نضع': 66, 'انقسام': 110, 'تزايد': 27, 'بمجمع': 77, 'لاستثمار': 2, 'مساكن': 77, 'الطلب': 17, 'السبت': 76, 'الموافق': 76, 'وحفظ': 117, 'موعدكم': 76, 'التجويد': 97, 'خالتك': 16, 'المتعاطفون': 0, 'فانت': 90, 'تعتقد': 122, 'بامثل': 0, 'صعب': 109, 'جعلت': 96, 'فكر': 33, 'الشغل': 95, 'يحيا': 80, 'سارقي': 57, 'بالسجن': 10, 'تقضي': 55, 'وستظل': 117, 'تطاردنا': 0, 'ونجيب': 21, 'زالت': 55, 'نواجها': 0, 'هربنا': 21, 'ومعنوياته': 0, 'ويشكر': 44, 'رسالته': 37, 'شويقي': 101, 'ويبشرك': 117, 'وصحته': 107, 'معاها': 65, 'يارا': 16, 'ينسحب': 80, 'جامل': 25, 'يعجبني': 61, 'المجرمين': 40, 'موجود': 25, 'منارات': 57, 'العطاء': 15, 'جده': 5, 'ميونخ': 64, 'جوارديولا': 64, 'مسيره': 76, 'المعادي': 93, 'العاشر': 76, 'الفتح': 116, 'يخاف': 75, 'السائر': 0, 'الحمير': 11, 'تطبيقا': 28, 'اضرب': 53, 'المربوط': 6, 'والسيد': 101, 'افسد': 80, 'اظن': 122, 'افسدو': 57, 'اصلاحه': 20, 'منظمات': 89, 'الجماعه': 120, 'والاخوان': 30, 'الاسلاميه': 39, 'واصلاح': 2, 'طرف': 126, 'والحفاظ': 94, 'التزام': 110, 'وتدعيمه': 0, 'ميدانيه': 5, 'وردنا': 66, 'قرب': 27, 'تبناك': 0, 'فطيم': 86, 'تصير': 12, 'ولدها': 107, 'اطلب': 53, 'حلال': 18, 'فكرت': 8, 'الثلاثه': 11, 'مافيه': 65, 'السعودي': 91, 'بطولاتهم': 11, 'تنافسهم': 0, 'اتوقع': 122, 'افرقه': 0, 'تا': 59, 'جماهير': 116, 'الاهرامات': 93, 'وحيات': 127, 'وطرب': 0, 'اصيل': 3, 'وكنت': 90, 'اوفر': 59, 'صحبك': 127, 'تنتخب': 57, 'بتقدري': 78, 'وبدو': 44, 'توجيهي': 97, 'تقدمي': 78, 'جهد': 126, 'بلش': 86, 'يقولوا': 98, 'تحدي': 23, 'وقفوها': 78, 'دايما': 65, 'وكانو': 98, 'وشجعوني': 0, 'يعطوني': 53, 'وبشكر': 78, 'بشكر': 78, 'دافع': 104, 'تجاوز': 104, 'تطاولك': 0, 'تحليل': 71, 'ايران': 22, 'القدوس': 56, 'تقترب': 55, 'رئيسها': 73, 'معجب': 124, 'بروايات': 0, 'ستقترب': 0, 'الانقاذ': 46, 'تقترح': 47, 'كافح': 0, 'موته': 107, 'مظاهره': 93, 'تصريح': 73, 'ماتخيلت': 122, 'تعقب': 0, 'واجهوا': 111, 'انتبهوا': 79, 'دخل': 119, 'بتهتف': 14, 'مذيع': 3, 'بالطول': 86, 'يتسائل': 80, 'بالعرض': 95, 'صراع': 110, 'حنجيب': 78, 'كهربائي': 77, 'ذنبه': 107, 'فراغه': 20, 'وغفر': 117, 'صفحتهم': 52, 'لتدخل': 2, 'يتحدثون': 87, 'مدمرات': 0, 'وفرح': 117, 'المستكاوي': 101, 'سورين': 57, 'صغير': 25, 'صورتك': 83, 'والعالم': 44, 'التوكيلات': 37, 'نحتاج': 66, 'شق': 42, 'كنائس': 30, 'مزارع': 77, 'يتزوجوا': 11, 'والحمد': 123, 'مجاهد': 101, 'الشرقي': 91, 'بالتقويم': 0, 'غز': 31, 'بنظركم': 0, 'تضعوا': 79, 'نقاوم': 66, 'نتكلم': 50, 'سيقول': 80, 'التوقيت': 51, 'الحضيض': 37, 'اساسا': 65, 'يسترد': 32, 'جثم': 0, 'نستسلم': 66, 'الموجز': 39, 'لتهديدات': 57, 'مشغلين': 98, 'شويه': 112, 'امتحان': 97, 'هسقط': 45, 'يتحرش': 124, 'بالنساء': 38, 'اتويت': 45, 'فلورز': 52, 'بظلم': 38, 'يجيلك': 14, 'الاقل': 94, 'مايرضاش': 78, 'انتا': 127, 'دورنا': 21, 'ومادونها': 0, 'نجد': 66, 'متعده': 0, 'نؤدي': 66, 'براعه': 129, 'يشكر': 80, 'معرضا': 28, 'تفتح': 12, 'ديانا': 16, 'عناصر': 100, 'يخليك': 58, 'حاضره': 29, 'مفضله': 52, 'احتفال': 76, 'الكال': 0, 'المستشفيات': 92, 'الغير': 33, 'جاهين': 101, 'رباعيات': 101, 'لتحميل': 99, 'التراس': 93, 'ترتيب': 71, 'الفيلم': 51, 'المسيء': 61, 'تداعيات': 89, 'تحياتي': 60, 'يقاوم': 32, 'سامر': 62, 'العيساوي': 101, 'هتاف': 127, 'هنسيبها': 78, 'مرحا': 19, 'الصعاب': 85, 'فيعلو': 0, 'قدمتا': 0, 'لنطلق': 0, 'يدوسون': 111, 'اردنا': 66, 'فرامل': 18, 'التمسك': 15, 'الداخلي': 91, 'الاتهام': 73, 'القرن': 22, 'يحي': 62, 'محبيه': 116, 'قفص': 81, 'طريقا': 28, 'فيتبعه': 61, 'سلكه': 78, 'عرفه': 121, 'يسلك': 75, 'واستخدام': 113, 'الضغط': 17, 'بلعب': 45, 'ليكي': 45, 'داتا': 59, 'هاخد': 45, 'الزقازيق': 93, 'ومسيرات': 57, 'جيهان': 16, 'فجر': 76, 'مرهون': 124, 'مستقبلنا': 51, 'سنغير': 57, 'الظلمات': 68, 'نخرج': 66, 'قيم': 4, 'يطعني': 58, 'انعقاد': 110, 'نشاطي': 37, 'جمدت': 57, 'يذكرك': 124, 'المتابع': 26, 'جاريه': 121, 'صدقه': 121, 'بازارا': 0, 'سياحيا': 28, 'استياء': 10, 'الردي': 54, 'ندعمه': 66, 'ارض': 81, 'الياسمين': 81, 'هواك': 54, 'تبعد': 12, 'احسلك': 86, 'تغيرات': 4, 'باجراء': 38, 'لتكون': 2, 'لاني': 90, 'مواجه': 31, 'شريطه': 37, 'لاقصاء': 57, 'سعي': 60, 'تجمع': 47, 'ابوظبي': 22, 'تميم': 62, 'ماديرا': 0, 'المهم': 65, 'كريستيانو': 64, 'الهب': 42, 'السيداو': 0, 'التورنادو': 0, 'يكتبون': 87, 'انزين': 65, 'ﻟﻴﺶ': 82, 'ﺍﻟﺒﻨﺎﺕ': 82, 'ﺍﺩﻋﻮﻟﻲ': 0, 'ﻭﻣﻐﺮﻭﺭﻩ': 0, 'ﻭﻋﻨﻴﺪﻩ': 0, 'ﻭﻣﺎ': 82, 'تغطي': 12, 'بارتداء': 38, 'جسدها': 83, 'روحي': 83, 'طالق': 86, 'عليج': 86, 'اخاف': 9, 'انتي': 108, 'ولقطات': 57, 'لقاءات': 89, 'بسوهاج': 93, 'نضيفه': 14, 'تاخد': 14, 'انحازت': 0, 'تلاحقهم': 0, 'سج': 42, 'تحكمهم': 11, 'والعدل': 129, 'اصوات': 4, 'والشرفاء': 11, 'وتخفض': 57, 'صناعه': 71, 'السنادي': 112, 'ولادي': 127, 'عشت': 8, 'مالها': 65, 'واستيعاب': 129, 'وتخصيص': 57, 'لتعويض': 113, 'والتبرعات': 57, 'اتقتلوا': 98, 'دفعوا': 111, 'شهريا': 17, 'برساله': 38, 'الاختصار': 33, 'الرسائل': 92, 'الرجاء': 113, 'الاضافه': 52, 'سنتابع': 57, 'وسيتم': 113, 'منتصر': 101, 'عبدالمنعم': 49, 'الزيات': 49, 'لاحقا': 28, 'وبعون': 58, 'احترامنا': 60, 'كصوت': 27, 'متزن': 109, 'مزامير': 31, 'مزاجك': 115, 'يعدل': 119, 'مزاجي': 9, 'شغلات': 4, 'تعدل': 12, 'ظهر': 80, 'يلعن': 86, 'والتفكير': 84, 'لرد': 2, 'بردود': 38, 'بالتخطيط': 38, 'وسائل': 89, 'نشغل': 21, 'عيوب': 126, 'صغيرا': 103, 'شابا': 28, 'يغادر': 32, 'هاتف': 99, 'بملابس': 77, 'العدناني': 6, 'خادم': 39, 'ماكان': 54, 'تظهرن': 0, 'بالذهول': 57, 'وكمان': 112, 'شرطها': 0, 'صافيناز': 16, 'راقصه': 16, 'ستصاب': 57, 'استغلال': 71, 'جﻻل': 0, 'يعمنا': 0, 'ناخبيك': 0, 'وداع': 128, 'يشتغل': 119, 'خذاك': 54, 'غاليك': 54, 'بداخلك': 115, 'الغياب': 54, 'ويحيا': 31, 'يكذب': 80, 'الكلاب': 40, 'لتشويه': 2, 'يؤكدون': 113, 'تنبح': 11, 'دع': 42, 'مسئولو': 39, 'تسريب': 99, 'ويقيم': 44, 'لفوز': 1, 'بنزيما': 64, 'سنفعل': 66, 'الباطل': 40, 'نستطيع': 125, 'وطائرات': 100, 'استكشاف': 71, 'بسيناء': 100, 'استنفار': 10, 'لشخص': 115, 'رساله': 4, 'المدينه': 5, 'جوك': 86, 'استراتيجيته': 37, 'شيباني': 31, 'تعكس': 55, 'بيدافعوا': 98, 'هيعملو': 98, 'ارضهم': 40, 'ماتعودتش': 0, 'لبكره': 65, 'ذوق': 33, 'يخوي': 86, 'موند': 0, 'صمد': 80, 'الاستقرار': 110, 'الجمعه': 74, 'اقسي': 70, 'ابخل': 70, 'اسمائهم': 11, 'بيلا': 59, 'رمزا': 28, 'لنضال': 57, 'نعي': 66, 'ظهور': 71, 'كمال': 49, 'بالمغرب': 76, 'يودع': 80, 'الرازق': 56, 'باخلاقكم': 79, 'اسياد': 11, 'النصاري': 40, 'اخرجت': 96, 'وازاي': 112, 'محتاجلهم': 0, 'محتاجينك': 78, 'قدرت': 9, 'چني': 86, 'اسمعوا': 79, 'لكده': 112, 'وحقوقنا': 57, 'ودولته': 57, 'السب': 15, 'تعليمنا': 129, 'يفجر': 32, 'وشيخ': 3, 'مجانا': 99, 'تخطف': 55, 'لايفوتك': 99, 'يكبر': 75, 'تخبط': 126, 'وتنتهي': 29, 'البطن': 114, 'بالثناء': 129, 'بلعن': 86, 'ستايل': 99, 'اليهود': 40, 'الاعدامات': 46, 'لعلماء': 2, 'الشافعي': 41, 'لحقتي': 86, 'اهتمي': 124, 'نقص': 126, 'الذراع': 6, 'تقرحات': 0, 'والهزال': 0, 'الورم': 114, 'الجلد': 114, 'الوزن': 114, 'العظام': 114, 'بنف': 42, 'تورم': 27, 'العنوان': 51, 'يستنجد': 43, 'تعز': 5, 'ندوات': 89, 'اليوتيوب': 52, 'اعطاك': 115, 'الوهاب': 56, 'الهبات': 37, 'اشتباك': 110, 'النهائي': 1, 'ولازم': 65, 'والدليل': 122, 'يخلف': 58, 'وعاند': 31, 'يكمل': 32, 'استقال': 80, 'وصم': 0, 'ضي': 128, 'الناطق': 39, 'المعبر': 51, 'احبت': 96, 'الضني': 31, 'يهزم': 32, 'ويغادر': 57, 'حلمك': 115, 'يخسر': 32, 'شركات': 89, 'اوقفت': 47, 'لمسافر': 0, 'شركاتها': 37, 'الولاء': 15, 'وعنصريتها': 0, 'بالاعتراف': 129, 'لضباع': 0, 'ساعد': 80, 'حوادث': 89, 'عفت': 8, 'درب': 54, 'مولانا': 56, 'رجعت': 8, 'ديفيد': 64, 'سينا': 93, 'كامب': 48, 'اذهب': 96, 'اكسب': 53, 'ناسا': 48, 'افوز': 53, 'الدنياو': 0, 'اليس': 129, 'امتلكت': 96, 'دنياي': 83, 'لحسين': 101, 'وربي': 86, 'روحوا': 79, 'يستاهل': 25, 'وﻻد': 127, 'فلسطيني': 3, 'ﻻ': 84, 'يفكر': 124, 'تعتريني': 27, 'الحنين': 54, 'لتصوير': 2, 'غريب': 109, 'شكلك': 65, 'تظهر': 55, 'الشمس': 81, 'وضوح': 126, 'ليبروفاشي': 0, 'الهرمي': 101, 'الاخواني': 6, 'بالتجمع': 51, 'اطلع': 53, 'بره': 112, 'البناء': 17, 'بعمله': 38, 'حتبوظ': 0, 'متخيل': 122, 'مجهولي': 57, 'العصر': 74, 'توافد': 10, 'التجهيز': 17, 'لمؤتمر': 2, 'ترقب': 27, 'قراره': 73, 'تعقيب': 57, 'كاريكاتير': 99, 'يضعف': 61, 'لاسترداد': 2, 'وجاب': 44, 'مايثبت': 60, 'دوليه': 89, 'استرداد': 71, 'كامله': 29, 'سافر': 75, 'لجنه': 89, 'وشكل': 44, 'طابا': 93, 'وتحرير': 113, 'خرائر': 0, 'شرعيتك': 0, 'البناني': 101, 'القلمون': 5, 'يتمركز': 80, 'ميليشيا': 100, 'قذائف': 100, 'وخليت': 86, 'ايدي': 95, 'اخوي': 34, 'طيحت': 86, 'بدالي': 65, 'تنزف': 27, 'بالمهاد': 0, 'الخدامه': 95, 'رفضي': 73, 'مدعيا': 57, 'فخرج': 44, 'البعض': 15, 'شكري': 49, 'لغياب': 2, 'امتحانا': 0, 'اعادت': 47, 'لطالب': 97, 'ساقط': 3, 'المستقبل': 15, 'مستفز': 109, 'رحت': 9, 'الحرم': 74, 'الديوث': 6, 'الكاراتيه': 116, 'نكاح': 106, 'حبيت': 9, 'كابوريا': 78, 'هنكمل': 21, 'احرار': 30, 'البان': 114, 'السهل': 125, 'يبت': 108, 'لمنزله': 57, 'يدير': 80, 'حكمه': 4, 'ليبيت': 0, 'التونسي': 39, 'الكيلومتر': 0, 'نتفاوض': 66, 'تسق': 42, 'اعترفت': 122, 'فقراء': 11, 'زادت': 96, 'ضخ': 71, 'ميجاوات': 57, 'كهرباء': 77, 'عكاشه': 49, 'حقوا': 78, 'قبضت': 96, 'مشوار': 95, 'ئا': 42, 'توق': 42, 'حالتك': 33, 'فالقها': 0, 'ويقعد': 44, 'تقعد': 12, 'يزورك': 27, 'متفائلا': 103, 'كليا': 129, 'يبيش': 0, 'يجوز': 125, 'اعترض': 94, 'والتوقيت': 129, 'والمضمون': 129, 'الموت': 20, 'كوبري': 77, 'المسيد': 95, 'حواري': 23, 'هنعيش': 21, 'نفهم': 50, 'هنموت': 21, 'لبوكس': 0, 'المستشفي': 95, 'الزند': 49, 'زفاف': 10, 'تحي': 42, 'وتعلي': 0, 'تسجن': 72, 'الهام': 16, 'تنعقد': 57, 'ديوان': 39, 'موبايله': 95, 'جزاء': 36, 'الكونجرس': 48, 'تكشف': 47, 'نوايا': 126, 'والتعاون': 110, 'ترسل': 72, 'مفاوضين': 0, 'زعلانين': 98, 'يخشع': 19, 'تحذير': 99, 'تشبع': 72, 'ونسميها': 57, 'حريق': 100, 'دراسه': 97, 'ودبح': 0, 'الخطيب': 49, 'التفيذي': 0, 'حياهمن': 0, 'عجول': 31, 'وعاش': 31, 'وليبيا': 40, 'لجماعه': 2, 'انخلق': 75, 'الجي': 59, 'محبطين': 11, 'سترينج': 0, 'ونازلين': 98, 'الغفار': 56, 'اطلعوا': 79, 'بنز': 59, 'حفرالباطن': 5, 'البدائع': 5, 'الزلفي': 5, 'فاتك': 8, 'وشهادات': 57, 'الشهادات': 92, 'تانين': 78, 'شهود': 30, 'اسمك': 33, 'احط': 53, 'امنجي': 78, 'رئاسي': 73, 'عايزني': 45, 'هاشتاق': 52, 'الحوفي': 101, 'عوني': 25, 'شامل': 99, 'وزن': 18, 'يتمسح': 78, 'القاموس': 51, 'تشال': 0, 'لدخول': 2, 'النص': 51, 'وحملها': 44, 'العدوان': 46, 'جرم': 19, 'جرموا': 0, 'يلاقي': 119, 'وبيحصل': 78, 'وقدام': 86, 'يفرح': 75, 'وضمان': 113, 'المعتصمين': 30, 'القوات': 46, 'يديرون': 111, 'حريات': 126, 'تد': 42, 'الحاجه': 37, 'ترشحه': 73, 'مهندس': 3, 'القر': 0, 'اقباط': 30, 'لتوحد': 57, 'عوز': 78, 'لفقر': 0, 'مقصد': 126, 'الفصيل': 6, 'الهار': 0, 'مد': 27, 'الكنائس': 46, 'المظاهرات': 46, 'المسئولين': 120, 'كفرالشيخ': 93, 'بمكتب': 39, 'المستشارين': 120, 'ومحافظ': 39, 'البنك': 17, 'طالت': 96, 'عشناه': 66, 'يتلخص': 124, 'تستلزم': 129, 'بدمائه': 0, 'وعرضه': 106, 'يضحي': 124, 'نابع': 69, 'مواجهات': 100, 'تنظير': 126, 'حدوث': 20, 'بالافعال': 84, 'افيهات': 78, 'الجنسي': 106, 'يتشاركان': 0, 'الخياط': 95, 'القبطي': 93, 'ستظهر': 47, 'الذعر': 100, 'بالغاز': 100, 'معتقلات': 30, 'تصبحوا': 127, 'والملك': 34, 'والبيانات': 37, 'المخلص': 6, 'صدقي': 101, 'البذئ': 0, 'جنس': 126, 'ومخدرات': 106, 'الافطار': 74, 'قناع': 81, 'تحالفات': 89, 'والمفكر': 101, 'اقرءوا': 0, 'الصمود': 46, 'سلفيون': 11, 'طلعني': 86, 'احرق': 27, 'يضع': 32, 'نتخل': 0, 'دمهم': 98, 'تواطوء': 0, 'الوجه': 114, 'تشتمونا': 0, 'التحريضي': 0, 'بيتنافسوا': 0, 'خرجت': 96, 'بتقولوا': 98, 'تبقوا': 79, 'واهمين': 0, 'هتاخدها': 78, 'بالفرس': 57, 'بالمر': 0, 'معناه': 122, 'ومظهر': 129, 'نجم': 101, 'حمزه': 62, 'قريبا': 28, 'هياخد': 7, 'الذهبيه': 1, 'طنطاوي': 49, 'عذب': 128, 'اعترفوا': 79, 'واعتقل': 30, 'وعذب': 27, 'الجندي': 6, 'منح': 71, 'مصريا': 13, 'وعنان': 101, 'منتجات': 89, 'طن': 13, 'لاستهلاك': 57, 'بمصانع': 57, 'سنشعر': 0, 'هباب': 127, 'وهنموت': 0, 'بفرق': 23, 'معتصمي': 30, 'لحديث': 41, 'لرسولنا': 57, 'اتحادات': 89, 'والدفاع': 104, 'ماس': 59, 'الحريق': 100, 'الفقرات': 92, 'التوقف': 20, 'الفقر': 15, 'مخط': 42, 'التفاعل': 26, 'سنعرض': 57, 'تيح': 0, 'تعزيز': 71, 'الفيليبين': 57, 'مانيلا': 5, 'الوجود': 83, 'البدوي': 49, 'غرينيتش': 0, 'غرار': 94, 'المسلسلات': 92, 'هروبا': 69, 'فشلهم': 20, 'يليها': 57, 'التوحد': 15, 'احصائيات': 99, 'شيخنا': 34, 'مكروه': 63, 'ويمن': 117, 'يحفظ': 58, 'ودموعي': 128, 'وابتسامتي': 84, 'نكراها': 0, 'لحمه': 18, 'كيلو': 67, 'وحلم': 128, 'العراقي': 48, 'الجريح': 31, 'عيونك': 83, 'شيرين': 16, 'الناجح': 91, 'يظل': 32, 'يبحث': 104, 'مولوتوف': 100, 'لاقتحام': 2, 'وبحوزتهم': 57, 'طالبا': 28, 'ليكون': 44, 'بحمد': 58, 'محطه': 77, 'هائله': 29, 'اوراقه': 81, 'محكمه': 89, 'وفقا': 91, 'لاعلان': 2, 'اليمون': 0, 'ياخالد': 86, 'بالفضل': 84, 'نزولي': 20, 'ياجميل': 86, 'والشباب': 116, 'فصيل': 3, 'الطوائف': 40, 'تقتضي': 129, 'بصوتك': 128, 'استطلاع': 48, 'عرفوه': 78, 'هنحتاج': 78, 'مهتم': 124, 'نعرفه': 50, 'سابقا': 28, 'لاس': 59, 'انصر': 35, 'رعايا': 30, 'يقضي': 32, 'خرجوهم': 0, 'يمتحنوا': 0, 'هتخسروا': 78, 'التعاون': 110, 'محب': 60, 'تجوزنا': 0, 'ومتابع': 26, 'نصل': 66, 'تابعوه': 26, 'لكتير': 78, 'مستاهل': 78, 'الظلم': 15, 'النظم': 85, 'بقلب': 90, 'بالقرارات': 37, 'تلقيت': 47, 'مزه': 18, 'هﻻ': 86, 'رجعه': 128, 'قلق': 126, 'نعنبوزينها': 0, 'كتوه': 0, 'لدوام': 0, 'لغد': 58, 'لنقد': 2, 'ترضا': 72, 'رضيت': 8, 'الرضا': 84, 'وحموا': 0, 'نسيج': 129, 'تكاتف': 129, 'امني': 100, 'وحدت': 31, 'كشك': 101, 'والسودان': 22, 'الجبل': 81, 'سراي': 1, 'يقطعون': 111, 'لضبط': 2, 'سلاحا': 28, 'التهليل': 121, 'والتكبير': 121, 'يصوب': 80, 'ساويريس': 0, 'خايف': 25, 'بيخاف': 7, 'بتاعتي': 45, 'لتويتس': 0, 'يعدي': 119, 'بتوعه': 98, 'الفولورز': 52, 'بتوعي': 98, 'ادخل': 53, 'الحلقات': 92, 'خوفتي': 0, 'جوزي': 127, 'رعب': 59, 'مخيف': 109, 'نتفرج': 21, 'مامي': 16, 'شاح': 31, 'الواحده': 67, 'ظهرا': 76, 'السادس': 91, 'بالرئيس': 38, 'غيراني': 0, 'لقائي': 28, 'المضحك': 122, 'بينقلوا': 78, 'وتسلمها': 0, 'خداع': 126, 'عقلك': 115, 'يانيوتن': 0, 'ورنا': 86, 'تطيح': 12, 'مصدقينك': 78, 'فيلكس': 59, 'قبرك': 68, 'ياحبيبي': 86, 'بجبروتها': 0, 'قمعهم': 20, 'ويدفع': 44, 'نجحت': 8, 'سينتصر': 80, 'لاحترامه': 0, 'يحمد': 58, 'والمعارضين': 57, 'يؤدي': 32, 'اتقوا': 36, 'عقباه': 0, 'بوضع': 38, 'بمرض': 38, 'الفيصل': 34, 'جابو': 98, 'الكهربا': 95, 'المعطل': 57, 'لتعديل': 2, 'طوعا': 13, 'الهنا': 54, 'وافر': 117, 'المغردين': 120, 'وضحكاتك': 128, 'سوسن': 16, 'ريتا': 16, 'الريادي': 57, 'لدوره': 2, 'لمخدرات': 0, 'المتهم': 6, 'لجيزاوي': 0, 'البريء': 6, 'لابلاغ': 57, 'الكابتن': 34, 'وتم': 113, 'احتجاجهم': 57, 'مستند': 3, 'اجتمعوا': 111, 'تفويض': 73, 'لتسريب': 57, 'حر': 25, 'تصاميم': 99, 'مفرش': 18, 'لتواصل': 26, 'صيفي': 97, 'بخور': 18, 'فساتين': 16, 'عطور': 18, 'ملابس': 18, 'سموك': 31, 'عصابات': 100, 'خائن': 3, 'لمصنع': 77, 'لكذب': 0, 'والمستندات': 37, 'ذرائع': 0, 'المحرمات': 37, 'احدي': 47, 'القوي': 85, 'تطبيع': 110, 'اتفقت': 94, 'الحك': 42, 'المهدي': 6, 'البارز': 91, 'السوداني': 39, 'الفاضل': 34, 'استلمتها': 8, 'دبابات': 100, 'منازل': 100, 'خانيونس': 5, 'اسلحتها': 37, 'والنصف': 44, 'البرهان': 129, 'التشيع': 40, 'توثيق': 71, 'مسبوق': 109, 'بتشكيلها': 57, 'يتكر': 0, 'الامر': 15, 'ومر': 128, 'يشكل': 32, 'كبرت': 8, 'طرق': 4, 'فكرنا': 66, 'ناجحين': 11, 'نكون': 66, 'نشاط': 71, 'تحظر': 47, 'المناهض': 57, 'واصل': 86, 'حمزواي': 0, 'البشاير': 101, 'يصلي': 74, 'شل': 86, 'السبعين': 13, 'انتشار': 71, 'مخدرات': 18, 'تعاطي': 71, 'بالقتل': 38, 'تهديدات': 89, 'وليه': 65, 'هبات': 37, 'مبا': 57, 'فضله': 36, 'تحق': 42, 'تحبونهم': 79, 'ذنوب': 63, 'واذكروا': 36, 'ميشيل': 48, 'جورج': 101, 'وسفك': 106, 'باردوغان': 38, 'تصف': 47, 'نيورك': 0, 'مدخلت': 78, 'الشرك': 41, 'الكافرون': 36, 'خاتمتها': 117, 'ونام': 86, 'نومه': 95, 'منعا': 106, 'مبالغ': 109, 'اقدر': 9, 'لسب': 57, 'يشاع': 104, 'بياض': 128, 'لاي': 109, 'اقولكم': 79, 'بسيط': 109, 'عرضت': 47, 'شيك': 18, 'فارغ': 109, 'خيال': 128, 'ومكن': 117, 'رهيب': 109, 'اؤكدلك': 0, 'مجموعه': 89, 'صوتك': 54, 'ربك': 115, 'كلمنا': 78, 'وبلدك': 78, 'تخن': 72, 'هيودينا': 78, 'وسترت': 117, 'فقبلته': 117, 'وغفرته': 117, 'ودعاك': 117, 'وذل': 106, 'فرفعته': 117, 'صادقا': 103, 'تائبا': 63, 'لهيبتك': 117, 'حيخلص': 78, 'وعرب': 30, 'التنازل': 104, 'سيشاركون': 57, 'ماراثون': 76, 'راعبهم': 0, 'نيشان': 101, 'جمعيات': 89, 'بتعمل': 14, 'يستهزء': 124, 'الرصيد': 51, 'وقفه': 76, 'الاخلاق': 15, 'والمبادئ': 129, 'السباب': 15, 'لمسات': 4, 'والخبر': 57, 'المتداول': 91, 'ومفبرك': 0, 'كاذب': 3, 'لتعليمات': 57, 'فايز': 62, 'سعاد': 16, 'حماد': 62, 'ركان': 62, 'البقاء': 20, 'شراء': 71, 'بتمويل': 38, 'ايهما': 28, 'روائع': 70, 'رقبتك': 95, 'تنقذ': 55, 'المجرم': 6, 'قانونيا': 73, 'فدماء': 57, 'جيرارد': 64, 'سبلها': 0, 'صدورها': 37, 'يخبوا': 78, 'بفيض': 117, 'رابطتها': 0, 'بنورك': 117, 'وجميل': 109, 'ودها': 65, 'فوثق': 0, 'ﻣﻘﺪﺭﺵ': 0, 'ﺍﻧﺴﻰ': 0, 'المواد': 92, 'المفقود': 91, 'يصبر': 58, 'ضاق': 75, 'علماء': 120, 'حيخلوا': 0, 'امثال': 11, 'معتدلين': 11, 'والدور': 57, 'يعتبرهم': 11, 'طابخين': 78, 'عجبه': 7, 'الغدا': 95, 'انتاج': 71, 'فخور': 124, 'بشغلي': 0, 'اخراج': 71, 'ويوم': 65, 'الحسن': 41, 'البصري': 41, 'مواليد': 67, 'السبعينات': 22, 'برتويت': 26, 'بثقافتهم': 0, 'ابعتولنا': 78, 'نعرضها': 0, 'البريد': 17, 'مشاكلكم': 79, 'الالكتروني': 91, 'وحشتني': 45, 'البرد': 128, 'وحبات': 81, 'ونقول': 21, 'تنفعكم': 79, 'خلوا': 79, 'عبيد': 62, 'تطير': 12, 'موجودا': 28, 'بالرياض': 5, 'تستمتعوا': 0, 'زيت': 114, 'اليمين': 95, 'الشمال': 5, 'المطاحن': 57, 'تعادل': 1, 'يجيب': 119, 'والدقيقه': 67, 'اليفر': 0, 'الضايع': 65, 'Ä': 0, 'القمع': 46, 'الضباط': 120, 'وناسداك': 0, 'تطوران': 0, 'الهول': 93, 'يستضيفني': 0, 'اتعطل': 78, 'كمين': 100, 'برضه': 112, 'نظريا': 129, 'قبلها': 78, 'ايناس': 16, 'الطبيب': 6, 'تسهيل': 113, 'لخدمات': 2, 'البدر': 128, 'والعلمانيون': 11, 'لظلام': 0, 'مدربا': 28, 'لميلان': 64, 'سيدورف': 64, 'لزمالك': 78, 'ضياء': 101, 'تفاعلي': 99, 'نقاش': 110, 'شاركونا': 26, 'نوبي': 101, 'قصدكم': 78, 'الطابع': 51, 'صعيدي': 127, 'فرعوني': 3, 'مبري': 86, 'واشتركوا': 0, 'دافعوا': 104, 'والسائرين': 0, 'تفيدكم': 79, 'ركب': 119, 'التويتر': 52, 'مالوش': 7, 'اعلن': 43, 'مساندتي': 0, 'اردوغان': 48, 'مهاتير': 101, 'وعرض': 44, 'بطرح': 38, 'سلاحف': 59, 'لفيلم': 99, 'النينجا': 59, 'بوسترات': 99, 'بوستر': 99, 'وتداول': 57, 'اغلاقها': 20, 'سيدي': 31, 'حتفضل': 78, 'اسخر': 69, 'شئت': 103, 'الاختلافات': 85, 'سيادتك': 127, 'العياط': 93, 'بيقعد': 119, 'ومحمود': 49, 'تنهض': 55, 'يستعيد': 32, 'السعدني': 101, 'بوس': 18, 'وافتكروا': 78, 'هيسيب': 7, 'ويكون': 44, 'الحج': 74, 'وفضله': 121, 'يمص': 119, 'ودلوقت': 127, 'الفاروق': 6, 'السبام': 52, 'السلف': 41, 'وتعلموا': 79, 'البغدادي': 6, 'الزور': 5, 'دير': 100, 'المهاجرين': 30, 'جريح': 128, 'ستدرب': 0, 'توفير': 71, 'ومهمتي': 0, 'مهنيا': 28, 'الجامعات': 92, 'الوطنيه': 39, 'حسيت': 122, 'كشاب': 0, 'بشعور': 90, 'سر': 27, 'هتكون': 14, 'الصامتين': 11, 'المنسحبين': 57, 'انتظارا': 28, 'الرغم': 122, 'ويغفرله': 117, 'يازين': 86, 'اشتقنا': 60, 'بندعي': 21, 'عدلي': 49, 'الاثار': 92, 'ثلثي': 28, 'نوع': 69, 'لعالم': 2, 'ماتشبعون': 0, 'بايدكم': 0, 'الجوال': 95, 'هالحكي': 33, 'ماسكته': 86, 'ينقال': 108, 'يحرق': 27, 'مدرسينها': 0, 'مذابح': 30, 'تشبه': 55, 'بشاعتها': 0, 'يفعلها': 80, 'صابرا': 103, 'شاتيلا': 0, 'التفجير': 46, 'القديسين': 93, 'نطبل': 21, 'نقعدش': 0, 'ونهل': 0, 'عودتي': 20, 'مداح': 34, 'التصريحات': 85, 'يومنا': 51, 'قصد': 33, 'ارسال': 71, 'المشاريع': 92, 'مجاز': 0, 'والموظفين': 120, 'والمدراء': 57, 'وﻻ': 65, 'منا': 107, 'وعايش': 44, 'ولزوم': 0, 'زينتا': 0, 'فرسان': 76, 'النماص': 5, 'ملزم': 25, 'بتعلم': 45, 'لانك': 90, 'حرف': 33, 'مستقر': 129, 'المقشع': 100, 'فاهيتا': 16, 'نوري': 62, 'فريد': 101, 'ضاحي': 6, 'خلفان': 6, 'بياكلها': 78, 'بالساهل': 78, 'يتعاقد': 32, 'طبخ': 18, 'تفرق': 12, 'مبقتش': 112, 'اختطاف': 10, 'تهان': 72, 'كابو': 127, 'المطرب': 49, 'المحجب': 0, 'كاريكا': 101, 'تجيبوا': 79, 'بتويته': 78, 'فلور': 59, 'العداله': 46, 'انتو': 79, 'نشتغل': 21, 'بتنادوا': 0, 'تفعله': 61, 'يرضيكم': 79, 'الشقيق': 6, 'القطري': 91, 'الشرفاء': 40, 'انتقام': 126, 'اسكت': 108, 'وتدمير': 100, 'براحتك': 65, 'كحاكم': 57, 'ينفعوك': 11, 'هيحلها': 78, 'لابسين': 98, 'كونك': 90, 'لمصالحهم': 11, 'وباصين': 0, 'التيت': 127, 'لكبار': 2, 'يتحمل': 61, 'السياسه': 85, 'هيطلع': 7, 'غطوا': 79, 'بالاعتذار': 38, 'شهيدا': 28, 'كاب': 59, 'الاندفاع': 15, 'لتعزيز': 2, 'دفاعنا': 23, 'ميبقاش': 7, 'الهجومي': 91, 'الهدف': 51, 'مفتاحنا': 0, 'احرص': 94, 'يرونه': 87, 'مشرقا': 28, 'نرفض': 113, 'لقانون': 2, 'العقوبات': 85, 'الاعتصام': 46, 'بصيغته': 0, 'حرم': 58, 'تقيد': 72, 'وتوسيع': 129, 'سيحصل': 94, 'وتسم': 0, 'تناقش': 72, 'الثوريون': 57, 'الفريق': 116, 'الثلاثين': 67, 'تصوري': 78, 'تعطل': 47, 'الهشتاج': 127, 'تقوله': 108, 'اعملك': 45, 'بالشاعر': 34, 'خش': 127, 'ايوه': 127, 'الباك': 52, 'يشعل': 27, 'بتدعي': 14, 'ارجو': 125, 'لساني': 54, 'اتقال': 7, 'الشبكات': 92, 'بيقولوه': 98, 'المتحولون': 0, 'سيترك': 80, 'مارتن': 64, 'تذكر': 122, 'ينتهي': 61, 'صمت': 128, 'المتخاذلون': 0, 'لوثر': 101, 'مفهوم': 129, 'تعامل': 72, 'تحترمه': 72, 'التعايش': 110, 'تكر': 101, 'الذينا': 11, 'نقدك': 33, 'عذبو': 0, 'ويتم': 113, 'الشروع': 20, 'تعذيبه': 10, 'لتضامن': 0, 'رغبته': 107, 'انصروا': 79, 'صدرت': 47, 'مكتبات': 89, 'يقرا': 75, 'هيلاقي': 7, 'مكسل': 112, 'وختاما': 0, 'عملي': 97, 'بحبسه': 38, 'صوته': 128, 'ويؤكد': 113, 'كداب': 127, 'حديثي': 104, 'نعتز': 124, 'افرق': 53, 'باعتباره': 129, 'البيضاوي': 1, 'يفوز': 1, 'الفاسي': 1, 'والعشرين': 76, 'دولته': 107, 'شيكاغو': 22, 'تواصلت': 47, 'مراسل': 48, 'الجهات': 92, 'يرصد': 47, 'المختفي': 101, 'يعثر': 94, 'كمساعده': 0, 'حربي': 3, 'يكسب': 32, 'جدعان': 112, 'لايك': 52, 'ديسلايك': 0, 'الايك': 52, 'البايرن': 64, 'غلبنا': 21, 'بالحظ': 84, 'دفاع': 23, 'نجاحا': 28, 'لاسرائيل': 48, 'لموقفه': 57, 'تغير': 72, 'ويساعدونا': 0, 'الانصهار': 0, 'جو': 18, 'نار': 100, 'ياريت': 112, 'الجاهل': 6, 'اكتمل': 61, 'بلادي': 31, 'وحشاني': 45, 'اقوال': 4, 'لتاريخه': 57, 'لوطنه': 107, 'تقديرا': 60, 'ماجد': 62, 'وابداعه': 0, 'ولناديه': 0, 'بالاعدام': 10, 'الاعدام': 73, 'وعصابته': 40, 'لمخلوع': 0, 'احكامك': 37, 'يكملوا': 98, 'النواب': 120, 'راسك': 115, 'وحط': 86, 'احسنلك': 127, 'طنش': 86, 'مخدتك': 115, 'بالكتير': 112, 'تغاريد': 128, 'اسمعوني': 79, 'سعود': 62, 'السعدون': 34, 'البايو': 52, 'الفرات': 5, 'سهام': 31, 'هيكون': 7, 'عليكي': 127, 'يتمناه': 61, 'ترزق': 63, 'عفاريت': 127, 'الاسفلت': 81, 'مكاتب': 89, 'الاستقدام': 17, 'والامتناع': 57, 'الهروب': 20, 'يتعين': 94, 'المباني': 92, 'بانديتا': 0, 'موقعا': 28, 'يخترق': 32, 'ضربوا': 111, 'استمعوا': 60, 'اهتمام': 126, 'حضرت': 8, 'استماع': 101, 'الحائط': 81, 'المليان': 86, 'تبصش': 78, 'واملاها': 117, 'اخرها': 78, 'محنه': 0, 'لجديد': 0, 'بابشع': 106, 'ويدعو': 60, 'افب': 0, 'وندل': 0, 'بشيء': 38, 'لشيء': 28, 'وكاتب': 44, 'هولمز': 59, 'نحياها': 66, 'وشاعر': 3, 'والتحمس': 0, 'ارزق': 35, 'فانها': 121, 'لحب': 84, 'بحث': 71, 'بفريق': 23, 'ورغيف': 0, 'والكهرباء': 17, 'العيش': 20, 'الغاز': 17, 'عش': 42, 'يحس': 75, 'ينتمون': 87, 'باتهام': 106, 'اغرب': 70, 'تنتقد': 72, 'بانه': 38, 'اتشقلبت': 78, 'السرير': 95, 'احاه': 0, 'الحافظين': 102, 'يحزنا': 0, 'يستودع': 102, 'عنا': 63, 'يضرنا': 61, 'يعترف': 43, 'الجامعي': 91, 'تعرضت': 47, 'خاطئ': 109, 'وفهم': 129, 'مشروعنا': 51, 'موروثات': 0, 'الويكند': 95, 'لمجتمع': 129, 'توجيه': 71, 'لحزب': 39, 'المال': 15, 'تفق': 72, 'الرحيل': 20, 'لشرف': 60, 'تحسين': 12, 'الناشر': 101, 'موخيكا': 0, 'وترجمه': 99, 'وسهلا': 26, 'تراسل': 57, 'وتاخد': 14, 'خوسيه': 64, 'تصوره': 72, 'بخواب': 0, 'احترام': 126, 'صلوا': 24, 'الرابع': 91, 'يسد': 61, 'قلنا': 21, 'نشاطك': 115, 'اختار': 53, 'حطم': 27, 'اصنام': 11, 'المحلوه': 0, 'يصر': 94, 'عروضه': 37, 'طرد': 71, 'صكوك': 89, 'يمنحها': 60, 'الغفران': 63, 'ليعودوا': 57, 'تنفيذ': 71, 'فشلت': 96, 'ازعج': 53, 'ترويع': 106, 'المستهدف': 91, 'والخارج': 30, 'اسرائيلي': 48, 'لداخل': 57, 'المستهدفون': 0, 'الروائي': 6, 'الاغتيالات': 46, 'عبدالناصر': 49, 'عبدالحكيم': 62, 'التعديلات': 73, 'مهمتنا': 37, 'لحساب': 2, 'فكرتي': 33, 'مقتنعا': 124, 'رفضوا': 111, 'تجلت': 96, 'مطمئنا': 103, 'بنعمتك': 94, 'وادم': 35, 'واحفظ': 35, 'واصلح': 35, 'انتصر': 80, 'وطنهم': 40, 'واحكم': 86, 'الشرنوبي': 101, 'يتحول': 32, 'ندل': 127, 'ناضل': 57, 'سيجري': 57, 'الوجدان': 83, 'تكبيرات': 74, 'بيومي': 101, 'تدهور': 71, 'بسجن': 10, 'تغريدات': 52, 'الحفيظ': 101, 'حجار': 101, 'لعصور': 57, 'زائل': 84, 'طوابير': 77, 'اخونه': 57, 'المقابر': 81, 'جرح': 54, 'زرع': 27, 'عائله': 89, 'عميق': 109, 'يامصر': 127, 'العسر': 63, 'ترا': 65, 'خسرا': 0, 'بالعنف': 106, 'الواء': 0, 'كرم': 101, 'هدهود': 0, 'يكرم': 80, 'ضرب': 10, 'ساو': 64, 'كويس': 112, 'استفسار': 99, 'التالت': 7, 'حيجيب': 7, 'زاد': 27, 'نلبس': 21, 'الشوالي': 64, 'عف': 42, 'المبشرين': 102, 'مناقب': 0, 'لجنايات': 0, 'المشروع': 51, 'الكسب': 73, 'بيغير': 7, 'ومرسي': 49, 'بتضحك': 14, 'العكس': 33, 'يثبت': 32, 'مسؤول': 3, 'عقلانيون': 129, 'والسير': 129, 'اغتصاب': 10, 'والبخاري': 0, 'القران': 121, 'مصريون': 30, 'موجز': 99, 'الفقراء': 11, 'ترتكب': 55, 'انطلقت': 47, 'اسفل': 81, 'محرم': 74, 'تكيه': 78, 'ترسا': 0, 'بالهرم': 93, 'يتهم': 43, 'يبقي': 7, 'بالفساد': 38, 'العوض': 54, 'وزيرا': 39, 'كنظام': 129, 'لجنس': 0, 'والريتويت': 26, 'والدته': 107, 'حاتعمل': 0, 'لاقياه': 78, 'تصدير': 71, 'النت': 52, 'ويطلع': 119, 'مصدره': 129, 'يزيط': 78, 'التمرد': 15, 'بوند': 59, 'تخسر': 55, 'وخسائر': 89, 'اوراسكوم': 17, 'والانقلاب': 106, 'وترنح': 0, 'تضاعف': 47, 'سنتان': 67, 'امضيت': 96, 'ولامبارد': 0, 'ميزتان': 0, 'العب': 53, 'لسنوات': 4, 'طلعتوهم': 0, 'مشايخكم': 11, 'تراجع': 71, 'العاطل': 6, 'لوقود': 0, 'كميات': 89, 'والاكل': 114, 'بيطلع': 119, 'ثوابت': 126, 'وصراع': 106, 'اوي': 112, 'اسمعها': 53, 'استفدت': 8, 'الطلوحي': 0, 'العنزي': 34, 'ساعدونا': 26, 'نشره': 26, 'القضبان': 30, 'ورق': 18, 'مجاس': 0, 'الورق': 81, 'تخيلي': 65, 'يبثها': 0, 'نموذج': 99, 'بكرامته': 78, 'واستهزاء': 106, 'مؤخرا': 37, 'يزداد': 27, 'تكلمت': 8, 'الزوجين': 110, 'وجل': 41, 'ازمانا': 0, 'صبحي': 49, 'ملف': 99, 'الاتصال': 17, 'يخص': 61, 'التباطؤ': 57, 'يمكنك': 125, 'بدكتور': 101, 'كيد': 40, 'بجوار': 77, 'بشريه': 29, 'سلسه': 29, 'المحا': 0, 'كولومبيا': 22, 'البلهاء': 11, 'دخلت': 8, 'انفضحت': 86, 'اضرابا': 76, 'اكسر': 53, 'حرائر': 30, 'انتفاضه': 76, 'السج': 42, 'كلابش': 0, 'هنخاف': 78, 'الهداف': 64, 'ليصبح': 44, 'التاريخي': 91, 'يفصله': 80, 'دمكم': 79, 'الاكتاف': 81, 'بنعي': 0, 'بهتاف': 57, 'الاقبال': 94, 'وتختلف': 29, 'يعتقدون': 87, 'توافقهم': 0, 'عدو': 126, 'البيوت': 92, 'سيذكرها': 0, 'ضعفي': 54, 'تفضلوا': 79, 'انتوا': 98, 'انحنيت': 96, 'بلاش': 112, 'واحتجت': 31, 'الجخ': 101, 'خلافات': 110, 'معوض': 101, 'وتعليق': 99, 'الفرد': 107, 'علبتين': 18, 'مشاهد': 4, 'سريع': 109, 'الثور': 6, 'تشريح': 71, 'السﻻم': 94, 'جاء': 75, 'عبدالمطلب': 62, 'وشكر': 60, 'وحمله': 57, 'ودعاه': 106, 'وعقب': 86, 'المولد': 116, 'اﻻثنين': 0, 'شفاه': 58, 'قوانين': 4, 'الضوء': 81, 'مستقبل': 23, 'السيناريوهات': 85, 'المفاوضات': 110, 'شام': 31, 'بالصدق': 94, 'نصح': 80, 'والوضوح': 129, 'ليربح': 0, 'والاجابات': 0, 'نترقب': 66, 'تعارضون': 0, 'الطائفي': 91, 'مارسته': 0, 'والمذهبي': 57, 'وقولنا': 127, 'وطالع': 86, 'سندس': 16, 'تعيش': 55, 'عارضت': 96, 'المكمل': 91, 'انتصار': 126, 'بالبرادعي': 38, 'استبعاده': 20, 'لوزراء': 39, 'معبرك': 78, 'شوق': 128, 'قصيد': 128, 'بقلمي': 31, 'حقيقه': 4, 'بقاء': 20, 'مسكن': 128, 'الانتاج': 17, 'توسيع': 71, 'وتطلب': 117, 'ساكته': 108, 'واتحمل': 9, 'سوء': 126, 'اكون': 90, 'وافضل': 70, 'معام': 0, 'مجامله': 33, 'كوالالمبور': 22, 'رده': 33, 'عملك': 115, 'الوئام': 5, 'نجيبا': 0, 'فليكن': 117, 'لتحصلوا': 0, 'السعي': 110, 'حقكم': 79, 'بتنفيذ': 38, 'الصندوق': 51, 'هروبهم': 20, 'وعينان': 0, 'حياتهم': 11, 'مصيرهم': 11, 'اهون': 70, 'يتمكن': 69, 'لاكمال': 2, 'الامان': 84, 'والاعتقاد': 129, 'نطلع': 21, 'ومسكها': 0, 'غضب': 126, 'البطاطس': 114, 'عدستي': 26, 'رحله': 77, 'بغيض': 126, 'سفر': 71, 'يقن': 0, 'هاينه': 0, 'لمنتخب': 1, 'بالستات': 78, 'تقتله': 72, 'يقتل': 32, 'الستات': 112, 'التصفي': 0, 'راموس': 64, 'والعب': 86, 'بروح': 9, 'سنواتك': 85, 'واجهت': 96, 'ستضيع': 96, 'الشوط': 1, 'وذهب': 44, 'فلبيني': 3, 'عبدالعليم': 101, 'واليك': 117, 'نحيا': 66, 'النشور': 41, 'امسينا': 43, 'بمرحلتيها': 0, 'الملف': 51, 'بنتائج': 38, 'وتحليلها': 57, 'لمحبي': 99, 'استعباد': 126, 'يدل': 94, 'كثيرين': 11, 'يحبون': 87, 'ديانتك': 0, 'يعترفون': 87, 'دينك': 94, 'وبالتالي': 129, 'تنطق': 72, 'باسمك': 0, 'هاتفيه': 48, 'نصار': 49, 'مكالمه': 52, 'الاصوات': 85, 'نقدمها': 60, 'نبد': 0, 'لفلول': 57, 'يشترون': 111, 'ويمكر': 36, 'الماكر': 0, 'يمكرون': 36, 'بسحب': 38, 'لجرائمه': 0, 'لسفير': 57, 'ابيات': 4, 'زميل': 3, 'استاذ': 34, 'فقلت': 108, 'وقال': 108, 'ملتح': 0, 'وعرف': 44, 'المستر': 127, 'مشروعهما': 0, 'خاطبت': 96, 'بالهم': 11, 'والهم': 128, 'ظروف': 4, 'تعاتب': 72, 'صبري': 54, 'المتحف': 51, 'والقان': 0, 'ضحا': 78, 'وتعذيبهم': 106, 'انفسهم': 87, 'وقطع': 106, 'والا': 65, 'اعتبروا': 79, 'وذبح': 106, 'هتفتكروا': 0, 'بطانيه': 18, 'الراجل': 112, 'بالشارع': 95, 'تنتهي': 55, 'باشتباكات': 100, 'التجاري': 91, 'ويعلنون': 57, 'يتحدوا': 11, 'النزول': 20, 'لاوضاع': 57, 'حبيبنا': 24, 'رؤيته': 20, 'فون': 59, 'الشطي': 6, 'اصوت': 53, 'ابوي': 9, 'نومينيه': 78, 'واء': 42, 'بدران': 62, 'نوجه': 66, 'تعمي': 72, 'القذافي': 48, 'حظر': 73, 'الانتصار': 15, 'فهمه': 33, 'صالح': 62, 'مكروها': 103, 'حراما': 103, 'لمؤمنين': 0, 'يتحولوا': 11, 'والصيام': 121, 'يحرصون': 94, 'يفعلوا': 87, 'جلاد': 23, 'يكلم': 119, 'صباعه': 127, 'وعمال': 93, 'مارفعتك': 0, 'ياريتني': 45, 'بتسليح': 38, 'محلاوي': 16, 'يتصدر': 32, 'العالي': 91, 'الجهلاء': 11, 'والحكماء': 11, 'تشغلني': 19, 'خلقته': 108, 'خلقتني': 35, 'اشغلني': 35, 'وغضب': 106, 'الراحل': 101, 'قاله': 108, 'انو': 65, 'مزيد': 69, 'سيتم': 113, 'موقفها': 73, 'الالهاء': 57, 'اخري': 29, 'امور': 4, 'فاضحه': 29, 'سما': 128, 'لتغطيه': 2, 'زيطه': 127, 'وبالونه': 0, 'منتظرين': 21, 'قواتنا': 46, 'الوطنين': 57, 'حراس': 30, 'يقع': 32, 'مظالم': 57, 'بتعقب': 0, 'لقيامهما': 0, 'فرصه': 4, 'رؤوف': 56, 'نهايه': 4, 'العيانه': 78, 'ابوك': 86, 'رحيل': 20, 'انتهت': 96, 'انسحاب': 71, 'لاعتراضهم': 0, 'تعظيم': 121, 'والمنع': 113, 'ترتبط': 124, 'تحديات': 4, 'وتحقيق': 2, 'لفظا': 0, 'لوصف': 129, 'عجوز': 81, 'مثلا': 65, 'العقيم': 84, 'معيب': 109, 'الاستخدام': 17, 'يؤذي': 61, 'عقيما': 28, 'وقالت': 108, 'الفظ': 27, 'تبور': 19, 'يتلون': 36, 'رزقناهم': 36, 'يرجون': 19, 'بابل': 5, 'عاجلمقتل': 0, 'ابعتلهم': 78, 'المدرسه': 95, 'الوحيده': 29, 'تخليني': 9, 'خليل': 101, 'سكرتيرا': 0, 'حوائج': 63, 'رابعا': 57, 'رضاهم': 115, 'ايفون': 52, 'مقطع': 99, 'جاك': 75, 'وعجبك': 0, 'صوتي': 54, 'تحفظه': 63, 'وقضايا': 106, 'موضوعات': 4, 'اتسم': 0, 'تصويبها': 0, 'ودوما': 0, 'وسعيت': 0, 'البذور': 81, 'وراث': 0, 'يعملوا': 98, 'ترسيخ': 129, 'طلابي': 120, 'ويمارسوا': 0, 'بيذاكروا': 78, 'بيدخلوا': 98, 'بيسقطوا': 0, 'وطب': 42, 'والمستقلين': 57, 'مصداقيتنا': 0, 'فقدان': 20, 'وتطبيق': 129, 'الغائط': 0, 'حكمت': 96, 'ناظم': 101, 'فيفتي': 59, 'المنايا': 31, 'خوض': 71, 'الوحول': 0, 'سعدالدين': 101, 'باختياري': 84, 'السر': 15, 'الاحتفاظ': 124, 'سيراقب': 0, 'تزد': 19, 'فلولي': 0, 'ضلالا': 28, 'الانقلابين': 46, 'هيطير': 78, 'الدقهليه': 93, 'الواعيه': 129, 'العاليه': 129, 'المشاركه': 110, 'حديد': 18, 'سك': 42, 'ابتسامتك': 83, 'شنت': 47, 'الحروب': 40, 'قيما': 117, 'لتحتل': 57, 'المتحدثون': 57, 'الذات': 15, 'يحاكم': 80, 'الساخر': 91, 'يرغ': 0, 'النطر': 0, 'تاملات': 36, 'بالخ': 42, 'قدمها': 47, 'اجتمعت': 96, 'الكلباني': 34, 'الفوائد': 92, 'ضيافته': 121, 'الديون': 17, 'يشتروها': 78, 'لفساد': 106, 'الفلوس': 95, 'الصوص': 114, 'لتسديد': 2, 'بتراب': 31, 'اتخذوه': 0, 'ويستشهدوا': 0, 'لاغلاق': 2, 'الفراعين': 49, 'الميثاق': 73, 'لعرض': 2, 'مباحثات': 48, 'قبائل': 30, 'تهاجمك': 0, 'وكذبك': 0, 'ضيعته': 8, 'افتكر': 45, 'بتقعد': 14, 'توب': 59, 'ظلمك': 115, 'تفتكر': 14, 'شرفها': 107, 'بتشكر': 78, 'ضباطها': 57, 'وقابله': 57, 'وسفاسف': 0, 'كوابيس': 4, 'فقرات': 4, 'هلاوس': 78, 'سحر': 128, 'شوفنا': 21, 'خيفين': 78, 'عوزنا': 0, 'محاميك': 0, 'اكتشفت': 122, 'انتخبت': 45, 'اسحق': 101, 'جهل': 126, 'عظماء': 11, 'بالفكر': 129, 'مسلمين': 11, 'الغيب': 63, 'مطاحن': 77, 'المزارعين': 120, 'والتجار': 120, 'تستقبل': 47, 'الارهابين': 30, 'بواسطه': 99, 'الهمجي': 106, 'تجعلك': 55, 'جوله': 89, 'سيقاطعون': 0, 'الاقباط': 30, 'ينطق': 75, 'ويصوتون': 0, 'ايهاب': 49, 'القائمين': 120, 'بيطالب': 43, 'ورغم': 122, 'المرج': 93, 'هربت': 96, 'الرشاح': 0, 'تشوفها': 12, 'والدول': 37, 'ورمضان': 78, 'وتحميل': 99, 'الانبار': 5, 'المراكز': 92, 'مختلف': 109, 'القيود': 85, 'اخي': 34, 'السدود': 81, 'تدلس': 0, 'المنحل': 39, 'عص': 42, 'سماح': 16, 'لرموز': 106, 'بالظهور': 38, 'لخلق': 2, 'وجورج': 101, 'وعبد': 62, 'لعنف': 57, 'فوري': 113, 'طالبنا': 43, 'قدامكم': 79, 'والكلام': 33, 'مصالح': 126, 'لقب': 1, 'بحملته': 0, 'متمسكا': 124, 'ويعشق': 44, 'يزال': 61, 'يقابلنا': 78, 'السلوك': 15, 'انتظروني': 26, 'بمختلف': 2, 'وافكار': 4, 'مرجعياتهم': 0, 'مشروعي': 51, 'الفقير': 107, 'فيھا': 84, 'يقينا': 103, 'ستزداد': 57, 'خالطت': 27, 'وفيھا': 0, 'لسلطات': 57, 'ونظام': 129, 'لاتخرج': 72, 'القطيع': 6, 'بعوز': 78, 'نسيب': 21, 'الروتين': 51, 'يلاحظ': 61, 'افقدته': 0, 'وصفقاته': 0, 'يتابع': 119, 'ضيع': 75, 'ينزلوا': 98, 'يطالبوا': 43, 'لتدبير': 57, 'المراحل': 85, 'قوانينها': 37, 'شكرتم': 121, 'لقوله': 41, 'وحاتم': 101, 'يصلون': 111, 'الصعود': 20, 'عزام': 62, 'ويا': 86, 'غني': 104, 'يفشلون': 111, 'يتعلق': 124, 'تغتصب': 106, 'لمنزلهم': 0, 'بويه': 18, 'طمعا': 63, 'تستحي': 72, 'وتجارته': 0, 'زهد': 107, 'خلقه': 41, 'اصوم': 53, 'هتعمل': 45, 'واعد': 117, 'ستمضي': 96, 'وزملائهم': 0, 'نجاح': 71, 'اﻻنتخابات': 0, 'داليا': 16, 'الكمائن': 57, 'بالعجمي': 0, 'ردت': 108, 'ارد': 53, 'وعموما': 78, 'التبرع': 17, 'دمي': 83, 'دمك': 115, 'انقلابا': 28, 'اصبر': 54, 'ثق': 124, 'علی': 57, 'مصابك': 0, 'مؤقت': 109, 'لمبارك': 49, 'مفكر': 3, 'فسخر': 117, 'وقدمه': 57, 'يجعله': 58, 'جمب': 127, 'اخوياه': 95, 'السكوت': 15, 'نتلوه': 0, 'المدرسي': 91, 'يفترض': 125, 'العبادات': 121, 'اهالي': 30, 'سيذكر': 80, 'قاد': 80, 'الخنازير': 30, 'الديسكو': 95, 'روعه': 29, 'هالاغنيه': 16, 'اسمعو': 79, 'تدفع': 55, 'طلخا': 93, 'بتشكيلات': 0, 'المركزي': 93, 'جيد': 109, 'وضروري': 57, 'وقضاياها': 0, 'التنوع': 15, 'التقليدي': 91, 'تنوع': 129, 'وشب': 31, 'المعبد': 6, 'شيزار': 0, 'بالظبط': 112, 'والعلمانين': 11, 'والاشتراكين': 0, 'رايحين': 98, 'بالملا': 31, 'النشطاء': 120, 'نشارك': 66, 'واختار': 44, 'بموقع': 99, 'واتجوز': 127, 'والشغل': 78, 'بعشرين': 67, 'ياكل': 75, 'بالناس': 84, 'والاسعار': 17, 'حاسين': 98, 'مستمره': 29, 'الحفله': 95, 'ومازالت': 29, 'الطعام': 114, 'لصالح': 2, 'بالولايات': 57, 'الشهر': 51, 'فائده': 4, 'الذاكره': 83, 'الاعشاب': 114, 'والحفظ': 129, 'والتركيز': 94, 'تقويه': 71, 'الاستيعاب': 15, 'لفائده': 2, 'عشبه': 114, 'وزياده': 71, 'يفضل': 7, 'الجنسينج': 0, 'حقول': 81, 'مواقفي': 37, 'وصلنا': 21, 'طرب': 128, 'الفخم': 0, 'بيزيد': 7, 'نكسوا': 0, 'ميتين': 98, 'وبرضه': 127, 'اﻷعلام': 0, 'يلغوا': 98, 'متلغاش': 0, 'سوبر': 59, 'منصف': 109, 'بدور': 38, 'وقادتهم': 57, 'رئيسهم': 116, 'ميلف': 78, 'كوريا': 22, 'غرق': 27, 'متاعب': 63, 'والبناء': 129, 'قيادته': 73, 'والمعلم': 6, 'يقسم': 80, 'ديكتاتوري': 3, 'بالاستفتاء': 57, 'بامتياز': 129, 'وجماعته': 6, 'المعترضين': 120, 'نتوحد': 66, 'يساري': 3, 'فاتوا': 98, 'كاس': 1, 'المصايب': 54, 'خروجنا': 20, 'تصفيات': 1, 'السنتين': 67, 'يلبسوا': 98, 'اسفلت': 78, 'فقهاء': 30, 'والخروج': 113, 'وفقهاء': 57, 'فضح': 80, 'هيفضح': 0, 'المندس': 6, 'خلني': 9, 'مدري': 9, 'ابعد': 104, 'بيدي': 9, 'الخيارات': 85, 'دامها': 86, 'وصال': 128, 'والتنوين': 0, 'الضمير': 15, 'تذكرها': 72, 'الاص': 42, 'يشوع': 0, 'شرا': 103, 'ﻻنك': 0, 'سرت': 5, 'الراغب': 57, 'لرحلات': 57, 'تقدموا': 19, 'عوار': 86, 'وتشكيل': 2, 'يرجع': 119, 'كفاءات': 89, 'سينجح': 80, 'حفظك': 58, 'البيتين': 31, 'ذخرا': 60, 'والمسلمين': 35, 'المربع': 51, 'وفرصته': 0, 'سرحان': 101, 'روزبه': 0, 'ليبرتي': 5, 'دوي': 128, 'اشرف': 101, 'بقوا': 98, 'بالشرق': 22, 'هجمات': 100, 'مخلف': 62, 'تيجي': 14, 'وجع': 128, 'وجيكا': 0, 'عهدكم': 0, 'قنبله': 100, 'بولاق': 93, 'والحري': 0, 'والحقوق': 129, 'يحد': 69, 'يضمن': 32, 'تسلسل': 129, 'والنجار': 101, 'لجان': 89, 'والشوبكي': 0, 'مخص': 0, 'اسحاق': 62, 'لهاشتاج': 0, 'واكد': 49, 'تقارير': 89, 'اقعد': 9, 'فوتوشوب': 99, 'شايفه': 45, 'كرسي': 95, 'اعند': 78, 'شايلانا': 0, 'هندخل': 21, 'مبهور': 78, 'ياسيسي': 127, 'ياولاد': 127, 'سنعود': 66, 'ياخاين': 31, 'وثائق': 89, 'القطيف': 5, 'قائم': 94, 'جمهوري': 73, 'ديمقراطي': 3, 'فترته': 37, 'والدبلوماسي': 0, 'غطاء': 81, 'بحولها': 86, 'الانجاز': 15, 'باخد': 45, 'لويس': 64, 'ليال': 128, 'الطرش': 0, 'ماتقلقش': 127, 'وسعها': 36, 'الظروف': 85, 'والظروف': 84, 'نفسا': 103, 'يكلف': 61, 'تخابر': 78, 'اشوفك': 53, 'بوجود': 38, 'كعضو': 57, 'المؤذنين': 0, 'الثب': 0, 'ليدخلك': 0, 'قولا': 103, 'المؤمن': 41, 'يحاكيني': 75, 'تنعدم': 55, 'بالرحمن': 41, 'مت': 8, 'بكيت': 8, 'ماظنك': 0, 'وانتهت': 29, 'برؤساء': 57, 'ضده': 73, 'بمرشح': 57, 'استقالوا': 11, 'تناسب': 29, 'تكليف': 73, 'لهشام': 101, 'المحق': 0, 'مرزوق': 62, 'واستاذ': 101, 'لقاضي': 57, 'بانهم': 11, 'لهولوكوست': 0, 'ابطال': 1, 'والداعمين': 60, 'وتناسوا': 11, 'خادمهم': 0, 'الفلسطيني': 91, 'يتابكون': 0, 'ماجاك': 86, 'بمناسبه': 76, 'يجيبوا': 98, 'انجليزي': 97, 'مدرس': 97, 'كلامهم': 33, 'بالحديث': 104, 'لاحد': 33, 'يسعدني': 122, 'جاري': 113, 'القومي': 91, 'لحقوق': 39, 'المنازل': 92, 'بالثانوي': 97, 'لنور': 0, 'معلنين': 57, 'سيخرجون': 111, 'فسكوت': 0, 'وتحسين': 113, 'صحه': 71, 'تغذيه': 114, 'تساعد': 55, 'تنسيق': 71, 'الشعور': 54, 'وتمنح': 2, 'عناي': 54, 'الجسم': 114, 'مقابل': 113, 'بوش': 48, 'والرشيد': 0, 'صايرين': 98, 'مؤيدي': 30, 'العجوز': 16, 'وحق': 31, 'لمسيرات': 57, 'مشاركتكم': 26, 'المقار': 37, 'وهتنجح': 0, 'حاس': 25, 'هتوصل': 14, 'التناكه': 78, 'وتقولك': 86, 'ذهاب': 1, 'ديربي': 1, 'الاتصالات': 17, 'حقك': 33, 'وانتقد': 57, 'لحمله': 2, 'وفضلت': 45, 'خديجه': 16, 'وكعادتي': 0, 'يعتصر': 27, 'اعيش': 53, 'عبء': 126, 'جسيم': 57, 'الواتس': 52, 'لقروبات': 0, 'انشروها': 26, 'دفعني': 60, 'جدي': 62, 'تدلي': 27, 'وطالب': 44, 'تهم': 47, 'يقطع': 119, 'الجاد': 26, 'لنستمر': 0, 'الموضوعات': 92, 'زوال': 20, 'اكتشاف': 71, 'اطلق': 80, 'ويندم': 44, 'خيانتهم': 11, 'لرياض': 57, 'شروره': 5, 'جاره': 107, 'بوائقه': 41, 'برجاء': 113, 'عرفتها': 8, 'المتصهين': 6, 'هتكمل': 14, 'سكتنا': 21, 'ليونز': 0, 'نفرتيتي': 16, 'الجوادي': 101, 'دمحمد': 0, 'كتابه': 20, 'تعليقا': 94, 'تمثل': 72, 'جموع': 31, 'تؤجل': 47, 'نسبك': 0, 'تمتلك': 55, 'قيمتك': 115, 'عره': 127, 'لبتوع': 78, 'بروفايل': 52, 'الفيسبوك': 52, 'يابن': 86, 'سيسقط': 80, 'سقوطا': 28, 'وعقبال': 117, 'هتفشخ': 78, 'المعين': 56, 'طغيان': 106, 'المصاعب': 85, 'وحمدا': 117, 'درسا': 28, 'انجازا': 28, 'حقت': 86, 'عودت': 8, 'عاليا': 81, 'وقدمت': 47, 'لرفع': 2, 'بيقود': 78, 'وحسن': 117, 'موجبات': 106, 'بذل': 84, 'منسيه': 29, 'المغفره': 68, 'لعشرين': 0, 'جبر': 101, 'المراسلات': 37, 'ودامت': 117, 'جبران': 28, 'وتعرضت': 57, 'القذر': 6, 'قلته': 108, 'لحرب': 2, 'هاجمت': 47, 'وشعورك': 84, 'شن': 127, 'درت': 8, 'متحمسله': 0, 'اليابان': 22, 'مقره': 77, 'لزبون': 0, 'ﻋﻴﻦ': 82, 'ﺍﺑﺮﻳﻞ': 0, 'ﺍﻟﻠﻪ': 82, 'ﺑﻌﺪ': 82, 'رجالنا': 40, 'ﺍﻟﻌﺼﺮ': 0, 'ﺛﻮﺍﺭ': 0, 'ﺇﻻ': 82, 'ﺷﻤﺲ': 0, 'تشاركنا': 66, 'برايك': 33, 'الخطوط': 92, 'كام': 112, 'مستوايات': 0, 'يع': 42, 'المرشد': 6, 'قصده': 3, 'انهي': 53, 'تضيعوه': 0, 'ملاذكم': 0, 'تجعلكم': 0, 'ويبيع': 44, 'مواقع': 89, 'اشهر': 67, 'فانلات': 0, 'هيقفلوا': 78, 'التسوق': 17, 'كسب': 80, 'وكاب': 78, 'اريد': 125, 'اخشي': 125, 'الضجيج': 15, 'اشخر': 78, 'يتطلب': 125, 'نوي': 75, 'لاريجاني': 48, 'استيقظ': 96, 'بنتي': 16, 'يقدر': 75, 'وتعذيبه': 57, 'اختطافه': 10, 'ويهك': 86, 'خايس': 109, 'خسف': 124, 'طاع': 75, 'مجاملات': 126, 'بالتاريخ': 23, 'ينتقد': 80, 'الرقاصات': 78, 'يومك': 115, 'يستضيف': 76, 'جهات': 89, 'وتسلم': 117, 'ويجب': 125, 'ويعيد': 44, 'عصائر': 18, 'يستورد': 80, 'شابات': 57, 'هينهي': 0, 'اقولك': 108, 'التاني': 112, 'تشاهد': 55, 'الت': 42, 'السلطات': 46, 'صدقت': 8, 'واستغفر': 121, 'والعنوان': 57, 'بقولك': 45, 'جايز': 25, 'نزلتش': 78, 'طلوع': 20, 'الباكر': 76, 'جلست': 9, 'الخالي': 31, 'وجدانا': 0, 'العربيات': 95, 'تساؤلاتكم': 0, 'السابعه': 76, 'مراجعات': 97, 'ليبرالين': 11, 'تبيح': 106, 'ماهلك': 0, 'الاشباه': 0, 'النظائر': 0, 'دونها': 31, 'الضرورات': 37, 'الحاضر': 84, 'حياء': 126, 'يزيف': 80, 'غفر': 58, 'الوقوف': 20, 'بذنوب': 117, 'واحتسابا': 35, 'قف': 42, 'وجعلهما': 0, 'قربا': 63, 'لاتصالات': 57, 'لبنك': 39, 'وعدي': 54, 'انتمي': 60, 'خيرك': 63, 'وناقش': 129, 'السياق': 51, 'سجناء': 30, 'سياسين': 11, 'مصرين': 98, 'النطرون': 93, 'تنتقص': 72, 'نصير': 21, 'لفتح': 2, 'توضح': 47, 'تحركات': 89, 'بيتها': 95, 'تاخذ': 12, 'يشاهدها': 80, 'تطهير': 71, 'الذريع': 129, 'تورينا': 12, 'وفشلهم': 57, 'منعهم': 69, 'متظاهرو': 30, 'اربع': 67, 'المتواصل': 91, 'وقوفا': 57, 'اقدامهم': 40, 'بيوتهم': 11, 'ازف': 96, 'التسامح': 15, 'نعيشه': 66, 'الاستقطاب': 15, 'بسواعد': 57, 'البائس': 84, 'عقلاني': 109, 'لخالد': 62, 'عداء': 126, 'والجمال': 129, 'الملعب': 116, 'غايه': 84, 'ويازين': 86, 'الروعه': 29, 'شيماء': 16, 'مسئوليتها': 37, 'والعمل': 129, 'سائقي': 120, 'سيارات': 77, 'التمويل': 17, 'الازم': 37, 'الملاحقات': 37, 'التافه': 6, 'نهتم': 66, 'بتضحكني': 45, 'يقولك': 65, 'بايت': 59, 'منشنات': 52, 'يبعت': 7, 'يفرق': 75, 'صوتكم': 79, 'قلوبهم': 83, 'لصغارها': 0, 'تخفي': 72, 'دمعتها': 83, 'ابتسامتها': 83, 'يدرج': 80, 'مختطف': 80, 'تحتل': 47, 'عبادتك': 68, 'ذكرك': 68, 'شكرك': 68, 'تصريحات': 48, 'الاركان': 46, 'العشر': 121, 'جوي': 9, 'الهادي': 101, 'سيرتي': 68, 'ازهري': 101, 'التوبه': 121, 'بوي': 59, 'ترميني': 31, 'بيصور': 7, 'بيغطي': 78, 'اتقبض': 7, 'يتواصل': 32, 'ويوثق': 57, 'نحبك': 21, 'كرنڤال': 0, 'ياملكنا': 117, 'الاتنين': 112, 'وفاتهم': 20, 'نيرودا': 0, 'تضيئه': 0, 'بابلو': 64, 'بلقاء': 38, 'ورتبوا': 57, 'حملتي': 0, 'اتاحوا': 0, 'بتموت': 14, 'قيادتها': 37, 'تنفي': 113, 'تباين': 110, 'بتسمعوا': 78, 'تابعو': 26, 'قندهار': 22, 'الامريكي': 48, 'رافسنجاني': 0, 'الحلف': 110, 'وطرق': 113, 'العلاج': 114, 'ومصانع': 57, 'مستشفيات': 89, 'ومدارس': 97, 'سجونا': 0, 'لجلج': 0, 'افريقيا': 22, 'توافر': 71, 'النوايا': 84, 'الانجازات': 85, 'يمنع': 69, 'الطيف': 128, 'الاحتفال': 43, 'وفق': 2, 'ميلادك': 59, 'اختاه': 0, 'تنالي': 0, 'احرصي': 94, 'اطفال': 30, 'يقودون': 111, 'حقوقي': 3, 'بمطار': 77, 'Ҩ': 57, 'لابس': 18, 'اختك': 16, 'بنطلونها': 18, 'واد': 127, 'عرفتي': 8, 'انحناء': 27, 'مفتوح': 119, 'تمويل': 17, 'الحبوب': 114, 'مصرف': 77, 'لشراء': 2, 'عربيا': 28, 'تنبض': 55, 'تعقلون': 36, 'مراسلنا': 100, 'الدرع': 116, 'قراءتها': 20, 'ليسهل': 113, 'الرسوم': 92, 'وبصحبتها': 0, 'وهنزل': 78, 'سيوقف': 57, 'المسئولون': 57, 'تصريحاتهم': 37, 'يلتزم': 61, 'مدنين': 30, 'نظره': 4, 'لجري': 0, 'ومضطر': 0, 'ونتعود': 0, 'لتدريس': 97, 'تولد': 55, 'وساعده': 57, 'وفساد': 106, 'القوانين': 85, 'تخشون': 79, 'حزبا': 28, 'الامهات': 120, 'مصليه': 0, 'بيبي': 59, 'واعراض': 106, 'شاي': 18, 'بصمت': 84, 'يدعم': 32, 'وانشر': 26, 'ﻻعب': 23, 'بامبرز': 18, 'الفيرس': 78, 'يستطع': 32, 'وحياتك': 127, 'تحر': 0, 'قبيليه': 5, 'متزوجين': 98, 'وموظفه': 57, 'دراستي': 97, 'لحمد': 0, 'اديني': 45, 'فيرس': 59, 'البت': 16, 'الكارثي': 57, 'بياكلوا': 98, 'الجامعيه': 97, 'بالياسمين': 18, 'محارم': 106, 'اتحمل': 53, 'رئاسته': 73, 'بالدليل': 129, 'الريتويت': 52, 'المسؤوليه': 85, 'طوال': 44, 'المنتشري': 116, 'كانيدا': 116, 'ارجوك': 86, 'والروابط': 57, 'عرسان': 16, 'الرد': 33, 'مخلصه': 29, 'وخايفه': 65, 'متحر': 0, 'لتعذيب': 106, 'متكر': 0, 'برنس': 127, 'تحويله': 20, 'تنازل': 104, 'حقها': 33, 'تخيلو': 65, 'كش': 86, 'وبعيد': 104, 'سيكو': 59, 'هاي': 59, 'يفاجؤنا': 0, 'اقلكو': 0, 'مسدود': 0, 'يتصالحوا': 78, 'ومات': 27, 'فجرها': 81, 'احده': 42, 'وطلبنا': 57, 'بمؤتمرات': 0, 'المدعو': 34, 'مصابي': 30, 'العذراء': 16, 'مجانين': 98, 'تساند': 47, 'والطرطور': 0, 'اميركا': 22, 'ونور': 117, 'يافنان': 78, 'وذكر': 121, 'يتوارثها': 0, 'جامعه': 97, 'ادعيله': 78, 'نتحرك': 66, 'هنفضل': 21, 'امته': 107, 'ﻻزم': 65, 'نكتب': 50, 'عرمرم': 0, 'هاوي': 25, 'الديوك': 64, 'دغل': 0, 'بنو': 11, 'يعج': 124, 'والاختيار': 129, 'دستوركم': 0, 'ديماريا': 64, 'ضيعوا': 111, 'الجولين': 0, 'بنيت': 96, 'عمارات': 77, 'يتجاهل': 80, 'توم': 59, 'مقدرش': 112, 'لايق': 86, 'نغامر': 0, 'يمارسون': 87, 'بمنطق': 129, 'ينصر': 58, 'استكر': 0, 'يتعرض': 32, 'بريف': 100, 'قصف': 100, 'مدفعي': 100, 'حميس': 0, 'مناطق': 89, 'والجمهور': 116, 'لنائب': 39, 'يوقع': 32, 'ليفوت': 0, 'احلي': 70, 'مسا': 127, 'النجمه': 16, 'سيصدر': 73, 'الهلايل': 0, 'لتفاصيل': 57, 'بالدقيقه': 67, 'بتحسب': 78, 'اليله': 0, 'توصي': 43, 'مفوضين': 0, 'بغلق': 38, 'وسعر': 99, 'الشون': 0, 'لفلاح': 0, 'مرضي': 11, 'تكريم': 76, 'تاسيس': 71, 'مهمتها': 37, 'الفضل': 60, 'هيئه': 89, 'مجده': 107, 'تلهو': 55, 'يبني': 80, 'الجوائز': 92, 'جيدا': 125, 'تشلسي': 64, 'موسما': 28, 'اشهد': 123, 'واشهد': 122, 'تدريبات': 76, 'بصاص': 116, 'بحالك': 115, 'قاتل': 106, 'هدفنا': 129, 'والتفاف': 57, 'لبرميل': 0, 'متجها': 77, 'برنت': 52, 'التوترات': 37, 'بغض': 104, 'تحصينها': 0, 'بانتظام': 114, 'تخيلوا': 65, 'وعنا': 0, 'وسكن': 117, 'بالمنيا': 93, 'الراعي': 6, 'الطبي': 91, 'والمركز': 57, 'لعبد': 101, 'مراد': 101, 'مونتاج': 99, 'لتصاميم': 0, 'اهداء': 60, 'كرونا': 0, 'مباركه': 121, 'بالفيوم': 93, 'سنورس': 0, 'انترنت': 17, 'محترف': 23, 'البلاغات': 92, 'يعكف': 57, 'والمحمول': 57, 'تسجيلات': 99, 'لصفوت': 101, 'المسبحين': 36, 'ولاحول': 123, 'كفو': 86, 'هايصالح': 0, 'شرعا': 73, 'جندين': 0, 'خطفت': 96, 'تركين': 0, 'كوماندوس': 0, 'عسكرين': 57, 'سيضيئ': 0, 'وانقلاب': 106, 'يطفئ': 27, 'السياح': 120, 'يجوا': 98, 'يصح': 61, 'عصا': 81, 'سينما': 77, 'حصري': 99, 'مشاهده': 99, 'افلام': 99, 'ارتيكاريا': 0, 'بتجيب': 14, 'محبوب': 25, 'لترشح': 57, 'لانتخاب': 2, 'ﺍﻟﺠﻴﺰﺓ': 0, 'ﺍﻟﻨﻴﺮﺍﻥ': 0, 'ﺍﻹﺧﻮﺍﻥ': 0, 'ﺷﺮﻃﺔ': 0, 'الدهر': 54, 'الخطب': 37, 'ويسقط': 44, 'مسئول': 3, 'بوابه': 76, 'مؤس': 0, 'ورئيس': 39, 'تشتم': 72, 'يواجه': 32, 'الجبناء': 40, 'يقبلون': 87, 'ويرفضون': 113, 'تقلق': 19, 'الذل': 15, 'تزعج': 72, 'الثوريات': 0, 'الفاصل': 91, 'الابراشي': 49, 'انفوجرافيك': 99, 'لطبيب': 57, 'استمع': 60, 'متفوقا': 94, 'تحطو': 79, 'بالواتس': 52, 'مسجات': 52, 'ستشرح': 0, 'القواعد': 85, 'الاستوديو': 95, 'الشروط': 92, 'البكاء': 20, 'يديك': 83, 'مذكرات': 99, 'وعلاقتها': 129, 'باربارا': 0, 'بنقول': 21, 'الحجر': 81, 'المصنوع': 81, 'تعلمتم': 0, 'العناد': 15, 'نعرف': 50, 'مرشحا': 39, 'الافضل': 28, 'تفتيت': 71, 'ثوريا': 57, 'الجوامع': 74, 'يشد': 75, 'الاذان': 118, 'المؤمنين': 24, 'لشفيق': 78, 'ناعوت': 16, 'فاطمه': 16, 'بكلام': 38, 'الصفاقسي': 1, 'بنقردان': 57, 'ينفذه': 80, 'لضابط': 57, 'لتقدير': 129, 'الشخصي': 91, 'بتحقيق': 38, 'يترك': 32, 'البلطجي': 6, 'تقدير': 126, 'دورك': 115, 'ومنع': 113, 'صمتك': 54, 'حجر': 81, 'هيفتح': 7, 'زمكان': 0, 'حياؤه': 41, 'مؤدب': 25, 'المتصفح': 51, 'الضمور': 0, 'يكرهك': 115, 'ذايب': 128, 'نصفي': 54, 'اسير': 31, 'صادفه': 0, 'قبلك': 54, 'مايصير': 65, 'الصلابي': 101, 'ركن': 77, 'لمؤلفات': 0, 'دارفور': 22, 'المرور': 17, 'اغتالت': 47, 'مرور': 71, 'بول': 59, 'الشعوب': 85, 'التحول': 71, 'بثروتها': 0, 'تمتع': 124, 'صنع': 70, 'تستمعوا': 0, 'لكلام': 33, 'ميغركيش': 0, 'المكالمه': 95, 'بفوز': 1, 'تنسيك': 55, 'الغ': 42, 'والحق': 129, 'السفن': 92, 'التركيز': 20, 'البحار': 81, 'ركز': 86, 'بتفتيش': 38, 'اعتدال': 126, 'تصور': 12, 'المانع': 34, 'القفص': 95, 'اعمالي': 92, 'بيقدرني': 0, 'محشي': 18, 'الشبت': 0, 'طلعنا': 21, 'لعسكر': 57, 'رفضا': 73, 'تستسلم': 55, 'اتمني': 125, 'المعينين': 120, 'خانوا': 111, 'الشوري': 73, 'الحريري': 48, 'حنا': 21, 'شطح': 80, 'ليدبروا': 117, 'الامريكان': 40, 'يولول': 78, 'يترنح': 80, 'ٱنا': 90, 'زهدنا': 0, 'حيقول': 7, 'مكانه': 33, 'محفوظ': 101, 'شبيلات': 101, 'والتفاصيل': 99, 'ناسي': 25, 'ضاني': 18, 'المتبلم': 0, 'خليه': 44, 'يخبطه': 0, 'يفوق': 27, 'الحزين': 128, 'مؤقتا': 28, 'اعتبارا': 76, 'مقالتي': 37, 'تواجدها': 20, 'تكثف': 47, 'بالميد': 0, 'دليلا': 94, 'مجرم': 3, 'علمانيا': 0, 'لشيخ': 34, 'بالجوع': 114, 'الديموقراطي': 91, 'الوعي': 15, 'يقوله': 108, 'الوالدين': 121, 'بارا': 103, 'بوالديك': 121, 'بر': 42, 'تكتبها': 72, 'ويحكيها': 0, 'كتابتها': 20, 'فلتذهبوا': 0, 'تابعوني': 26, 'اتابع': 53, 'متضايق': 25, 'الاتجاهين': 57, 'يرقص': 119, 'نفق': 77, 'سعيدا': 103, 'مفردات': 4, 'العذر': 54, 'صلوات': 24, 'التماس': 71, 'انتصارك': 0, 'تعطيهم': 72, 'تفسد': 55, 'سيدمرون': 0, 'ذاتيا': 57, 'بغبائهم': 11, 'دبوس': 18, 'هع': 86, 'والهجوم': 94, 'تزيدوا': 0, 'الاعمي': 107, 'لديكتاتور': 0, 'كفوا': 56, 'مخالف': 73, 'النواح': 0, 'الصناعيه': 77, 'النسيج': 46, 'وانتقال': 57, 'قو': 86, 'بالمنطقه': 5, 'خيم': 128, 'لقينا': 21, 'مطهرات': 0, 'سارح': 128, 'مسارح': 57, 'ترسم': 55, 'الوان': 4, 'تخت': 42, 'التوظيفي': 0, 'الاربعاء': 76, 'ملتقي': 76, 'التدريبي': 91, 'السجيل': 0, 'اثق': 124, 'التصرفات': 85, 'بالنص': 65, 'افراد': 120, 'برفض': 38, 'الرسميه': 76, 'الراب': 59, 'لمغني': 0, 'الربع': 51, 'بنوك': 89, 'اعتز': 124, 'يلتف': 27, 'ليقول': 60, 'لبيع': 2, 'فاشن': 59, 'دانتيل': 18, 'ناعمه': 29, 'الفصولفالكل': 0, 'وجمع': 117, 'الحظه': 37, 'حمار': 3, 'والسلام': 24, 'ولادكم': 78, 'هترجع': 14, 'علمو': 79, 'درعا': 5, 'الغنائم': 37, 'الجنوبي': 91, 'والميادين': 30, 'موعدنا': 76, 'ثالثا': 129, 'بمقال': 57, 'بيكذب': 7, 'لقوانين': 2, 'كذبه': 4, 'ويصدق': 44, 'غراب': 101, 'وجمال': 117, 'الجاي': 65, 'الخضراوات': 114, 'المجمعات': 92, 'بسيارات': 77, 'شكلي': 9, 'صرصور': 95, 'بالكيماوي': 100, 'ويقول': 44, 'يهين': 80, 'بيعملوه': 98, 'ظابط': 112, 'شائعات': 89, 'وطيور': 81, 'ورجال': 30, 'وسياسين': 57, 'نشطاء': 30, 'تعرفي': 45, 'فالاحتلال': 0, 'الفاشي': 6, 'حبايب': 128, 'شيفنا': 0, 'لرفضه': 113, 'احتجاز': 10, 'مستشارا': 39, 'ينقل': 32, 'تعسفيا': 57, 'جليلا': 0, 'بنصر': 38, 'مظلوم': 25, 'كوارث': 4, 'والتطوع': 57, 'لذبحه': 0, 'ازمات': 89, 'اختلاق': 129, 'اخفاء': 71, 'نخبه': 120, 'لراغبين': 0, 'التطوع': 110, 'سالم': 62, 'لتقليل': 2, 'الطويل': 128, 'منجز': 3, 'زيارته': 20, 'لزرع': 2, 'والمسيحين': 11, 'خلوت': 96, 'الناظرين': 83, 'تجعل': 55, 'منطق': 126, 'يتبعه': 61, 'حقير': 3, 'تف': 42, 'قطيع': 11, 'مرضك': 115, 'وتقولي': 86, 'وتشغل': 12, 'مخك': 115, 'تبطل': 14, 'يصاغ': 0, 'الابن': 6, 'الضال': 6, 'القهوه': 114, 'ومصطفي': 49, 'ترتد': 57, 'توصف': 72, 'افاق': 4, 'ومنافق': 3, 'اسمعه': 53, 'يعلق': 119, 'قذر': 3, 'الامور': 85, 'ميسره': 117, 'ايماني': 124, 'الهري': 127, 'دخان': 18, 'نتمثل': 0, 'قنابل': 100, 'سيرهم': 0, 'بماي': 18, 'مسكني': 31, 'بالمخده': 86, 'وطقني': 0, 'ليسن': 18, 'بارد': 25, 'وماعندي': 9, 'وخنقني': 0, 'بخطف': 38, 'نتذكر': 66, 'السرايات': 37, 'الابرياء': 40, 'سلمين': 0, 'الجمل': 37, 'المسؤولين': 120, 'نحاسب': 66, 'مشكلتي': 122, 'التايملاين': 52, 'شان': 31, 'وبنفرح': 0, 'بيصدق': 7, 'وبنضحك': 78, 'نتصدق': 66, 'التخص': 0, 'وتسجيل': 113, 'المصالح': 85, 'وتقاطع': 57, 'الزيد': 34, 'التذاكر': 17, 'لسداد': 2, 'مرح': 109, 'وعرضها': 37, 'خيالي': 54, 'ديونهم': 57, 'بسعر': 99, 'لنيل': 2, 'ارشح': 53, 'المسرحي': 91, 'وشرعي': 0, 'مؤيدا': 60, 'وبقلب': 0, 'فقدانك': 20, 'امتار': 67, 'مطاردته': 20, 'زملائه': 120, 'ومحافظين': 57, 'مناصب': 89, 'بدءا': 76, 'ومستشارين': 57, 'ومساعدين': 0, 'اكتشفا': 0, 'لمتطوعين': 0, 'مفاجئه': 29, 'يرحمكم': 58, 'امشوا': 79, 'يرغب': 124, 'تجردن': 0, 'الاتي': 116, 'حبك': 54, 'قتلنا': 66, 'عانينا': 66, 'امتص': 0, 'السورين': 30, 'دمنا': 21, 'لستين': 0, 'فمتي': 28, 'قابلنا': 78, 'بالشكر': 60, 'الحروق': 114, 'ناخد': 21, 'اعلي': 70, 'والحد': 57, 'صقر': 62, 'معلمه': 97, 'واستشهدت': 0, 'دجاج': 18, 'وشوف': 86, 'اتعب': 53, 'تبكي': 72, 'موتني': 86, 'فالشيخ': 0, 'والخرفان': 78, 'الحافظ': 101, 'يقصد': 80, 'التطهير': 46, 'وهاهو': 44, 'العهد': 1, 'وينقض': 0, 'ضرائب': 89, 'نضج': 126, 'مجل': 42, 'اختصاصه': 57, 'سيعترض': 0, 'باختياره': 129, 'بكثير': 70, 'عيال': 98, 'قديم': 109, 'اماراتي': 3, 'تنكر': 72, 'العقال': 95, 'ميادين': 30, 'قعدت': 9, 'تبره': 0, 'نشرها': 26, 'لعصام': 101, 'الزمان': 54, 'الهي': 63, 'سلح': 86, 'تغيروه': 0, 'تحقه': 0, 'لعالمي': 0, 'باحبك': 78, 'صبي': 18, 'خالتي': 16, 'هندفع': 78, 'تعذبها': 72, 'مشكور': 86, 'ايراده': 0, 'العيار': 69, 'البابلي': 101, 'مستني': 112, 'كتبتها': 8, 'لعمنا': 0, 'فوتو': 59, 'مواقفه': 85, 'انضف': 70, 'هتعرفوا': 79, 'تنضام': 0, 'المليونيات': 37, 'مدحت': 49, 'يربيهم': 0, 'تمن': 78, 'محاسب': 3, 'القوصي': 101, 'جربت': 8, 'يتفرغوا': 0, 'الثقيل': 91, 'الطرق': 85, 'فياريال': 64, 'فكرتني': 45, 'لمصابين': 0, 'سهير': 16, 'حاطه': 8, 'قيادي': 39, 'جبدي': 9, 'بطيت': 86, 'ومهد': 31, 'ينتفضوا': 0, 'يسالني': 108, 'امشي': 53, 'ابراج': 77, 'السعودين': 120, 'هينزل': 7, 'ومحدش': 112, 'مونبليه': 0, 'وغطا': 117, 'بمهرجان': 76, 'فرش': 18, 'اسد': 3, 'انستجرام': 52, 'صورا': 4, 'صفحته': 52, 'العقاد': 101, 'شريفا': 103, 'امينا': 28, 'يستحقون': 87, 'البيبي': 52, 'العايله': 95, 'يوقفون': 111, 'الاسره': 92, 'اع': 42, 'وترجع': 12, 'يلتم': 31, 'لريس': 0, 'الرقم': 51, 'عجز': 104, 'وموثق': 0, 'التحيه': 60, 'التاسيسيه': 73, 'التوجيه': 15, 'التنميه': 17, 'نصيبه': 107, 'لسانهم': 11, 'تنفيس': 126, 'انفك': 81, 'غلاء': 17, 'بيعتوا': 0, 'بئك': 0, 'فيكوا': 112, 'تعيشوا': 79, 'تفتحوا': 79, 'هتقدروا': 78, 'حريتكم': 79, 'وتاكلوا': 0, 'حزنا': 103, 'متلئ': 0, 'بالورود': 81, 'لملعب': 76, 'عقدها': 37, 'ليلان': 0, 'وتيارات': 57, 'رجعيا': 0, 'متوهم': 25, 'دستورا': 28, 'اختراع': 99, 'السابقه': 29, 'دكتوره': 16, 'هبه': 16, 'المعارض': 6, 'اجمعنا': 35, 'جنتك': 68, 'بيض': 58, 'انفولو': 52, 'يتمثل': 124, 'مثاليه': 29, 'سبه': 54, 'المثاليه': 15, 'الحين': 65, 'عجبكم': 79, 'صارت': 8, 'استخدموا': 111, 'تقبيل': 20, 'الفائت': 76, 'بحرا': 81, 'جوا': 65, 'تخاريف': 78, 'بجبل': 100, 'اخلص': 53, 'الاسلامين': 30, 'ويمكن': 65, 'يلعبوا': 98, 'العمق': 15, 'يايدوا': 0, 'ومتعاطفين': 0, 'بتقول': 14, 'الناريه': 100, 'طائفيه': 126, 'اناضول': 0, 'بالاسلحه': 100, 'والحصيله': 57, 'استرها': 78, 'مالنا': 21, 'نتحيز': 0, 'لاطلاق': 2, 'ناقش': 57, 'بتنام': 12, 'صوابعه': 78, 'بقاله': 95, 'ورمت': 27, 'بيطبل': 7, 'تعود': 55, 'وميك': 59, 'تقيل': 7, 'بشراب': 0, 'تستبيح': 27, 'خداعي': 0, 'بمبسم': 0, 'باشوف': 45, 'البي': 59, 'وتشاهد': 57, 'وتقوم': 12, 'رسومها': 0, 'الدراسي': 97, 'تسيبها': 14, 'تسبيح': 123, 'يهتمون': 87, 'معايا': 112, 'الغارات': 46, 'ويظلم': 0, 'يتثني': 0, 'بديع': 101, 'سيحاكم': 57, 'المعدن': 129, 'راميريز': 64, 'بصدور': 106, 'لمعارضيه': 0, 'يولي': 75, 'وطارق': 62, 'يجرح': 75, 'الصهيوني': 48, 'ومظاهرات': 30, 'يتحدثوا': 87, 'مدحه': 33, 'سيندروم': 0, 'متنزلش': 14, 'التقرص': 0, 'عواطفك': 115, 'صان': 31, 'وستدفعهم': 0, 'ويزور': 57, 'تحرك': 27, 'الاشارات': 92, 'جماهري': 0, 'بيقولنا': 127, 'القضايا': 85, 'واصابع': 81, 'والمعنوي': 129, 'وحاكم': 57, 'فاقوس': 93, 'بالقلق': 38, 'ارتجال': 0, 'لويز': 64, 'يتوفر': 32, 'كفريق': 23, 'كبطل': 57, 'اسكندريه': 93, 'بطء': 126, 'تعقل': 72, 'البطلين': 57, 'البوس': 78, 'يحرضه': 0, 'المحافظ': 39, 'بالرفض': 38, 'نازل': 7, 'ستوكهولم': 22, 'توكيل': 73, 'ستانلي': 101, 'عبدا': 103, 'لمتهم': 78, 'العمد': 106, 'محامين': 30, 'موسي': 49, 'يزدري': 0, 'لصباحي': 0, 'عميقا': 103, 'موال': 128, 'تكونوا': 79, 'طريقي': 83, 'شعبه': 107, 'تشيك': 64, 'لح': 42, 'يضغط': 119, 'كشوف': 89, 'لاخوان': 57, 'عاكف': 101, 'شماميان': 78, 'شفيع': 31, 'قاربت': 96, 'الامل': 83, 'ابشع': 70, 'السنه': 92, 'الانساني': 91, 'قرارا': 73, 'اخوانه': 107, 'الجلف': 0, 'ناصر': 62, 'صباحك': 128, 'وعمل': 121, 'نادينا': 116, 'تفكير': 126, 'شرب': 114, 'الكافي': 91, 'الطلق': 100, 'النقي': 84, 'ليخوض': 0, 'استعد': 60, 'حربا': 110, 'وميادين': 57, 'شوارع': 77, 'وتعرف': 86, 'تقع': 55, 'الساحل': 5, 'ماكنتش': 112, 'تعتذر': 72, 'بيزنس': 59, 'مشغولا': 103, 'تزيد': 55, 'الطين': 114, 'بتشويه': 38, 'توصيفك': 0, 'تؤاخذنا': 19, 'قبلنا': 11, 'نسينا': 66, 'اشارك': 53, 'عقوباتها': 57, 'توسع': 12, 'انتخبني': 0, 'بالانسحاب': 38, 'وفكرت': 8, 'مليا': 0, 'استطلعت': 0, 'وجاء': 44, 'ودرست': 97, 'الفراغ': 15, 'ربط': 71, 'وتحدي': 106, 'المتوسط': 22, 'والطويل': 0, 'الديموجرافي': 0, 'الفاشيون': 0, 'موضوعنا': 51, 'ابين': 53, 'النقاب': 73, 'الاحتياطي': 17, 'اردت': 125, 'كتابي': 0, 'والرسائل': 37, 'تحديد': 71, 'تعجبت': 96, 'الذهاب': 20, 'النحو': 97, 'زحمه': 65, 'اجي': 9, 'اروح': 9, 'ارسم': 53, 'حزنك': 115, 'صمنا': 21, 'لمغرب': 0, 'مدفع': 100, 'صاحبته': 107, 'الريس': 49, 'اختياراتك': 33, 'المريب': 129, 'جورنال': 48, 'المعارضه': 46, 'والستريت': 0, 'وسيد': 31, 'الاعلا': 57, 'المودودي': 0, 'الرئيسي': 91, 'المصلين': 74, 'يخذلونگ': 0, 'المتميزون': 0, 'النهايه': 33, 'يسكنه': 75, 'ومو': 65, 'مادخلته': 8, 'اسبوع': 67, 'هامني': 25, 'صارلي': 9, 'المناصب': 85, 'اختلفوا': 88, 'وقولت': 45, 'بقوم': 36, 'بدوري': 1, 'تضامنه': 110, 'لتفتح': 57, 'مشرق': 128, 'لتلاحم': 0, 'واليمن': 40, 'وتونس': 22, 'الجاري': 76, 'لندوات': 0, 'ويرسمها': 0, 'يكتبها': 58, 'النشيد': 51, 'اتوبيس': 93, 'لقي': 75, 'فيوم': 78, 'مصرعهم': 10, 'تصادم': 100, 'مسير': 25, 'مكمل': 25, 'é': 99, 'è': 101, 'à': 101, 'معادي': 60, 'غلطان': 25, 'اقف': 53, 'حصله': 7, 'السلاب': 101, 'شعبيا': 73, 'وثوريا': 0, 'حكوميا': 28, 'بمرسي': 38, 'مرفوض': 129, 'المانشيت': 0, 'العلا': 31, 'سريا': 28, 'اجتمعا': 96, 'يخرفون': 0, 'خريجي': 120, 'بصدق': 84, 'ذنبي': 54, 'تويتات': 52, 'دز': 108, 'كمنتار': 0, 'اثبتوا': 111, 'كلوبيستي': 0, 'وجودكم': 79, 'جام': 59, 'تحكي': 72, 'بروحك': 115, 'بنزين': 18, 'حكومه': 89, 'احا': 127, 'هيوسع': 0, 'جلس': 119, 'بقامته': 0, 'تفه': 78, 'متحرش': 3, 'الهندسه': 97, 'بكليه': 97, 'الريان': 74, 'بمدرج': 57, 'النيويورك': 57, 'محر': 0, 'تصويبا': 0, 'الصحي': 91, 'مشكلات': 4, 'مقصود': 109, 'بالقطاع': 38, 'هنشجعك': 0, 'كسبت': 72, 'بردوا': 112, 'خسرت': 8, 'والسجان': 0, 'بطلا': 28, 'رئيسنا': 6, 'مانملك': 66, 'الحصول': 20, 'وندرك': 66, 'تحاور': 72, 'يتفاعل': 32, 'السويد': 22, 'والمصاب': 0, 'عنايت': 101, 'دايم': 65, 'يجلس': 119, 'بالحي': 42, 'ويتناقش': 0, 'الكشري': 18, 'يدعمها': 80, 'الغرور': 15, 'لمحتوي': 0, 'لباحثين': 57, 'زجاج': 81, 'يلوح': 27, 'فني': 109, 'يعرض': 32, 'القرضاوي': 6, 'تهاجم': 47, 'الحره': 76, 'مزلقان': 77, 'الحديد': 114, 'يكاد': 28, 'خذو': 79, 'نطالب': 43, 'الشتائم': 85, 'يثورون': 11, 'قلادات': 0, 'خنيث': 86, 'سحاقيات': 44, 'مخاوف': 89, 'تقل': 19, 'قضت': 47, 'تواطؤ': 126, 'نهائ': 0, 'حدها': 86, 'زم': 42, 'المرات': 92, 'ناصبي': 3, 'نقصه': 126, 'هيتعامل': 78, 'يعرفوا': 87, 'استمروا': 79, 'نهجهم': 11, 'مرادي': 54, 'والاخره': 68, 'ويسر': 35, 'نولني': 0, 'امري': 63, 'الريدي': 78, 'يستجيب': 58, 'عبدالرؤوف': 101, 'يغفرلي': 58, 'اسمعي': 108, 'المقتطع': 0, 'سياقه': 57, 'الجرعه': 37, 'انهزم': 80, 'زق': 65, 'اشرفلي': 0, 'والاخلاق': 129, 'والاهلي': 116, 'يطمن': 75, 'العوا': 49, 'رحب': 124, 'نشرته': 47, 'وغدوت': 0, 'ضميره': 107, 'ويعرف': 44, 'اسقط': 80, 'منتخبين': 11, 'القل': 83, 'بيضحك': 7, 'ادلع': 53, 'بحر': 81, 'امله': 84, 'يتحكم': 124, 'يمسك': 119, 'كلب': 3, 'وهندي': 0, 'جراد': 18, 'الجندل': 5, 'الغبار': 114, 'ابوعجرم': 0, 'قدوم': 20, 'انجاح': 71, 'وقواتها': 0, 'والتفاني': 129, 'تنسي': 72, 'البذل': 84, 'قاض': 3, 'بحكم': 122, 'تثبت': 47, 'فقبضوا': 0, 'ابلغ': 70, 'هابو': 0, 'قراء': 26, 'يطلعهم': 78, 'ونكرمهم': 0, 'الخولات': 127, 'يوصل': 119, 'وتشكيك': 106, 'لكرسي': 2, 'التحصين': 114, 'اجملني': 0, 'رجولتك': 115, 'وهبتني': 96, 'مختلفه': 29, 'فاكس': 127, 'وتواصلنا': 0, 'النادي': 116, 'البصر': 107, 'غض': 104, 'الناي': 128, 'والبنون': 117, 'يالهوي': 127, 'عازف': 101, 'والمتفوقين': 57, 'والاحرار': 30, 'والموهوبين': 0, 'والمدارس': 97, 'انتقلوا': 111, 'تحليله': 33, 'تنبهر': 72, 'تكذيب': 126, 'ظرف': 23, 'التاسعه': 76, 'نستقبل': 66, 'والربع': 86, 'ابتداء': 76, 'النصف': 13, 'سيذاع': 0, 'ينطبق': 94, 'والشام': 40, 'المجاهدين': 40, 'تدعم': 47, 'لقتال': 40, 'صحوات': 57, 'ارسلي': 108, 'وصوري': 86, 'مانشستر': 64, 'توتنهام': 64, 'بهجوم': 10, 'وتهديدهم': 57, 'بمقاضاته': 0, 'صدقوا': 111, 'اذكرهم': 11, 'ولميس': 101, 'سذج': 11, 'مكاسب': 89, 'حيتم': 78, 'لخد': 0, 'توظيفها': 20, 'طهران': 22, 'لاتعكس': 0, 'والمجموعات': 37, 'حلوين': 98, 'هيقولك': 127, 'اﻷول': 91, 'بشرعيته': 0, 'تزوير': 73, 'النتائج': 85, 'اشتراك': 52, 'استبعد': 69, 'بسط': 58, 'فليسعهم': 0, 'تسعوا': 79, 'انتحاري': 100, 'البطش': 106, 'تكفل': 43, 'توائم': 30, 'لعلاج': 2, 'زمزم': 114, 'سباقا': 28, 'لايف': 59, 'لحصول': 2, 'خدمات': 89, 'رادار': 77, 'بلغوا': 104, 'بيرسل': 119, 'يعلم': 61, 'عفو': 35, 'فاعف': 35, 'قدر': 84, 'حاسب': 97, 'الايميل': 52, 'انجاز': 23, 'يهم': 61, 'مضاوي': 16, 'الرشيد': 34, 'ابها': 5, 'موتها': 20, 'تفارقها': 72, 'ابتسامه': 83, 'تقبلها': 72, 'استقبال': 71, 'قويس': 0, 'لحاضرين': 0, 'مسؤوليتها': 37, 'حمراء': 29, 'ترتديها': 72, 'تمنعهم': 69, 'اخلع': 53, 'وطفولته': 0, 'يرحموك': 0, 'تنفقون': 0, 'وينشر': 44, 'ندرك': 66, 'فنائها': 0, 'مصنوعون': 0, 'الفناء': 84, 'دينها': 107, 'لامتنا': 117, 'العدو': 40, 'وارتكبت': 0, 'جرائمها': 37, 'عداوتنا': 0, 'السعر': 17, 'معلوماتي': 33, 'محذوف': 109, 'جعانين': 78, 'وعطشانين': 0, 'الصحراء': 22, 'نروح': 21, 'موت': 128, 'تايهين': 21, 'شافوا': 98, 'حائر': 84, 'الشاطبي': 101, 'والكاتب': 101, 'يكر': 0, 'الطرطور': 6, 'الكذاب': 6, 'باهظا': 57, 'ثمنا': 28, 'عبدالباقي': 101, 'افرجوا': 104, 'رمزي': 49, 'وتستمع': 0, 'لدفاع': 104, 'تايم': 59, 'البدء': 20, 'صحو': 128, 'اعطينا': 21, 'ايده': 95, 'تقطع': 12, 'تمد': 55, 'سيدو': 101, 'غيرگ': 54, 'منگ': 54, 'تجي': 12, 'تهدم': 55, 'كلمتهم': 11, 'نصره': 40, 'الظالمين': 68, 'اجلعني': 0, 'شحاته': 49, 'مكي': 49, 'انفصام': 126, 'وتفوق': 57, 'حاد': 109, 'وتروح': 12, 'تعزي': 31, 'البوست': 52, 'شيبسي': 18, 'يجبلي': 7, 'بيبسي': 18, 'ريح': 128, 'بتشتغلونا': 0, 'شوفه': 128, 'يكفينا': 58, 'يتحرق': 7, 'صلاتك': 115, 'بتدعيله': 78, 'مينفعش': 112, 'صراعات': 126, 'يجنب': 57, 'ستدفع': 47, 'يفقد': 32, 'ثقته': 124, 'تورينو': 64, 'الدوريات': 92, 'ايموبيلي': 0, 'شيرو': 16, 'هدفين': 1, 'يتعاون': 80, 'موتوسيكلات': 78, 'وبدا': 44, 'وسيارات': 77, 'اتصلنا': 0, 'والتفاؤل': 84, 'تغريد': 26, 'المغلوث': 34, 'تذاكر': 97, 'نسير': 66, 'دربه': 54, 'اخب': 42, 'لقميصه': 0, 'وفاء': 126, 'خلع': 71, 'وينك': 86, 'حيو': 31, 'مابي': 9, 'والسويس': 93, 'عزائي': 60, 'المناوهلي': 0, 'الدخول': 20, 'بينكر': 78, 'متصالح': 25, 'حوده': 127, 'عالمه': 3, 'باستخدام': 2, 'لشركات': 89, 'وقاعدين': 98, 'يسال': 75, 'العادين': 11, 'ياوزير': 57, 'شح': 27, 'مشكله': 4, 'والجنوبي': 0, 'والشرقي': 0, 'استحي': 9, 'والغربي': 57, 'اﻷراضي': 0, 'تبي': 65, 'الدائري': 77, 'وموقفه': 57, 'الحد': 51, 'بحرين': 31, 'الحبايب': 54, 'تقابل': 72, 'موكلتي': 0, 'متجد': 0, 'هايد': 59, 'راد': 25, 'امره': 107, 'يجهل': 94, 'يفعل': 61, 'غالب': 58, 'يعلمون': 87, 'هيموتوا': 98, 'وقعوا': 111, 'باعتاه': 0, 'المعتاد': 91, 'الشئون': 92, 'تشاور': 72, 'ود': 42, 'لبيت': 31, 'لوله': 31, 'مسارنا': 0, 'انجزنا': 57, 'سؤالك': 33, 'مفي': 78, 'نزلنا': 21, 'سيك': 59, 'تعلمنا': 66, 'لعدله': 0, 'سيمنعه': 0, 'يمعن': 0, 'بتونس': 93, 'اقلها': 0, 'تنسب': 60, 'الزلازل': 114, 'ويجد': 44, 'قالها': 108, 'افلا': 36, 'شكورا': 103, 'سعادته': 107, 'ليخبرنا': 0, 'يكسفك': 0, 'وخليك': 127, 'واقتباس': 0, 'الريحاني': 101, 'دانتي': 127, 'مقرات': 89, 'لاخلاء': 2, 'الشق': 31, 'مفروش': 77, 'تخزين': 71, 'ومنشورات': 57, 'مدرسين': 97, 'ﺃﺟﻬﺰﺓ': 0, 'يحاسبني': 94, 'اغتبت': 96, 'يصدقها': 61, 'دارت': 8, 'تمثيليات': 37, 'الشيط': 0, 'اوراق': 4, 'سالمه': 117, 'دعائكم': 63, 'فقيره': 29, 'ورجعها': 0, 'ادعولها': 78, 'بعمرها': 117, 'رفا': 0, 'وعافيها': 117, 'تبسمك': 0, 'شتائم': 126, 'تنفتح': 12, 'صفائح': 81, 'وتنهمر': 27, 'بنقد': 129, 'مرتاح': 25, 'الدونيا': 127, 'الاخره': 68, 'تاكل': 12, 'كزم': 0, 'يحملون': 87, 'العفيفات': 106, 'بنشر': 38, 'نعلن': 50, 'الطاهرات': 11, 'ويؤذون': 0, 'شرعيو': 0, 'ويوما': 28, 'يهون': 75, 'مبادئنا': 129, 'والبي': 86, 'سنظل': 66, 'عرفنا': 50, 'احرقوا': 111, 'اقتلونا': 0, 'مقراتنا': 0, 'تحرقوا': 78, 'والبرهان': 129, 'تقتلوا': 19, 'بالسفاره': 38, 'اهتم': 124, 'اهتمامه': 33, 'محدوده': 29, 'السبكي': 49, 'والضباط': 30, 'والجنود': 30, 'يحاولون': 87, 'يديني': 54, 'تسد': 12, 'ويديكم': 0, 'ونتظر': 99, 'شيخه': 16, 'سم': 42, 'لتقويض': 57, 'استقلاله': 57, 'نزيها': 57, 'ونرفض': 113, 'تحقيقا': 89, 'نحرص': 94, 'ودلال': 16, 'مخيون': 101, 'تو': 59, 'هيحبك': 7, 'هيوجع': 78, 'طاهر': 101, 'زيد': 62, 'ايقافه': 20, 'ساعتان': 67, 'الحركات': 85, 'لحقت': 8, 'قادوا': 111, 'ويدرك': 129, 'واجبه': 129, 'دقيقه': 67, 'تعقد': 47, 'صداقه': 4, 'تخسرها': 72, 'لراحل': 0, 'المتسامح': 129, 'الانس': 68, 'المحاور': 85, 'المقاوم': 6, 'فلاجيل': 0, 'وكابد': 0, 'النوبي': 101, 'وشريط': 0, 'التركين': 0, 'التمليح': 0, 'وتوكل': 94, 'الفسيخ': 114, 'ومادراك': 0, 'تعقيدات': 4, 'بيبقوا': 98, 'بيحبوا': 98, 'مكرم': 49, 'تحتويه': 27, 'قسوته': 83, 'والصبار': 27, 'حشود': 100, 'ومعداته': 0, 'نصفها': 28, 'سينتخب': 0, 'مشكوك': 124, 'يدعمون': 111, 'زهر': 128, 'عيناك': 83, 'نجمتان': 81, 'الصمت': 15, 'الهو': 78, 'تذكرين': 108, 'روستي': 0, 'دمر': 80, 'يقيم': 32, 'موسيقي': 99, 'موسيقا': 128, 'وقدره': 84, 'تستخدم': 55, 'وشره': 84, 'خيره': 63, 'الرصيف': 95, 'بتعب': 9, 'بيتكنس': 0, 'الرغيف': 114, 'التنس': 1, 'انضميت': 60, 'لحبيب': 0, 'بيضيفوا': 0, 'افتخر': 124, 'المبا': 0, 'وساخه': 126, 'عدوهم': 40, 'الانصراف': 20, 'المنفتح': 129, 'يستكمله': 0, 'سيتحول': 80, 'دوره': 97, 'كارنيجي': 59, 'الدراسات': 92, 'تفوز': 72, 'بانفجار': 100, 'انهياره': 20, 'الغلط': 33, 'اتقفلوا': 0, 'تقفل': 12, 'بنعيد': 21, 'طباعه': 71, 'تيشرتات': 18, 'المواهب': 92, 'لاكتشاف': 2, 'دوام': 97, 'بنحبها': 21, 'هتفضل': 14, 'والقيادي': 101, 'زهران': 62, 'الاداه': 92, 'اليك': 63, 'معاملت': 0, 'اساء': 60, 'تحسن': 55, 'مبادرات': 89, 'استبدل': 27, 'بحذف': 38, 'التشريع': 73, 'نوت': 59, 'الصفحه': 92, 'اتولدت': 45, 'هتكره': 78, 'مروجي': 106, 'وربنا': 112, 'الاشاعات': 85, 'وعدني': 54, 'بالعيال': 78, 'اليومين': 112, 'الاسرائيلي': 48, 'ترغب': 125, 'قلوبكم': 83, 'صباحكم': 117, 'والتوفيق': 63, 'تمطر': 27, 'والدعوات': 117, 'تحبون': 79, 'انعي': 0, 'محي': 101, 'تاريخنا': 40, 'المناضل': 6, 'لتنديد': 0, 'قيود': 126, 'الراحمين': 102, 'مسني': 102, 'هربا': 69, 'لماضي': 0, 'حنينا': 28, 'تزداد': 55, 'ناهيك': 104, 'اختيارين': 84, 'الذ': 70, 'يومهم': 11, 'التف': 42, 'تنضف': 14, 'اجري': 94, 'واقوله': 86, 'نذيع': 78, 'رمي': 80, 'اتصورت': 45, 'هامه': 29, 'ولحقت': 0, 'لقريب': 57, 'غالي': 25, 'استنتاجك': 0, 'لتكاتف': 0, 'يبعتلي': 7, 'سمعته': 108, 'اتحداك': 65, 'تنام': 12, 'سادات': 31, 'وراه': 65, 'كلمتي': 101, 'مطالبه': 43, 'ورحيل': 106, 'بادر': 121, 'جربوا': 79, 'الاستماع': 20, 'مخدتي': 9, 'هاتو': 79, 'اخواتنا': 98, 'اختبارات': 97, 'لرفضهن': 0, 'ينفذون': 111, 'مسئوليتي': 94, 'الاعتذار': 15, 'اعتذرت': 108, 'وبرنامج': 99, 'الامني': 91, 'التضيق': 57, 'يخرجون': 87, 'تنمل': 8, 'احس': 122, 'ركبتي': 95, 'بتخاف': 14, 'غاويا': 0, 'مندوبتنا': 0, 'كدب': 127, 'حركات': 4, 'مادخلتش': 78, 'ليسيه': 0, 'تعملوا': 79, 'ترتيبات': 89, 'منشن': 52, 'ليها': 112, 'تستحقها': 72, 'وبرجاء': 0, 'ايديك': 54, 'العباطه': 0, 'كتبهولك': 78, 'بنصيبك': 84, 'شقير': 62, 'سميح': 101, 'سجا': 0, 'القبر': 68, 'رضي': 24, 'اذكروا': 58, 'تظن': 122, 'مزيدا': 13, 'اكتسب': 69, 'خامنئي': 48, 'ارهابين': 11, 'لارهاب': 2, 'عيار': 18, 'السوق': 95, 'جنيها': 13, 'واصلت': 47, 'يراه': 61, 'فانهض': 0, 'المفاتيح': 92, 'تمتلكون': 0, 'ياشرفاء': 57, 'الانقلابيون': 30, 'سيدرك': 69, 'عضلات': 114, 'انفسنا': 66, 'دفع': 71, 'نحرم': 66, 'والاستكبار': 0, 'لكبر': 57, 'بجاتو': 101, 'حاتم': 62, 'لعدول': 0, 'لتحريضهم': 0, 'ساده': 79, 'قتلوه': 111, 'عيالك': 86, 'وبحبك': 78, 'بملوي': 0, 'حدش': 112, 'نقطه': 4, 'نصيف': 101, 'اﻻحبه': 0, 'اﻻخوان': 40, 'بتحالف': 57, 'ومضمونا': 0, 'تشمل': 47, 'تعديلات': 89, 'فهمي': 49, 'الظفيري': 34, 'اغلاق': 71, 'يتحق': 0, 'نحلمه': 0, 'قلوا': 78, 'خلينا': 21, 'ومياده': 0, 'نتعرف': 21, 'اشتموا': 78, 'هيموتك': 0, 'تموته': 78, 'خصم': 17, 'غشيم': 25, 'يتزوج': 107, 'يشتريها': 80, 'يملك': 61, 'يعتبرون': 87, 'جسد': 81, 'وكانه': 44, 'يحلو': 61, 'ترديد': 26, 'انحسرت': 0, 'نظيف': 109, 'تصرخ': 12, 'خبز': 18, 'تجاعيد': 81, 'ﻟﻮ': 82, 'ﺣﺴﻨﻲ': 0, 'ﻛﺎﻥ': 82, 'ﻣﺒﺎﺭﻙ': 82, 'ﺍﻟﻌﺎﻟﻢ': 82, 'ومزعله': 0, 'نحس': 21, 'يهزه': 61, 'اخلاقهم': 11, 'حرج': 126, 'والدينا': 68, 'لوجهك': 63, 'واحراق': 100, 'الغاشم': 40, 'والمنازل': 57, 'وشعب': 40, 'بوست': 52, 'هافينجتون': 0, 'احبك': 54, 'لاصلاح': 2, 'والانحياز': 0, 'الخطوات': 85, 'شوفتوا': 127, 'تسترد': 55, 'عافيتها': 63, 'يؤجل': 113, 'اليبي': 57, 'طلبت': 8, 'ردا': 94, 'رماني': 75, 'اتعاطف': 53, 'احاول': 9, 'واستخدم': 44, 'اسرتي': 37, 'لخطر': 2, 'والكفر': 106, 'المعالم': 85, 'الدبش': 78, 'باحث': 3, 'وحماس': 110, 'رصاص': 100, 'الحشود': 85, 'وخرطوش': 78, 'سنتصر': 0, 'ينكسر': 75, 'وغاز': 100, 'صفرا': 81, 'اركان': 129, 'سويا': 66, 'تعليقاتكم': 26, 'ويخاطب': 57, 'ليظهر': 44, 'ستحرك': 0, 'لمدنين': 0, 'واتسائل': 0, 'فعليا': 37, 'الجرائد': 92, 'المزايده': 126, 'يدينها': 95, 'موقفنا': 73, 'ثابت': 109, 'المحاكمات': 46, 'العسكريه': 46, 'اسميها': 53, 'مسمي': 126, 'الفا': 13, 'حافتح': 0, 'النفق': 51, 'الصف': 51, 'الشوال': 78, 'دومينيك': 64, 'تستعد': 47, 'حوراني': 16, 'بتركيا': 57, 'لايحترم': 80, 'موعده': 73, 'ذكاء': 126, 'مضمونه': 29, 'طبي': 97, 'مشاركته': 110, 'اختبار': 97, 'شعارك': 115, 'نحفل': 78, 'نتائجها': 37, 'بيقوله': 7, 'تصح': 72, 'والفنان': 101, 'سرايا': 100, 'نذكر': 66, 'تمت': 47, 'بعقوبات': 38, 'وميركل': 57, 'قسام': 0, 'باستقرار': 38, 'العسيلي': 101, 'ابنا': 11, 'دهاني': 0, 'والقضاء': 106, 'قدمتهم': 0, 'ندع': 66, 'اوكرانيا': 22, 'حرقوا': 111, 'الدولارات': 92, 'ودفعوا': 57, 'بصحف': 0, 'بالارهاب': 38, 'اعلانات': 52, 'مليحا': 28, 'اقلب': 53, 'تدلا': 0, 'مقبلا': 28, 'فندق': 77, 'تحتار': 72, 'صد': 54, 'الملاح': 31, 'تلقاهم': 98, 'المات': 0, 'الخشب': 114, 'امسك': 53, 'سلموا': 111, 'تسلي': 128, 'واي': 59, 'نقد': 126, 'والاعتراض': 129, 'المليء': 124, 'مفلسين': 11, 'فالمرء': 107, 'ومنتم': 0, 'العمومي': 91, 'المنظمات': 92, 'معتقلي': 30, 'نداء': 60, 'الضمائر': 37, 'قاموا': 111, 'اجتماعات': 89, 'تمديد': 71, 'نصيبا': 63, 'اجعل': 35, 'تعلق': 124, 'بيعاكس': 127, 'بتهزء': 0, 'متعرفهاش': 14, 'ماهو': 54, 'اخطب': 108, 'تمامك': 78, 'بقيام': 38, 'زميله': 6, 'ويتحدث': 104, 'بتوزيع': 38, 'الاستمارات': 37, 'لتجنب': 2, 'مبسط': 109, 'مطبوعات': 57, 'كمستشار': 57, 'الصفر': 17, 'هيحاسبنا': 78, 'هنرجع': 21, 'التنازلي': 91, 'بالانتخابات': 38, 'صليب': 101, 'اسيو': 0, 'كتاباته': 33, 'والتسامح': 84, 'ستفتقده': 0, 'وحب': 84, 'تعلمت': 122, 'جزءين': 0, 'الاغبياء': 11, 'باسقاطه': 57, 'الاغنياء': 11, 'انقسم': 80, 'والفقراء': 11, 'بديلا': 28, 'لاتستطيع': 125, 'لايرضون': 11, 'بدنياهم': 0, 'تعليقات': 99, 'جيتار': 59, 'التنوير': 15, 'سمعنا': 50, 'بدا': 44, 'سيدفعون': 57, 'بالتزوير': 73, 'الطعون': 54, 'نتيجتها': 37, 'سلفا': 37, 'تستدرج': 57, 'بتصير': 12, 'باص': 77, 'ليبرال': 11, 'قدنا': 21, 'وحوادث': 106, 'بيدرعمون': 0, 'تقود': 47, 'طالبات': 97, 'مصايب': 65, 'ويقولون': 86, 'ماوصلت': 8, 'استغرق': 96, 'لفضاء': 0, 'وهبوطه': 0, 'فحافظ': 94, 'فيليكس': 59, 'نجاحات': 4, 'لمرشحين': 57, 'المقاعد': 92, 'وانتهاكات': 106, 'المرض': 114, 'المخرج': 6, 'الكراسي': 95, 'الاستهبال': 15, 'اتمسح': 78, 'وربيع': 31, 'وعطيه': 0, 'حطوه': 119, 'جيوب': 81, 'سعر': 17, 'البنز': 23, 'روحاني': 48, 'يتقمص': 80, 'سائح': 3, 'ريغان': 0, 'ولوقف': 0, 'وخطر': 106, 'لوضوح': 0, 'تمر': 12, 'مصدق': 25, 'الخايب': 31, 'ومان': 0, 'هاهاهاها': 127, 'وسياس': 0, 'تاريخيا': 28, 'الطائر': 6, 'تبر': 72, 'نفرط': 66, 'قمر': 128, 'لسكان': 2, 'تحلمين': 124, 'لكنني': 90, 'ضنين': 31, 'زلت': 90, 'جويده': 101, 'حنيه': 128, 'قص': 42, 'بخمس': 67, 'ياعش': 0, 'صميم': 31, 'والمحاكم': 57, 'طالع': 119, 'بتخطف': 78, 'انتماؤه': 0, 'ويحرض': 106, 'الاتجاهات': 85, 'والسلفين': 78, 'توكلنا': 123, 'بالانجليزي': 59, 'مافيهاش': 14, 'نصت': 94, 'الاجراءات': 92, 'سمات': 129, 'تعاين': 78, 'مجهولين': 100, 'ملاكي': 16, 'لمعاذ': 62, 'يافلاح': 0, 'امال': 127, 'هيفا': 16, 'ياحمار': 86, 'الدرديري': 101, 'الغرقا': 128, 'يازمان': 31, 'جادك': 0, 'الغيث': 63, 'كسرنا': 21, 'حقوقنا': 85, 'حرياتنا': 0, 'يجهض': 57, 'سنسقطه': 0, 'تركن': 72, 'فتخمد': 0, 'قلوبكن': 0, 'ينسب': 32, 'محطات': 4, 'بفلوسه': 78, 'محسوبين': 11, 'فسيولوجي': 78, 'الوحده': 85, 'المجنون': 6, 'ورموني': 0, 'علموني': 9, 'واختاروا': 57, 'سابوني': 78, 'ولوحدي': 0, 'وربطوا': 0, 'وعيشوني': 0, 'الحاج': 101, 'لميادين': 57, 'لنخرج': 57, 'رسام': 3, 'راسم': 31, 'مروان': 62, 'ينعي': 39, 'انقطعت': 8, 'انصرهم': 35, 'ضاقت': 96, 'فافتح': 35, 'بابك': 54, 'السماء': 68, 'الركوع': 118, 'الشامي': 34, 'بالمهندسين': 77, 'تبرعات': 89, 'حظروا': 0, 'رنوش': 16, 'بعمرنا': 0, 'موافقني': 78, 'ياجماعه': 79, 'المهرجان': 51, 'بيحصل': 7, 'التصنيف': 51, 'هيضر': 78, 'اخترقنا': 0, 'نحتمي': 27, 'نحميهم': 0, 'لمسؤول': 57, 'ضعفنا': 68, 'والمستشفيات': 37, 'فتكتب': 117, 'سيصوت': 57, 'محاضرات': 97, 'يتلقي': 32, 'لعرص': 0, 'سكن': 128, 'موصول': 60, 'لتواجدك': 0, 'وبالتوفيق': 60, 'والشكر': 60, 'بار': 59, 'التطوير': 17, 'لهفي': 31, 'تمثال': 77, 'عبدالظاهر': 49, 'وفدا': 39, 'تابعا': 28, 'بصفته': 39, 'بوزير': 39, 'سيستقبل': 57, 'تشترك': 72, 'لعام': 76, 'زوروا': 26, 'هيفوتو': 0, 'هيتفرج': 78, 'الفديو': 51, 'بتشقي': 0, 'بتكنس': 0, 'بشعبه': 38, 'استهان': 124, 'لعشيرته': 0, 'كذابي': 0, 'وقر': 35, 'يدفع': 32, 'دفعا': 129, 'ينتج': 104, 'استعماله': 20, 'حدوثه': 20, 'تطمئن': 123, 'القان': 0, 'يسكنها': 27, 'موريتانيا': 22, 'تكونت': 96, 'قدرتنا': 94, 'محبوسين': 98, 'وقفني': 78, 'تجيبه': 12, 'ساكن': 25, 'سواق': 18, 'يابيه': 127, 'ومتغاظ': 0, 'سنقت': 0, 'كاشخه': 65, 'عشره': 67, 'الجزءالسادس': 0, 'النيو': 59, 'يورك': 59, 'تاكدت': 122, 'كائن': 3, 'بشري': 16, 'سراح': 10, 'يتعهد': 43, 'باطلاق': 38, 'وتف': 42, 'مربع': 77, 'نبل': 129, 'مواقفك': 85, 'الفيديوهين': 0, 'يبطلوا': 98, 'لقهره': 0, 'لحوائط': 0, 'برهان': 126, 'ﺣﻤﺰﺓ': 0, 'ﻧﻤﺮﺓ': 0, 'ﻣﺠﺮﻭﺡ': 0, 'وجنوده': 11, 'شاركت': 47, 'ترخيص': 89, 'كويتين': 11, 'يصلوا': 94, 'حصلوا': 111, 'تطوع': 121, 'يديو': 0, 'نفتح': 21, 'عينينا': 21, 'مشروعات': 89, 'والكادر': 57, 'قوان': 0, 'خوفك': 115, 'رغبتك': 115, 'بيسال': 7, 'ياباسم': 78, 'قولناله': 0, 'قالنا': 78, 'اسمع': 53, 'النعمه': 107, 'مصيبه': 126, 'تقربك': 58, 'سيطر': 94, 'لشر': 19, 'الحريم': 95, 'يتشطر': 78, 'حضر': 75, 'وع': 42, 'اتجبر': 0, 'الفراخ': 114, 'الاختيار': 15, 'بورما': 40, 'هہ': 42, 'سلمهم': 11, 'عجوزي': 0, 'بتاعك': 127, 'ابوظلك': 0, 'هكتبه': 78, 'يهمل': 19, 'اشتون': 48, 'قاتله': 29, 'يمهل': 58, 'يكتبه': 58, 'التصميم': 51, 'الميداني': 100, 'المعجبين': 120, 'صديق': 3, 'بائع': 81, 'بلسان': 57, 'ليقاتل': 57, 'جنوده': 30, 'العصابات': 46, 'شجاعته': 107, 'فيستشهد': 0, 'وتفانيه': 0, 'مكتبته': 0, 'تظل': 55, 'وحرص': 129, 'بريال': 18, 'الاستشارين': 0, 'الموحد': 91, 'الصلح': 110, 'يتصالح': 80, 'ويعود': 44, 'لصف': 0, 'يجلب': 32, 'يزيل': 27, 'ترفعه': 72, 'بفرج': 63, 'ارجوا': 125, 'سيقر': 57, 'ريك': 42, 'انقلا': 0, 'يهودي': 3, 'ياعمي': 86, 'ابعتي': 45, 'نرجع': 21, 'ليصمت': 28, 'سلم': 24, 'فليقل': 41, 'اخليك': 65, 'ذاقوا': 111, 'الاصناف': 92, 'فوداف': 0, 'يطرق': 27, 'مقرفين': 11, 'درع': 39, 'محجبات': 98, 'بيتم': 113, 'بمسيحيه': 0, 'الدبابات': 46, 'قاومت': 96, 'حلق': 81, 'بالسكين': 107, 'التنين': 127, 'جن': 42, 'اليالي': 54, 'تحفل': 72, 'يدوم': 61, 'بقرب': 38, 'بعاد': 54, 'الوداد': 1, 'وتكسب': 117, 'المحل': 95, 'وبتبيع': 0, 'وتقدير': 60, 'بالكثير': 38, 'حارق': 25, 'تداول': 71, 'كمصدر': 129, 'بمبادئ': 129, 'لمكانه': 129, 'ويسلم': 44, 'بناءا': 94, 'دمار': 106, 'دينيس': 64, 'القهر': 54, 'هيكسبوا': 78, 'لشارع': 77, 'وسلمتها': 0, 'وشاهد': 99, 'لتساؤل': 0, 'بيونغ': 48, 'يانغ': 48, 'تردح': 78, 'الست': 16, 'راقيل': 0, 'زمانا': 78, 'بيشتمهم': 0, 'بيشتموه': 78, 'بوذ': 0, 'وتخريب': 106, 'يعتبروك': 0, 'هالصوره': 52, 'والوحيد': 129, 'والسب': 106, 'فج': 42, 'انما': 84, 'لجمهوره': 116, 'ادهم': 101, 'منغني': 0, 'نابلسي': 101, 'مايا': 16, 'رواي': 42, 'سنترال': 77, 'القبه': 93, 'لعوده': 2, 'نطاق': 129, 'النمنم': 101, 'خطوات': 4, 'لتمكين': 2, 'الجوري': 0, 'تنهمر': 27, 'لسحب': 2, 'تهزمكم': 0, 'تدفق': 71, 'اقول': 108, 'اسلكلك': 0, 'بسلم': 86, 'عبدالعزيز': 62, 'بصدقه': 41, 'يحميك': 58, 'يانجم': 78, 'ومبروك': 60, 'بتاعكوا': 127, 'مافيهوش': 7, 'يكونوا': 87, 'غبار': 128, 'وتزحف': 0, 'حائل': 5, 'يتغيب': 104, 'وكريستيانو': 64, 'احتياطا': 0, 'المرتقب': 91, 'بيل': 64, 'لحفظ': 2, 'امطرونا': 0, 'نستضيف': 57, 'منزلا': 13, 'وطنا': 28, 'تنفس': 128, 'الفجور': 15, 'ويتخذ': 57, 'الناشطين': 120, 'السينما': 92, 'اترك': 53, 'استحقاقات': 57, 'يحتكر': 80, 'والتحول': 129, 'بظهر': 63, 'حساسه': 29, 'انسي': 53, 'شخصيه': 4, 'اسامح': 53, 'صغيره': 29, 'زعلي': 54, 'بكلمه': 33, 'وبشيل': 0, 'بزعل': 9, 'كنوز': 70, 'كنز': 36, 'زاهر': 49, 'هدفه': 23, 'والجديده': 37, 'بتنظيم': 38, 'لملابس': 57, 'لتبرع': 57, 'نبني': 66, 'جذور': 81, 'ومكتفين': 0, 'لفض': 2, 'بتطلع': 14, 'اتوستراد': 0, 'يتوسط': 80, 'بئر': 77, 'يثير': 32, 'والفيديو': 99, 'العليمي': 49, 'هيمشي': 7, 'ائتلاف': 39, 'العشرين': 67, 'قطري': 3, 'رومنسي': 109, 'انحراف': 126, 'معاكس': 109, 'تابعت': 8, 'سيتقدم': 57, 'وصفحات': 57, 'تناقله': 57, 'الغادرون': 0, 'تسيل': 27, 'طعنه': 54, 'لحيته': 107, 'وبيتمنوا': 0, 'بتسميهم': 0, 'يستبد': 27, 'بيحترموه': 0, 'المجهول': 15, 'قبر': 81, 'عبور': 20, 'الزهور': 81, 'نظرا': 60, 'بالتحرير': 93, 'سيكتشف': 57, 'تفاوض': 110, 'لضمان': 113, 'كراسيهم': 11, 'قياداتها': 37, 'دماءهم': 40, 'بالدم': 114, 'مرصد': 76, 'استخداما': 99, 'ادانات': 57, 'البيضاء': 76, 'لسقوط': 2, 'ميكروباص': 93, 'والمال': 129, 'تشدق': 0, 'احاكمه': 0, 'بالسيسي': 38, 'عبيط': 127, 'جاوب': 108, 'الغروب': 128, 'الحرير': 81, 'معجون': 18, 'بالتمرد': 57, 'رائحته': 81, 'ملح': 18, 'صدح': 27, 'بفتنته': 0, 'قدرته': 94, 'كحل': 128, 'جلت': 63, 'سرح': 75, 'شغالين': 98, 'والنور': 31, 'والطير': 81, 'طلعته': 8, 'لمولي': 0, 'اوضاع': 89, 'يقم': 43, 'اهبل': 127, 'استبدلنا': 124, 'ياناس': 86, 'حمضين': 78, 'كيري': 48, 'لمنع': 113, 'بتسليم': 38, 'درصد': 0, 'تهران': 59, 'ماه': 42, 'شهردار': 0, 'عبدالرحيم': 62, 'تجميع': 71, 'الفنون': 92, 'تعلمناه': 66, 'الفن': 15, 'المصطفي': 24, 'وفض': 57, 'التجس': 0, 'لتوثيق': 2, 'دعاوي': 89, 'البيان': 51, 'هينام': 7, 'عروض': 77, 'استغرابه': 0, 'محافظتنا': 0, 'حقوقهم': 40, 'وزرائه': 73, 'قائدها': 6, 'تركع': 55, 'والامارات': 22, 'خفوا': 79, 'سيضع': 80, 'بمعني': 33, 'امه': 107, 'يدعي': 80, 'الوطنيون': 11, 'بالتنصت': 57, 'والمشروعات': 57, 'مؤكدا': 113, 'التقيت': 124, 'حامد': 62, 'انتزعت': 96, 'الاوسط': 48, 'وحزب': 58, 'نتهم': 66, 'عطفك': 54, 'بحالي': 54, 'سواح': 31, 'ليالي': 128, 'داري': 25, 'لاخوي': 34, 'شاله': 86, 'شافني': 9, 'شايله': 8, 'التخابر': 73, 'بيوجعك': 78, 'اوغاد': 11, 'ومكان': 129, 'تختارين': 72, 'وسيم': 101, 'لتطبيق': 2, 'بتذكيرك': 0, 'صدرك': 83, 'بفحص': 38, 'مثقف': 3, 'ومتفتح': 0, 'جيل': 23, 'ويحسن': 117, 'نجس': 3, 'التدويل': 0, 'واحتمالات': 57, 'الظالم': 107, 'دفعت': 47, 'ثورتك': 37, 'بلاء': 63, 'خلقك': 63, 'تبسطه': 63, 'اجعلني': 35, 'تكشفه': 72, 'يال': 42, 'تقسمه': 63, 'تنشره': 72, 'اكياس': 18, 'يشتروا': 98, 'يساعدهم': 11, 'جزاه': 58, 'الاعتراف': 20, 'نعترف': 66, 'يطلبون': 87, 'وسنخرج': 0, 'استرداده': 0, 'الهارب': 6, 'لسيد': 101, 'حجاب': 126, 'وميشيل': 0, 'مانيفستو': 0, 'واسماعيل': 101, 'الحلو': 65, 'تروي': 27, 'والدي': 68, 'اختي': 16, 'حيا': 103, 'تقمص': 129, 'يدب': 27, 'كائنا': 103, 'بصره': 107, 'الشارخ': 0, 'يوقفه': 80, 'فرز': 71, 'والدتي': 16, 'مهندسين': 97, 'يكتبو': 98, 'دعوت': 63, 'السعاده': 83, 'لايمس': 0, 'ثغرك': 83, 'مقراتكم': 0, 'بيعارضوا': 0, 'تحرق': 12, 'فعلك': 115, 'التويبس': 98, 'دراستها': 97, 'التجاوزات': 85, 'قارئ': 26, 'اضحك': 53, 'وابنته': 10, 'وزوج': 16, 'ابنته': 107, 'تنتظر': 55, 'ومنا': 60, 'ميلاد': 16, 'مازالنا': 0, 'الرؤوس': 114, 'اصابات': 100, 'لاهيا': 100, 'اهطل': 127, 'ويريد': 125, 'استكمال': 71, 'تجريم': 73, 'زال': 61, 'سجده': 63, 'حقيقيه': 29, 'قصه': 4, 'يحكي': 75, 'وقرعت': 0, 'تغليب': 129, 'بتعديل': 38, 'المهندسين': 120, 'اهتف': 124, 'طريقنا': 66, 'سلميتنا': 78, 'لنصر': 57, 'الكبريت': 114, 'عقليا': 3, 'مايطلعش': 78, 'وعلب': 0, 'مختل': 3, 'الولاعات': 0, 'وصور': 99, 'الطباخ': 6, 'وخبيت': 117, 'احذروا': 69, 'الاولتراس': 93, 'مقدميها': 0, 'نضم': 21, 'المتعصبون': 11, 'اكثرهم': 36, 'يحذو': 57, 'ويقوم': 44, 'حذو': 57, 'يرشح': 32, 'مصيره': 107, 'عائ': 42, 'نتوقف': 50, 'مقاومته': 20, 'يستقر': 32, 'يثور': 80, 'تحيه': 60, 'المسلحه': 46, 'استشهدوا': 111, 'انور': 62, 'كرامتها': 107, 'راهنت': 94, 'نبدء': 0, 'طلبوا': 111, 'والان': 44, 'موقفهما': 0, 'والثاني': 44, 'الناصريون': 0, 'حليفه': 57, 'وتقبل': 117, 'مقيم': 3, 'ذريتي': 68, 'جرالنا': 78, 'اصدقك': 53, 'اسالك': 35, 'بتحبني': 45, 'والترصد': 57, 'يفلح': 61, 'سيقود': 80, 'رقابي': 57, 'سيعين': 57, 'يعترض': 80, 'التظاهره': 37, 'التوافق': 110, 'مسار': 129, 'ايقاف': 71, 'والتاكيد': 57, 'المحاكمه': 73, 'مقترنه': 0, 'مطلبي': 54, 'مشاركه': 71, 'مثواه': 68, 'نودع': 66, 'فقيد': 31, 'نقدمه': 60, 'لقلمه': 0, 'يتغزل': 124, 'النقل': 17, 'مجديا': 0, 'يوقر': 0, 'وتكون': 44, 'بيك': 127, 'يقويك': 58, 'قوس': 81, 'اقترح': 113, 'جميلك': 115, 'حيات': 42, 'والقمع': 106, 'بتخلص': 8, 'ماشوفتكش': 0, 'بسلاح': 100, 'الصكوك': 37, 'والقفا': 0, 'تعدت': 8, 'نرحم': 66, 'صدورنا': 68, 'نتقابل': 21, 'ميعادانا': 0, 'احيانا': 33, 'اقولهالك': 45, 'حاشد': 30, 'ستقدم': 47, 'بترابط': 0, 'جروب': 52, 'المشار': 60, 'الجروب': 52, 'هانكس': 59, 'النجم': 116, 'سبيلبرج': 0, 'وستيفن': 0, 'قولهم': 11, 'بلغت': 96, 'تراهن': 94, 'وتحمل': 117, 'تطهيرها': 20, 'تحميك': 55, 'شعبك': 40, 'فاشهد': 0, 'فرزات': 101, 'وسميح': 0, 'الجبين': 81, 'مبدعون': 30, 'السوريون': 30, 'الاوسكار': 59, 'ياخد': 7, 'السلع': 92, 'كنج': 59, 'بكﻻمك': 0, 'كائنات': 4, 'قلع': 78, 'قلتلهم': 78, 'شم': 42, 'مفكرين': 98, 'شرابه': 31, 'الفضائيه': 99, 'النسيم': 128, 'هيحاكم': 78, 'هلعب': 45, 'الاسود': 81, 'مفشوخ': 127, 'مقالات': 4, 'تستفد': 0, 'لحسن': 78, 'توحدت': 96, 'دعوتك': 63, 'طاعتك': 68, 'محبتك': 54, 'التقت': 96, 'شريعتك': 0, 'تعاهدت': 0, 'همو': 78, 'بالتحقيق': 38, 'تقام': 47, 'ومايو': 0, 'فافعل': 121, 'تستطع': 125, 'تهبه': 0, 'لغصون': 0, 'والشجر': 81, 'يكلفك': 61, 'مثيل': 60, 'سيشهد': 47, 'وتربطنا': 0, 'المحلي': 91, 'سكري': 18, 'انتحار': 10, 'فجائي': 0, 'مسلحه': 46, 'داعم': 60, 'بيشجع': 7, 'اوكرانيه': 57, 'الدب': 6, 'جماعات': 89, 'اعد': 53, 'والمهمشين': 57, 'المقهورين': 11, 'والضعفاء': 11, 'انقاذ': 10, 'ومفيش': 112, 'موارد': 89, 'المبادرات': 92, 'الصبيه': 37, 'شاهده': 94, 'اتصور': 53, 'اسو': 59, 'مافيا': 57, 'الفعال': 91, 'بدايتها': 29, 'تذكرو': 79, 'سبرزكي': 0, 'حبه': 54, 'هيزيدو': 0, 'الرسل': 41, 'اخبروه': 122, 'حكيم': 3, 'برنامجك': 51, 'نصاب': 3, 'معتمدا': 94, 'جمهوره': 116, 'ينصب': 80, 'ويكملها': 0, 'جريمته': 107, 'تختار': 72, 'مطروحا': 0, 'يغفرها': 58, 'يستقل': 80, 'تمهيدا': 113, 'ويتفقد': 57, 'لمترو': 77, 'تباطؤ': 57, 'اسرع': 70, 'لحجز': 2, 'الحجز': 17, 'الموقع': 51, 'اتكلم': 53, 'قيمك': 115, 'رواج': 0, 'بتقيس': 78, 'اسقطوا': 111, 'يحرقكم': 58, 'عربيه': 22, 'اتحرقت': 14, 'بتعرف': 14, 'زحام': 128, 'فسيفساء': 57, 'قحط': 0, 'التكفير': 15, 'تزويره': 57, 'صناديق': 89, 'سيدفع': 32, 'ارتكبوا': 111, 'يخالفهم': 11, 'تركوه': 111, 'سرقت': 96, 'وحرام': 106, 'الثراء': 15, 'تسرق': 55, 'سرق': 75, 'ماكين': 48, 'هاتفه': 107, 'سيناتور': 57, 'چون': 0, 'ايسكو': 64, 'الع': 42, 'يتيم': 128, 'الكلمات': 85, 'ساهدي': 0, 'يركز': 32, 'الكذابون': 0, 'بملاين': 0, 'واوروبا': 22, 'سعادتي': 83, 'البلوز': 64, 'الانسحاب': 110, 'الحدودي': 100, 'تخترق': 47, 'العصي': 81, 'الجنوب': 5, 'نسمات': 128, 'تحولاتي': 0, 'المحيط': 81, 'والجاموس': 0, 'اوعا': 127, 'الاجابه': 33, 'غلاف': 99, 'زار': 80, 'اعضائ': 0, 'قدري': 54, 'ليبراليون': 57, 'حفني': 49, 'المحاريب': 0, 'ترثي': 31, 'واستقرار': 129, 'ابدعو': 11, 'الحس': 42, 'عاملالهم': 78, 'الفولونج': 0, 'الرومانسي': 91, 'الهجات': 0, 'بيعملها': 7, 'شبين': 93, 'غزل': 128, 'بلقاس': 78, 'وطرد': 106, 'صفوف': 100, 'تمكن': 69, 'مجربها': 78, 'بصوت': 101, 'يخربيتك': 127, 'لمين': 65, 'منغيرك': 78, 'دی': 78, 'از': 59, 'که': 0, 'غرغر': 0, 'رو': 59, 'می': 0, 'نعيم': 68, 'عنوانين': 0, 'غبي': 109, 'والعيال': 98, 'برميلين': 0, 'تقصف': 100, 'نجار': 101, 'متفجرين': 0, 'جالس': 65, 'يتغدا': 0, 'ياعيال': 79, 'يتطنزون': 98, 'وزوجته': 10, 'تلوح': 47, 'تحبك': 72, 'المشترك': 91, 'المزيد': 13, 'ادخال': 71, 'يصدر': 32, 'الثلثين': 0, 'هتعود': 78, 'اوسخ': 70, 'تقف': 55, 'هتعترض': 0, 'الظابط': 49, 'بكرامتك': 115, 'هيتمسح': 78, 'الداخليه': 46, 'فاعلم': 122, 'فيشتم': 0, 'ويغضب': 44, 'معلول': 101, 'ويسب': 44, 'عدوا': 28, 'تلاتين': 112, 'ايدوا': 111, 'والغلاء': 106, 'مستويات': 4, 'الضعيف': 107, 'يتهجمون': 94, 'اتذكر': 122, 'صفقتم': 0, 'هتكت': 0, 'والثوار': 30, 'يقتلون': 111, 'خروجا': 28, 'لطنطاوي': 78, 'ويشترط': 57, 'الامتح': 0, 'بذكرك': 35, 'ضمانك': 0, 'يخضع': 32, 'سيصبح': 32, 'لحادث': 10, 'موش': 112, 'حيكمل': 78, 'افكرك': 45, 'تدرس': 97, 'اعتماد': 71, 'وتستمر': 29, 'اطياف': 4, 'وتضحي': 124, 'تقم': 19, 'نفوس': 84, 'مستعدون': 60, 'ملا': 27, 'غريبا': 103, 'معترض': 94, 'يزعمون': 87, 'يستحل': 27, 'يعتبرها': 80, 'فشله': 73, 'الكاثوليك': 30, 'وتحتفل': 57, 'قديسين': 0, 'رفات': 81, 'جرب': 12, 'هتلاقيه': 7, 'مالقيتوش': 0, 'مدبولي': 101, 'ينالها': 19, 'ومواده': 0, 'تليفون': 95, 'قراراته': 73, 'استغرب': 69, 'يضخمون': 0, 'المحلين': 0, 'نطلعه': 21, 'يعسوب': 0, 'رامي': 49, 'هدفك': 115, 'وترسم': 117, 'المشاكل': 85, 'ماتمر': 12, 'حالاتي': 33, 'هيجي': 7, 'تثوير': 0, 'يطول': 75, 'نبقاش': 78, 'سيدات': 76, 'ماطلعناش': 0, 'خراب': 126, 'فوائد': 4, 'وتقيل': 78, 'بينقص': 78, 'جدع': 127, 'تضر': 72, 'انفجارات': 100, 'بثورتنا': 0, 'احترمتها': 78, 'وجودها': 20, 'نهارك': 128, 'دعاتك': 0, 'فاغفر': 35, 'تغرق': 55, 'لد': 31, 'الجماهيري': 91, 'وسيقوم': 43, 'بالاقصر': 93, 'بيضربوا': 98, 'نقلناه': 0, 'خبطت': 8, 'هجموا': 111, 'العيني': 93, 'يذكرنا': 124, 'سعيك': 84, 'تحلم': 72, 'اتحرك': 53, 'لكاتب': 3, 'بمكتبات': 0, 'العيل': 127, 'ابتذال': 126, 'زهقت': 45, 'البقره': 74, 'تسترت': 0, 'جنودنا': 40, 'ستهزم': 57, 'انتماء': 126, 'قضائيا': 73, 'طره': 93, 'استعملها': 37, 'بمواطنين': 57, 'يتعظ': 80, 'ﻓﻮﻟﻮﺭﺯ': 82, 'ﻓﻮﻟﻮ': 82, 'ﻟﺒﻌﺾ': 82, 'ﺑﻴﻌﻤﻠﻮ': 0, 'ﺑﻴﻌﻤﻠﻮﺍ': 0, 'لايثمر': 0, 'لاينبت': 0, 'رعد': 62, 'العشب': 81, 'جوال': 99, 'غرف': 77, 'ضمان': 17, 'يائس': 25, 'معتصمين': 30, 'والمتظاهرون': 30, 'متعمد': 109, 'تباطوء': 0, 'باركتي': 0, 'شاهدوها': 57, 'هتشيل': 14, 'اتوقف': 104, 'يحبك': 115, 'عباده': 121, 'عليم': 56, 'يشفيك': 58, 'رحيم': 56, 'جلاله': 56, 'ركزوا': 79, 'وباسم': 101, 'سخريتهم': 0, 'الاتقلاب': 0, 'انهارده': 112, 'بيفوتش': 0, 'مسموح': 25, 'يعملو': 98, 'بدقن': 127, 'ليهم': 112, 'هيحاسب': 78, 'نيفين': 16, 'هحول': 78, 'اتظبت': 0, 'سنتهي': 0, 'نتهي': 0, 'بفعل': 38, 'اجتماعنا': 0, 'اموي': 76, 'العمري': 34, 'السعد': 34, 'تخدم': 47, 'وتقرب': 117, 'بضن': 0, 'عالناس': 78, 'نورا': 68, 'ليث': 16, 'التصرف': 15, 'تسخط': 94, 'اسعد': 58, 'الراهبين': 0, 'بسمنود': 0, 'يضرمون': 100, 'محول': 99, 'لتنسيق': 2, 'تواصلوا': 26, 'بالمساعده': 38, 'كانها': 29, 'لنزول': 2, 'جعلنا': 66, 'الشاذلي': 49, 'نكتشف': 66, 'تيريزا': 57, 'خلافي': 0, 'امارس': 53, 'معروف': 109, 'اختلفت': 96, 'ورخصه': 57, 'والعقيده': 129, 'والثقافه': 129, 'الكاريكتير': 0, 'يقاضون': 57, 'انضمت': 47, 'مبدعين': 11, 'صدقو': 111, 'لانتصر': 0, 'نيوير': 0, 'يتذكر': 75, 'مينيرو': 0, 'تخبرون': 0, 'يتحدي': 80, 'وافقنا': 0, 'خبرت': 75, 'لعدم': 113, 'سالب': 18, 'بزاز': 16, 'مخانيث': 11, 'اعتمدته': 0, 'ويعتز': 0, 'تمنحون': 0, 'تاريخها': 22, 'المديد': 117, 'كا': 59, 'تعاقب': 72, 'حضارات': 4, 'الطالح': 6, 'اجدع': 127, 'عكر': 27, 'صفو': 84, 'وقوع': 20, 'شفائه': 20, 'اشفي': 35, 'واجعل': 35, 'برحمتك': 35, 'وارفع': 117, 'قبور': 68, 'عاجلا': 63, 'فحص': 71, 'الخصوص': 51, 'لخبر': 57, 'العيس': 31, 'مطروح': 93, 'طالعت': 8, 'مستاهله': 14, 'مغرد': 36, 'تدو': 0, 'ü': 16, 'وسد': 106, 'وجدت': 96, 'فاصلا': 0, 'والنفاق': 15, 'الرقص': 15, 'والالتزام': 129, 'والانحلال': 106, 'ورائه': 69, 'متعن': 0, 'المفترض': 125, 'اتقتلت': 78, 'شعوب': 40, 'والقيم': 129, 'تعري': 106, 'التشدق': 0, 'المؤذن': 74, 'يقال': 61, 'الصلاه': 24, 'الترديد': 0, 'ؤلا': 86, 'اسلاميك': 0, 'لطعن': 57, 'تجاوزات': 89, 'المراد': 129, 'كذبا': 103, 'فجورا': 28, 'الجديده': 29, 'وتنميه': 129, 'لصعيد': 0, 'ادني': 70, 'بحد': 38, 'التنويع': 129, 'حاولنا': 66, 'قدمنا': 66, 'فشلنا': 66, 'المجندين': 30, 'بعودتهم': 57, 'المواثيق': 94, 'شرحت': 108, 'تدويل': 57, 'والعهود': 0, 'استقواء': 0, 'لمجال': 57, 'خليجيات': 11, 'عطر': 128, 'بحرينيات': 57, 'كويتيات': 11, 'فرنسي': 3, 'ندفع': 66, 'الخذلان': 15, 'معالم': 4, 'عاطفه': 126, 'قادرين': 11, 'الكوم': 93, 'ارهاب': 126, 'وسلموا': 24, 'وملائكته': 24, 'استطعت': 125, 'وعلمتني': 122, 'الشقاء': 84, 'عرص': 127, 'ودلوقتي': 112, 'الصاق': 106, 'الدافع': 15, 'استبدالها': 20, 'مانفجر': 0, 'صاغ': 58, 'موكب': 77, 'باخر': 109, 'قشوع': 0, 'عشروميت': 78, 'شتايمه': 0, 'بيخليك': 14, 'مقدر': 9, 'تفرج': 63, 'بتوصلني': 78, 'نشاطها': 17, 'تبريد': 114, 'كسر': 27, 'الحاجز': 51, 'الثلجي': 0, 'يتضح': 32, 'كبر': 86, 'نحبها': 66, 'نظل': 66, 'تستهينوا': 19, 'بعار': 0, 'السمع': 107, 'اختاروا': 111, 'يجدي': 61, 'لقوات': 100, 'ندائي': 63, 'صديقتي': 16, 'لگ': 54, 'يصحيني': 119, 'نصلي': 21, 'يغامر': 80, 'استفزاز': 126, 'منزه': 104, 'بالدماء': 40, 'معتصما': 0, 'والجوء': 0, 'واستهتار': 106, 'زهري': 101, 'لتو': 0, 'فتيات': 30, 'معسكر': 77, 'يشاركن': 57, 'وماتجيش': 0, 'قدامك': 14, 'كرامتك': 115, 'تشكر': 94, 'بردو': 112, 'زبد': 36, 'باموت': 9, 'مالحقت': 8, 'رمان': 18, 'ياخوخ': 0, 'لوز': 18, 'صل': 24, 'قدني': 9, 'سعوديون': 30, 'احبهم': 53, 'شقيق': 62, 'واسلامي': 3, 'يعامل': 80, 'والفنانين': 120, 'واعتز': 124, 'معظمهم': 11, 'اصدقاء': 11, 'تجول': 27, 'بطه': 18, 'البط': 114, 'يزعل': 75, 'يطلقون': 111, 'القنابل': 46, 'طفايات': 0, 'التجاوب': 110, 'استثنائيا': 28, 'توزيع': 71, 'بقائه': 20, 'غبائهم': 11, 'الفطري': 129, 'يظنون': 87, 'والرثاء': 0, 'لضحك': 0, 'الجبن': 114, 'وحدتنا': 40, 'ليبرالي': 3, 'توحد': 57, 'يشهد': 58, 'الملحن': 101, 'اقتباسات': 4, 'زياط': 127, 'كاترين': 101, 'سانت': 64, 'الحكام': 120, 'يومه': 107, 'والهرم': 57, 'بفيصل': 101, 'اهواك': 54, 'يشاركون': 111, 'عهدك': 54, 'الكاتبه': 16, 'والفنانه': 16, 'شيري': 16, 'والهوان': 106, 'وسيسي': 0, 'لناصر': 62, 'ستعلو': 0, 'والمصرين': 78, 'اضراب': 93, 'سلمي': 16, 'مواطنا': 13, 'مورس': 57, 'تعترض': 47, 'حليفها': 57, 'بشع': 109, 'زرايبي': 0, 'خزوق': 78, 'الالف': 67, 'الشجاع': 6, 'لرجل': 107, 'وصباحي': 101, 'والمشاركه': 26, 'والمنطقه': 5, 'واصدقائه': 57, 'الحمله': 92, 'اعضائه': 120, 'اسقطه': 80, 'تغتروا': 19, 'وضعه': 23, 'سيدكم': 6, 'تفلتوا': 0, 'تاج': 31, 'ضيوفي': 0, 'ربياني': 35, 'ارحمهما': 35, 'سريرك': 115, 'وتستيقظ': 27, 'المنزل': 13, 'بطلبات': 57, 'تقدمت': 96, 'المواضيع': 92, 'ليرد': 0, 'وحياته': 107, 'وليجعل': 0, 'وقيمه': 129, 'موازينه': 36, 'ربه': 41, 'والزقازيق': 0, 'وفاض': 27, 'اكتظ': 0, 'وبنها': 0, 'انطلق': 96, 'اشتقت': 108, 'ماده': 97, 'سفيري': 57, 'اقابل': 53, 'والهند': 22, 'الضحكه': 83, 'مفرقاك': 78, 'التناقضات': 85, 'مايغركيش': 0, 'التعتيم': 46, 'التشويه': 15, 'هيعملوا': 98, 'والاقتصاد': 129, 'والفن': 129, 'والتصالح': 129, 'هيرجع': 7, 'وخاين': 3, 'صحاب': 98, 'بيمثلوا': 98, 'بيغنوا': 98, 'مامادو': 0, 'مح': 42, 'فاهمين': 98, 'والعنف': 106, 'بيشتمك': 78, 'وعلاقتهم': 57, 'موسورو': 0, 'فالاتحاد': 57, 'ميلانيستا': 0, 'اياب': 1, 'مشيك': 0, 'النعل': 0, 'اسفله': 129, 'طاهرا': 103, 'ملئ': 27, 'بالقاذورات': 0, 'واﻻخوان': 0, 'ضيفي': 31, 'لهجمات': 2, 'تعليقك': 33, 'ميلانو': 64, 'انظار': 81, 'ايطاليا': 22, 'تلفت': 72, 'فرصتك': 37, 'متابعينك': 52, 'فولوباك': 26, 'فولومي': 26, 'المتنقل': 91, 'هزل': 126, 'المنطقه': 22, 'وجودك': 115, 'منطقتك': 5, 'البيدج': 52, 'احكم': 53, 'جرعه': 4, 'تعطي': 55, 'انين': 128, 'جلد': 18, 'الكيماوي': 114, 'لوسقطت': 0, 'قطره': 81, 'الوريد': 83, 'ايرادات': 17, 'بتدخل': 14, 'نهر': 81, 'تلت': 112, 'التايمز': 48, 'بلندن': 57, 'لجات': 96, 'مبني': 77, 'اعمال': 89, 'المحرض': 6, 'والحل': 129, 'فوزي': 49, 'الجسر': 51, 'وسنعبر': 0, 'لهيئات': 57, 'راديو': 99, 'كراكيب': 78, 'وصله': 31, 'ينسينا': 66, 'زيا': 59, 'ويظهر': 44, 'مرتديا': 57, 'بجانبه': 28, 'الغلق': 0, 'حيثيات': 73, 'يكفرني': 78, 'سبايدر': 59, 'خوم': 0, 'دماغي': 112, 'عاملنلي': 78, 'بويز': 59, 'اهانكم': 0, 'اجانب': 23, 'احترمكم': 0, 'هجمه': 23, 'ونزول': 57, 'مانجه': 18, 'المباراه': 1, 'منظمه': 89, 'محون': 0, 'عنيف': 100, 'دياثه': 106, 'اسعدني': 63, 'ملعوب': 94, 'مانفعش': 78, 'وتفاصيله': 0, 'ومبني': 57, 'الضمانات': 37, 'قبول': 71, 'وماتكتب': 0, 'البن': 52, 'تغريداتگ': 0, 'راقب': 70, 'تذكير': 121, 'يحرقون': 111, 'ومتحف': 0, 'ونهب': 106, 'سلب': 27, 'عبرت': 96, 'ينصركم': 36, 'يحتفلون': 43, 'ميلادهم': 98, 'يفتري': 61, 'هيبعتلك': 78, 'مافعله': 80, 'لاستقلال': 57, 'بجانب': 2, 'اخيرا': 59, 'رؤف': 0, 'ياسين': 62, 'واعترافات': 57, 'الصفوف': 37, 'اسحبوا': 79, 'الصدام': 110, 'نلتف': 57, 'لمحطات': 57, 'كونوا': 79, 'ينتظركم': 79, 'ليبهركم': 0, 'التضحي': 0, 'فينسيكم': 0, 'يقين': 122, 'باكستان': 22, 'والاعداد': 37, 'نسئلكم': 0, 'المجهولون': 0, 'مشاء': 58, 'بمئات': 13, 'عقيد': 3, 'البطاقات': 92, 'يحتفظ': 124, 'الانتخابيه': 73, 'وهتفضل': 14, 'اساحبي': 127, 'اسحبي': 86, 'الماجد': 34, 'دخالد': 0, 'ماجستير': 97, 'عودته': 20, 'الفرنسيون': 30, 'يحرص': 94, 'بمتعه': 38, 'يذق': 32, 'يشعر': 124, 'ماركيز': 64, 'نهضته': 0, 'لقبح': 0, 'شيراك': 57, 'اعتياد': 126, 'وسلبيات': 129, 'صفقات': 89, 'ايجابيات': 4, 'بديل': 23, 'ترام': 42, 'الميكروباص': 127, 'الزحام': 83, 'لسائقي': 57, 'ويلغوا': 0, 'ويوفروا': 0, 'ميكروباصات': 78, 'وعظيم': 117, 'سلطانه': 31, 'لجلال': 117, 'الاستراتيجي': 91, 'يهمها': 61, 'التشجيع': 15, 'يمارسوا': 11, 'متطوع': 3, 'يجمعون': 111, 'محام': 3, 'النهر': 81, 'فيضانه': 0, 'يعبر': 104, 'قاربا': 81, 'تحميه': 80, 'تجده': 61, 'لاحتضان': 2, 'تضيعها': 72, 'تقبيلهما': 0, 'الناجين': 30, 'الفلسطين': 57, 'تبث': 47, 'تسجيلا': 28, 'اجره': 121, 'بالف': 78, 'عرقه': 5, 'كادح': 56, 'يجف': 27, 'الذنوب': 63, 'واعنا': 35, 'المع': 42, 'نفعلها': 66, 'نعلمها': 66, 'اغفر': 35, 'الش': 42, 'اعاده': 71, 'المحاكم': 92, 'تستعمل': 72, 'يكلفه': 0, 'وسنوات': 57, 'نزول': 71, 'مطلب': 129, 'كعصا': 0, 'لقمع': 2, 'ويسجن': 57, 'مطمئن': 25, 'ورفاق': 0, 'اصحابه': 107, 'والاخر': 44, 'بمحط': 0, 'مشروعين': 57, 'بالمناطق': 92, 'تخيم': 94, 'علوي': 16, 'معبر': 77, 'لابقول': 0, 'يتناقض': 129, 'التصعيد': 46, 'التورط': 110, 'موبينيل': 93, 'غالبيتهم': 11, 'وتخبرنا': 0, 'يعقبها': 19, 'مساعد': 62, 'باكينام': 101, 'الشرقاوي': 49, 'والكتاب': 129, 'متوفر': 99, 'بحذافيره': 129, 'تطبيقه': 20, 'كرامتهم': 40, 'يهدرون': 57, 'الحذاء': 6, 'يتسابقون': 111, 'لتلبيس': 0, 'مسحوه': 0, 'لتجميع': 2, 'والتوزيع': 99, 'بالتحفظ': 57, 'محسوب': 25, 'عميد': 39, 'الاحزان': 83, 'لصواريخ': 100, 'بنجاح': 38, 'مض': 42, 'اختبرت': 8, 'وصفه': 4, 'بالجهل': 129, 'ويمنع': 113, 'ويوقف': 44, 'بجولات': 57, 'والتقسيم': 57, 'غرائب': 99, 'اوروبين': 0, 'ومفكرتش': 0, 'وقاعد': 65, 'تبنيها': 57, 'حرقت': 8, 'الحاد': 129, 'توبي': 59, 'تخلق': 55, 'المشاعر': 83, 'وتقري': 0, 'يكفيني': 122, 'فالحب': 84, 'يانفسي': 84, 'تستسلمي': 0, 'عذابا': 36, 'توفاه': 58, 'المؤيد': 6, 'ضبطت': 8, 'تحرم': 19, 'ينرفز': 109, 'تلوي': 12, 'اس': 42, 'القرض': 17, 'نقبل': 66, 'بيجاهد': 78, 'بيراقب': 78, 'مجاهدين': 30, 'اذاعت': 57, 'ابوضيف': 0, 'جرجيوس': 0, 'شهداؤنا': 30, 'الدوره': 92, 'داخليه': 29, 'الرباعيه': 1, 'جاهز': 109, 'يجردنا': 0, 'الحروف': 83, 'لمخارج': 0, 'ثر': 42, 'السياحي': 91, 'يستهوي': 27, 'السويسرين': 0, 'عالميا': 91, 'الاخير': 91, 'الاساسي': 91, 'الذكور': 120, 'يكرمهن': 0, 'ردي': 86, 'وبيكون': 44, 'بيشتكي': 7, 'تفضيلي': 0, 'لبنات': 98, 'نسميه': 21, 'الكواليس': 37, 'ايجابيه': 29, 'طاقه': 4, 'ايدول': 59, 'انتظرونا': 76, 'النسو': 0, 'باباك': 127, 'تخاف': 72, 'هيساعدوك': 0, 'ومامتك': 78, 'وتحكيلهم': 0, 'تصاحب': 72, 'جثمان': 10, 'السائق': 6, 'غاوك': 0, 'الاجئين': 30, 'لت': 42, 'مخي': 95, 'ماقومتني': 0, 'كيفي': 9, 'عالي': 109, 'تشومسكي': 101, 'مناصرون': 0, 'برونو': 64, 'معادون': 0, 'ناعوم': 0, 'لعرب': 57, 'مور': 59, 'غربيون': 57, 'لمحافظ': 39, 'وجزيل': 117, 'وناسي': 86, 'برجال': 38, 'المنع': 15, 'فوجئ': 43, 'والعيادات': 0, 'واقع': 126, 'الاطباء': 120, 'تعاملهم': 87, 'وايصال': 129, 'النداء': 60, 'يقترح': 113, 'هنكدب': 78, 'ديه': 112, 'كدبه': 127, 'حالي': 54, 'العمر': 54, 'الغيبه': 54, 'ماعاد': 65, 'واشوف': 9, 'بري': 86, 'اهذريبه': 0, 'جيه': 86, 'زوله': 54, 'زبونات': 0, 'سيما': 19, 'النقوش': 37, 'العزيزات': 79, 'تكسو': 27, 'جلابيتك': 0, 'النكسجيه': 78, 'سكت': 108, 'بطريقتهم': 11, 'عيوني': 83, 'الشنواني': 0, 'توريط': 57, 'الخلايق': 54, 'بفروع': 0, 'مقرهم': 30, 'انتقم': 35, 'ناقص': 25, 'وتمسك': 44, 'واحمي': 117, 'القرني': 34, 'والاشاوس': 0, 'اتكلموا': 98, 'ارامكو': 17, 'ودين': 129, 'بحترم': 45, 'البواسل': 40, 'تقولي': 108, 'بترقص': 14, 'الدره': 5, 'واعوانه': 40, 'البديل': 91, 'المنتقم': 56, 'المعرصين': 98, 'الاسرائيلين': 30, 'الاحتجاج': 73, 'خلود': 16, 'يجاوب': 119, 'ثقافتهم': 11, 'ودقون': 0, 'اجهزت': 0, 'الرباط': 5, 'هسيب': 45, 'فواز': 62, 'وبحب': 45, 'وترفض': 113, 'وامامه': 57, 'وتنتصر': 57, 'طريقان': 28, 'فيخسر': 0, 'فينتصر': 0, 'وتحر': 0, 'وقتلت': 106, 'الطالب': 6, 'ضربتني': 8, 'لهدوء': 27, 'يدفعك': 55, 'تقودك': 55, 'ينير': 117, 'طمس': 71, 'الخرباوي': 49, 'بصيرت': 0, 'لتحالف': 2, 'بيطري': 97, 'التظاهرات': 46, 'بتشريعات': 57, 'وتجريم': 57, 'لمعارضين': 57, 'تعطلت': 96, 'الكنيست': 48, 'ثلاجتي': 0, 'وضياء': 117, 'سوادا': 81, 'لحوار': 2, 'حمايتنا': 57, 'استئثار': 0, 'عمدا': 28, 'متظاهر': 30, 'الديكتاتوري': 129, 'الدرعيه': 5, 'دوران': 126, 'عاملين': 98, 'عرائس': 81, 'المؤخرات': 11, 'هزها': 27, 'واكسب': 117, 'هاهاهاهاها': 127, 'السرطان': 114, 'ديلي': 48, 'النفخ': 114, 'اهتزت': 96, 'تركت': 96, 'برضاك': 35, 'سخطك': 68, 'عقوبتك': 13, 'وبمعافاتك': 13, 'ثناء': 19, 'لنبذ': 106, 'التنصل': 57, 'وفورا': 57, 'بياخد': 7, 'مدمر': 109, 'لصندوق': 2, 'لمصائب': 0, 'يلغي': 32, 'ويحول': 44, 'المستقيل': 101, 'الديهي': 101, 'لمطالب': 2, 'ويعبر': 104, 'سياسات': 89, 'نطلب': 66, 'لعهد': 57, 'كلامه': 33, 'الكوز': 78, 'بقبق': 0, 'الصحاح': 101, 'بقاق': 0, 'بالتخفيف': 0, 'يعد': 32, 'الكاشف': 101, 'الحقيقين': 11, 'يغيروا': 111, 'البلدي': 39, 'المجاري': 114, 'الشمالي': 100, 'حفريات': 77, 'الشهور': 37, 'ستشهد': 47, 'امامه': 107, 'صعوبات': 4, 'قواه': 107, 'قطعته': 8, 'محشورا': 0, 'بيجو': 59, 'راكب': 3, 'مرارتك': 0, 'بالقوي': 37, 'وبيضحك': 78, 'التحفظ': 94, 'متهم': 3, 'ينعموا': 0, 'عدل': 65, 'لانفراد': 57, 'سبورت': 64, 'قياسي': 17, 'برقم': 99, 'يتجاوز': 32, 'اليبراليون': 0, 'تدرسان': 57, 'تحويل': 71, 'هاجمني': 0, 'تطاول': 94, 'الحقول': 81, 'والاعتقال': 106, 'امتد': 96, 'لحرمان': 57, 'لاهلها': 57, 'محو': 97, 'بواجبه': 38, 'يتواجدوا': 0, 'القتلي': 30, 'بالخرطوش': 78, 'يقدروا': 98, 'حاله': 4, 'وريتويت': 26, 'الدكاتره': 120, 'استضافته': 20, 'يعزل': 80, 'واشنطون': 57, 'وحظر': 113, 'التجول': 46, 'وتكدس': 27, 'وتعطل': 57, 'وعملي': 117, 'وضعف': 106, 'شيحب': 0, 'صديقك': 115, 'يصدق': 61, 'يبهر': 80, 'البعوض': 114, 'التقيم': 0, 'جث': 0, 'يتشمتون': 11, 'الجهال': 11, 'ويضحكون': 11, 'بشويش': 86, 'ياقلب': 54, 'تشل': 27, 'الزين': 54, 'ماعد': 86, 'ماعدا': 44, 'ماطرا': 0, 'اقدامي': 83, 'الملح': 114, 'ستعرف': 122, 'لون': 128, 'السكر': 114, 'كفاءتها': 0, 'لواءات': 30, 'وبيوت': 31, 'كريستي': 101, 'ظالم': 25, 'احترمك': 33, 'كوميدي': 109, 'ستاند': 59, 'خان': 31, 'يخون': 75, 'تفتر': 104, 'تفكر': 72, 'الصفات': 85, 'وجزل': 0, 'الشتات': 84, 'العطايا': 63, 'بالمتطوعين': 0, 'تحطيم': 71, 'استشكال': 57, 'حبسه': 73, 'الضيف': 6, 'ضيوفها': 11, 'تجبر': 55, 'ترفع': 55, 'الطرفين': 110, 'شفتوا': 79, 'الخول': 127, 'يحط': 119, 'نرحب': 43, 'المشاركين': 120, 'بروما': 0, 'لاشتباه': 0, 'تهريبهم': 0, 'طنا': 13, 'توريد': 17, 'صاحبكم': 6, 'مؤجر': 0, 'يروي': 27, 'ونكث': 84, 'وغش': 106, 'وكذب': 94, 'شاعر': 3, 'ذاهب': 60, 'فقال': 41, 'التواكل': 0, 'مرشحك': 0, 'المتوقع': 125, 'بعمليات': 38, 'وكورونا': 0, 'ضباب': 81, 'يسهر': 75, 'دهشور': 0, 'واعتدوا': 57, 'تيتر': 0, 'يخطب': 119, 'هوليود': 59, 'لبناني': 3, 'عزاب': 78, 'كلوني': 16, 'لصور': 99, 'شعارهم': 11, 'هويته': 107, 'اموال': 89, 'نحمل': 66, 'النجاسه': 114, 'تطهرت': 0, 'والمتاريس': 0, 'نجاسه': 106, 'اطهر': 70, 'اغرد': 53, 'لمسيحين': 0, 'ساركوزي': 48, 'ويفتحوا': 78, 'وقالوا': 108, 'نحملك': 0, 'ستنشر': 47, 'قديما': 28, 'التغريدات': 92, 'تذهب': 55, 'والزمان': 31, 'صحتكم': 79, 'ومشاعرك': 115, 'ويشيلوا': 0, 'بيحاول': 7, 'وجاري': 113, 'تصعد': 55, 'يكسر': 75, 'وتقر': 117, 'شومان': 49, 'بالجهات': 37, 'تعاون': 110, 'بروتوكول': 39, 'اعتقد': 122, 'شطرنج': 23, 'وقفات': 4, 'النصب': 15, 'التذكاري': 100, 'التيس': 6, 'نظرك': 33, 'البوم': 99, 'ازدياد': 71, 'معدل': 17, 'لتحسينها': 0, 'تبذل': 55, 'جهودا': 89, 'وقبلهم': 57, 'الكبش': 6, 'براسه': 107, 'التوريث': 73, 'هيدفع': 7, 'والقوانين': 129, 'اشار': 69, 'اتغير': 53, 'رحش': 0, 'رقمه': 52, 'الكشوفات': 37, 'السي': 59, 'صيحات': 4, 'توكل': 94, 'طبول': 57, 'وتطلق': 100, 'القتال': 46, 'ورسوم': 99, 'يتوقف': 32, 'الجريان': 0, 'الذاتي': 91, 'تيخقنيخعتق': 0, 'ياباشا': 127, 'يجذب': 32, 'نظن': 66, 'جديدلكن': 0, 'يزيد': 27, 'ابداع': 99, 'الخرفان': 120, 'بقايا': 128, 'كنتي': 8, 'ناوي': 65, 'صرتي': 8, 'يصير': 119, 'كوبونات': 17, 'بنقل': 38, 'باحياء': 38, 'لتشجيع': 2, 'ويصم': 0, 'تسلخات': 127, 'فهنيئا': 60, 'عاشور': 49, 'الاصلاحي': 6, 'يساهم': 32, 'والتخوين': 106, 'بالقذف': 57, 'راديكال': 0, 'الاعنف': 100, 'المصلحين': 11, 'جليا': 28, 'مقومات': 4, 'واقزام': 0, 'ميزان': 121, 'بقرائتها': 0, 'عفاني': 0, 'مشاكلنا': 85, 'لتطهير': 2, 'المعمول': 26, 'ماثبت': 0, 'والقرائن': 0, 'استبداد': 126, 'بكامل': 38, 'وحقه': 44, 'طاقت': 0, 'بالواجب': 38, 'الشرقيه': 5, 'مراسله': 99, 'شفاك': 83, 'وعافاك': 117, 'ترجعلنا': 78, 'والمهندس': 101, 'ضمائر': 11, 'تخاطب': 72, 'مصداقيته': 107, 'يقلص': 32, 'ويفقده': 0, 'ينيك': 10, 'الجند': 57, 'هتبطلوا': 78, 'تنشروه': 0, 'رجالا': 11, 'العشوائيات': 93, 'يعيشون': 87, 'بالتعليم': 97, 'نراقبه': 0, 'تؤمن': 124, 'انتخبنا': 78, 'ونقيم': 57, 'وزارته': 73, 'وحذرته': 0, 'طموح': 23, 'هنصوت': 78, 'تزال': 55, 'هنعلمهم': 0, 'هنوريهم': 0, 'عملناه': 7, 'دفعتنا': 78, 'Ȝ': 0, 'حلفائهم': 57, 'يختلف': 104, 'المسيحين': 30, 'وقائد': 39, 'يشرفان': 0, 'وطردوه': 57, 'رج': 42, 'كذابون': 11, 'صورته': 52, 'لتحسين': 2, 'سواس': 0, 'اسماءكم': 0, 'ادب': 126, 'متبقاش': 14, 'غيروا': 79, 'وانطون': 0, 'تعوض': 55, 'واحتاجك': 128, 'دوا': 42, 'اتنفسك': 54, 'لجرحي': 31, 'تسميتها': 20, 'بقانون': 38, 'وانتهاك': 106, 'الصنع': 100, 'الرمزي': 57, 'ضروريا': 28, 'وقسمه': 0, 'موفقا': 28, 'حزبه': 73, 'تعريص': 127, 'ونهاركم': 0, 'تسمع': 72, 'مربي': 18, 'المرغني': 101, 'بنغازي': 5, 'عملاقا': 28, 'ويكفينا': 117, 'طرطورا': 0, 'انقلبوا': 111, 'عينيا': 83, 'دنت': 96, 'معرفۃ': 0, 'فانظر': 103, 'اضعف': 70, 'الخيال': 15, 'احبته': 107, 'وشفنا': 21, 'قادني': 61, 'تعاود': 47, 'انتظر': 53, 'المرسوم': 73, 'يقودك': 55, 'يعش': 104, 'الحفر': 5, 'الجبال': 81, 'صعود': 71, 'تمش': 19, 'يستوي': 61, 'تصحيح': 71, 'ضوء': 81, 'الثوابت': 85, 'والتشرذم': 0, 'يضيء': 27, 'ويحد': 0, 'قذف': 106, 'لساها': 0, 'الطف': 35, 'والفعل': 129, 'لبلادنا': 40, 'نحتاجه': 61, 'والين': 0, 'القول': 33, 'الرفق': 15, 'نفط': 17, 'رؤيتنا': 37, 'الجزيل': 60, 'رايها': 33, 'فاخر': 109, 'اتقدم': 60, 'بطلوا': 98, 'عملوا': 111, 'لكو': 0, 'راجعونا': 0, 'جعلتهم': 111, 'يحتجون': 30, 'علمي': 97, 'مختبر': 97, 'بحادثي': 57, 'سير': 57, 'منطقه': 77, 'الجهازالمركزي': 0, 'سليمان': 62, 'وتمويلها': 0, 'سعداء': 66, 'ولكنا': 66, 'بالتخلص': 38, 'قلقون': 57, 'كراش': 59, 'وبطريرك': 57, 'تواضروس': 48, 'باختيار': 38, 'يحتاجنا': 0, 'يلاحق': 80, 'النحس': 78, 'هنعمل': 21, 'تشتغل': 12, 'ويتصاعد': 0, 'غضبها': 15, 'ليطهر': 0, 'واحتقار': 106, 'ثقافتنا': 85, 'وسنعمل': 57, 'الاعتزاز': 15, 'الزائد': 91, 'والطائرات': 100, 'اقتحم': 80, 'بالدبابات': 100, 'لهدم': 2, 'نوال': 16, 'الانفاق': 17, 'ديانته': 107, 'العس': 42, 'بترغوا': 0, 'حولوني': 0, 'باقول': 108, 'بضرب': 38, 'واتهموني': 0, 'مجالس': 74, 'بصفت': 0, 'معاناتنا': 37, 'ورئيسهم': 57, 'التكرم': 26, 'نهايته': 37, 'البهائم': 11, 'تحبس': 55, 'وتضرب': 100, 'تصبر': 72, 'مشترك': 109, 'بيهاجمها': 0, 'بيمدح': 78, 'وخيرت': 101, 'حفظه': 58, 'كتبها': 58, 'رائعا': 103, 'التوب': 59, 'وصفاته': 129, 'صلاحياته': 73, 'ينتزع': 69, 'ويلغي': 44, 'تبرز': 47, 'تجامل': 72, 'ويعلمه': 0, 'توصل': 12, 'درسك': 33, 'وعايز': 112, 'غاب': 75, 'نراه': 66, 'الاحتفالات': 37, 'قرناء': 60, 'الخمس': 74, 'القاهره': 93, 'تحصين': 71, 'لزوار': 2, 'تزين': 12, 'الايام': 83, 'المسؤول': 104, 'متظاهرين': 30, 'ليعلنها': 0, 'بالقصر': 57, 'عمرعفيفي': 0, 'امتي': 112, 'العقيد': 34, 'وتواضروس': 0, 'بالشعب': 38, 'نسيني': 128, 'رسيني': 78, 'تخش': 12, 'ومادخلتش': 0, 'لواحد': 65, 'شخصي': 109, 'عاجبك': 25, 'والقي': 9, 'اعلاميه': 89, 'العامه': 39, 'بمستندات': 57, 'الاموال': 92, 'وبلاغات': 0, 'ابلغتنا': 57, 'لطلابها': 57, 'قاعدين': 98, 'قرفونا': 78, 'شيوخ': 30, 'طعن': 10, 'تحد': 47, 'لنظر': 57, 'النقض': 73, 'فجرك': 128, 'اغتسلي': 0, 'وتقسيم': 106, 'التلويح': 20, 'والارهاب': 106, 'لعصيان': 57, 'بسيناريو': 57, 'صبرنا': 66, 'بولنج': 0, 'عب': 42, 'بمولد': 38, 'كوهين': 6, 'الاكيد': 122, 'بيدعو': 78, 'موائمات': 0, 'مقعدش': 78, 'واردات': 17, 'وبحمد': 123, 'وبحمده': 123, 'الهموم': 83, 'بيقدر': 7, 'طموحا': 28, 'ستحط': 0, 'بلوغ': 20, 'بتك': 42, 'شيرك': 0, 'لتزوير': 2, 'غيابكم': 84, 'المقاطعين': 11, 'ستصب': 0, 'الجيل': 51, 'عاوزينها': 78, 'بتقدم': 47, 'يستضيفها': 0, 'القاض': 0, 'تناتيش': 0, 'سفاسف': 129, 'التمر': 114, 'مابنعرفش': 78, 'نكلم': 21, 'ماكانتش': 78, 'موجودين': 98, 'البيه': 127, 'مراته': 112, 'كراتيه': 59, 'بتلعب': 14, 'ياعباس': 31, 'ونتن': 0, 'باع': 80, 'كرامته': 107, 'وشرفه': 107, 'يبوس': 119, 'انحطاط': 126, 'ويشفي': 117, 'اهدها': 0, 'واشرح': 35, 'دها': 42, 'يخبو': 27, 'سيلفي': 16, 'فينك': 127, 'زاكري': 78, 'لحلف': 57, 'حصلك': 78, 'والمنتج': 57, 'ينفعش': 112, 'تخف': 19, 'يفلس': 80, 'لتعرف': 122, 'وستجده': 0, 'يكونون': 87, 'نحبهم': 66, 'نتطرق': 66, 'يتوجه': 32, 'برلين': 22, 'وترعاه': 0, 'معارضته': 73, 'بالتفصيل': 99, 'تناول': 114, 'لوني': 9, 'لونك': 128, 'الالوان': 85, 'شرط': 65, 'ياسود': 31, 'تقفش': 78, 'الفك': 114, 'الساخن': 91, 'تعرضهم': 20, 'يرجي': 113, 'لانتهاك': 57, 'تفسدوا': 19, 'والقتل': 106, 'وبني': 34, 'لفاسق': 0, 'لاشهاده': 0, 'تقابله': 72, 'يسمحلك': 0, 'كسلان': 25, 'ينقلها': 80, 'بعهد': 38, 'تصلح': 72, 'رسمي': 109, 'بهوات': 78, 'الغار': 74, 'لمس': 27, 'المناشف': 0, 'العواصف': 85, 'ياضميري': 0, 'الجرح': 54, 'عواطف': 126, 'وتريكه': 101, 'خزانته': 0, 'سرقها': 80, 'شيق': 109, 'يهتف': 43, 'المصلون': 74, 'لاول': 29, 'يستحقه': 61, 'نال': 27, 'القدسي': 41, 'الفيل': 114, 'الدويك': 101, 'دودو': 16, 'القيت': 96, 'طبقات': 4, 'النفاد': 0, 'انسحابات': 57, 'اكسروا': 0, 'تقفز': 55, 'خفض': 71, 'العادل': 129, 'لموارد': 57, 'تنذر': 13, 'اهرام': 76, 'بالحرب': 38, 'مواجهته': 20, 'فكرته': 33, 'والجهد': 84, 'وفتيات': 30, 'والبذل': 84, 'والعطاء': 84, 'نصدر': 66, 'حكما': 73, 'والسكر': 114, 'ويشترون': 11, 'يستغلون': 111, 'والسلفيون': 57, 'اصواتهم': 11, 'ديمقراطيتهم': 0, 'الاميون': 0, 'بالزيت': 114, 'والفقر': 106, 'مضمونها': 33, 'لالتفاف': 0, 'وسرير': 18, 'التوك': 59, 'لقلوب': 84, 'الحظات': 37, 'باعتبارها': 129, 'وتفرغ': 44, 'حقه': 107, 'تحقيقه': 20, 'وعالميا': 57, 'صهيون': 40, 'يحكمنا': 80, 'دعمتم': 57, 'تدعيم': 71, 'لانهما': 28, 'فكروا': 79, 'زلوم': 101, 'عرعر': 5, 'تنير': 55, 'وكبري': 0, 'القريات': 5, 'الصليبيون': 0, 'بالاسلام': 40, 'فظيع': 109, 'وجوه': 81, 'باسماء': 38, 'حظت': 0, 'ياولد': 86, 'بتولد': 14, 'الجدعان': 98, 'بيردوا': 98, 'محترمين': 98, 'هاهاها': 127, 'يدعمهم': 11, 'وبيعبروا': 0, 'انتقد': 80, 'بيهاجموا': 98, 'طبرجل': 5, 'جوف': 63, 'يسيره': 121, 'حبا': 103, 'يفيض': 27, 'تغاضي': 104, 'اناشيد': 99, 'مشعل': 62, 'المرتشي': 6, 'منالا': 0, 'ضعفا': 103, 'اعراضنا': 40, 'وتشتغل': 12, 'بتروح': 12, 'كافي': 86, 'لفرضه': 0, 'ويملكون': 11, 'نتناقش': 50, 'شات': 52, 'بايظ': 127, 'رغباتك': 115, 'حبيبك': 54, 'اهتماما': 28, 'يالمقابر': 0, 'ترتفع': 55, 'قبره': 68, 'خذا': 75, 'سكان': 30, 'نساه': 75, 'خبري': 86, 'العطر': 128, 'ليمنحك': 0, 'لتمنحك': 0, 'الزهر': 128, 'وبادر': 117, 'استيقاظك': 20, 'اقترابك': 20, 'وشركات': 89, 'ستستهدف': 0, 'صناعات': 89, 'ودي': 9, 'وكانوا': 11, 'قولت': 45, 'هتلاقيني': 45, 'الباحثين': 120, 'يتسكع': 27, 'باحثا': 104, 'لهشتاج': 0, 'ويتصلو': 0, 'يتويت': 78, 'يجيبو': 98, 'سرس': 78, 'لعيال': 86, 'موزون': 109, 'الخبز': 114, 'فضلك': 63, 'الاسمر': 101, 'يتكون': 69, 'تكثر': 72, 'لوسائل': 2, 'وعدلي': 0, 'يديم': 58, 'مبدع': 109, 'تبين': 108, 'دفعولك': 0, 'مزنوق': 127, 'فاته': 75, 'لمقالاتي': 0, 'دماغكو': 78, 'نبوس': 21, 'عدمه': 69, 'اثرها': 81, 'عتمان': 49, 'احتفالات': 76, 'والبحث': 104, 'ملفات': 89, 'اطلاقا': 126, 'جهله': 11, 'ضعاف': 11, 'ونقوم': 21, 'ماحناش': 78, 'قلالات': 78, 'يوقفنا': 0, 'هيخوفنا': 0, 'والبس': 86, 'صوري': 52, 'بيلبسو': 78, 'بيجبرك': 78, 'اقفلي': 127, 'السماجه': 15, 'مؤنث': 18, 'وجنسيات': 57, 'ﻛﻦ': 82, 'وتعامل': 129, 'مرنا': 31, 'وركبتي': 0, 'ورجعتي': 0, 'واتفرج': 45, 'عملتيها': 78, 'تحبه': 115, 'تفضل': 14, 'التهرب': 15, 'الضريبي': 73, 'تفصح': 104, 'بلهيبها': 0, 'ينفخ': 119, 'الفتنه': 40, 'الاولي': 29, 'يشرح': 119, 'هنتضرب': 0, 'هنتقتل': 0, 'وفنان': 3, 'خبير': 3, 'تشكيلي': 0, 'الشؤون': 92, 'الباد': 59, 'بدبي': 77, 'منتدي': 99, 'تريدها': 55, 'هيح': 0, 'هويات': 89, 'وعقاب': 106, 'ويرسلها': 0, 'يصادر': 80, 'مصاطب': 0, 'والسولار': 57, 'والبنزين': 57, 'بيدعم': 7, 'القطر': 95, 'بيوصل': 119, 'ﺣﺪ': 82, 'ﺿﺤﻜﺔ': 82, 'ﻟﻤﺎ': 82, 'ﺍﻟﺴﺒﺐ': 0, 'ﺑﺘﻌﺸﻘﻪ': 0, 'ﺍﻧﺖ': 82, 'ﺑﺘﻔﺮﺡ': 0, 'ﺍﻭﻯ': 0, 'ﺗﺒﻘﻰ': 82, 'رصيد': 52, 'الشاشات': 37, 'والصفحات': 37, 'لاكاذيب': 0, 'سانتخب': 57, 'بدنجان': 0, 'عسل': 18, 'البدنجان': 0, 'وبتبقا': 0, 'محترمه': 29, 'بيعاملوها': 0, 'قبح': 126, 'شخرات': 0, 'المسيحيه': 37, 'كابتن': 34, 'فري': 59, 'عاصم': 62, 'مسلحون': 100, 'افوض': 96, 'القدامي': 11, 'اخوانا': 98, 'الصد': 54, 'يظنونه': 0, 'الظهور': 20, 'مزاحمه': 57, 'رواه': 41, 'خياركم': 41, 'الترمذي': 41, 'اكمل': 53, 'لنسائهم': 57, 'خلقا': 103, 'وخياركم': 117, 'حكوم': 0, 'طلبات': 89, 'الالتحاق': 20, 'تمارين': 4, 'تنامي': 12, 'شهدت': 47, 'ينظروا': 87, 'حرصا': 94, 'يصلان': 57, 'قداس': 74, 'مخمخ': 0, 'فريقنا': 116, 'حلمي': 54, 'الصحافي': 6, 'باحبكم': 0, 'جهبذ': 0, 'الاولاني': 127, 'وبكبر': 0, 'اطلقتها': 47, 'مرعبهم': 0, 'مدمرهم': 0, 'بالظالم': 0, 'بفيلم': 38, 'مساعدات': 89, 'لنازحي': 57, 'كمد': 0, 'يذوب': 27, 'لبرلمان': 57, 'بشعار': 38, 'عبدالحميد': 62, 'حفيد': 62, 'وجدنا': 66, 'مواصفات': 99, 'اعضاء': 120, 'لكشف': 2, 'الاسرار': 85, 'بعبع': 57, 'ماعدش': 78, 'الحسابات': 92, 'الصالحين': 41, 'غضبك': 115, 'اعك': 42, 'عك': 42, 'اعوض': 53, 'اذاكر': 53, 'الميد': 97, 'لصناعه': 2, 'تسونامي': 22, 'امواج': 81, 'غنا': 128, 'طارد': 31, 'الخسيس': 6, 'بضابط': 57, 'علاقتها': 110, 'ﻋﻤﻴﻖ': 0, 'ﺧﺪ': 0, 'ﺑﻨﺎﺕ': 82, 'ﻗﺒﻞ': 82, 'ﺍﻟﻨﺎﺱ': 82, 'ﺗﺨﻴﻞ': 0, 'ﺃﺧﺘﻚ': 0, 'ﻏﻤﺾ': 0, 'ﺗﺘﻜﻠﻢ': 82, 'ﻧﻔﺲ': 82, 'ﻋﻴﻨﻴﻚ': 82, 'ﻋﻠﻰ': 82, 'غصب': 65, 'وزعلانين': 78, 'ساكت': 25, 'رفعنا': 50, 'وجمهوره': 116, 'يقلق': 61, 'مقتنع': 124, 'الحمل': 114, 'ترهبني': 31, 'والمهني': 57, 'شرفي': 116, 'وجودهم': 15, 'معارضي': 30, 'ماينفي': 0, 'هولوكوست': 57, 'المحتاس': 0, 'وانقاذ': 10, 'الخراب': 40, 'تصريف': 71, 'فخري': 101, 'عبدالنور': 16, 'وحنا': 21, 'متذنب': 0, 'ماعملهاش': 0, 'المنت': 42, 'والكرم': 31, 'يهدم': 61, 'العز': 31, 'وسائر': 117, 'كاندوم': 0, 'بيبع': 78, 'التنموي': 91, 'المجتمعي': 91, 'الاستثمار': 17, 'طيارين': 30, 'ميمو': 16, 'نرهب': 0, 'مسئولوا': 0, 'محروق': 25, 'وانتخاب': 57, 'والفراغ': 84, 'بتجبرك': 78, 'يداريها': 0, 'بيسحب': 119, 'بيمد': 78, 'متعلم': 3, 'تعبت': 9, 'فهرول': 0, 'حبوا': 98, 'فسر': 108, 'والرجوع': 129, 'فاركض': 58, 'فامش': 0, 'والخرطوش': 78, 'التخريب': 46, 'تعتقل': 10, 'الزيت': 114, 'السيديهات': 37, 'طلاق': 126, 'متشتمش': 78, 'قعدو': 98, 'يشتمو': 98, 'تشجعهم': 0, 'الموازيه': 57, 'رياح': 81, 'بالعدل': 129, 'وتابعوا': 79, 'وقبض': 106, 'ويشرح': 117, 'الريح': 81, 'يميل': 75, 'مجرمين': 11, 'منازلهم': 30, 'تبري': 75, 'التدخل': 110, 'ترف': 42, 'مندوب': 39, 'ﻣﻜﺎﻥ': 82, 'ﺯﻣﺎﻥ': 82, 'ﻟﺤﺪ': 82, 'ﻋﺸﺎﻥ': 82, 'ﺻﻮﺕ': 82, 'ﺍﻋﻴﺶ': 0, 'ﻣﻠﻴﺶ': 0, 'ﺑﻘﻮﻟﻬﺎ': 0, 'ﺍﻻﻫﻠﻰ': 0, 'ﻏﻴﺮﻙ': 82, 'ﻟﻴﻚ': 82, 'متصفح': 99, 'تنبيه': 26, 'مايكروسوفت': 17, 'اولي': 29, 'وط': 42, 'الافكار': 85, 'والمارس': 0, 'اقصاء': 71, 'وطبقات': 0, 'البعير': 6, 'قسمت': 35, 'بيفكر': 7, 'المحروم': 84, 'محروم': 25, 'فهمت': 8, 'ترتعد': 27, 'فرائصه': 0, 'المخالف': 129, 'سعفان': 101, 'تعمد': 69, 'الديك': 6, 'بشير': 62, 'ترحيل': 10, 'تعذيبا': 0, 'وصمتوا': 0, 'بالسجون': 30, 'قلبوا': 98, 'حماده': 49, 'عاطفي': 109, 'شهادتها': 97, 'شهبندر': 0, 'المنيل': 93, 'وارجو': 125, 'وضربوا': 98, 'بالشهداء': 11, 'البناتيا': 0, 'وعذبوا': 11, 'وسحلوا': 0, 'تاجروا': 11, 'عبدي': 41, 'الظن': 115, 'قناصو': 0, 'تدري': 122, 'القناص': 116, 'بالحوار': 38, 'المنظم': 91, 'البرلمانات': 37, 'لاتحاد': 39, 'دوليا': 73, 'العضو': 51, 'مؤتمره': 51, 'مكنا': 21, 'زعيمهم': 11, 'يتفهموا': 0, 'اختيارا': 28, 'عاوزينه': 7, 'كباري': 78, 'تركيب': 71, 'اﻻلتراس': 0, 'دق': 86, 'الفاشلين': 11, 'وافقت': 94, 'لثورتنا': 57, 'اخوه': 11, 'برذر': 0, 'دبس': 18, 'بمصايب': 0, 'بوده': 0, 'فراموش': 0, 'زلال': 31, 'فکر': 0, 'القائم': 2, 'وسمحت': 60, 'يزعم': 80, 'والتشويه': 106, 'حصولي': 20, 'وتويتر': 52, 'تبنت': 47, 'فكتوريا': 59, 'شلالات': 81, 'زمبابوي': 57, 'الاوميجا': 0, 'بالسيف': 106, 'متصالحا': 0, 'هتعملوا': 79, 'اخطار': 89, 'يوصلوا': 98, 'يكره': 75, 'عيشته': 107, 'هبعتلك': 45, 'لينك': 52, 'حملتنا': 37, 'تلتزم': 72, 'الشهاوي': 101, 'استراتيجيات': 4, 'بشقه': 77, 'نزلت': 8, 'تفتوا': 0, 'والنجوع': 57, 'ونخب': 57, 'زرتها': 8, 'ذكرتني': 8, 'تعدون': 79, 'واهو': 65, 'بيضا': 18, 'يريحو': 78, 'بايجابيات': 0, 'فوج': 76, 'تصفيق': 126, 'القصير': 91, 'الذنب': 63, 'تحريف': 126, 'ثقاب': 81, 'الوقود': 17, 'مؤكد': 109, 'عود': 86, 'بع': 42, 'ناقصها': 86, 'توصيل': 71, 'مشهور': 3, 'يتابعك': 52, 'فتحها': 20, 'خالفتها': 0, 'لعقوبات': 57, 'يهدينا': 58, 'البكري': 34, 'براشوت': 78, 'موقعه': 73, 'وظيفي': 97, 'خلافهم': 0, 'بانت': 8, 'تلاقيهم': 98, 'بيعايروا': 0, 'جربه': 0, 'توازنك': 115, 'تنفر': 69, 'استغفراله': 0, 'اتوب': 123, 'بقلم': 101, 'يحترمنا': 80, 'متعادله': 0, 'انباء': 104, 'غمرات': 0, 'خوضها': 0, 'يبتغي': 41, 'خض': 94, 'ثبات': 126, 'عملنا': 21, 'اعتصامات': 30, 'اتهامات': 89, 'ﻭﻓﻲ': 82, 'ﺍﻟﻌﻤﺮ': 82, 'ﺗﻐﻴﺐ': 82, 'ﺑﺎﻟﻲ': 0, 'ﻳﻘﺼﺮ': 0, 'ﺍﻟﺪﺭﺏ': 0, 'ﺍﻟﻠﻲ': 82, 'ﻓﻲ': 82, 'ﻟﻪ': 82, 'ﻵﺧﺮ': 0, 'ﺍﻟﺒﻌﻴﺪ': 0, 'ﻗﻠﺒﻲ': 82, 'ﺃﻭ': 82, 'ﻭﺗﻈﻬﺮ': 0, 'عرفتم': 79, 'مسارها': 37, 'كتبته': 108, 'اسمنت': 77, 'عواصف': 81, 'معمل': 77, 'معارك': 100, 'رمضانيات': 26, 'ولخير': 0, 'وسقوط': 100, 'يلتقون': 111, 'وشهد': 16, 'لطفك': 35, 'تاخذنا': 19, 'مشاغلها': 37, 'عمايل': 127, 'مشاغل': 4, 'الطاعه': 121, 'وتصريحات': 89, 'تشاب': 0, 'دشنت': 47, 'واحتمال': 44, 'مدار': 94, 'المسافات': 83, 'وازدادت': 27, 'اقتربت': 96, 'الكواكب': 81, 'التقرير': 51, 'نشيله': 21, 'ابدي': 27, 'معيوب': 78, 'الغلبان': 127, 'وتلبس': 12, 'يخلص': 119, 'مسابقه': 76, 'الاك': 42, 'عباره': 104, 'تساعدنا': 66, 'تسجيلي': 99, 'الصراعات': 85, 'متبعا': 28, 'بتشوفيهم': 0, 'الفخر': 60, 'وكشفه': 0, 'فاضطر': 0, 'يمتد': 32, 'طرده': 20, 'نافعا': 35, 'صيبا': 35, 'سقيا': 19, 'بنظره': 84, 'يزيحه': 0, 'عرش': 31, 'اخترتك': 53, 'خافقي': 54, 'الشيراوي': 0, 'وبرد': 128, 'اشتري': 53, 'لجادين': 0, 'بورصه': 77, 'شقتك': 77, 'واستعطاف': 0, 'ارهابا': 28, 'شردي': 49, 'رشو': 78, 'ويستضيف': 57, 'بتطبيق': 38, 'صديقي': 34, 'وموقفي': 0, 'دو': 59, 'الرافض': 91, 'مكفول': 129, 'لصحف': 57, 'زيها': 65, 'بكام': 112, 'هتقدر': 14, 'بتحبهم': 14, 'ツ': 0, 'وتهديد': 106, 'صراخ': 126, 'والجبن': 106, 'الفرنسين': 11, 'تروح': 12, 'اولادهم': 11, 'تطفي': 12, 'ادبح': 78, 'الغلب': 78, 'حضوري': 54, 'زاهي': 101, 'المر': 54, 'شت': 42, 'غيابك': 54, 'لعالمين': 0, 'الباقي': 86, 'عجباك': 14, 'عقيدتها': 37, 'معاقل': 100, 'فكت': 8, 'ناجح': 109, 'التكفيري': 6, 'دحلان': 6, 'المرء': 107, 'قرين': 101, 'يقتدي': 124, 'وسل': 24, 'شرفاء': 30, 'خليله': 107, 'الخدمات': 92, 'بالمقارن': 0, 'ويشهد': 58, 'التصديق': 20, 'الصادر': 91, 'بالامتناع': 104, 'شخ': 42, 'توجها': 57, 'ماشفتش': 45, 'دوس': 127, 'والدستور': 73, 'عصور': 4, 'الجامعه': 97, 'مذاكره': 97, 'ماذاكرت': 97, 'امحق': 86, 'بتفلحين': 0, 'ذاكرت': 8, 'ماعرفت': 9, 'بيجيبوا': 98, 'معرفش': 112, 'ومعتقل': 0, 'واعلان': 113, 'واثناء': 113, 'القاءات': 0, 'يعرفه': 61, 'هش': 86, 'حلوه': 29, 'سمعتها': 8, 'وافهمها': 0, 'احسها': 9, 'عصبين': 0, 'وحلفاؤهم': 0, 'مايشغلهم': 0, 'شتما': 0, 'برغم': 122, 'ينهالون': 57, 'الخصوم': 116, 'يتوقع': 69, 'الاقتراع': 17, 'بنشاطه': 0, 'مؤبد': 78, 'قناعتهم': 0, 'حكمهم': 40, 'النقابي': 91, 'الحشيش': 114, 'جديدا': 28, 'نشاطه': 17, 'ودفاعه': 104, 'السيف': 6, 'حرا': 103, 'ومرورا': 57, 'ساقطين': 11, 'مفتحتش': 45, 'امتحاناتك': 78, 'رفعها': 96, 'قناتنا': 26, 'توصلك': 12, 'وباكستان': 22, 'والشيشان': 57, 'تواجد': 71, 'اسلاموفيتش': 0, 'اليمني': 91, 'توظفت': 8, 'يفوتك': 61, 'القحطاني': 34, 'عقبالك': 127, 'الازال': 0, 'ومشهد': 57, 'صلاته': 107, 'لفقهاء': 0, 'المسحول': 101, 'يتقبلها': 58, 'محتفظا': 0, 'مصرعه': 10, 'فلاح': 62, 'اليومهل': 0, 'معلوم': 109, 'بموكب': 57, 'تخيلها': 0, 'مبخفش': 78, 'مافي': 65, 'اصدق': 70, 'وعلاقته': 43, 'تافه': 109, 'الحكومات': 85, 'نختلف': 50, 'مواجهت': 0, 'الدائره': 92, 'مطاي': 0, 'والمؤبد': 57, 'المتطرفه': 129, 'الابرز': 91, 'الاهم': 129, 'رفقته': 31, 'نسيانه': 20, 'كالهرم': 0, 'الشامخ': 6, 'محال': 84, 'غسل': 71, 'سرير': 18, 'تنقل': 47, 'حكومي': 3, 'الاهداف': 85, 'عمران': 36, 'بنزاهتها': 0, 'طلائع': 76, 'لحفل': 76, 'ويمثلها': 0, 'ليخفوا': 0, 'يطمسها': 0, 'اطلقوا': 111, 'اشارتها': 0, 'ويصون': 31, 'لانتقال': 2, 'يقمع': 80, 'يحمي': 58, 'الاوضه': 95, 'نايمه': 9, 'افرقع': 78, 'توتر': 126, 'تهجير': 30, 'مبدا': 126, 'حمايت': 57, 'مواطنين': 30, 'طائفي': 3, 'المصريه': 48, 'احضر': 53, 'ناويه': 65, 'ماجيستير': 97, 'هدير': 101, 'الجين': 57, 'بالزمالك': 49, 'بالخرفان': 0, 'مرحبا': 26, 'نجمه': 81, 'ستعود': 96, 'بشبين': 57, 'بصحبه': 38, 'مرش': 0, 'عنوانك': 115, 'يعارض': 80, 'لاجتهادات': 0, 'استثناءات': 126, 'خادما': 103, 'بحياته': 107, 'يعتز': 124, 'لملك': 2, 'ماكنش': 7, 'نهارده': 78, 'الجري': 20, 'وتقيد': 0, 'وترحيبها': 0, 'متكبر': 25, 'يتعالج': 119, 'ماعندهاش': 78, 'الدواء': 114, 'سيرفع': 104, 'الغذاء': 17, 'عذاب': 68, 'وتعرفوا': 78, 'مكيف': 95, 'مواطنيها': 120, 'تقزم': 0, 'يصبحوا': 87, 'اصبحنا': 66, 'والامان': 84, 'ناري': 100, 'بالبلطجي': 0, 'تفضح': 72, 'لياليه': 128, 'دعوات': 63, 'ثناياها': 84, 'ساعاته': 84, 'تهل': 12, 'ركعات': 121, 'صلو': 24, 'بركات': 101, 'توفيت': 96, 'دويدار': 49, 'تمردا': 0, 'نهجها': 129, 'كظيم': 25, 'عيناه': 83, 'ابيضت': 27, 'القرموطي': 49, 'بفيديو': 38, 'التحق': 43, 'تكتلات': 57, 'ميناء': 77, 'ساندت': 57, 'قاطعت': 8, 'تحسبن': 19, 'كلابا': 11, 'لطالمارقصت': 0, 'برقصها': 81, 'بالثبات': 117, 'الثبات': 68, 'يتميزوا': 0, 'مندوبين': 120, 'وظائف': 89, 'توظيف': 71, 'مبيعات': 17, 'ويشٺاق': 0, 'رجعہ': 128, 'يتذكرنا': 0, 'لارحنا': 0, 'قدرنا': 21, 'حلفاؤكم': 0, 'يخوفنا': 78, 'قمتم': 79, 'مرشحو': 39, 'تلقوا': 19, 'حرس': 39, 'ينظر': 32, 'الاستعلاء': 129, 'عالدائري': 0, 'المنيب': 0, 'بهواه': 0, 'نخسر': 66, 'نسرق': 21, 'كلش': 65, 'والكويت': 22, 'والصومال': 22, 'يحميني': 63, 'تحرشوا': 11, 'بمخاطر': 106, 'عشوائيا': 100, 'انفجارا': 28, 'بيلاعبوا': 78, 'يبادر': 80, 'لتوزيعه': 57, 'زن': 42, 'اشرت': 96, 'المكتبات': 92, 'هوارد': 59, 'المترجم': 6, 'اﻷبطال': 0, 'المتعلمين': 120, 'راقي': 109, 'الموحده': 76, 'كلمتكم': 79, 'المحترمين': 11, 'بهاء': 101, 'بور': 59, 'لوجو': 99, 'يدغدغه': 0, 'الاستاد': 93, 'بتاعنا': 7, 'هالك': 25, 'الجون': 112, 'جهنم': 68, 'ونصف': 67, 'دهسا': 10, 'ضحكتها': 83, 'تعيط': 14, 'بتعيط': 14, 'هسيبها': 78, 'خذلانك': 20, 'يبقيك': 58, 'فواله': 0, 'القادر': 56, 'تضاد': 129, 'العاجز': 6, 'معاق': 3, 'تزره': 0, 'الذهبي': 91, 'قناتي': 52, 'بزر': 65, 'وايش': 65, 'يتيوب': 0, 'واختياراتها': 0, 'الشير': 78, 'تفهما': 0, 'النسبه': 37, 'التنسيق': 110, 'التعقل': 15, 'القيادات': 92, 'والمجلس': 73, 'عهدمبارك': 0, 'القرابين': 37, 'دماؤهم': 11, 'لتروي': 27, 'تؤيد': 47, 'حمايتهم': 20, 'المجهولين': 30, 'ريب': 19, 'الائتمان': 17, 'الفلاحين': 120, 'ماتم': 113, 'تسلمه': 20, 'نقم': 100, 'مناظر': 4, 'السحل': 106, 'لقاؤنا': 0, 'سونار': 0, 'مولود': 3, 'جنينك': 0, 'تعرفين': 108, 'الداخ': 0, 'وكشف': 106, 'تشعر': 55, 'بجهله': 84, 'حديثه': 29, 'يساله': 80, 'المعتزه': 0, 'بدينها': 129, 'يحسمها': 69, 'عيونه': 83, 'خدو': 98, 'مالعالم': 0, 'عصر': 76, 'الميناء': 77, 'تخط': 42, 'قوته': 107, 'وتقويض': 0, 'جره': 31, 'مخرج': 77, 'حميد': 62, 'بياناته': 37, 'بفوزه': 1, 'السداد': 17, 'يختاره': 58, 'ادرك': 122, 'خالفوا': 111, 'خلوني': 9, 'مجن': 42, 'وشفيق': 49, 'يفرض': 32, 'فواجبنا': 0, 'الكيلاني': 101, 'طفولته': 107, 'لشاب': 44, 'كفاح': 101, 'قوتهم': 40, 'مطمئنين': 68, 'نقديا': 0, 'مقالا': 28, 'السيارت': 37, 'لحرم': 57, 'داخلين': 98, 'هاقولك': 45, 'حسك': 54, 'هتيجي': 14, 'افتكرتهم': 78, 'تهديدك': 0, 'اقبل': 96, 'ويرد': 44, 'اتفرجوا': 98, 'يعجز': 104, 'تبتلنا': 0, 'بلاءا': 0, 'معتز': 49, 'مومصدق': 0, 'كاست': 59, 'وصلني': 8, 'كافر': 3, 'بحديث': 38, 'فليصمت': 0, 'رفاقه': 30, 'سنرد': 57, 'بشعر': 86, 'نابولي': 64, 'ستستخدمه': 0, 'نعبر': 50, 'غضبنا': 66, 'ودبلوماسي': 0, 'علمت': 96, 'داره': 107, 'عقر': 31, 'ذكره': 121, 'بصد': 0, 'تبع': 98, 'راسمها': 78, 'ويعلنها': 0, 'التقيل': 127, 'بنود': 89, 'انقراض': 57, 'غايا': 0, 'تمريض': 97, 'اسنان': 18, 'دورات': 97, 'يجازيك': 58, 'ياشاغلني': 0, 'وشاغلني': 0, 'هتاك': 0, 'صمود': 30, 'نصرنا': 116, 'جوانا': 21, 'مدين': 60, 'لطفي': 101, 'استسلام': 126, 'اسئلتكم': 26, 'المجاني': 91, 'عسيري': 34, 'واستفسارتكم': 0, 'احمني': 35, 'واستقراره': 129, 'شمالا': 81, 'وجنوبا': 57, 'وحرصها': 0, 'والكتل': 57, 'شافه': 75, 'نوره': 62, 'المتهجدين': 121, 'بال': 42, 'باليل': 78, 'خلو': 79, 'وجوها': 81, 'حاولوا': 111, 'حرض': 30, 'الاقتحام': 46, 'مك': 42, 'اشرفوا': 0, 'المجموع': 67, 'تشتبك': 100, 'نافذ': 129, 'قير': 59, 'خليج': 77, 'كليوباترا': 16, 'معزه': 60, 'ومقدر': 9, 'ادري': 122, 'اندلع': 100, 'هائل': 100, 'الكائن': 6, 'الاسرائلين': 0, 'بسؤال': 38, 'واحدهل': 0, 'ماتكتب': 33, 'عزاء': 60, 'ليقتل': 80, 'بالمليارات': 17, 'ستنقلب': 57, 'نمتلك': 66, 'وانتشر': 106, 'والحبس': 57, 'وباء': 106, 'بمكتبي': 0, 'سرور': 101, 'الزحف': 46, 'ثلاثا': 41, 'غفرت': 63, 'فارا': 81, 'ذنوبه': 107, 'التابع': 91, 'القسام': 46, 'طائرات': 100, 'لكتائب': 100, 'جميلا': 103, 'يفقدك': 61, 'بادلب': 100, 'جبل': 81, 'ولازالو': 11, 'نتصر': 0, 'نصرهم': 40, 'والمغتصب': 0, 'حاربوه': 11, 'فرجه': 117, 'سفنكس': 0, 'تقروا': 79, 'لاتنين': 78, 'استعدوا': 79, 'حاخام': 3, 'بالجون': 78, 'وختمها': 0, 'ومدير': 39, 'ياض': 127, 'بضان': 112, 'استيراد': 71, 'اقتراح': 73, 'بالتفاصيل': 38, 'وسنوافيكم': 57, 'الوباء': 114, 'واياكم': 121, 'كفانا': 106, 'السموات': 68, 'واﻷرض': 0, 'لشئون': 39, 'ندب': 57, 'مساعدا': 39, 'القناوي': 101, 'فاكره': 45, 'اكتشفوا': 111, 'وبيشرب': 78, 'سلطوي': 57, 'لقاؤه': 0, 'بيشرب': 7, 'ناصري': 3, 'ينفق': 32, 'ملحق': 77, 'شروطنا': 0, 'نتج': 104, 'مستقل': 3, 'بحبس': 10, 'تحريات': 89, 'وثرواتها': 0, 'عقدوا': 57, 'وباعوا': 111, 'صلحا': 0, 'خنق': 27, 'الكيان': 116, 'وشركاتها': 0, 'سرقوا': 111, 'برليف': 0, 'الطائرات': 92, 'الاسرائيليه': 48, 'عدينا': 21, 'اسقطنا': 57, 'جنائن': 27, 'الورد': 128, 'متبعه': 78, 'الانتهاكات': 46, 'والاعتداء': 10, 'بيتين': 128, 'يحتوي': 94, 'بعملياتها': 0, 'المجموعات': 92, 'وريفها': 100, 'امداد': 100, 'فاعليات': 76, 'تكسرت': 8, 'سيوف': 31, 'بيده': 107, 'الوليد': 62, 'يتصل': 119, 'ليطلب': 0, 'بحازم': 0, 'ابواسماعيل': 49, 'ارهابه': 57, 'يكف': 61, 'ينافس': 32, 'زينيت': 64, 'مدافع': 23, 'سان': 64, 'يوفينتوس': 64, 'دوريا': 57, 'بطرسبرج': 0, 'بوتافوغو': 0, 'البرازيلي': 64, 'ولايات': 89, 'شيرت': 59, 'لاغراضها': 0, 'بيتكلم': 7, 'المج': 42, 'اعصام': 0, 'اﻻعدام': 0, 'احكام': 73, 'تثبيت': 71, 'قيادت': 0, 'يقربني': 63, 'وبيحدفوا': 0, 'تحمله': 61, 'ميليشيات': 46, 'معاني': 4, 'وجاهزين': 0, 'يحاسبها': 78, 'تحاسب': 72, 'فيجب': 125, 'لطلب': 113, 'العقارات': 17, 'ذكائهم': 11, 'دماغهم': 112, 'لتفهم': 72, 'لتعرفوا': 11, 'تحلموا': 0, 'بوطن': 38, 'اقطعها': 53, 'الرباعي': 116, 'والوعد': 86, 'بزق': 86, 'توقيعات': 89, 'جمعوا': 111, 'وقفت': 8, 'مقراتهم': 37, 'وفلوس': 18, 'لايعرف': 32, 'سنسترد': 0, 'الوشين': 0, 'اخلاها': 0, 'حديثا': 28, 'لمجند': 0, 'بتعتبر': 78, 'العثمانلي': 0, 'ذنب': 63, 'بحل': 38, 'توازنها': 37, 'وتعافي': 0, 'الاراضي': 92, 'الاسكان': 17, 'تكف': 104, 'التنك': 78, 'تورع': 0, 'تجاهلها': 20, 'فستان': 18, 'عبالي': 65, 'روج': 18, 'رح': 65, 'امنيا': 73, 'مرعب': 109, 'واغتيال': 57, 'جرام': 114, 'وبحوزته': 100, 'تضبط': 12, 'هيرو': 59, 'بانجو': 127, 'بستفاد': 0, 'وفصلوا': 0, 'الشركات': 92, 'بالتشكيل': 57, 'بسوق': 77, 'الخضار': 114, 'موظف': 3, 'هنيئا': 60, 'حقده': 107, 'التاري': 0, 'وكره': 106, 'وتشمت': 0, 'بفصل': 38, 'نستذكر': 57, 'وساعد': 57, 'وجدو': 111, 'لمواطن': 3, 'راعي': 86, 'سؤالهل': 0, 'بيوعد': 78, 'تثير': 47, 'مواهب': 4, 'خنجرها': 0, 'كبد': 81, 'سهمها': 0, 'الخطير': 91, 'ستدرك': 122, 'الواضح': 122, 'فسطاطين': 0, 'لوائل': 101, 'الطيور': 81, 'والتعليق': 94, 'القرم': 31, 'سيعلن': 104, 'واغلاق': 113, 'بالاحتشاد': 0, 'المرحلتين': 37, 'الميادين': 30, 'سيستمر': 32, 'والتصويت': 26, 'واستفتاء': 57, 'طوارئ': 93, 'تحسبا': 100, 'بمستشفيات': 57, 'لمظاهرات': 2, 'الكويس': 7, 'وقاطعي': 0, 'يجبرك': 125, 'الوحش': 6, 'استديو': 99, 'بتسجيل': 38, 'لائحتها': 0, 'تستوجب': 113, 'بتف': 78, 'فريده': 29, 'مطابخ': 89, 'التميز': 15, 'الجوده': 17, 'نوعها': 4, 'تبحث': 104, 'نجع': 93, 'حمادي': 93, 'تصوت': 72, 'صفحتي': 52, 'احمر': 18, 'تفكيرك': 115, 'صادر': 104, 'المحتملين': 57, 'سكوير': 59, 'كوينز': 52, 'الزهراء': 74, 'نعملكم': 0, 'الكوبري': 95, 'شاركوني': 26, 'يدخلك': 72, 'ريسنا': 78, 'تغمده': 117, 'تبسم': 128, 'وفم': 81, 'وثناء': 117, 'وصحبه': 24, 'فالكائنات': 0, 'شوقي': 54, 'الفيروس': 114, 'التنفير': 0, 'اخباري': 33, 'ارب': 63, 'كارمن': 16, 'سكه': 128, 'يابلال': 0, 'وتقول': 108, 'وترحم': 117, 'تلاقيها': 14, 'اقرب': 70, 'مهتمين': 124, 'بدمه': 107, 'لقاءاته': 37, 'لفيس': 0, 'اتقفل': 45, 'بتغير': 14, 'شبح': 81, 'واحتواء': 129, 'المفت': 42, 'هاشم': 62, 'وخرج': 44, 'البغل': 6, 'رقابنا': 35, 'توضئ': 0, 'الوالده': 16, 'اقنعونا': 0, 'فطر': 80, 'تبكوا': 79, 'مناصري': 30, 'بلدكم': 40, 'تفرطوا': 19, 'ومصابي': 57, 'التدريس': 97, 'بنادي': 76, 'لاستعلام': 0, 'يقبض': 80, 'ابناء': 30, 'بجريمتهم': 0, 'ويعترفون': 57, 'وشاشات': 57, 'وجوزها': 16, 'عشانهم': 65, 'بيحبوه': 98, 'الغزالي': 101, 'يوزع': 119, 'موزع': 99, 'الد': 31, 'فياض': 101, 'قريش': 74, 'شيكاجو': 0, 'شوفي': 86, 'لاخو': 0, 'المريض': 107, 'ينعش': 27, 'المعونات': 92, 'بدفعه': 57, 'الكرم': 15, 'لعنات': 57, 'مالمو': 0, 'يستحقونه': 87, 'بالسويد': 57, 'منافقي': 57, 'حاطين': 98, 'تعر': 0, 'الخواجات': 78, 'بسبس': 59, 'يصوتون': 111, 'نمجد': 0, 'نحترمهم': 11, 'لبسطاء': 0, 'المتواطئين': 0, 'سنقف': 66, 'بالصمت': 84, 'الاخطاء': 85, 'فحن': 0, 'بالمرصاد': 60, 'اتباع': 129, 'نحترم': 66, 'وجهان': 60, 'سيتصل': 124, 'بشفيق': 78, 'الثمانينات': 22, 'يفهما': 61, 'هيولعوها': 78, 'الربط': 110, 'الاس': 42, 'يشتمونك': 0, 'ستلاحظون': 0, 'طبنجات': 0, 'عضوين': 120, 'عندوش': 78, 'اليما': 28, 'بطنه': 107, 'باتا': 57, 'بالظلم': 38, 'شعرت': 122, 'زيارتي': 60, 'بالحزن': 84, 'واستكمال': 113, 'الفعاله': 129, 'المرفقه': 26, 'والراغب': 0, 'الغربي': 91, 'المشكلات': 85, 'يهدف': 113, 'وزعيم': 39, 'متميز': 109, 'قصتان': 0, 'ﻷهل': 57, 'سيصيب': 0, 'بالخل': 0, 'سمودي': 0, 'تعرضها': 20, 'اليامون': 0, 'لدهس': 57, 'كتابهم': 11, 'المخطوبات': 0, 'الكاتبين': 0, 'المتزوجين': 120, 'المتزوجات': 120, 'وكلمات': 29, 'هتعجبك': 45, 'سوزان': 16, 'الديب': 49, 'السائحون': 57, 'يرحل': 75, 'البليد': 6, 'رمزيه': 29, 'رمزيات': 99, 'ديزاين': 59, 'مصمه': 0, 'رايكم': 79, 'ليكونوا': 11, 'ومشروع': 2, 'ذهبوا': 111, 'فاشلين': 11, 'مهرولين': 0, 'وقوفه': 110, 'المنتمين': 120, 'هيكتشفوا': 0, 'اختشوا': 78, 'هزار': 127, 'مكتشفها': 0, 'اخفاؤها': 20, 'نفي': 39, 'تلبيس': 16, 'تعتبرون': 79, 'حذاءه': 107, 'تفكيركم': 33, 'تفهموا': 79, 'اتغيرت': 14, 'وبقينا': 21, 'بصف': 86, 'لاستجواب': 73, 'واستمع': 60, 'الاقصر': 93, 'نائم': 25, 'داخلها': 81, 'المونديال': 1, 'واجهته': 0, 'زيفه': 0, 'بالتصفيق': 38, 'قاطعها': 0, 'مجتش': 45, 'مقبلتش': 0, 'ميقلوش': 0, 'يحبوا': 98, 'نشبه': 65, 'الضرائب': 17, 'التطبيق': 51, 'يطبق': 80, 'الانتقائي': 129, 'مصادرها': 37, 'فاحش': 126, 'ثروته': 107, 'تبلغ': 55, 'وهنمتحن': 0, 'الترم': 51, 'دخلنا': 21, 'وهنسقط': 0, 'سنكون': 66, 'لحمدين': 101, 'استقطابات': 0, 'بقدر': 84, 'نيلسون': 57, 'مانديلا': 6, 'جنازته': 107, 'اعتلاء': 57, 'منابر': 94, 'شيزوفرنيا': 78, 'تايملاين': 59, 'اخونا': 34, 'كسرها': 84, 'وثالث': 44, 'وعاشر': 0, 'وقادرين': 57, 'عدول': 0, 'ينتقص': 69, 'ثوره': 46, 'واعمل': 45, 'بتدور': 14, 'بتربط': 78, 'وبص': 127, 'الكوتش': 116, 'سابك': 17, 'ورقك': 78, 'ساحل': 77, 'لاحرار': 76, 'دحل': 0, 'القطرين': 78, 'ومستشاره': 57, 'اماراتيون': 57, 'وبتواطؤ': 0, 'جماعي': 120, 'بصواريخ': 100, 'الغراد': 100, 'شبيحته': 30, 'زيك': 127, 'وصي': 94, 'وتكبر': 27, 'باسمه': 38, 'خلدون': 62, 'وتسيبني': 78, 'وبيموت': 78, 'حموت': 45, 'تعبان': 25, 'عشانك': 65, 'متموتش': 78, 'المارس': 0, 'بربك': 115, 'فقولي': 117, 'خلقت': 96, 'الحياء': 15, 'باكبر': 38, 'يتعاركان': 0, 'علنيا': 57, 'ليحضر': 57, 'وياه': 65, 'وجاي': 65, 'محبته': 63, 'ويفرحكم': 117, 'متعني': 31, 'ياشيخ': 86, 'وتجون': 0, 'استح': 86, 'واستقلال': 129, 'قرن': 67, 'قرنين': 18, 'تفجيرات': 100, 'حباره': 101, 'دهب': 127, 'بيكدبوا': 78, 'الكدب': 127, 'اتهمته': 57, 'ارتقوا': 79, 'هتشوفوا': 78, 'بيف': 18, 'سيطبق': 80, 'طرقات': 81, 'ومداخل': 57, 'راي': 126, 'مغوار': 0, 'كانك': 90, 'معرص': 127, 'مصالحه': 110, 'وبركاته': 58, 'بمقومات': 0, 'العصف': 129, 'فتش': 104, 'والتليفزيون': 93, 'اموالها': 37, 'انفعال': 126, 'جهز': 86, 'الجديدي': 1, 'هوفر': 129, 'تثور': 72, 'الاستثمارات': 17, 'الاشخاص': 85, 'حكر': 94, 'الذقن': 114, 'شكراا': 60, 'تخطر': 55, 'قري': 5, 'الخسائر': 85, 'والمحافظ': 57, 'لحصر': 2, 'بمياه': 81, 'الصرف': 17, 'تبخر': 27, 'يقترض': 57, 'خسيس': 3, 'ويهاجم': 44, 'ساندوا': 111, 'نجوما': 81, 'يجتمع': 32, 'الكون': 83, 'ومصدر': 129, 'وسر': 117, 'توازن': 110, 'بالبعض': 38, 'عرضي': 0, 'وزوجتي': 57, 'التدني': 129, 'وتداولها': 0, 'حسابات': 89, 'واسمي': 86, 'التعاطف': 15, 'بجهلهم': 11, 'جلبوا': 57, 'نقله': 71, 'ركيك': 109, 'حذفت': 8, 'لقطات': 4, 'يتعامل': 32, 'يتوجب': 125, 'كمرشح': 57, 'ميكانيكي': 3, 'والخط': 129, 'بالدوري': 1, 'تسجيلهم': 20, 'الارد': 0, 'حانت': 96, 'داعميه': 57, 'الاعتماد': 94, 'نقف': 66, 'تفاعل': 26, 'ستسميه': 0, 'توجهاته': 37, 'تشكل': 47, 'انفجرت': 8, 'تكوني': 72, 'فهمتي': 108, 'بيتقتلوا': 78, 'تربص': 57, 'وبهرج': 0, 'مبسوط': 25, 'حيف': 31, 'صادروها': 0, 'لحسابهم': 57, 'استقبل': 47, 'والتزوير': 106, 'يستهينون': 11, 'وسيلقون': 0, 'والتيارات': 37, 'ويعدل': 44, 'نطبق': 66, 'خمسه': 67, 'بيحكم': 7, 'والسيسي': 49, 'حيحكم': 78, 'دعواتك': 63, 'جدولا': 37, 'يقترحون': 57, 'تليها': 47, 'زمنيا': 28, 'منطلقات': 57, 'الاطلاع': 20, 'الترشيح': 73, 'لاتمطر': 0, 'ارزقني': 35, 'ذهبا': 103, 'السفه': 15, 'والنساء': 106, 'وتغليب': 129, 'نفذ': 96, 'حاسم': 109, 'بالحفاظ': 94, 'تعهدك': 0, 'تعهد': 73, 'قناه': 99, 'جماله': 128, 'طرح': 71, 'لنص': 78, 'وبناءا': 94, 'تفسيرها': 33, 'فكانت': 44, 'شافوني': 9, 'بازعق': 0, 'وعجبتهم': 0, 'كلمهم': 78, 'يامحمد': 86, 'منصر': 101, 'خلافه': 73, 'سعيود': 64, 'تقسيم': 71, 'ومؤمنون': 0, 'واغبياء': 11, 'والعكس': 129, 'بقذائف': 100, 'الهاون': 100, 'يستهدفون': 111, 'وتزوج': 44, 'بطيخ': 18, 'امراته': 41, 'الادلاء': 73, 'مذكراته': 101, 'ضباع': 11, 'مفصل': 109, 'وحديث': 27, 'لفصيل': 57, 'اسبوعي': 109, 'يعكر': 61, 'عجبت': 41, 'صفوه': 31, 'انكار': 126, 'يبرئه': 0, 'سعيا': 28, 'هتعدي': 14, 'اسمر': 18, 'بغمازات': 0, 'وسيقود': 0, 'ومؤمن': 124, 'ميتا': 103, 'قناعتي': 124, 'ظامي': 54, 'وحنين': 128, 'لوصالك': 54, 'لتركيا': 22, 'وبيقولوا': 98, 'زفر': 86, 'سلملي': 94, 'بتسلم': 14, 'متزعلش': 14, 'فسهر': 0, 'حباته': 0, 'يلم': 75, 'اتقطع': 45, 'ﻛﺒﺮﺕ': 0, 'هنسي': 45, 'تيشيرت': 18, 'المدخل': 51, 'ابراهي': 0, 'نشعر': 66, 'المصريات': 120, 'بركاتك': 127, 'ونشطاء': 30, 'مقصر': 25, 'واحشني': 25, 'شادي': 49, 'يترشح': 80, 'وشكاوي': 57, 'يرتوت': 119, 'حضيف': 0, 'بحذفها': 0, 'الانتقالي': 48, 'ريم': 16, 'والروائي': 101, 'العل': 42, 'اعتزام': 57, 'نسيتني': 54, 'نصبح': 66, 'سبيلهم': 11, 'غايب': 25, 'فرضت': 47, 'مرها': 83, 'استودعتك': 35, 'حلوها': 128, 'يسقيني': 27, 'يلهي': 104, 'والاجتماعي': 129, 'السفاح': 6, 'عنين': 127, 'انتظرو': 79, 'جيمي': 127, 'بيتكلموا': 98, 'اخوات': 98, 'ونحمد': 58, 'الب': 42, 'مورد': 57, 'وعميل': 3, 'والاقباط': 30, 'تام': 109, 'تشكو': 55, 'يشاركان': 101, 'جورجيا': 22, 'عيدها': 31, 'صراحه': 65, 'الصوره': 52, 'اطلاقها': 20, 'تظلم': 72, 'هايدي': 16, 'راسخ': 129, 'المستندات': 92, 'جنايا': 0, 'شلبي': 49, 'ندافع': 50, 'بالاستبداد': 0, 'نيته': 107, 'فلتكتب': 0, 'الصابر': 31, 'استعينوا': 79, 'والصور': 99, 'يتعارض': 61, 'السباق': 51, 'اتراجع': 104, 'تفرغ': 55, 'لمعارك': 57, 'المدرج': 116, 'يشجع': 80, 'ينزلون': 111, 'بتاعه': 112, 'قرداتي': 0, 'والقرد': 0, 'قرد': 3, 'مبدئيا': 78, 'السمك': 114, 'ماليه': 17, 'بنصف': 38, 'امكانيات': 23, 'متطلبات': 4, 'التكاليف': 17, 'فاردز': 0, 'تسبد': 86, 'وصلون': 0, 'ياخي': 65, 'وصلته': 8, 'طس': 86, 'فينقر': 64, 'وقدير': 0, 'السيئات': 68, 'ياسمين': 16, 'حربه': 23, 'بلير': 48, 'يدشن': 76, 'ينضح': 124, 'اناء': 121, 'والبرلمانات': 0, 'الاستقواء': 129, 'ايجابي': 109, 'مانع': 126, 'المكي': 74, 'يشهر': 80, 'الجيب': 95, 'راق': 42, 'ﺍﻋﺘﺮﺍﻑ': 0, 'ﺑﺎﻳﺮﻥ': 0, 'ﺑﻜﺮﻩ': 82, 'الميك': 52, 'شنو': 65, 'ﻣﻴﻮﻧﺦ': 0, 'ﻋﻤﻰ': 0, 'ﺗﺸﻴﻠﺴﻲ': 0, 'التوافقي': 73, 'يناقش': 32, 'طفله': 16, 'عمرها': 67, 'يستمتعو': 0, 'لوالديها': 117, 'وسب': 106, 'المؤامره': 85, 'بقالي': 45, 'ابعاد': 71, 'بميادين': 57, 'وتنفيذا': 0, 'مليونا': 13, 'وتفعيلا': 0, 'بصناديق': 57, 'وصياغته': 0, 'دستورك': 78, 'تسعه': 67, 'والعزاء': 57, 'وسياسي': 3, 'التصدعات': 0, 'ومالي': 9, 'تنظيمي': 57, 'ثقل': 128, 'غارديان': 48, 'شهدائه': 0, 'بغيظك': 78, 'جيشه': 40, 'رئيسك': 6, 'سقط': 96, 'ستسقطون': 0, 'الحوائج': 121, 'يحتاجه': 61, 'الصمد': 123, 'وزر': 126, 'يتحملون': 87, 'وشيوخ': 11, 'مسميتها': 0, 'التام': 129, 'نؤكد': 66, 'رفضنا': 73, 'يسعده': 58, 'مصيبتي': 35, 'اجرني': 35, 'تخي': 42, 'الاكسج': 0, 'عايزها': 14, 'هدوءك': 115, 'تزعق': 14, 'تخانق': 0, 'اتفق': 110, 'خلقوا': 87, 'المليشيات': 46, 'خدعت': 96, 'مستبدين': 0, 'تحصل': 55, 'منظره': 78, 'عايزانا': 78, 'وبتدينا': 0, 'قفانا': 127, 'معندناش': 112, 'كمصرين': 0, 'جثامين': 30, 'وقرارات': 89, 'بانتصار': 38, 'بتضيع': 14, 'انكسار': 27, 'ومابينهم': 0, 'لمقعد': 57, 'ومرشح': 39, 'المستعان': 58, 'عاش': 75, 'كاشخين': 98, 'مسوين': 98, 'وبنات': 98, 'كاشخات': 0, 'مسويات': 0, 'مثقفين': 11, 'يبي': 119, 'مثقفات': 0, 'الوحيشي': 101, 'مصم': 0, 'جرافيك': 99, 'فيكي': 127, 'هند': 16, 'متعرفهوش': 78, 'فكره': 4, 'درجه': 4, 'ميعرف': 0, 'مقفول': 7, 'يابوب': 127, 'بوب': 59, 'امتنعت': 104, 'المشرع': 129, 'اتقتل': 7, 'سنكسر': 0, 'الحلواني': 101, 'انشراح': 63, 'بيتجه': 0, 'المنتظم': 129, 'والمستمر': 0, 'اعتماده': 71, 'الخلط': 110, 'افتكروهم': 78, 'سبيلك': 68, 'حلها': 20, 'قراراتي': 85, 'الحظ': 54, 'لتونس': 22, 'اتعرف': 53, 'وصلتنا': 47, 'ثبيت': 0, 'معدلاته': 0, 'ورفع': 117, 'ونوعا': 0, 'لتغير': 2, 'التفاوض': 110, 'الملحق': 51, 'اردوغ': 0, 'بكاء': 128, 'اعتقله': 57, 'يحذر': 69, 'سيول': 5, 'بالقمح': 0, 'سيريلاك': 18, 'ابل': 17, 'والت': 42, 'بيكسار': 0, 'جوبز': 6, 'ديزني': 59, 'ستيفن': 64, 'موفق': 109, 'بتحصين': 57, 'عاطلات': 57, 'حرمان': 126, 'جامعيات': 0, 'معلم': 3, 'قديمات': 0, 'خريجات': 117, 'ليمنع': 57, 'تجبرنا': 66, 'اختلفنا': 50, 'منافق': 3, 'مافعلتموه': 0, 'غضبان': 56, 'لجنون': 27, 'جهادك': 0, 'تحتفظ': 124, 'مشتعل': 27, 'نمر': 6, 'بخطاب': 38, 'لهتلر': 0, 'التمكين': 129, 'بيانها': 51, 'مروحتين': 0, 'وضابطين': 0, 'موالي': 3, 'وانتظروا': 57, 'بثها': 20, 'تشتعل': 27, 'برنابيو': 64, 'سنتياجو': 0, 'لبيه': 86, 'لنبي': 41, 'وطغاتها': 0, 'لحلول': 2, 'التلاقي': 54, 'نتخب': 0, 'لتشعر': 124, 'والظلم': 106, 'ويزرع': 44, 'يتوقفون': 104, 'نتكاتف': 66, 'انقذوا': 106, 'وفاد': 0, 'بذكاء': 129, 'ماتعلمش': 0, 'بدم': 106, 'عبفتاح': 101, 'بيتس': 0, 'ايان': 123, 'ارتكابه': 20, 'امتناع': 73, 'الفاتيكان': 48, 'بتعين': 57, 'سفيرنا': 48, 'ﻛﻨﻪ': 0, 'ﺗﻮ': 0, 'ﺭﻭ': 0, 'ﻫﺎﻱ': 0, 'ﺩﻱ': 82, 'ﻣﺤﻤﻮﺩ': 82, 'افلس': 80, 'اغلق': 96, 'ترفضه': 126, 'باغتيال': 38, 'مشتبه': 124, 'ستوقف': 57, 'اصفر': 18, 'لونها': 18, 'وجمعيات': 57, 'يتحرك': 32, 'بالمجتمع': 129, 'تلزمها': 0, 'التقدير': 60, 'بتوثيق': 38, 'وحالات': 106, 'الولد': 107, 'الشقي': 54, 'لتعاون': 57, 'العوائق': 85, 'والنزاعات': 57, 'الفلبين': 22, 'لمدن': 57, 'لانهاء': 2, 'وتسليم': 113, 'عوا': 42, 'تواجها': 0, 'بالمخاطر': 37, 'الامراض': 114, 'اصدرت': 47, 'فاحتج': 0, 'ونزلوا': 98, 'متحديا': 57, 'جلوبو': 0, 'ومعلنا': 0, 'ارتداء': 71, 'هينفذ': 78, 'مصاري': 18, 'تجميد': 71, 'وبلاد': 117, 'تهمني': 72, 'كاش': 59, 'الصيد': 114, 'اتخذت': 96, 'علما': 28, 'لوجهات': 129, 'الموتور': 78, 'مشيت': 8, 'الشاسيه': 0, 'انفراد': 99, 'الصلاحيات': 85, 'صدوره': 20, 'غاء': 0, 'وجمعه': 2, 'شئء': 0, 'جائز': 129, 'فعادت': 0, 'ملحد': 3, 'يصنف': 80, 'العناصر': 92, 'بحزم': 129, 'لسلام': 57, 'بتفرج': 45, 'اساند': 0, 'الدش': 95, 'تعاملت': 96, 'المرا': 37, 'الماشي': 94, 'القويه': 29, 'ظهيرتكم': 0, 'سيلها': 0, 'السحابه': 81, 'كسبتم': 79, 'انكما': 0, 'اغتاب': 80, 'سجلتها': 8, 'الانقلابيه': 46, 'يمشط': 27, 'تبديلا': 36, 'ابقو': 79, 'وتضارب': 57, 'الانتهاء': 20, 'خلط': 71, 'اختصاصات': 73, 'وتحايل': 0, 'لدراسات': 57, 'اعتذرعن': 0, 'مشاعرهم': 11, 'ابناءهم': 11, 'مقتحمي': 57, 'الثريا': 81, 'توضيح': 71, 'قالته': 108, 'مسيرتي': 37, 'النعام': 81, 'نعومي': 59, 'رخم': 112, 'بوجوده': 38, 'بغيابه': 84, 'يغردوا': 0, 'وبيع': 106, 'يملكها': 61, 'بالريتويت': 26, 'عقارات': 77, 'دعمكم': 26, 'بنصائح': 0, 'والخيار': 129, 'بالمجمعات': 11, 'الطماطم': 114, 'واعي': 25, 'تشاركوا': 79, 'نشتم': 21, 'ذوه': 0, 'تاجر': 3, 'وطنيته': 107, 'ونقائه': 0, 'المناخ': 17, 'الملوث': 106, 'علمه': 107, 'يسعي': 32, 'تزجوا': 0, 'نسيان': 20, 'خطورته': 37, 'وحلوله': 0, 'خسائر': 89, 'سلالمكم': 19, 'نياتكم': 94, 'ترزقون': 94, 'فشلتم': 96, 'تغيروا': 87, 'ويردون': 98, 'القتيل': 6, 'سيحول': 57, 'البل': 42, 'الدالي': 101, 'وطلبت': 113, 'قضيتها': 37, 'متخص': 0, 'المحركات': 114, 'بيتنا': 95, 'موتورها': 0, 'تود': 125, 'عاشق': 128, 'حلكم': 0, 'حفظكم': 58, 'وترحالكم': 0, 'هليوبوليس': 93, 'المنكر': 15, 'العبيط': 127, 'ليعمل': 80, 'بزي': 57, 'بريد': 99, 'جوجل': 52, 'سكايب': 52, 'محامون': 30, 'الخرج': 5, 'وصرنا': 21, 'نعشق': 66, 'سالفه': 65, 'نوينا': 21, 'السان': 0, 'اشبه': 124, 'يستقبل': 43, 'حته': 112, 'يشحن': 119, 'مبيعرفش': 7, 'بيعرف': 7, 'موقفك': 33, 'تقاضت': 0, 'كرمان': 48, 'لانضمام': 57, 'بقيالك': 78, 'يتشتم': 78, 'صحته': 107, 'يتركون': 87, 'الكليات': 92, 'التاكد': 20, 'فشلك': 115, 'وصفي': 101, 'لتخفي': 0, 'لرئيسك': 0, 'وفشله': 57, 'بيعصبك': 0, 'سيعود': 32, 'ليقود': 57, 'يضر': 105, 'تحريضي': 57, 'تمجيد': 126, 'الستينيات': 37, 'ينتمي': 60, 'رئيسه': 39, 'ديكتاتورا': 57, 'واحتكار': 57, 'يدفعه': 32, 'لمركز': 2, 'باسوان': 93, 'ومال': 31, 'بالضبط': 65, 'قصدك': 86, 'ميرنا': 16, 'لسبرزكي': 0, 'وصحابو': 0, 'تاكي': 59, 'العربجي': 78, 'ذقنك': 81, 'الصحه': 17, 'سندي': 101, 'الدكتوره': 16, 'الملحم': 34, 'لميونخ': 0, 'سؤالا': 28, 'لمصارع': 0, 'مباراه': 1, 'قيريرو': 0, 'باقولها': 78, 'بتسعد': 0, 'الهزار': 112, 'يسعدك': 58, 'راضين': 98, 'كاجا': 0, 'فاتسكه': 0, 'درتموند': 0, 'ليفاندوفسكي': 64, 'خرفان': 98, 'وروحنا': 78, 'سيبنا': 21, 'ياريتنا': 21, 'هوس': 126, 'هيفهم': 7, 'والملكه': 16, 'والقبيله': 129, 'بلسانا': 0, 'تكلمتي': 108, 'نشكرك': 94, 'تعارض': 110, 'لتقيم': 57, 'واتخاذ': 113, 'ندور': 21, 'لتستعيد': 57, 'سيطرتها': 46, 'يحدهم': 0, 'اسامه': 62, 'مدنيا': 13, 'تشهد': 47, 'رحلو': 87, 'ياحريه': 0, 'واخلف': 35, 'تطبيل': 126, 'الحاجات': 85, 'وفود': 89, 'الكرنك': 93, 'معبدي': 0, 'اناشد': 57, 'بالتعبير': 104, 'انتبه': 108, 'الابتعاد': 104, 'تفرضوا': 0, 'ابرد': 70, 'والانقلابيون': 57, 'بتغلي': 78, 'الخلاص': 20, 'بدمنهور': 93, 'رايات': 31, 'المفكر': 6, 'المتطاهر': 0, 'اجيب': 53, 'مفتاح': 129, 'نحبط': 0, 'اعطونا': 79, 'لجاسوس': 0, 'بيشتغل': 7, 'اسمو': 59, 'متعرفش': 14, 'الانشغال': 15, 'التخطيط': 17, 'صعبا': 103, 'وسياسيا': 28, 'ماليا': 57, 'وضعا': 28, 'بيحسك': 0, 'مبيغلطش': 78, 'اتفقنا': 21, 'انعم': 35, 'ابرار': 16, 'وتحيا': 31, 'والمحامون': 57, 'بمحاكم': 57, 'ودمنهور': 0, 'يعلقون': 111, 'بيروجوا': 78, 'لغلق': 2, 'يقفل': 119, 'الصعباوي': 0, 'نغني': 21, 'جابها': 119, 'قايد': 31, 'اصيب': 10, 'الميزان': 37, 'المجهر': 81, 'حير': 80, 'فليقتل': 0, 'لتطبيقه': 57, 'قاوم': 96, 'نجاهد': 66, 'بالسلاح': 46, 'اليومي': 91, 'اوغاريت': 100, 'بالصالحين': 35, 'تعش': 72, 'والحقني': 35, 'توفني': 35, 'امرها': 63, 'فرج': 35, 'تعاني': 55, 'واشفها': 117, 'واكتبها': 0, 'طمئن': 117, 'ترشحي': 73, 'طلبا': 28, 'المستفيد': 69, 'المؤلف': 6, 'بهجت': 49, 'عنواني': 31, 'بالحرق': 57, 'والجنه': 68, 'جبيني': 83, 'بالشنق': 0, 'لرب': 63, 'محنيش': 0, 'ﻻعبين': 23, 'اشتر': 86, 'موراتي': 64, 'بينيتيز': 64, 'بلس': 59, 'المستمر': 91, 'ونحتاج': 66, 'والنتائج': 37, 'ويحولها': 57, 'يستوطن': 27, 'لملاذ': 0, 'خلايا': 114, 'دارسين': 11, 'منطقتهم': 11, 'الملكه': 16, 'لملكه': 16, 'تبرع': 26, 'خدها': 81, 'مكفوف': 0, 'سمح': 58, 'يقدرون': 87, 'وخذ': 117, 'تفائل': 115, 'واعلم': 58, 'نهبوا': 111, 'بمفرده': 28, 'ونكون': 21, 'يرتب': 32, 'اقتراحي': 0, 'والجدل': 129, 'خيالا': 103, 'بالعطاء': 84, 'موقنين': 66, 'ربكم': 41, 'ترحل': 55, 'بالرجاء': 84, 'معندوش': 7, 'ولائه': 60, 'مؤلم': 125, 'وقدرتهم': 11, 'بالمعروف': 73, 'واصبر': 115, 'عزم': 69, 'المواكب': 37, 'فعصر': 0, 'والتشريفات': 0, 'الاحساء': 5, 'بالقبض': 38, 'وقتلهم': 11, 'يقاطعون': 111, 'مخاطر': 89, 'المبيدات': 114, 'ﻛﻧت': 0, 'ﺎوعدک': 0, 'خلک': 54, 'ﻗۈل': 0, 'وﺎنا': 54, 'ﻟﻴﺲ': 82, 'ﻃﻨﻄﺎﻭﻯ': 0, 'لحظاتك': 115, 'معكسر': 0, 'ومتطوعي': 0, 'شغلو': 78, 'شغلوني': 78, 'اكثروا': 121, 'الصالحات': 36, 'الباقيات': 123, 'تجس': 0, 'كرات': 114, 'مبارا': 0, 'هاتريك': 64, 'بالبشر': 38, 'الاتجار': 110, 'السرور': 84, 'عبدك': 35, 'مسرورا': 117, 'مبتسما': 103, 'الجسدي': 106, 'يفرضوه': 0, 'متعلمي': 0, 'بيحاولوا': 98, 'اتوكس': 78, 'نتاج': 129, 'يبيله': 86, 'مرينا': 21, 'ساعه': 67, 'وسدت': 0, 'المتعه': 15, 'وخوف': 106, 'فعلهم': 33, 'اصابت': 27, 'مختلفون': 11, 'محترمش': 0, 'المعونه': 17, 'معاهده': 110, 'نقبلها': 66, 'الامريكيه': 48, 'واسرائيل': 22, 'احترامها': 126, 'ارادوها': 11, 'واتابعك': 26, 'انصا': 0, 'خنزير': 3, 'عرمان': 57, 'قضيب': 81, 'يريدون': 87, 'يسجنون': 11, 'لصوص': 30, 'الاكبر': 91, 'عواجيز': 98, 'اﻷخرون': 0, 'جثتي': 81, 'قتلتني': 8, 'طاعتي': 63, 'تذكرني': 8, 'بمصير': 38, 'وينعت': 0, 'ومزجته': 0, 'كبريائي': 54, 'مشتعله': 100, 'اعترا': 0, 'شعله': 81, 'الرماد': 81, 'شفاف': 109, 'جوفي': 83, 'حنين': 128, 'ثمه': 84, 'مفضوح': 25, 'والمنجز': 0, 'المحافظين': 120, 'الاهتمام': 15, 'باعتراف': 38, 'يعتقل': 10, 'منزلين': 98, 'لتوقيف': 57, 'نقلكم': 78, 'لوثت': 0, 'بدماء': 38, 'يداه': 107, 'اؤيد': 113, 'المشارك': 91, 'يستعد': 43, 'الغاليه': 16, 'خلعت': 96, 'الزمني': 91, 'لحلقات': 57, 'وفيديوهات': 99, 'الطرد': 20, 'البلنتي': 64, 'وازدهار': 129, 'صهيب': 62, 'الرومي': 101, 'الانطلاق': 20, 'الشرعيه': 73, 'بالقاهره': 93, 'مستندات': 89, 'ادي': 42, 'وسجل': 26, 'بياناتك': 52, 'ملامح': 128, 'عثمانيه': 57, 'اوغلو': 48, 'المشوه': 129, 'وحكومته': 73, 'دركم': 60, 'باسيوط': 93, 'قفلو': 98, 'منعو': 57, 'صادرو': 0, 'وسقطنا': 0, 'راز': 86, 'يتعملي': 78, 'النفط': 17, 'سنہ': 67, 'الروافض': 40, 'نسيوا': 98, 'بيتحاسب': 78, 'ماتخفش': 78, 'تقويض': 129, 'بخبث': 106, 'ومرتبط': 0, 'هموت': 45, 'سيرتهم': 78, 'مالهاش': 112, 'اعز': 70, 'بتخسر': 14, 'لازمه': 126, 'الكوره': 23, 'وتني': 0, 'ماتفرقش': 78, 'ناديت': 8, 'الخطر': 15, 'السلمان': 34, 'مال': 86, 'المصابين': 120, 'ابانوب': 101, 'سمير': 49, 'معاون': 39, 'استبن': 127, 'كومبارس': 3, 'سرقتها': 20, 'الفارغ': 91, 'الظرف': 51, 'تاو': 59, 'تلقت': 47, 'بيعها': 20, 'تستفيدون': 79, 'ماسه': 29, 'لامه': 107, 'ملفوف': 18, 'هنشوفه': 78, 'بدلته': 78, 'شفناها': 21, 'هخه': 0, 'مشجع': 116, 'ضيعت': 8, 'زنوبه': 18, 'يحلها': 58, 'تحتوي': 55, 'روما': 64, 'نقيبا': 101, 'شبل': 31, 'لضغوط': 2, 'ترضخ': 72, 'الخيل': 31, 'الحمق': 15, 'الاخوا': 0, 'زلزلت': 96, 'المشجع': 116, 'الفني': 91, 'بعقليه': 38, 'مطمن': 25, 'الرحم': 121, 'حبهما': 0, 'والديهما': 0, 'مسحوا': 98, 'وجهلاء': 0, 'لاسف': 78, 'انقلابهم': 57, 'لاسفل': 0, 'طلعوا': 98, 'نزلوا': 98, 'وظني': 124, 'المستهلك': 17, 'شد': 86, 'محبط': 109, 'الجزار': 101, 'وهنرجع': 78, 'بتاعت': 112, 'القضيه': 85, 'هتعملها': 14, 'لفق': 0, 'اتالانتا': 64, 'كريستانتي': 0, 'بجلب': 38, 'اضغط': 99, 'والذنب': 84, 'والبلاء': 84, 'لصبر': 0, 'لشكر': 129, 'قابلت': 8, 'الكفيل': 73, 'ديون': 89, 'تربيه': 126, 'تهذيب': 129, 'لعملائها': 57, 'منتصرين': 11, 'مرتاحين': 98, 'متعلقين': 98, 'مسيحين': 98, 'طيبين': 98, 'تستمر': 55, 'يختطف': 10, 'والصمت': 84, 'ثبت': 35, 'واجهيه': 0, 'يمليه': 94, 'ضميرك': 115, 'تفاهم': 110, 'افعلي': 0, 'غيرصحيح': 0, 'عطيان': 0, 'القاب': 23, 'ومارينا': 0, 'المعشر': 101, 'واكافح': 0, 'وانجح': 0, 'افرح': 53, 'واشتغل': 86, 'مافيها': 86, 'الطموح': 15, 'المنظر': 51, 'اهاتي': 128, 'وبعلي': 0, 'وكانك': 90, 'بتالم': 0, 'شكلها': 65, 'لبرادعي': 0, 'شرايط': 59, 'يحدثوا': 0, 'يسيطرون': 94, 'البوتاجاز': 93, 'مستودعات': 77, 'ويشق': 44, 'ويخاطر': 0, 'تخضع': 55, 'قان': 42, 'بالصالح': 0, 'مقتولين': 11, 'ولادها': 14, 'التح': 42, 'وروكسي': 0, 'والمنيا': 57, 'والفيوم': 57, 'ولاء': 60, 'يتعدوا': 98, 'تراقب': 72, 'هتشرف': 0, 'شحات': 127, 'تدبر': 121, 'تخطيط': 126, 'مدنيون': 30, 'يديرها': 80, 'وتخضع': 57, 'تغيرهم': 19, 'انتخبهم': 78, 'القبول': 97, 'موضع': 28, 'الرفض': 15, 'وتحالفت': 0, 'دابو': 0, 'كسار': 34, 'سامحه': 25, 'شاق': 109, 'توقا': 0, 'السياحين': 0, 'فهمنا': 66, 'حضانات': 57, 'مجتمعي': 15, 'ملاجئ': 57, 'عيادات': 77, 'لمسيحي': 57, 'تسعي': 55, 'التزاما': 129, 'لاستفتاء': 2, 'احترموا': 79, 'الاعل': 57, 'وحسيت': 122, 'بايد': 78, 'ينتجون': 11, 'وكالات': 48, 'بده': 7, 'عرضنا': 94, 'رسايلي': 33, 'لمشهد': 57, 'ويتهمون': 11, 'عمن': 84, 'المحي': 0, 'الشاعر': 34, 'منكرا': 41, 'منكر': 41, 'باليد': 0, 'فليغيره': 0, 'الصيف': 51, 'يل': 42, 'والشتاء': 128, 'واقفين': 98, 'استاذنا': 34, 'تلقيهم': 57, 'انساهم': 53, 'ماشين': 98, 'ضلك': 86, 'تسئ': 72, 'زباله': 127, 'اجدادهم': 11, 'تربيتهم': 15, 'دريفن': 0, 'لدوري': 1, 'بالتزامن': 100, 'بحياتهم': 11, 'التحاد': 0, 'مسيرتهم': 37, 'البراجيل': 0, 'الاسب': 42, 'انتخبه': 80, 'عاصر': 80, 'بيتظاهر': 78, 'طرابزون': 5, 'استثمار': 71, 'مايمنع': 65, 'هالهاشتاق': 52, 'لرقص': 0, 'سامج': 109, 'لبكاء': 27, 'بجنون': 84, 'طولي': 9, 'اعطيه': 53, 'والانقح': 0, 'وحاجات': 4, 'الحيطان': 81, 'يتفكر': 80, 'الكسل': 114, 'حولوها': 57, 'حليم': 56, 'وجيشه': 40, 'ثوب': 31, 'انزعي': 0, 'بالشكل': 33, 'نازلين': 98, 'والمفروض': 65, 'وطالعين': 98, 'بيهري': 78, 'بعتها': 8, 'لحضرتك': 45, 'ماعندي': 9, 'حقراء': 11, 'يمنعون': 111, 'العصيان': 15, 'كاديلاك': 59, 'تعتدي': 10, 'المبرح': 106, 'فردي': 120, 'المدون': 34, 'بساند': 0, 'الشهير': 99, 'بينجرح': 78, 'بيوجع': 7, 'يتفشخ': 78, 'الاوقات': 85, 'كرامب': 0, 'الفرشات': 0, 'يعالجه': 75, 'الصيني': 91, 'جاله': 7, 'وعشرين': 67, 'يرفد': 0, 'يحرضون': 111, 'السافل': 6, 'فندي': 34, 'بلاغا': 73, 'لعار': 0, 'لذكري': 76, 'هتنور': 78, 'دوائر': 89, 'وقنابل': 100, 'لانفجار': 100, 'فاشي': 3, 'تعارضه': 0, 'ٰ': 42, 'بالموسم': 23, 'ري': 42, 'حمام': 18, 'الفعاليات': 92, 'مداخلتي': 0, 'مانشيت': 99, 'تجمهر': 10, 'تعطيل': 71, 'ومحاولاتهم': 0, 'اخريات': 0, 'كريمه': 29, 'الحفناوي': 101, 'تعبير': 33, 'الايجابي': 91, 'التاثير': 15, 'الرموز': 85, 'يشوه': 80, 'ودستور': 129, 'يعودون': 87, 'نعطيهم': 111, 'يهاجرون': 11, 'مستكترين': 78, 'وانهارده': 78, 'بيتفاخروا': 0, 'ماسكين': 98, 'ليك': 112, 'وباقي': 86, 'ظهرت': 47, 'مسرب': 99, 'سماع': 20, 'الشهود': 73, 'الصومال': 22, 'الشام': 40, 'لمجاهدين': 0, 'ترحم': 63, 'ستضمن': 0, 'لاقصر': 0, 'دراهم': 18, 'ديال': 98, 'مخدش': 7, 'مجيده': 78, 'نضيف': 7, 'تدخلها': 72, 'وعيل': 78, 'تعاطف': 126, 'المسئوليات': 0, 'ومتراجع': 0, 'دعيف': 78, 'ورافضه': 57, 'القرف': 127, 'فاكرنها': 78, 'لالغاء': 2, 'استنكر': 80, 'ريتوي': 26, 'تاجرت': 0, 'فالشخصيه': 0, 'مكنتش': 112, 'لتعطل': 0, 'عذرا': 60, 'سنرفعها': 0, 'روزاليوسف': 101, 'رضاك': 63, 'واغنينا': 0, 'وعونك': 117, 'واكفنا': 35, 'واع': 42, 'وسترك': 35, 'اكتبلنا': 78, 'البراهمي': 0, 'بلعيد': 101, 'قلبهم': 11, 'شتموا': 11, 'العسل': 114, 'والاسواني': 101, 'بيستشهدوا': 78, 'مصرو': 0, 'ودفاتر': 0, 'مليئه': 124, 'القديمه': 29, 'دفاتره': 0, 'مدلين': 0, 'بالتواجد': 57, 'لجامعات': 57, 'وكسبت': 0, 'بالمشروع': 38, 'وايقاف': 113, 'الانتفاع': 20, 'وتداعياته': 57, 'زوجتي': 16, 'علياء': 16, 'مقاعد': 89, 'ومواطن': 106, 'يقطر': 27, 'يومكم': 79, 'ولسان': 44, 'الاصلين': 11, 'اسف': 108, 'فوجيموري': 0, 'سخروا': 111, 'لتلميع': 2, 'بتحمل': 45, 'الفتن': 40, 'الرقابي': 129, 'نضيع': 66, 'مطلو': 0, 'واترك': 86, 'زرعها': 27, 'بصمتك': 115, 'ازرع': 27, 'تستظل': 31, 'اجعلها': 35, 'حسناته': 68, 'مديد': 117, 'غول': 101, 'كولن': 48, 'السط': 42, 'وضيف': 26, 'والتظاهرات': 57, 'ياباشمهندس': 0, 'بالاعفاء': 57, 'الصايع': 6, 'لكارهين': 0, 'تخطئ': 72, 'ويشر': 0, 'استشهد': 10, 'وقتله': 106, 'عملاق': 99, 'لبسوا': 111, 'تفتي': 72, 'وماسمعتش': 0, 'يتعاملون': 87, 'الكثيرون': 28, 'اطباء': 120, 'ايات': 36, 'سبات': 81, 'درك': 31, 'لاقيت': 45, 'بشريحتين': 59, 'موبايل': 59, 'فشخ': 112, 'رحيله': 20, 'شوفتو': 45, 'خواجه': 101, 'وطنيه': 29, 'لتوحيد': 2, 'لعبدالناصر': 0, 'مافتح': 119, 'ثانوي': 97, 'يتشرف': 43, 'احترامه': 15, 'سفله': 11, 'عالشعب': 78, 'حتبقي': 14, 'والنداله': 57, 'جابه': 75, 'جزءمن': 57, 'اريج': 16, 'امريكي': 48, 'الاوضاع': 85, 'اصرارنا': 0, 'يلزمنا': 66, 'خطايا': 63, 'يتبنونه': 0, 'وسلامه': 117, 'اتجاها': 76, 'لقصر': 2, 'الريش': 81, 'الجلوس': 20, 'موسمي': 0, 'الماكبايس': 0, 'بريميرليغ': 0, 'والوزير': 6, 'مداخل': 77, 'سنقاتل': 57, 'القب': 42, 'تبحثان': 2, 'واليونان': 22, 'علاقاتهما': 0, 'ارضه': 107, 'علام': 56, 'اصدرته': 73, 'نذكرهم': 66, 'يتباكون': 111, 'لجواسيس': 0, 'بيتعاونوا': 0, 'والقول': 129, 'زعل': 75, 'لنقل': 2, 'ومستشفي': 77, 'صباع': 127, 'الاصابات': 85, 'صداع': 114, 'لتكريم': 76, 'مالا': 103, 'يتوسلون': 11, 'قبطيا': 57, 'شنبه': 18, 'ديقاو': 116, 'والنشر': 26, 'ويحق': 60, 'الشنبات': 78, 'قيمتها': 17, 'تقدمها': 47, 'بامه': 107, 'اشنب': 0, 'يناديهم': 111, 'صورمن': 57, 'خماسيات': 0, 'اقتصاديا': 28, 'مدنيه': 73, 'ينتظرون': 111, 'الاعتزال': 20, 'التعاطي': 110, 'يبرئ': 80, 'لتركيز': 0, 'يصفقون': 111, 'ثلا': 0, 'بوزه': 18, 'تدف': 86, 'لمعلومات': 89, 'الملاحم': 40, 'التصفيق': 20, 'بتنسي': 14, 'ذنبهم': 11, 'اميه': 11, 'سباهان': 116, 'بيتشتم': 78, 'لوك': 59, 'المعلن': 104, 'بالترشيح': 57, 'المقتول': 6, 'الاسرائيليون': 30, 'لدنيا': 31, 'لتحضير': 2, 'غازهم': 0, 'خرق': 71, 'شهيدات': 57, 'جنون': 128, 'يتوسل': 80, 'واكتر': 112, 'معقد': 109, 'بالتميز': 0, 'الفحص': 17, 'هوصل': 45, 'هشيل': 45, 'جدورها': 0, 'مجراه': 107, 'الصخور': 81, 'تعيق': 47, 'كالنهر': 84, 'المتدفق': 27, 'ذله': 31, 'يارقه': 0, 'صاحبك': 54, 'لاتعلق': 124, 'سيرحلون': 11, 'ويغيبون': 0, 'سعادتگ': 115, 'علاقتنا': 85, 'تحكمها': 47, 'ونعمر': 0, 'والكل': 44, 'لاتنظروا': 0, 'القوم': 36, 'وانصرنا': 35, 'ذنوبنا': 68, 'الكافرين': 36, 'وثبت': 117, 'اقضي': 53, 'الجلاد': 49, 'ماكتبش': 78, 'هرجع': 45, 'قاسم': 62, 'بينفخ': 78, 'وبلال': 101, 'تشتري': 12, 'وهشام': 101, 'وعلياء': 0, 'اجابه': 33, 'مروج': 77, 'يحرقوا': 98, 'احتجاجا': 113, 'يفضلون': 87, 'الدميري': 101, 'بئرالعبد': 0, 'بختام': 57, 'عبادته': 19, 'يق': 42, 'سيناريوهات': 4, 'يبعثرني': 27, 'صفع': 80, 'لمرتين': 0, 'يجرؤ': 32, 'المفقودين': 30, 'السيول': 5, 'وعربات': 100, 'تسليحها': 57, 'مغير': 86, 'جاوبني': 25, 'متفقين': 98, 'الحرق': 114, 'بتحور': 78, 'علاقتي': 124, 'بالكيس': 18, 'اقفل': 53, 'الشيبسي': 18, 'الجامبو': 0, 'الزعل': 54, 'متستحقش': 78, 'شايفاها': 45, 'والمكسرات': 0, 'البشامل': 0, 'الحلويات': 114, 'عمو': 127, 'زرار': 127, 'فاست': 59, 'نخترع': 21, 'فوروارد': 0, 'بالكلم': 0, 'النسخه': 92, 'بتقتل': 14, 'الاصليه': 99, 'تجوب': 47, 'خاربينها': 78, 'الله': 42, 'ونساءنا': 0, 'ومفاجئ': 0, 'لبلوز': 0, 'العتيبي': 34, 'شاكر': 101, 'عودتهم': 20, 'منطلق': 69, 'بالوطن': 38, 'تقومك': 0, 'تنس': 19, 'تقامر': 0, 'يادكتور': 34, 'يحصي': 61, 'فروع': 77, 'نتمكن': 69, 'عدها': 0, 'برمسيس': 0, 'احطها': 53, 'جلاب': 86, 'جبنا': 21, 'بالحمام': 65, 'درا': 75, 'وجان': 86, 'لمخيم': 2, 'وانخش': 0, 'ابوه': 107, 'انطق': 53, 'والمسكين': 6, 'نهب': 106, 'واموال': 106, 'وجدي': 101, 'لاتم': 0, 'بعثت': 96, 'مكارم': 41, 'سبل': 89, 'تصالحهم': 0, 'والتكافل': 57, 'بتيسير': 117, 'خاصم': 69, 'والتضامن': 57, 'يصرف': 61, 'يتجوز': 7, 'نفسو': 7, 'والعلاقات': 129, 'الوفير': 117, 'والسلاح': 106, 'الاعداد': 92, 'نكن': 66, 'نتخيل': 66, 'اعدموا': 111, 'ديلك': 127, 'هز': 27, 'لتمهيد': 0, 'نهض': 80, 'ورقات': 4, 'يده': 107, 'فضيلتك': 0, 'الكورنيش': 95, 'حيمشي': 78, 'وشايلين': 78, 'خوذ': 86, 'شبرد': 0, 'بيوقفوا': 78, 'عصيان': 126, 'الملاكي': 57, 'اوين': 59, 'حبي': 54, 'استسلم': 53, 'مقموعين': 0, 'قامع': 57, 'اعتصامنا': 57, 'لوجودنا': 0, 'لحقن': 57, 'نعلق': 66, 'ونتحرك': 0, 'بالميدان': 30, 'الهاش': 52, 'نفتكس': 0, 'اقتراحاتكم': 26, 'صدعوا': 111, 'وجاهدوا': 36, 'وعرين': 0, 'بالنفس': 84, 'المنصور': 34, 'قلا': 0, 'المساكن': 92, 'والمادي': 129, 'لتملك': 57, 'تسليط': 71, 'يراعي': 61, 'لعامل': 18, 'ملاحظه': 4, 'فوشي': 18, 'الاحمر': 91, 'سويرس': 49, 'وقلبها': 117, 'سبها': 78, 'الابتزاز': 15, 'قتلهم': 111, 'نيوتك': 0, 'تعطيك': 55, 'تغريداتك': 52, 'وظيفتها': 37, 'هاح': 0, 'موه': 0, 'عاوف': 0, 'قاوموا': 111, 'كالجبال': 81, 'ماتوا': 111, 'لبدايه': 2, 'لمساعده': 2, 'ثقه': 124, 'يتطوع': 80, 'افخر': 124, 'بطلها': 3, 'شعبا': 40, 'ليحكمه': 0, 'تعصم': 0, 'وقبلت': 117, 'لدعمك': 26, 'تطرد': 47, 'يابخت': 86, 'العقد': 51, 'والمكتب': 57, 'بنعد': 78, 'المسرح': 51, 'ومافيش': 112, 'مستقلين': 11, 'ميد': 59, 'ارحمونا': 79, 'حري': 42, 'عسكريا': 46, 'البرشور': 0, 'وزعوا': 98, 'المنتديات': 92, 'ومعاه': 44, 'مساعدتكم': 26, 'والمواقع': 37, 'يفهمهم': 80, 'معارضتك': 0, 'ودن': 127, 'طين': 81, 'عجين': 18, 'طمن': 117, 'استطيع': 125, 'وسلام': 117, 'بتسوء': 78, 'وتكتر': 0, 'السحر': 121, 'الشط': 81, 'احتويته': 0, 'اتهامه': 73, 'اخلاء': 10, 'ويحي': 31, 'رديف': 23, 'انتصارات': 1, 'خصما': 28, 'ادعت': 47, 'بالوتيلي': 64, 'ربطت': 96, 'لتعين': 57, 'شركه': 89, 'موظفه': 97, 'بالمحله': 93, 'كبري': 29, 'مجزيه': 17, 'الجاهزه': 29, 'منقوص': 0, 'قضائي': 73, 'وانفلات': 106, 'غسان': 62, 'شربل': 101, 'متحدثا': 104, 'بمد': 117, 'مدتها': 67, 'بانتهاء': 38, 'يوزعهم': 0, 'الشايب': 6, 'ﻋﻠﻴﺔ': 0, 'ﺃﻥ': 82, 'ﺃﺭﻛﺎﻥ': 0, 'ﺍﻟﻌﻤﻴﻘﺔ': 0, 'ﺭﻛﻦ': 0, 'ﻋﻦ': 82, 'ﻓﻠﻢ': 82, 'ﺍﻟﺠﻤﻞ': 0, 'ﺍﻟﺪﻭﻟﺔ': 82, 'ﻣﻮﻗﻌﺔ': 0, 'ﻫﺬﺍ': 82, 'ﻟﻠﻨﻴﺎﺑﺔ': 0, 'ﺍﻟﺨﺒﺮ': 0, 'ﻋﻨﺪﻣﺎ': 82, 'ﺃﺳﺎﺳﻲ': 0, 'المتفق': 94, 'بيستضيف': 78, 'ﺍﻟﺸﻌﺐ': 82, 'اسلامي': 3, 'ﻳﺮﺩ': 82, 'التنصت': 71, 'وضوابط': 129, 'تنطلق': 47, 'وتمثيل': 106, 'مصيرنا': 21, 'توقيت': 76, 'ورش': 77, 'هتمشي': 14, 'ومحسن': 101, 'تقرع': 96, 'التحدي': 15, 'بتعرق': 78, 'وسخ': 127, 'عالرغيف': 0, 'يتكنس': 0, 'المومني': 101, 'الموم': 0, 'فنجاء': 0, 'السويق': 57, 'ملاحقه': 71, 'بموجب': 113, 'بحلول': 2, 'فنلندا': 22, 'يود': 125, 'الجارديان': 48, 'صوره': 99, 'وبالصج': 0, 'بريا': 57, 'مجبوس': 18, 'اليخاندرو': 59, 'وعدوانها': 0, 'ناطحات': 81, 'السحاب': 81, 'غسيل': 114, 'الرخيص': 86, 'لضربهم': 0, 'لنفاق': 0, 'يرتكبها': 80, 'واستئجار': 0, 'تبان': 12, 'بنكتبه': 78, 'مثالي': 109, 'هنضف': 78, 'طبقنا': 78, 'تكتبه': 108, 'بالاستغفار': 121, 'والعام': 57, 'بغريب': 94, 'نبت': 27, 'بوزراء': 57, 'والتموين': 57, 'مثقفي': 11, 'قدوته': 0, 'وخدلي': 0, 'مناخيره': 127, 'بيلعب': 7, 'بدين': 38, 'حنشوف': 78, 'بمبادئك': 84, 'صبورا': 103, 'تعايش': 126, 'شخصيتك': 115, 'ار': 42, 'بيشيلوا': 78, 'اقم': 121, 'وتهد': 0, 'نهائيا': 129, 'العملاء': 120, 'حرقها': 20, 'وبريات': 0, 'سمنود': 93, 'طوب': 127, 'وهت': 0, 'ﺟﻨﻮﺩ': 0, 'ﻗﺘﻠﺖ': 0, 'ﺁﻟﻠﻰ': 0, 'يجدوا': 87, 'نارا': 81, 'خطيئاتهم': 0, 'نبعد': 50, 'لرمضان': 2, 'التحضير': 71, 'اخترنا': 66, 'لمسرح': 76, 'الزوم': 59, 'شاءاله': 0, 'علوم': 97, 'العوضي': 34, 'فيزياء': 97, 'الدمرداش': 49, 'جنسيا': 3, 'بيحبني': 7, 'ميتينه': 0, 'بتعاملك': 117, 'غمازاتك': 0, 'اتجوزها': 14, 'كواحد': 78, 'كربول': 0, 'والظهر': 114, 'عريض': 109, 'لحما': 27, 'بالسمين': 0, 'بالنحيل': 0, 'كوماسي': 0, 'وتذكروا': 79, 'انقلابي': 3, 'امبارح': 112, 'تناسوا': 111, 'جات': 8, 'قفا': 127, 'حيشكل': 0, 'حتحل': 0, 'يشاهده': 80, 'واذا': 65, 'شبع': 75, 'يتجنب': 32, 'ضلعك': 83, 'خلقها': 58, 'تحميها': 55, 'الحسني': 56, 'الكونفدراليه': 1, 'وملائك': 0, 'نادت': 31, 'الشعراء': 120, 'سجدا': 36, 'ناثر': 0, 'الكرام': 26, 'يفوتكم': 19, 'يكفيها': 61, 'وفضلا': 117, 'بعظيم': 117, 'وليال': 121, 'الوداع': 54, 'بترقصي': 78, 'تسمعي': 108, 'خبطتين': 78, 'لايملك': 32, 'باستقلال': 38, 'باستوديو': 0, 'مجتمعنا': 15, 'بدؤوا': 111, 'التوكتوك': 127, 'بالشوارع': 95, 'رسايلك': 9, 'ارسل': 108, 'تنظيما': 28, 'والافراج': 104, 'واولاد': 11, 'الاوساخ': 30, 'الجنرالات': 30, 'والمعرصين': 78, 'متجمعين': 98, 'الكادر': 17, 'لمشروع': 2, 'تريدون': 79, 'مطهر': 114, 'ماقدروش': 78, 'اتشطروا': 78, 'الوافي': 31, 'حافله': 100, 'رجوعك': 54, 'كالخيول': 0, 'لهموم': 31, 'الشمري': 34, 'جنوح': 0, 'التحقيقات': 46, 'الحظر': 17, 'خالي': 86, 'الناقله': 76, 'استاد': 77, 'الهوانم': 78, 'انتفاضتها': 0, 'باني': 90, 'تجعلني': 19, 'فخورا': 124, 'سيدرس': 57, 'علبه': 18, 'البرفيوم': 78, 'غطس': 18, 'ياشيخه': 86, 'الحيره': 83, 'تذبل': 55, 'اشواقنا': 83, 'تهون': 12, 'قلناه': 50, 'عشرتنا': 54, 'شلون': 65, 'العيون': 83, 'الغرام': 54, 'والسياس': 0, 'الاعلامين': 120, 'التطورات': 85, 'طارئ': 57, 'لاجتماع': 2, 'اوكران': 0, 'سطابه': 31, 'عذابه': 54, 'بحياتي': 9, 'رايف': 62, 'عرقل': 57, 'ياسعد': 31, 'كني': 9, 'لفاني': 75, 'السير': 20, 'اعطي': 53, 'العا': 57, 'تعتبر': 47, 'لارتداء': 2, 'يتكبد': 57, 'هيبته': 107, 'بروز': 71, 'قضاتها': 0, 'واعادت': 57, 'بعيداعن': 129, 'اختيرت': 57, 'لوبيتا': 0, 'والفرص': 85, 'وابذل': 117, 'لنجاح': 2, 'ينافسه': 80, 'جهدك': 115, 'متصدقش': 78, 'بتسمعه': 78, 'اعظم': 70, 'قراراتها': 37, 'بيحرسوا': 0, 'ومبري': 0, 'تحتكر': 47, 'الحري': 42, 'توحدنا': 66, 'جفت': 96, 'فهاجر': 117, 'ينابيع': 81, 'الكومي': 49, 'ميرو': 127, 'متي': 65, 'متهمين': 30, 'سحاق': 16, 'وحاصل': 0, 'المكفوفين': 120, 'الجرس': 95, 'جرجس': 101, 'الجانب': 51, 'الرياضي': 91, 'اهمال': 126, 'ويثير': 106, 'المخاوف': 85, 'تركيز': 126, 'وتوليد': 57, 'التقنيات': 92, 'صم': 42, 'ماتعرفش': 14, 'وادبح': 0, 'الاعتقاد': 15, 'تعميق': 129, 'الجواز': 51, 'بوتاجاز': 93, 'يتوافق': 61, 'خاسر': 25, 'تقروها': 0, 'بلياردو': 59, 'فدان': 77, 'وترابيزات': 0, 'وبينج': 86, 'الباقه': 92, 'بتجد': 0, 'فرحتك': 115, 'اتفاقات': 89, 'محدث': 99, 'لايستحق': 125, 'الحياه': 83, 'لمظاهر': 57, 'الفلوليه': 0, 'الفصول': 128, 'تقلبات': 84, 'كالدنيا': 0, 'اﻻ': 0, 'البوستات': 52, 'نغير': 50, 'صوفيا': 16, 'لشحن': 2, 'يحزنوا': 0, 'لاحتفال': 57, 'احتفالاتهم': 0, 'حزنوا': 11, 'تنتصر': 55, 'وكاريكاتير': 0, 'النوت': 52, 'طلباتكم': 92, 'ضروري': 65, 'شاطر': 25, 'سمحتوا': 79, 'ظروفك': 54, 'يناسب': 61, 'بتحميل': 38, 'واختر': 117, 'ولعوا': 98, 'بوكس': 59, 'خبط': 127, 'لزق': 86, 'التدهور': 15, 'اند': 59, 'ﺍﻟﻨﺸﺮ': 0, 'ﺣﻈﺮ': 0, 'ﻣﻊ': 82, 'ﺗﺄﺟﻴﻞ': 0, 'ﻣﺤﺎﻛﻤﺔ': 0, 'ﺇﺑﺮﻳﻞ': 0, 'ﺍﻟﻘﻀﻴﺔ': 0, 'ﻣﺮﺳﻲ': 82, 'امانبور': 0, 'كريستيانا': 0, 'وه': 42, 'فالميدان': 78, 'عاملت': 72, 'مبداء': 129, 'سيحكم': 80, 'توضع': 55, 'تهوي': 96, 'خر': 42, 'فتخطفه': 0, 'الطير': 81, 'المعيقلي': 121, 'سحيق': 81, 'يشرك': 19, 'متعاطف': 3, 'الناموس': 114, 'تستضيف': 47, 'نبع': 31, 'مقالين': 0, 'خربتوا': 79, 'بتقوله': 14, 'هنجيب': 127, 'بصباع': 127, 'ذبحتونا': 79, 'الظباط': 30, 'سادسه': 97, 'خرا': 127, 'روبوت': 99, 'الياب': 0, 'ياباني': 3, 'لتعميم': 2, 'حلج': 18, 'وتحركين': 0, 'طلقه': 100, 'ترقصين': 108, 'بعرس': 86, 'حافظه': 8, 'الفريقين': 1, 'وغيابات': 0, 'الكداب': 127, 'حرك': 27, 'ويتحد': 0, 'دينيه': 29, 'قليله': 29, 'لتعامل': 57, 'اجوف': 53, 'لنزاهتها': 0, 'خداعا': 57, 'لسماع': 2, 'تحزن': 19, 'اشتاق': 54, 'دعائك': 63, 'النهي': 41, 'مضارع': 0, 'اوامر': 89, 'المغامسي': 121, 'سيساوي': 127, 'الرهيب': 91, 'عملها': 37, 'يسامحه': 58, 'كشعب': 66, 'اتسب': 0, 'والصحوه': 0, 'الدوامات': 95, 'يستطعون': 0, 'اياديهم': 11, 'الحالين': 0, 'يتساءل': 80, 'التعنت': 15, 'فيذهب': 0, 'جفاء': 84, 'الزبد': 81, 'فيمكث': 0, 'شيكابالا': 64, 'رمضاني': 99, 'وبارك': 35, 'وماهر': 101, 'بتصفيات': 1, 'والسنغال': 57, 'تلاحظي': 78, 'تقولك': 14, 'بصوته': 101, 'بدراوي': 49, 'يدلي': 43, 'بالشهر': 67, 'العلويات': 0, 'يجند': 80, 'يتخلي': 104, 'فكن': 103, 'يبلغني': 61, 'والثواب': 121, 'مسيحي': 3, 'هالايام': 65, 'ليو': 64, 'لتيتو': 0, 'يهدي': 58, 'لعبتها': 8, 'برمجيات': 89, 'بيفهم': 7, 'الفقري': 91, 'العمود': 51, 'خشوها': 0, 'ظب': 0, 'انغام': 16, 'المهن': 92, 'تقر': 69, 'المخزون': 17, 'شون': 59, 'لحرق': 2, 'الوزير': 39, 'يطرده': 80, 'مايقدرش': 78, 'طيارات': 95, 'مجنزرات': 0, 'وخطورتها': 57, 'لامك': 115, 'اسحل': 0, 'تشاء': 103, 'فقل': 41, 'ماحدث': 20, 'والحوار': 129, 'منحرف': 3, 'حياه': 4, 'البيبان': 95, 'لطموح': 57, 'السلميه': 46, 'اوعه': 78, 'نفت': 47, 'جرجا': 93, 'انجلترا': 22, 'يتعلم': 32, 'رخيص': 109, 'يحين': 96, 'الرفاعي': 34, 'القرون': 37, 'بكيس': 18, 'جالها': 127, 'والدتها': 16, 'منعرفش': 21, 'والصحف': 37, 'الصرصار': 78, 'الفضائيات': 92, 'خندق': 40, 'وبناتهم': 11, 'وزوجاتهم': 11, 'انتهوا': 111, 'قمعا': 57, 'وابو': 34, 'يتوحدوا': 0, 'البسطويسي': 49, 'السنوسي': 101, 'تحرها': 0, 'وق': 42, 'لقدس': 0, 'الرمال': 81, 'السباعي': 49, 'تشوهات': 114, 'نودي': 8, 'نيلي': 16, 'ويمشي': 44, 'ومقالي': 0, 'التشويش': 20, 'انتخبوه': 78, 'وخطب': 57, 'لفخر': 57, 'الخسيسي': 6, 'والسادات': 49, 'خسيسي': 0, 'تكهنات': 73, 'سيغادر': 80, 'النعاج': 11, 'الغط': 0, 'رامز': 49, 'صورت': 8, 'لامن': 54, 'شف': 86, 'يطقطقون': 98, 'الكتابه': 33, 'بملابسهم': 0, 'ويفز': 86, 'ادمان': 114, 'ويدعوكم': 0, 'نرمي': 21, 'انذار': 23, 'عانده': 0, 'واعاد': 117, 'بيشرح': 7, 'لاطفال': 2, 'قوافل': 76, 'فابيوس': 48, 'عواقبه': 84, 'المعيار': 129, 'بيشجعوا': 98, 'الطقم': 51, 'بالشورت': 78, 'فسيخ': 18, 'اضطهاد': 126, 'نزلش': 78, 'مقالاتك': 37, 'مفتقد': 78, 'المزايدات': 37, 'تسيطر': 94, 'والتعميم': 129, 'وهايل': 0, 'مستنينه': 78, 'زمانلكن': 0, 'تندهش': 72, 'يكافئ': 43, 'بعبارات': 38, 'الانجيل': 74, 'الرجاله': 112, 'بيخسروا': 78, 'ميج': 99, 'بشراء': 38, 'كونا': 48, 'جينا': 21, 'هتقولوا': 78, 'بتصبح': 78, 'حنون': 25, 'بنص': 65, 'جريوا': 78, 'داعمي': 30, 'ساعت': 127, 'كفرونا': 0, 'مايفتخر': 0, 'بشنب': 78, 'يختم': 121, 'المقاطي': 34, 'نايف': 62, 'والاتحاد': 116, 'لايواجه': 0, 'فتحقيق': 0, 'الشر': 15, 'والقهر': 106, 'جزاك': 58, 'اعان': 58, 'يجبرها': 0, 'تخفيض': 71, 'ظال': 0, 'النفقات': 17, 'ادعوهم': 0, 'ولباس': 117, 'بالشفاء': 63, 'ندعوا': 66, 'اجرامي': 109, 'وسلا': 0, 'بردا': 68, 'بالراجمات': 0, 'الاستشاري': 39, 'تراكم': 79, 'حمايتها': 20, 'يتخذ': 32, 'وحكم': 106, 'لتخليص': 57, 'مذهب': 126, 'يفرضوا': 78, 'اعضائها': 120, 'وجماجم': 0, 'جماجمكم': 0, 'لانحطاط': 0, 'حنو': 86, 'وياسر': 116, 'ومريم': 16, 'ولبنان': 22, 'وبير': 0, 'المستقل': 91, 'البسام': 34, 'الكنيسي': 0, 'تصريحاته': 73, 'مشاركتها': 110, 'وتنظم': 57, 'زودن': 94, 'جكر': 78, 'هاشتاقات': 4, 'ياصديقي': 84, 'المكشوف': 94, 'يخشوا': 98, 'اكار': 57, 'واخدين': 98, 'حيوان': 3, 'يتجرد': 69, 'ويبر': 0, 'السكايب': 52, 'المدخلات': 37, 'المسخ': 6, 'بيهدر': 0, 'جاهل': 3, 'وتشجيع': 129, 'خذلتموه': 0, 'النبات': 114, 'ماذنب': 106, 'تحملون': 79, 'يقصر': 75, 'الخيلاء': 0, 'سراويلهم': 11, 'مرسيدس': 59, 'والرخاء': 84, 'هيئته': 37, 'الاخباريه': 76, 'الغائب': 6, 'مصيف': 78, 'البيكادلي': 0, 'اوصيكم': 79, 'علمانيو': 57, 'الشعراوي': 101, 'التراويح': 74, 'الجميله': 29, 'وتبدا': 29, 'وتعلو': 27, 'القصه': 37, 'منضما': 0, 'دافعت': 104, 'دولهم': 11, 'خيبر': 5, 'التدخين': 114, 'منوعات': 99, 'حاج': 3, 'ابويا': 112, 'ذاكر': 127, 'هقوله': 45, 'وزملاؤه': 0, 'يعتصمون': 30, 'بالمطار': 95, 'امتا': 127, 'فلتقل': 0, 'لتصمت': 0, 'لتعلن': 57, 'انتظرت': 96, 'اياما': 63, 'المجازر': 46, 'لتقل': 0, 'اشخاص': 11, 'تشير': 47, 'لجعلتك': 0, 'جثه': 10, 'بربي': 84, 'هامده': 81, 'قسما': 124, 'سيتبع': 0, 'كيبوردات': 0, 'المستفاد': 78, 'يصدقون': 87, 'وعقول': 11, 'يستخدمونها': 111, 'الغرض': 51, 'بالاشتراك': 26, 'دك': 42, 'خروجه': 20, 'رفعه': 121, 'هادا': 7, 'غيرني': 54, 'صرت': 9, 'بمنظور': 129, 'هيريح': 78, 'مجريات': 129, 'بالشروق': 57, 'جولته': 110, 'بمحافظات': 76, 'ومحاولات': 113, 'باسمون': 78, 'يعشق': 75, 'لكانت': 2, 'مصاف': 57, 'كاتر': 0, 'لفين': 127, 'التعويضات': 17, 'مهمل': 25, 'لاش': 42, 'لبسوها': 78, 'اتعاقب': 78, 'الحاشد': 57, 'نجسه': 106, 'وتكتب': 12, 'يباع': 61, 'يشرفنا': 26, 'نرحو': 0, 'تحطها': 12, 'البرهامي': 101, 'لتمرير': 2, 'ابهار': 57, 'فتاوي': 89, 'سيرك': 81, 'مشاعرك': 115, 'بقرا': 45, 'ضاع': 75, 'فرمضان': 78, 'اوزع': 53, 'وقمت': 9, 'المصحف': 74, 'فضائح': 89, 'حسابين': 52, 'ينشران': 0, 'درست': 97, 'ميكانيكا': 97, 'مبوز': 0, 'ومكشر': 0, 'مبلم': 0, 'الشفتين': 114, 'متورم': 0, 'لغ': 42, 'الامتناع': 104, 'باستفتاء': 38, 'لكنائس': 57, 'ومواقفنا': 0, 'الجنسيات': 92, 'النخاع': 3, 'الاقرب': 60, 'ﻋﺎﻭﺯ': 0, 'ﺍﻟﻌﺮﺏ': 82, 'ﺍﺳﺪ': 0, 'ﺣﻤﺪﻳﻦ': 0, 'ﻳﺤﺎﻛﻢ': 0, 'داخله': 95, 'بالانتهاء': 57, 'والزملاء': 57, 'والاستمرار': 129, 'تمسكي': 124, 'تصلك': 55, 'رموزهم': 11, 'شرين': 16, 'مرشدهم': 57, 'مرورها': 20, 'اجتماعي': 109, 'انطوائي': 25, 'صدقني': 65, 'تجوز': 94, 'البضان': 127, 'مضطر': 25, 'عبدالاه': 0, 'ياوﻻد': 0, 'لﻷسف': 0, 'الجزمه': 127, 'جزئين': 99, 'اكن': 90, 'مفيهاش': 112, 'رجونا': 0, 'سافرت': 8, 'العلياء': 31, 'متعد': 0, 'لبدور': 0, 'ملتني': 128, 'سيادتنا': 0, 'نسترد': 57, 'والبيوت': 81, 'احجل': 0, 'ياموت': 31, 'بتدب': 0, 'عروق': 128, 'يادوبها': 0, 'مولودي': 0, 'يشركهم': 0, 'والتحدي': 129, 'المعاقين': 120, 'بتخلونها': 0, 'يصب': 32, 'ويدمر': 106, 'وتمت': 113, 'وفضوا': 0, 'واقتحموا': 0, 'هيترفع': 0, 'بتكسب': 14, 'ونسيب': 21, 'نبتغي': 19, 'بالبكاء': 38, 'نبتغيه': 117, 'مكملا': 28, 'الرجوع': 20, 'يلتقيكم': 0, 'اثيوبيا': 22, 'العطش': 114, 'احدهما': 28, 'احمل': 53, 'اعطيته': 96, 'توكيلا': 0, 'متحضرون': 0, 'يطارد': 80, 'مطلقي': 100, 'النير': 31, 'ويهتفون': 30, 'يحيطون': 124, 'دراو': 0, 'وحل': 106, 'الموجودات': 37, 'فائزون': 0, 'خسران': 25, 'والفاشلون': 0, 'وافريقيا': 22, 'البار': 31, 'معناها': 33, 'يسمعلها': 0, 'المواويل': 128, 'ليغني': 0, 'بلغتي': 0, 'لالتقاط': 2, 'بتهري': 78, 'ويتضامن': 0, 'جورح': 0, 'الزيتون': 114, 'طائراتها': 37, 'بلغني': 35, 'لطيران': 100, 'وتوجهات': 57, 'مافتحوش': 0, 'وانهم': 11, 'منهار': 25, 'هنبخل': 0, 'بتقبض': 14, 'رواتبها': 0, 'ولعت': 8, 'ماذكرته': 33, 'وصح': 86, 'غرس': 27, 'ليتم': 113, 'الظلال': 81, 'بذرتها': 0, 'ديموقراطي': 3, 'الفتك': 0, 'السماو': 0, 'تبارك': 58, 'لقول': 41, 'بقصر': 76, 'حصريه': 99, 'سنقوم': 43, 'ينهي': 32, 'لنستمع': 0, 'لنتكلم': 0, 'واقتراحاتكم': 26, 'بانا': 0, 'الاسمنت': 17, 'معالي': 39, 'ندق': 21, 'دوائي': 63, 'المرؤوس': 0, 'ترهب': 57, 'التفتيش': 17, 'اخضاع': 71, 'عطرا': 103, 'يفوح': 27, 'لصحفي': 57, 'القاذورات': 37, 'التاء': 37, 'تهبط': 55, 'ضم': 27, 'سامع': 25, 'فابريكا': 0, 'رسيفر': 59, 'بالرسيفر': 0, 'صاحباتي': 9, 'تبعنا': 78, 'ومنتصرين': 0, 'الكم': 51, 'الانهيار': 20, 'كاذبا': 103, 'يعاودني': 0, 'الهائل': 91, 'مؤوي': 19, 'وكفانا': 111, 'وسقانا': 82, 'وتحتاج': 29, 'مطرح': 127, 'اقتلك': 53, 'المنام': 54, 'لاستكمالها': 0, 'تقريرها': 73, 'ورفضت': 113, 'معش': 65, 'استثمر': 26, 'وبيهتفوا': 0, 'بانتصر': 0, 'يحوي': 27, 'بالنظر': 84, 'ضعت': 8, 'ربيعي': 128, 'لتكبيرها': 0, 'المرام': 0, 'ويشكل': 57, 'يتولاه': 0, 'حنايا': 128, 'تقصي': 71, 'والاستفتاء': 57, 'لاب': 59, 'مدرعه': 100, 'بضبط': 38, 'وافتخر': 3, 'لقلت': 31, 'التكشير': 0, 'قادت': 47, 'وصلوا': 111, 'غذت': 0, 'ياسم': 0, 'بالطباشير': 0, 'انشكاح': 78, 'شغب': 100, 'هعهعه': 0, 'اجزها': 0, 'رحمتك': 68, 'واسع': 117, 'ادخلها': 53, 'عطاء': 121, 'فخرا': 28, 'تحيتها': 0, 'تردها': 72, 'الصيام': 121, 'حكمها': 73, 'المقيم': 19, 'شامواه': 0, 'كوالتي': 59, 'كورس': 97, 'جماعه': 79, 'دائ': 42, 'يصيبنا': 61, 'اقسم': 124, 'هاصلي': 0, 'ﻷنك': 90, 'بالدنيا': 84, 'تفريغ': 71, 'محتواها': 33, 'تسبت': 78, 'بظر': 0, 'حنان': 16, 'مايفرقش': 78, 'وصوره': 99, 'وسلميتنا': 0, 'عقيدته': 107, 'حاضرنا': 84, 'لانا': 0, 'قشور': 114, 'لانعمل': 0, 'تحركوا': 79, 'انهضوا': 79, 'ارواح': 81, 'لنسترد': 0, 'كرامتنا': 40, 'ديليسيبس': 0, 'تعريفي': 99, 'بالمثل': 33, 'تعاملنا': 66, 'الطبقات': 92, 'شتا': 128, 'برافو': 127, 'المتابعه': 26, 'يعالج': 32, 'تضخم': 126, 'البروستات': 0, 'دوالي': 114, 'سخنوا': 78, 'شغلهم': 98, 'بمنيا': 0, 'بنذاكر': 21, 'الفرع': 51, 'التحفز': 0, 'جوانب': 4, 'تهافت': 57, 'المؤامرات': 85, 'تيت': 127, 'معشر': 79, 'اعترافا': 28, 'المخلب': 0, 'الروبوت': 59, 'الديلي': 48, 'مصورا': 57, 'تقريرا': 48, 'يسحق': 80, 'لابراهيم': 101, 'البطوط': 0, 'منفذ': 77, 'استهدفت': 100, 'تمهيد': 73, 'نقفلها': 78, 'الصوفين': 0, 'مبهج': 109, 'الشهاب': 101, 'اقدم': 60, 'ضغطك': 65, 'والجمعيات': 37, 'المرتفع': 91, 'لصرف': 2, 'هاتوا': 79, 'وقلنا': 21, 'ورمضانك': 0, 'مكتمل': 129, 'احترم': 72, 'احتقرك': 0, 'بيرنابيو': 64, 'واخواني': 98, 'تالت': 112, 'سترونج': 59, 'دراعك': 78, 'عضاض': 0, 'وقرم': 0, 'دراعها': 0, 'تفسير': 126, 'وداه': 78, 'صباحه': 128, 'عاجزون': 50, 'تقاضي': 47, 'تكتشف': 122, 'كندرتك': 0, 'ويولي': 0, 'الزاهد': 6, 'وملابس': 18, 'المديح': 15, 'والنقد': 129, 'بارميها': 0, 'الوقح': 6, 'لامثاله': 57, 'بنقولو': 0, 'تؤمر': 78, 'يقولو': 98, 'مطرب': 3, 'بيشتمنا': 78, 'وقح': 109, 'يردوا': 98, 'ستيفانو': 64, 'الغريم': 116, 'القط': 6, 'تمشي': 12, 'الشباك': 95, 'اجتياح': 20, 'الروسي': 48, 'واحتلاله': 0, 'السيناريو': 51, 'الفقار': 101, 'ظنون': 126, 'اخلاقيات': 129, 'حتقولي': 78, 'اشجع': 53, 'خليون': 0, 'بالقلب': 83, 'وتشكل': 57, 'التريليون': 0, 'تضارب': 110, 'ويحدث': 125, 'وسطنا': 78, 'مستخبي': 7, 'فولوه': 0, 'نعتقد': 66, 'ذوات': 106, 'دوافعهم': 0, 'نواياهم': 11, 'مطنطن': 0, 'لمصري': 57, 'دقيق': 109, 'يقبضوا': 98, 'وتحرش': 106, 'شورت': 18, 'تسافر': 12, 'رءوف': 56, 'استقدموا': 0, 'نبذ': 129, 'اختلافاتها': 0, 'المضاد': 114, 'يضاف': 60, 'اليهم': 11, 'اميتهم': 0, 'ندخل': 21, 'يعنيها': 61, 'رشدي': 101, 'الجيولوجيا': 97, 'علمائها': 57, 'الشاب': 6, 'لتمكينه': 0, 'باعتذر': 78, 'وتعاملات': 0, 'ونقد': 129, 'لشغل': 2, 'لسجون': 0, 'هاتخد': 0, 'هاتهالي': 0, 'الحفلات': 92, 'تمتنع': 104, 'تدفقات': 57, 'يتحبوا': 0, 'مزايا': 4, 'ويوزع': 44, 'النظامين': 57, 'المضامين': 0, 'الزائف': 129, 'والدمج': 0, 'التوظيف': 17, 'طلقاء': 11, 'استوعب': 122, 'منعوه': 78, 'وهيكل': 57, 'رموا': 111, 'وجابو': 98, 'عبدالقوي': 101, 'لمحمد': 62, 'النك': 52, 'يجزاهم': 58, 'البترول': 17, 'يرسلوا': 111, 'ونستمر': 66, 'نرسل': 50, 'لسيرفرات': 0, 'قفلوا': 98, 'بعدهل': 0, 'امطر': 35, 'والبرد': 128, 'موتانا': 68, 'سحائب': 117, 'اغسلهم': 0, 'والثلج': 117, 'بالماء': 114, 'شهدتها': 47, 'بترد': 14, 'عضويتهم': 57, 'لدفع': 2, 'بالوسط': 23, 'اشتراط': 57, 'ومقاعد': 57, 'وكيانات': 57, 'والتشريع': 73, 'وستظهر': 57, 'الهوا': 54, 'بتزغرت': 0, 'والمجد': 31, 'لقيام': 2, 'حفاظا': 94, 'عطا': 101, 'وجزاهم': 117, 'الجزاء': 104, 'ياسلام': 86, 'بروجرام': 0, 'يعين': 58, 'بعتباره': 0, 'هانت': 8, 'اشاركم': 53, 'قلقكم': 0, 'ظلمته': 107, 'واهملته': 0, 'لفلاحين': 0, 'معقل': 77, 'اياكس': 64, 'لخطف': 2, 'مستور': 25, 'لتصعيد': 2, 'الجوء': 0, 'اياك': 115, 'نستع': 0, 'وتحياتي': 60, 'الجمود': 15, 'التطور': 15, 'ختلاف': 0, 'تكرس': 47, 'وموضوعا': 0, 'بحسابه': 52, 'الديان': 31, 'ارتكبت': 96, 'والتوازن': 129, 'المكتوب': 33, 'الفصل': 51, 'بصفقات': 38, 'لمقر': 2, 'اغنياء': 11, 'ضرور': 0, 'تشريعات': 89, 'ولقيت': 86, 'لحكيم': 41, 'بتعريف': 129, 'خدعوني': 0, 'مبقوق': 0, 'خريجيها': 57, 'لاسال': 0, 'هايدخل': 78, 'انهار': 27, 'بتحصل': 14, 'حارب': 80, 'طلقات': 100, 'لموت': 80, 'الخرطوش': 100, 'ويقف': 44, 'والرصاص': 100, 'سيجارتي': 81, 'شتاء': 128, 'ينعمون': 111, 'بيوم': 65, 'وعشاء': 18, 'بنيران': 100, 'زخات': 81, 'تحسب': 122, 'ارف': 42, 'ادمين': 112, 'تعليقكم': 26, 'السابقين': 120, 'بمناصبهم': 11, 'ثانيه': 67, 'الجابر': 116, 'يختار': 32, 'التكتيك': 23, 'تكتيك': 23, 'يكرهون': 87, 'عملاء': 30, 'الخائن': 6, 'ﺣﻴﺎﺗﻪ': 0, 'ﺣﺮﺏ': 0, 'ﺭﺍﺑﻌﺔ': 0, 'ﻛﺎﻧﺖ': 82, 'ﺍﻟﺴﻴﺴﻲ': 82, 'ﺃﻭﻝ': 82, 'ﻓﻘﺪ': 82, 'ﻛﺒﻴﺮﺓ': 82, 'ﺍﻟﻌﺮﺑﻴﺔ': 82, 'ﻫﻲ': 82, 'معتدي': 3, 'ليشرب': 81, 'وبالتعاون': 57, 'المختطفين': 30, 'خطوره': 106, 'اذناب': 40, 'يقلون': 11, 'تراعي': 72, 'فلاحين': 98, 'اجور': 89, 'الترمادول': 0, 'ليجتمع': 0, 'الارشاد': 93, 'امراض': 4, 'تؤلم': 55, 'واكنفني': 0, 'بركنك': 0, 'احرسني': 35, 'يرام': 94, 'رجائي': 63, 'هموم': 128, 'غدك': 115, 'تثقل': 55, 'بهموم': 84, 'حرمت': 96, 'بالتسجيل': 26, 'المقيمين': 120, 'اطاح': 43, 'بالتصويت': 38, 'تكافؤ': 110, 'مريضا': 103, 'هيئات': 89, 'وتفويضه': 0, 'والكليات': 97, 'والجواز': 78, 'بالمجموع': 0, 'الرقي': 15, 'المكاسب': 85, 'بوشناق': 101, 'خذوا': 79, 'وفريق': 23, 'حاسما': 28, 'سيجعل': 58, 'الاياب': 1, 'بلدهم': 40, 'لاعلاء': 57, 'لدحر': 2, 'تاريخيه': 29, 'تؤجر': 94, 'وحرقو': 0, 'نحتفي': 124, 'وبنتا': 0, 'لمبدع': 0, 'ابداعي': 109, 'فيلما': 28, 'كتابا': 28, 'تدافع': 104, 'الرجوله': 15, 'الزمر': 101, 'تروج': 47, 'لاغتصاب': 57, 'وبعز': 0, 'يشي': 42, 'تدني': 129, 'الانتقام': 15, 'لمشاعر': 2, 'الصفراء': 37, 'الفضائح': 85, 'وسارق': 3, 'تطاردك': 0, 'منامك': 115, 'تواج': 42, 'يردهم': 58, 'يقولهم': 98, 'الكلمتين': 127, 'انتكاس': 129, 'ستدخلنا': 0, 'اشكالها': 37, 'بشركات': 89, 'جهلك': 115, 'متابعتك': 26, 'الوادي': 5, 'لجعلك': 0, 'وحقوقك': 0, 'جمالا': 103, 'تخلي': 12, 'نشجع': 21, 'معركتنا': 37, 'استخلاص': 57, 'وبتحديد': 0, 'توافقي': 73, 'لاعتماده': 0, 'مسرحيه': 16, 'الخلفيه': 95, 'قطعنا': 21, 'بالحري': 0, 'والعصف': 0, 'بطلعت': 57, 'الحبس': 73, 'ويلكم': 79, 'انقلابين': 0, 'اتصال': 110, 'زقازيق': 0, 'وعلمت': 122, 'ودعمه': 60, 'اشياء': 4, 'استطاع': 125, 'اصابع': 81, 'جعلتنا': 66, 'الضابط': 6, 'وتهزئ': 0, 'هوبا': 127, 'قطعت': 8, 'تدريبهم': 57, 'احوال': 57, 'وزيره': 39, 'البهجه': 84, 'وجرذان': 57, 'بالملاين': 0, 'واكاذيبهم': 0, 'لفوا': 86, 'وينفقون': 0, 'منضم': 78, 'والدنيا': 31, 'وهنبقي': 78, 'شحاتين': 98, 'هنبقي': 21, 'لنزع': 2, 'وتشويه': 106, 'وتخوينه': 0, 'المتدين': 6, 'ملوك': 31, 'بريء': 122, 'الامراء': 120, 'المنهوبه': 57, 'مجتهد': 3, 'لعلمهم': 57, 'خارجيه': 48, 'ثوريتهم': 0, 'بالقطع': 57, 'اشك': 122, 'حقائق': 4, 'وشائعات': 0, 'اكاذيب': 126, 'نفذها': 80, 'ستكتمل': 57, 'والعرص': 78, 'جعجع': 48, 'اﻷم': 0, 'التبجيل': 0, 'دفن': 10, 'خطابات': 89, 'تجميل': 114, 'الانفصال': 110, 'وفاكرها': 0, 'وقمر': 128, 'وسدوم': 0, 'موهوم': 78, 'نجوم': 23, 'عجبي': 106, 'اتفهك': 0, 'نيلها': 78, 'تغنيلها': 0, 'مشربتش': 45, 'فعز': 0, 'الواد': 112, 'لتصحيح': 2, 'طرحهما': 0, 'الانجليز': 11, 'الاتراك': 30, 'يستاهلوا': 98, 'اكرها': 8, 'منصوب': 0, 'لتكر': 0, 'استوعبتوا': 0, 'فخ': 126, 'اهتماماتي': 33, 'اليوفي': 64, 'هتصوت': 78, 'نسيكي': 0, 'متخفيش': 78, 'الاشتبكات': 37, 'المتظاهري': 57, 'تايها': 0, 'الجينز': 95, 'البس': 53, 'بيجاما': 0, 'افضح': 53, 'يره': 42, 'احصلك': 0, 'اخويا': 127, 'التويتري': 91, 'اقطع': 53, 'لاهنئ': 0, 'حقد': 126, 'فولور': 127, 'شقيقي': 101, 'لدور': 1, 'بالكونفدراليه': 57, 'كرئيس': 73, 'جنينه': 93, 'والفساد': 106, 'خطواته': 37, 'الحشر': 121, 'لانسان': 115, 'يضربهم': 78, 'والمياه': 114, 'معارضيه': 30, 'شغلك': 115, 'استقالتك': 73, 'اتدخل': 53, 'جمل': 78, 'لعبه': 4, 'يصنعوا': 111, 'شربك': 114, 'عوزه': 45, 'جوزه': 78, 'ملكيش': 127, 'طالقه': 0, 'رزقك': 115, 'سيصل': 32, 'غجر': 11, 'بقر': 11, 'المخ': 114, 'يجيلنا': 78, 'والكولسترول': 0, 'ضوءها': 81, 'الطريقين': 37, 'لمطلب': 57, 'لوطني': 57, 'زمني': 37, 'الهانم': 16, 'اراضي': 77, 'مشغول': 25, 'قلمي': 128, 'املك': 61, 'والحمدله': 0, 'بخس': 78, 'اقترض': 0, 'انحن': 11, 'بتستنزف': 0, 'بتعويضه': 0, 'بديهي': 109, 'المليونير': 6, 'عون': 58, 'وامثاله': 6, 'يشكو': 69, 'لحازم': 101, 'حيواني': 109, 'داروين': 6, 'اعتقلوا': 111, 'مجموع': 97, 'الشواف': 101, 'غيرش': 0, 'بعمل': 38, 'لتهنئتهم': 0, 'اعتيادي': 109, 'استثنائي': 109, 'يشكرون': 87, 'عموما': 65, 'مبحبش': 112, 'يزعلك': 75, 'صداقات': 4, 'خسرته': 115, 'مويس': 64, 'لقيم': 129, 'متميزا': 28, 'لاقتصاد': 57, 'ناو': 59, 'لباسم': 101, 'لسا': 45, 'عطاءه': 107, 'النقاء': 15, 'ويشكون': 0, 'محجوزين': 98, 'تعيدهم': 0, 'ازرق': 18, 'مرورا': 43, 'بيروح': 119, 'باول': 86, 'بامك': 0, 'سايب': 7, 'يهزر': 7, 'اصلها': 127, 'يشتمك': 115, 'يطاردنا': 0, 'المدبر': 91, 'لنعرف': 66, 'مفجر': 101, 'والاحق': 0, 'ورحم': 58, 'لاستنساخ': 57, 'منتهي': 109, 'تجعلوا': 19, 'فيل': 59, 'هيكسب': 7, 'هعملها': 45, 'استبشروا': 96, 'تقولولي': 79, 'قضيتنا': 37, 'يقذف': 80, 'فحقد': 0, 'جعله': 31, 'لثكناته': 0, 'ونعمل': 21, 'هتاخد': 14, 'الرحمه': 68, 'ارهابي': 3, 'بمبادئه': 129, 'بتصريحه': 57, 'التزامه': 110, 'فوزه': 1, 'ويكملوا': 78, 'ويتوهوا': 0, 'يمشوا': 98, 'عايشين': 98, 'بمجهود': 38, 'الجارحي': 101, 'زويل': 49, 'بيسود': 0, 'بطاقات': 89, 'التكدير': 0, 'مابين': 27, 'الحياد': 15, 'جبان': 3, 'هجره': 20, 'اجابات': 4, 'سامعهم': 78, 'بيغشوا': 78, 'حقيقته': 107, 'واليمين': 0, 'الثمين': 84, 'تكفي': 86, 'اشكركم': 26, 'يشير': 32, 'وتجاوزت': 57, 'تريليون': 17, 'ينهب': 80, 'ويترك': 44, 'سياستكم': 0, 'مليان': 25, 'وماشي': 127, 'بيدلدق': 0, 'برطمان': 18, 'مهزوز': 25, 'باسيم': 0, 'عائدات': 89, 'حاصل': 109, 'الموعود': 31, 'اقتصادي': 17, 'المليارات': 92, 'ليخون': 0, 'ورتل': 94, 'تقرؤ': 0, 'منزلتك': 115, 'لقارئ': 0, 'وارتق': 0, 'ترتل': 96, 'يعاد': 61, 'سلق': 18, 'اتعهد': 124, 'ليعيد': 57, 'مبادرته': 37, 'اقدمها': 60, 'لصين': 100, 'يحتجز': 10, 'الدولين': 0, 'المراقبين': 120, 'مراقب': 3, 'محتجز': 10, 'المتواطئون': 0, 'مدف': 42, 'لاعبا': 64, 'تقديمه': 20, 'بالمؤتمر': 39, 'الوعد': 54, 'تسيب': 14, 'مصائب': 126, 'ويجنب': 0, 'لايريد': 125, 'بالامل': 84, 'رحل': 75, 'والفرح': 84, 'والتشبث': 0, 'لاقرب': 69, 'قريتها': 8, 'جسدت': 0, 'مدخلنا': 0, 'الترقيع': 15, 'ارهاقنا': 0, 'بدنيا': 84, 'نفسيا': 65, 'ياشهيد': 31, 'بدمياط': 93, 'البصارطه': 57, 'وبناء': 2, 'والقانون': 129, 'هدفها': 129, 'تعاديه': 78, 'كالعاهرات': 0, 'كلامنا': 33, 'خالصا': 103, 'محبتكم': 0, 'اذكركم': 79, 'المعتدلون': 0, 'فورين': 48, 'والانسان': 129, 'البدائي': 129, 'ومتمرد': 0, 'لبريد': 57, 'ارحب': 31, 'بسماع': 38, 'الاقتراحات': 92, 'الانقطاع': 20, 'القبور': 68, 'وسيظهر': 57, 'ساع': 42, 'والمتحدث': 39, 'متشكرين': 127, 'الروح': 83, 'بيغيروا': 98, 'صباعين': 78, 'نساك': 54, 'عبود': 62, 'تعطينا': 66, 'الفوزان': 34, 'كينيا': 22, 'لنصف': 2, 'اكمال': 71, 'اصابه': 10, 'مروع': 100, 'نرجوا': 113, 'المباحث': 120, 'لانعلمه': 0, 'لتهميش': 57, 'مصلحتنا': 126, 'واحتقاره': 0, 'ياتكتب': 0, 'تريح': 12, 'متكتبش': 78, 'سيناريو': 23, 'وتستعد': 57, 'لشريك': 129, 'عفيف': 5, 'تشن': 47, 'مسطحات': 57, 'وعقبها': 86, 'احقر': 70, 'يبعتهولي': 78, 'بتثير': 0, 'لجماعات': 57, 'لحريات': 0, 'ونشط': 0, 'منامه': 107, 'راودته': 0, 'يستيقظ': 32, 'لحلمك': 115, 'ليكتب': 121, 'نهار': 128, 'ومواجع': 128, 'رقيه': 16, 'وكفاءته': 0, 'المنتفخ': 0, 'غشوم': 0, 'ويندحر': 0, 'الصغار': 11, 'خلاق': 19, 'وصلاحياته': 0, 'نعطيه': 21, 'الوزاري': 91, 'اداءه': 23, 'نقيم': 66, 'لنتظر': 0, 'التشكيل': 51, 'نحكم': 50, 'ويفتح': 44, 'بحركات': 38, 'مواكب': 57, 'لفقراء': 57, 'قصره': 107, 'حجب': 71, 'لتندمج': 0, 'لتقوم': 37, 'برج': 77, 'صداقتهم': 11, 'تعجبك': 72, 'الهايبري': 0, 'ونيوكاسل': 0, 'يتمرد': 80, 'ثورنا': 78, 'يتساءلون': 87, 'تسعده': 72, 'ولاتنسوا': 79, 'تبلغي': 0, 'وزميلك': 0, 'واعطائهم': 57, 'ابليس': 107, 'جدكم': 79, 'المختار': 101, 'ابتعدت': 104, 'بالشعارات': 37, 'عبثا': 28, 'لتع': 0, 'بمليارات': 57, 'الدولار': 17, 'وشبرا': 0, 'قديمه': 29, 'قتلتهم': 111, 'تذكرون': 79, 'واعلن': 113, 'ذبح': 80, 'المحك': 20, 'والشراين': 0, 'لاينر': 59, 'متجر': 99, 'تنظمه': 47, 'ضربت': 8, 'خفيفا': 103, 'ضربته': 8, 'تمازحه': 0, 'بكلماتكم': 0, 'طفلا': 103, 'ضربا': 106, 'البدني': 91, 'فرفقا': 124, 'توبخه': 25, 'لبكي': 0, 'شباك': 81, 'واهل': 31, 'والطلاب': 120, 'وسيناء': 57, 'وجهات': 89, 'والمعاقين': 57, 'ميجا': 99, 'بقنابل': 100, 'ابله': 16, 'برواقه': 0, 'يتغيرون': 87, 'يلهونك': 57, 'يحيطك': 0, 'فرحي': 54, 'تصميمنا': 0, 'حبايبي': 79, 'تخيره': 0, 'ويشتهيه': 78, 'يشتهي': 61, 'بيطلبه': 78, 'يكفيه': 61, 'يغيره': 61, 'بيحيره': 0, 'قواتهم': 37, 'يتطلعون': 11, 'يري': 32, 'بتجديد': 38, 'بالصف': 97, 'بورفؤاد': 57, 'عائلتين': 100, 'تفرض': 55, 'شروطها': 37, 'يثبتوا': 87, 'سينزل': 78, 'يفوضوا': 0, 'خلعوا': 78, 'حدثا': 28, 'شهده': 57, 'انتحال': 126, 'وتصويت': 57, 'فزع': 69, 'ذهنهم': 0, 'عاملها': 14, 'جربوها': 79, 'يخربتك': 0, 'ويبقي': 44, 'الانام': 24, 'اعتمدت': 94, 'وتشيع': 57, 'بمسقط': 57, 'لذيذ': 109, 'وصفوت': 49, 'والعريان': 101, 'بصفوت': 0, 'وقدامها': 0, 'بالقيد': 0, 'بالا': 28, 'امروز': 59, 'بودم': 59, 'ملت': 8, 'صورتم': 0, 'استخر': 124, 'مؤنس': 101, 'قاء': 42, 'لمرشح': 39, 'وعماد': 101, 'المهمشين': 57, 'حكاء': 0, 'نعناع': 18, 'بساعتين': 67, 'نجاحها': 20, 'التضامن': 46, 'قولو': 108, 'اسبوعين': 67, 'اوبشن': 59, 'والمسجد': 74, 'يشن': 100, 'القحطا': 0, 'عبدالرزاق': 62, 'تعازي': 31, 'الشهيدين': 101, 'وشرحت': 0, 'لزميلي': 0, 'وتوجهت': 0, 'الفور': 94, 'طلبه': 120, 'بيرسم': 7, 'المسافرين': 120, 'والصاج': 0, 'واختطف': 0, 'الكوب': 114, 'تدخله': 72, 'طور': 129, 'هبل': 127, 'وهطل': 0, 'ساعدته': 0, 'وحقها': 0, 'ناضلنا': 0, 'ختام': 76, 'ومالك': 86, 'نفتخر': 124, 'بعلمائنا': 0, 'ينضم': 32, 'شاهر': 62, 'رياضيات': 97, 'الرياضيات': 97, 'يبئه': 78, 'يغيب': 75, 'فضلوا': 111, 'يبروا': 0, 'سمحوا': 111, 'بمعاير': 0, 'نكبر': 66, 'لاصدقاء': 57, 'اقصد': 122, 'الاسماعيلي': 116, 'ملحوظه': 99, 'بيحب': 7, 'تعرجات': 0, 'الفرس': 40, 'همنا': 66, 'الفتره': 92, 'الاطاله': 26, 'الانتقاليه': 73, 'لمنظمات': 57, 'يناورون': 0, 'فلسطينيون': 30, 'بالانضمام': 60, 'نراها': 66, 'يتخلق': 0, 'ولاسف': 0, 'دعونا': 66, 'يومها': 95, 'يبدا': 32, 'ويعمل': 44, 'ولاكون': 0, 'بيسموه': 78, 'وسدادا': 0, 'وتوفيقا': 63, 'وصلاحا': 117, 'عفوا': 78, 'زد': 26, 'وياك': 54, 'بنحي': 0, 'ساهر': 86, 'ويجي': 65, 'مكفينا': 78, 'اغتر': 124, 'متابعيه': 26, 'تحكمنا': 66, 'نر': 66, 'مثيلا': 60, 'المبلغ': 51, 'لاعتماد': 2, 'المطلقات': 106, 'لفيديو': 99, 'واطي': 25, 'مفتري': 127, 'اختطف': 80, 'استنكار': 126, 'فيمن': 84, 'والعمال': 30, 'العينين': 81, 'عرائض': 0, 'فوجئنا': 57, 'عربيات': 93, 'قالولنا': 78, 'سئلنا': 50, 'الرائد': 116, 'سبيكترا': 0, 'ادريس': 62, 'ونضال': 57, 'المقاومين': 30, 'وسعد': 62, 'حاضر': 25, 'حنسكت': 78, 'احتجازهن': 0, 'نقوده': 0, 'تجميدها': 0, 'وغيرتكم': 0, 'يملؤني': 27, 'بالتفاؤل': 84, 'افكاركم': 79, 'لعبوا': 111, 'واضطهاد': 106, 'بالرابط': 26, 'بلاتنيوم': 0, 'ﺍﻟﻨﺼﺮ': 82, 'ﺍﻟﺬﻱ': 82, 'ﻭﺍﻟﺨﻴﺮ': 0, 'ﺍﻟﺤﻖ': 82, 'ﻷﻥ': 82, 'ﺍﻟﺒﻴﺌﺔ': 0, 'ﺍﻷﻣﺔ': 0, 'ﺗﺼﻠﺢ': 0, 'العلي': 56, 'تؤمنوا': 19, 'دعي': 96, 'فالحكم': 129, 'غافر': 56, 'كفرتم': 36, 'موضه': 4, 'ﺍﻹﺧﻼﺹ': 0, 'ﺍﻟﺘﻮﻛﻞ': 0, 'ﺍﻟﻤﺤﺒﺔ': 82, 'ﻭﺟﻞ': 0, 'ﺍﻟﺘﻮﺑﺔ': 0, 'ﺍﻟﺨﻮﻑ': 0, 'ﻋﺰ': 82, 'ﺍﻟﺮﺟﺎﺀ': 0, 'ﺇﻟﻰ': 82, 'بوابل': 27, 'وزاحمهم': 0, 'بركبتيك': 0, 'بنور': 117, 'بمر': 9, 'البرازيل': 64, 'والمعتقل': 101, 'وخطفوه': 0, 'يبرز': 32, 'انتقال': 71, 'ولاحظت': 0, 'الاشتباكات': 46, 'الجالس': 81, 'الواقف': 94, 'المنسوب': 60, 'التصريح': 51, 'الرواتب': 17, 'بالجاليه': 57, 'وانحطاط': 106, 'تعملها': 14, 'هتعملي': 45, 'وسيدي': 31, 'تقرض': 57, 'لسد': 2, 'وبقا': 78, 'تابت': 8, 'المتحرشين': 120, 'متجوز': 7, 'متدينين': 11, 'النتس': 0, 'نسميها': 21, 'المخزي': 91, 'فرصتها': 37, 'نخلص': 21, 'دن': 42, 'نتقد': 0, 'تدير': 55, 'شبكات': 89, 'بيصقفو': 0, 'تجارتهم': 11, 'وبيفكر': 78, 'وشلتو': 0, 'لاطمئنان': 0, 'الكفاح': 15, 'فرحتي': 54, 'ياقلبي': 86, 'واه': 42, 'الفرسان': 116, 'مافرحت': 0, 'النشاما': 31, 'تكتمل': 55, 'المقابيس': 0, 'يانشمي': 0, 'تشويش': 126, 'ريس': 127, 'الاعتقالات': 46, 'ثب': 42, 'حريتهم': 11, 'قاصد': 25, 'وبالرغم': 69, 'واتناقشنا': 0, 'التليفون': 95, 'داه': 127, 'كلمتك': 108, 'الدلائل': 85, 'وتكذبها': 0, 'الماوس': 52, 'زعلت': 8, 'هيزعلك': 78, 'وبقول': 45, 'عنديش': 45, 'هتغير': 45, 'لخروف': 0, 'وشه': 112, 'بتبعتلي': 78, 'كاهن': 101, 'وري': 86, 'النوع': 51, 'اؤكد': 122, 'روايات': 4, 'لاستجلاء': 0, 'وفيسبوك': 52, 'لخير': 63, 'واستخدمت': 57, 'قليلا': 103, 'تقلص': 47, 'معلوماتك': 33, 'هيحل': 78, 'نزيف': 27, 'وفشل': 106, 'يحله': 75, 'مقطوع': 25, 'علاقته': 110, 'بربه': 41, 'بوليسي': 48, 'بخيت': 62, 'التفويض': 73, 'يتسق': 0, 'ومبادئ': 129, 'وعصام': 101, 'وجبن': 18, 'الثانوي': 97, 'وماضيها': 0, 'مسئولي': 39, 'وسينتصر': 57, 'حت': 42, 'المحاول': 0, 'التفريق': 110, 'بعضينا': 21, 'نتظركم': 0, 'بعث': 80, 'التوصل': 110, 'سعيت': 96, 'يدون': 80, 'بالانتصار': 38, 'ولتاريخ': 0, 'خيرنا': 11, 'يوصلك': 119, 'تعمله': 14, 'مب': 65, 'الجمعيات': 92, 'بنساعد': 78, 'صداقتي': 37, 'ستيوارت': 59, 'اليهودي': 6, 'منهاتن': 0, 'بجون': 0, 'وهاجم': 57, 'بتعمله': 14, 'يحدثكم': 0, 'تكتيكات': 57, 'ذكرت': 96, 'امتناعهم': 0, 'يوحدوا': 0, 'مساوي': 78, 'مغلوب': 25, 'هوه': 7, 'بالرحمه': 63, 'مجزره': 100, 'الاتحاديه': 93, 'فاكرهم': 98, 'ادعلهم': 0, 'المك': 115, 'الراهن': 91, 'وحسام': 49, 'والموقف': 129, 'الجدول': 51, 'بخطك': 0, 'مزري': 109, 'وعقابه': 13, 'حقوقه': 107, 'دعواتكم': 60, 'استرجاع': 71, 'يصاب': 124, 'بارتفاع': 38, 'كاتبها': 108, 'تذكرت': 8, 'افعاله': 33, 'كر': 42, 'المفضل': 91, 'ترحمني': 68, 'بمال': 84, 'ميمنعش': 122, 'يتسموا': 78, 'خارجه': 29, 'بيقولو': 98, 'خصاره': 78, 'المه': 42, 'اصحابي': 9, 'شغلته': 65, 'ومشكلات': 57, 'عصره': 6, 'باحثين': 104, 'يحلون': 111, 'انتفضوا': 11, 'ويفسرون': 0, 'مسؤليته': 57, 'بالفولورز': 26, 'تنعموا': 79, 'النخب': 85, 'يسحل': 80, 'ويكيل': 0, 'شعبهم': 40, 'ويدفعون': 11, 'لاعلام': 2, 'لغرباء': 0, 'والهو': 0, 'موقنون': 79, 'بالاجابه': 38, 'ﺍﺩﻋﻮﺍ': 0, 'تفحص': 47, 'عائد': 60, 'يجعلني': 90, 'المنبر': 6, 'عايزاني': 45, 'صبرت': 8, 'فتذكري': 0, 'زواجك': 0, 'بالافكار': 37, 'وانما': 28, 'اتواصل': 53, 'واساعدهم': 0, 'مستقلا': 28, 'التقصير': 84, 'يوفق': 58, 'فلنقاطع': 0, 'يشترك': 32, 'ونضم': 0, 'بدو': 65, 'والثلاثين': 76, 'سبتهالي': 0, 'جرالي': 54, 'واليالي': 31, 'انشغالي': 54, 'قلتهالي': 0, 'اثراء': 26, 'وتنوع': 129, 'واكثر': 70, 'واشكر': 117, 'بانجاح': 57, 'الزملاء': 120, 'الراقي': 91, 'الجسد': 83, 'المحميات': 37, 'كيدهم': 40, 'غارات': 100, 'بالطائرات': 100, 'نحرهم': 40, 'ذوقك': 33, 'لوعودك': 0, 'لتميز': 57, 'شدعوه': 86, 'فراري': 59, 'الكويتي': 6, 'التحلطم': 15, 'لزوجتك': 115, 'لزوجك': 0, 'تشكيلها': 20, 'ساتجه': 0, 'يحيط': 124, 'الغموض': 15, 'كارد': 59, 'عيكم': 0, 'فالاخر': 127, 'الجرين': 59, 'مجا': 0, 'لايكات': 52, 'هينور': 78, 'جاز': 108, 'شمام': 101, 'بوابير': 0, 'ساخرا': 101, 'السهام': 81, 'الشبهات': 15, 'التنكيل': 106, 'قضوا': 111, 'سترك': 35, 'الوزارتين': 0, 'لتدليس': 0, 'وحكاياته': 0, 'تستمع': 72, 'بيانهم': 57, 'وفرض': 113, 'مسيراتهم': 0, 'هاصدق': 0, 'وتقتل': 106, 'بتعريه': 0, 'بتبعتو': 0, 'بتغطي': 78, 'ونهتم': 66, 'وعافيه': 63, 'نرا': 66, 'لامرهم': 11, 'حركه': 89, 'يهنيء': 43, 'عذبوه': 78, 'اصابوه': 0, 'بالمركز': 1, 'لمطار': 77, 'وتصادف': 0, 'عائدا': 28, 'والبكم': 120, 'وصولي': 20, 'ظلام': 128, 'الباطن': 5, 'عمد': 126, 'علاه': 63, 'السما': 83, 'اشكو': 96, 'مقتدر': 107, 'تمنيت': 122, 'ناظرت': 8, 'صاحبي': 54, 'وتفائل': 84, 'تهمه': 126, 'يحيل': 32, 'مواثيق': 31, 'انس': 42, 'وجدعان': 0, 'رسم': 99, 'عشاء': 18, 'مصور': 99, 'هاجوس': 128, 'مفاتح': 0, 'وبد': 0, 'والصدق': 84, 'همي': 54, 'دربي': 54, 'وحشتي': 128, 'وطاعتك': 94, 'فالحل': 129, 'والكادحين': 0, 'والنضال': 129, 'الملالي': 40, 'بولنت': 0, 'معلقا': 28, 'يواجهون': 111, 'القذف': 15, 'يهربون': 111, 'الناشف': 18, 'وتبرير': 106, 'عوضا': 104, 'المطالب': 85, 'الباسط': 101, 'الكباريه': 78, 'مقوم': 86, 'الهلامي': 57, 'لفقير': 0, 'بالتغير': 38, 'ينادي': 75, 'ورزق': 36, 'بمخزن': 77, 'مواس': 0, 'الالفاظ': 85, 'مايحدث': 126, 'الاجنبي': 91, 'ينتسب': 60, 'فقر': 126, 'الغريب': 122, 'ويستغلون': 57, 'يتبارون': 0, 'الطفش': 9, 'يحطون': 98, 'اعاني': 53, 'غفوه': 128, 'بالبريك': 0, 'نجاد': 48, 'يابتوع': 79, 'متورطين': 30, 'مابتكلمش': 78, 'بترتبط': 78, 'نسبه': 4, 'محن': 127, 'قلد': 119, 'ابدع': 80, 'ويوجهون': 57, 'مشرفين': 120, 'ناخبين': 57, 'يبشر': 43, 'ઊ': 57, 'كالبنيان': 129, 'لمؤمن': 19, 'المرصوص': 30, 'بروفيل': 78, 'الحلقه': 99, 'يناشد': 43, 'المخترع': 6, 'ومعلن': 0, 'لرئاسه': 39, 'ومؤكد': 57, 'مداخلته': 37, 'انتيكه': 78, 'قي': 42, 'الاضحي': 74, 'سعوديه': 22, 'ارضها': 40, 'اعدائها': 40, 'بالجان': 0, 'دسعد': 0, 'الدساتير': 37, 'اعدام': 10, 'الانقلابي': 6, 'اوراقهم': 37, 'مجموعات': 89, 'لقرارات': 2, 'ومعارضا': 0, 'عمرنا': 21, 'القرود': 11, 'التسويف': 15, 'شعبيتك': 37, 'لتبجيل': 0, 'طه': 101, 'الزباله': 95, 'وعافهم': 35, 'واكرم': 117, 'واجمعنا': 35, 'نزلهم': 78, 'وسع': 35, 'جنانك': 68, 'وارحمهم': 35, 'واعف': 35, 'مدخلهم': 68, 'يجزم': 80, 'الحمار': 6, 'تختم': 55, 'وتفكر': 115, 'معانيه': 33, 'نويت': 9, 'ثواب': 121, 'وتدبر': 121, 'والقيادات': 37, 'وزعت': 47, 'سنتعامل': 57, 'يتهرب': 69, 'والتنميه': 39, 'بالتواصل': 38, 'بالحزب': 39, 'مسبقا': 28, 'التنافس': 110, 'اغلقها': 0, 'اهوه': 127, 'تعرفوا': 79, 'المحضر': 73, 'نزله': 79, 'دمه': 107, 'تبكير': 0, 'الاسراع': 20, 'لاشتراك': 0, 'لتصبح': 47, 'حليب': 18, 'الباري': 117, 'عطوان': 101, 'يشرب': 75, 'السباع': 100, 'وترامادول': 0, 'بحوزتهما': 100, 'الزلمه': 6, 'يكونو': 87, 'العصبيه': 15, 'هيتحمل': 0, 'ناقصات': 11, 'حقو': 78, 'الفرحه': 83, 'السينمائي': 76, 'فينيسيا': 77, 'تحكيم': 23, 'المرنغي': 0, 'ميشال': 48, 'اعتبروني': 78, 'حيقلبوا': 0, 'باشعال': 38, 'المتواجده': 100, 'چه': 0, 'دارن': 31, 'اضافه': 71, 'خدمت': 47, 'ريش': 18, 'شايلين': 98, 'وبحورها': 0, 'والخفيف': 0, 'غوص': 18, 'غنايم': 31, 'الغرقانين': 0, 'نعام': 18, 'وليد': 62, 'الخاتمه': 68, 'وتطهير': 106, 'السرب': 116, 'ينبت': 27, 'ميتر': 0, 'الارسال': 20, 'مخيليف': 0, 'ستضطر': 0, 'لجلوس': 0, 'شئون': 89, 'وذراعا': 0, 'بشبر': 0, 'تحذو': 57, 'بذراع': 31, 'وكارمن': 0, 'دخيلو': 0, 'صغار': 11, 'عالواتس': 52, 'مصعب': 62, 'اتسخت': 0, 'يشاهد': 32, 'التونسين': 57, 'اجلاء': 10, 'الفليب': 0, 'نعاني': 66, 'الوزارات': 92, 'ويهديها': 0, 'ويبرها': 0, 'لعا': 0, 'يصلها': 80, 'فعيد': 0, 'عاق': 107, 'يغلوا': 0, 'لغلاء': 57, 'الطاقه': 17, 'المعسل': 18, 'توليد': 71, 'الطواف': 74, 'متجه': 60, 'شيخك': 6, 'حسرك': 0, 'ابناءك': 11, 'لنقف': 66, 'متاخره': 29, 'الطالبه': 16, 'وسيعرض': 0, 'ليمكن': 0, 'تشاجر': 0, 'يضربك': 119, 'خصمك': 115, 'الشاشه': 52, 'شاورلي': 78, 'شخط': 78, 'اظبط': 45, 'وقالي': 86, 'ياهشام': 0, 'سبورتنج': 64, 'سيظهر': 32, 'جايب': 119, 'وتقنين': 57, 'بالمطالب': 37, 'سيلاحقك': 0, 'سلبا': 129, 'موروث': 129, 'نواه': 129, 'التعميم': 15, 'الهكسوس': 78, 'يصور': 119, 'ﻋﻠﻲ': 82, 'ﺍﻟﺠﺎﻣﻊ': 0, 'ﻣﻤﺘﻠﺊ': 0, 'ﻓﻮﺟﺪﻩ': 0, 'ﺩﺧﻞ': 82, 'ﻋﻨﺪﻫﺎ': 82, 'ﺍﻣﺘﺤﺎﻧﺎﺕ': 0, 'ﺍﻟﻲ': 82, 'ﺍﻫﻼ': 0, 'ﺍﻟﺸﻴﺦ': 82, 'ﺑﺎﻟﺮﺟﺎﻟﺔ': 0, 'خطواتها': 37, 'تصب': 55, 'الدي': 59, 'يفيدك': 61, 'انصحك': 124, 'يخالف': 61, 'بلو': 59, 'رجليه': 107, 'جرانا': 0, 'الهزائم': 85, 'ولاتملك': 0, 'بيانه': 73, 'الهتافات': 37, 'عينكوا': 78, 'ولينا': 78, 'حرقهم': 11, 'كاشفهم': 0, 'فيسك': 48, 'روبرت': 48, 'الحادي': 76, 'يتدخل': 32, 'بشئونها': 0, 'الفيتو': 73, 'اختيارات': 4, 'بالجلسات': 0, 'الارتباك': 15, 'عادته': 107, 'نزع': 27, 'سيخبئ': 0, 'لعشاق': 99, 'شاهدت': 96, 'الختام': 68, 'مهمتي': 37, 'اتمت': 57, 'ستعلن': 47, 'وينفذ': 44, 'بيصلحوا': 0, 'خيرهم': 11, 'لنتناقش': 0, 'يسارع': 80, 'النفاذ': 20, 'الاداري': 91, 'انحاء': 89, 'ويسارع': 0, 'تمنعه': 69, 'ينخفض': 32, 'مضمونا': 28, 'يفسد': 32, 'يقدمه': 32, 'تجارب': 4, 'ويد': 81, 'لهالا': 0, 'بالتفجيرات': 57, 'وعمر': 31, 'فترات': 4, 'تسكت': 72, 'سعودين': 11, 'امراء': 30, 'المظلومين': 40, 'وخصومهم': 0, 'راف': 42, 'البرغوثي': 101, 'ميرسي': 127, 'يو': 59, 'سفيرا': 39, 'محده': 0, 'وصلاحيات': 57, 'لاعل': 0, 'توازي': 47, 'الملتزم': 129, 'يستجاب': 63, 'لصق': 52, 'جسده': 107, 'تخلف': 126, 'يمزق': 27, 'سني': 3, 'شيعي': 3, 'نموذجا': 28, 'وزميلنا': 0, 'لرفض': 2, 'بضعفنا': 0, 'البدون': 120, 'الخبراء': 120, 'روحت': 45, 'ومنعها': 57, 'ميخائيل': 101, 'قوص': 0, 'والبريطاني': 57, 'التحولات': 85, 'وستضع': 0, 'التحديات': 85, 'حدا': 65, 'المغولي': 0, 'تمهل': 96, 'حكمك': 33, 'بالكلاب': 11, 'تمشيط': 71, 'المزايدين': 0, 'والست': 78, 'والمزايدات': 0, 'بالدن': 0, 'خدماته': 17, 'دهبي': 78, 'اخت': 16, 'وتغريمها': 57, 'واتعب': 9, 'وازعل': 9, 'واغار': 90, 'وانتظر': 117, 'ابفهم': 86, 'تعال': 86, 'هالكثر': 65, 'وانقهر': 0, 'ومذيعات': 0, 'قتال': 106, 'المحتل': 40, 'وك': 42, 'تحطلي': 78, 'الباربي': 16, 'مالتي': 59, 'يتوجهون': 111, 'لتفريقهم': 57, 'والتنوع': 129, 'بالتسامح': 84, 'يفرج': 58, 'خلقو': 11, 'دعت': 47, 'وقالتلي': 45, 'لاتهامهم': 30, 'سرد': 33, 'الوسطي': 129, 'يفتخر': 124, 'هتلر': 6, 'بفرع': 77, 'داندي': 0, 'خدت': 45, 'نامت': 12, 'لعبت': 8, 'تشرق': 55, 'لاجلك': 84, 'اماني': 128, 'بيتلوي': 0, 'شمامين': 78, 'بتكلمي': 127, 'صفه': 4, 'عاجبهم': 98, 'باي': 65, 'ذراعها': 37, 'والزمالك': 1, 'بهتافات': 57, 'كالرعد': 0, 'بتصريحات': 38, 'تنموي': 57, 'لتدشين': 2, 'الفنزويلي': 48, 'تفهمه': 72, 'والسج': 0, 'الاعتداءات': 46, 'ولادته': 20, 'بطن': 81, 'رسولنا': 24, 'ويحتمون': 0, 'الفئران': 114, 'اعتدت': 125, 'اعتداءا': 0, 'اكتشافات': 4, 'يغارون': 87, 'بلوتنا': 0, 'اعتراض': 126, 'جرفها': 0, 'وخرب': 86, 'جالنا': 7, 'تحترمني': 72, 'احترمني': 33, 'يغيبون': 87, 'غابت': 96, 'الري': 42, 'كلوز': 59, 'شلال': 81, 'طاه': 127, 'واغفر': 35, 'تساقط': 27, 'اكرم': 117, 'حبات': 81, 'واعفو': 35, 'وسكنه': 117, 'الكوارع': 78, 'بيشغل': 7, 'يكتبوني': 0, 'الكواكبي': 101, 'المستبدون': 57, 'اعتذروا': 11, 'وانظف': 0, 'وانقي': 70, 'موقفهم': 73, 'قدموا': 111, 'حيقولك': 78, 'يولد': 32, 'يستريح': 75, 'غلطو': 98, 'بطلنا': 21, 'والعراق': 40, 'غزو': 71, 'وتراجع': 57, 'وتباعدت': 0, 'عمنا': 127, 'لارج': 59, 'تخالف': 72, 'والحاجات': 37, 'الشناوي': 49, 'والقبض': 10, 'وكلابك': 0, 'وسحل': 106, 'ونعمه': 78, 'وخرفانك': 0, 'بغرامات': 0, 'تدرج': 47, 'بمساحات': 4, 'الغام': 100, 'فرحات': 101, 'بيجن': 0, 'مابراحه': 0, 'مالكوش': 78, 'اثلا': 78, 'فرناس': 101, 'شافش': 78, 'عزوز': 62, 'السنيد': 101, 'بثقل': 84, 'راينا': 66, 'لعدل': 0, 'يفسر': 32, 'كيك': 18, 'دهاك': 0, 'والمواطنين': 30, 'المواطنات': 120, 'ونطمئن': 0, 'بوظ': 7, 'اخلاقي': 33, 'قاطعوا': 111, 'المنتجات': 92, 'بساويرس': 0, 'بتاعته': 112, 'اتصلو': 98, 'متقاعد': 3, 'وبيانات': 57, 'نستعيد': 66, 'المخزنجي': 101, 'سامحني': 108, 'وم': 42, 'يشرفوا': 0, 'سيعترف': 0, 'عزب': 101, 'جسدا': 103, 'قاعد': 65, 'يحافظ': 94, 'مكسبك': 0, 'ابحث': 104, 'واستدل': 0, 'السخط': 15, 'وياويلنا': 0, 'تلاميذ': 30, 'يتخرج': 97, 'تكاليف': 89, 'بيشحت': 78, 'انفق': 94, 'الجبالي': 49, 'ترحيب': 26, 'وتهاني': 0, 'انتاش': 0, 'قدهم': 98, 'فاسدا': 28, 'بشرف': 38, 'وعملت': 45, 'ياقدم': 0, 'ادعيه': 121, 'متقفل': 78, 'واول': 44, 'نجتث': 0, 'عاهدنا': 0, 'كردي': 3, 'لمتهمين': 57, 'استجواب': 73, 'الشكاوي': 92, 'المقترحات': 37, 'هاتولهم': 0, 'لخيول': 0, 'كملوا': 79, 'نقولها': 66, 'القائمه': 92, 'طويله': 29, 'رشا': 16, 'جبه': 31, 'المل': 42, 'بيرقص': 7, 'حوا': 16, 'بنطالب': 78, 'الخرونج': 0, 'يهددون': 43, 'هدد': 43, 'العاملون': 120, 'الشامل': 91, 'برامجهم': 37, 'افوت': 53, 'زبالين': 0, 'تح': 42, 'لعامه': 129, 'وحاور': 0, 'ذيل': 81, 'التذكير': 121, 'انشروا': 26, 'بالتكبير': 74, 'قاع': 81, 'نشؤ': 0, 'اﻹسلام': 40, 'سيعلم': 80, 'الانعقاد': 51, 'وبطلان': 0, 'قضيتي': 37, 'اتوهق': 53, 'لضيوف': 2, 'بشاميل': 18, 'واطلب': 117, 'المطعم': 95, 'روتين': 84, 'بالتجديد': 38, 'ويجعل': 117, 'فكسر': 0, 'تدعا': 0, 'بالمل': 0, 'الملتحين': 30, 'ابنائه': 107, 'المنقبات': 120, 'العروبه': 40, 'انجبت': 96, 'جلو': 59, 'نشسته': 0, 'بازه': 0, 'سادعو': 60, 'لقسم': 2, 'فارغا': 103, 'كلاما': 103, 'فضالي': 16, 'يظهرفي': 0, 'الالماني': 48, 'وصيف': 23, 'لهيفاء': 16, 'عدائها': 0, 'خبزها': 0, 'ماشاله': 0, 'لغربتي': 0, 'نستعبد': 0, 'دمائنا': 40, 'تذهبوا': 19, 'قارب': 81, 'لغات': 4, 'اوقاف': 89, 'مستبدا': 57, 'لتسليط': 57, 'امالي': 54, 'كربي': 63, 'تميل': 72, 'ماجرالي': 0, 'تخرص': 0, 'السمكه': 114, 'جسم': 114, 'الملون': 18, 'يناضلون': 11, 'شبان': 30, 'ضمت': 96, 'سيكتب': 104, 'بشقيها': 0, 'واشجع': 57, 'انبل': 70, 'واخرج': 44, 'تصنيفه': 129, 'بعواقب': 57, 'رجم': 31, 'الزنا': 106, 'استبقاء': 0, 'وارجاع': 57, 'ذراع': 31, 'غرض': 126, 'والغرض': 129, 'صين': 0, 'تخفض': 47, 'تفرز': 47, 'نيابات': 57, 'يتضمن': 113, 'الرنجه': 78, 'اهرب': 53, 'بسقوط': 38, 'مؤامر': 0, 'وميلودي': 0, 'نياشين': 0, 'رسالتك': 37, 'ويمكنك': 113, 'فضلها': 121, 'المسيل': 100, 'لدموع': 27, 'فالدعاء': 121, 'محتاجها': 25, 'لتدبيره': 0, 'وعالم': 44, 'بيحبك': 7, 'وشايلك': 0, 'خفت': 8, 'الاسلوب': 15, 'السيئ': 91, 'يستعملوا': 57, 'ساندتها': 0, 'تجهز': 47, 'التنفيذيه': 39, 'الكثيرين': 28, 'القلق': 15, 'البرنابيو': 64, 'يالا': 127, 'نحضر': 21, 'رجالها': 40, 'وتدير': 104, 'الانف': 114, 'وحزن': 128, 'ومصير': 57, 'وتشكره': 0, 'ومنزل': 31, 'ومرض': 106, 'وبدن': 0, 'وتحمده': 0, 'تطيعه': 84, 'نعمته': 107, 'الثالثه': 76, 'مرفق': 99, 'ودف': 86, 'لمستحقيه': 0, 'الحام': 0, 'بمرسوم': 73, 'المسي': 42, 'المسيره': 46, 'واحرص': 94, 'مسمع': 128, 'مستر': 59, 'هتفيدنا': 0, 'نظري': 33, 'وهيظهر': 0, 'الرؤيا': 37, 'الضباب': 81, 'يفقدنا': 61, 'شياطين': 11, 'يصرح': 43, 'مغلقه': 29, 'عاجزا': 104, 'خلقنا': 66, 'اتلمسك': 0, 'تطلين': 0, 'مشدوها': 0, 'ونصر': 117, 'قالوها': 108, 'بالجامع': 74, 'صدامات': 100, 'تدريس': 97, 'فوضي': 126, 'كوابح': 0, 'يافن': 0, 'نهاركم': 0, 'كباريه': 127, 'لشروق': 78, 'والديمقراطيه': 129, 'فالهم': 117, 'وسلمفي': 0, 'لمشرك': 0, 'يغفر': 56, 'الكيبورد': 52, 'ينظرون': 87, 'مشروعا': 28, 'السلط': 5, 'وعرق': 106, 'وبيقولك': 127, 'الديكتاتور': 6, 'والرضا': 84, 'الاذاعات': 92, 'ذكرته': 96, 'التنبيه': 20, 'سيوفر': 57, 'المعلق': 34, 'هنعتبر': 0, 'نعتبره': 66, 'ليكم': 79, 'بمزيج': 0, 'هتصلح': 0, 'لقطع': 2, 'مقدم': 99, 'لصالحه': 129, 'وعذبوه': 0, 'يرقد': 75, 'ضربه': 23, 'الكورس': 51, 'فيرد': 0, 'ياريس': 127, 'شوهوا': 111, 'تعتبروني': 0, 'تمنوا': 19, 'طعنوا': 111, 'يطالبوني': 0, 'اهاجم': 80, 'ماتوقعش': 0, 'تحتمل': 55, 'وترجمنا': 0, 'بمشاريع': 38, 'وحلفائهم': 57, 'الصريح': 129, 'سيرفعون': 11, 'رفضهم': 73, 'توني': 9, 'اسلاموفوبيا': 0, 'لتناسي': 0, 'دانت': 127, 'معر': 0, 'مابلاش': 127, 'بهدلوني': 0, 'وبنيه': 57, 'ٱلمرء': 0, 'تخيلت': 122, 'قناعي': 0, 'لعندي': 86, 'قت': 42, 'ستب': 0, 'مويك': 0, 'يهز': 27, 'امتداد': 91, 'وتعازينا': 0, 'البقر': 11, 'والرجال': 44, 'هتفوا': 111, 'لكش': 78, 'يخليه': 58, 'خلصنا': 21, 'منعي': 69, 'لاغا': 0, 'دروسكم': 0, 'تحفظون': 0, 'الفسطاط': 57, 'وموعد': 113, 'جمعتنا': 66, 'وعرفات': 0, 'يفك': 58, 'القليله': 29, 'نه': 42, 'الاطفال': 120, 'توطي': 86, 'تهجيرا': 0, 'ويتعمل': 78, 'تدوير': 71, 'يتدمر': 0, 'تكرم': 47, 'باكر': 54, 'والح': 42, 'رسالتنا': 60, 'مكتسباتنا': 0, 'حالنا': 66, 'سيبانا': 78, 'الموب': 95, 'يبوظ': 7, 'مشوي': 18, 'الغيط': 48, 'جانا': 21, 'كوز': 18, 'حسابا': 28, 'علاجا': 28, 'التكنولوجيا': 92, 'الجهد': 15, 'لتري': 81, 'شامخ': 31, 'معاقبته': 20, 'مقراتها': 57, 'بحظر': 38, 'والتحفظ': 57, 'المحتمل': 125, 'والم': 42, 'البدهيات': 0, 'لتذكير': 26, 'مضطرين': 66, 'واستطاعوا': 0, 'درسوا': 111, 'لہ': 54, 'امنيه': 29, 'وفر': 86, 'وغم': 63, 'وشعبها': 40, 'ربوع': 31, 'بسلميته': 0, 'الطاهر': 31, 'خوش': 86, 'اعلامك': 0, 'دام': 86, 'ياجابر': 117, 'والتغيرات': 37, 'خضوع': 126, 'اراضيها': 22, 'اقفلو': 78, 'اسوه': 43, 'بسفاره': 57, 'وروحو': 79, 'الهكر': 6, 'وتعليم': 97, 'جيوش': 40, 'بالنقض': 57, 'نطق': 75, 'وبيهد': 0, 'قعدتك': 78, 'والبابا': 101, 'والما': 27, 'تربيتكم': 11, 'والبنات': 98, 'الغل': 42, 'بوصلتنا': 0, 'سيؤدي': 113, 'فش': 127, 'استعادتها': 20, 'القولون': 114, 'القلوي': 0, 'تفاوت': 126, 'مجرباها': 0, 'معبد': 77, 'مسكوا': 98, 'يعجبنا': 61, 'يوضح': 32, 'بالبلاك': 52, 'وكيس': 18, 'وينجح': 44, 'يحافظوا': 94, 'وانزف': 27, 'ويجف': 27, 'عمي': 86, 'اعمتهم': 0, 'بالاغتيال': 57, 'المسؤولون': 120, 'جمعتهم': 111, 'حثهم': 0, 'حبهم': 11, 'ربهم': 36, 'والسلاطين': 11, 'لايعرفون': 87, 'نري': 66, 'شاركتهم': 0, 'اجرامهم': 11, 'وجوهكم': 79, 'تاريخك': 116, 'المجالس': 92, 'تسوي': 12, 'صرنا': 21, 'معاي': 65, 'سويت': 8, 'واختلف': 129, 'وكتاب': 101, 'لجمال': 2, 'اجاب': 41, 'خص': 42, 'تساؤل': 33, 'عاقه': 0, 'لوالدها': 57, 'الشبان': 30, 'بيومين': 67, 'عائدون': 60, 'كف': 128, 'وعجبني': 109, 'استنوا': 45, 'عالبيدج': 0, 'اتملت': 78, 'ومحاصر': 0, 'ومسجد': 74, 'ومدرعات': 100, 'قافل': 25, 'فيكو': 127, 'بيفشخ': 7, 'صديقنا': 34, 'سواءا': 57, 'نزيفه': 0, 'معارضا': 28, 'مواليا': 57, 'ونازل': 127, 'الوصف': 33, 'انتشر': 27, 'بودي': 59, 'وتامر': 101, 'جارد': 59, 'محمدفؤاد': 0, 'السلاسل': 37, 'الخواتم': 37, 'شايفها': 14, 'تعجب': 72, 'وتقدمت': 57, 'حالات': 4, 'ذهابي': 20, 'يجينا': 21, 'اتلتيكو': 64, 'مهارات': 4, 'وسرعات': 0, 'مدربين': 23, 'استمتعت': 124, 'احبها': 53, 'فكاهيه': 29, 'يادي': 127, 'اهتمت': 124, 'الرزاز': 0, 'بحوث': 97, 'نيتشر': 0, 'اصدارات': 99, 'مدينتك': 37, 'واحكام': 129, 'ورمسيس': 57, 'كالمطر': 81, 'معني': 33, 'فتستجيب': 60, 'نشير': 78, 'دوم': 86, 'عروس': 16, 'العاص': 41, 'نادين': 16, 'قايل': 108, 'ماينزل': 119, 'قرا': 41, 'ستصدر': 47, 'مديرا': 39, 'الجنسنج': 0, 'المعجز': 0, 'بيصنع': 78, 'صعيد': 94, 'واستفتي': 0, 'وكتبوا': 57, 'التحري': 20, 'يصمد': 32, 'انتخابي': 73, 'وادعموه': 26, 'محبسه': 93, 'تورنتو': 22, 'بطولات': 23, 'احتياط': 23, 'بينتو': 64, 'الحارس': 64, 'لاقباط': 57, 'سيطرت': 94, 'الشرطه': 46, 'محا': 78, 'ومحاولته': 57, 'الالتفاف': 20, 'ملاحظ': 122, 'سيغلق': 57, 'سارعوا': 26, 'يسود': 27, 'الحصري': 99, 'الهدوء': 15, 'وتكثيف': 57, 'المحترفين': 1, 'تيتانك': 78, 'صنعوا': 111, 'فنظن': 0, 'ساعتين': 67, 'ذكرياته': 83, 'فصارت': 57, 'رائد': 62, 'زعيتر': 101, 'اموت': 53, 'هعيش': 45, 'مخيم': 5, 'الشاطئ': 81, 'لاجئين': 30, 'التشيد': 0, 'نموه': 107, 'البريطاني': 48, 'سولف': 108, 'طفولتك': 16, 'بتويتر': 52, 'خسروا': 111, 'المعارك': 46, 'ساهموا': 26, 'حجمها': 33, 'بصفتها': 57, 'لغه': 4, 'لواقع': 129, 'وتبص': 78, 'لذيذه': 29, 'بيموت': 7, 'حزينه': 128, 'شقيه': 128, 'لوشها': 0, 'منور': 86, 'براها': 78, 'خرافه': 129, 'وقوف': 110, 'يلغ': 0, 'ساريا': 0, 'حجاجوفيتش': 0, 'الجفالي': 57, 'يتوفي': 80, 'بشهرين': 67, 'توفي': 75, 'نفر': 86, 'قاري': 86, 'كوره': 23, 'وسباق': 57, 'ونرد': 21, 'مالعبت': 8, 'بشارعنا': 0, 'صبيان': 11, 'وهجوم': 106, 'تحسه': 119, 'بنضحك': 21, 'تحريضهم': 57, 'الشريط': 51, 'يقلد': 119, 'المسلسل': 51, 'اؤيدك': 0, 'يصعد': 32, 'وهتافات': 30, 'احل': 53, 'مخلص': 25, 'براجع': 25, 'سينتهي': 27, 'محطما': 0, 'هسيبك': 45, 'حكتله': 78, 'سابوك': 78, 'قطات': 86, 'خليهم': 98, 'يتسل': 0, 'الاخت': 16, 'مديكي': 0, 'حلاوه': 84, 'متكونيش': 78, 'المضربين': 120, 'الاسير': 101, 'يدعوا': 60, 'ومتع': 117, 'لمعلم': 101, 'المنشق': 101, 'كتالوج': 99, 'ويلقون': 2, 'ويذبحون': 11, 'ويرهبون': 0, 'ويستخدمون': 57, 'وجودنا': 15, 'بنقراها': 0, 'واياك': 117, 'نستعين': 124, 'نيتنا': 21, 'تظاهرات': 46, 'الوقف': 17, 'تقرف': 14, 'التجميل': 114, 'تعرفو': 79, 'احن': 128, 'بيحكي': 7, 'لولايات': 0, 'بنحط': 21, 'لاوطانه': 0, 'يتهان': 78, 'هاقبل': 0, 'بتفتح': 14, 'اوضح': 53, 'طوائف': 40, 'فضلت': 45, 'سماد': 18, 'بمبلغ': 38, 'بالبرنامج': 51, 'يعيدها': 58, 'لمكانتها': 57, 'بازدراء': 57, 'وحقكم': 0, 'رافعا': 44, 'تعيد': 55, 'ونعلم': 66, 'ويعيش': 44, 'لراس': 31, 'لحيات': 0, 'لشؤون': 39, 'باقابل': 0, 'تقاريري': 0, 'باروح': 9, 'وعبحليم': 0, 'الكافتيريا': 0, 'ليكره': 0, 'تمكنوا': 69, 'عدادات': 89, 'ورموزها': 57, 'استقلالي': 0, 'والمشروع': 129, 'متظاهري': 30, 'الشتايم': 127, 'يسرق': 75, 'وينهب': 57, 'ورقه': 4, 'الاسئله': 85, 'ماتكتبش': 0, 'اتنيل': 127, 'حاملي': 120, 'شعارات': 89, 'وهدر': 106, 'لاستقطاب': 2, 'سبلا': 117, 'لتشق': 0, 'وحدهاهي': 0, 'كنفاني': 101, 'دالبرادعي': 0, 'والابتعاد': 104, 'لتمسك': 0, 'والمستفيد': 129, 'الملحدين': 11, 'كلوي': 114, 'لتصور': 0, 'سكرات': 68, 'لجنتها': 0, 'واتباع': 106, 'فريدمان': 57, 'قرارت': 73, 'بفوبيا': 0, 'هجص': 78, 'قوائم': 89, 'لاسلوب': 129, 'نشروا': 111, 'يخوضوا': 11, 'يجرمنكم': 19, 'لمعرفه': 2, 'تشديدات': 57, 'بالتعمق': 0, 'نخشاها': 0, 'مكفوفين': 57, 'وعنف': 106, 'زيفا': 28, 'منعوا': 111, 'والقنوات': 37, 'لافتعال': 57, 'مراسلي': 57, 'بنها': 93, 'كفرالدوار': 0, 'ايوب': 101, 'اضاف': 60, 'خطت': 96, 'لحياتك': 115, 'كورسات': 97, 'فالصيف': 78, 'نجران': 5, 'والفتح': 116, 'نجر': 34, 'بحسن': 84, 'راحوا': 98, 'لايخدع': 0, 'ساعدوه': 57, 'البدائل': 85, 'لمطالبنا': 57, 'عقولنا': 85, 'ونفوق': 0, 'تحقي': 0, 'نقوم': 66, 'ونركز': 129, 'انتهينا': 21, 'والعفن': 0, 'الفنادق': 92, 'اسرارك': 115, 'الاصدقاء': 120, 'غيابگ': 54, 'يسليني': 75, 'يساعدك': 115, 'صالحا': 103, 'الجزيره': 22, 'يتصدران': 57, 'والدها': 107, 'ماعنيته': 0, 'تحذيرات': 89, 'والمتظاهرين': 30, 'وايران': 40, 'التواجد': 20, 'متعونا': 0, 'لتشكيل': 2, 'ثنائي': 23, 'يكلفها': 0, 'موفقه': 29, 'طلعه': 18, 'ذهنيا': 57, 'فصلته': 0, 'تهته': 0, 'لائق': 109, 'بدائل': 4, 'والصندوق': 57, 'ونقدم': 60, 'لندافع': 0, 'طرقنا': 0, 'بتفوق': 57, 'لسفر': 2, 'الدولتين': 110, 'ونسينا': 66, 'يحتاجون': 87, 'تفوق': 47, 'العميل': 6, 'نستو': 78, 'وحمدين': 49, 'وجايبين': 98, 'الكتاتني': 49, 'مطالبا': 43, 'ومحافظها': 0, 'مقعد': 77, 'ريتويتس': 127, 'ﺗﻮﻳﺘﺮ': 82, 'ﻛﺎﻓﻴﻪ': 0, 'ﻣﺼﺮ': 82, 'بالباقي': 38, 'اشعال': 71, 'ومنصف': 0, 'حيادي': 109, 'البرعي': 101, 'الخيري': 91, 'بالموقع': 52, 'برحيل': 38, 'ليمن': 86, 'تركها': 20, 'ترث': 72, 'سياساته': 37, 'يصدقك': 75, 'باردين': 98, 'الاوربين': 0, 'بالعري': 0, 'دعوتها': 37, 'صيف': 128, 'نهائيات': 1, 'شعرنا': 66, 'هجرناه': 0, 'بيوتنا': 21, 'لمصحف': 0, 'سيلين': 16, 'عروضات': 0, 'الرافضين': 30, 'شجاع': 3, 'استقرارها': 40, 'يحسب': 119, 'جعلها': 58, 'يوصف': 61, 'الكلاسيكي': 91, 'تصميمه': 99, 'الجاموس': 0, 'بيخليها': 78, 'تنتشر': 47, 'تعريفات': 4, 'قوميا': 28, 'بزعم': 113, 'البلاغ': 94, 'الميت': 107, 'احباط': 126, 'تداركت': 0, 'تولت': 96, 'تجدي': 55, 'فكري': 54, 'متقلقش': 127, 'سيتراجع': 0, 'نضفت': 78, 'الكتير': 112, 'المنشور': 51, 'التحنيط': 0, 'متحف': 77, 'ومتماسك': 0, 'وصفك': 33, 'ظنك': 115, 'نبعت': 21, 'يتحاكم': 7, 'يبوسه': 78, 'يحضن': 75, 'نتبه': 0, 'احترمه': 33, 'يشبهون': 87, 'مرشحهم': 57, 'تهش': 0, 'طرحت': 47, 'صاحبها': 107, 'بالشتائم': 0, 'بحجر': 81, 'والضمائر': 0, 'يرهب': 80, 'يرفعون': 111, 'مشوهي': 0, 'مخبئه': 81, 'يصدقش': 0, 'لصدام': 6, 'ويحطوا': 78, 'تضلم': 78, 'ومنال': 16, 'راسهم': 11, 'والظواهر': 0, 'فارقا': 28, 'بطوله': 1, 'واقعين': 21, 'لتمرد': 57, 'هنحاول': 78, 'وبلاش': 127, 'نفهمه': 66, 'وحدوا': 79, 'سحبه': 23, 'فيليب': 64, 'سكولاري': 64, 'لاجل': 44, 'اتليتكو': 64, 'ويليان': 64, 'البرازيلين': 0, 'سيزداد': 27, 'استعداد': 23, 'ردك': 33, 'تقديرات': 89, 'محصنه': 5, 'لامرسي': 0, 'منيعه': 0, 'ودب': 3, 'قمح': 81, 'لسلع': 0, 'والصبر': 84, 'وقنا': 35, 'يقولولك': 127, 'ويرجعو': 78, 'وابعدوا': 57, 'وبطل': 86, 'يجزاك': 58, 'كبس': 86, 'نتعلمها': 66, 'لنصلح': 0, 'ماضينا': 83, 'المشرق': 41, 'نحكيها': 66, 'العراقين': 11, 'لبلادهم': 11, 'يقترعون': 0, 'عقبالنا': 78, 'بدعمه': 38, 'بقربه': 84, 'وتعترف': 57, 'بغلطك': 0, 'سلع': 89, 'غزلان': 16, 'تلفزيون': 99, 'الاشتراكي': 39, 'ويوضح': 129, 'بتضرب': 14, 'شومسكي': 0, 'نعوم': 16, 'السوي': 129, 'لصائم': 0, 'دعوتم': 0, 'فطره': 84, 'الهوي': 54, 'طولتوش': 0, 'اغتوي': 0, 'طولته': 0, 'ارتوي': 27, 'نطيت': 8, 'ثورين': 0, 'لاختبارات': 97, 'طريقك': 115, 'واعظ': 0, 'المحتال': 6, 'المجاهرين': 0, 'اكتئبت': 78, 'بعديها': 112, 'ماتستغربوش': 0, 'ضحكت': 8, 'يشوهون': 111, 'ندا': 101, 'اتضامن': 0, 'قاضيهم': 0, 'وعلاء': 49, 'الزنديق': 6, 'يتدبر': 0, 'سويدان': 101, 'الكافر': 107, 'الاوقاف': 73, 'شهادات': 89, 'مومني': 0, 'رسامين': 11, 'يعطي': 32, 'قدامنا': 21, 'بعتابه': 0, 'ارثا': 28, 'طيبا': 103, 'عقابه': 107, 'متقلقيش': 127, 'لاتنسون': 79, 'اخوانكم': 40, 'ضرورات': 129, 'الاستعباط': 15, 'صولاته': 0, 'وجولاته': 0, 'القلائل': 11, 'توعدنا': 0, 'لبديع': 0, 'وكتيب': 0, 'العاب': 99, 'مقاتل': 3, 'ترسالك': 0, 'لشعبه': 107, 'انحاز': 60, 'مجرما': 28, 'بالزرقا': 0, 'يشتبكون': 30, 'الارهابيه': 46, 'الاهالي': 120, 'يشكروا': 78, 'عمرهم': 98, 'لحسوا': 0, 'قالوه': 108, 'لستخدام': 0, 'فرنساوي': 127, 'وفهمنا': 78, 'قضينا': 21, 'العمارات': 93, 'يحكمه': 80, 'مصلحته': 107, 'يطبل': 80, 'قلعوه': 0, 'عراه': 11, 'وقطاع': 106, 'ينحاز': 60, 'مستفيدا': 57, 'حكيما': 103, 'الاستسقاء': 74, 'تجمعوا': 111, 'معتصمون': 30, 'يستخدمون': 87, 'ترحيلهم': 20, 'السريع': 91, 'زعبل': 93, 'بارليف': 100, 'ينسي': 75, 'لولولولولولولولي': 0, 'اتاح': 60, 'لدم': 57, 'هيقدر': 7, 'بالريتويتات': 0, 'بتكشف': 78, 'بتعملها': 14, 'سميت': 124, 'هاربات': 0, 'العثور': 10, 'خادمات': 120, 'حساباتهن': 0, 'التابلت': 59, 'هكمل': 45, 'التيسير': 63, 'بالغير': 84, 'ومذاق': 0, 'مالم': 28, 'ومعاشات': 0, 'حتعمل': 14, 'المسجونين': 30, 'دونگ': 54, 'قاهر': 80, 'مذيعين': 98, 'الساعات': 92, 'تسبونهم': 0, 'ومذهلا': 0, 'بالعبري': 78, 'حلقت': 8, 'ثوانيہ': 0, 'نسيتي': 8, 'وضيوف': 57, 'الدقايق': 54, 'وقواتنا': 57, 'جواك': 14, 'والحرق': 106, 'محمه': 0, 'تباطئ': 0, 'وسقطت': 96, 'لمنازل': 100, 'فردتين': 0, 'بينادوا': 78, 'بعتي': 78, 'والتعدي': 106, 'وصادروا': 0, 'الصراصير': 114, 'بتقولي': 45, 'ينتصر': 32, 'هجرتي': 0, 'الشهيدات': 0, 'وانشاء': 58, 'بوقس': 0, 'يناديك': 75, 'اختفت': 8, 'بينامو': 78, 'ينداس': 31, 'هينتقل': 0, 'دعوتكم': 26, 'الاصرار': 15, 'بالحكومات': 57, 'گن': 42, 'عربستان': 57, 'مروحيات': 100, 'المحدث': 41, 'ويتحفظ': 0, 'بكده': 112, 'بالجزم': 78, 'الجزم': 37, 'لنفهم': 0, 'مطارتنا': 0, 'دوبتي': 0, 'ماهذا': 106, 'بت': 42, 'الوسخه': 112, 'عشاقه': 116, 'والمسيرات': 37, 'وفقنا': 35, 'ماكنتي': 8, 'الصح': 65, 'اﻵن': 57, 'ذالك': 20, 'تكرت': 0, 'شيئين': 84, 'احمه': 0, 'الواسطي': 0, 'فاهمك': 25, 'الفزع': 106, 'هيتعب': 78, 'كموا': 0, 'والمعتقلات': 57, 'الهجمات': 85, 'عشيقتي': 0, 'ماتداني': 0, 'سينمائيون': 0, 'مثقفون': 30, 'يمثلنا': 80, 'لنحتفل': 57, 'عرفتش': 45, 'مستوياته': 23, 'نجمع': 21, 'عزلنا': 0, 'ابيب': 22, 'نذهب': 66, 'يفهمك': 115, 'الاعبين': 116, 'الغاصبون': 0, 'الجا': 60, 'الحشرات': 114, 'مطلعتش': 45, 'بيسمعك': 78, 'فضحهم': 11, 'وعينيه': 0, 'الهدؤ': 0, 'صرصار': 127, 'لامؤخذه': 127, 'اخلاقه': 107, 'وفاكر': 7, 'هتسمعها': 78, 'وخايف': 65, 'المليون': 67, 'شهاب': 62, 'بخبرته': 0, 'العهود': 37, 'خبراتهم': 37, 'بحوزتهم': 100, 'اوله': 54, 'اكمله': 53, 'جسورا': 28, 'حواجز': 4, 'ونتحاور': 0, 'بعضا': 28, 'نتفاهم': 21, 'نبحث': 50, 'ونبني': 21, 'ويقدر': 44, 'ويؤتون': 111, 'المفلح': 101, 'حجوزات': 17, 'الطيار': 6, 'لط': 42, 'والاردن': 22, 'اعلنا': 57, 'بالحماس': 0, 'مليء': 124, 'المرفوض': 129, 'جذريا': 129, 'وماج': 0, 'المتشدقون': 0, 'لحظر': 2, 'لقيود': 0, 'هاج': 75, 'بالناخبين': 0, 'والعقد': 129, 'المساهمين': 120, 'المتعاقد': 57, 'والعلامات': 37, 'هيدوس': 78, 'وجزء': 44, 'تنر': 0, 'قانو': 0, 'وستين': 67, 'القنصليات': 57, 'لضيق': 117, 'يتمكنوا': 69, 'الروس': 40, 'واهلنا': 40, 'الات': 42, 'بنصرك': 35, 'لاحبتنا': 0, 'وشبيحته': 40, 'وجنودهم': 57, 'المجاهدون': 30, 'يعلو': 61, 'بالعار': 38, 'كرامه': 126, 'قالولك': 108, 'ويلك': 86, 'ليق': 59, 'نشط': 26, 'حبيته': 25, 'لمتابعت': 0, 'ستعاد': 57, 'بلاده': 22, 'التعجيل': 57, 'الغطاء': 51, 'ولحريات': 0, 'الانتقاص': 126, 'واقعكم': 0, 'تخلوا': 104, 'الروهنجيا': 30, 'وقار': 31, 'تعقيبا': 94, 'باراك': 48, 'شيبان': 86, 'الفحيحيل': 5, 'المخفر': 95, 'بينشروه': 0, 'رقمك': 52, 'يبعتولك': 78, 'بتاريخه': 116, 'محاور': 23, 'يتركز': 27, 'لتقدم': 2, 'يتزنق': 78, 'ماتقوله': 33, 'قياداتكم': 0, 'بتسجل': 78, 'تسجل': 47, 'مايصحش': 127, 'بتفتكرها': 14, 'لعناصر': 100, 'تفريق': 126, 'ليؤكد': 57, 'نظرت': 96, 'الشيء': 33, 'الفضائين': 78, 'تكاد': 125, 'اركد': 86, 'يهديك': 58, 'سيس': 127, 'المناقشات': 85, 'بلوكات': 52, 'حافظينهم': 0, 'اسمحولي': 79, 'عاملينها': 98, 'كنتوا': 79, 'جراء': 100, 'لاعبي': 116, 'يليه': 27, 'ضيقتك': 115, 'دمعتك': 83, 'اسند': 96, 'اعلاميون': 30, 'مصطلح': 129, 'شايفين': 98, 'ويهبط': 0, 'جرحت': 8, 'كالطير': 81, 'سربها': 0, 'طيرانها': 0, 'والوثائق': 37, 'لدار': 2, 'الدما': 31, 'سفك': 40, 'خليجيون': 30, 'يرتضي': 80, 'وبدل': 117, 'البسين': 78, 'كدهو': 127, 'سبحت': 8, 'بتسبح': 78, 'وشبعت': 0, 'بيعيش': 7, 'المفصولين': 120, 'يفتكروا': 98, 'رفيع': 109, 'صدعتونا': 78, 'بيكلمهم': 78, 'ينفعنا': 66, 'رقما': 28, 'وديون': 57, 'النهب': 106, 'التحرك': 110, 'وبتجيب': 78, 'بتحرق': 14, 'فنادق': 77, 'ضوابط': 89, 'ومساحات': 0, 'الاعلانات': 92, 'يتعطل': 80, 'قضيه': 89, 'بمطاي': 0, 'لمده': 67, 'اخوانيا': 28, 'هتفاءل': 0, 'شدوا': 79, 'حيلك': 86, 'حيلكم': 79, 'طوائفه': 129, 'ومجرد': 0, 'القطارات': 92, 'واخو': 31, 'ويغلق': 44, 'اشد': 70, 'الفخراني': 49, 'مثبتين': 0, 'اتحل': 78, 'تزيط': 78, 'نتوتر': 0, 'واقلبوا': 0, 'واتحل': 0, 'ونشتم': 0, 'ﺍﻟﻤﻮﺕ': 82, 'ﻭﻗﺎﻝ': 82, 'ﺩﺍﺭﻩ': 0, 'ﺃﻫﻞ': 82, 'ﻣﻐﻠﻖ': 0, 'يبيت': 80, 'ﻭﻳﺄﺗﻲ': 0, 'ﺍﻟﺠﺒﺎﻝ': 0, 'مسنات': 0, 'الضامن': 129, 'توقفه': 20, 'سدود': 81, 'فيضانا': 0, 'يجهلون': 87, 'وبدم': 0, 'الحالتين': 33, 'يهينون': 11, 'شهدائهم': 40, 'بتضحياته': 0, 'ويستهينون': 0, 'يدعون': 87, 'صون': 31, 'وحريات': 57, 'ويتعهد': 43, 'برسائل': 38, 'ينساه': 61, 'يبعث': 32, 'كسفير': 57, 'التناقض': 15, 'ونعتز': 57, 'الميز': 0, 'فلنبدا': 57, 'معاياو': 0, 'المحاضرات': 92, 'لصناع': 2, 'الفقهي': 91, 'الافتاء': 73, 'ودار': 31, 'بيرتعش': 0, 'ناريه': 100, 'القرعه': 37, 'السنغال': 22, 'والمدرعات': 100, 'ومواطني': 0, 'الجهادين': 0, 'لطائرات': 100, 'استخدمت': 47, 'المصادر': 92, 'مضادات': 114, 'شعلان': 62, 'الخارق': 91, 'الخشخاش': 16, 'الذكاء': 15, 'لايتجاوز': 27, 'جوخ': 107, 'وشرف': 60, 'لانجح': 0, 'صديقات': 11, 'وجعلته': 117, 'بقتله': 38, 'يجاهد': 80, 'بالكذب': 15, 'مسدسا': 0, 'كاميرات': 89, 'بشوارع': 77, 'مستورد': 18, 'واكتشفوا': 0, 'مبيدات': 114, 'ومستغربين': 78, 'ودخل': 44, 'حاويات': 77, 'بيجيلنا': 78, 'استغل': 32, 'نفايات': 77, 'احبسونا': 0, 'امنعونا': 0, 'الشفيق': 101, 'سيئا': 103, 'حلولكن': 0, 'الناقص': 33, 'تقن': 42, 'القانو': 0, 'كاتبا': 28, 'اختارت': 47, 'الجريده': 92, 'لينضموا': 0, 'جريده': 76, 'صحيفه': 76, 'لابطال': 2, 'تفرقا': 0, 'تحبا': 0, 'يتمسكوا': 78, 'قدير': 56, 'المطالبين': 43, 'وتسمع': 12, 'ملاذ': 128, 'طيران': 100, 'غمض': 12, 'وتحس': 12, 'بعنيك': 78, 'بوسها': 78, 'اوحشك': 0, 'وهحس': 0, 'هسمعك': 78, 'ورده': 81, 'وانده': 0, 'معتدل': 109, 'ارصاد': 57, 'البحري': 91, 'والوجه': 31, 'طقس': 76, 'جرائمهم': 40, 'العون': 63, 'سعادتك': 115, 'تدع': 19, 'سونيا': 127, 'بسوا': 0, 'جاتلي': 45, 'الحقيقيه': 29, 'بنخاف': 21, 'لبلد': 57, 'سلمها': 57, 'المقرات': 92, 'تسليح': 71, 'يردع': 80, 'مفترجه': 78, 'الفولو': 52, 'بريتويت': 26, 'بالمدارس': 97, 'موجودون': 11, 'الخل': 42, 'واتريق': 0, 'اتريق': 45, 'وخمس': 67, 'ريتني': 45, 'حفاظ': 57, 'مبطن': 109, 'يستلزم': 113, 'نقعد': 21, 'بيدونا': 78, 'مبادئي': 33, 'الطبري': 41, 'بالمفرق': 0, 'كاسه': 18, 'ومهم': 109, 'تنتظم': 0, 'المطلق': 129, 'ومبادئه': 129, 'فلابد': 125, 'لزم': 58, 'الجنتين': 0, 'والشئون': 57, 'لجنتي': 0, 'الجن': 42, 'معدي': 7, 'مفعول': 114, 'تغنيان': 0, 'رايه': 73, 'صالخ': 0, 'بيعبر': 104, 'جادا': 28, 'لحدود': 27, 'موقفا': 28, 'الشارب': 6, 'جهلها': 70, 'القماش': 114, 'المتنبي': 41, 'بحرق': 38, 'لحف': 31, 'العبقري': 6, 'شواربكم': 79, 'تحفوا': 0, 'بطيء': 109, 'المعهد': 51, 'بالكيلو': 78, 'بواجبها': 38, 'يدخلها': 61, 'واسمها': 16, 'حبيبيك': 0, 'بيدعموا': 78, 'الجوله': 1, 'لواشنطن': 48, 'قانونا': 73, 'والحرس': 30, 'ياجاهل': 31, 'اضافات': 52, 'لستات': 0, 'قروب': 26, 'بيري': 52, 'تعارف': 26, 'بلاك': 59, 'بربسه': 57, 'واقبال': 57, 'وعقبالك': 117, 'وتوجيه': 113, 'اكتشفنا': 122, 'ذبحوها': 0, 'بالميزان': 0, 'الانجح': 57, 'فائض': 13, 'هليوبلس': 0, 'الاجر': 121, 'شبعت': 8, 'وامشي': 9, 'وخلي': 86, 'يدوقك': 0, 'البياع': 18, 'الهضيبي': 101, 'يناقشان': 57, 'جربها': 115, 'قدمك': 81, 'يسارها': 0, 'صدرها': 83, 'جاثما': 0, 'بركان': 81, 'ستبقي': 96, 'لتعصب': 0, 'مايميز': 129, 'واختيار': 113, 'العبارات': 85, 'الملوك': 40, 'احلام': 16, 'يتجه': 32, 'يعطني': 0, 'قضيته': 37, 'المتحرش': 6, 'واتجاه': 57, 'بيبني': 78, 'قصته': 33, 'عجبتج': 0, 'شموسه': 0, 'باختراع': 38, 'لكورونا': 57, 'سخانات': 0, 'مباني': 77, 'بالحبس': 73, 'وانفجار': 100, 'بالعريش': 93, 'ومعسكر': 77, 'برفح': 100, 'لتفجير': 2, 'مفتقدينك': 78, 'السميع': 56, 'بقولهم': 78, 'العليم': 56, 'نقرا': 50, 'تكبير': 71, 'الكلامده': 0, 'البسم': 42, 'تقتحم': 47, 'جبع': 0, 'نسترجع': 66, 'منضبط': 109, 'التشكيك': 110, 'كلامها': 33, 'تشويها': 57, 'اجهاض': 71, 'قائما': 28, 'تخير': 31, 'مسوداته': 0, 'ويكتشف': 44, 'بيسمع': 7, 'يخترع': 119, 'الجاهز': 78, 'والاعدام': 106, 'ساب': 7, 'روضه': 31, 'يقراها': 75, 'مكانها': 95, 'شتائمهم': 0, 'الشاي': 114, 'بالاحتلال': 57, 'رفضها': 73, 'بالغلط': 65, 'معقده': 29, 'بالزقازيق': 93, 'نتابع': 21, 'القادمين': 120, 'زائلون': 11, 'ويستخرج': 0, 'كنوزها': 0, 'بمقتضاها': 0, 'جم': 67, 'اتبهدلت': 45, 'بيتمسح': 78, 'يفتكر': 7, 'بشركاء': 0, 'عنتيل': 101, 'خلفت': 96, 'مطلعش': 7, 'لكهرباء': 57, 'ثكناته': 78, 'واعتزازنا': 0, 'نريده': 66, 'يزج': 124, 'ثقتنا': 124, 'بسمات': 128, 'يتميز': 124, 'الجنزوري': 49, 'محمل': 94, 'تعزل': 47, 'اداري': 25, 'بخت': 31, 'مسعود': 62, 'العمياء': 129, 'المذل': 0, 'ﺃﻭﺭﺍﻕ': 0, 'ﺍﻟﻌﻠﻴﺎ': 0, 'ﻟﻼﻧﺘﺨﺎﺑﺎﺕ': 0, 'ﺻﺒﺎﺣﻰ': 0, 'ﺻﺤﻴﺤﺔ': 0, 'يرفضونه': 0, 'يؤيدون': 111, 'النفوس': 83, 'حمقي': 11, 'باستثناءات': 0, 'يلقي': 32, 'براءتهم': 0, 'وطلب': 113, 'المشوق': 0, 'اسباس': 0, 'موزيس': 0, 'ماتيتش': 64, 'فيرناندينو': 0, 'ساكو': 59, 'شورليه': 0, 'الانديه': 92, 'تعاقدات': 23, 'نيقريدو': 0, 'يوفيتش': 0, 'اوزيل': 64, 'حبيبتشي': 127, 'بحبكوا': 45, 'واتشيه': 0, 'يخاطب': 80, 'استفادوا': 111, 'بالقيام': 121, 'اضطرابات': 4, 'ماعلمك': 86, 'احتريك': 54, 'ضربتي': 0, 'يهنئونه': 0, 'بتحرير': 38, 'والمخلوع': 100, 'يعتزمون': 113, 'بعدل': 0, 'تحصله': 119, 'وريبورت': 0, 'كوم': 99, 'والتعليقات': 26, 'تكرهوا': 56, 'وتفاصيل': 29, 'والسياج': 0, 'الخطف': 46, 'والضرب': 106, 'والمحاكمات': 57, 'وكرامتهم': 11, 'يشوهوا': 78, 'يتكلمون': 87, 'وبور': 0, 'وهاقول': 0, 'اخره': 127, 'ماوصلتش': 78, 'الروائع': 37, 'الحجاز': 5, 'المغفلين': 11, 'وحف': 0, 'تقدروا': 79, 'تشاركونا': 79, 'يتصاحب': 127, 'بدورهم': 11, 'نضال': 101, 'نعوذ': 35, 'ملال': 93, 'وسهل': 117, 'اخضع': 53, 'يتعرضوا': 60, 'لمزايدات': 0, 'بخطابه': 57, 'والسلطات': 37, 'بالجسم': 114, 'قيد': 94, 'باقيان': 0, 'اتهامك': 0, 'لشرفاء': 57, 'والاجرام': 106, 'القاتلون': 0, 'الوجستي': 0, 'والاسعاف': 100, 'لكلاب': 30, 'ﺟﻴﺶ': 0, 'ﻛﻠﻴﺔ': 0, 'ﻋﻨﺪ': 82, 'قضي': 75, 'بعبور': 57, 'التجوال': 17, 'بمدن': 57, 'شكوك': 126, 'موطن': 31, 'الجاحظ': 41, 'تمارس': 55, 'اختلافنا': 110, 'ولانخون': 0, 'الموقعين': 120, 'جا': 119, 'ينشغل': 75, 'وانهيارات': 0, 'لشعبها': 57, 'شنيع': 109, 'طعاما': 41, 'وشرابا': 0, 'ومظالم': 0, 'تراكمت': 94, 'التصاعد': 0, 'بعيون': 31, 'وراك': 65, 'مغترب': 3, 'فالبرلمان': 0, 'سيرشح': 57, 'القراء': 120, 'نقدا': 28, 'يصله': 19, 'قذارتها': 0, 'ازيل': 27, 'سلبيا': 28, 'طوس': 0, 'وينزل': 44, 'ويسيطر': 94, 'عدائيا': 0, 'الارهابي': 6, 'اقترف': 96, 'اومن': 124, 'وعارف': 7, 'يدفنها': 80, 'واعجاب': 84, 'الشجعان': 40, 'واستنتاجات': 0, 'افرم': 78, 'ويفكر': 44, 'الحمام': 95, 'ودخلت': 8, 'مرحاض': 0, 'فخرجت': 57, 'مجتمعا': 28, 'عجبتكم': 79, 'الفنانه': 16, 'سيبت': 45, 'وف': 42, 'عايزنا': 21, 'ااه': 86, 'فرايداي': 78, 'اماكن': 4, 'اشاعات': 126, 'الحليب': 114, 'بنهودي': 0, 'وبتلم': 0, 'وماكانتش': 0, 'تكرهو': 56, 'متخلوش': 78, 'هيخلص': 7, 'المتخاذل': 57, 'غصبا': 104, 'تسلمت': 47, 'السوريه': 48, 'تعويضات': 89, 'اتحسبوا': 0, 'لاحتساب': 57, 'استعمالها': 20, 'لفشل': 2, 'ملثمون': 100, 'صحتي': 115, 'مدلا': 0, 'جعلك': 115, 'ملوكا': 11, 'فاجعلهما': 0, 'صغرك': 31, 'كبرك': 54, 'قبطي': 3, 'لبيب': 101, 'اسخف': 70, 'البسيوني': 101, 'وجلاد': 0, 'يبلغ': 32, 'وتعتبر': 47, 'سكانها': 30, 'الاتن': 0, 'اشتم': 53, 'مجنون': 25, 'واؤيد': 57, 'وهمي': 25, 'لنواب': 2, 'سيئ': 109, 'يروحوا': 98, 'نتقبل': 50, 'هتخلص': 14, 'سرعه': 4, 'خلصت': 8, 'بطولتي': 57, 'وروما': 64, 'مليش': 112, 'سندعم': 57, 'بالمتطرف': 0, 'الكاهن': 6, 'الخوارج': 40, 'فتواه': 73, 'اسماهم': 11, 'استلمته': 0, 'وسلمته': 0, 'الزبلاوي': 0, 'رزقنا': 66, 'الكورد': 30, 'تنسيقيات': 76, 'عنبر': 101, 'تافهين': 98, 'الزغلول': 0, 'مراسلينا': 57, 'الركاب': 120, 'ضدها': 126, 'وسنرفع': 0, 'تخونه': 75, 'وثقوا': 124, 'اليتيم': 107, 'رولا': 16, 'خرسا': 101, 'تقارب': 110, 'بمعانيها': 0, 'تباعد': 19, 'يعمر': 58, 'ثلثين': 31, 'المحتم': 0, 'يابا': 127, 'مستثمر': 3, 'قلتلك': 108, 'بتش': 59, 'بتوضيح': 38, 'ملابسات': 113, 'دستورنا': 129, 'واتباعه': 6, 'والطماطم': 114, 'لوصول': 2, 'نفذت': 47, 'اشتروها': 0, 'لتلفزيون': 57, 'سطا': 31, 'لمواطني': 57, 'يقدس': 80, 'ومسيحيا': 0, 'ساقيه': 81, 'السجود': 118, 'فخذيه': 104, 'مديرين': 57, 'قاتلا': 28, 'والانقسام': 106, 'ضحيته': 80, 'اضرار': 4, 'منحته': 96, 'بتقف': 14, 'بتدفع': 14, 'غرامات': 89, 'حتشتم': 0, 'بيدور': 7, 'الناحي': 0, 'تعبش': 0, 'القريبين': 11, 'جانبها': 37, 'لابو': 34, 'المتشائم': 84, 'خطته': 37, 'ميسواش': 78, 'لقطر': 22, 'لارتكاب': 2, 'تظاهراته': 0, 'مرصود': 0, 'المبيت': 20, 'ترند': 52, 'سويته': 108, 'الهاشتاق': 51, 'منفوخ': 23, 'دايات': 0, 'دكتوراه': 97, 'دبلن': 57, 'العريقه': 37, 'يفي': 61, 'بتعهداته': 0, 'تدافعون': 104, 'ويجعلكم': 117, 'قلبا': 103, 'خاشعا': 63, 'البلاء': 63, 'ذاكرا': 117, 'لسانا': 28, 'محلها': 33, 'عاليوتيوب': 52, 'متع': 31, 'روحك': 83, 'المناديل': 95, 'والماء': 114, 'يدخله': 80, 'نتحدث': 50, 'جابوا': 98, 'ضرف': 0, 'استنباط': 129, 'تساهل': 126, 'باز': 41, 'الولي': 56, 'تخلع': 72, 'اوعوا': 79, 'ينسيكم': 79, 'وزع': 27, 'هيلب': 59, 'نانا': 16, 'ومدرسين': 57, 'والدن': 0, 'ومهندسين': 11, 'واطباء': 11, 'الصميم': 33, 'سرب': 81, 'ولحمهم': 0, 'المسرب': 57, 'وقلت': 108, 'الرجا': 54, 'رقدوا': 111, 'الدقيق': 91, 'المدعم': 57, 'المفصول': 57, 'حصن': 31, 'احتياطي': 23, 'بتشتمني': 78, 'لغز': 99, 'البرنس': 49, 'نشوفك': 21, 'تهاوشوا': 98, 'الوحوش': 37, 'نيتشه': 28, 'تحارب': 72, 'تفقدنا': 66, 'علاقاتها': 110, 'كونه': 129, 'مشكلته': 23, 'اليسار': 95, 'صحت': 8, 'ارق': 128, 'بنتعلم': 21, 'وتدخلنا': 0, 'البتاعه': 127, 'اقلق': 53, 'مقار': 89, 'اقرا': 53, 'لوعه': 128, 'لفصل': 2, 'الحزبي': 129, 'لعملات': 0, 'احاديث': 4, 'جرايد': 78, 'تقرفونا': 78, 'البلادمن': 0, 'مغرض': 0, 'يضخم': 57, 'السائح': 6, 'سوت': 8, 'بيتصور': 7, 'القاكم': 79, 'محركات': 4, 'مستمرا': 28, 'يضيعنا': 0, 'اجملها': 70, 'فهمناها': 78, 'قالي': 108, 'صدقتش': 0, 'لقيتش': 78, 'مخطوف': 25, 'وبحثت': 104, 'غطي': 27, 'عنيا': 112, 'بالدمع': 128, 'مناف': 62, 'كانه': 44, 'واتهم': 106, 'هائج': 81, 'اتهم': 43, 'مستمعي': 0, 'هانبني': 0, 'لمئات': 2, 'واعمق': 70, 'وساذكركم': 0, 'فنكتشف': 0, 'ترسيم': 71, 'ثرواتها': 37, 'تهاون': 126, 'حدودها': 37, 'سوكا': 16, 'وجنان': 0, 'بعتوا': 98, 'ياكفره': 78, 'بيفكرك': 78, 'تلخص': 47, 'بالفواصل': 0, 'الزوار': 120, 'بانوراما': 99, 'بالتصوير': 38, 'تورطوا': 111, 'التصالح': 110, 'لبدء': 2, 'والتعبير': 129, 'بلاستك': 18, 'جاج': 86, 'شوب': 59, 'خشب': 18, 'زرا': 0, 'المنتصف': 20, 'تصدقوا': 79, 'حينماقال': 0, 'وعملوا': 37, 'وقتلوا': 111, 'وفاهمين': 98, 'فرحانين': 98, 'مصلين': 74, 'اتقفلت': 45, 'منو': 65, 'مفتحوش': 0, 'عائلت': 0, 'العسيرات': 0, 'عبارته': 0, 'ليلتقي': 0, 'ودخول': 113, 'لتكليف': 57, 'والجزاء': 129, 'والشعراء': 11, 'ولدت': 96, 'فتنت': 96, 'عصرها': 37, 'ذكري': 128, 'عيده': 31, 'لجيشنا': 57, 'بيعاند': 78, 'وبيعلق': 0, 'بينحاز': 0, 'الزعماء': 120, 'نظرتنا': 66, 'الاعتراض': 73, 'اجنبي': 3, 'فايده': 65, 'مافيك': 115, 'ويدوسوا': 0, 'يسار': 86, 'يميت': 27, 'المخيم': 95, 'رضو': 11, 'صفات': 4, 'كلاعب': 23, 'بنفتح': 21, 'اكونت': 52, 'عاشت': 96, 'السقوط': 20, 'القريب': 84, 'ومقولات': 0, 'والاستعداد': 113, 'طبقاتهم': 0, 'بمزيد': 38, 'وفئاتهم': 0, 'واحترام': 129, 'الانتهاك': 57, 'تبتعد': 104, 'لقواعد': 2, 'تجمد': 27, 'تساوي': 55, 'بالخبر': 38, 'منشورا': 57, 'مصربعد': 0, 'فيلمه': 51, 'مسابقات': 26, 'انشقاق': 10, 'ويشرب': 44, 'واخذهم': 0, 'ينصاع': 80, 'يحترمه': 80, 'بجعل': 38, 'الخبير': 6, 'محبتي': 60, 'واعجابي': 0, 'لعشر': 67, 'بلطجه': 126, 'وايه': 127, 'كثب': 104, 'حسناتك': 115, 'كرهته': 8, 'مرغما': 28, 'ليسجلوا': 0, 'التعهد': 37, 'والحديث': 104, 'جديا': 65, 'النوي': 54, 'عرفين': 98, 'هترجعو': 0, 'هتروحو': 78, 'زعتر': 18, 'جمبه': 95, 'ليفهم': 80, 'محتواه': 33, 'ياشا': 0, 'بغيابك': 54, 'المؤقت': 91, 'صباحاتي': 128, 'بالتعليق': 38, 'اخماد': 100, 'الهاشتاجين': 0, 'تطلبون': 79, 'بالعسكر': 57, 'ايتها': 96, 'تنتزع': 55, 'وحجم': 129, 'وامكانات': 57, 'اختصار': 33, 'المحارم': 106, 'بتحكي': 14, 'فاين': 106, 'ربتها': 0, 'جدتها': 16, 'معاكي': 45, 'وحشني': 45, 'قاعدتنا': 0, 'احكيلك': 53, 'مفتقداكي': 0, 'عزه': 31, 'لغزه': 2, 'وبقي': 44, 'تفي': 72, 'المقالين': 0, 'وسيب': 127, 'خيبتك': 115, 'الغرغرينا': 0, 'كفرهم': 11, 'وقوانين': 129, 'بقمع': 38, 'معارضيك': 57, 'واستعدي': 0, 'وانشغل': 0, 'تنهش': 27, 'يعجبك': 72, 'تحاكم': 72, 'فرقتش': 0, 'حاكم': 3, 'ملكم': 0, 'حكمكم': 0, 'وليتم': 0, 'نيوزلندا': 22, 'يعقبه': 63, 'الظواهري': 6, 'الاسكواش': 57, 'كو': 59, 'اقتلوا': 11, 'العمداء': 57, 'مشاركون': 57, 'ورؤساء': 39, 'الغش': 15, 'واصلاني': 0, 'القضاه': 120, 'حدثوني': 104, 'متعجبون': 0, 'المعوقات': 85, 'لوجود': 2, 'تسريبا': 0, 'ومنتجاتها': 0, 'يصبرك': 58, 'الترويج': 20, 'لاسمي': 0, 'حيله': 75, 'اعين': 81, 'نموها': 37, 'بادوش': 0, 'غيب': 54, 'لمؤشرات': 57, 'الجمعتين': 36, 'التزامها': 110, 'همر': 59, 'شيميل': 0, 'قويا': 103, 'رايت': 96, 'يتحسن': 32, 'يسر': 35, 'والمدن': 37, 'الكشف': 71, 'دمعه': 83, 'مكثف': 109, 'الغبي': 6, 'يهجر': 75, 'ومحافظتها': 0, 'معبره': 29, 'ورضا': 117, 'اختطفهم': 0, 'منافسا': 28, 'يعقده': 0, 'تخفيها': 72, 'تر': 42, 'الذكي': 91, 'خيرصباح': 0, 'ويربط': 117, 'الصفوي': 6, 'ونقلته': 0, 'الدا': 57, 'عايزاه': 112, 'النوافل': 121, 'بجمال': 38, 'قدره': 58, 'التحديث': 51, 'وامرساه': 0, 'حكمتك': 33, 'روميرو': 64, 'هجيبلك': 45, 'العيان': 30, 'واقرؤا': 0, 'وشاهدوا': 57, 'بطعم': 38, 'ومج': 42, 'وفسق': 106, 'غموض': 126, 'وترفع': 117, 'بتساوي': 78, 'وناديت': 31, 'لدعوات': 2, 'تصديت': 0, 'التوازن': 15, 'القدي': 69, 'اعلاني': 52, 'لمتوفين': 0, 'الدفن': 74, 'تصاريح': 89, 'كويز': 97, 'بالله': 84, 'متذمر': 0, 'والاثنان': 0, 'شهران': 31, 'يشتاقون': 87, 'يستطيعون': 87, 'الباقون': 11, 'مخفض': 0, 'نائبي': 0, 'حوثي': 3, 'الكيانات': 37, 'وحفاظا': 57, 'ودعا': 117, 'ينتخبه': 78, 'مقاطعتها': 37, 'وقاطع': 57, 'حامين': 57, 'فاقسمه': 0, 'گتبت': 96, 'هاشتاجات': 78, 'كفرالزيات': 0, 'فكرك': 115, 'هوايا': 54, 'اعدلوا': 11, 'احسنت': 96, 'قوما': 36, 'اساؤا': 11, 'تعدلوا': 79, 'صحيحولا': 0, 'سوءا': 103, 'والشرف': 60, 'تمنحها': 55, 'لاينجح': 0, 'خبطه': 78, 'صدفا': 0, 'سكوت': 126, 'تحبو': 79, 'طبيعتها': 37, 'كيوت': 59, 'مانفعتش': 0, 'يامرسي': 127, 'تنصح': 72, 'بالمزيد': 38, 'لايعتمد': 0, 'اوقعنا': 0, 'يسامح': 58, 'المازق': 51, 'وستنتصر': 57, 'محترما': 103, 'تعاقد': 23, 'يجوع': 75, 'ويدعم': 44, 'تكفيره': 57, 'هويدي': 101, 'اصطدام': 10, 'كويكب': 81, 'نتصور': 66, 'متصورين': 98, 'وكاذب': 0, 'جوبا': 48, 'وفيورنتينا': 0, 'نسفها': 0, 'ميﻻن': 0, 'يغلقون': 111, 'يروعون': 0, 'يحتشدون': 30, 'يفوزوا': 111, 'المتطرفون': 11, 'يقنعوا': 11, 'بمقاعد': 57, 'سيفقد': 80, 'حقل': 77, 'سواحل': 81, 'دلائل': 4, 'والرغي': 78, 'المؤامر': 0, 'فيعملون': 0, 'ويعرفون': 11, 'ويقدمون': 57, 'فيقبل': 0, 'بسيوني': 73, 'والحقد': 106, 'يغيرها': 61, 'الصغيره': 29, 'سجاير': 112, 'بنحبك': 127, 'هافضل': 45, 'ناديكوا': 0, 'الجرايد': 92, 'البواب': 127, 'الوش': 127, 'جنتلمان': 0, 'بيخليهم': 78, 'الجامي': 6, 'قنال': 0, 'لورانس': 59, 'وهوليود': 0, 'ايفري': 59, 'تلهيك': 104, 'لخطاب': 2, 'وتواري': 0, 'والعزل': 106, 'شيوع': 57, 'الاتجاه': 51, 'بالنفي': 0, 'حازت': 94, 'والمحن': 84, 'الدلال': 31, 'بشائر': 76, 'شاشات': 89, 'اعترافاتهم': 57, 'بانهيار': 38, 'اتقدمت': 78, 'خربت': 8, 'نذاكر': 21, 'وصلها': 8, 'الطنطاوي': 94, 'فعد': 96, 'بيبص': 7, 'بصله': 60, 'الموبيل': 112, 'بموقف': 38, 'وحزبه': 40, 'ضمانات': 89, 'وملتزم': 3, 'وندعم': 57, 'تمثله': 72, 'نعلم': 66, 'وصلونا': 78, 'نحسها': 66, 'بتمجد': 0, 'بقينا': 21, 'النفور': 0, 'مؤيد': 3, 'اهمها': 4, 'لانتصار': 57, 'لتعجيل': 57, 'دوت': 99, 'استحمار': 126, 'عاندت': 8, 'لصوت': 2, 'اصداء': 4, 'اظهرت': 47, 'رفضتها': 0, 'معاكن': 0, 'بيدج': 52, 'طيبته': 107, 'شهامته': 0, 'وانعدام': 106, 'بكوارث': 57, 'وحلفائها': 57, 'تبدو': 55, 'هدفا': 28, 'المنال': 84, 'وابورمان': 78, 'يجدع': 78, 'ولعوها': 78, 'وايمي': 0, 'بالح': 42, 'فاعصها': 0, 'عصتك': 96, 'بالسؤ': 0, 'رخا': 128, 'مونتيسوري': 0, 'الفوري': 113, 'وطهر': 117, 'حفلات': 89, 'مسيطر': 94, 'وشكلها': 78, 'تيفو': 116, 'انتعاش': 57, 'واكل': 18, 'اكدها': 0, 'فوجيء': 57, 'كالنقش': 31, 'سيبيك': 0, 'الميه': 95, 'خيرها': 63, 'شفتو': 8, 'مهند': 62, 'زخرف': 31, 'يتجاذبان': 0, 'عمقها': 81, 'الجنان': 68, 'عاملان': 57, 'اتساعه': 128, 'تعقيدا': 28, 'غموضا': 28, 'محروس': 101, 'بفض': 38, 'يند': 0, 'مقاطعته': 20, 'المحر': 0, 'خواطري': 128, 'الفلورز': 52, 'بحذ': 0, 'بتقل': 14, 'والده': 6, 'ماباحبش': 0, 'بيزعل': 7, 'ملائمتها': 0, 'اثبتلك': 53, 'موعدها': 37, 'وترك': 44, 'والتشاور': 57, 'لقاكم': 0, 'طمنوني': 79, 'عامله': 14, 'والعسل': 114, 'يبحثون': 104, 'تطبيقات': 89, 'باتكلم': 45, 'الغيبيات': 37, 'توقعوا': 69, 'ماجتش': 78, 'لقت': 8, 'دفاعاعن': 0, 'تصدوا': 57, 'ثورتهم': 40, 'شرفوا': 11, 'مزور': 3, 'انتجته': 57, 'حصنها': 0, 'سنسقط': 57, 'وباطل': 11, 'وفلوسنا': 0, 'الفواتير': 17, 'بيونسيه': 16, 'تغني': 12, 'لاتهامها': 57, 'نائمون': 11, 'صامدون': 11, 'يفرشون': 11, 'ينقلبون': 11, 'لتطورات': 57, 'فايروس': 52, 'فيار': 0, 'وادبي': 0, 'بذگرڳ': 0, 'نقيہ': 0, 'جميلہ': 29, 'خشيٺگ': 0, 'رقيقہ': 0, 'بحبگ': 0, 'ہم': 42, 'وبكري': 78, 'دبابتين': 100, 'يحبسه': 0, 'يقيل': 80, 'ويبوس': 44, 'الشتامين': 0, 'مصيركم': 36, 'شتائمكم': 0, 'اضعها': 96, 'يماثل': 57, 'والمدربين': 57, 'وشغب': 57, 'لمواطنيهم': 0, 'المكر': 15, 'اياكم': 121, 'سينشي': 0, 'واحلم': 124, 'ونتزوج': 0, 'كونان': 59, 'السيبل': 0, 'صفاء': 84, 'والتاني': 7, 'فقيق': 0, 'بتحارب': 14, 'شمروخ': 127, 'وتعيش': 12, 'والنار': 31, 'الايد': 95, 'عالبال': 128, 'استني': 45, 'خيبتكم': 78, 'ماشوف': 9, 'هويتها': 37, 'وتواصل': 113, 'الحضار': 0, 'يتحدثها': 0, 'وفوض': 117, 'عارض': 80, 'مندوبه': 16, 'بغرض': 113, 'دماغه': 112, 'فكرتك': 33, 'يستعين': 43, 'المتخابر': 0, 'جذب': 126, 'وتسكين': 57, 'المئات': 13, 'هتشتغل': 45, 'ملحوظ': 109, 'شيف': 18, 'تصدرت': 47, 'ساهمت': 47, 'بطشه': 0, 'خرافي': 109, 'الكمان': 0, 'اولنا': 78, 'انشغل': 124, 'الشاط': 0, 'واجد': 65, 'مقتول': 25, 'المتق': 0, 'وتحيل': 57, 'السيدات': 120, 'المهمات': 85, 'بالفوز': 1, 'شعره': 107, 'بقدراته': 129, 'وفاولات': 0, 'متكامل': 109, 'ضربات': 100, 'وتسديد': 57, 'مايعترف': 124, 'باقتطاع': 0, 'تخجل': 72, 'تليفزيوني': 99, 'جاهده': 28, 'التصن': 0, 'لتفريغ': 2, 'دقوا': 98, 'تحيد': 70, 'شعبها': 40, 'فداء': 60, 'العرفان': 84, 'الختامي': 76, 'بوليود': 59, 'تقديري': 60, 'لحديثه': 0, 'يبلغه': 61, 'يرسله': 119, 'بالمن': 0, 'الموضوعي': 129, 'وفرحونا': 0, 'الرساله': 92, 'يرضي': 58, 'ينالك': 84, 'لعائلات': 57, 'لفن': 129, 'نتمسك': 66, 'ليستطيع': 57, 'يسرع': 32, 'حبنا': 54, 'صحفهم': 11, 'فلندعوا': 0, 'وحيدون': 11, 'حسابهم': 52, 'تفطرت': 0, 'وبقدر': 117, 'عجائب': 70, 'تصبو': 60, 'عجمان': 5, 'رؤيتها': 20, 'يخلوا': 98, 'شيوعي': 3, 'شاكلته': 94, 'ملحدين': 11, 'اختاره': 58, 'اندم': 53, 'بيعمله': 7, 'احيه': 127, 'افاتار': 59, 'وهتفت': 57, 'بسقوطه': 57, 'وندمت': 8, 'هتفت': 96, 'مسئولا': 104, 'تبعه': 69, 'تدليس': 126, 'بدليل': 129, 'جامعتي': 97, 'ماشتغلتش': 0, 'ولاعمري': 0, 'رحتها': 8, 'لشائعات': 57, 'استقبالي': 0, 'تدافعي': 104, 'اخوكي': 127, 'الثقه': 85, 'اعلانه': 73, 'خاليك': 78, 'طموحك': 115, 'متخليش': 14, 'معوقات': 89, 'سلاسل': 4, 'ربا': 63, 'سيهات': 5, 'لطب': 76, 'وتقويم': 129, 'الاسنان': 114, 'انتقاص': 126, 'الرشراش': 0, 'معادن': 4, 'كافيه': 29, 'تخصيص': 71, 'لمحاكم': 57, 'والمخابرات': 46, 'الضبط': 33, 'يخول': 57, 'سيارتي': 95, 'متهمي': 30, 'خطير': 109, 'بسماعه': 38, 'تجزم': 72, 'ويدافع': 104, 'هيرميس': 78, 'ويقفلوا': 78, 'يقفلوا': 98, 'السلوم': 31, 'اغلقوا': 111, 'عالرايح': 0, 'وبرضو': 65, 'خربوا': 111, 'وبريطانيا': 22, 'قارنا': 3, 'بالدول': 92, 'لبراء': 0, 'اشتغلت': 8, 'الجاليات': 120, 'جواهر': 16, 'تجاهلت': 96, 'مقترحات': 89, 'هتسكت': 78, 'اولاده': 107, 'الاصل': 3, 'والاحتياطي': 57, 'احزاب': 89, 'لغاز': 57, 'مازوت': 0, 'ارمي': 53, 'ضهرك': 127, 'وضم': 31, 'ومواقفه': 129, 'اسر': 30, 'ستحول': 47, 'ونقاش': 110, 'الجلاء': 93, 'زوره': 78, 'بلع': 119, 'باغتياله': 0, 'بالملابس': 37, 'نشكر': 66, 'نستمتع': 66, 'وهيطلع': 78, 'ابونا': 101, 'هيخلينا': 78, 'العريض': 91, 'المعز': 101, 'بمشي': 9, 'عرفش': 78, 'ولقبه': 0, 'افتقاد': 84, 'المرافق': 92, 'متوال': 0, 'مجرب': 25, 'النمر': 6, 'بطاطين': 18, 'التوحيد': 40, 'تفعلها': 55, 'ستشعر': 124, 'فعلتها': 96, 'المجاهد': 6, 'سندعوا': 0, 'نرتفع': 66, 'فالوضع': 129, 'التكاتف': 110, 'بالغ': 109, 'والانتهاكات': 57, 'لمواطنين': 30, 'والفردي': 0, 'صوتها': 128, 'اختفاء': 10, 'البطاله': 17, 'زياده': 71, 'نسيا': 103, 'العتيق': 34, 'العبد': 41, 'لربه': 41, 'اسعاف': 100, 'تعرضه': 10, 'لطريقك': 0, 'اﻻمين': 0, 'لماسبق': 0, 'المستقيم': 36, 'المستضعفين': 35, 'الخاتم': 18, 'المتصابي': 0, 'لعجوز': 0, 'النجا': 49, 'وسيحاول': 0, 'عمود': 77, 'سيارتها': 95, 'ويحطمون': 57, 'مجلسه': 107, 'المهام': 92, 'بمشروعنا': 0, 'تقدمنا': 66, 'عدنا': 66, 'الونسو': 64, 'منشوفش': 78, 'زهايمر': 65, 'تنسو': 19, 'وربما': 28, 'ونصبح': 66, 'البعيد': 128, 'بتجيلك': 14, 'وحكامه': 57, 'تقولو': 127, 'وجاين': 0, 'دجل': 126, 'شوال': 67, 'وتريقه': 78, 'ياجنتي': 117, 'حبيبان': 0, 'سندرلاند': 64, 'التمرير': 23, 'يداوي': 75, 'عليل': 128, 'المرعب': 91, 'التهاوي': 0, 'يختلط': 27, 'يستكمل': 32, 'اقبال': 94, 'مهام': 89, 'ريحته': 18, 'بتاعتو': 78, 'يتخاذلون': 0, 'زهبوا': 0, 'لقوم': 36, 'التانين': 78, 'خدوا': 98, 'الاولانين': 0, 'تكسي': 18, 'ويتطاول': 57, 'لنقاطع': 0, 'مقصور': 94, 'والجميع': 44, 'منتهاه': 84, 'التصهين': 0, 'يلطم': 80, 'لجلوسهم': 0, 'انتقدت': 47, 'وهتافاتهم': 0, 'وسلميتهم': 0, 'الصخر': 81, 'يصدقوا': 111, 'تبرير': 126, 'ليز': 18, 'اقوله': 108, 'وفرحان': 78, 'مدايق': 25, 'رسوم': 89, 'وغذاء': 0, 'لتوصيله': 0, 'بيتجمعوا': 78, 'عالمسرح': 78, 'ماشاهدت': 0, 'يماثلها': 0, 'والجهاد': 129, 'اينما': 103, 'بجن': 42, 'بصحيح': 78, 'يلاحقون': 111, 'لايقافه': 57, 'مسئوليات': 57, 'وشرعيته': 0, 'داهيه': 127, 'شرطه': 93, 'ظهير': 23, 'غافلين': 50, 'الصغائر': 37, 'وتصحيح': 129, 'غارقين': 66, 'المعجزات': 84, 'قواته': 46, 'ولشعب': 57, 'يعزلو': 0, 'ومحلب': 57, 'اعطو': 79, 'لمنصبه': 57, 'واصاب': 106, 'باعجاب': 57, 'لاعظم': 57, 'مساندته': 57, 'الجياع': 30, 'النهضه': 46, 'اجمع': 53, 'دستوريه': 73, 'ساري': 31, 'واحصل': 94, 'يقولها': 108, 'يعرص': 78, 'يشقشق': 0, 'يملا': 27, 'عندو': 7, 'المستجد': 97, 'ستيفاني': 0, 'والغني': 84, 'جحش': 3, 'رجوعا': 0, 'برميل': 77, 'وصدام': 6, 'بيهدموا': 0, 'خربوها': 98, 'اسهمهم': 0, 'وحولوا': 57, 'لبنوك': 57, 'ارصدتهم': 37, 'باعوا': 111, 'يلبسنا': 0, 'هيظهر': 78, 'الحيط': 95, 'افتكرنا': 78, 'دعمه': 73, 'المتقاعد': 6, 'جورجي': 101, 'كميل': 101, 'وتعين': 117, 'لسفري': 0, 'حضراتكم': 79, 'الغيت': 8, 'وسرقوا': 111, 'دمروا': 111, 'وصاله': 54, 'الصاله': 95, 'واوضه': 0, 'اوضه': 112, 'اوضتين': 78, 'بتعشقه': 78, 'يعيدنا': 66, 'العنيف': 91, 'ماقبل': 29, 'يتوحدون': 57, 'تحسبهم': 11, 'وقلوبهم': 11, 'فيكتسب': 0, 'يتواطا': 0, 'قدرها': 84, 'وجعلها': 117, 'خصها': 0, 'الروقان': 15, 'لتهاجم': 0, 'ويكسروا': 0, 'والرخام': 0, 'عفش': 18, 'ونحس': 21, 'يحدفوه': 0, 'نافس': 0, 'زيه': 127, 'هيصعد': 78, 'تحتمس': 101, 'وحرقوا': 57, 'وطردوا': 57, 'واعتقلوا': 57, 'وشوهوا': 0, 'واهانوا': 0, 'القدرات': 97, 'المنوع': 0, 'لقرارت': 0, 'انتقادا': 28, 'مبرءا': 0, 'الخصومات': 92, 'والجن': 94, 'اجتمع': 96, 'وجرائم': 106, 'شياط': 78, 'يركب': 119, 'بيبقي': 7, 'البؤساء': 11, 'المنتصرين': 0, 'التزم': 124, 'دلوقت': 112, 'المعفن': 86, 'بوء': 127, 'بتبوس': 14, 'بتهاجم': 14, 'نابعا': 0, 'فشلوا': 111, 'احتقار': 126, 'وضمير': 0, 'يقظ': 0, 'ولفريق': 57, 'مافات': 54, 'الوساخات': 0, 'هتبتدي': 78, 'بيردها': 0, 'بالثوره': 38, 'عبرنا': 21, 'تسخر': 69, 'الشمطاء': 16, 'ميرفت': 16, 'ايديكم': 79, 'سكوته': 107, 'تكمن': 55, 'صراخا': 28, 'دهس': 10, 'صنعها': 80, 'لتحكم': 94, 'وزرع': 106, 'يطبقها': 80, 'لاحتلالها': 57, 'واحتواها': 0, 'بنجومها': 0, 'مؤشرها': 0, 'هبوط': 71, 'شده': 27, 'بتقابلها': 0, 'لبنت': 16, 'نفسيه': 29, 'زول': 65, 'بعشها': 78, 'جنونك': 54, 'ضحگتك': 0, 'وخلق': 117, 'خصومه': 107, 'بيهزق': 0, 'بيتفرجوا': 98, 'صاروا': 111, 'فحشا': 0, 'يالعالم': 0, 'فصلت': 8, 'حاذق': 0, 'فعاش': 0, 'وبفتخر': 0, 'ابعدك': 104, 'مباديء': 126, 'ترين': 96, 'ميلانستا': 0, 'ﻷ': 127, 'شكلهم': 98, 'خروجاتهم': 0, 'لبسهم': 11, 'بيعرفوا': 98, 'انجلش': 97, 'وسكان': 30, 'مادفعتش': 0, 'والمساعدات': 37, 'بالامارات': 22, 'الموازنه': 17, 'الحيله': 54, 'والشتائم': 106, 'تناثر': 27, 'بتفاؤل': 84, 'يراك': 103, 'ينصرك': 58, 'يعتني': 124, 'يسمعك': 75, 'ونيس': 128, 'الكلب': 6, 'يتجول': 80, 'ومصادرها': 0, 'وقواعدها': 0, 'مذاهب': 126, 'والجماع': 0, 'لحكيك': 0, 'مطمئ': 0, 'يحميها': 58, 'احترامك': 115, 'ويعتقل': 30, 'بوشكاش': 0, 'جهدهم': 11, 'المسبوق': 57, 'وعمق': 27, 'فنزويلا': 22, 'كوادره': 57, 'هيكله': 71, 'لسويرس': 0, 'والحديد': 114, 'والعسكر': 30, 'والجبناء': 11, 'والجهلاء': 11, 'دورهم': 11, 'معركتهم': 37, 'الاستقلال': 46, 'ليعرف': 80, 'المرشحون': 120, 'بقدوم': 38, 'تهنئكم': 57, 'صغر': 27, 'النافذه': 81, 'عديتهم': 0, 'بتدعيلك': 78, 'الكبيره': 29, 'سؤالهم': 20, 'المعيدين': 78, 'وبيشتغلوا': 78, 'فنون': 4, 'مزاجهم': 11, 'عقلنا': 21, 'بالنار': 107, 'المندهش': 0, 'استراح': 75, 'الاخ': 34, 'فاتح': 119, 'تجيش': 78, 'انتماءه': 129, 'وحقن': 106, 'وليكن': 117, 'واعلامه': 6, 'بهيكل': 0, 'وشجاع': 3, 'خدعوه': 0, 'يخدعه': 0, 'الاسكوديتو': 64, 'تعني': 55, 'بالبرلمان': 39, 'يتناسب': 61, 'نذكركم': 66, 'ونتابع': 21, 'ملكش': 112, 'بلبس': 18, 'بالراجل': 78, 'ديق': 42, 'بتلبس': 14, 'بتحرش': 0, 'الصهاينه': 40, 'الايادي': 37, 'جاءتني': 96, 'النموذج': 51, 'وثابروا': 0, 'واهتفوا': 0, 'اصبروا': 79, 'يدفعوا': 111, 'واحشدوا': 0, 'لمندوب': 57, 'وتسليمها': 57, 'بالفرز': 0, 'يدق': 119, 'ليشارك': 44, 'تكنوقراط': 57, 'ترشيحات': 57, 'الكفاء': 0, 'لاختيارها': 0, 'تشريفنا': 0, 'فاتيما': 0, 'راسلنا': 26, 'يحزني': 61, 'تنتكس': 0, 'الغاب': 5, 'الحجري': 91, 'يقابل': 32, 'يقتاتون': 11, 'المتسولين': 11, 'قمعي': 3, 'نكسه': 126, 'انجازتها': 0, 'المسمي': 129, 'وكسه': 127, 'هوجه': 78, 'متوكلين': 117, 'وعافيتك': 117, 'حامدين': 117, 'ومعظم': 2, 'الورقي': 91, 'بوعوده': 57, 'ويحقن': 57, 'ويلتزم': 129, 'هيفرض': 0, 'شافوه': 111, 'الناخبات': 0, 'يصوت': 119, 'فوات': 20, 'تفك': 12, 'بشكله': 129, 'وصفها': 33, 'توجت': 47, 'فرونت': 59, 'كلوب': 64, 'اخص': 127, 'المت': 42, 'لجهوده': 37, 'اذونات': 57, 'المشروعات': 92, 'بتبيعها': 0, 'ولسه': 112, 'باطلا': 28, 'والاعلان': 104, 'ايامك': 83, 'الدموع': 83, 'تعسف': 126, 'معتصماه': 0, 'وتوقيته': 0, 'معاد': 65, 'بسهر': 9, 'لغاه': 78, 'تستعرض': 47, 'الاقتصادي': 91, 'لصادرات': 0, 'ثورات': 89, 'وفشلت': 57, 'خسرناها': 78, 'ملقتش': 45, 'عظمتك': 63, 'ينهزم': 80, 'يتحل': 78, 'تعلمته': 70, 'خول': 127, 'نزفه': 128, 'العشوائي': 100, 'يتمسك': 124, 'يقلع': 58, 'ملط': 127, 'المشد': 101, 'لعضو': 39, 'متعودتش': 78, 'ﻟﻴﻮﻡ': 0, 'مظاهر': 4, 'ﻛﻞ': 82, 'الاصلح': 129, 'دوركم': 79, 'ترون': 61, 'عمليا': 129, 'الائتماني': 17, 'لغطاء': 0, 'تواجه': 47, 'صدمتي': 33, 'اتصدمت': 45, 'تفاجيء': 57, 'الانتماء': 15, 'صدعونا': 78, 'وتراخيص': 0, 'وحوارات': 57, 'هندي': 18, 'بخبر': 38, 'يتشهرو': 0, 'بينتقد': 7, 'ومساعديه': 57, 'تشبهك': 72, 'وارادته': 129, 'حريته': 107, 'مكفيه': 7, 'سود': 31, 'بيضاء': 29, 'يكتشفوا': 11, 'ظنهم': 11, 'تجاهم': 0, 'النرويج': 22, 'استنتاج': 126, 'يمكنه': 125, 'بشحنات': 0, 'تزويد': 71, 'ويشرق': 117, 'الغيوم': 81, 'اعتصامهم': 93, 'وبالدستور': 0, 'بقائدهم': 0, 'قانونين': 57, 'ومضل': 0, 'ومحرض': 57, 'بخيرت': 0, 'ويظلوا': 0, 'يضحوا': 11, 'حجمهم': 11, 'بمصرنا': 0, 'ماسوني': 3, 'السوداء': 29, 'روجوا': 57, 'بهائي': 78, 'طقوس': 4, 'ترقي': 72, 'وشعارات': 57, 'همجي': 3, 'وذكائها': 0, 'بمواقفها': 57, 'وقوفها': 110, 'فالكل': 84, 'لادين': 106, 'ينخر': 27, 'محاربته': 20, 'سوس': 59, 'محاصرين': 30, 'جائعين': 0, 'مشردين': 11, 'نازحين': 11, 'ترحلي': 96, 'يؤلف': 80, 'التعاقد': 110, 'والعقاب': 106, 'وخداع': 106, 'وسبل': 113, 'تجاوزها': 20, 'شوكولاته': 18, 'فيروز': 16, 'واليل': 128, 'والقهوه': 18, 'وحليم': 0, 'بترويج': 38, 'الكذابين': 11, 'الجار': 6, 'الاحسان': 121, 'وتعليقه': 57, 'صافحه': 0, 'سائر': 121, 'عطره': 128, 'جميله': 29, 'لعشب': 0, 'لسواريز': 0, 'وحكومتنا': 57, 'اعتصاماتهم': 0, 'طبقوا': 111, 'انجليش': 59, 'ميكس': 59, 'ويذ': 59, 'دونت': 59, 'الكحول': 114, 'التنصير': 48, 'سترفع': 47, 'شؤون': 89, 'استكشافات': 0, 'تفتك': 72, 'الدماغ': 114, 'الافلام': 92, 'ستمثل': 0, 'عيدا': 28, 'الذق': 0, 'لخروجه': 57, 'وقراراته': 129, 'مدعوم': 3, 'الحيو': 0, 'وحسابهم': 0, 'الساحات': 92, 'وبدء': 113, 'صحتها': 37, 'تقولها': 108, 'حسبته': 86}\n"
          ]
        }
      ],
      "source": [
        "NUM_DOCS = data.shape[0]\n",
        "\n",
        "# construct a word to concept mapping\n",
        "word_concept = {}\n",
        "for index, word in enumerate(word_vecs.keys()):\n",
        "    word_concept[word] = concepts[index]\n",
        "print(word_concept)"
      ]
    },
    {
      "cell_type": "code",
      "execution_count": 65,
      "metadata": {},
      "outputs": [
        {
          "name": "stdout",
          "output_type": "stream",
          "text": [
            "defaultdict(<class 'int'>, {0: 2917, 73: 1058, 31: 519, 39: 988, 34: 510, 101: 859, 37: 333, 15: 619, 22: 1679, 57: 1148, 33: 773, 109: 624, 48: 513, 49: 2366, 119: 431, 127: 685, 32: 583, 99: 1170, 35: 391, 76: 656, 47: 435, 65: 1091, 9: 151, 42: 571, 106: 382, 108: 374, 12: 225, 53: 334, 86: 470, 58: 371, 123: 671, 7: 328, 62: 1305, 128: 855, 96: 299, 3: 827, 120: 593, 71: 1029, 77: 607, 92: 471, 60: 369, 66: 365, 46: 1454, 19: 86, 91: 947, 28: 439, 93: 887, 114: 328, 97: 219, 59: 412, 55: 399, 25: 477, 27: 346, 126: 694, 129: 641, 118: 8, 121: 197, 4: 545, 95: 310, 38: 386, 51: 920, 17: 414, 20: 463, 89: 606, 110: 385, 113: 433, 124: 226, 30: 693, 100: 333, 78: 855, 14: 217, 112: 1283, 6: 678, 2: 732, 18: 300, 45: 222, 116: 422, 69: 169, 84: 270, 125: 363, 104: 247, 115: 405, 11: 481, 41: 209, 75: 458, 26: 431, 83: 334, 74: 249, 72: 371, 52: 561, 54: 399, 94: 333, 122: 253, 80: 416, 67: 361, 40: 613, 85: 275, 29: 174, 90: 249, 10: 427, 70: 182, 79: 230, 44: 211, 24: 161, 61: 316, 21: 289, 81: 423, 117: 248, 63: 282, 98: 455, 8: 346, 64: 194, 13: 218, 23: 458, 68: 143, 107: 301, 56: 107, 5: 294, 111: 308, 36: 113, 50: 67, 43: 201, 1: 199, 87: 121, 16: 383, 103: 146, 102: 8, 82: 34, 88: 1, 105: 3})\n"
          ]
        }
      ],
      "source": [
        "# construct a concept to document count mapping\n",
        "concept_docs = defaultdict(int)\n",
        "for doc in data[\"tweet\"]:\n",
        "    doc_concepts = set()\n",
        "    for word in doc.split(\" \"):\n",
        "        try:\n",
        "            doc_concepts.add(word_concept[word])\n",
        "        except Exception:\n",
        "            pass\n",
        "    for concept in doc_concepts:\n",
        "        concept_docs[concept] += 1\n",
        "print(concept_docs)"
      ]
    },
    {
      "cell_type": "code",
      "execution_count": 66,
      "metadata": {},
      "outputs": [],
      "source": [
        "def cf_idf(document: str):\n",
        "    \"\"\" Returns the CD-IDF representataion of a document \"\"\"\n",
        "    res = [0 for _ in range(NUM_CONCEPTS)]\n",
        "    concepts_counts = defaultdict(int)\n",
        "    for word in document.split(\" \"):\n",
        "        try:\n",
        "            concepts_counts[word_concept[word]] += 1\n",
        "        except:\n",
        "            pass\n",
        "    n_k = sum(concepts_counts.values()) # number of concepts present in the document (duplicates are considered!)\n",
        "    for concept in range(NUM_CONCEPTS):\n",
        "        if concepts_counts[concept] != 0:\n",
        "            res[concept] = (concepts_counts[concept] / n_k) * log(NUM_DOCS / (1 + concept_docs[concept]))\n",
        "    return res"
      ]
    },
    {
      "cell_type": "code",
      "execution_count": 67,
      "metadata": {},
      "outputs": [],
      "source": [
        "X = [cf_idf(tweet) for tweet in data[\"tweet\"]]\n",
        "y = data[\"class\"]\n",
        "\n",
        "X_train, X_test, y_train, y_test = train_test_split(X, y, test_size = .2, random_state = SEED, stratify = y)"
      ]
    },
    {
      "attachments": {},
      "cell_type": "markdown",
      "metadata": {},
      "source": [
        "### Performance evaluation\n",
        "#### Naive bayes"
      ]
    },
    {
      "cell_type": "code",
      "execution_count": 69,
      "metadata": {},
      "outputs": [
        {
          "name": "stdout",
          "output_type": "stream",
          "text": [
            "Accuracy: 22.41%\n",
            "Precesion : 22.41%\n",
            "Recall : 22.41%\n",
            "F1 score : 22.41%\n"
          ]
        }
      ],
      "source": [
        "model = GaussianNB()\n",
        "\n",
        "model.fit(X_train, y_train)\n",
        "y_pred = model.predict(X_test)\n",
        "\n",
        "accuracy = accuracy_score(y_test, y_pred)\n",
        "precision, recall, f1_score, _ = precision_recall_fscore_support(y_test, y_pred, average='micro')\n",
        "\n",
        "print(f\"Accuracy: {accuracy * 100:.2f}%\")\n",
        "print(f\"Precesion : {precision * 100:.2f}%\")\n",
        "print(f\"Recall : {recall * 100:.2f}%\")\n",
        "print(f\"F1 score : {f1_score * 100:.2f}%\")"
      ]
    },
    {
      "attachments": {},
      "cell_type": "markdown",
      "metadata": {},
      "source": [
        "#### Logistic regression"
      ]
    },
    {
      "cell_type": "code",
      "execution_count": 71,
      "metadata": {},
      "outputs": [
        {
          "name": "stdout",
          "output_type": "stream",
          "text": [
            "Accuracy: 65.62%\n",
            "Precesion : 65.62%\n",
            "Recall : 65.62%\n",
            "F1 score : 65.62%\n"
          ]
        }
      ],
      "source": [
        "model = LogisticRegression(random_state = SEED)\n",
        "model.fit(X_train, y_train)\n",
        "y_pred = model.predict(X_test)\n",
        "\n",
        "accuracy = accuracy_score(y_test, y_pred)\n",
        "precision, recall, f1_score, _ = precision_recall_fscore_support(y_test, y_pred, average='micro')\n",
        "\n",
        "print(f\"Accuracy: {accuracy * 100:.2f}%\")\n",
        "print(f\"Precesion : {precision * 100:.2f}%\")\n",
        "print(f\"Recall : {recall * 100:.2f}%\")\n",
        "print(f\"F1 score : {f1_score * 100:.2f}%\")"
      ]
    },
    {
      "attachments": {},
      "cell_type": "markdown",
      "metadata": {},
      "source": [
        "#### SVM"
      ]
    },
    {
      "cell_type": "code",
      "execution_count": 73,
      "metadata": {},
      "outputs": [
        {
          "name": "stdout",
          "output_type": "stream",
          "text": [
            "Accuracy: 67.06%\n",
            "Precesion : 67.06%\n",
            "Recall : 67.06%\n",
            "F1 score : 67.06%\n"
          ]
        }
      ],
      "source": [
        "model = SVC(random_state = SEED)\n",
        "model.fit(X_train, y_train)\n",
        "y_pred = model.predict(X_test)\n",
        "\n",
        "accuracy = accuracy_score(y_test, y_pred)\n",
        "precision, recall, f1_score, _ = precision_recall_fscore_support(y_test, y_pred, average='micro')\n",
        "\n",
        "print(f\"Accuracy: {accuracy * 100:.2f}%\")\n",
        "print(f\"Precesion : {precision * 100:.2f}%\")\n",
        "print(f\"Recall : {recall * 100:.2f}%\")\n",
        "print(f\"F1 score : {f1_score * 100:.2f}%\")"
      ]
    },
    {
      "attachments": {},
      "cell_type": "markdown",
      "metadata": {},
      "source": [
        "#### Random Forest"
      ]
    },
    {
      "cell_type": "code",
      "execution_count": 75,
      "metadata": {},
      "outputs": [
        {
          "name": "stdout",
          "output_type": "stream",
          "text": [
            "Accuracy: 67.42%\n",
            "Precesion : 67.42%\n",
            "Recall : 67.42%\n",
            "F1 score : 67.42%\n"
          ]
        }
      ],
      "source": [
        "rf = RandomForestClassifier(random_state = SEED)\n",
        "rf.fit(X_train, y_train)\n",
        "y_pred = rf.predict(X_test)\n",
        "\n",
        "accuracy = accuracy_score(y_test, y_pred)\n",
        "precision, recall, f1_score, _ = precision_recall_fscore_support(y_test, y_pred, average='micro')\n",
        "\n",
        "print(f\"Accuracy: {accuracy * 100:.2f}%\")\n",
        "print(f\"Precesion : {precision * 100:.2f}%\")\n",
        "print(f\"Recall : {recall * 100:.2f}%\")\n",
        "print(f\"F1 score : {f1_score * 100:.2f}%\")"
      ]
    }
  ],
  "metadata": {
    "colab": {
      "include_colab_link": true,
      "provenance": []
    },
    "kernelspec": {
      "display_name": "Python 3",
      "language": "python",
      "name": "python3"
    },
    "language_info": {
      "codemirror_mode": {
        "name": "ipython",
        "version": 3
      },
      "file_extension": ".py",
      "mimetype": "text/x-python",
      "name": "python",
      "nbconvert_exporter": "python",
      "pygments_lexer": "ipython3",
      "version": "3.11.2"
    },
    "orig_nbformat": 4
  },
  "nbformat": 4,
  "nbformat_minor": 0
}
