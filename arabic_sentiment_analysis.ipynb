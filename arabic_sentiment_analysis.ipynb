{
  "cells": [
    {
      "attachments": {},
      "cell_type": "markdown",
      "metadata": {
        "id": "sZdT2cflrPOA"
      },
      "source": [
        "# setting up the environement"
      ]
    },
    {
      "cell_type": "code",
      "execution_count": 3,
      "metadata": {
        "colab": {
          "base_uri": "https://localhost:8080/"
        },
        "id": "EvaKlRLBrPOQ",
        "outputId": "1d16779d-8f24-4dcf-cc2a-82ab1253044f"
      },
      "outputs": [],
      "source": [
        "# !pip install pyarabic\n",
        "# !pip install Arabic-Stopwords"
      ]
    },
    {
      "attachments": {},
      "cell_type": "markdown",
      "metadata": {
        "id": "u_b2krXhrPOU"
      },
      "source": [
        "# Loading libraries"
      ]
    },
    {
      "cell_type": "code",
      "execution_count": 54,
      "metadata": {
        "id": "rQ55DuGDrPOX"
      },
      "outputs": [
        {
          "name": "stderr",
          "output_type": "stream",
          "text": [
            "[nltk_data] Downloading package punkt to\n",
            "[nltk_data]     C:\\Users\\asus\\AppData\\Roaming\\nltk_data...\n",
            "[nltk_data]   Package punkt is already up-to-date!\n",
            "[nltk_data] Downloading package stopwords to\n",
            "[nltk_data]     C:\\Users\\asus\\AppData\\Roaming\\nltk_data...\n",
            "[nltk_data]   Package stopwords is already up-to-date!\n"
          ]
        }
      ],
      "source": [
        "import pandas as pd\n",
        "import numpy as np\n",
        "import matplotlib.pyplot as plt\n",
        "import seaborn as sns\n",
        "import pyarabic.araby as araby\n",
        "import arabicstopwords.arabicstopwords as stp\n",
        "import re\n",
        "import nltk\n",
        "import pickle\n",
        "import os\n",
        "import gensim\n",
        "\n",
        "from nltk.corpus import stopwords\n",
        "from nltk.stem.isri import ISRIStemmer\n",
        "from nltk.tokenize import word_tokenize\n",
        "from collections import defaultdict\n",
        "from math import log\n",
        "\n",
        "from sklearn.model_selection import train_test_split\n",
        "from sklearn.cluster import KMeans\n",
        "from sklearn.decomposition import TruncatedSVD, LatentDirichletAllocation, PCA\n",
        "from sklearn.linear_model import LogisticRegression\n",
        "from sklearn.feature_extraction.text import TfidfVectorizer, CountVectorizer\n",
        "from sklearn.ensemble import RandomForestClassifier\n",
        "from sklearn.svm import SVC\n",
        "from sklearn.preprocessing import StandardScaler\n",
        "from sklearn.naive_bayes import GaussianNB\n",
        "from sklearn.metrics import accuracy_score, precision_recall_fscore_support\n",
        "from sklearn.pipeline import Pipeline\n",
        "\n",
        "nltk.download('punkt')\n",
        "nltk.download('stopwords')\n",
        "\n",
        "SEED = 21"
      ]
    },
    {
      "attachments": {},
      "cell_type": "markdown",
      "metadata": {
        "id": "a7Zf1RHRrPOZ"
      },
      "source": [
        "# Loading dataset"
      ]
    },
    {
      "cell_type": "code",
      "execution_count": 5,
      "metadata": {
        "colab": {
          "base_uri": "https://localhost:8080/",
          "height": 676
        },
        "id": "XNWbbbiArPOf",
        "outputId": "20e30dd2-2a58-4c4b-81ad-ac398ff77205"
      },
      "outputs": [
        {
          "data": {
            "text/html": [
              "<div>\n",
              "<style scoped>\n",
              "    .dataframe tbody tr th:only-of-type {\n",
              "        vertical-align: middle;\n",
              "    }\n",
              "\n",
              "    .dataframe tbody tr th {\n",
              "        vertical-align: top;\n",
              "    }\n",
              "\n",
              "    .dataframe thead th {\n",
              "        text-align: right;\n",
              "    }\n",
              "</style>\n",
              "<table border=\"1\" class=\"dataframe\">\n",
              "  <thead>\n",
              "    <tr style=\"text-align: right;\">\n",
              "      <th></th>\n",
              "      <th>rating</th>\n",
              "      <th>review</th>\n",
              "      <th>class</th>\n",
              "    </tr>\n",
              "  </thead>\n",
              "  <tbody>\n",
              "    <tr>\n",
              "      <th>0</th>\n",
              "      <td>4</td>\n",
              "      <td>عزازيل صنع ذكر زيد بـ رخس استخدامه لحل فنة خدع...</td>\n",
              "      <td>pos</td>\n",
              "    </tr>\n",
              "    <tr>\n",
              "      <th>1</th>\n",
              "      <td>4</td>\n",
              "      <td>متع قرأ روي شك الش دند عزازيل هود ديب</td>\n",
              "      <td>pos</td>\n",
              "    </tr>\n",
              "    <tr>\n",
              "      <th>2</th>\n",
              "      <td>4</td>\n",
              "      <td>روي ارخ جوا خار ؤلف ارخ ندر نول روئ كتب بدق إت...</td>\n",
              "      <td>pos</td>\n",
              "    </tr>\n",
              "    <tr>\n",
              "      <th>3</th>\n",
              "      <td>1</td>\n",
              "      <td>قدر روي لسب درس قيم عبر ات فوت اون عهد درس حية...</td>\n",
              "      <td>neg</td>\n",
              "    </tr>\n",
              "    <tr>\n",
              "      <th>4</th>\n",
              "      <td>5</td>\n",
              "      <td>طلق اسم هيب تيم هيب فر قرت سيح بلد قتل تزج قتل...</td>\n",
              "      <td>pos</td>\n",
              "    </tr>\n",
              "    <tr>\n",
              "      <th>5</th>\n",
              "      <td>5</td>\n",
              "      <td>عزازيل اسم روي زيد صدر ؤخر دار جذب اسم بدي قرء...</td>\n",
              "      <td>pos</td>\n",
              "    </tr>\n",
              "    <tr>\n",
              "      <th>6</th>\n",
              "      <td>3</td>\n",
              "      <td>وعب بدي روي وصل نصف قرب قرأ وقع صدم طرق كتب رو...</td>\n",
              "      <td>pos</td>\n",
              "    </tr>\n",
              "    <tr>\n",
              "      <th>7</th>\n",
              "      <td>4</td>\n",
              "      <td>ادب روي</td>\n",
              "      <td>pos</td>\n",
              "    </tr>\n",
              "    <tr>\n",
              "      <th>8</th>\n",
              "      <td>4</td>\n",
              "      <td>قطف روي عزازيل كتب زيد خار شيئ سمء تخل شيء تصل...</td>\n",
              "      <td>pos</td>\n",
              "    </tr>\n",
              "    <tr>\n",
              "      <th>9</th>\n",
              "      <td>5</td>\n",
              "      <td>بدي بدي شوق لغي وقع كنز ادب أعد فور نهئ لعط تق...</td>\n",
              "      <td>pos</td>\n",
              "    </tr>\n",
              "    <tr>\n",
              "      <th>10</th>\n",
              "      <td>4</td>\n",
              "      <td>دعة كرم صدقاء قرأ روي عزازيل صدر دار ألف دكتور...</td>\n",
              "      <td>pos</td>\n",
              "    </tr>\n",
              "    <tr>\n",
              "      <th>11</th>\n",
              "      <td>5</td>\n",
              "      <td>جاربى نجح زيد وقع يدى ريه عزازيل طيع عرف جمل ق...</td>\n",
              "      <td>pos</td>\n",
              "    </tr>\n",
              "    <tr>\n",
              "      <th>12</th>\n",
              "      <td>5</td>\n",
              "      <td>روي خطف عقلى خطف تنى عقل جدد روي نبط عقلى فكر ...</td>\n",
              "      <td>pos</td>\n",
              "    </tr>\n",
              "    <tr>\n",
              "      <th>13</th>\n",
              "      <td>5</td>\n",
              "      <td>عزازيل روي حصل جئز لرا عرب كأفضل روي عرب روي د...</td>\n",
              "      <td>pos</td>\n",
              "    </tr>\n",
              "    <tr>\n",
              "      <th>14</th>\n",
              "      <td>5</td>\n",
              "      <td>روي ثير جدل قراءتى ترد قدر طرق وضع كنسى كنه سي...</td>\n",
              "      <td>pos</td>\n",
              "    </tr>\n",
              "    <tr>\n",
              "      <th>15</th>\n",
              "      <td>5</td>\n",
              "      <td>ادر روي كنز رقق دفن اون ظهر يكن تطع كتب روي عا...</td>\n",
              "      <td>pos</td>\n",
              "    </tr>\n",
              "    <tr>\n",
              "      <th>16</th>\n",
              "      <td>5</td>\n",
              "      <td>رحل تعة تخض روي زيد ظهر برع عهد خطف قرئ إدخال ...</td>\n",
              "      <td>pos</td>\n",
              "    </tr>\n",
              "    <tr>\n",
              "      <th>17</th>\n",
              "      <td>5</td>\n",
              "      <td>ارع قرأ سلب زيد رئع روي حستنى خطر حست قرأ حاج ...</td>\n",
              "      <td>pos</td>\n",
              "    </tr>\n",
              "    <tr>\n",
              "      <th>18</th>\n",
              "      <td>5</td>\n",
              "      <td>قرأ شيء عقد احس احا قرأ جيل رغب قوه قوه صفح صد...</td>\n",
              "      <td>pos</td>\n",
              "    </tr>\n",
              "    <tr>\n",
              "      <th>19</th>\n",
              "      <td>3</td>\n",
              "      <td>رؤت كتب حبي روي أفقد قرء دمج قرء كتب ونت كتب ب...</td>\n",
              "      <td>pos</td>\n",
              "    </tr>\n",
              "  </tbody>\n",
              "</table>\n",
              "</div>"
            ],
            "text/plain": [
              "    rating                                             review class\n",
              "0        4  عزازيل صنع ذكر زيد بـ رخس استخدامه لحل فنة خدع...   pos\n",
              "1        4              متع قرأ روي شك الش دند عزازيل هود ديب   pos\n",
              "2        4  روي ارخ جوا خار ؤلف ارخ ندر نول روئ كتب بدق إت...   pos\n",
              "3        1  قدر روي لسب درس قيم عبر ات فوت اون عهد درس حية...   neg\n",
              "4        5  طلق اسم هيب تيم هيب فر قرت سيح بلد قتل تزج قتل...   pos\n",
              "5        5  عزازيل اسم روي زيد صدر ؤخر دار جذب اسم بدي قرء...   pos\n",
              "6        3  وعب بدي روي وصل نصف قرب قرأ وقع صدم طرق كتب رو...   pos\n",
              "7        4                                            ادب روي   pos\n",
              "8        4  قطف روي عزازيل كتب زيد خار شيئ سمء تخل شيء تصل...   pos\n",
              "9        5  بدي بدي شوق لغي وقع كنز ادب أعد فور نهئ لعط تق...   pos\n",
              "10       4  دعة كرم صدقاء قرأ روي عزازيل صدر دار ألف دكتور...   pos\n",
              "11       5  جاربى نجح زيد وقع يدى ريه عزازيل طيع عرف جمل ق...   pos\n",
              "12       5  روي خطف عقلى خطف تنى عقل جدد روي نبط عقلى فكر ...   pos\n",
              "13       5  عزازيل روي حصل جئز لرا عرب كأفضل روي عرب روي د...   pos\n",
              "14       5  روي ثير جدل قراءتى ترد قدر طرق وضع كنسى كنه سي...   pos\n",
              "15       5  ادر روي كنز رقق دفن اون ظهر يكن تطع كتب روي عا...   pos\n",
              "16       5  رحل تعة تخض روي زيد ظهر برع عهد خطف قرئ إدخال ...   pos\n",
              "17       5  ارع قرأ سلب زيد رئع روي حستنى خطر حست قرأ حاج ...   pos\n",
              "18       5  قرأ شيء عقد احس احا قرأ جيل رغب قوه قوه صفح صد...   pos\n",
              "19       3  رؤت كتب حبي روي أفقد قرء دمج قرء كتب ونت كتب ب...   pos"
            ]
          },
          "execution_count": 5,
          "metadata": {},
          "output_type": "execute_result"
        }
      ],
      "source": [
        "if os.path.exists(\"preprocessed_data.csv\"):\n",
        "    data = pd.read_csv(\"preprocessed_data.csv\", header = 0, names = [\"rating\",\"review\", \"class\"])\n",
        "else:\n",
        "    data = pd.read_csv(\"./datasets/LABR/reviews.tsv\", sep = '\\t', header=None, names = [\"rating\",\"review_id\",\"user_id\",\"book_id\",\"review\"])\n",
        "data.head(20)"
      ]
    },
    {
      "cell_type": "code",
      "execution_count": 6,
      "metadata": {
        "id": "dVupB2gArPOj"
      },
      "outputs": [
        {
          "name": "stdout",
          "output_type": "stream",
          "text": [
            "<class 'pandas.core.frame.DataFrame'>\n",
            "Index: 60090 entries, 0 to 63256\n",
            "Data columns (total 3 columns):\n",
            " #   Column  Non-Null Count  Dtype \n",
            "---  ------  --------------  ----- \n",
            " 0   rating  60090 non-null  int64 \n",
            " 1   review  59930 non-null  object\n",
            " 2   class   60090 non-null  object\n",
            "dtypes: int64(1), object(2)\n",
            "memory usage: 1.8+ MB\n"
          ]
        }
      ],
      "source": [
        "data.info()"
      ]
    },
    {
      "attachments": {},
      "cell_type": "markdown",
      "metadata": {},
      "source": [
        "## Reviews distribution"
      ]
    },
    {
      "cell_type": "code",
      "execution_count": 7,
      "metadata": {
        "id": "siBeT87brPOq"
      },
      "outputs": [
        {
          "name": "stdout",
          "output_type": "stream",
          "text": [
            "Axes(0.125,0.11;0.775x0.77)\n"
          ]
        },
        {
          "data": {
            "image/png": "[encoded data removed]",
            "text/plain": [
              "<Figure size 640x480 with 1 Axes>"
            ]
          },
          "metadata": {},
          "output_type": "display_data"
        }
      ],
      "source": [
        "print(data['rating'].value_counts(normalize=True).plot(kind='bar'))"
      ]
    },
    {
      "attachments": {},
      "cell_type": "markdown",
      "metadata": {
        "id": "pvhMgMU1rPOr"
      },
      "source": [
        "# Data preprocessing"
      ]
    },
    {
      "attachments": {},
      "cell_type": "markdown",
      "metadata": {},
      "source": [
        "## Rmoving unnecessary columns"
      ]
    },
    {
      "cell_type": "code",
      "execution_count": 8,
      "metadata": {
        "id": "Wba17VE3rPOt"
      },
      "outputs": [],
      "source": [
        "if not os.path.exists(\"preprocessed_data.csv\"):\n",
        "    data = data.drop(['review_id','user_id','book_id'], axis=1)\n",
        "    data.head()"
      ]
    },
    {
      "attachments": {},
      "cell_type": "markdown",
      "metadata": {},
      "source": [
        "## Removing duplicate entries"
      ]
    },
    {
      "cell_type": "code",
      "execution_count": 9,
      "metadata": {
        "id": "XFArNkierPOu"
      },
      "outputs": [],
      "source": [
        "if not os.path.exists(\"preprocessed_data.csv\"):\n",
        "    count = data.duplicated().sum()\n",
        "    print(f\"{(count / data.shape[0]) * 100:.1f}% of the data are duplicats\")"
      ]
    },
    {
      "cell_type": "code",
      "execution_count": 10,
      "metadata": {},
      "outputs": [],
      "source": [
        "if not os.path.exists(\"preprocessed_data.csv\"):\n",
        "    data = data.drop_duplicates(subset='review', keep='first')"
      ]
    },
    {
      "attachments": {},
      "cell_type": "markdown",
      "metadata": {},
      "source": [
        "## Remove punctuations & special chars"
      ]
    },
    {
      "cell_type": "code",
      "execution_count": 11,
      "metadata": {},
      "outputs": [],
      "source": [
        "if not os.path.exists(\"preprocessed_data.csv\"):\n",
        "    pattern = r'[^\\w\\s\\u0600-\\u06FF]+|_|ﷺ|۩|⓵|؟|؛|۞|ﷻ|،'\n",
        "    data[\"review\"] = data[\"review\"].apply(lambda document: re.sub(pattern, ' ', document))"
      ]
    },
    {
      "attachments": {},
      "cell_type": "markdown",
      "metadata": {},
      "source": [
        "## Remove consecutive characters"
      ]
    },
    {
      "cell_type": "code",
      "execution_count": 12,
      "metadata": {},
      "outputs": [],
      "source": [
        "if not os.path.exists(\"preprocessed_data.csv\"):\n",
        "    pattern = r'(.)\\1+'\n",
        "    data[\"review\"] = data[\"review\"].apply(lambda document: re.sub(pattern, r'\\1', document))"
      ]
    },
    {
      "attachments": {},
      "cell_type": "markdown",
      "metadata": {},
      "source": [
        "## Remove numbers"
      ]
    },
    {
      "cell_type": "code",
      "execution_count": 13,
      "metadata": {},
      "outputs": [],
      "source": [
        "if not os.path.exists(\"preprocessed_data.csv\"):\n",
        "    pattern = r'\\d+'\n",
        "    data[\"review\"] = data[\"review\"].apply(lambda document: re.sub(pattern, ' ', document))"
      ]
    },
    {
      "attachments": {},
      "cell_type": "markdown",
      "metadata": {},
      "source": [
        "## Remove extra whitespaces\n",
        "In this step we get rid of extra whitespaces as well as new lines"
      ]
    },
    {
      "cell_type": "code",
      "execution_count": 14,
      "metadata": {
        "id": "D03xD750rPOv"
      },
      "outputs": [],
      "source": [
        "if not os.path.exists(\"preprocessed_data.csv\"):\n",
        "    pattern = r'\\s+|\\n+'\n",
        "    data[\"review\"] = data[\"review\"].apply(lambda document: re.sub(pattern, ' ', document))"
      ]
    },
    {
      "attachments": {},
      "cell_type": "markdown",
      "metadata": {},
      "source": [
        "## Removing arabic diactrics"
      ]
    },
    {
      "cell_type": "code",
      "execution_count": 15,
      "metadata": {},
      "outputs": [],
      "source": [
        "if not os.path.exists(\"preprocessed_data.csv\"):\n",
        "    data[\"review\"] = data[\"review\"].apply(lambda document: araby.strip_tashkeel(document))"
      ]
    },
    {
      "attachments": {},
      "cell_type": "markdown",
      "metadata": {},
      "source": [
        "## Tokenization"
      ]
    },
    {
      "cell_type": "code",
      "execution_count": 16,
      "metadata": {},
      "outputs": [],
      "source": [
        "if not os.path.exists(\"preprocessed_data.csv\"):\n",
        "    data[\"review\"] = data[\"review\"].apply(lambda document: word_tokenize(document))\n",
        "    data.head()"
      ]
    },
    {
      "attachments": {},
      "cell_type": "markdown",
      "metadata": {},
      "source": [
        "## Removing long and short words"
      ]
    },
    {
      "cell_type": "code",
      "execution_count": 17,
      "metadata": {},
      "outputs": [],
      "source": [
        "if not os.path.exists(\"preprocessed_data.csv\"):\n",
        "    data[\"review\"] = data[\"review\"].apply(lambda document: [word for word in document if len(word) < 9 or len(word) > 1])"
      ]
    },
    {
      "attachments": {},
      "cell_type": "markdown",
      "metadata": {},
      "source": [
        "## Stemming"
      ]
    },
    {
      "cell_type": "code",
      "execution_count": 18,
      "metadata": {},
      "outputs": [],
      "source": [
        "if not os.path.exists(\"preprocessed_data.csv\"):\n",
        "    stemmer = ISRIStemmer()\n",
        "    data.replace('', pd.NA, inplace=True)  # Replace empty strings with NA\n",
        "    data.dropna(inplace=True)  # Drop rows with NA values\n",
        "    data[\"review\"] = data[\"review\"].apply(lambda document: [stemmer.stem(word) for word in document])"
      ]
    },
    {
      "attachments": {},
      "cell_type": "markdown",
      "metadata": {},
      "source": [
        "## Removing stopwords"
      ]
    },
    {
      "cell_type": "code",
      "execution_count": 19,
      "metadata": {
        "id": "3gISIaCFrPO3"
      },
      "outputs": [],
      "source": [
        "if not os.path.exists(\"preprocessed_data.csv\"):\n",
        "    arabic_stopwords = stopwords.words('arabic')\n",
        "    arabic_stopwords.extend(stp.stopwords_list())\n",
        "    with open(\"arabic_stopwords.txt\", \"r\", encoding=\"UTF-8\") as file:\n",
        "        for word in file:\n",
        "            arabic_stopwords.append(word.strip())\n",
        "    arabic_stopwords = [stemmer.stem(stopword) for stopword in arabic_stopwords]\n",
        "    arabic_stopwords = set(arabic_stopwords)\n",
        "\n",
        "    data[\"review\"] = data[\"review\"].apply(lambda document: ' '.join([word for word in document if word not in arabic_stopwords]))"
      ]
    },
    {
      "cell_type": "code",
      "execution_count": 20,
      "metadata": {
        "colab": {
          "base_uri": "https://localhost:8080/",
          "height": 676
        },
        "id": "palQGlltrPPC",
        "outputId": "4695ec3f-96a1-46a3-880c-bef7fd93356e"
      },
      "outputs": [
        {
          "data": {
            "text/html": [
              "<div>\n",
              "<style scoped>\n",
              "    .dataframe tbody tr th:only-of-type {\n",
              "        vertical-align: middle;\n",
              "    }\n",
              "\n",
              "    .dataframe tbody tr th {\n",
              "        vertical-align: top;\n",
              "    }\n",
              "\n",
              "    .dataframe thead th {\n",
              "        text-align: right;\n",
              "    }\n",
              "</style>\n",
              "<table border=\"1\" class=\"dataframe\">\n",
              "  <thead>\n",
              "    <tr style=\"text-align: right;\">\n",
              "      <th></th>\n",
              "      <th>rating</th>\n",
              "      <th>review</th>\n",
              "      <th>class</th>\n",
              "    </tr>\n",
              "  </thead>\n",
              "  <tbody>\n",
              "    <tr>\n",
              "      <th>0</th>\n",
              "      <td>4</td>\n",
              "      <td>عزازيل صنع ذكر زيد بـ رخس استخدامه لحل فنة خدع...</td>\n",
              "      <td>pos</td>\n",
              "    </tr>\n",
              "    <tr>\n",
              "      <th>1</th>\n",
              "      <td>4</td>\n",
              "      <td>متع قرأ روي شك الش دند عزازيل هود ديب</td>\n",
              "      <td>pos</td>\n",
              "    </tr>\n",
              "    <tr>\n",
              "      <th>2</th>\n",
              "      <td>4</td>\n",
              "      <td>روي ارخ جوا خار ؤلف ارخ ندر نول روئ كتب بدق إت...</td>\n",
              "      <td>pos</td>\n",
              "    </tr>\n",
              "    <tr>\n",
              "      <th>3</th>\n",
              "      <td>1</td>\n",
              "      <td>قدر روي لسب درس قيم عبر ات فوت اون عهد درس حية...</td>\n",
              "      <td>neg</td>\n",
              "    </tr>\n",
              "    <tr>\n",
              "      <th>4</th>\n",
              "      <td>5</td>\n",
              "      <td>طلق اسم هيب تيم هيب فر قرت سيح بلد قتل تزج قتل...</td>\n",
              "      <td>pos</td>\n",
              "    </tr>\n",
              "    <tr>\n",
              "      <th>5</th>\n",
              "      <td>5</td>\n",
              "      <td>عزازيل اسم روي زيد صدر ؤخر دار جذب اسم بدي قرء...</td>\n",
              "      <td>pos</td>\n",
              "    </tr>\n",
              "    <tr>\n",
              "      <th>6</th>\n",
              "      <td>3</td>\n",
              "      <td>وعب بدي روي وصل نصف قرب قرأ وقع صدم طرق كتب رو...</td>\n",
              "      <td>pos</td>\n",
              "    </tr>\n",
              "    <tr>\n",
              "      <th>7</th>\n",
              "      <td>4</td>\n",
              "      <td>ادب روي</td>\n",
              "      <td>pos</td>\n",
              "    </tr>\n",
              "    <tr>\n",
              "      <th>8</th>\n",
              "      <td>4</td>\n",
              "      <td>قطف روي عزازيل كتب زيد خار شيئ سمء تخل شيء تصل...</td>\n",
              "      <td>pos</td>\n",
              "    </tr>\n",
              "    <tr>\n",
              "      <th>9</th>\n",
              "      <td>5</td>\n",
              "      <td>بدي بدي شوق لغي وقع كنز ادب أعد فور نهئ لعط تق...</td>\n",
              "      <td>pos</td>\n",
              "    </tr>\n",
              "    <tr>\n",
              "      <th>10</th>\n",
              "      <td>4</td>\n",
              "      <td>دعة كرم صدقاء قرأ روي عزازيل صدر دار ألف دكتور...</td>\n",
              "      <td>pos</td>\n",
              "    </tr>\n",
              "    <tr>\n",
              "      <th>11</th>\n",
              "      <td>5</td>\n",
              "      <td>جاربى نجح زيد وقع يدى ريه عزازيل طيع عرف جمل ق...</td>\n",
              "      <td>pos</td>\n",
              "    </tr>\n",
              "    <tr>\n",
              "      <th>12</th>\n",
              "      <td>5</td>\n",
              "      <td>روي خطف عقلى خطف تنى عقل جدد روي نبط عقلى فكر ...</td>\n",
              "      <td>pos</td>\n",
              "    </tr>\n",
              "    <tr>\n",
              "      <th>13</th>\n",
              "      <td>5</td>\n",
              "      <td>عزازيل روي حصل جئز لرا عرب كأفضل روي عرب روي د...</td>\n",
              "      <td>pos</td>\n",
              "    </tr>\n",
              "    <tr>\n",
              "      <th>14</th>\n",
              "      <td>5</td>\n",
              "      <td>روي ثير جدل قراءتى ترد قدر طرق وضع كنسى كنه سي...</td>\n",
              "      <td>pos</td>\n",
              "    </tr>\n",
              "    <tr>\n",
              "      <th>15</th>\n",
              "      <td>5</td>\n",
              "      <td>ادر روي كنز رقق دفن اون ظهر يكن تطع كتب روي عا...</td>\n",
              "      <td>pos</td>\n",
              "    </tr>\n",
              "    <tr>\n",
              "      <th>16</th>\n",
              "      <td>5</td>\n",
              "      <td>رحل تعة تخض روي زيد ظهر برع عهد خطف قرئ إدخال ...</td>\n",
              "      <td>pos</td>\n",
              "    </tr>\n",
              "    <tr>\n",
              "      <th>17</th>\n",
              "      <td>5</td>\n",
              "      <td>ارع قرأ سلب زيد رئع روي حستنى خطر حست قرأ حاج ...</td>\n",
              "      <td>pos</td>\n",
              "    </tr>\n",
              "    <tr>\n",
              "      <th>18</th>\n",
              "      <td>5</td>\n",
              "      <td>قرأ شيء عقد احس احا قرأ جيل رغب قوه قوه صفح صد...</td>\n",
              "      <td>pos</td>\n",
              "    </tr>\n",
              "    <tr>\n",
              "      <th>19</th>\n",
              "      <td>3</td>\n",
              "      <td>رؤت كتب حبي روي أفقد قرء دمج قرء كتب ونت كتب ب...</td>\n",
              "      <td>pos</td>\n",
              "    </tr>\n",
              "  </tbody>\n",
              "</table>\n",
              "</div>"
            ],
            "text/plain": [
              "    rating                                             review class\n",
              "0        4  عزازيل صنع ذكر زيد بـ رخس استخدامه لحل فنة خدع...   pos\n",
              "1        4              متع قرأ روي شك الش دند عزازيل هود ديب   pos\n",
              "2        4  روي ارخ جوا خار ؤلف ارخ ندر نول روئ كتب بدق إت...   pos\n",
              "3        1  قدر روي لسب درس قيم عبر ات فوت اون عهد درس حية...   neg\n",
              "4        5  طلق اسم هيب تيم هيب فر قرت سيح بلد قتل تزج قتل...   pos\n",
              "5        5  عزازيل اسم روي زيد صدر ؤخر دار جذب اسم بدي قرء...   pos\n",
              "6        3  وعب بدي روي وصل نصف قرب قرأ وقع صدم طرق كتب رو...   pos\n",
              "7        4                                            ادب روي   pos\n",
              "8        4  قطف روي عزازيل كتب زيد خار شيئ سمء تخل شيء تصل...   pos\n",
              "9        5  بدي بدي شوق لغي وقع كنز ادب أعد فور نهئ لعط تق...   pos\n",
              "10       4  دعة كرم صدقاء قرأ روي عزازيل صدر دار ألف دكتور...   pos\n",
              "11       5  جاربى نجح زيد وقع يدى ريه عزازيل طيع عرف جمل ق...   pos\n",
              "12       5  روي خطف عقلى خطف تنى عقل جدد روي نبط عقلى فكر ...   pos\n",
              "13       5  عزازيل روي حصل جئز لرا عرب كأفضل روي عرب روي د...   pos\n",
              "14       5  روي ثير جدل قراءتى ترد قدر طرق وضع كنسى كنه سي...   pos\n",
              "15       5  ادر روي كنز رقق دفن اون ظهر يكن تطع كتب روي عا...   pos\n",
              "16       5  رحل تعة تخض روي زيد ظهر برع عهد خطف قرئ إدخال ...   pos\n",
              "17       5  ارع قرأ سلب زيد رئع روي حستنى خطر حست قرأ حاج ...   pos\n",
              "18       5  قرأ شيء عقد احس احا قرأ جيل رغب قوه قوه صفح صد...   pos\n",
              "19       3  رؤت كتب حبي روي أفقد قرء دمج قرء كتب ونت كتب ب...   pos"
            ]
          },
          "execution_count": 20,
          "metadata": {},
          "output_type": "execute_result"
        }
      ],
      "source": [
        "data.head(20)"
      ]
    },
    {
      "attachments": {},
      "cell_type": "markdown",
      "metadata": {},
      "source": [
        "## Add sentiment column"
      ]
    },
    {
      "cell_type": "code",
      "execution_count": 21,
      "metadata": {},
      "outputs": [],
      "source": [
        "if not os.path.exists(\"preprocessed_data.csv\"):\n",
        "    sentiment = {\n",
        "        1: \"neg\",\n",
        "        2: \"neg\",\n",
        "        3: \"pos\",\n",
        "        4: \"pos\",\n",
        "        5: \"pos\",\n",
        "    }\n",
        "\n",
        "    data[\"class\"] = data[\"rating\"].map(lambda rating: sentiment[rating])\n",
        "    data.head()"
      ]
    },
    {
      "attachments": {},
      "cell_type": "markdown",
      "metadata": {},
      "source": [
        "## Saving the preprocessed data"
      ]
    },
    {
      "cell_type": "code",
      "execution_count": 22,
      "metadata": {},
      "outputs": [],
      "source": [
        "if not os.path.exists(\"preprocessed_data.csv\"):\n",
        "    data.to_csv(\"preprocessed_data.csv\")"
      ]
    },
    {
      "attachments": {},
      "cell_type": "markdown",
      "metadata": {
        "id": "RiSTgcXDrPPE"
      },
      "source": [
        "# Text representation\n"
      ]
    },
    {
      "attachments": {},
      "cell_type": "markdown",
      "metadata": {},
      "source": [
        "## BoW (Bag-of-Words)"
      ]
    },
    {
      "cell_type": "code",
      "execution_count": 44,
      "metadata": {},
      "outputs": [
        {
          "data": {
            "text/plain": [
              "(34558,)"
            ]
          },
          "execution_count": 44,
          "metadata": {},
          "output_type": "execute_result"
        }
      ],
      "source": [
        "X_train, X_test, y_train, y_test = train_test_split(data[\"review\"], data[\"class\"], test_size = 0.2, random_state = SEED, stratify = data[\"class\"])\n",
        "\n",
        "vectorizer = CountVectorizer()\n",
        "\n",
        "X_train = vectorizer.fit_transform(X_train.values.astype(\"U\")).toarray().astype(np.float32)\n",
        "\n",
        "X_test = vectorizer.transform(X_test.values.astype(\"U\")).toarray().astype(np.float32)\n",
        "\n",
        "X_train[0].shape"
      ]
    },
    {
      "attachments": {},
      "cell_type": "markdown",
      "metadata": {
        "id": "4punm8QWrPPu"
      },
      "source": [
        "### Performance evaluation\n",
        "#### Naive bayes"
      ]
    },
    {
      "cell_type": "code",
      "execution_count": 45,
      "metadata": {
        "colab": {
          "base_uri": "https://localhost:8080/"
        },
        "id": "Ookjl4jMrPPw",
        "outputId": "8a142736-ac6e-4056-9203-e3382b16668c"
      },
      "outputs": [
        {
          "name": "stdout",
          "output_type": "stream",
          "text": [
            "Accuracy: 38.07%\n",
            "Precesion : 88.90%\n",
            "Recall : 32.82%\n",
            "F1 score : 47.94%\n"
          ]
        }
      ],
      "source": [
        "if os.path.exists(\"./models/BoW/NB.pkl\"):\n",
        "    # read model from disk\n",
        "    model = open(\"./models/BoW/NB.pkl\", 'rb').read()\n",
        "    model: GaussianNB = pickle.loads(model)\n",
        "else:\n",
        "    model = GaussianNB()\n",
        "    model.fit(X_train, y_train)\n",
        "    # write model to disk\n",
        "    mdl_bytes = pickle.dumps(model)\n",
        "    open(\"./models/BoW/NB.pkl\", 'wb').write(mdl_bytes)\n",
        "\n",
        "y_pred = model.predict(X_test)\n",
        "accuracy = accuracy_score(y_test, y_pred)\n",
        "precision, recall, f1_score, _ = precision_recall_fscore_support(y_test, y_pred, average='binary', pos_label=\"pos\")\n",
        "\n",
        "print(f\"Accuracy: {accuracy * 100:.2f}%\")\n",
        "print(f\"Precesion : {precision * 100:.2f}%\")\n",
        "print(f\"Recall : {recall * 100:.2f}%\")\n",
        "print(f\"F1 score : {f1_score * 100:.2f}%\")"
      ]
    },
    {
      "attachments": {},
      "cell_type": "markdown",
      "metadata": {},
      "source": [
        "#### Logistic regression"
      ]
    },
    {
      "cell_type": "code",
      "execution_count": 46,
      "metadata": {
        "id": "hbw-7IvCrPPx"
      },
      "outputs": [
        {
          "name": "stdout",
          "output_type": "stream",
          "text": [
            "Accuracy: 87.64%\n",
            "Precesion : 89.92%\n",
            "Recall : 96.60%\n",
            "F1 score : 93.14%\n"
          ]
        }
      ],
      "source": [
        "if os.path.exists(\"./models/BoW/LR.pkl\"):\n",
        "    # read model from disk\n",
        "    model = open(\"./models/BoW/LR.pkl\", 'rb').read()\n",
        "    model: LogisticRegression = pickle.loads(model)\n",
        "else:\n",
        "    model = LogisticRegression(random_state = SEED, max_iter = 200)\n",
        "    model.fit(X_train, y_train)\n",
        "    # write model to disk\n",
        "    mdl_bytes = pickle.dumps(model)\n",
        "    open(\"./models/BoW/LR.pkl\", 'wb').write(mdl_bytes)\n",
        "\n",
        "y_pred = model.predict(X_test)\n",
        "accuracy = accuracy_score(y_test, y_pred)\n",
        "precision, recall, f1_score, _ = precision_recall_fscore_support(y_test, y_pred, average='binary', pos_label=\"pos\")\n",
        "\n",
        "print(f\"Accuracy: {accuracy * 100:.2f}%\")\n",
        "print(f\"Precesion : {precision * 100:.2f}%\")\n",
        "print(f\"Recall : {recall * 100:.2f}%\")\n",
        "print(f\"F1 score : {f1_score * 100:.2f}%\")"
      ]
    },
    {
      "attachments": {},
      "cell_type": "markdown",
      "metadata": {},
      "source": [
        "#### SVM"
      ]
    },
    {
      "cell_type": "code",
      "execution_count": 50,
      "metadata": {
        "id": "KjNeKQxqrPPz"
      },
      "outputs": [
        {
          "name": "stdout",
          "output_type": "stream",
          "text": [
            "Accuracy: 86.88%\n",
            "Precesion : 86.88%\n",
            "Recall : 86.88%\n",
            "F1 score : 86.88%\n"
          ]
        }
      ],
      "source": [
        "if os.path.exists(\"./models/BoW/SVM_Pipeline.pkl\"):\n",
        "    # read pipeline from disk\n",
        "    pipeline = open(\"./models/BoW/SVM_Pipeline.pkl\", 'rb').read()\n",
        "    pipeline = pickle.loads(pipeline)\n",
        "else:\n",
        "    steps = [\n",
        "        ('pca', PCA(n_components = 80)),\n",
        "        ('svm', SVC(random_state = SEED))\n",
        "    ]\n",
        "    pipeline = Pipeline(steps = steps)\n",
        "    pipeline.fit(X_train, y_train)\n",
        "    # write pipeline to disk\n",
        "    pipeline_bytes = pickle.dumps(pipeline)\n",
        "    open(\"./models/BoW/SVM_Pipeline.pkl\", 'wb').write(pipeline_bytes)\n",
        "\n",
        "y_pred = pipeline.predict(X_test)\n",
        "\n",
        "accuracy = accuracy_score(y_test, y_pred)\n",
        "precision, recall, f1_score, _ = precision_recall_fscore_support(y_test, y_pred, average='micro')\n",
        "\n",
        "print(f\"Accuracy: {accuracy * 100:.2f}%\")\n",
        "print(f\"Precesion : {precision * 100:.2f}%\")\n",
        "print(f\"Recall : {recall * 100:.2f}%\")\n",
        "print(f\"F1 score : {f1_score * 100:.2f}%\")"
      ]
    },
    {
      "attachments": {},
      "cell_type": "markdown",
      "metadata": {},
      "source": [
        "#### Random forest"
      ]
    },
    {
      "cell_type": "code",
      "execution_count": 51,
      "metadata": {
        "id": "u5G-NdfGrPP0"
      },
      "outputs": [
        {
          "name": "stdout",
          "output_type": "stream",
          "text": [
            "Accuracy: 87.59%\n",
            "Precesion : 87.59%\n",
            "Recall : 87.59%\n",
            "F1 score : 87.59%\n"
          ]
        }
      ],
      "source": [
        "if os.path.exists(\"./models/BoW/RF.pkl\"):\n",
        "    # read model from disk\n",
        "    model = open(\"./models/BoW/RF.pkl\", 'rb').read()\n",
        "    model = pickle.loads(model)\n",
        "else:\n",
        "    model = RandomForestClassifier(random_state = SEED)\n",
        "    model.fit(X_train, y_train)\n",
        "    # write model to disk\n",
        "    mdl_bytes = pickle.dumps(model)\n",
        "    open(\"./models/BoW/RF.pkl\", 'wb').write(mdl_bytes)\n",
        "\n",
        "y_pred = model.predict(X_test)\n",
        "accuracy = accuracy_score(y_test, y_pred)\n",
        "precision, recall, f1_score, _ = precision_recall_fscore_support(y_test, y_pred, average='micro')\n",
        "\n",
        "print(f\"Accuracy: {accuracy * 100:.2f}%\")\n",
        "print(f\"Precesion : {precision * 100:.2f}%\")\n",
        "print(f\"Recall : {recall * 100:.2f}%\")\n",
        "print(f\"F1 score : {f1_score * 100:.2f}%\")"
      ]
    },
    {
      "attachments": {},
      "cell_type": "markdown",
      "metadata": {
        "id": "4SQgS7fcrPP1"
      },
      "source": [
        "## TF-IDF"
      ]
    },
    {
      "cell_type": "code",
      "execution_count": 53,
      "metadata": {
        "id": "x9LC5YK6rPP2"
      },
      "outputs": [
        {
          "data": {
            "text/plain": [
              "(34558,)"
            ]
          },
          "execution_count": 53,
          "metadata": {},
          "output_type": "execute_result"
        }
      ],
      "source": [
        "X_train, X_test, y_train, y_test = train_test_split(data[\"review\"], data[\"class\"], test_size = 0.2, random_state = SEED, stratify= data[\"class\"])\n",
        "\n",
        "vectorizer = TfidfVectorizer()\n",
        "\n",
        "X_train = vectorizer.fit_transform(X_train).astype(np.float32).toarray()\n",
        "X_test = vectorizer.transform(X_test).astype(np.float32).toarray()\n",
        "\n",
        "X_train[0].shape"
      ]
    },
    {
      "attachments": {},
      "cell_type": "markdown",
      "metadata": {},
      "source": [
        "### Performance evaluation\n",
        "#### Naive bayes"
      ]
    },
    {
      "cell_type": "code",
      "execution_count": 55,
      "metadata": {
        "id": "KgYAxB3urPP4"
      },
      "outputs": [
        {
          "name": "stdout",
          "output_type": "stream",
          "text": [
            "Accuracy: 38.78%\n",
            "Precesion : 88.94%\n",
            "Recall : 33.73%\n",
            "F1 score : 48.91%\n"
          ]
        }
      ],
      "source": [
        "if os.path.exists(\"./models/TFIDF/NB.pkl\"):\n",
        "    # read model from disk\n",
        "    model = open(\"./models/TFIDF/NB.pkl\", 'rb').read()\n",
        "    model: GaussianNB = pickle.loads(model)\n",
        "else:\n",
        "    model = GaussianNB()\n",
        "    model.fit(X_train, y_train)\n",
        "    # write model to disk\n",
        "    mdl_bytes = pickle.dumps(model)\n",
        "    open(\"./models/TFIDF/NB.pkl\", 'wb').write(mdl_bytes)\n",
        "\n",
        "y_pred = model.predict(X_test)\n",
        "accuracy = accuracy_score(y_test, y_pred)\n",
        "precision, recall, f1_score, _ = precision_recall_fscore_support(y_test, y_pred, average='binary', pos_label=\"pos\")\n",
        "\n",
        "print(f\"Accuracy: {accuracy * 100:.2f}%\")\n",
        "print(f\"Precesion : {precision * 100:.2f}%\")\n",
        "print(f\"Recall : {recall * 100:.2f}%\")\n",
        "print(f\"F1 score : {f1_score * 100:.2f}%\")"
      ]
    },
    {
      "attachments": {},
      "cell_type": "markdown",
      "metadata": {},
      "source": [
        "#### Logistic regression"
      ]
    },
    {
      "cell_type": "code",
      "execution_count": 56,
      "metadata": {
        "id": "bKyhjNs8rPP7"
      },
      "outputs": [
        {
          "name": "stdout",
          "output_type": "stream",
          "text": [
            "Accuracy: 88.59%\n",
            "Precesion : 89.12%\n",
            "Recall : 98.95%\n",
            "F1 score : 93.78%\n"
          ]
        }
      ],
      "source": [
        "if os.path.exists(\"./models/TFIDF/LR.pkl\"):\n",
        "    # read model from disk\n",
        "    model = open(\"./models/TFIDF/LR.pkl\", 'rb').read()\n",
        "    model: LogisticRegression = pickle.loads(model)\n",
        "else:\n",
        "    model = LogisticRegression(random_state = SEED, max_iter = 200)\n",
        "    model.fit(X_train, y_train)\n",
        "    # write model to disk\n",
        "    mdl_bytes = pickle.dumps(model)\n",
        "    open(\"./models/TFIDF/LR.pkl\", 'wb').write(mdl_bytes)\n",
        "\n",
        "y_pred = model.predict(X_test)\n",
        "accuracy = accuracy_score(y_test, y_pred)\n",
        "precision, recall, f1_score, _ = precision_recall_fscore_support(y_test, y_pred, average='binary', pos_label=\"pos\")\n",
        "\n",
        "print(f\"Accuracy: {accuracy * 100:.2f}%\")\n",
        "print(f\"Precesion : {precision * 100:.2f}%\")\n",
        "print(f\"Recall : {recall * 100:.2f}%\")\n",
        "print(f\"F1 score : {f1_score * 100:.2f}%\")"
      ]
    },
    {
      "attachments": {},
      "cell_type": "markdown",
      "metadata": {},
      "source": [
        "### SVM"
      ]
    },
    {
      "cell_type": "code",
      "execution_count": 57,
      "metadata": {},
      "outputs": [
        {
          "name": "stdout",
          "output_type": "stream",
          "text": [
            "Accuracy: 86.99%\n",
            "Precesion : 86.99%\n",
            "Recall : 86.99%\n",
            "F1 score : 86.99%\n"
          ]
        }
      ],
      "source": [
        "if os.path.exists(\"./models/TFIDF/SVM_Pipeline.pkl\"):\n",
        "    # read pipeline from disk\n",
        "    pipeline = open(\"./models/TFIDF/SVM_Pipeline.pkl\", 'rb').read()\n",
        "    pipeline = pickle.loads(pipeline)\n",
        "else:\n",
        "    steps = [\n",
        "        ('pca', PCA(n_components = 80)),\n",
        "        ('svm', SVC(random_state = SEED))\n",
        "    ]\n",
        "    pipeline = Pipeline(steps = steps)\n",
        "    pipeline.fit(X_train, y_train)\n",
        "    # write pipeline to disk\n",
        "    pipeline_bytes = pickle.dumps(pipeline)\n",
        "    open(\"./models/TFIDF/SVM_Pipeline.pkl\", 'wb').write(pipeline_bytes)\n",
        "\n",
        "y_pred = pipeline.predict(X_test)\n",
        "\n",
        "accuracy = accuracy_score(y_test, y_pred)\n",
        "precision, recall, f1_score, _ = precision_recall_fscore_support(y_test, y_pred, average='micro')\n",
        "\n",
        "print(f\"Accuracy: {accuracy * 100:.2f}%\")\n",
        "print(f\"Precesion : {precision * 100:.2f}%\")\n",
        "print(f\"Recall : {recall * 100:.2f}%\")\n",
        "print(f\"F1 score : {f1_score * 100:.2f}%\")"
      ]
    },
    {
      "attachments": {},
      "cell_type": "markdown",
      "metadata": {},
      "source": [
        "### Random forest"
      ]
    },
    {
      "cell_type": "code",
      "execution_count": 58,
      "metadata": {},
      "outputs": [
        {
          "name": "stdout",
          "output_type": "stream",
          "text": [
            "Accuracy: 87.59%\n",
            "Precesion : 87.59%\n",
            "Recall : 87.59%\n",
            "F1 score : 87.59%\n"
          ]
        }
      ],
      "source": [
        "if os.path.exists(\"./models/TFIDF/RF.pkl\"):\n",
        "    # read model from disk\n",
        "    model = open(\"./models/TFIDF/RF.pkl\", 'rb').read()\n",
        "    model = pickle.loads(model)\n",
        "else:\n",
        "    model = RandomForestClassifier(random_state = SEED)\n",
        "    model.fit(X_train, y_train)\n",
        "    # write model to disk\n",
        "    mdl_bytes = pickle.dumps(model)\n",
        "    open(\"./models/TFIDF/RF.pkl\", 'wb').write(mdl_bytes)\n",
        "\n",
        "y_pred = model.predict(X_test)\n",
        "accuracy = accuracy_score(y_test, y_pred)\n",
        "precision, recall, f1_score, _ = precision_recall_fscore_support(y_test, y_pred, average='micro')\n",
        "\n",
        "print(f\"Accuracy: {accuracy * 100:.2f}%\")\n",
        "print(f\"Precesion : {precision * 100:.2f}%\")\n",
        "print(f\"Recall : {recall * 100:.2f}%\")\n",
        "print(f\"F1 score : {f1_score * 100:.2f}%\")"
      ]
    },
    {
      "attachments": {},
      "cell_type": "markdown",
      "metadata": {},
      "source": [
        "## LDA"
      ]
    },
    {
      "cell_type": "code",
      "execution_count": 26,
      "metadata": {},
      "outputs": [],
      "source": [
        "X_train, X_test, y_train, y_test = train_test_split(data[\"review\"], data[\"class\"], test_size = 0.2, random_state = SEED, stratify = data[\"class\"])\n",
        "\n",
        "vectorizer = CountVectorizer()\n",
        "\n",
        "X_train = vectorizer.fit_transform(X_train.astype(\"U\")).astype(np.float32).toarray()\n",
        "X_test = vectorizer.transform(X_test.astype(\"U\")).astype(np.float32).toarray()\n",
        "\n",
        "lda = LatentDirichletAllocation(n_components = 170, random_state = SEED)\n",
        "lda.fit(X_train)\n",
        "X_train = lda.transform(X_train)\n",
        "X_test = lda.transform(X_test)"
      ]
    },
    {
      "attachments": {},
      "cell_type": "markdown",
      "metadata": {},
      "source": [
        "### Performance evaluation"
      ]
    },
    {
      "attachments": {},
      "cell_type": "markdown",
      "metadata": {},
      "source": [
        "#### Naive bayes\n"
      ]
    },
    {
      "cell_type": "code",
      "execution_count": 27,
      "metadata": {},
      "outputs": [
        {
          "name": "stdout",
          "output_type": "stream",
          "text": [
            "Accuracy: 51.53%\n",
            "Precesion : 91.78%\n",
            "Recall : 48.56%\n",
            "F1 score : 63.52%\n"
          ]
        }
      ],
      "source": [
        "if os.path.exists(\"./models/LDA/NB.pkl\"):\n",
        "    # read model from disk\n",
        "    model = open(\"./models/LDA/NB.pkl\", 'rb').read()\n",
        "    model: GaussianNB = pickle.loads(model)\n",
        "else:\n",
        "    model = GaussianNB()\n",
        "    model.fit(X_train, y_train)\n",
        "    # write model to disk\n",
        "    mdl_bytes = pickle.dumps(model)\n",
        "    open(\"./models/LDA/NB.pkl\", 'wb').write(mdl_bytes)\n",
        "\n",
        "y_pred = model.predict(X_test)\n",
        "accuracy = accuracy_score(y_test, y_pred)\n",
        "precision, recall, f1_score, _ = precision_recall_fscore_support(y_test, y_pred, average='binary', pos_label=\"pos\")\n",
        "\n",
        "print(f\"Accuracy: {accuracy * 100:.2f}%\")\n",
        "print(f\"Precesion : {precision * 100:.2f}%\")\n",
        "print(f\"Recall : {recall * 100:.2f}%\")\n",
        "print(f\"F1 score : {f1_score * 100:.2f}%\")"
      ]
    },
    {
      "attachments": {},
      "cell_type": "markdown",
      "metadata": {},
      "source": [
        "#### Logistic regression"
      ]
    },
    {
      "cell_type": "code",
      "execution_count": 28,
      "metadata": {},
      "outputs": [
        {
          "name": "stdout",
          "output_type": "stream",
          "text": [
            "Accuracy: 86.89%\n",
            "Precesion : 86.89%\n",
            "Recall : 100.00%\n",
            "F1 score : 92.98%\n"
          ]
        }
      ],
      "source": [
        "if os.path.exists(\"./models/LDA/LR.pkl\"):\n",
        "    # read model from disk\n",
        "    model = open(\"./models/LDA/LR.pkl\", 'rb').read()\n",
        "    model: LogisticRegression = pickle.loads(model)\n",
        "else:\n",
        "    model = LogisticRegression(random_state = SEED, max_iter = 200)\n",
        "    model.fit(X_train, y_train)\n",
        "    # write model to disk\n",
        "    mdl_bytes = pickle.dumps(model)\n",
        "    open(\"./models/LDA/LR.pkl\", 'wb').write(mdl_bytes)\n",
        "\n",
        "y_pred = model.predict(X_test)\n",
        "accuracy = accuracy_score(y_test, y_pred)\n",
        "precision, recall, f1_score, _ = precision_recall_fscore_support(y_test, y_pred, average='binary', pos_label=\"pos\")\n",
        "\n",
        "print(f\"Accuracy: {accuracy * 100:.2f}%\")\n",
        "print(f\"Precesion : {precision * 100:.2f}%\")\n",
        "print(f\"Recall : {recall * 100:.2f}%\")\n",
        "print(f\"F1 score : {f1_score * 100:.2f}%\")"
      ]
    },
    {
      "cell_type": "markdown",
      "metadata": {},
      "source": [
        "#### SVM"
      ]
    },
    {
      "cell_type": "code",
      "execution_count": 29,
      "metadata": {},
      "outputs": [
        {
          "name": "stdout",
          "output_type": "stream",
          "text": [
            "Accuracy: 86.88%\n",
            "Precesion : 86.88%\n",
            "Recall : 86.88%\n",
            "F1 score : 86.88%\n"
          ]
        }
      ],
      "source": [
        "if os.path.exists(\"./models/LDA/SVM.pkl\"):\n",
        "    # read pipeline from disk\n",
        "    model = open(\"./models/LDA/SVM.pkl\", 'rb').read()\n",
        "    model = pickle.loads(model)\n",
        "else:\n",
        "    model = SVC(random_state = SEED)\n",
        "    model.fit(X_train, y_train)\n",
        "    # write pipeline to disk\n",
        "    model_bytes = pickle.dumps(model)\n",
        "    open(\"./models/LDA/SVM.pkl\", 'wb').write(model_bytes)\n",
        "\n",
        "y_pred = model.predict(X_test)\n",
        "\n",
        "accuracy = accuracy_score(y_test, y_pred)\n",
        "precision, recall, f1_score, _ = precision_recall_fscore_support(y_test, y_pred, average='micro')\n",
        "\n",
        "print(f\"Accuracy: {accuracy * 100:.2f}%\")\n",
        "print(f\"Precesion : {precision * 100:.2f}%\")\n",
        "print(f\"Recall : {recall * 100:.2f}%\")\n",
        "print(f\"F1 score : {f1_score * 100:.2f}%\")"
      ]
    },
    {
      "attachments": {},
      "cell_type": "markdown",
      "metadata": {},
      "source": [
        "#### Random forest"
      ]
    },
    {
      "cell_type": "code",
      "execution_count": 30,
      "metadata": {},
      "outputs": [
        {
          "name": "stdout",
          "output_type": "stream",
          "text": [
            "Accuracy: 86.61%\n",
            "Precesion : 86.61%\n",
            "Recall : 86.61%\n",
            "F1 score : 86.61%\n"
          ]
        }
      ],
      "source": [
        "if os.path.exists(\"./models/LDA/RF.pkl\"):\n",
        "    # read model from disk\n",
        "    model = open(\"./models/LDA/RF.pkl\", 'rb').read()\n",
        "    model = pickle.loads(model)\n",
        "else:\n",
        "    model = RandomForestClassifier(random_state = SEED)\n",
        "    model.fit(X_train, y_train)\n",
        "    # write model to disk\n",
        "    mdl_bytes = pickle.dumps(model)\n",
        "    open(\"./models/LDA/RF.pkl\", 'wb').write(mdl_bytes)\n",
        "\n",
        "y_pred = model.predict(X_test)\n",
        "accuracy = accuracy_score(y_test, y_pred)\n",
        "precision, recall, f1_score, _ = precision_recall_fscore_support(y_test, y_pred, average='micro')\n",
        "\n",
        "print(f\"Accuracy: {accuracy * 100:.2f}%\")\n",
        "print(f\"Precesion : {precision * 100:.2f}%\")\n",
        "print(f\"Recall : {recall * 100:.2f}%\")\n",
        "print(f\"F1 score : {f1_score * 100:.2f}%\")"
      ]
    },
    {
      "attachments": {},
      "cell_type": "markdown",
      "metadata": {},
      "source": [
        "## LSA"
      ]
    },
    {
      "cell_type": "code",
      "execution_count": 35,
      "metadata": {},
      "outputs": [],
      "source": [
        "X_train, X_test, y_train, y_test = train_test_split(data[\"review\"], data[\"class\"], test_size = 0.2, random_state = SEED, stratify = data[\"class\"])\n",
        "\n",
        "vectorizer = CountVectorizer()\n",
        "\n",
        "X_train = vectorizer.fit_transform(X_train.astype(\"U\")).astype(np.float32).toarray()\n",
        "X_test = vectorizer.transform(X_test.astype(\"U\")).astype(np.float32).toarray()\n",
        "\n",
        "lsa = TruncatedSVD(n_components = 200, random_state = SEED)\n",
        "X_train = lsa.fit_transform(X_train)\n",
        "X_test = lsa.transform(X_test)"
      ]
    },
    {
      "attachments": {},
      "cell_type": "markdown",
      "metadata": {},
      "source": [
        "### Performance evaluation"
      ]
    },
    {
      "attachments": {},
      "cell_type": "markdown",
      "metadata": {},
      "source": [
        "#### Naive bayes\n"
      ]
    },
    {
      "cell_type": "code",
      "execution_count": 36,
      "metadata": {},
      "outputs": [
        {
          "name": "stdout",
          "output_type": "stream",
          "text": [
            "Accuracy: 31.80%\n",
            "Precesion : 88.83%\n",
            "Recall : 24.60%\n",
            "F1 score : 38.53%\n"
          ]
        }
      ],
      "source": [
        "if os.path.exists(\"./models/LSA/NB.pkl\"):\n",
        "    # read model from disk\n",
        "    model = open(\"./models/LSA/NB.pkl\", 'rb').read()\n",
        "    model: GaussianNB = pickle.loads(model)\n",
        "else:\n",
        "    model = GaussianNB()\n",
        "    model.fit(X_train, y_train)\n",
        "    # write model to disk\n",
        "    mdl_bytes = pickle.dumps(model)\n",
        "    open(\"./models/LSA/NB.pkl\", 'wb').write(mdl_bytes)\n",
        "\n",
        "y_pred = model.predict(X_test)\n",
        "accuracy = accuracy_score(y_test, y_pred)\n",
        "precision, recall, f1_score, _ = precision_recall_fscore_support(y_test, y_pred, average='binary', pos_label=\"pos\")\n",
        "\n",
        "print(f\"Accuracy: {accuracy * 100:.2f}%\")\n",
        "print(f\"Precesion : {precision * 100:.2f}%\")\n",
        "print(f\"Recall : {recall * 100:.2f}%\")\n",
        "print(f\"F1 score : {f1_score * 100:.2f}%\")"
      ]
    },
    {
      "attachments": {},
      "cell_type": "markdown",
      "metadata": {},
      "source": [
        "#### Logistic regression"
      ]
    },
    {
      "cell_type": "code",
      "execution_count": 37,
      "metadata": {},
      "outputs": [
        {
          "name": "stdout",
          "output_type": "stream",
          "text": [
            "Accuracy: 86.89%\n",
            "Precesion : 87.40%\n",
            "Recall : 99.22%\n",
            "F1 score : 92.94%\n"
          ]
        }
      ],
      "source": [
        "if os.path.exists(\"./models/LSA/LR.pkl\"):\n",
        "    # read model from disk\n",
        "    model = open(\"./models/LSA/LR.pkl\", 'rb').read()\n",
        "    model: LogisticRegression = pickle.loads(model)\n",
        "else:\n",
        "    model = LogisticRegression(random_state = SEED, max_iter = 200)\n",
        "    model.fit(X_train, y_train)\n",
        "    # write model to disk\n",
        "    mdl_bytes = pickle.dumps(model)\n",
        "    open(\"./models/LSA/LR.pkl\", 'wb').write(mdl_bytes)\n",
        "\n",
        "y_pred = model.predict(X_test)\n",
        "accuracy = accuracy_score(y_test, y_pred)\n",
        "precision, recall, f1_score, _ = precision_recall_fscore_support(y_test, y_pred, average='binary', pos_label=\"pos\")\n",
        "\n",
        "print(f\"Accuracy: {accuracy * 100:.2f}%\")\n",
        "print(f\"Precesion : {precision * 100:.2f}%\")\n",
        "print(f\"Recall : {recall * 100:.2f}%\")\n",
        "print(f\"F1 score : {f1_score * 100:.2f}%\")"
      ]
    },
    {
      "attachments": {},
      "cell_type": "markdown",
      "metadata": {},
      "source": [
        "#### SVM"
      ]
    },
    {
      "cell_type": "code",
      "execution_count": 38,
      "metadata": {},
      "outputs": [
        {
          "name": "stdout",
          "output_type": "stream",
          "text": [
            "Accuracy: 86.88%\n",
            "Precesion : 86.88%\n",
            "Recall : 86.88%\n",
            "F1 score : 86.88%\n"
          ]
        }
      ],
      "source": [
        "if os.path.exists(\"./models/LSA/SVM.pkl\"):\n",
        "    # read pipeline from disk\n",
        "    model = open(\"./models/LSA/SVM.pkl\", 'rb').read()\n",
        "    model = pickle.loads(model)\n",
        "else:\n",
        "    model = SVC(random_state = SEED)\n",
        "    model.fit(X_train, y_train)\n",
        "    # write pipeline to disk\n",
        "    model_bytes = pickle.dumps(model)\n",
        "    open(\"./models/LSA/SVM.pkl\", 'wb').write(model_bytes)\n",
        "\n",
        "y_pred = model.predict(X_test)\n",
        "\n",
        "accuracy = accuracy_score(y_test, y_pred)\n",
        "precision, recall, f1_score, _ = precision_recall_fscore_support(y_test, y_pred, average='micro')\n",
        "\n",
        "print(f\"Accuracy: {accuracy * 100:.2f}%\")\n",
        "print(f\"Precesion : {precision * 100:.2f}%\")\n",
        "print(f\"Recall : {recall * 100:.2f}%\")\n",
        "print(f\"F1 score : {f1_score * 100:.2f}%\")"
      ]
    },
    {
      "attachments": {},
      "cell_type": "markdown",
      "metadata": {},
      "source": [
        "#### Random forest"
      ]
    },
    {
      "cell_type": "code",
      "execution_count": 39,
      "metadata": {},
      "outputs": [
        {
          "name": "stdout",
          "output_type": "stream",
          "text": [
            "Accuracy: 87.00%\n",
            "Precesion : 87.00%\n",
            "Recall : 87.00%\n",
            "F1 score : 87.00%\n"
          ]
        }
      ],
      "source": [
        "if os.path.exists(\"./models/LSA/RF.pkl\"):\n",
        "    # read model from disk\n",
        "    model = open(\"./models/LSA/RF.pkl\", 'rb').read()\n",
        "    model = pickle.loads(model)\n",
        "else:\n",
        "    model = RandomForestClassifier(random_state = SEED)\n",
        "    model.fit(X_train, y_train)\n",
        "    # write model to disk\n",
        "    mdl_bytes = pickle.dumps(model)\n",
        "    open(\"./models/LSA/RF.pkl\", 'wb').write(mdl_bytes)\n",
        "\n",
        "y_pred = model.predict(X_test)\n",
        "accuracy = accuracy_score(y_test, y_pred)\n",
        "precision, recall, f1_score, _ = precision_recall_fscore_support(y_test, y_pred, average='micro')\n",
        "\n",
        "print(f\"Accuracy: {accuracy * 100:.2f}%\")\n",
        "print(f\"Precesion : {precision * 100:.2f}%\")\n",
        "print(f\"Recall : {recall * 100:.2f}%\")\n",
        "print(f\"F1 score : {f1_score * 100:.2f}%\")"
      ]
    },
    {
      "attachments": {},
      "cell_type": "markdown",
      "metadata": {},
      "source": [
        "## Bag of Concepts\n",
        "The BOC (Bag-of-Concepts) method has been proposed as a solution to the problem of large dimensions and sparsity that traditional methods such as TF-IDF and Bag of words suffer from.\n",
        "\n"
      ]
    },
    {
      "attachments": {},
      "cell_type": "markdown",
      "metadata": {},
      "source": [
        "### Word Embeddings\n",
        "This is done using the AraVec model which is trained on arabic tweets"
      ]
    },
    {
      "cell_type": "code",
      "execution_count": 46,
      "metadata": {},
      "outputs": [
        {
          "name": "stdout",
          "output_type": "stream",
          "text": [
            "total skipped : 266736 (13.83%)\n"
          ]
        }
      ],
      "source": [
        "model = gensim.models.Word2Vec.load(\"./aravec/full_uni_cbow_100_twitter/full_uni_cbow_100_twitter.mdl\")\n",
        "word_vecs = {}\n",
        "total, skipped = 0, 0\n",
        "for tweet in data[\"review\"]:\n",
        "    for word in str(tweet).split(\" \"):\n",
        "        total += 1\n",
        "        try:\n",
        "            word_vecs[word] = model.wv[word]\n",
        "        except Exception:\n",
        "            skipped += 1\n",
        "print(f\"total skipped : {skipped} ({(skipped / total) * 100 :.2f}%)\")"
      ]
    },
    {
      "attachments": {},
      "cell_type": "markdown",
      "metadata": {},
      "source": [
        "### Clustering the words embeddings\n"
      ]
    },
    {
      "cell_type": "code",
      "execution_count": 47,
      "metadata": {},
      "outputs": [
        {
          "name": "stderr",
          "output_type": "stream",
          "text": [
            "c:\\Python311\\Lib\\site-packages\\sklearn\\cluster\\_kmeans.py:1416: FutureWarning: The default value of `n_init` will change from 10 to 'auto' in 1.4. Set the value of `n_init` explicitly to suppress the warning\n",
            "  super()._check_params_vs_input(X, default_n_init=10)\n"
          ]
        },
        {
          "name": "stdout",
          "output_type": "stream",
          "text": [
            "15686\n"
          ]
        }
      ],
      "source": [
        "NUM_CONCEPTS = 130\n",
        "model = KMeans(n_clusters = NUM_CONCEPTS, random_state = SEED)\n",
        "X = list(word_vecs.values())\n",
        "model.fit(X)\n",
        "concepts = model.predict(X)\n",
        "print(len(X))"
      ]
    },
    {
      "attachments": {
        "image.png": {
          "image/png": "[encoded data removed]"
        }
      },
      "cell_type": "markdown",
      "metadata": {},
      "source": [
        "### Concept Extraction\n",
        "\n",
        "Now that we related words to concepts, we can create a document representataion, in which we express the degree of which a document contains a certain concept, and instead of taking only the freuqncies, we consider an approach similar to TF-IDF called, CF-IDF.\n",
        "\n",
        "CF-IDF is defined using the following formula :\n",
        "\n",
        "![image.png](attachment:image.png)\n",
        "\n",
        "such that :\n",
        "\n",
        "* |D| is the number of documents in the corpus\n",
        "* n_c is the number of occurences of concept c in document d\n",
        "* n_k is the total number of concepts in this document "
      ]
    },
    {
      "cell_type": "code",
      "execution_count": null,
      "metadata": {},
      "outputs": [],
      "source": [
        "NUM_DOCS = data.shape[0]\n",
        "\n",
        "# construct a word to concept mapping\n",
        "word_concept = {}\n",
        "for index, word in enumerate(word_vecs.keys()):\n",
        "    word_concept[word] = concepts[index]\n",
        "print(word_concept)"
      ]
    },
    {
      "cell_type": "code",
      "execution_count": 51,
      "metadata": {},
      "outputs": [
        {
          "name": "stdout",
          "output_type": "stream",
          "text": [
            "defaultdict(<class 'int'>, {1: 18909, 3: 11672, 5: 8306, 7: 16195, 9: 7370, 10: 15658, 11: 14579, 15: 12753, 16: 13917, 17: 15336, 38: 5564, 40: 8688, 48: 10174, 49: 15507, 58: 12804, 71: 9865, 73: 8634, 74: 8468, 76: 27058, 82: 12626, 83: 16143, 85: 16295, 86: 47076, 87: 13739, 93: 7136, 95: 8272, 109: 23309, 110: 8096, 120: 36144, 122: 28068, 126: 11353, 35: 5978, 50: 2140, 57: 7564, 2: 5863, 101: 9239, 0: 4210, 6: 18377, 18: 4141, 21: 2537, 22: 14960, 28: 9552, 32: 8788, 33: 5909, 36: 6982, 37: 1790, 39: 10899, 41: 6695, 46: 7800, 52: 8874, 53: 15186, 54: 12219, 55: 11261, 56: 9791, 60: 16801, 61: 8218, 65: 15872, 66: 9880, 68: 5874, 80: 8609, 84: 9674, 88: 1432, 89: 8116, 94: 5963, 102: 4737, 113: 8564, 116: 7898, 119: 4297, 121: 4078, 124: 8063, 13: 5501, 62: 12981, 63: 4888, 14: 8412, 23: 644, 24: 11227, 29: 1835, 31: 5260, 59: 1751, 69: 1609, 72: 2334, 91: 987, 98: 3313, 100: 5863, 103: 6709, 123: 4464, 27: 3112, 99: 2875, 112: 2153, 34: 1174, 78: 1128, 114: 46, 125: 721, 8: 1567, 25: 1641, 115: 916, 127: 4051, 20: 3275, 104: 9257, 111: 2016, 117: 1328, 129: 413, 43: 662, 81: 1614, 4: 1782, 92: 230, 75: 1446, 51: 482, 19: 13, 64: 233, 30: 95, 45: 334, 79: 38, 26: 45, 105: 17, 70: 1476, 42: 15, 67: 62, 106: 27, 128: 18, 118: 65, 96: 5, 90: 4, 97: 14, 12: 15, 107: 9, 44: 8, 77: 7, 108: 5, 47: 3})\n"
          ]
        }
      ],
      "source": [
        "# construct a concept to document count mapping\n",
        "concept_docs = defaultdict(int)\n",
        "for doc in data[\"review\"]:\n",
        "    doc_concepts = set()\n",
        "    for word in str(doc).split(\" \"):\n",
        "        try:\n",
        "            doc_concepts.add(word_concept[word])\n",
        "        except Exception:\n",
        "            pass\n",
        "    for concept in doc_concepts:\n",
        "        concept_docs[concept] += 1\n",
        "print(concept_docs)"
      ]
    },
    {
      "cell_type": "code",
      "execution_count": 56,
      "metadata": {},
      "outputs": [],
      "source": [
        "def cf_idf(document: str):\n",
        "    \"\"\" Returns the CD-IDF representataion of a document \"\"\"\n",
        "    res = [0 for _ in range(NUM_CONCEPTS)]\n",
        "    concepts_counts = defaultdict(int)\n",
        "    for word in str(document).split(\" \"):\n",
        "        try:\n",
        "            concepts_counts[word_concept[word]] += 1\n",
        "        except:\n",
        "            pass\n",
        "    n_k = sum(concepts_counts.values()) # number of concepts present in the document (duplicates are considered!)\n",
        "    for concept in range(NUM_CONCEPTS):\n",
        "        if concepts_counts[concept] != 0:\n",
        "            res[concept] = (concepts_counts[concept] / n_k) * log(NUM_DOCS / (1 + concept_docs[concept]))\n",
        "    return res"
      ]
    },
    {
      "cell_type": "code",
      "execution_count": 57,
      "metadata": {},
      "outputs": [],
      "source": [
        "X = [cf_idf(tweet) for tweet in data[\"review\"]]\n",
        "y = data[\"class\"]\n",
        "\n",
        "X_train, X_test, y_train, y_test = train_test_split(X, y, test_size = .2, random_state = SEED, stratify = y)"
      ]
    },
    {
      "attachments": {},
      "cell_type": "markdown",
      "metadata": {},
      "source": [
        "### Performance Evaluation"
      ]
    },
    {
      "attachments": {},
      "cell_type": "markdown",
      "metadata": {},
      "source": [
        "#### Naive bayes"
      ]
    },
    {
      "cell_type": "code",
      "execution_count": 59,
      "metadata": {},
      "outputs": [
        {
          "name": "stdout",
          "output_type": "stream",
          "text": [
            "Accuracy: 16.61%\n",
            "Precesion : 91.67%\n",
            "Recall : 4.42%\n",
            "F1 score : 8.44%\n"
          ]
        }
      ],
      "source": [
        "if os.path.exists(\"./models/BOC/NB.pkl\"):\n",
        "    # read model from disk\n",
        "    model = open(\"./models/BOC/NB.pkl\", 'rb').read()\n",
        "    model: GaussianNB = pickle.loads(model)\n",
        "else:\n",
        "    model = GaussianNB()\n",
        "    model.fit(X_train, y_train)\n",
        "    # write model to disk\n",
        "    mdl_bytes = pickle.dumps(model)\n",
        "    open(\"./models/BOC/NB.pkl\", 'wb').write(mdl_bytes)\n",
        "\n",
        "y_pred = model.predict(X_test)\n",
        "accuracy = accuracy_score(y_test, y_pred)\n",
        "precision, recall, f1_score, _ = precision_recall_fscore_support(y_test, y_pred, average='binary', pos_label=\"pos\")\n",
        "\n",
        "print(f\"Accuracy: {accuracy * 100:.2f}%\")\n",
        "print(f\"Precesion : {precision * 100:.2f}%\")\n",
        "print(f\"Recall : {recall * 100:.2f}%\")\n",
        "print(f\"F1 score : {f1_score * 100:.2f}%\")"
      ]
    },
    {
      "attachments": {},
      "cell_type": "markdown",
      "metadata": {},
      "source": [
        "#### Logistic regression"
      ]
    },
    {
      "cell_type": "code",
      "execution_count": 60,
      "metadata": {},
      "outputs": [
        {
          "name": "stdout",
          "output_type": "stream",
          "text": [
            "Accuracy: 86.84%\n",
            "Precesion : 86.98%\n",
            "Recall : 99.80%\n",
            "F1 score : 92.95%\n"
          ]
        }
      ],
      "source": [
        "if os.path.exists(\"./models/BOC/LR.pkl\"):\n",
        "    # read model from disk\n",
        "    model = open(\"./models/BOC/LR.pkl\", 'rb').read()\n",
        "    model: LogisticRegression = pickle.loads(model)\n",
        "else:\n",
        "    model = LogisticRegression(random_state = SEED, max_iter = 200)\n",
        "    model.fit(X_train, y_train)\n",
        "    # write model to disk\n",
        "    mdl_bytes = pickle.dumps(model)\n",
        "    open(\"./models/BOC/LR.pkl\", 'wb').write(mdl_bytes)\n",
        "\n",
        "y_pred = model.predict(X_test)\n",
        "accuracy = accuracy_score(y_test, y_pred)\n",
        "precision, recall, f1_score, _ = precision_recall_fscore_support(y_test, y_pred, average='binary', pos_label=\"pos\")\n",
        "\n",
        "print(f\"Accuracy: {accuracy * 100:.2f}%\")\n",
        "print(f\"Precesion : {precision * 100:.2f}%\")\n",
        "print(f\"Recall : {recall * 100:.2f}%\")\n",
        "print(f\"F1 score : {f1_score * 100:.2f}%\")"
      ]
    },
    {
      "attachments": {},
      "cell_type": "markdown",
      "metadata": {},
      "source": [
        "#### SVM"
      ]
    },
    {
      "cell_type": "code",
      "execution_count": 61,
      "metadata": {},
      "outputs": [
        {
          "name": "stdout",
          "output_type": "stream",
          "text": [
            "Accuracy: 86.84%\n",
            "Precesion : 86.84%\n",
            "Recall : 86.84%\n",
            "F1 score : 86.84%\n"
          ]
        }
      ],
      "source": [
        "if os.path.exists(\"./models/BOC/SVM.pkl\"):\n",
        "    # read pipeline from disk\n",
        "    model = open(\"./models/BOC/SVM.pkl\", 'rb').read()\n",
        "    model = pickle.loads(model)\n",
        "else:\n",
        "    model = SVC(random_state = SEED)\n",
        "    model.fit(X_train, y_train)\n",
        "    # write pipeline to disk\n",
        "    model_bytes = pickle.dumps(model)\n",
        "    open(\"./models/BOC/SVM.pkl\", 'wb').write(model_bytes)\n",
        "\n",
        "y_pred = model.predict(X_test)\n",
        "\n",
        "accuracy = accuracy_score(y_test, y_pred)\n",
        "precision, recall, f1_score, _ = precision_recall_fscore_support(y_test, y_pred, average='micro')\n",
        "\n",
        "print(f\"Accuracy: {accuracy * 100:.2f}%\")\n",
        "print(f\"Precesion : {precision * 100:.2f}%\")\n",
        "print(f\"Recall : {recall * 100:.2f}%\")\n",
        "print(f\"F1 score : {f1_score * 100:.2f}%\")"
      ]
    },
    {
      "attachments": {},
      "cell_type": "markdown",
      "metadata": {},
      "source": [
        "#### Random forest"
      ]
    },
    {
      "cell_type": "code",
      "execution_count": 63,
      "metadata": {},
      "outputs": [
        {
          "name": "stdout",
          "output_type": "stream",
          "text": [
            "Accuracy: 86.69%\n",
            "Precesion : 86.69%\n",
            "Recall : 86.69%\n",
            "F1 score : 86.69%\n"
          ]
        }
      ],
      "source": [
        "if os.path.exists(\"./models/BOC/RF.pkl\"):\n",
        "    # read model from disk\n",
        "    model = open(\"./models/BOC/RF.pkl\", 'rb').read()\n",
        "    model = pickle.loads(model)\n",
        "else:\n",
        "    model = RandomForestClassifier(random_state = SEED)\n",
        "    model.fit(X_train, y_train)\n",
        "    # write model to disk\n",
        "    mdl_bytes = pickle.dumps(model)\n",
        "    open(\"./models/BOC/RF.pkl\", 'wb').write(mdl_bytes)\n",
        "\n",
        "y_pred = model.predict(X_test)\n",
        "accuracy = accuracy_score(y_test, y_pred)\n",
        "precision, recall, f1_score, _ = precision_recall_fscore_support(y_test, y_pred, average='micro')\n",
        "\n",
        "print(f\"Accuracy: {accuracy * 100:.2f}%\")\n",
        "print(f\"Precesion : {precision * 100:.2f}%\")\n",
        "print(f\"Recall : {recall * 100:.2f}%\")\n",
        "print(f\"F1 score : {f1_score * 100:.2f}%\")"
      ]
    }
  ],
  "metadata": {
    "colab": {
      "provenance": []
    },
    "kernelspec": {
      "display_name": "Python 3",
      "name": "python3"
    },
    "language_info": {
      "codemirror_mode": {
        "name": "ipython",
        "version": 3
      },
      "file_extension": ".py",
      "mimetype": "text/x-python",
      "name": "python",
      "nbconvert_exporter": "python",
      "pygments_lexer": "ipython3",
      "version": "3.11.2"
    }
  },
  "nbformat": 4,
  "nbformat_minor": 0
}
