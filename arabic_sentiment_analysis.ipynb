{
  "cells": [
    {
      "attachments": {},
      "cell_type": "markdown",
      "metadata": {
        "id": "sZdT2cflrPOA"
      },
      "source": [
        "# setting up the environement"
      ]
    },
    {
      "cell_type": "code",
      "execution_count": 2,
      "metadata": {
        "colab": {
          "base_uri": "https://localhost:8080/"
        },
        "id": "EvaKlRLBrPOQ",
        "outputId": "1d16779d-8f24-4dcf-cc2a-82ab1253044f"
      },
      "outputs": [
        {
          "name": "stdout",
          "output_type": "stream",
          "text": [
            "Collecting pyarabic\n",
            "  Downloading PyArabic-0.6.15-py3-none-any.whl (126 kB)\n",
            "\u001b[?25l     \u001b[90m━━━━━━━━━━━━━━━━━━━━━━━━━━━━━━━━━━━━━━━━\u001b[0m \u001b[32m0.0/126.4 kB\u001b[0m \u001b[31m?\u001b[0m eta \u001b[36m-:--:--\u001b[0m\r\u001b[2K     \u001b[91m━━━━━━━━━━━━━━━━━━━━━━━━━━━━━\u001b[0m\u001b[90m╺\u001b[0m\u001b[90m━━━━━━━━━━\u001b[0m \u001b[32m92.2/126.4 kB\u001b[0m \u001b[31m2.6 MB/s\u001b[0m eta \u001b[36m0:00:01\u001b[0m\r\u001b[2K     \u001b[90m━━━━━━━━━━━━━━━━━━━━━━━━━━━━━━━━━━━━━━━━\u001b[0m \u001b[32m126.4/126.4 kB\u001b[0m \u001b[31m2.8 MB/s\u001b[0m eta \u001b[36m0:00:00\u001b[0m\n",
            "\u001b[?25hRequirement already satisfied: six>=1.14.0 in /usr/local/lib/python3.10/dist-packages (from pyarabic) (1.16.0)\n",
            "Installing collected packages: pyarabic\n",
            "Successfully installed pyarabic-0.6.15\n",
            "Collecting Arabic-Stopwords\n",
            "  Downloading Arabic_Stopwords-0.4.3-py3-none-any.whl (360 kB)\n",
            "\u001b[2K     \u001b[90m━━━━━━━━━━━━━━━━━━━━━━━━━━━━━━━━━━━━━━━━\u001b[0m \u001b[32m360.5/360.5 kB\u001b[0m \u001b[31m3.8 MB/s\u001b[0m eta \u001b[36m0:00:00\u001b[0m\n",
            "\u001b[?25hRequirement already satisfied: pyarabic>=0.6.2 in /usr/local/lib/python3.10/dist-packages (from Arabic-Stopwords) (0.6.15)\n",
            "Requirement already satisfied: six>=1.14.0 in /usr/local/lib/python3.10/dist-packages (from pyarabic>=0.6.2->Arabic-Stopwords) (1.16.0)\n",
            "Installing collected packages: Arabic-Stopwords\n",
            "Successfully installed Arabic-Stopwords-0.4.3\n"
          ]
        }
      ],
      "source": [
        "!pip install pyarabic\n",
        "!pip install Arabic-Stopwords"
      ]
    },
    {
      "cell_type": "code",
      "execution_count": 4,
      "metadata": {
        "colab": {
          "base_uri": "https://localhost:8080/"
        },
        "id": "d1txVo3qrPOR",
        "outputId": "89692631-3489-4186-dbd8-d43f9785fef1"
      },
      "outputs": [
        {
          "name": "stderr",
          "output_type": "stream",
          "text": [
            "[nltk_data] Downloading package stopwords to /root/nltk_data...\n",
            "[nltk_data]   Unzipping corpora/stopwords.zip.\n"
          ]
        },
        {
          "data": {
            "text/plain": [
              "True"
            ]
          },
          "execution_count": 4,
          "metadata": {},
          "output_type": "execute_result"
        }
      ],
      "source": [
        "import nltk\n",
        "nltk.download('stopwords')"
      ]
    },
    {
      "attachments": {},
      "cell_type": "markdown",
      "metadata": {
        "id": "u_b2krXhrPOU"
      },
      "source": [
        "# Loading libraries"
      ]
    },
    {
      "cell_type": "code",
      "execution_count": 1,
      "metadata": {
        "id": "rQ55DuGDrPOX"
      },
      "outputs": [],
      "source": [
        "import pandas as pd\n",
        "import numpy as np\n",
        "import matplotlib.pyplot as plt\n",
        "import seaborn as sns\n",
        "import arabicstopwords.arabicstopwords as stp\n",
        "from nltk.corpus import stopwords\n",
        "from nltk.stem.isri import ISRIStemmer\n",
        "import pyarabic.araby as araby\n",
        "\n",
        "from sklearn.model_selection import train_test_split\n",
        "from sklearn.feature_extraction.text import CountVectorizer"
      ]
    },
    {
      "attachments": {},
      "cell_type": "markdown",
      "metadata": {
        "id": "a7Zf1RHRrPOZ"
      },
      "source": [
        "# Loading dataset"
      ]
    },
    {
      "cell_type": "code",
      "execution_count": 4,
      "metadata": {
        "colab": {
          "base_uri": "https://localhost:8080/",
          "height": 676
        },
        "id": "XNWbbbiArPOf",
        "outputId": "20e30dd2-2a58-4c4b-81ad-ac398ff77205"
      },
      "outputs": [
        {
          "data": {
            "text/html": [
              "<div>\n",
              "<style scoped>\n",
              "    .dataframe tbody tr th:only-of-type {\n",
              "        vertical-align: middle;\n",
              "    }\n",
              "\n",
              "    .dataframe tbody tr th {\n",
              "        vertical-align: top;\n",
              "    }\n",
              "\n",
              "    .dataframe thead th {\n",
              "        text-align: right;\n",
              "    }\n",
              "</style>\n",
              "<table border=\"1\" class=\"dataframe\">\n",
              "  <thead>\n",
              "    <tr style=\"text-align: right;\">\n",
              "      <th></th>\n",
              "      <th>rating</th>\n",
              "      <th>review_id</th>\n",
              "      <th>user_id</th>\n",
              "      <th>book_id</th>\n",
              "      <th>review</th>\n",
              "    </tr>\n",
              "  </thead>\n",
              "  <tbody>\n",
              "    <tr>\n",
              "      <th>0</th>\n",
              "      <td>4</td>\n",
              "      <td>338670838</td>\n",
              "      <td>7878381</td>\n",
              "      <td>13431841</td>\n",
              "      <td>\"عزازيل الذي صنعناه ،الكامن في أنفسنا\" يذكرني...</td>\n",
              "    </tr>\n",
              "    <tr>\n",
              "      <th>1</th>\n",
              "      <td>4</td>\n",
              "      <td>39428407</td>\n",
              "      <td>1775679</td>\n",
              "      <td>3554772</td>\n",
              "      <td>من أمتع ما قرأت من روايات بلا شك. وحول الشك ت...</td>\n",
              "    </tr>\n",
              "    <tr>\n",
              "      <th>2</th>\n",
              "      <td>4</td>\n",
              "      <td>32159373</td>\n",
              "      <td>1304410</td>\n",
              "      <td>3554772</td>\n",
              "      <td>رواية تتخذ من التاريخ ،جوًا لها اختار المؤلف ...</td>\n",
              "    </tr>\n",
              "    <tr>\n",
              "      <th>3</th>\n",
              "      <td>1</td>\n",
              "      <td>442326656</td>\n",
              "      <td>11333112</td>\n",
              "      <td>3554772</td>\n",
              "      <td>إني أقدّر هذه الرواية كثيرا، لسبب مختلف عن أس...</td>\n",
              "    </tr>\n",
              "    <tr>\n",
              "      <th>4</th>\n",
              "      <td>5</td>\n",
              "      <td>46492258</td>\n",
              "      <td>580165</td>\n",
              "      <td>3554772</td>\n",
              "      <td>الكاهن الذي أطلق على نفسه اسم هيبا تيمنا بالع...</td>\n",
              "    </tr>\n",
              "    <tr>\n",
              "      <th>5</th>\n",
              "      <td>5</td>\n",
              "      <td>25550893</td>\n",
              "      <td>1252226</td>\n",
              "      <td>3554772</td>\n",
              "      <td>\"عزازيل\" هو اسم رواية يوسف زيدان الثانية و ال...</td>\n",
              "    </tr>\n",
              "    <tr>\n",
              "      <th>6</th>\n",
              "      <td>3</td>\n",
              "      <td>196205720</td>\n",
              "      <td>4407762</td>\n",
              "      <td>3554772</td>\n",
              "      <td>لم استوعب بداية أنها رواية حتى وصلت إلى المنت...</td>\n",
              "    </tr>\n",
              "    <tr>\n",
              "      <th>7</th>\n",
              "      <td>4</td>\n",
              "      <td>73211467</td>\n",
              "      <td>2717148</td>\n",
              "      <td>3554772</td>\n",
              "      <td>هذا هو الأدب . هذه هي الرواية !</td>\n",
              "    </tr>\n",
              "    <tr>\n",
              "      <th>8</th>\n",
              "      <td>4</td>\n",
              "      <td>173066107</td>\n",
              "      <td>5068872</td>\n",
              "      <td>3554772</td>\n",
              "      <td>مقتطفات من رواية عزازيل للكاتب يوسف زيدان ---...</td>\n",
              "    </tr>\n",
              "    <tr>\n",
              "      <th>9</th>\n",
              "      <td>5</td>\n",
              "      <td>417973056</td>\n",
              "      <td>7817769</td>\n",
              "      <td>3554772</td>\n",
              "      <td>في البداية.ولكن بداية مشوقة للغاية.يبدو انني ...</td>\n",
              "    </tr>\n",
              "    <tr>\n",
              "      <th>10</th>\n",
              "      <td>4</td>\n",
              "      <td>122661177</td>\n",
              "      <td>3430785</td>\n",
              "      <td>3554772</td>\n",
              "      <td>إثر دعوة كريمة من أحد الأصدقاء، قرأتُ رواية \"...</td>\n",
              "    </tr>\n",
              "    <tr>\n",
              "      <th>11</th>\n",
              "      <td>5</td>\n",
              "      <td>313965303</td>\n",
              "      <td>5785318</td>\n",
              "      <td>3554772</td>\n",
              "      <td>بعد تجاربى غير الناجحه مع يوسف زيدان وقعت بين...</td>\n",
              "    </tr>\n",
              "    <tr>\n",
              "      <th>12</th>\n",
              "      <td>5</td>\n",
              "      <td>204671531</td>\n",
              "      <td>6194946</td>\n",
              "      <td>3554772</td>\n",
              "      <td>ماذا أقول فى رواية خطفت عقلى خطفا, ثم سلمتنى ...</td>\n",
              "    </tr>\n",
              "    <tr>\n",
              "      <th>13</th>\n",
              "      <td>5</td>\n",
              "      <td>84762273</td>\n",
              "      <td>2268253</td>\n",
              "      <td>3554772</td>\n",
              "      <td>عزازيل . الرواية الحاصلة على الجائزة العالمية...</td>\n",
              "    </tr>\n",
              "    <tr>\n",
              "      <th>14</th>\n",
              "      <td>5</td>\n",
              "      <td>89191747</td>\n",
              "      <td>3277282</td>\n",
              "      <td>3554772</td>\n",
              "      <td>رواية مثيرة للجدل فى خلال قراءتى لها ترددت كث...</td>\n",
              "    </tr>\n",
              "    <tr>\n",
              "      <th>15</th>\n",
              "      <td>5</td>\n",
              "      <td>483341546</td>\n",
              "      <td>15707190</td>\n",
              "      <td>3554772</td>\n",
              "      <td>لا أدري ما اذا كانت هذه رواية حقا ام أنه فعلا...</td>\n",
              "    </tr>\n",
              "    <tr>\n",
              "      <th>16</th>\n",
              "      <td>5</td>\n",
              "      <td>415118027</td>\n",
              "      <td>7739781</td>\n",
              "      <td>13431841</td>\n",
              "      <td>آي رحلة ممتعة تلك التي تخوضها مع هذه الرواية ...</td>\n",
              "    </tr>\n",
              "    <tr>\n",
              "      <th>17</th>\n",
              "      <td>5</td>\n",
              "      <td>174754839</td>\n",
              "      <td>5591839</td>\n",
              "      <td>3554772</td>\n",
              "      <td>من أروع ما قرأت . أسلوب يوسف زيدان رائع و الر...</td>\n",
              "    </tr>\n",
              "    <tr>\n",
              "      <th>18</th>\n",
              "      <td>5</td>\n",
              "      <td>198016346</td>\n",
              "      <td>4676188</td>\n",
              "      <td>3554772</td>\n",
              "      <td>أقرأ أشياء تخالف عقيدتي و أحس أحياناً إنني أق...</td>\n",
              "    </tr>\n",
              "    <tr>\n",
              "      <th>19</th>\n",
              "      <td>3</td>\n",
              "      <td>292862041</td>\n",
              "      <td>2106483</td>\n",
              "      <td>3554772</td>\n",
              "      <td>رؤيتي للكتاب بشكل عام : * أنا لست من محبي الر...</td>\n",
              "    </tr>\n",
              "  </tbody>\n",
              "</table>\n",
              "</div>"
            ],
            "text/plain": [
              "    rating  review_id   user_id   book_id  \\\n",
              "0        4  338670838   7878381  13431841   \n",
              "1        4   39428407   1775679   3554772   \n",
              "2        4   32159373   1304410   3554772   \n",
              "3        1  442326656  11333112   3554772   \n",
              "4        5   46492258    580165   3554772   \n",
              "5        5   25550893   1252226   3554772   \n",
              "6        3  196205720   4407762   3554772   \n",
              "7        4   73211467   2717148   3554772   \n",
              "8        4  173066107   5068872   3554772   \n",
              "9        5  417973056   7817769   3554772   \n",
              "10       4  122661177   3430785   3554772   \n",
              "11       5  313965303   5785318   3554772   \n",
              "12       5  204671531   6194946   3554772   \n",
              "13       5   84762273   2268253   3554772   \n",
              "14       5   89191747   3277282   3554772   \n",
              "15       5  483341546  15707190   3554772   \n",
              "16       5  415118027   7739781  13431841   \n",
              "17       5  174754839   5591839   3554772   \n",
              "18       5  198016346   4676188   3554772   \n",
              "19       3  292862041   2106483   3554772   \n",
              "\n",
              "                                               review  \n",
              "0    \"عزازيل الذي صنعناه ،الكامن في أنفسنا\" يذكرني...  \n",
              "1    من أمتع ما قرأت من روايات بلا شك. وحول الشك ت...  \n",
              "2    رواية تتخذ من التاريخ ،جوًا لها اختار المؤلف ...  \n",
              "3    إني أقدّر هذه الرواية كثيرا، لسبب مختلف عن أس...  \n",
              "4    الكاهن الذي أطلق على نفسه اسم هيبا تيمنا بالع...  \n",
              "5    \"عزازيل\" هو اسم رواية يوسف زيدان الثانية و ال...  \n",
              "6    لم استوعب بداية أنها رواية حتى وصلت إلى المنت...  \n",
              "7                     هذا هو الأدب . هذه هي الرواية !  \n",
              "8    مقتطفات من رواية عزازيل للكاتب يوسف زيدان ---...  \n",
              "9    في البداية.ولكن بداية مشوقة للغاية.يبدو انني ...  \n",
              "10   إثر دعوة كريمة من أحد الأصدقاء، قرأتُ رواية \"...  \n",
              "11   بعد تجاربى غير الناجحه مع يوسف زيدان وقعت بين...  \n",
              "12   ماذا أقول فى رواية خطفت عقلى خطفا, ثم سلمتنى ...  \n",
              "13   عزازيل . الرواية الحاصلة على الجائزة العالمية...  \n",
              "14   رواية مثيرة للجدل فى خلال قراءتى لها ترددت كث...  \n",
              "15   لا أدري ما اذا كانت هذه رواية حقا ام أنه فعلا...  \n",
              "16   آي رحلة ممتعة تلك التي تخوضها مع هذه الرواية ...  \n",
              "17   من أروع ما قرأت . أسلوب يوسف زيدان رائع و الر...  \n",
              "18   أقرأ أشياء تخالف عقيدتي و أحس أحياناً إنني أق...  \n",
              "19   رؤيتي للكتاب بشكل عام : * أنا لست من محبي الر...  "
            ]
          },
          "execution_count": 4,
          "metadata": {},
          "output_type": "execute_result"
        }
      ],
      "source": [
        "SEED = 21\n",
        "dataset = pd.read_csv(\"./datasets/LABR/reviews.tsv\", sep = '\\t', header=None, names = [\"rating\",\"review_id\",\"user_id\",\"book_id\",\"review\"])\n",
        "dataset.head(20)"
      ]
    },
    {
      "cell_type": "code",
      "execution_count": 5,
      "metadata": {
        "id": "dVupB2gArPOj"
      },
      "outputs": [
        {
          "name": "stdout",
          "output_type": "stream",
          "text": [
            "<class 'pandas.core.frame.DataFrame'>\n",
            "RangeIndex: 63257 entries, 0 to 63256\n",
            "Data columns (total 5 columns):\n",
            " #   Column     Non-Null Count  Dtype \n",
            "---  ------     --------------  ----- \n",
            " 0   rating     63257 non-null  int64 \n",
            " 1   review_id  63257 non-null  int64 \n",
            " 2   user_id    63257 non-null  int64 \n",
            " 3   book_id    63257 non-null  int64 \n",
            " 4   review     63257 non-null  object\n",
            "dtypes: int64(4), object(1)\n",
            "memory usage: 2.4+ MB\n"
          ]
        }
      ],
      "source": [
        "dataset.info()"
      ]
    },
    {
      "cell_type": "code",
      "execution_count": 9,
      "metadata": {
        "colab": {
          "base_uri": "https://localhost:8080/"
        },
        "id": "ARGQimuirPOp",
        "outputId": "840a96dc-1360-4378-ab9e-b4d093ac0816"
      },
      "outputs": [
        {
          "name": "stdout",
          "output_type": "stream",
          "text": [
            "rating\n",
            "5    37.589516\n",
            "4    30.121568\n",
            "3    19.287984\n",
            "2     8.354807\n",
            "1     4.646126\n",
            "Name: proportion, dtype: float64\n"
          ]
        }
      ],
      "source": [
        "# checking for the distribution of the ratings\n",
        "print(dataset['rating'].value_counts(normalize=True) * 100)"
      ]
    },
    {
      "attachments": {},
      "cell_type": "markdown",
      "metadata": {},
      "source": [
        "## Reviews distribution"
      ]
    },
    {
      "cell_type": "code",
      "execution_count": 10,
      "metadata": {
        "id": "siBeT87brPOq"
      },
      "outputs": [
        {
          "name": "stdout",
          "output_type": "stream",
          "text": [
            "Axes(0.125,0.11;0.775x0.77)\n"
          ]
        },
        {
          "data": {
            "image/png": "[encoded data removed]",
            "text/plain": [
              "<Figure size 640x480 with 1 Axes>"
            ]
          },
          "metadata": {},
          "output_type": "display_data"
        }
      ],
      "source": [
        "print(dataset['rating'].value_counts(normalize=True).plot(kind='bar'))"
      ]
    },
    {
      "attachments": {},
      "cell_type": "markdown",
      "metadata": {
        "id": "pvhMgMU1rPOr"
      },
      "source": [
        "# Data preprocessing"
      ]
    },
    {
      "attachments": {},
      "cell_type": "markdown",
      "metadata": {},
      "source": [
        "## Rmoving unnecessary columns"
      ]
    },
    {
      "cell_type": "code",
      "execution_count": 11,
      "metadata": {
        "id": "Wba17VE3rPOt"
      },
      "outputs": [],
      "source": [
        "dataset = dataset.drop(['review_id','user_id','book_id'], axis=1)"
      ]
    },
    {
      "attachments": {},
      "cell_type": "markdown",
      "metadata": {},
      "source": [
        "## Removing duplicate entries"
      ]
    },
    {
      "cell_type": "code",
      "execution_count": 12,
      "metadata": {
        "id": "XFArNkierPOu"
      },
      "outputs": [],
      "source": [
        "dataset = dataset.drop_duplicates(subset='review', keep='first')"
      ]
    },
    {
      "cell_type": "code",
      "execution_count": 13,
      "metadata": {
        "id": "D03xD750rPOv"
      },
      "outputs": [],
      "source": [
        "# removing whitespaces\n",
        "import re\n",
        "pattern = r'\\s+|\\n+'\n",
        "dataset[\"review\"] = dataset[\"review\"].apply(lambda document: re.sub(pattern, ' ', document))"
      ]
    },
    {
      "cell_type": "code",
      "execution_count": 14,
      "metadata": {
        "id": "YYy01dkgrPOw"
      },
      "outputs": [],
      "source": [
        "# removing punctuations\n",
        "\n",
        "pattern = r'[^\\w\\s\\u0600-\\u06FF]+|ﷺ|۩|⓵|؟|۞|ﷻ'\n",
        "dataset[\"review\"] = dataset[\"review\"].apply(lambda document: re.sub(pattern, '', document))"
      ]
    },
    {
      "cell_type": "code",
      "execution_count": 15,
      "metadata": {
        "id": "L1EyA5lprPO0"
      },
      "outputs": [],
      "source": [
        "# removing consecutive characters in arabic\n",
        "\n",
        "pattern = r'(.)\\1+'\n",
        "dataset[\"review\"] = dataset[\"review\"].apply(lambda document: re.sub(pattern, r'\\1', document))"
      ]
    },
    {
      "cell_type": "code",
      "execution_count": 16,
      "metadata": {
        "id": "3gISIaCFrPO3"
      },
      "outputs": [],
      "source": [
        "# removing stop words\n",
        "\n",
        "stop_words = set(stopwords.words('arabic'))\n",
        "stop_words.update(stp.stopwords_list())\n",
        "dataset[\"review\"] = dataset[\"review\"].apply(lambda document: ' '.join([word for word in document.split() if word not in stop_words]))"
      ]
    },
    {
      "cell_type": "code",
      "execution_count": 17,
      "metadata": {
        "id": "ISt34exLrPO5"
      },
      "outputs": [],
      "source": [
        "# removing arabic diactrics\n",
        "\n",
        "dataset[\"review\"] = dataset[\"review\"].apply(lambda document: araby.strip_tashkeel(document))"
      ]
    },
    {
      "cell_type": "code",
      "execution_count": 18,
      "metadata": {
        "id": "COdyRGNtrPO6"
      },
      "outputs": [],
      "source": [
        "# removing numbers\n",
        "\n",
        "dataset[\"review\"] = dataset[\"review\"].apply(lambda document: ''.join([i for i in document if not i.isdigit()]))"
      ]
    },
    {
      "cell_type": "code",
      "execution_count": 19,
      "metadata": {
        "id": "X5mYJUCHrPO9"
      },
      "outputs": [],
      "source": [
        "# removing english alphabets\n",
        "\n",
        "dataset[\"review\"] = dataset[\"review\"].apply(lambda document: re.sub(r'[a-zA-Z]+', '', document))"
      ]
    },
    {
      "cell_type": "code",
      "execution_count": 20,
      "metadata": {
        "colab": {
          "base_uri": "https://localhost:8080/"
        },
        "id": "mxFTDW2irPPA",
        "outputId": "50ae316c-bd5c-4b47-8083-d1a6239adc49"
      },
      "outputs": [
        {
          "name": "stderr",
          "output_type": "stream",
          "text": [
            "[nltk_data] Downloading package punkt to\n",
            "[nltk_data]     C:\\Users\\asus\\AppData\\Roaming\\nltk_data...\n",
            "[nltk_data]   Package punkt is already up-to-date!\n"
          ]
        }
      ],
      "source": [
        "# tokenizing the reviews using nltk\n",
        "import nltk\n",
        "nltk.download('punkt')\n",
        "from nltk.tokenize import word_tokenize\n",
        "\n",
        "dataset[\"review\"] = dataset[\"review\"].apply(lambda document: word_tokenize(document))"
      ]
    },
    {
      "cell_type": "code",
      "execution_count": 21,
      "metadata": {
        "id": "0K7mXE_nrPPB"
      },
      "outputs": [],
      "source": [
        "# stemming the reviews using nltk\n",
        "\n",
        "stemmer = ISRIStemmer()\n",
        "dataset[\"review\"] = dataset[\"review\"].apply(lambda document: [stemmer.stem(word) for word in document])"
      ]
    },
    {
      "cell_type": "code",
      "execution_count": 22,
      "metadata": {
        "colab": {
          "base_uri": "https://localhost:8080/",
          "height": 676
        },
        "id": "palQGlltrPPC",
        "outputId": "4695ec3f-96a1-46a3-880c-bef7fd93356e"
      },
      "outputs": [
        {
          "data": {
            "text/html": [
              "<div>\n",
              "<style scoped>\n",
              "    .dataframe tbody tr th:only-of-type {\n",
              "        vertical-align: middle;\n",
              "    }\n",
              "\n",
              "    .dataframe tbody tr th {\n",
              "        vertical-align: top;\n",
              "    }\n",
              "\n",
              "    .dataframe thead th {\n",
              "        text-align: right;\n",
              "    }\n",
              "</style>\n",
              "<table border=\"1\" class=\"dataframe\">\n",
              "  <thead>\n",
              "    <tr style=\"text-align: right;\">\n",
              "      <th></th>\n",
              "      <th>rating</th>\n",
              "      <th>review</th>\n",
              "    </tr>\n",
              "  </thead>\n",
              "  <tbody>\n",
              "    <tr>\n",
              "      <th>0</th>\n",
              "      <td>4</td>\n",
              "      <td>[عزازيل, صنع, ،الكام, ذكر, وسف, زيد, بـ, رخس, ...</td>\n",
              "    </tr>\n",
              "    <tr>\n",
              "      <th>1</th>\n",
              "      <td>4</td>\n",
              "      <td>[متع, قرأ, روي, شك, الش, دند, عزازيل, هود, حمد...</td>\n",
              "    </tr>\n",
              "    <tr>\n",
              "      <th>2</th>\n",
              "      <td>4</td>\n",
              "      <td>[روي, ارخ, ،جا, خار, ؤلف, فتر, ارخ, ندر, نول, ...</td>\n",
              "    </tr>\n",
              "    <tr>\n",
              "      <th>3</th>\n",
              "      <td>1</td>\n",
              "      <td>[قدر, روي, كثيرا،, لسب, خلف, سبب, خرين،, علم, ...</td>\n",
              "    </tr>\n",
              "    <tr>\n",
              "      <th>4</th>\n",
              "      <td>5</td>\n",
              "      <td>[كهن, طلق, اسم, هيب, تيم, علم, وثن, هيب, فر, ق...</td>\n",
              "    </tr>\n",
              "    <tr>\n",
              "      <th>5</th>\n",
              "      <td>5</td>\n",
              "      <td>[عزازيل, اسم, روي, وسف, زيد, ثني, صدر, ؤخر, دا...</td>\n",
              "    </tr>\n",
              "    <tr>\n",
              "      <th>6</th>\n",
              "      <td>3</td>\n",
              "      <td>[وعب, بدي, روي, وصل, نصف, قرب, قرأ, كان, وقع, ...</td>\n",
              "    </tr>\n",
              "    <tr>\n",
              "      <th>7</th>\n",
              "      <td>4</td>\n",
              "      <td>[ادب, روي]</td>\n",
              "    </tr>\n",
              "    <tr>\n",
              "      <th>8</th>\n",
              "      <td>4</td>\n",
              "      <td>[قطف, روي, عزازيل, كتب, وسف, زيد, خار, وان, شي...</td>\n",
              "    </tr>\n",
              "    <tr>\n",
              "      <th>9</th>\n",
              "      <td>5</td>\n",
              "      <td>[دايةول, بدي, شوق, لغايةيبدو, اني, وقع, كنز, ا...</td>\n",
              "    </tr>\n",
              "    <tr>\n",
              "      <th>10</th>\n",
              "      <td>4</td>\n",
              "      <td>[اثر, دعة, كرم, صدقاء،, قرأ, روي, عزازيل, صدر,...</td>\n",
              "    </tr>\n",
              "    <tr>\n",
              "      <th>11</th>\n",
              "      <td>5</td>\n",
              "      <td>[جاربى, نجح, وسف, زيد, وقع, يدى, ريه, عزازيل, ...</td>\n",
              "    </tr>\n",
              "    <tr>\n",
              "      <th>12</th>\n",
              "      <td>5</td>\n",
              "      <td>[اقل, فى, روي, خطف, عقلى, خطف, تنى, عقل, اخر, ...</td>\n",
              "    </tr>\n",
              "    <tr>\n",
              "      <th>13</th>\n",
              "      <td>5</td>\n",
              "      <td>[عزازيل, روي, حصل, جئز, علم, لرا, عرب, كأفضل, ...</td>\n",
              "    </tr>\n",
              "    <tr>\n",
              "      <th>14</th>\n",
              "      <td>5</td>\n",
              "      <td>[روي, ثير, جدل, فى, قراءتى, ترد, سحق, قديرلو, ...</td>\n",
              "    </tr>\n",
              "    <tr>\n",
              "      <th>15</th>\n",
              "      <td>5</td>\n",
              "      <td>[ادر, اذا, كانت, روي, ام, فعل, كنز, رقق, تم, د...</td>\n",
              "    </tr>\n",
              "    <tr>\n",
              "      <th>16</th>\n",
              "      <td>5</td>\n",
              "      <td>[رحل, تعة, تخض, روي, وسف, زيد, ظهر, برع, عهد, ...</td>\n",
              "    </tr>\n",
              "    <tr>\n",
              "      <th>17</th>\n",
              "      <td>5</td>\n",
              "      <td>[ارع, قرأ, سلب, وسف, زيد, رئع, روي, حستنى, خطر...</td>\n",
              "    </tr>\n",
              "    <tr>\n",
              "      <th>18</th>\n",
              "      <td>5</td>\n",
              "      <td>[قرأ, شيء, خلف, عقد, احس, احا, قرأ, جيل, رغب, ...</td>\n",
              "    </tr>\n",
              "    <tr>\n",
              "      <th>19</th>\n",
              "      <td>3</td>\n",
              "      <td>[رؤت, كتب, شكل, عام, حبي, روي, أفقد, صبر, قرء,...</td>\n",
              "    </tr>\n",
              "  </tbody>\n",
              "</table>\n",
              "</div>"
            ],
            "text/plain": [
              "    rating                                             review\n",
              "0        4  [عزازيل, صنع, ،الكام, ذكر, وسف, زيد, بـ, رخس, ...\n",
              "1        4  [متع, قرأ, روي, شك, الش, دند, عزازيل, هود, حمد...\n",
              "2        4  [روي, ارخ, ،جا, خار, ؤلف, فتر, ارخ, ندر, نول, ...\n",
              "3        1  [قدر, روي, كثيرا،, لسب, خلف, سبب, خرين،, علم, ...\n",
              "4        5  [كهن, طلق, اسم, هيب, تيم, علم, وثن, هيب, فر, ق...\n",
              "5        5  [عزازيل, اسم, روي, وسف, زيد, ثني, صدر, ؤخر, دا...\n",
              "6        3  [وعب, بدي, روي, وصل, نصف, قرب, قرأ, كان, وقع, ...\n",
              "7        4                                         [ادب, روي]\n",
              "8        4  [قطف, روي, عزازيل, كتب, وسف, زيد, خار, وان, شي...\n",
              "9        5  [دايةول, بدي, شوق, لغايةيبدو, اني, وقع, كنز, ا...\n",
              "10       4  [اثر, دعة, كرم, صدقاء،, قرأ, روي, عزازيل, صدر,...\n",
              "11       5  [جاربى, نجح, وسف, زيد, وقع, يدى, ريه, عزازيل, ...\n",
              "12       5  [اقل, فى, روي, خطف, عقلى, خطف, تنى, عقل, اخر, ...\n",
              "13       5  [عزازيل, روي, حصل, جئز, علم, لرا, عرب, كأفضل, ...\n",
              "14       5  [روي, ثير, جدل, فى, قراءتى, ترد, سحق, قديرلو, ...\n",
              "15       5  [ادر, اذا, كانت, روي, ام, فعل, كنز, رقق, تم, د...\n",
              "16       5  [رحل, تعة, تخض, روي, وسف, زيد, ظهر, برع, عهد, ...\n",
              "17       5  [ارع, قرأ, سلب, وسف, زيد, رئع, روي, حستنى, خطر...\n",
              "18       5  [قرأ, شيء, خلف, عقد, احس, احا, قرأ, جيل, رغب, ...\n",
              "19       3  [رؤت, كتب, شكل, عام, حبي, روي, أفقد, صبر, قرء,..."
            ]
          },
          "execution_count": 22,
          "metadata": {},
          "output_type": "execute_result"
        }
      ],
      "source": [
        "# checking the first 20 rows of the dataset\n",
        "\n",
        "dataset.head(20)"
      ]
    },
    {
      "attachments": {},
      "cell_type": "markdown",
      "metadata": {},
      "source": [
        "## Saving the preprocessed data"
      ]
    },
    {
      "cell_type": "code",
      "execution_count": null,
      "metadata": {},
      "outputs": [],
      "source": [
        "dataset.to_csv(\"preprocessed_data.csv\")"
      ]
    },
    {
      "attachments": {},
      "cell_type": "markdown",
      "metadata": {
        "id": "RiSTgcXDrPPE"
      },
      "source": [
        "# Text representation\n",
        "## BoW (Bag-of-Words)"
      ]
    },
    {
      "cell_type": "code",
      "execution_count": 30,
      "metadata": {
        "id": "V8BLOkyurPPL"
      },
      "outputs": [],
      "source": [
        "X_train , X_test , y_train , y_test = train_test_split(dataset['review'], dataset['rating'], test_size = 0.2, random_state = SEED)"
      ]
    },
    {
      "cell_type": "code",
      "execution_count": 32,
      "metadata": {
        "id": "2o-G__sErPPN"
      },
      "outputs": [],
      "source": [
        "# creating the bag of words model\n",
        "\n",
        "cv = CountVectorizer(max_features=5000)\n",
        "X_train = cv.fit_transform(X_train).toarray()\n",
        "X_test = cv.transform(X_test).toarray()"
      ]
    },
    {
      "cell_type": "markdown",
      "metadata": {
        "id": "4punm8QWrPPu"
      },
      "source": [
        "## Performance evaluation"
      ]
    },
    {
      "cell_type": "code",
      "execution_count": 33,
      "metadata": {
        "colab": {
          "base_uri": "https://localhost:8080/"
        },
        "id": "Ookjl4jMrPPw",
        "outputId": "8a142736-ac6e-4056-9203-e3382b16668c"
      },
      "outputs": [
        {
          "name": "stdout",
          "output_type": "stream",
          "text": [
            "The accuracy of the model is: 0.1288899983358296\n"
          ]
        }
      ],
      "source": [
        "# Naive Bayes\n",
        "\n",
        "from sklearn.naive_bayes import GaussianNB\n",
        "from sklearn.metrics import accuracy_score\n",
        "\n",
        "# training the model\n",
        "gnb = GaussianNB()\n",
        "gnb.fit(X_train, y_train)\n",
        "\n",
        "# making predictions\n",
        "y_pred = gnb.predict(X_test)\n",
        "\n",
        "# calculating the accuracy\n",
        "accuracy = accuracy_score(y_test, y_pred)\n",
        "\n",
        "print(f\"The accuracy of the model is: {accuracy}\")\n"
      ]
    },
    {
      "cell_type": "code",
      "execution_count": null,
      "metadata": {
        "id": "hbw-7IvCrPPx"
      },
      "outputs": [],
      "source": [
        "# logistic regression\n",
        "\n",
        "from sklearn.linear_model import LogisticRegression\n",
        "\n",
        "# training the model\n",
        "lr = LogisticRegression(max_iter=1000)\n",
        "lr.fit(X_train, y_train)\n",
        "\n",
        "# making predictions\n",
        "y_pred = lr.predict(X_test)\n",
        "\n",
        "# calculating the accuracy\n",
        "accuracy = accuracy_score(y_test, y_pred)\n",
        "print(f\"The accuracy of the model is: {accuracy}\")"
      ]
    },
    {
      "cell_type": "code",
      "execution_count": null,
      "metadata": {
        "id": "KjNeKQxqrPPz"
      },
      "outputs": [],
      "source": [
        "# SVM \n",
        "\n",
        "\n",
        "\n",
        "scaler = StandardScaler()\n",
        "svm = SVC()\n",
        "\n",
        "scaled_X_train = scaler.fit_transform(X_train)\n",
        "scaled_X_test = scaler.transform(X_test)\n",
        "\n",
        "componenets = [100, 200, 500]\n",
        "scores = []\n",
        "for n_components in componenets:\n",
        "    pca = PCA(n_components = n_components)\n",
        "    X_train_SVM = pca.fit_transform(scaled_X_train)\n",
        "    X_test_SVM  = pca.transform(scaled_X_test)\n",
        "\n",
        "    svm.fit(X_train_SVM, y_train)\n",
        "    y_pred = svm.predict(X_test_SVM)\n",
        "    accuracy = accuracy_score(y_test, y_pred)\n",
        "    scores.append(accuracy)\n",
        "\n",
        "plt.plot(componenets, scores)\n",
        "plt.xlabel('# of componenets')\n",
        "plt.ylabel('Accuracy')\n",
        "plt.show()"
      ]
    },
    {
      "cell_type": "code",
      "execution_count": null,
      "metadata": {
        "id": "u5G-NdfGrPP0"
      },
      "outputs": [],
      "source": [
        "# Random Forest\n",
        "from sklearn.ensemble import RandomForestClassifier\n",
        "\n",
        "# training the model\n",
        "rf = RandomForestClassifier()\n",
        "rf.fit(X_train, y_train)\n",
        "\n",
        "# making predictions\n",
        "y_pred = rf.predict(X_test)\n",
        "\n",
        "# calculating the accuracy\n",
        "accuracy = accuracy_score(y_test, y_pred)\n",
        "print(f\"The accuracy of the model is: {accuracy}\")"
      ]
    },
    {
      "cell_type": "markdown",
      "metadata": {
        "id": "4SQgS7fcrPP1"
      },
      "source": [
        "## TF-IDF"
      ]
    },
    {
      "cell_type": "code",
      "execution_count": null,
      "metadata": {
        "id": "x9LC5YK6rPP2"
      },
      "outputs": [],
      "source": [
        "# TF-IDF\n",
        "from sklearn.feature_extraction.text import TfidfVectorizer\n",
        "\n",
        "X_train , X_test , y_train , y_test = train_test_split(dataset['review'], dataset['rating'], test_size = 0.2, random_state = SEED)\n",
        "\n",
        "# creating the TF-IDF model \n",
        "\n",
        "vectorizer = TfidfVectorizer()\n",
        "\n",
        "X_train = vectorizer.fit_transform(X_train).toarray()\n",
        "X_test = vectorizer.transform(X_test).toarray()"
      ]
    },
    {
      "cell_type": "markdown",
      "metadata": {},
      "source": [
        "### Performance Evaluation"
      ]
    },
    {
      "cell_type": "code",
      "execution_count": null,
      "metadata": {
        "id": "KgYAxB3urPP4"
      },
      "outputs": [],
      "source": [
        "# logistic regression\n",
        "\n",
        "from sklearn.linear_model import LogisticRegression\n",
        "\n",
        "# training the model\n",
        "lr = LogisticRegression(max_iter=1000)\n",
        "lr.fit(X_train, y_train)\n",
        "\n",
        "# making predictions\n",
        "y_pred = lr.predict(X_test)\n",
        "\n",
        "# calculating the accuracy\n",
        "accuracy = accuracy_score(y_test, y_pred)\n",
        "\n",
        "print(f\"The accuracy of the model is: {accuracy}\")"
      ]
    },
    {
      "cell_type": "code",
      "execution_count": null,
      "metadata": {
        "id": "bKyhjNs8rPP7"
      },
      "outputs": [],
      "source": [
        "# naive bayes\n",
        "from sklearn.naive_bayes import MultinomialNB\n",
        "from sklearn.metrics import accuracy_score\n",
        "\n",
        "# training the model\n",
        "gnb = MultinomialNB()\n",
        "gnb.fit(X_train, y_train)\n",
        "\n",
        "# making predictions\n",
        "y_pred = gnb.predict(X_test)\n",
        "\n",
        "# calculating the accuracy\n",
        "accuracy = accuracy_score(y_test, y_pred)\n",
        "print(f\"The accuracy of the model is: {accuracy}\")"
      ]
    },
    {
      "cell_type": "code",
      "execution_count": null,
      "metadata": {},
      "outputs": [],
      "source": [
        "# SVM \n",
        "scaler = StandardScaler()\n",
        "pca = PCA(n_components = 200)\n",
        "svm = SVC()\n",
        "\n",
        "X_train_SVM = pca.fit_transform(scaler.fit_transform(X_train.copy()))\n",
        "X_test_SVM = pca.transform(scaler.transform(X_test.copy()))\n",
        "\n",
        "y_train_SVM = y_train\n",
        "y_test_SVM = y_test\n",
        "\n",
        "svm.fit(X_train_SVM, y_train_SVM)\n",
        "y_pred = svm.predict(X_test_SVM)\n",
        "accuracy = accuracy_score(y_test_SVM, y_pred)\n",
        "print(f\"Accuracy: {accuracy * 100:.2f}%\")"
      ]
    },
    {
      "cell_type": "code",
      "execution_count": null,
      "metadata": {},
      "outputs": [],
      "source": [
        "# Random Forest \n",
        "\n",
        "rf = RandomForestClassifier()\n",
        "\n",
        "rf.fit(X_train, y_train)\n",
        "y_pred = rf.predict(X_test)\n",
        "accuracy = accuracy_score(y_test, y_pred)\n",
        "print(f\"Random Forest accuracy: {accuracy * 100:.2f}%\")"
      ]
    },
    {
      "cell_type": "markdown",
      "metadata": {},
      "source": [
        "## LDA"
      ]
    },
    {
      "cell_type": "code",
      "execution_count": null,
      "metadata": {},
      "outputs": [],
      "source": [
        "# LDA \n",
        "X_train, X_test, y_train, y_test = train_test_split(data[\"review\"], data[\"rating\"], test_size = 0.2, random_state = SEED, stratify = data[\"rating\"])\n",
        "\n",
        "vectorizer = CountVectorizer()\n",
        "\n",
        "X_train = vectorizer.fit_transform(X_train).toarray()\n",
        "X_test = vectorizer.transform(X_test).toarray()\n",
        "\n",
        "lda = LatentDirichletAllocation(n_components = 170, random_state = SEED)\n",
        "lda.fit(X_train)\n",
        "X_train = lda.transform(X_train)\n",
        "X_test = lda.transform(X_test)"
      ]
    },
    {
      "cell_type": "markdown",
      "metadata": {},
      "source": [
        "## LSA"
      ]
    },
    {
      "cell_type": "code",
      "execution_count": null,
      "metadata": {},
      "outputs": [],
      "source": [
        "lsa = TruncatedSVD(n_components = 10, random_state = SEED)\n",
        "X_train_lsa = lsa.fit_transform(X_train)\n",
        "X_test_lsa = lsa.transform(X_test)\n",
        "model = LogisticRegression(max_iter = 1000)\n",
        "model.fit(X_train_lsa, y_train)\n",
        "y_pred = model.predict(X_test_lsa)\n",
        "accuracy = accuracy_score(y_test, y_pred)\n",
        "print(f\"Accuracy: {accuracy * 100:.2f}%\")"
      ]
    },
    {
      "cell_type": "markdown",
      "metadata": {},
      "source": [
        "## Bag of Concepts"
      ]
    },
    {
      "cell_type": "markdown",
      "metadata": {},
      "source": [
        "## Word Embeddings"
      ]
    },
    {
      "cell_type": "code",
      "execution_count": null,
      "metadata": {},
      "outputs": [],
      "source": [
        "model = gensim.models.Word2Vec.load(\"./aravec/tweets_cbow_300\")\n",
        "word_vecs = {}\n",
        "for tweet in data[\"tweet\"]:\n",
        "    for word in tweet.split(\" \"):\n",
        "        try:\n",
        "            word_vecs[word] = model.wv[word]\n",
        "        except Exception:\n",
        "            pass"
      ]
    },
    {
      "cell_type": "markdown",
      "metadata": {},
      "source": [
        "## Clustering the words embeddings\n"
      ]
    },
    {
      "cell_type": "code",
      "execution_count": null,
      "metadata": {},
      "outputs": [],
      "source": [
        "NUM_CONCEPTS = 80\n",
        "\n",
        "model = KMeans(n_clusters = NUM_CONCEPTS)\n",
        "X = list(word_vecs.values())\n",
        "model.fit(X)\n",
        "concepts = model.predict(X)"
      ]
    },
    {
      "cell_type": "markdown",
      "metadata": {},
      "source": [
        "## Concept Extraction"
      ]
    },
    {
      "cell_type": "code",
      "execution_count": null,
      "metadata": {},
      "outputs": [],
      "source": [
        "NUM_DOCS = data.shape[0]\n",
        "\n",
        "# construct a word to concept mapping\n",
        "word_concept = {}\n",
        "for index, word in enumerate(word_vecs.keys()):\n",
        "    word_concept[word] = concepts[index]\n",
        "print(word_concept)"
      ]
    },
    {
      "cell_type": "code",
      "execution_count": null,
      "metadata": {},
      "outputs": [],
      "source": [
        "# construct a concept to document count mapping\n",
        "concept_docs = defaultdict(int)\n",
        "for doc in data[\"tweet\"]:\n",
        "    doc_concepts = set()\n",
        "    for word in doc.split(\" \"):\n",
        "        try:\n",
        "            doc_concepts.add(word_concept[word])\n",
        "        except Exception:\n",
        "            pass\n",
        "    for concept in doc_concepts:\n",
        "        concept_docs[concept] += 1\n",
        "print(concept_docs)"
      ]
    },
    {
      "cell_type": "code",
      "execution_count": null,
      "metadata": {},
      "outputs": [],
      "source": [
        "def cf_idf(document: str):\n",
        "    \"\"\" Returns the CD-IDF representataion of a document \"\"\"\n",
        "    res = [0 for _ in range(NUM_CONCEPTS)]\n",
        "    concepts_counts = defaultdict(int)\n",
        "    for word in document.split(\" \"):\n",
        "        try:\n",
        "            concepts_counts[word_concept[word]] += 1\n",
        "        except:\n",
        "            pass\n",
        "    n_k = sum(concepts_counts.values()) # number of concepts present in the document (duplicates are considered!)\n",
        "    for concept in range(NUM_CONCEPTS):\n",
        "        if concepts_counts[concept] != 0:\n",
        "            res[concept] = (concepts_counts[concept] / n_k) * log(NUM_DOCS / (1 + concept_docs[concept]))\n",
        "    return res"
      ]
    },
    {
      "cell_type": "code",
      "execution_count": null,
      "metadata": {},
      "outputs": [],
      "source": [
        "X = [cf_idf(tweet) for tweet in data[\"tweet\"]]\n",
        "y = data[\"class\"]\n",
        "\n",
        "X_train, X_test, y_train, y_test = train_test_split(X, y, test_size = .2, random_state = SEED, stratify = y)"
      ]
    },
    {
      "cell_type": "markdown",
      "metadata": {},
      "source": [
        "### Performance Evaluation"
      ]
    },
    {
      "cell_type": "code",
      "execution_count": null,
      "metadata": {},
      "outputs": [],
      "source": [
        "# Naive Bayes\n",
        "\n",
        "model = GaussianNB()\n",
        "\n",
        "model.fit(X_train, y_train)\n",
        "y_pred = model.predict(X_test)\n",
        "accuracy = accuracy_score(y_test, y_pred)\n",
        "print(f\"Accuracy: {accuracy * 100:.2f}%\")"
      ]
    },
    {
      "cell_type": "code",
      "execution_count": null,
      "metadata": {},
      "outputs": [],
      "source": [
        "# Logistic Regression\n",
        "\n",
        "model = LogisticRegression(max_iter = 1000)\n",
        "model.fit(X_train, y_train)\n",
        "y_pred = model.predict(X_test)\n",
        "accuracy = accuracy_score(y_test, y_pred)\n",
        "print(f\"Accuracy: {accuracy * 100:.2f}%\")"
      ]
    },
    {
      "cell_type": "code",
      "execution_count": null,
      "metadata": {},
      "outputs": [],
      "source": [
        "# SVM \n",
        "model = SVC()\n",
        "model.fit(X_train, y_train)\n",
        "y_pred = model.predict(X_test)\n",
        "accuracy = accuracy_score(y_test, y_pred)\n",
        "print(f\"Accuracy: {accuracy * 100:.2f}%\")"
      ]
    },
    {
      "cell_type": "code",
      "execution_count": null,
      "metadata": {},
      "outputs": [],
      "source": []
    }
  ],
  "metadata": {
    "colab": {
      "provenance": []
    },
    "kernelspec": {
      "display_name": "Python 3",
      "name": "python3"
    },
    "language_info": {
      "codemirror_mode": {
        "name": "ipython",
        "version": 3
      },
      "file_extension": ".py",
      "mimetype": "text/x-python",
      "name": "python",
      "nbconvert_exporter": "python",
      "pygments_lexer": "ipython3",
      "version": "3.11.2"
    }
  },
  "nbformat": 4,
  "nbformat_minor": 0
}
